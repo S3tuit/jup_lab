{
 "cells": [
  {
   "cell_type": "code",
   "execution_count": 1,
   "metadata": {},
   "outputs": [],
   "source": [
    "import pandas as pd\n",
    "import numpy as np\n",
    "import matplotlib.pyplot as plt\n",
    "import seaborn as sns\n",
    "import seaborn as sns; sns.set()"
   ]
  },
  {
   "cell_type": "code",
   "execution_count": 2,
   "metadata": {},
   "outputs": [
    {
     "data": {
      "text/html": [
       "<div>\n",
       "<style scoped>\n",
       "    .dataframe tbody tr th:only-of-type {\n",
       "        vertical-align: middle;\n",
       "    }\n",
       "\n",
       "    .dataframe tbody tr th {\n",
       "        vertical-align: top;\n",
       "    }\n",
       "\n",
       "    .dataframe thead th {\n",
       "        text-align: right;\n",
       "    }\n",
       "</style>\n",
       "<table border=\"1\" class=\"dataframe\">\n",
       "  <thead>\n",
       "    <tr style=\"text-align: right;\">\n",
       "      <th></th>\n",
       "      <th>id</th>\n",
       "      <th>name</th>\n",
       "      <th>price</th>\n",
       "      <th>room_type</th>\n",
       "      <th>number_of_reviews</th>\n",
       "      <th>stars</th>\n",
       "      <th>bed</th>\n",
       "      <th>bedroom</th>\n",
       "      <th>bath</th>\n",
       "      <th>neighbourhood</th>\n",
       "      <th>latitude</th>\n",
       "      <th>longitude</th>\n",
       "      <th>minimum_nights</th>\n",
       "      <th>last_review</th>\n",
       "      <th>reviews_per_month</th>\n",
       "      <th>number_of_reviews_ltm</th>\n",
       "      <th>calculated_host_listings_count</th>\n",
       "      <th>host_id</th>\n",
       "      <th>days_online</th>\n",
       "    </tr>\n",
       "  </thead>\n",
       "  <tbody>\n",
       "    <tr>\n",
       "      <th>0</th>\n",
       "      <td>23986</td>\n",
       "      <td>Rental unit in Milan · ★4.64 · 1 bedroom · 1 b...</td>\n",
       "      <td>150.0</td>\n",
       "      <td>Entire home/apt</td>\n",
       "      <td>26.0</td>\n",
       "      <td>4.64</td>\n",
       "      <td>1.0</td>\n",
       "      <td>1.0</td>\n",
       "      <td>1.0</td>\n",
       "      <td>NAVIGLI</td>\n",
       "      <td>45.44806</td>\n",
       "      <td>9.17373</td>\n",
       "      <td>1.0</td>\n",
       "      <td>2023-07-29</td>\n",
       "      <td>0.18</td>\n",
       "      <td>4.0</td>\n",
       "      <td>1.0</td>\n",
       "      <td>95941</td>\n",
       "      <td>4261.0</td>\n",
       "    </tr>\n",
       "    <tr>\n",
       "      <th>1</th>\n",
       "      <td>40470</td>\n",
       "      <td>Rental unit in Milan · ★4.67 · 2 bedrooms · 4 ...</td>\n",
       "      <td>80.0</td>\n",
       "      <td>Entire home/apt</td>\n",
       "      <td>41.0</td>\n",
       "      <td>4.67</td>\n",
       "      <td>4.0</td>\n",
       "      <td>2.0</td>\n",
       "      <td>1.0</td>\n",
       "      <td>VIALE MONZA</td>\n",
       "      <td>45.52023</td>\n",
       "      <td>9.22747</td>\n",
       "      <td>3.0</td>\n",
       "      <td>2023-09-09</td>\n",
       "      <td>0.26</td>\n",
       "      <td>3.0</td>\n",
       "      <td>2.0</td>\n",
       "      <td>174203</td>\n",
       "      <td>4752.0</td>\n",
       "    </tr>\n",
       "    <tr>\n",
       "      <th>2</th>\n",
       "      <td>304050</td>\n",
       "      <td>Rental unit in Milan · ★4.91 · 1 bedroom · 1 b...</td>\n",
       "      <td>49.0</td>\n",
       "      <td>Private room</td>\n",
       "      <td>264.0</td>\n",
       "      <td>4.91</td>\n",
       "      <td>1.0</td>\n",
       "      <td>1.0</td>\n",
       "      <td>1.0</td>\n",
       "      <td>XXII MARZO</td>\n",
       "      <td>45.45709</td>\n",
       "      <td>9.21531</td>\n",
       "      <td>2.0</td>\n",
       "      <td>2023-11-21</td>\n",
       "      <td>1.92</td>\n",
       "      <td>33.0</td>\n",
       "      <td>2.0</td>\n",
       "      <td>1566887</td>\n",
       "      <td>4124.0</td>\n",
       "    </tr>\n",
       "    <tr>\n",
       "      <th>3</th>\n",
       "      <td>46536</td>\n",
       "      <td>Rental unit in Milan · ★4.53 · 2 bedrooms · 3 ...</td>\n",
       "      <td>110.0</td>\n",
       "      <td>Entire home/apt</td>\n",
       "      <td>35.0</td>\n",
       "      <td>4.53</td>\n",
       "      <td>3.0</td>\n",
       "      <td>2.0</td>\n",
       "      <td>1.0</td>\n",
       "      <td>VIALE MONZA</td>\n",
       "      <td>45.52276</td>\n",
       "      <td>9.22478</td>\n",
       "      <td>3.0</td>\n",
       "      <td>2023-10-30</td>\n",
       "      <td>0.24</td>\n",
       "      <td>5.0</td>\n",
       "      <td>1.0</td>\n",
       "      <td>138683</td>\n",
       "      <td>4402.0</td>\n",
       "    </tr>\n",
       "    <tr>\n",
       "      <th>4</th>\n",
       "      <td>333223</td>\n",
       "      <td>Rental unit in Milano · ★5.0 · 1 bedroom · 2 b...</td>\n",
       "      <td>150.0</td>\n",
       "      <td>Private room</td>\n",
       "      <td>3.0</td>\n",
       "      <td>5.00</td>\n",
       "      <td>2.0</td>\n",
       "      <td>1.0</td>\n",
       "      <td>1.0</td>\n",
       "      <td>MAGENTA - S. VITTORE</td>\n",
       "      <td>45.46097</td>\n",
       "      <td>9.16431</td>\n",
       "      <td>1.0</td>\n",
       "      <td>2023-04-19</td>\n",
       "      <td>0.02</td>\n",
       "      <td>1.0</td>\n",
       "      <td>5.0</td>\n",
       "      <td>1697947</td>\n",
       "      <td>4260.0</td>\n",
       "    </tr>\n",
       "  </tbody>\n",
       "</table>\n",
       "</div>"
      ],
      "text/plain": [
       "       id                                               name  price  \\\n",
       "0   23986  Rental unit in Milan · ★4.64 · 1 bedroom · 1 b...  150.0   \n",
       "1   40470  Rental unit in Milan · ★4.67 · 2 bedrooms · 4 ...   80.0   \n",
       "2  304050  Rental unit in Milan · ★4.91 · 1 bedroom · 1 b...   49.0   \n",
       "3   46536  Rental unit in Milan · ★4.53 · 2 bedrooms · 3 ...  110.0   \n",
       "4  333223  Rental unit in Milano · ★5.0 · 1 bedroom · 2 b...  150.0   \n",
       "\n",
       "         room_type  number_of_reviews  stars  bed  bedroom  bath  \\\n",
       "0  Entire home/apt               26.0   4.64  1.0      1.0   1.0   \n",
       "1  Entire home/apt               41.0   4.67  4.0      2.0   1.0   \n",
       "2     Private room              264.0   4.91  1.0      1.0   1.0   \n",
       "3  Entire home/apt               35.0   4.53  3.0      2.0   1.0   \n",
       "4     Private room                3.0   5.00  2.0      1.0   1.0   \n",
       "\n",
       "          neighbourhood  latitude  longitude  minimum_nights last_review  \\\n",
       "0               NAVIGLI  45.44806    9.17373             1.0  2023-07-29   \n",
       "1           VIALE MONZA  45.52023    9.22747             3.0  2023-09-09   \n",
       "2            XXII MARZO  45.45709    9.21531             2.0  2023-11-21   \n",
       "3           VIALE MONZA  45.52276    9.22478             3.0  2023-10-30   \n",
       "4  MAGENTA - S. VITTORE  45.46097    9.16431             1.0  2023-04-19   \n",
       "\n",
       "   reviews_per_month  number_of_reviews_ltm  calculated_host_listings_count  \\\n",
       "0               0.18                    4.0                             1.0   \n",
       "1               0.26                    3.0                             2.0   \n",
       "2               1.92                   33.0                             2.0   \n",
       "3               0.24                    5.0                             1.0   \n",
       "4               0.02                    1.0                             5.0   \n",
       "\n",
       "   host_id  days_online  \n",
       "0    95941       4261.0  \n",
       "1   174203       4752.0  \n",
       "2  1566887       4124.0  \n",
       "3   138683       4402.0  \n",
       "4  1697947       4260.0  "
      ]
     },
     "execution_count": 2,
     "metadata": {},
     "output_type": "execute_result"
    }
   ],
   "source": [
    "df = pd.read_csv(r'C:\\Users\\matte\\OneDrive\\Desktop\\GitHub\\data\\Airbnb\\listings_cleaned.csv')\n",
    "df.head()"
   ]
  },
  {
   "cell_type": "markdown",
   "metadata": {},
   "source": [
    "### Handling outliers"
   ]
  },
  {
   "cell_type": "markdown",
   "metadata": {},
   "source": [
    "#### Reviews Number"
   ]
  },
  {
   "cell_type": "code",
   "execution_count": 3,
   "metadata": {},
   "outputs": [
    {
     "data": {
      "image/png": "[encoded data removed]",
      "text/plain": [
       "<Figure size 640x480 with 1 Axes>"
      ]
     },
     "metadata": {},
     "output_type": "display_data"
    }
   ],
   "source": [
    "df['number_of_reviews'].plot.hist();"
   ]
  },
  {
   "cell_type": "code",
   "execution_count": 4,
   "metadata": {},
   "outputs": [
    {
     "name": "stdout",
     "output_type": "stream",
     "text": [
      "Low-Band Outlier: -59.5\n",
      "High-Band Outlier: 112.5\n",
      "------\n",
      "Low-Band Extreme Outlier: -124.0\n",
      "High-Band Extreme Outlier: 177.0\n"
     ]
    }
   ],
   "source": [
    "def outliers(x):\n",
    "    q1 = np.percentile(x, 25)\n",
    "    q3 = np.percentile(x, 75)\n",
    "    iqr = q3 - q1\n",
    "    print(f'Low-Band Outlier: {q1-1.5*iqr}')\n",
    "    print(f'High-Band Outlier: {q3+1.5*iqr}')\n",
    "    print('------')\n",
    "    print(f'Low-Band Extreme Outlier: {q1-3*iqr}')\n",
    "    print(f'High-Band Extreme Outlier: {q3+3*iqr}')\n",
    "\n",
    "outliers(df['number_of_reviews'])"
   ]
  },
  {
   "cell_type": "code",
   "execution_count": 5,
   "metadata": {},
   "outputs": [
    {
     "data": {
      "text/plain": [
       "9332"
      ]
     },
     "execution_count": 5,
     "metadata": {},
     "output_type": "execute_result"
    }
   ],
   "source": [
    "df.loc[df['number_of_reviews_ltm']>4, 'id'].count()"
   ]
  },
  {
   "cell_type": "code",
   "execution_count": 6,
   "metadata": {},
   "outputs": [],
   "source": [
    "# I keep just the listings with at least 5 reviews\n",
    "# in the past 12 months\n",
    "\n",
    "df = df[df['number_of_reviews_ltm']>4]"
   ]
  },
  {
   "cell_type": "markdown",
   "metadata": {},
   "source": [
    "#### Price"
   ]
  },
  {
   "cell_type": "code",
   "execution_count": 7,
   "metadata": {},
   "outputs": [
    {
     "data": {
      "image/png": "[encoded data removed]",
      "text/plain": [
       "<Figure size 640x480 with 1 Axes>"
      ]
     },
     "metadata": {},
     "output_type": "display_data"
    }
   ],
   "source": [
    "df['price'].plot.hist();"
   ]
  },
  {
   "cell_type": "code",
   "execution_count": 8,
   "metadata": {},
   "outputs": [
    {
     "data": {
      "image/png": "[encoded data removed]",
      "text/plain": [
       "<Figure size 640x480 with 1 Axes>"
      ]
     },
     "metadata": {},
     "output_type": "display_data"
    }
   ],
   "source": [
    "df['price'].plot.box();"
   ]
  },
  {
   "cell_type": "code",
   "execution_count": 9,
   "metadata": {},
   "outputs": [
    {
     "name": "stdout",
     "output_type": "stream",
     "text": [
      "Low-Band Outlier: -17.5\n",
      "High-Band Outlier: 218.5\n",
      "------\n",
      "Low-Band Extreme Outlier: -106.0\n",
      "High-Band Extreme Outlier: 307.0\n"
     ]
    }
   ],
   "source": [
    "outliers(df['price'])"
   ]
  },
  {
   "cell_type": "code",
   "execution_count": 10,
   "metadata": {},
   "outputs": [
    {
     "data": {
      "text/plain": [
       "0"
      ]
     },
     "execution_count": 10,
     "metadata": {},
     "output_type": "execute_result"
    }
   ],
   "source": [
    "# There are no listings that cost too little\n",
    "\n",
    "df[df['price']<10]['id'].count()"
   ]
  },
  {
   "cell_type": "code",
   "execution_count": 11,
   "metadata": {},
   "outputs": [
    {
     "data": {
      "text/plain": [
       "712"
      ]
     },
     "execution_count": 11,
     "metadata": {},
     "output_type": "execute_result"
    }
   ],
   "source": [
    "# How many rows I'm deleting\n",
    "\n",
    "df[df['price']>219]['id'].count()"
   ]
  },
  {
   "cell_type": "code",
   "execution_count": 12,
   "metadata": {},
   "outputs": [],
   "source": [
    "# Exlude the outliers\n",
    "\n",
    "df = df[df['price'] < 219]"
   ]
  },
  {
   "cell_type": "code",
   "execution_count": 13,
   "metadata": {},
   "outputs": [
    {
     "name": "stdout",
     "output_type": "stream",
     "text": [
      "<class 'pandas.core.frame.DataFrame'>\n",
      "Index: 8615 entries, 2 to 14490\n",
      "Data columns (total 19 columns):\n",
      " #   Column                          Non-Null Count  Dtype  \n",
      "---  ------                          --------------  -----  \n",
      " 0   id                              8615 non-null   int64  \n",
      " 1   name                            8615 non-null   object \n",
      " 2   price                           8615 non-null   float64\n",
      " 3   room_type                       8615 non-null   object \n",
      " 4   number_of_reviews               8615 non-null   float64\n",
      " 5   stars                           8615 non-null   float64\n",
      " 6   bed                             8615 non-null   float64\n",
      " 7   bedroom                         8615 non-null   float64\n",
      " 8   bath                            8615 non-null   float64\n",
      " 9   neighbourhood                   8615 non-null   object \n",
      " 10  latitude                        8615 non-null   float64\n",
      " 11  longitude                       8615 non-null   float64\n",
      " 12  minimum_nights                  8615 non-null   float64\n",
      " 13  last_review                     8615 non-null   object \n",
      " 14  reviews_per_month               8615 non-null   float64\n",
      " 15  number_of_reviews_ltm           8615 non-null   float64\n",
      " 16  calculated_host_listings_count  8615 non-null   float64\n",
      " 17  host_id                         8615 non-null   int64  \n",
      " 18  days_online                     8615 non-null   float64\n",
      "dtypes: float64(13), int64(2), object(4)\n",
      "memory usage: 1.3+ MB\n"
     ]
    }
   ],
   "source": [
    "# No null col, nice!\n",
    "\n",
    "df.info()"
   ]
  },
  {
   "cell_type": "markdown",
   "metadata": {},
   "source": [
    "### Bed"
   ]
  },
  {
   "cell_type": "code",
   "execution_count": 14,
   "metadata": {},
   "outputs": [
    {
     "data": {
      "image/png": "[encoded data removed]",
      "text/plain": [
       "<Figure size 640x480 with 1 Axes>"
      ]
     },
     "metadata": {},
     "output_type": "display_data"
    }
   ],
   "source": [
    "df['bed'].plot.hist(bins=20);"
   ]
  },
  {
   "cell_type": "code",
   "execution_count": 15,
   "metadata": {},
   "outputs": [
    {
     "name": "stdout",
     "output_type": "stream",
     "text": [
      "Low-Band Outlier: -0.5\n",
      "High-Band Outlier: 3.5\n",
      "------\n",
      "Low-Band Extreme Outlier: -2.0\n",
      "High-Band Extreme Outlier: 5.0\n"
     ]
    }
   ],
   "source": [
    "outliers(df['bed'])"
   ]
  },
  {
   "cell_type": "code",
   "execution_count": 16,
   "metadata": {},
   "outputs": [
    {
     "data": {
      "text/plain": [
       "155"
      ]
     },
     "execution_count": 16,
     "metadata": {},
     "output_type": "execute_result"
    }
   ],
   "source": [
    "df[df['bed']>4]['id'].count()"
   ]
  },
  {
   "cell_type": "code",
   "execution_count": 17,
   "metadata": {},
   "outputs": [],
   "source": [
    "df = df[df['bed']<5]"
   ]
  },
  {
   "cell_type": "markdown",
   "metadata": {},
   "source": [
    "### Bath"
   ]
  },
  {
   "cell_type": "code",
   "execution_count": 18,
   "metadata": {},
   "outputs": [
    {
     "name": "stdout",
     "output_type": "stream",
     "text": [
      "Low-Band Outlier: 1.0\n",
      "High-Band Outlier: 1.0\n",
      "------\n",
      "Low-Band Extreme Outlier: 1.0\n",
      "High-Band Extreme Outlier: 1.0\n"
     ]
    },
    {
     "data": {
      "image/png": "[encoded data removed]",
      "text/plain": [
       "<Figure size 640x480 with 1 Axes>"
      ]
     },
     "metadata": {},
     "output_type": "display_data"
    }
   ],
   "source": [
    "outliers(df['bath'])\n",
    "df['bath'].plot.hist(bins=20);"
   ]
  },
  {
   "cell_type": "code",
   "execution_count": 19,
   "metadata": {},
   "outputs": [
    {
     "data": {
      "text/plain": [
       "bath\n",
       "False    7841\n",
       "True      619\n",
       "Name: count, dtype: int64"
      ]
     },
     "execution_count": 19,
     "metadata": {},
     "output_type": "execute_result"
    }
   ],
   "source": [
    "# I've decided to keep all the bath values.\n",
    "# It's not rare for a home to have 2 baths\n",
    "\n",
    "(df['bath'] > 1).value_counts()"
   ]
  },
  {
   "cell_type": "markdown",
   "metadata": {},
   "source": [
    "### Bedroom"
   ]
  },
  {
   "cell_type": "code",
   "execution_count": 20,
   "metadata": {},
   "outputs": [
    {
     "name": "stdout",
     "output_type": "stream",
     "text": [
      "Low-Band Outlier: 1.0\n",
      "High-Band Outlier: 1.0\n",
      "------\n",
      "Low-Band Extreme Outlier: 1.0\n",
      "High-Band Extreme Outlier: 1.0\n"
     ]
    },
    {
     "data": {
      "image/png": "[encoded data removed]",
      "text/plain": [
       "<Figure size 640x480 with 1 Axes>"
      ]
     },
     "metadata": {},
     "output_type": "display_data"
    }
   ],
   "source": [
    "outliers(df['bedroom'])\n",
    "df['bedroom'].plot.hist(bins=20);"
   ]
  },
  {
   "cell_type": "markdown",
   "metadata": {},
   "source": [
    "### Data exploration"
   ]
  },
  {
   "cell_type": "code",
   "execution_count": 21,
   "metadata": {},
   "outputs": [
    {
     "data": {
      "image/png": "[encoded data removed]",
      "text/plain": [
       "<Figure size 640x480 with 1 Axes>"
      ]
     },
     "metadata": {},
     "output_type": "display_data"
    }
   ],
   "source": [
    "df['price'].plot.hist(bins=25);"
   ]
  },
  {
   "cell_type": "code",
   "execution_count": 22,
   "metadata": {},
   "outputs": [
    {
     "data": {
      "image/png": "[encoded data removed]",
      "text/plain": [
       "<Figure size 640x480 with 1 Axes>"
      ]
     },
     "metadata": {},
     "output_type": "display_data"
    }
   ],
   "source": [
    "df['number_of_reviews_ltm'].plot.hist(bins=25);"
   ]
  },
  {
   "cell_type": "code",
   "execution_count": 23,
   "metadata": {},
   "outputs": [
    {
     "data": {
      "text/plain": [
       "minimum_nights\n",
       "1.0      3774\n",
       "2.0      3383\n",
       "3.0       801\n",
       "4.0       224\n",
       "5.0       116\n",
       "7.0        40\n",
       "6.0        37\n",
       "30.0       17\n",
       "15.0       13\n",
       "10.0       11\n",
       "28.0       10\n",
       "14.0        8\n",
       "20.0        5\n",
       "12.0        4\n",
       "29.0        4\n",
       "21.0        3\n",
       "8.0         3\n",
       "35.0        1\n",
       "45.0        1\n",
       "25.0        1\n",
       "44.0        1\n",
       "9.0         1\n",
       "365.0       1\n",
       "120.0       1\n",
       "Name: count, dtype: int64"
      ]
     },
     "execution_count": 23,
     "metadata": {},
     "output_type": "execute_result"
    }
   ],
   "source": [
    "df['minimum_nights'].value_counts()"
   ]
  },
  {
   "cell_type": "code",
   "execution_count": 24,
   "metadata": {},
   "outputs": [],
   "source": [
    "df = df[df['minimum_nights']<6]"
   ]
  },
  {
   "cell_type": "markdown",
   "metadata": {},
   "source": [
    "## Revenue in the last 12 Months\n",
    "\n",
    "There's no enough data to get the true revenue of the last 12 months. But we can get a proxy with this formula:\n",
    "\n",
    "*4.2 * number_of_reviews_ltm * price*\n",
    "\n",
    "The average number of nights per Airbnb booking in \"Europe, Middle East, and Africa\" in 2022 is 4.2.\n",
    "\n",
    "[Source](https://www.statista.com/statistics/1193597/airbnb-average-nights-per-booking-by-region-worldwide/)\n",
    "\n",
    "This is the best proxy based on the available data."
   ]
  },
  {
   "cell_type": "code",
   "execution_count": 25,
   "metadata": {},
   "outputs": [],
   "source": [
    "df['multiply'] = 4.2\n",
    "df.loc[df['minimum_nights']==5, 'multiply'] = 5"
   ]
  },
  {
   "cell_type": "code",
   "execution_count": 26,
   "metadata": {},
   "outputs": [
    {
     "data": {
      "text/html": [
       "<div>\n",
       "<style scoped>\n",
       "    .dataframe tbody tr th:only-of-type {\n",
       "        vertical-align: middle;\n",
       "    }\n",
       "\n",
       "    .dataframe tbody tr th {\n",
       "        vertical-align: top;\n",
       "    }\n",
       "\n",
       "    .dataframe thead th {\n",
       "        text-align: right;\n",
       "    }\n",
       "</style>\n",
       "<table border=\"1\" class=\"dataframe\">\n",
       "  <thead>\n",
       "    <tr style=\"text-align: right;\">\n",
       "      <th></th>\n",
       "      <th>id</th>\n",
       "      <th>name</th>\n",
       "      <th>price</th>\n",
       "      <th>room_type</th>\n",
       "      <th>number_of_reviews</th>\n",
       "      <th>stars</th>\n",
       "      <th>bed</th>\n",
       "      <th>bedroom</th>\n",
       "      <th>bath</th>\n",
       "      <th>neighbourhood</th>\n",
       "      <th>...</th>\n",
       "      <th>longitude</th>\n",
       "      <th>minimum_nights</th>\n",
       "      <th>last_review</th>\n",
       "      <th>reviews_per_month</th>\n",
       "      <th>number_of_reviews_ltm</th>\n",
       "      <th>calculated_host_listings_count</th>\n",
       "      <th>host_id</th>\n",
       "      <th>days_online</th>\n",
       "      <th>multiply</th>\n",
       "      <th>revenue_ltm</th>\n",
       "    </tr>\n",
       "  </thead>\n",
       "  <tbody>\n",
       "    <tr>\n",
       "      <th>2</th>\n",
       "      <td>304050</td>\n",
       "      <td>Rental unit in Milan · ★4.91 · 1 bedroom · 1 b...</td>\n",
       "      <td>49.0</td>\n",
       "      <td>Private room</td>\n",
       "      <td>264.0</td>\n",
       "      <td>4.91</td>\n",
       "      <td>1.0</td>\n",
       "      <td>1.0</td>\n",
       "      <td>1.0</td>\n",
       "      <td>XXII MARZO</td>\n",
       "      <td>...</td>\n",
       "      <td>9.215310</td>\n",
       "      <td>2.0</td>\n",
       "      <td>2023-11-21</td>\n",
       "      <td>1.92</td>\n",
       "      <td>33.0</td>\n",
       "      <td>2.0</td>\n",
       "      <td>1566887</td>\n",
       "      <td>4124.0</td>\n",
       "      <td>4.2</td>\n",
       "      <td>6791.4</td>\n",
       "    </tr>\n",
       "    <tr>\n",
       "      <th>3</th>\n",
       "      <td>46536</td>\n",
       "      <td>Rental unit in Milan · ★4.53 · 2 bedrooms · 3 ...</td>\n",
       "      <td>110.0</td>\n",
       "      <td>Entire home/apt</td>\n",
       "      <td>35.0</td>\n",
       "      <td>4.53</td>\n",
       "      <td>3.0</td>\n",
       "      <td>2.0</td>\n",
       "      <td>1.0</td>\n",
       "      <td>VIALE MONZA</td>\n",
       "      <td>...</td>\n",
       "      <td>9.224780</td>\n",
       "      <td>3.0</td>\n",
       "      <td>2023-10-30</td>\n",
       "      <td>0.24</td>\n",
       "      <td>5.0</td>\n",
       "      <td>1.0</td>\n",
       "      <td>138683</td>\n",
       "      <td>4402.0</td>\n",
       "      <td>4.2</td>\n",
       "      <td>2310.0</td>\n",
       "    </tr>\n",
       "    <tr>\n",
       "      <th>9</th>\n",
       "      <td>84741</td>\n",
       "      <td>Loft in Milan · ★4.63 · 1 bedroom · 1 bed · 1 ...</td>\n",
       "      <td>39.0</td>\n",
       "      <td>Private room</td>\n",
       "      <td>569.0</td>\n",
       "      <td>4.63</td>\n",
       "      <td>1.0</td>\n",
       "      <td>1.0</td>\n",
       "      <td>1.0</td>\n",
       "      <td>PARCO FORLANINI - ORTICA</td>\n",
       "      <td>...</td>\n",
       "      <td>9.244106</td>\n",
       "      <td>1.0</td>\n",
       "      <td>2023-12-18</td>\n",
       "      <td>3.71</td>\n",
       "      <td>52.0</td>\n",
       "      <td>2.0</td>\n",
       "      <td>443989</td>\n",
       "      <td>4610.0</td>\n",
       "      <td>4.2</td>\n",
       "      <td>8517.6</td>\n",
       "    </tr>\n",
       "    <tr>\n",
       "      <th>11</th>\n",
       "      <td>348448</td>\n",
       "      <td>Rental unit in Milan · ★4.54 · Studio · 1 bed ...</td>\n",
       "      <td>99.0</td>\n",
       "      <td>Entire home/apt</td>\n",
       "      <td>137.0</td>\n",
       "      <td>4.54</td>\n",
       "      <td>1.0</td>\n",
       "      <td>0.0</td>\n",
       "      <td>1.0</td>\n",
       "      <td>BRERA</td>\n",
       "      <td>...</td>\n",
       "      <td>9.188730</td>\n",
       "      <td>1.0</td>\n",
       "      <td>2023-11-26</td>\n",
       "      <td>1.00</td>\n",
       "      <td>38.0</td>\n",
       "      <td>1.0</td>\n",
       "      <td>326090</td>\n",
       "      <td>4130.0</td>\n",
       "      <td>4.2</td>\n",
       "      <td>15800.4</td>\n",
       "    </tr>\n",
       "    <tr>\n",
       "      <th>12</th>\n",
       "      <td>90830</td>\n",
       "      <td>Loft in Milan · ★4.67 · 2 bedrooms · 3 beds · ...</td>\n",
       "      <td>91.0</td>\n",
       "      <td>Entire home/apt</td>\n",
       "      <td>186.0</td>\n",
       "      <td>4.67</td>\n",
       "      <td>3.0</td>\n",
       "      <td>2.0</td>\n",
       "      <td>1.0</td>\n",
       "      <td>NAVIGLI</td>\n",
       "      <td>...</td>\n",
       "      <td>9.163470</td>\n",
       "      <td>1.0</td>\n",
       "      <td>2023-11-27</td>\n",
       "      <td>1.20</td>\n",
       "      <td>67.0</td>\n",
       "      <td>22.0</td>\n",
       "      <td>181255620</td>\n",
       "      <td>4635.0</td>\n",
       "      <td>4.2</td>\n",
       "      <td>25607.4</td>\n",
       "    </tr>\n",
       "  </tbody>\n",
       "</table>\n",
       "<p>5 rows × 21 columns</p>\n",
       "</div>"
      ],
      "text/plain": [
       "        id                                               name  price  \\\n",
       "2   304050  Rental unit in Milan · ★4.91 · 1 bedroom · 1 b...   49.0   \n",
       "3    46536  Rental unit in Milan · ★4.53 · 2 bedrooms · 3 ...  110.0   \n",
       "9    84741  Loft in Milan · ★4.63 · 1 bedroom · 1 bed · 1 ...   39.0   \n",
       "11  348448  Rental unit in Milan · ★4.54 · Studio · 1 bed ...   99.0   \n",
       "12   90830  Loft in Milan · ★4.67 · 2 bedrooms · 3 beds · ...   91.0   \n",
       "\n",
       "          room_type  number_of_reviews  stars  bed  bedroom  bath  \\\n",
       "2      Private room              264.0   4.91  1.0      1.0   1.0   \n",
       "3   Entire home/apt               35.0   4.53  3.0      2.0   1.0   \n",
       "9      Private room              569.0   4.63  1.0      1.0   1.0   \n",
       "11  Entire home/apt              137.0   4.54  1.0      0.0   1.0   \n",
       "12  Entire home/apt              186.0   4.67  3.0      2.0   1.0   \n",
       "\n",
       "               neighbourhood  ...  longitude  minimum_nights  last_review  \\\n",
       "2                 XXII MARZO  ...   9.215310             2.0   2023-11-21   \n",
       "3                VIALE MONZA  ...   9.224780             3.0   2023-10-30   \n",
       "9   PARCO FORLANINI - ORTICA  ...   9.244106             1.0   2023-12-18   \n",
       "11                     BRERA  ...   9.188730             1.0   2023-11-26   \n",
       "12                   NAVIGLI  ...   9.163470             1.0   2023-11-27   \n",
       "\n",
       "   reviews_per_month  number_of_reviews_ltm  calculated_host_listings_count  \\\n",
       "2               1.92                   33.0                             2.0   \n",
       "3               0.24                    5.0                             1.0   \n",
       "9               3.71                   52.0                             2.0   \n",
       "11              1.00                   38.0                             1.0   \n",
       "12              1.20                   67.0                            22.0   \n",
       "\n",
       "      host_id  days_online  multiply  revenue_ltm  \n",
       "2     1566887       4124.0       4.2       6791.4  \n",
       "3      138683       4402.0       4.2       2310.0  \n",
       "9      443989       4610.0       4.2       8517.6  \n",
       "11     326090       4130.0       4.2      15800.4  \n",
       "12  181255620       4635.0       4.2      25607.4  \n",
       "\n",
       "[5 rows x 21 columns]"
      ]
     },
     "execution_count": 26,
     "metadata": {},
     "output_type": "execute_result"
    }
   ],
   "source": [
    "df['revenue_ltm'] = df['multiply'] * df['number_of_reviews_ltm'] * df['price']\n",
    "\n",
    "df.head()"
   ]
  },
  {
   "cell_type": "markdown",
   "metadata": {},
   "source": [
    "### One-Hot Encoding"
   ]
  },
  {
   "cell_type": "code",
   "execution_count": 27,
   "metadata": {},
   "outputs": [
    {
     "data": {
      "text/plain": [
       "room_type\n",
       "Entire home/apt    7298\n",
       "Private room        958\n",
       "Shared room          41\n",
       "Hotel room            1\n",
       "Name: count, dtype: int64"
      ]
     },
     "execution_count": 27,
     "metadata": {},
     "output_type": "execute_result"
    }
   ],
   "source": [
    "df['room_type'].value_counts()"
   ]
  },
  {
   "cell_type": "code",
   "execution_count": 28,
   "metadata": {},
   "outputs": [],
   "source": [
    "# Drop the occurrences of Hotel room and Shared room\n",
    "\n",
    "df = df[(df['room_type'] != 'Hotel room')&(df['room_type'] != 'Shared room')]"
   ]
  },
  {
   "cell_type": "code",
   "execution_count": 29,
   "metadata": {},
   "outputs": [],
   "source": [
    "# Entire home/apt = 1\n",
    "# Private room = 0\n",
    "\n",
    "df['room'] = 1\n",
    "df.loc[df['room_type']=='Private room','room'] = 0"
   ]
  },
  {
   "cell_type": "markdown",
   "metadata": {},
   "source": [
    "#### Delete the 'neighbourhood' with too few occurrences"
   ]
  },
  {
   "cell_type": "code",
   "execution_count": 30,
   "metadata": {},
   "outputs": [
    {
     "data": {
      "text/plain": [
       "neighbourhood\n",
       "NAVIGLI       363\n",
       "TICINESE      344\n",
       "BRERA         319\n",
       "ISOLA         305\n",
       "XXII MARZO    225\n",
       "Name: count, dtype: int64"
      ]
     },
     "execution_count": 30,
     "metadata": {},
     "output_type": "execute_result"
    }
   ],
   "source": [
    "neigh_count = df['neighbourhood'].value_counts()\n",
    "neigh_count[5:10]"
   ]
  },
  {
   "cell_type": "code",
   "execution_count": 31,
   "metadata": {},
   "outputs": [
    {
     "name": "stdout",
     "output_type": "stream",
     "text": [
      "38\n",
      "43\n"
     ]
    }
   ],
   "source": [
    "# Check to see how many columns I'm deleting\n",
    "\n",
    "print(neigh_count[neigh_count<50].count())\n",
    "print(neigh_count[neigh_count>50].count())"
   ]
  },
  {
   "cell_type": "code",
   "execution_count": 32,
   "metadata": {},
   "outputs": [],
   "source": [
    "neigh_count = neigh_count[neigh_count>50]\n",
    "\n",
    "# I delete the listings that aren't in our considered neighbourhoods\n",
    "df = df[df['neighbourhood'].isin(neigh_count.index.to_list())]"
   ]
  },
  {
   "cell_type": "code",
   "execution_count": 33,
   "metadata": {},
   "outputs": [],
   "source": [
    "# One hot encoding 'neighbourhood'\n",
    "\n",
    "df = pd.concat([df,\n",
    "           pd.get_dummies(df['neighbourhood'], dtype='float64')],\n",
    "           axis='columns')"
   ]
  },
  {
   "cell_type": "markdown",
   "metadata": {},
   "source": [
    "### Linear Regression"
   ]
  },
  {
   "cell_type": "code",
   "execution_count": 34,
   "metadata": {},
   "outputs": [
    {
     "data": {
      "text/plain": [
       "'LAMBRATE'"
      ]
     },
     "execution_count": 34,
     "metadata": {},
     "output_type": "execute_result"
    }
   ],
   "source": [
    "# This is the neig I'll delete to avoid Multicollinearity\n",
    "\n",
    "neigh_count.index.to_list()[-1]"
   ]
  },
  {
   "cell_type": "code",
   "execution_count": 35,
   "metadata": {},
   "outputs": [],
   "source": [
    "# I delete the last one-hot encoded to avoid Multicollinearity\n",
    "\n",
    "neig_to_keep = neigh_count.index.to_list()[:-1]\n",
    "\n",
    "col_to_keep = ['price','stars','bed','bedroom','days_online',\n",
    "               'bath','room','minimum_nights'] + neig_to_keep\n",
    "\n",
    "# I'm shuffling the dataframe... otherwise, when I do cross_val_score\n",
    "# I can't be that sure that the model see all the neighbourhood\n",
    "df = df.sample(frac=1).reset_index(drop=True)\n",
    "\n",
    "X = df[col_to_keep]\n",
    "y = df['revenue_ltm']"
   ]
  },
  {
   "cell_type": "code",
   "execution_count": 36,
   "metadata": {},
   "outputs": [
    {
     "name": "stdout",
     "output_type": "stream",
     "text": [
      "Price squared:  [0.16684627 0.18812756 0.18348523 0.16227078 0.20837683]\n",
      "Standardized:  [0.17466569 0.20400591 0.19366393 0.17446451 0.22536664]\n",
      "Normal:  [0.17466569 0.20400591 0.19366393 0.17446451 0.22536664]\n",
      "\n",
      "Price squared:  0.18182133414386792\n",
      "Standardized:  0.19443333682513872\n",
      "Normal:  0.1944333368251536\n"
     ]
    }
   ],
   "source": [
    "# I try to fit the PolyFeatures just to 'price'\n",
    "# It's normal that after a poin, increasing the price will decrease the revenue\n",
    "\n",
    "from sklearn.linear_model import LinearRegression\n",
    "import sklearn.metrics as metrics\n",
    "from sklearn.preprocessing import PolynomialFeatures\n",
    "from sklearn.model_selection import cross_val_score\n",
    "from sklearn.preprocessing import StandardScaler\n",
    "\n",
    "scaler = StandardScaler()\n",
    "\n",
    "poly = PolynomialFeatures(degree=2)\n",
    "\n",
    "X_price2 = X.copy()\n",
    "X_price2['price'] = poly.fit_transform(X_price2[['price']])\n",
    "\n",
    "X_scaled = X.copy()\n",
    "X_scaled[['price', 'days_online']] = scaler.fit_transform(X_scaled[['price', 'days_online']])\n",
    "\n",
    "lr = LinearRegression()\n",
    "\n",
    "print('Price squared: ', cross_val_score(lr,X_price2,y, cv=5, scoring='r2'))\n",
    "print('Standardized: ', cross_val_score(lr,X_scaled,y, cv=5, scoring='r2'))\n",
    "print('Normal: ', cross_val_score(lr,X,y, cv=5, scoring='r2'))\n",
    "print()\n",
    "print('Price squared: ', cross_val_score(lr,X_price2,y, cv=5, scoring='r2').mean())\n",
    "print('Standardized: ',cross_val_score(lr,X_scaled,y, cv=5, scoring='r2').mean())\n",
    "print('Normal: ', cross_val_score(lr,X,y, cv=5, scoring='r2').mean())"
   ]
  },
  {
   "cell_type": "markdown",
   "metadata": {},
   "source": [
    "#### Use all data to train the model\n",
    "**Normal linear regression works better**"
   ]
  },
  {
   "cell_type": "code",
   "execution_count": 37,
   "metadata": {},
   "outputs": [
    {
     "name": "stdout",
     "output_type": "stream",
     "text": [
      "R2:  0.20646165382300763\n",
      "MSE:  104165491.36447458\n"
     ]
    }
   ],
   "source": [
    "lm = LinearRegression()\n",
    "lm.fit(X,y)\n",
    "\n",
    "yhat = lm.predict(X)\n",
    "print('R2: ', metrics.r2_score(y, yhat))\n",
    "print('MSE: ', metrics.mean_squared_error(y, yhat))"
   ]
  },
  {
   "cell_type": "code",
   "execution_count": 38,
   "metadata": {},
   "outputs": [
    {
     "name": "stderr",
     "output_type": "stream",
     "text": [
      "c:\\Users\\matte\\anaconda3\\Lib\\site-packages\\seaborn\\_oldcore.py:1498: FutureWarning: is_categorical_dtype is deprecated and will be removed in a future version. Use isinstance(dtype, CategoricalDtype) instead\n",
      "  if pd.api.types.is_categorical_dtype(vector):\n",
      "c:\\Users\\matte\\anaconda3\\Lib\\site-packages\\seaborn\\_oldcore.py:1119: FutureWarning: use_inf_as_na option is deprecated and will be removed in a future version. Convert inf values to NaN before operating instead.\n",
      "  with pd.option_context('mode.use_inf_as_na', True):\n",
      "c:\\Users\\matte\\anaconda3\\Lib\\site-packages\\seaborn\\_oldcore.py:1498: FutureWarning: is_categorical_dtype is deprecated and will be removed in a future version. Use isinstance(dtype, CategoricalDtype) instead\n",
      "  if pd.api.types.is_categorical_dtype(vector):\n",
      "c:\\Users\\matte\\anaconda3\\Lib\\site-packages\\seaborn\\_oldcore.py:1119: FutureWarning: use_inf_as_na option is deprecated and will be removed in a future version. Convert inf values to NaN before operating instead.\n",
      "  with pd.option_context('mode.use_inf_as_na', True):\n"
     ]
    },
    {
     "data": {
      "image/png": "[encoded data removed]",
      "text/plain": [
       "<Figure size 640x480 with 1 Axes>"
      ]
     },
     "metadata": {},
     "output_type": "display_data"
    }
   ],
   "source": [
    "ax1 = sns.kdeplot(y, color=\"r\", label=\"Actual Value\")\n",
    "sns.kdeplot(yhat, color=\"b\", label=\"Fitted Values\" , ax=ax1)\n",
    "\n",
    "plt.title('Actual vs Fitted Values for Revenue')\n",
    "plt.xlabel('Revenue')\n",
    "plt.ylabel('Proportion of Listings')\n",
    "plt.legend(['Actual Value', 'Predicted Value'])\n",
    "plt.show()\n"
   ]
  },
  {
   "cell_type": "code",
   "execution_count": 39,
   "metadata": {},
   "outputs": [
    {
     "data": {
      "text/html": [
       "<div>\n",
       "<style scoped>\n",
       "    .dataframe tbody tr th:only-of-type {\n",
       "        vertical-align: middle;\n",
       "    }\n",
       "\n",
       "    .dataframe tbody tr th {\n",
       "        vertical-align: top;\n",
       "    }\n",
       "\n",
       "    .dataframe thead th {\n",
       "        text-align: right;\n",
       "    }\n",
       "</style>\n",
       "<table border=\"1\" class=\"dataframe\">\n",
       "  <thead>\n",
       "    <tr style=\"text-align: right;\">\n",
       "      <th></th>\n",
       "      <th>coefficients</th>\n",
       "    </tr>\n",
       "  </thead>\n",
       "  <tbody>\n",
       "    <tr>\n",
       "      <th>DUOMO</th>\n",
       "      <td>10340.996439</td>\n",
       "    </tr>\n",
       "    <tr>\n",
       "      <th>stars</th>\n",
       "      <td>8181.612190</td>\n",
       "    </tr>\n",
       "    <tr>\n",
       "      <th>CENTRALE</th>\n",
       "      <td>7052.485400</td>\n",
       "    </tr>\n",
       "    <tr>\n",
       "      <th>BRERA</th>\n",
       "      <td>6270.148865</td>\n",
       "    </tr>\n",
       "    <tr>\n",
       "      <th>TICINESE</th>\n",
       "      <td>5571.165587</td>\n",
       "    </tr>\n",
       "    <tr>\n",
       "      <th>MAGENTA - S. VITTORE</th>\n",
       "      <td>5409.948499</td>\n",
       "    </tr>\n",
       "    <tr>\n",
       "      <th>PAGANO</th>\n",
       "      <td>5226.895024</td>\n",
       "    </tr>\n",
       "    <tr>\n",
       "      <th>BUENOS AIRES - VENEZIA</th>\n",
       "      <td>4812.470166</td>\n",
       "    </tr>\n",
       "    <tr>\n",
       "      <th>MACIACHINI - MAGGIOLINA</th>\n",
       "      <td>4515.581686</td>\n",
       "    </tr>\n",
       "    <tr>\n",
       "      <th>NAVIGLI</th>\n",
       "      <td>4246.898963</td>\n",
       "    </tr>\n",
       "    <tr>\n",
       "      <th>GUASTALLA</th>\n",
       "      <td>4066.892639</td>\n",
       "    </tr>\n",
       "    <tr>\n",
       "      <th>GARIBALDI REPUBBLICA</th>\n",
       "      <td>3870.792891</td>\n",
       "    </tr>\n",
       "    <tr>\n",
       "      <th>SARPI</th>\n",
       "      <td>3810.161509</td>\n",
       "    </tr>\n",
       "    <tr>\n",
       "      <th>XXII MARZO</th>\n",
       "      <td>3763.523505</td>\n",
       "    </tr>\n",
       "    <tr>\n",
       "      <th>S. CRISTOFORO</th>\n",
       "      <td>3449.734663</td>\n",
       "    </tr>\n",
       "    <tr>\n",
       "      <th>SELINUNTE</th>\n",
       "      <td>3440.320649</td>\n",
       "    </tr>\n",
       "    <tr>\n",
       "      <th>LORETO</th>\n",
       "      <td>3329.170447</td>\n",
       "    </tr>\n",
       "    <tr>\n",
       "      <th>ISOLA</th>\n",
       "      <td>3210.971203</td>\n",
       "    </tr>\n",
       "    <tr>\n",
       "      <th>VIALE MONZA</th>\n",
       "      <td>3179.281709</td>\n",
       "    </tr>\n",
       "    <tr>\n",
       "      <th>LODI - CORVETTO</th>\n",
       "      <td>2899.739433</td>\n",
       "    </tr>\n",
       "    <tr>\n",
       "      <th>room</th>\n",
       "      <td>2632.235532</td>\n",
       "    </tr>\n",
       "    <tr>\n",
       "      <th>GHISOLFA</th>\n",
       "      <td>2539.729642</td>\n",
       "    </tr>\n",
       "    <tr>\n",
       "      <th>PORTA ROMANA</th>\n",
       "      <td>2421.616835</td>\n",
       "    </tr>\n",
       "    <tr>\n",
       "      <th>VIGENTINA</th>\n",
       "      <td>2224.872975</td>\n",
       "    </tr>\n",
       "    <tr>\n",
       "      <th>DE ANGELI - MONTE ROSA</th>\n",
       "      <td>1965.822377</td>\n",
       "    </tr>\n",
       "    <tr>\n",
       "      <th>BOVISA</th>\n",
       "      <td>1736.299868</td>\n",
       "    </tr>\n",
       "    <tr>\n",
       "      <th>bath</th>\n",
       "      <td>1630.399010</td>\n",
       "    </tr>\n",
       "    <tr>\n",
       "      <th>NIGUARDA - CA' GRANDA</th>\n",
       "      <td>1519.986215</td>\n",
       "    </tr>\n",
       "    <tr>\n",
       "      <th>GIAMBELLINO</th>\n",
       "      <td>1519.705950</td>\n",
       "    </tr>\n",
       "    <tr>\n",
       "      <th>AFFORI</th>\n",
       "      <td>1498.654186</td>\n",
       "    </tr>\n",
       "    <tr>\n",
       "      <th>GALLARATESE</th>\n",
       "      <td>1255.568064</td>\n",
       "    </tr>\n",
       "    <tr>\n",
       "      <th>BANDE NERE</th>\n",
       "      <td>1250.927513</td>\n",
       "    </tr>\n",
       "    <tr>\n",
       "      <th>DERGANO</th>\n",
       "      <td>1149.180526</td>\n",
       "    </tr>\n",
       "    <tr>\n",
       "      <th>WASHINGTON</th>\n",
       "      <td>1118.336135</td>\n",
       "    </tr>\n",
       "    <tr>\n",
       "      <th>RIPAMONTI</th>\n",
       "      <td>986.241203</td>\n",
       "    </tr>\n",
       "    <tr>\n",
       "      <th>TIBALDI</th>\n",
       "      <td>978.393351</td>\n",
       "    </tr>\n",
       "    <tr>\n",
       "      <th>CORSICA</th>\n",
       "      <td>939.447557</td>\n",
       "    </tr>\n",
       "    <tr>\n",
       "      <th>VILLAPIZZONE</th>\n",
       "      <td>917.889045</td>\n",
       "    </tr>\n",
       "    <tr>\n",
       "      <th>bedroom</th>\n",
       "      <td>893.327072</td>\n",
       "    </tr>\n",
       "    <tr>\n",
       "      <th>SCALO ROMANA</th>\n",
       "      <td>768.196689</td>\n",
       "    </tr>\n",
       "    <tr>\n",
       "      <th>UMBRIA - MOLISE</th>\n",
       "      <td>744.269968</td>\n",
       "    </tr>\n",
       "    <tr>\n",
       "      <th>bed</th>\n",
       "      <td>639.850501</td>\n",
       "    </tr>\n",
       "    <tr>\n",
       "      <th>CITTA' STUDI</th>\n",
       "      <td>602.205450</td>\n",
       "    </tr>\n",
       "    <tr>\n",
       "      <th>PADOVA</th>\n",
       "      <td>186.253841</td>\n",
       "    </tr>\n",
       "    <tr>\n",
       "      <th>TORTONA</th>\n",
       "      <td>131.089156</td>\n",
       "    </tr>\n",
       "    <tr>\n",
       "      <th>price</th>\n",
       "      <td>43.698031</td>\n",
       "    </tr>\n",
       "    <tr>\n",
       "      <th>days_online</th>\n",
       "      <td>2.095572</td>\n",
       "    </tr>\n",
       "    <tr>\n",
       "      <th>STADERA</th>\n",
       "      <td>-80.483711</td>\n",
       "    </tr>\n",
       "    <tr>\n",
       "      <th>GRECO</th>\n",
       "      <td>-179.048691</td>\n",
       "    </tr>\n",
       "    <tr>\n",
       "      <th>minimum_nights</th>\n",
       "      <td>-2490.252715</td>\n",
       "    </tr>\n",
       "  </tbody>\n",
       "</table>\n",
       "</div>"
      ],
      "text/plain": [
       "                         coefficients\n",
       "DUOMO                    10340.996439\n",
       "stars                     8181.612190\n",
       "CENTRALE                  7052.485400\n",
       "BRERA                     6270.148865\n",
       "TICINESE                  5571.165587\n",
       "MAGENTA - S. VITTORE      5409.948499\n",
       "PAGANO                    5226.895024\n",
       "BUENOS AIRES - VENEZIA    4812.470166\n",
       "MACIACHINI - MAGGIOLINA   4515.581686\n",
       "NAVIGLI                   4246.898963\n",
       "GUASTALLA                 4066.892639\n",
       "GARIBALDI REPUBBLICA      3870.792891\n",
       "SARPI                     3810.161509\n",
       "XXII MARZO                3763.523505\n",
       "S. CRISTOFORO             3449.734663\n",
       "SELINUNTE                 3440.320649\n",
       "LORETO                    3329.170447\n",
       "ISOLA                     3210.971203\n",
       "VIALE MONZA               3179.281709\n",
       "LODI - CORVETTO           2899.739433\n",
       "room                      2632.235532\n",
       "GHISOLFA                  2539.729642\n",
       "PORTA ROMANA              2421.616835\n",
       "VIGENTINA                 2224.872975\n",
       "DE ANGELI - MONTE ROSA    1965.822377\n",
       "BOVISA                    1736.299868\n",
       "bath                      1630.399010\n",
       "NIGUARDA - CA' GRANDA     1519.986215\n",
       "GIAMBELLINO               1519.705950\n",
       "AFFORI                    1498.654186\n",
       "GALLARATESE               1255.568064\n",
       "BANDE NERE                1250.927513\n",
       "DERGANO                   1149.180526\n",
       "WASHINGTON                1118.336135\n",
       "RIPAMONTI                  986.241203\n",
       "TIBALDI                    978.393351\n",
       "CORSICA                    939.447557\n",
       "VILLAPIZZONE               917.889045\n",
       "bedroom                    893.327072\n",
       "SCALO ROMANA               768.196689\n",
       "UMBRIA - MOLISE            744.269968\n",
       "bed                        639.850501\n",
       "CITTA' STUDI               602.205450\n",
       "PADOVA                     186.253841\n",
       "TORTONA                    131.089156\n",
       "price                       43.698031\n",
       "days_online                  2.095572\n",
       "STADERA                    -80.483711\n",
       "GRECO                     -179.048691\n",
       "minimum_nights           -2490.252715"
      ]
     },
     "execution_count": 39,
     "metadata": {},
     "output_type": "execute_result"
    }
   ],
   "source": [
    "coefficients = lm.coef_\n",
    "\n",
    "coefficients_dict = dict(zip(col_to_keep, coefficients))\n",
    "\n",
    "df_coeff = pd.DataFrame(coefficients_dict, index=['coefficients']).T\n",
    "df_coeff.sort_values(ascending=False, by='coefficients')"
   ]
  },
  {
   "cell_type": "markdown",
   "metadata": {},
   "source": [
    "### ANOVA test"
   ]
  },
  {
   "cell_type": "code",
   "execution_count": 40,
   "metadata": {},
   "outputs": [],
   "source": [
    "import statsmodels.api as sm\n",
    "from statsmodels.formula.api import ols\n",
    "\n",
    "pd.set_option('display.float_format', '{:.6f}'.format)"
   ]
  },
  {
   "cell_type": "markdown",
   "metadata": {},
   "source": [
    "#### Which of the neig really influence revenue"
   ]
  },
  {
   "cell_type": "code",
   "execution_count": 41,
   "metadata": {},
   "outputs": [],
   "source": [
    "df_stats = pd.concat([X[neig_to_keep],y], axis='columns')"
   ]
  },
  {
   "cell_type": "code",
   "execution_count": 42,
   "metadata": {},
   "outputs": [],
   "source": [
    "# deleting the special characters in the columns\n",
    "# because stats models doesn't like them\n",
    "\n",
    "import re\n",
    "\n",
    "pattern = r'[\\w]*'\n",
    "\n",
    "for col in df_stats.columns.to_list():\n",
    "    new_col = re.findall(pattern, col)[0]\n",
    "    df_stats.rename(columns={col:new_col}, inplace=True)"
   ]
  },
  {
   "cell_type": "code",
   "execution_count": 43,
   "metadata": {},
   "outputs": [
    {
     "name": "stdout",
     "output_type": "stream",
     "text": [
      "Overall model F( 42, 7505) =  15.506, p =  0.0000\n"
     ]
    },
    {
     "data": {
      "text/html": [
       "<div>\n",
       "<style scoped>\n",
       "    .dataframe tbody tr th:only-of-type {\n",
       "        vertical-align: middle;\n",
       "    }\n",
       "\n",
       "    .dataframe tbody tr th {\n",
       "        vertical-align: top;\n",
       "    }\n",
       "\n",
       "    .dataframe thead th {\n",
       "        text-align: right;\n",
       "    }\n",
       "</style>\n",
       "<table border=\"1\" class=\"dataframe\">\n",
       "  <thead>\n",
       "    <tr style=\"text-align: right;\">\n",
       "      <th></th>\n",
       "      <th>sum_sq</th>\n",
       "      <th>df</th>\n",
       "      <th>F</th>\n",
       "      <th>PR(&gt;F)</th>\n",
       "    </tr>\n",
       "  </thead>\n",
       "  <tbody>\n",
       "    <tr>\n",
       "      <th>C(BUENOS)</th>\n",
       "      <td>1831215574.258338</td>\n",
       "      <td>1.000000</td>\n",
       "      <td>15.074467</td>\n",
       "      <td>0.000104</td>\n",
       "    </tr>\n",
       "    <tr>\n",
       "      <th>C(DUOMO)</th>\n",
       "      <td>7764041015.342996</td>\n",
       "      <td>1.000000</td>\n",
       "      <td>63.913162</td>\n",
       "      <td>0.000000</td>\n",
       "    </tr>\n",
       "    <tr>\n",
       "      <th>C(CENTRALE)</th>\n",
       "      <td>3337302958.061556</td>\n",
       "      <td>1.000000</td>\n",
       "      <td>27.472496</td>\n",
       "      <td>0.000000</td>\n",
       "    </tr>\n",
       "    <tr>\n",
       "      <th>C(SARPI)</th>\n",
       "      <td>1057014641.462507</td>\n",
       "      <td>1.000000</td>\n",
       "      <td>8.701287</td>\n",
       "      <td>0.003190</td>\n",
       "    </tr>\n",
       "    <tr>\n",
       "      <th>C(LORETO)</th>\n",
       "      <td>361243234.870064</td>\n",
       "      <td>1.000000</td>\n",
       "      <td>2.973735</td>\n",
       "      <td>0.084667</td>\n",
       "    </tr>\n",
       "  </tbody>\n",
       "</table>\n",
       "</div>"
      ],
      "text/plain": [
       "                       sum_sq       df         F   PR(>F)\n",
       "C(BUENOS)   1831215574.258338 1.000000 15.074467 0.000104\n",
       "C(DUOMO)    7764041015.342996 1.000000 63.913162 0.000000\n",
       "C(CENTRALE) 3337302958.061556 1.000000 27.472496 0.000000\n",
       "C(SARPI)    1057014641.462507 1.000000  8.701287 0.003190\n",
       "C(LORETO)    361243234.870064 1.000000  2.973735 0.084667"
      ]
     },
     "execution_count": 43,
     "metadata": {},
     "output_type": "execute_result"
    }
   ],
   "source": [
    "# Creating the stats models' model\n",
    "\n",
    "formula = f'revenue_ltm ~ C({df_stats.columns.to_list()[0]})'\n",
    "\n",
    "for col in df_stats.columns.to_list()[1:-1]:\n",
    "    formula += f' + C({col})'\n",
    "\n",
    "model = ols(formula, df_stats).fit()\n",
    "\n",
    "print(f\"Overall model F({model.df_model: .0f},{model.df_resid: .0f}) = {model.fvalue: .3f}, p = {model.f_pvalue: .4f}\")\n",
    "\n",
    "# Creates the ANOVA table\n",
    "res = sm.stats.anova_lm(model, typ= 2)\n",
    "\n",
    "res.head()"
   ]
  },
  {
   "cell_type": "code",
   "execution_count": 44,
   "metadata": {},
   "outputs": [
    {
     "data": {
      "text/html": [
       "<div>\n",
       "<style scoped>\n",
       "    .dataframe tbody tr th:only-of-type {\n",
       "        vertical-align: middle;\n",
       "    }\n",
       "\n",
       "    .dataframe tbody tr th {\n",
       "        vertical-align: top;\n",
       "    }\n",
       "\n",
       "    .dataframe thead th {\n",
       "        text-align: right;\n",
       "    }\n",
       "</style>\n",
       "<table border=\"1\" class=\"dataframe\">\n",
       "  <thead>\n",
       "    <tr style=\"text-align: right;\">\n",
       "      <th></th>\n",
       "      <th>sum_sq</th>\n",
       "      <th>df</th>\n",
       "      <th>F</th>\n",
       "      <th>PR(&gt;F)</th>\n",
       "    </tr>\n",
       "  </thead>\n",
       "  <tbody>\n",
       "    <tr>\n",
       "      <th>C(LORETO)</th>\n",
       "      <td>361243234.870064</td>\n",
       "      <td>1.000000</td>\n",
       "      <td>2.973735</td>\n",
       "      <td>0.084667</td>\n",
       "    </tr>\n",
       "    <tr>\n",
       "      <th>C(CITTA)</th>\n",
       "      <td>27458103.425638</td>\n",
       "      <td>1.000000</td>\n",
       "      <td>0.226034</td>\n",
       "      <td>0.634494</td>\n",
       "    </tr>\n",
       "    <tr>\n",
       "      <th>C(TORTONA)</th>\n",
       "      <td>85251682.447323</td>\n",
       "      <td>1.000000</td>\n",
       "      <td>0.701787</td>\n",
       "      <td>0.402210</td>\n",
       "    </tr>\n",
       "    <tr>\n",
       "      <th>C(DE)</th>\n",
       "      <td>346494844.999241</td>\n",
       "      <td>1.000000</td>\n",
       "      <td>2.852327</td>\n",
       "      <td>0.091283</td>\n",
       "    </tr>\n",
       "    <tr>\n",
       "      <th>C(BANDE)</th>\n",
       "      <td>75963534.092944</td>\n",
       "      <td>1.000000</td>\n",
       "      <td>0.625328</td>\n",
       "      <td>0.429099</td>\n",
       "    </tr>\n",
       "    <tr>\n",
       "      <th>C(GIAMBELLINO)</th>\n",
       "      <td>33996443.311565</td>\n",
       "      <td>1.000000</td>\n",
       "      <td>0.279857</td>\n",
       "      <td>0.596811</td>\n",
       "    </tr>\n",
       "    <tr>\n",
       "      <th>C(LODI)</th>\n",
       "      <td>150655451.222462</td>\n",
       "      <td>1.000000</td>\n",
       "      <td>1.240187</td>\n",
       "      <td>0.265471</td>\n",
       "    </tr>\n",
       "    <tr>\n",
       "      <th>C(VILLAPIZZONE)</th>\n",
       "      <td>22643289.554839</td>\n",
       "      <td>1.000000</td>\n",
       "      <td>0.186398</td>\n",
       "      <td>0.665944</td>\n",
       "    </tr>\n",
       "    <tr>\n",
       "      <th>C(PADOVA)</th>\n",
       "      <td>780777.426717</td>\n",
       "      <td>1.000000</td>\n",
       "      <td>0.006427</td>\n",
       "      <td>0.936104</td>\n",
       "    </tr>\n",
       "    <tr>\n",
       "      <th>C(WASHINGTON)</th>\n",
       "      <td>284236697.792902</td>\n",
       "      <td>1.000000</td>\n",
       "      <td>2.339821</td>\n",
       "      <td>0.126146</td>\n",
       "    </tr>\n",
       "    <tr>\n",
       "      <th>C(UMBRIA)</th>\n",
       "      <td>37026690.858735</td>\n",
       "      <td>1.000000</td>\n",
       "      <td>0.304802</td>\n",
       "      <td>0.580904</td>\n",
       "    </tr>\n",
       "    <tr>\n",
       "      <th>C(S)</th>\n",
       "      <td>359324517.886373</td>\n",
       "      <td>1.000000</td>\n",
       "      <td>2.957940</td>\n",
       "      <td>0.085498</td>\n",
       "    </tr>\n",
       "    <tr>\n",
       "      <th>C(GHISOLFA)</th>\n",
       "      <td>314039097.690589</td>\n",
       "      <td>1.000000</td>\n",
       "      <td>2.585153</td>\n",
       "      <td>0.107912</td>\n",
       "    </tr>\n",
       "    <tr>\n",
       "      <th>C(DERGANO)</th>\n",
       "      <td>21939051.450314</td>\n",
       "      <td>1.000000</td>\n",
       "      <td>0.180601</td>\n",
       "      <td>0.670869</td>\n",
       "    </tr>\n",
       "    <tr>\n",
       "      <th>C(CORSICA)</th>\n",
       "      <td>13386549.385156</td>\n",
       "      <td>1.000000</td>\n",
       "      <td>0.110197</td>\n",
       "      <td>0.739929</td>\n",
       "    </tr>\n",
       "    <tr>\n",
       "      <th>C(TIBALDI)</th>\n",
       "      <td>127253141.613205</td>\n",
       "      <td>1.000000</td>\n",
       "      <td>1.047541</td>\n",
       "      <td>0.306107</td>\n",
       "    </tr>\n",
       "    <tr>\n",
       "      <th>C(STADERA)</th>\n",
       "      <td>146796.159650</td>\n",
       "      <td>1.000000</td>\n",
       "      <td>0.001208</td>\n",
       "      <td>0.972270</td>\n",
       "    </tr>\n",
       "    <tr>\n",
       "      <th>C(AFFORI)</th>\n",
       "      <td>49007765.421535</td>\n",
       "      <td>1.000000</td>\n",
       "      <td>0.403429</td>\n",
       "      <td>0.525343</td>\n",
       "    </tr>\n",
       "    <tr>\n",
       "      <th>C(GRECO)</th>\n",
       "      <td>5423835.213552</td>\n",
       "      <td>1.000000</td>\n",
       "      <td>0.044649</td>\n",
       "      <td>0.832657</td>\n",
       "    </tr>\n",
       "    <tr>\n",
       "      <th>C(SCALO)</th>\n",
       "      <td>2284555.820212</td>\n",
       "      <td>1.000000</td>\n",
       "      <td>0.018806</td>\n",
       "      <td>0.890927</td>\n",
       "    </tr>\n",
       "    <tr>\n",
       "      <th>C(NIGUARDA)</th>\n",
       "      <td>38071586.502761</td>\n",
       "      <td>1.000000</td>\n",
       "      <td>0.313403</td>\n",
       "      <td>0.575616</td>\n",
       "    </tr>\n",
       "    <tr>\n",
       "      <th>C(BOVISA)</th>\n",
       "      <td>13977471.093066</td>\n",
       "      <td>1.000000</td>\n",
       "      <td>0.115062</td>\n",
       "      <td>0.734463</td>\n",
       "    </tr>\n",
       "    <tr>\n",
       "      <th>C(GALLARATESE)</th>\n",
       "      <td>95563907.717063</td>\n",
       "      <td>1.000000</td>\n",
       "      <td>0.786677</td>\n",
       "      <td>0.375135</td>\n",
       "    </tr>\n",
       "    <tr>\n",
       "      <th>C(RIPAMONTI)</th>\n",
       "      <td>160300764.884901</td>\n",
       "      <td>1.000000</td>\n",
       "      <td>1.319587</td>\n",
       "      <td>0.250703</td>\n",
       "    </tr>\n",
       "  </tbody>\n",
       "</table>\n",
       "</div>"
      ],
      "text/plain": [
       "                          sum_sq       df        F   PR(>F)\n",
       "C(LORETO)       361243234.870064 1.000000 2.973735 0.084667\n",
       "C(CITTA)         27458103.425638 1.000000 0.226034 0.634494\n",
       "C(TORTONA)       85251682.447323 1.000000 0.701787 0.402210\n",
       "C(DE)           346494844.999241 1.000000 2.852327 0.091283\n",
       "C(BANDE)         75963534.092944 1.000000 0.625328 0.429099\n",
       "C(GIAMBELLINO)   33996443.311565 1.000000 0.279857 0.596811\n",
       "C(LODI)         150655451.222462 1.000000 1.240187 0.265471\n",
       "C(VILLAPIZZONE)  22643289.554839 1.000000 0.186398 0.665944\n",
       "C(PADOVA)          780777.426717 1.000000 0.006427 0.936104\n",
       "C(WASHINGTON)   284236697.792902 1.000000 2.339821 0.126146\n",
       "C(UMBRIA)        37026690.858735 1.000000 0.304802 0.580904\n",
       "C(S)            359324517.886373 1.000000 2.957940 0.085498\n",
       "C(GHISOLFA)     314039097.690589 1.000000 2.585153 0.107912\n",
       "C(DERGANO)       21939051.450314 1.000000 0.180601 0.670869\n",
       "C(CORSICA)       13386549.385156 1.000000 0.110197 0.739929\n",
       "C(TIBALDI)      127253141.613205 1.000000 1.047541 0.306107\n",
       "C(STADERA)         146796.159650 1.000000 0.001208 0.972270\n",
       "C(AFFORI)        49007765.421535 1.000000 0.403429 0.525343\n",
       "C(GRECO)          5423835.213552 1.000000 0.044649 0.832657\n",
       "C(SCALO)          2284555.820212 1.000000 0.018806 0.890927\n",
       "C(NIGUARDA)      38071586.502761 1.000000 0.313403 0.575616\n",
       "C(BOVISA)        13977471.093066 1.000000 0.115062 0.734463\n",
       "C(GALLARATESE)   95563907.717063 1.000000 0.786677 0.375135\n",
       "C(RIPAMONTI)    160300764.884901 1.000000 1.319587 0.250703"
      ]
     },
     "execution_count": 44,
     "metadata": {},
     "output_type": "execute_result"
    }
   ],
   "source": [
    "res[res['PR(>F)'] > 0.05]"
   ]
  },
  {
   "cell_type": "code",
   "execution_count": 45,
   "metadata": {},
   "outputs": [],
   "source": [
    "# Find all the neig witha a p value <0.05\n",
    "# and store them into bad_neigh\n",
    "\n",
    "pattern = r'C\\(([\\w]*)'\n",
    "\n",
    "bad_neigh = res[res['PR(>F)'] > 0.05].index.str.findall(pattern).str.get(0).to_list()"
   ]
  },
  {
   "cell_type": "code",
   "execution_count": 46,
   "metadata": {},
   "outputs": [
    {
     "data": {
      "text/html": [
       "<div>\n",
       "<style scoped>\n",
       "    .dataframe tbody tr th:only-of-type {\n",
       "        vertical-align: middle;\n",
       "    }\n",
       "\n",
       "    .dataframe tbody tr th {\n",
       "        vertical-align: top;\n",
       "    }\n",
       "\n",
       "    .dataframe thead th {\n",
       "        text-align: right;\n",
       "    }\n",
       "</style>\n",
       "<table border=\"1\" class=\"dataframe\">\n",
       "  <thead>\n",
       "    <tr style=\"text-align: right;\">\n",
       "      <th></th>\n",
       "      <th>coefficients</th>\n",
       "      <th>name</th>\n",
       "    </tr>\n",
       "  </thead>\n",
       "  <tbody>\n",
       "    <tr>\n",
       "      <th>DUOMO</th>\n",
       "      <td>10340.996439</td>\n",
       "      <td>DUOMO</td>\n",
       "    </tr>\n",
       "    <tr>\n",
       "      <th>CENTRALE</th>\n",
       "      <td>7052.485400</td>\n",
       "      <td>CENTRALE</td>\n",
       "    </tr>\n",
       "    <tr>\n",
       "      <th>BRERA</th>\n",
       "      <td>6270.148865</td>\n",
       "      <td>BRERA</td>\n",
       "    </tr>\n",
       "    <tr>\n",
       "      <th>TICINESE</th>\n",
       "      <td>5571.165587</td>\n",
       "      <td>TICINESE</td>\n",
       "    </tr>\n",
       "    <tr>\n",
       "      <th>MAGENTA - S. VITTORE</th>\n",
       "      <td>5409.948499</td>\n",
       "      <td>MAGENTA</td>\n",
       "    </tr>\n",
       "  </tbody>\n",
       "</table>\n",
       "</div>"
      ],
      "text/plain": [
       "                      coefficients      name\n",
       "DUOMO                 10340.996439     DUOMO\n",
       "CENTRALE               7052.485400  CENTRALE\n",
       "BRERA                  6270.148865     BRERA\n",
       "TICINESE               5571.165587  TICINESE\n",
       "MAGENTA - S. VITTORE   5409.948499   MAGENTA"
      ]
     },
     "execution_count": 46,
     "metadata": {},
     "output_type": "execute_result"
    }
   ],
   "source": [
    "# I had to delete the special characters to fit stats model\n",
    "# Now I re-put the special characters so it's easier for me\n",
    "\n",
    "pattern = r'[\\w]*'\n",
    "\n",
    "coeff_comparing = df_coeff[7:].sort_values(ascending=False, by='coefficients').copy()\n",
    "coeff_comparing['name'] = coeff_comparing.index.str.findall(pattern).str.get(0)\n",
    "coeff_comparing.head()"
   ]
  },
  {
   "cell_type": "code",
   "execution_count": 47,
   "metadata": {},
   "outputs": [
    {
     "data": {
      "text/plain": [
       "DUOMO                      False\n",
       "CENTRALE                   False\n",
       "BRERA                      False\n",
       "TICINESE                   False\n",
       "MAGENTA - S. VITTORE       False\n",
       "PAGANO                     False\n",
       "BUENOS AIRES - VENEZIA     False\n",
       "MACIACHINI - MAGGIOLINA    False\n",
       "NAVIGLI                    False\n",
       "GUASTALLA                  False\n",
       "GARIBALDI REPUBBLICA       False\n",
       "SARPI                      False\n",
       "XXII MARZO                 False\n",
       "S. CRISTOFORO               True\n",
       "SELINUNTE                  False\n",
       "LORETO                      True\n",
       "ISOLA                      False\n",
       "VIALE MONZA                False\n",
       "LODI - CORVETTO             True\n",
       "GHISOLFA                    True\n",
       "PORTA ROMANA               False\n",
       "VIGENTINA                  False\n",
       "DE ANGELI - MONTE ROSA      True\n",
       "BOVISA                      True\n",
       "NIGUARDA - CA' GRANDA       True\n",
       "GIAMBELLINO                 True\n",
       "AFFORI                      True\n",
       "GALLARATESE                 True\n",
       "BANDE NERE                  True\n",
       "DERGANO                     True\n",
       "WASHINGTON                  True\n",
       "RIPAMONTI                   True\n",
       "TIBALDI                     True\n",
       "CORSICA                     True\n",
       "VILLAPIZZONE                True\n",
       "SCALO ROMANA                True\n",
       "UMBRIA - MOLISE             True\n",
       "CITTA' STUDI                True\n",
       "PADOVA                      True\n",
       "TORTONA                     True\n",
       "STADERA                     True\n",
       "GRECO                       True\n",
       "minimum_nights             False\n",
       "Name: name, dtype: bool"
      ]
     },
     "execution_count": 47,
     "metadata": {},
     "output_type": "execute_result"
    }
   ],
   "source": [
    "# We can see a pretty clear threshold. After 'VIGENTINA' the\n",
    "# neighborhood is significant.\n",
    "\n",
    "coeff_comparing['name'].isin(bad_neigh)"
   ]
  },
  {
   "cell_type": "code",
   "execution_count": 48,
   "metadata": {},
   "outputs": [
    {
     "data": {
      "text/plain": [
       "['DUOMO',\n",
       " 'CENTRALE',\n",
       " 'BRERA',\n",
       " 'TICINESE',\n",
       " 'MAGENTA - S. VITTORE',\n",
       " 'PAGANO',\n",
       " 'BUENOS AIRES - VENEZIA',\n",
       " 'MACIACHINI - MAGGIOLINA',\n",
       " 'NAVIGLI',\n",
       " 'GUASTALLA',\n",
       " 'GARIBALDI REPUBBLICA',\n",
       " 'SARPI',\n",
       " 'XXII MARZO',\n",
       " 'SELINUNTE',\n",
       " 'ISOLA',\n",
       " 'VIALE MONZA',\n",
       " 'PORTA ROMANA',\n",
       " 'VIGENTINA',\n",
       " 'minimum_nights']"
      ]
     },
     "execution_count": 48,
     "metadata": {},
     "output_type": "execute_result"
    }
   ],
   "source": [
    "good_neig = coeff_comparing[~coeff_comparing['name'].isin(bad_neigh)].index.to_list()\n",
    "good_neig"
   ]
  },
  {
   "cell_type": "code",
   "execution_count": 49,
   "metadata": {},
   "outputs": [],
   "source": [
    "# I don't know why minimum_nights ended up in good_neig\n",
    "# I delete it\n",
    "\n",
    "try:\n",
    "    good_neig.remove('minimum_nights')\n",
    "except:\n",
    "    print('No minimum_nights')\n",
    "\n",
    "# 'LAMBADE' is the neig deleted to avoid Multicollinearity\n",
    "good_neig = good_neig + ['LAMBADE']"
   ]
  },
  {
   "cell_type": "code",
   "execution_count": 50,
   "metadata": {},
   "outputs": [
    {
     "data": {
      "text/plain": [
       "['DUOMO',\n",
       " 'CENTRALE',\n",
       " 'BRERA',\n",
       " 'TICINESE',\n",
       " 'MAGENTA - S. VITTORE',\n",
       " 'PAGANO',\n",
       " 'BUENOS AIRES - VENEZIA',\n",
       " 'MACIACHINI - MAGGIOLINA',\n",
       " 'NAVIGLI',\n",
       " 'GUASTALLA',\n",
       " 'GARIBALDI REPUBBLICA',\n",
       " 'SARPI',\n",
       " 'XXII MARZO',\n",
       " 'SELINUNTE',\n",
       " 'ISOLA',\n",
       " 'VIALE MONZA',\n",
       " 'PORTA ROMANA',\n",
       " 'VIGENTINA',\n",
       " 'LAMBADE']"
      ]
     },
     "execution_count": 50,
     "metadata": {},
     "output_type": "execute_result"
    }
   ],
   "source": [
    "good_neig"
   ]
  },
  {
   "cell_type": "markdown",
   "metadata": {},
   "source": [
    "### Retrain the model using only the significant neig"
   ]
  },
  {
   "cell_type": "code",
   "execution_count": 51,
   "metadata": {},
   "outputs": [],
   "source": [
    "# Create df2. A dataframe that has only neigborhoods that\n",
    "# really influence revenue.\n",
    "\n",
    "df2 = df[df['neighbourhood'].isin(good_neig)].copy()"
   ]
  },
  {
   "cell_type": "code",
   "execution_count": 52,
   "metadata": {},
   "outputs": [],
   "source": [
    "to_predict = 'revenue_ltm'\n",
    "\n",
    "# I deleted bedroom because it was correlated with beds.\n",
    "# That's to avoid multicollinearity\n",
    "\n",
    "num_col_to_keep = ['price','stars','bed','days_online',\n",
    "                 'bath','minimum_nights','room']\n",
    "\n",
    "cat_col_to_keep = good_neig[:-1]\n",
    "col_to_keep2 = num_col_to_keep + cat_col_to_keep \n",
    "\n",
    "X2 = df[col_to_keep2].copy()\n",
    "X2 = sm.add_constant(X2)\n",
    "y2 = df[to_predict].copy()"
   ]
  },
  {
   "cell_type": "code",
   "execution_count": 53,
   "metadata": {},
   "outputs": [],
   "source": [
    "# rename the columns\n",
    "pattern = r'[\\w_]*'\n",
    "\n",
    "for col in X2.columns.to_list():\n",
    "    new_col = re.findall(pattern=pattern, string=col)\n",
    "    new_col = ''.join(new_col)\n",
    "    X2.rename(columns={col:new_col}, inplace=True)"
   ]
  },
  {
   "cell_type": "code",
   "execution_count": 54,
   "metadata": {},
   "outputs": [
    {
     "data": {
      "text/html": [
       "<table class=\"simpletable\">\n",
       "<caption>OLS Regression Results</caption>\n",
       "<tr>\n",
       "  <th>Dep. Variable:</th>       <td>revenue_ltm</td>   <th>  R-squared:         </th> <td>   0.202</td> \n",
       "</tr>\n",
       "<tr>\n",
       "  <th>Model:</th>                   <td>OLS</td>       <th>  Adj. R-squared:    </th> <td>   0.199</td> \n",
       "</tr>\n",
       "<tr>\n",
       "  <th>Method:</th>             <td>Least Squares</td>  <th>  F-statistic:       </th> <td>   76.12</td> \n",
       "</tr>\n",
       "<tr>\n",
       "  <th>Date:</th>             <td>Sat, 20 Jan 2024</td> <th>  Prob (F-statistic):</th>  <td>  0.00</td>  \n",
       "</tr>\n",
       "<tr>\n",
       "  <th>Time:</th>                 <td>20:55:14</td>     <th>  Log-Likelihood:    </th> <td> -80405.</td> \n",
       "</tr>\n",
       "<tr>\n",
       "  <th>No. Observations:</th>      <td>  7548</td>      <th>  AIC:               </th> <td>1.609e+05</td>\n",
       "</tr>\n",
       "<tr>\n",
       "  <th>Df Residuals:</th>          <td>  7522</td>      <th>  BIC:               </th> <td>1.610e+05</td>\n",
       "</tr>\n",
       "<tr>\n",
       "  <th>Df Model:</th>              <td>    25</td>      <th>                     </th>     <td> </td>    \n",
       "</tr>\n",
       "<tr>\n",
       "  <th>Covariance Type:</th>      <td>nonrobust</td>    <th>                     </th>     <td> </td>    \n",
       "</tr>\n",
       "</table>\n",
       "<table class=\"simpletable\">\n",
       "<tr>\n",
       "                 <td></td>                   <th>coef</th>     <th>std err</th>      <th>t</th>      <th>P>|t|</th>  <th>[0.025</th>    <th>0.975]</th>  \n",
       "</tr>\n",
       "<tr>\n",
       "  <th>Intercept</th>                      <td>-1.858e+04</td> <td> 1144.502</td> <td>  -16.236</td> <td> 0.000</td> <td>-2.08e+04</td> <td>-1.63e+04</td>\n",
       "</tr>\n",
       "<tr>\n",
       "  <th>C(room)[T.1]</th>                   <td> 2501.3229</td> <td>  411.534</td> <td>    6.078</td> <td> 0.000</td> <td> 1694.601</td> <td> 3308.045</td>\n",
       "</tr>\n",
       "<tr>\n",
       "  <th>C(DUOMO)[T.1.0]</th>                <td> 8740.9427</td> <td>  544.346</td> <td>   16.058</td> <td> 0.000</td> <td> 7673.873</td> <td> 9808.012</td>\n",
       "</tr>\n",
       "<tr>\n",
       "  <th>C(CENTRALE)[T.1.0]</th>             <td> 5527.4723</td> <td>  532.859</td> <td>   10.373</td> <td> 0.000</td> <td> 4482.920</td> <td> 6572.024</td>\n",
       "</tr>\n",
       "<tr>\n",
       "  <th>C(BRERA)[T.1.0]</th>                <td> 4667.9481</td> <td>  629.895</td> <td>    7.411</td> <td> 0.000</td> <td> 3433.178</td> <td> 5902.718</td>\n",
       "</tr>\n",
       "<tr>\n",
       "  <th>C(TICINESE)[T.1.0]</th>             <td> 4070.4376</td> <td>  589.779</td> <td>    6.902</td> <td> 0.000</td> <td> 2914.306</td> <td> 5226.570</td>\n",
       "</tr>\n",
       "<tr>\n",
       "  <th>C(MAGENTASVITTORE)[T.1.0]</th>      <td> 3785.3261</td> <td>  851.574</td> <td>    4.445</td> <td> 0.000</td> <td> 2116.003</td> <td> 5454.649</td>\n",
       "</tr>\n",
       "<tr>\n",
       "  <th>C(PAGANO)[T.1.0]</th>               <td> 3748.0962</td> <td> 1173.524</td> <td>    3.194</td> <td> 0.001</td> <td> 1447.662</td> <td> 6048.531</td>\n",
       "</tr>\n",
       "<tr>\n",
       "  <th>C(BUENOSAIRESVENEZIA)[T.1.0]</th>   <td> 3291.0870</td> <td>  442.480</td> <td>    7.438</td> <td> 0.000</td> <td> 2423.703</td> <td> 4158.471</td>\n",
       "</tr>\n",
       "<tr>\n",
       "  <th>C(MACIACHINIMAGGIOLINA)[T.1.0]</th> <td> 3093.3879</td> <td>  904.425</td> <td>    3.420</td> <td> 0.001</td> <td> 1320.462</td> <td> 4866.314</td>\n",
       "</tr>\n",
       "<tr>\n",
       "  <th>C(NAVIGLI)[T.1.0]</th>              <td> 2719.7503</td> <td>  576.325</td> <td>    4.719</td> <td> 0.000</td> <td> 1589.993</td> <td> 3849.508</td>\n",
       "</tr>\n",
       "<tr>\n",
       "  <th>C(GUASTALLA)[T.1.0]</th>            <td> 2537.5276</td> <td>  875.063</td> <td>    2.900</td> <td> 0.004</td> <td>  822.159</td> <td> 4252.896</td>\n",
       "</tr>\n",
       "<tr>\n",
       "  <th>C(GARIBALDIREPUBBLICA)[T.1.0]</th>  <td> 2305.5339</td> <td>  934.078</td> <td>    2.468</td> <td> 0.014</td> <td>  474.479</td> <td> 4136.588</td>\n",
       "</tr>\n",
       "<tr>\n",
       "  <th>C(SARPI)[T.1.0]</th>                <td> 2300.5889</td> <td>  556.364</td> <td>    4.135</td> <td> 0.000</td> <td> 1209.960</td> <td> 3391.218</td>\n",
       "</tr>\n",
       "<tr>\n",
       "  <th>C(XXIIMARZO)[T.1.0]</th>            <td> 2252.1366</td> <td>  713.147</td> <td>    3.158</td> <td> 0.002</td> <td>  854.169</td> <td> 3650.104</td>\n",
       "</tr>\n",
       "<tr>\n",
       "  <th>C(SELINUNTE)[T.1.0]</th>            <td> 1943.0805</td> <td> 1076.148</td> <td>    1.806</td> <td> 0.071</td> <td> -166.470</td> <td> 4052.631</td>\n",
       "</tr>\n",
       "<tr>\n",
       "  <th>C(ISOLA)[T.1.0]</th>                <td> 1716.5051</td> <td>  618.797</td> <td>    2.774</td> <td> 0.006</td> <td>  503.489</td> <td> 2929.521</td>\n",
       "</tr>\n",
       "<tr>\n",
       "  <th>C(VIALEMONZA)[T.1.0]</th>           <td> 1775.9310</td> <td>  914.656</td> <td>    1.942</td> <td> 0.052</td> <td>  -17.050</td> <td> 3568.912</td>\n",
       "</tr>\n",
       "<tr>\n",
       "  <th>C(PORTAROMANA)[T.1.0]</th>          <td>  932.6178</td> <td>  818.298</td> <td>    1.140</td> <td> 0.254</td> <td> -671.475</td> <td> 2536.710</td>\n",
       "</tr>\n",
       "<tr>\n",
       "  <th>C(VIGENTINA)[T.1.0]</th>            <td>  731.3907</td> <td> 1069.134</td> <td>    0.684</td> <td> 0.494</td> <td>-1364.410</td> <td> 2827.191</td>\n",
       "</tr>\n",
       "<tr>\n",
       "  <th>const</th>                          <td>-1.858e+04</td> <td> 1144.502</td> <td>  -16.236</td> <td> 0.000</td> <td>-2.08e+04</td> <td>-1.63e+04</td>\n",
       "</tr>\n",
       "<tr>\n",
       "  <th>price</th>                          <td>   46.0620</td> <td>    3.866</td> <td>   11.915</td> <td> 0.000</td> <td>   38.484</td> <td>   53.640</td>\n",
       "</tr>\n",
       "<tr>\n",
       "  <th>stars</th>                          <td> 8046.5729</td> <td>  466.634</td> <td>   17.244</td> <td> 0.000</td> <td> 7131.841</td> <td> 8961.305</td>\n",
       "</tr>\n",
       "<tr>\n",
       "  <th>bed</th>                            <td>  859.2597</td> <td>  164.735</td> <td>    5.216</td> <td> 0.000</td> <td>  536.333</td> <td> 1182.187</td>\n",
       "</tr>\n",
       "<tr>\n",
       "  <th>days_online</th>                    <td>    2.0664</td> <td>    0.126</td> <td>   16.432</td> <td> 0.000</td> <td>    1.820</td> <td>    2.313</td>\n",
       "</tr>\n",
       "<tr>\n",
       "  <th>bath</th>                           <td> 2048.4197</td> <td>  458.248</td> <td>    4.470</td> <td> 0.000</td> <td> 1150.125</td> <td> 2946.714</td>\n",
       "</tr>\n",
       "<tr>\n",
       "  <th>minimum_nights</th>                 <td>-2454.6817</td> <td>  144.768</td> <td>  -16.956</td> <td> 0.000</td> <td>-2738.467</td> <td>-2170.897</td>\n",
       "</tr>\n",
       "</table>\n",
       "<table class=\"simpletable\">\n",
       "<tr>\n",
       "  <th>Omnibus:</th>       <td>3507.415</td> <th>  Durbin-Watson:     </th> <td>   2.061</td> \n",
       "</tr>\n",
       "<tr>\n",
       "  <th>Prob(Omnibus):</th>  <td> 0.000</td>  <th>  Jarque-Bera (JB):  </th> <td>31485.177</td>\n",
       "</tr>\n",
       "<tr>\n",
       "  <th>Skew:</th>           <td> 2.016</td>  <th>  Prob(JB):          </th> <td>    0.00</td> \n",
       "</tr>\n",
       "<tr>\n",
       "  <th>Kurtosis:</th>       <td>12.157</td>  <th>  Cond. No.          </th> <td>3.33e+17</td> \n",
       "</tr>\n",
       "</table><br/><br/>Notes:<br/>[1] Standard Errors assume that the covariance matrix of the errors is correctly specified.<br/>[2] The smallest eigenvalue is 1.23e-25. This might indicate that there are<br/>strong multicollinearity problems or that the design matrix is singular."
      ],
      "text/latex": [
       "\\begin{center}\n",
       "\\begin{tabular}{lclc}\n",
       "\\toprule\n",
       "\\textbf{Dep. Variable:}                 &   revenue\\_ltm   & \\textbf{  R-squared:         } &     0.202   \\\\\n",
       "\\textbf{Model:}                         &       OLS        & \\textbf{  Adj. R-squared:    } &     0.199   \\\\\n",
       "\\textbf{Method:}                        &  Least Squares   & \\textbf{  F-statistic:       } &     76.12   \\\\\n",
       "\\textbf{Date:}                          & Sat, 20 Jan 2024 & \\textbf{  Prob (F-statistic):} &     0.00    \\\\\n",
       "\\textbf{Time:}                          &     20:55:14     & \\textbf{  Log-Likelihood:    } &   -80405.   \\\\\n",
       "\\textbf{No. Observations:}              &        7548      & \\textbf{  AIC:               } & 1.609e+05   \\\\\n",
       "\\textbf{Df Residuals:}                  &        7522      & \\textbf{  BIC:               } & 1.610e+05   \\\\\n",
       "\\textbf{Df Model:}                      &          25      & \\textbf{                     } &             \\\\\n",
       "\\textbf{Covariance Type:}               &    nonrobust     & \\textbf{                     } &             \\\\\n",
       "\\bottomrule\n",
       "\\end{tabular}\n",
       "\\begin{tabular}{lcccccc}\n",
       "                                        & \\textbf{coef} & \\textbf{std err} & \\textbf{t} & \\textbf{P$> |$t$|$} & \\textbf{[0.025} & \\textbf{0.975]}  \\\\\n",
       "\\midrule\n",
       "\\textbf{Intercept}                      &   -1.858e+04  &     1144.502     &   -16.236  &         0.000        &    -2.08e+04    &    -1.63e+04     \\\\\n",
       "\\textbf{C(room)[T.1]}                   &    2501.3229  &      411.534     &     6.078  &         0.000        &     1694.601    &     3308.045     \\\\\n",
       "\\textbf{C(DUOMO)[T.1.0]}                &    8740.9427  &      544.346     &    16.058  &         0.000        &     7673.873    &     9808.012     \\\\\n",
       "\\textbf{C(CENTRALE)[T.1.0]}             &    5527.4723  &      532.859     &    10.373  &         0.000        &     4482.920    &     6572.024     \\\\\n",
       "\\textbf{C(BRERA)[T.1.0]}                &    4667.9481  &      629.895     &     7.411  &         0.000        &     3433.178    &     5902.718     \\\\\n",
       "\\textbf{C(TICINESE)[T.1.0]}             &    4070.4376  &      589.779     &     6.902  &         0.000        &     2914.306    &     5226.570     \\\\\n",
       "\\textbf{C(MAGENTASVITTORE)[T.1.0]}      &    3785.3261  &      851.574     &     4.445  &         0.000        &     2116.003    &     5454.649     \\\\\n",
       "\\textbf{C(PAGANO)[T.1.0]}               &    3748.0962  &     1173.524     &     3.194  &         0.001        &     1447.662    &     6048.531     \\\\\n",
       "\\textbf{C(BUENOSAIRESVENEZIA)[T.1.0]}   &    3291.0870  &      442.480     &     7.438  &         0.000        &     2423.703    &     4158.471     \\\\\n",
       "\\textbf{C(MACIACHINIMAGGIOLINA)[T.1.0]} &    3093.3879  &      904.425     &     3.420  &         0.001        &     1320.462    &     4866.314     \\\\\n",
       "\\textbf{C(NAVIGLI)[T.1.0]}              &    2719.7503  &      576.325     &     4.719  &         0.000        &     1589.993    &     3849.508     \\\\\n",
       "\\textbf{C(GUASTALLA)[T.1.0]}            &    2537.5276  &      875.063     &     2.900  &         0.004        &      822.159    &     4252.896     \\\\\n",
       "\\textbf{C(GARIBALDIREPUBBLICA)[T.1.0]}  &    2305.5339  &      934.078     &     2.468  &         0.014        &      474.479    &     4136.588     \\\\\n",
       "\\textbf{C(SARPI)[T.1.0]}                &    2300.5889  &      556.364     &     4.135  &         0.000        &     1209.960    &     3391.218     \\\\\n",
       "\\textbf{C(XXIIMARZO)[T.1.0]}            &    2252.1366  &      713.147     &     3.158  &         0.002        &      854.169    &     3650.104     \\\\\n",
       "\\textbf{C(SELINUNTE)[T.1.0]}            &    1943.0805  &     1076.148     &     1.806  &         0.071        &     -166.470    &     4052.631     \\\\\n",
       "\\textbf{C(ISOLA)[T.1.0]}                &    1716.5051  &      618.797     &     2.774  &         0.006        &      503.489    &     2929.521     \\\\\n",
       "\\textbf{C(VIALEMONZA)[T.1.0]}           &    1775.9310  &      914.656     &     1.942  &         0.052        &      -17.050    &     3568.912     \\\\\n",
       "\\textbf{C(PORTAROMANA)[T.1.0]}          &     932.6178  &      818.298     &     1.140  &         0.254        &     -671.475    &     2536.710     \\\\\n",
       "\\textbf{C(VIGENTINA)[T.1.0]}            &     731.3907  &     1069.134     &     0.684  &         0.494        &    -1364.410    &     2827.191     \\\\\n",
       "\\textbf{const}                          &   -1.858e+04  &     1144.502     &   -16.236  &         0.000        &    -2.08e+04    &    -1.63e+04     \\\\\n",
       "\\textbf{price}                          &      46.0620  &        3.866     &    11.915  &         0.000        &       38.484    &       53.640     \\\\\n",
       "\\textbf{stars}                          &    8046.5729  &      466.634     &    17.244  &         0.000        &     7131.841    &     8961.305     \\\\\n",
       "\\textbf{bed}                            &     859.2597  &      164.735     &     5.216  &         0.000        &      536.333    &     1182.187     \\\\\n",
       "\\textbf{days\\_online}                   &       2.0664  &        0.126     &    16.432  &         0.000        &        1.820    &        2.313     \\\\\n",
       "\\textbf{bath}                           &    2048.4197  &      458.248     &     4.470  &         0.000        &     1150.125    &     2946.714     \\\\\n",
       "\\textbf{minimum\\_nights}                &   -2454.6817  &      144.768     &   -16.956  &         0.000        &    -2738.467    &    -2170.897     \\\\\n",
       "\\bottomrule\n",
       "\\end{tabular}\n",
       "\\begin{tabular}{lclc}\n",
       "\\textbf{Omnibus:}       & 3507.415 & \\textbf{  Durbin-Watson:     } &     2.061  \\\\\n",
       "\\textbf{Prob(Omnibus):} &   0.000  & \\textbf{  Jarque-Bera (JB):  } & 31485.177  \\\\\n",
       "\\textbf{Skew:}          &   2.016  & \\textbf{  Prob(JB):          } &      0.00  \\\\\n",
       "\\textbf{Kurtosis:}      &  12.157  & \\textbf{  Cond. No.          } &  3.33e+17  \\\\\n",
       "\\bottomrule\n",
       "\\end{tabular}\n",
       "%\\caption{OLS Regression Results}\n",
       "\\end{center}\n",
       "\n",
       "Notes: \\newline\n",
       " [1] Standard Errors assume that the covariance matrix of the errors is correctly specified. \\newline\n",
       " [2] The smallest eigenvalue is 1.23e-25. This might indicate that there are \\newline\n",
       " strong multicollinearity problems or that the design matrix is singular."
      ],
      "text/plain": [
       "<class 'statsmodels.iolib.summary.Summary'>\n",
       "\"\"\"\n",
       "                            OLS Regression Results                            \n",
       "==============================================================================\n",
       "Dep. Variable:            revenue_ltm   R-squared:                       0.202\n",
       "Model:                            OLS   Adj. R-squared:                  0.199\n",
       "Method:                 Least Squares   F-statistic:                     76.12\n",
       "Date:                Sat, 20 Jan 2024   Prob (F-statistic):               0.00\n",
       "Time:                        20:55:14   Log-Likelihood:                -80405.\n",
       "No. Observations:                7548   AIC:                         1.609e+05\n",
       "Df Residuals:                    7522   BIC:                         1.610e+05\n",
       "Df Model:                          25                                         \n",
       "Covariance Type:            nonrobust                                         \n",
       "==================================================================================================\n",
       "                                     coef    std err          t      P>|t|      [0.025      0.975]\n",
       "--------------------------------------------------------------------------------------------------\n",
       "Intercept                      -1.858e+04   1144.502    -16.236      0.000   -2.08e+04   -1.63e+04\n",
       "C(room)[T.1]                    2501.3229    411.534      6.078      0.000    1694.601    3308.045\n",
       "C(DUOMO)[T.1.0]                 8740.9427    544.346     16.058      0.000    7673.873    9808.012\n",
       "C(CENTRALE)[T.1.0]              5527.4723    532.859     10.373      0.000    4482.920    6572.024\n",
       "C(BRERA)[T.1.0]                 4667.9481    629.895      7.411      0.000    3433.178    5902.718\n",
       "C(TICINESE)[T.1.0]              4070.4376    589.779      6.902      0.000    2914.306    5226.570\n",
       "C(MAGENTASVITTORE)[T.1.0]       3785.3261    851.574      4.445      0.000    2116.003    5454.649\n",
       "C(PAGANO)[T.1.0]                3748.0962   1173.524      3.194      0.001    1447.662    6048.531\n",
       "C(BUENOSAIRESVENEZIA)[T.1.0]    3291.0870    442.480      7.438      0.000    2423.703    4158.471\n",
       "C(MACIACHINIMAGGIOLINA)[T.1.0]  3093.3879    904.425      3.420      0.001    1320.462    4866.314\n",
       "C(NAVIGLI)[T.1.0]               2719.7503    576.325      4.719      0.000    1589.993    3849.508\n",
       "C(GUASTALLA)[T.1.0]             2537.5276    875.063      2.900      0.004     822.159    4252.896\n",
       "C(GARIBALDIREPUBBLICA)[T.1.0]   2305.5339    934.078      2.468      0.014     474.479    4136.588\n",
       "C(SARPI)[T.1.0]                 2300.5889    556.364      4.135      0.000    1209.960    3391.218\n",
       "C(XXIIMARZO)[T.1.0]             2252.1366    713.147      3.158      0.002     854.169    3650.104\n",
       "C(SELINUNTE)[T.1.0]             1943.0805   1076.148      1.806      0.071    -166.470    4052.631\n",
       "C(ISOLA)[T.1.0]                 1716.5051    618.797      2.774      0.006     503.489    2929.521\n",
       "C(VIALEMONZA)[T.1.0]            1775.9310    914.656      1.942      0.052     -17.050    3568.912\n",
       "C(PORTAROMANA)[T.1.0]            932.6178    818.298      1.140      0.254    -671.475    2536.710\n",
       "C(VIGENTINA)[T.1.0]              731.3907   1069.134      0.684      0.494   -1364.410    2827.191\n",
       "const                          -1.858e+04   1144.502    -16.236      0.000   -2.08e+04   -1.63e+04\n",
       "price                             46.0620      3.866     11.915      0.000      38.484      53.640\n",
       "stars                           8046.5729    466.634     17.244      0.000    7131.841    8961.305\n",
       "bed                              859.2597    164.735      5.216      0.000     536.333    1182.187\n",
       "days_online                        2.0664      0.126     16.432      0.000       1.820       2.313\n",
       "bath                            2048.4197    458.248      4.470      0.000    1150.125    2946.714\n",
       "minimum_nights                 -2454.6817    144.768    -16.956      0.000   -2738.467   -2170.897\n",
       "==============================================================================\n",
       "Omnibus:                     3507.415   Durbin-Watson:                   2.061\n",
       "Prob(Omnibus):                  0.000   Jarque-Bera (JB):            31485.177\n",
       "Skew:                           2.016   Prob(JB):                         0.00\n",
       "Kurtosis:                      12.157   Cond. No.                     3.33e+17\n",
       "==============================================================================\n",
       "\n",
       "Notes:\n",
       "[1] Standard Errors assume that the covariance matrix of the errors is correctly specified.\n",
       "[2] The smallest eigenvalue is 1.23e-25. This might indicate that there are\n",
       "strong multicollinearity problems or that the design matrix is singular.\n",
       "\"\"\""
      ]
     },
     "execution_count": 54,
     "metadata": {},
     "output_type": "execute_result"
    }
   ],
   "source": [
    "formula = f'{to_predict} ~ {X2.columns.to_list()[0]}'\n",
    "\n",
    "for col in X2.columns.to_list()[1:]:\n",
    "    if X2[col].max()==1:\n",
    "        formula += f' + C({col})'\n",
    "    else:\n",
    "        formula += f' + {col}'\n",
    "\n",
    "\n",
    "model = ols(formula, pd.concat([X2,y2], axis='columns')).fit()\n",
    "model.summary()"
   ]
  },
  {
   "cell_type": "code",
   "execution_count": 55,
   "metadata": {},
   "outputs": [
    {
     "name": "stdout",
     "output_type": "stream",
     "text": [
      "                 Feature        VIF\n",
      "0                  const 376.204549\n",
      "1                  price   1.534503\n",
      "2                  stars   1.086607\n",
      "3                    bed   1.239439\n",
      "4            days_online   1.073919\n",
      "5                   bath   1.178774\n",
      "6         minimum_nights   1.068691\n",
      "7                   room   1.149702\n",
      "8                  DUOMO   1.254624\n",
      "9               CENTRALE   1.100045\n",
      "10                 BRERA   1.153113\n",
      "11              TICINESE   1.086371\n",
      "12       MAGENTASVITTORE   1.053897\n",
      "13                PAGANO   1.024095\n",
      "14    BUENOSAIRESVENEZIA   1.150845\n",
      "15  MACIACHINIMAGGIOLINA   1.031668\n",
      "16               NAVIGLI   1.091779\n",
      "17             GUASTALLA   1.056913\n",
      "18   GARIBALDIREPUBBLICA   1.044353\n",
      "19                 SARPI   1.091674\n",
      "20             XXIIMARZO   1.056079\n",
      "21             SELINUNTE   1.022652\n",
      "22                 ISOLA   1.066061\n",
      "23            VIALEMONZA   1.032110\n",
      "24           PORTAROMANA   1.040211\n",
      "25             VIGENTINA   1.030564\n"
     ]
    }
   ],
   "source": [
    "# Check for multicollinearity\n",
    "\n",
    "from statsmodels.stats.outliers_influence import variance_inflation_factor\n",
    "\n",
    "X = X2.copy()\n",
    "vif_data = pd.DataFrame()\n",
    "vif_data[\"Feature\"] = X.columns\n",
    "vif_data[\"VIF\"] = [variance_inflation_factor(X.values, i) for i in range(X.shape[1])]\n",
    "print(vif_data)"
   ]
  },
  {
   "cell_type": "code",
   "execution_count": 57,
   "metadata": {},
   "outputs": [],
   "source": [
    "yhat2 = model.predict(X2)"
   ]
  },
  {
   "cell_type": "code",
   "execution_count": 58,
   "metadata": {},
   "outputs": [
    {
     "name": "stderr",
     "output_type": "stream",
     "text": [
      "c:\\Users\\matte\\anaconda3\\Lib\\site-packages\\seaborn\\_oldcore.py:1498: FutureWarning: is_categorical_dtype is deprecated and will be removed in a future version. Use isinstance(dtype, CategoricalDtype) instead\n",
      "  if pd.api.types.is_categorical_dtype(vector):\n",
      "c:\\Users\\matte\\anaconda3\\Lib\\site-packages\\seaborn\\_oldcore.py:1119: FutureWarning: use_inf_as_na option is deprecated and will be removed in a future version. Convert inf values to NaN before operating instead.\n",
      "  with pd.option_context('mode.use_inf_as_na', True):\n",
      "c:\\Users\\matte\\anaconda3\\Lib\\site-packages\\seaborn\\_oldcore.py:1498: FutureWarning: is_categorical_dtype is deprecated and will be removed in a future version. Use isinstance(dtype, CategoricalDtype) instead\n",
      "  if pd.api.types.is_categorical_dtype(vector):\n",
      "c:\\Users\\matte\\anaconda3\\Lib\\site-packages\\seaborn\\_oldcore.py:1119: FutureWarning: use_inf_as_na option is deprecated and will be removed in a future version. Convert inf values to NaN before operating instead.\n",
      "  with pd.option_context('mode.use_inf_as_na', True):\n"
     ]
    },
    {
     "data": {
      "image/png": "[encoded data removed]",
      "text/plain": [
       "<Figure size 640x480 with 1 Axes>"
      ]
     },
     "metadata": {},
     "output_type": "display_data"
    }
   ],
   "source": [
    "ax1 = sns.kdeplot(y2, color=\"r\", label=\"Actual Value\")\n",
    "sns.kdeplot(yhat2, color=\"b\", label=\"Fitted Values\" , ax=ax1)\n",
    "\n",
    "plt.title('Actual vs Fitted Values for Revenue')\n",
    "plt.xlabel('Revenue')\n",
    "plt.ylabel('Proportion of Listings')\n",
    "plt.legend(['Actual Value', 'Predicted Value'])\n",
    "plt.show()"
   ]
  }
 ],
 "metadata": {
  "kernelspec": {
   "display_name": "base",
   "language": "python",
   "name": "python3"
  },
  "language_info": {
   "codemirror_mode": {
    "name": "ipython",
    "version": 3
   },
   "file_extension": ".py",
   "mimetype": "text/x-python",
   "name": "python",
   "nbconvert_exporter": "python",
   "pygments_lexer": "ipython3",
   "version": "3.11.5"
  }
 },
 "nbformat": 4,
 "nbformat_minor": 2
}
