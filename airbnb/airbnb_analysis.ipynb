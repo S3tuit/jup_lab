{
 "cells": [
  {
   "cell_type": "code",
   "execution_count": 1,
   "metadata": {},
   "outputs": [],
   "source": [
    "import pandas as pd\n",
    "import numpy as np\n",
    "import matplotlib.pyplot as plt\n",
    "import seaborn as sns\n",
    "import seaborn as sns; sns.set()"
   ]
  },
  {
   "cell_type": "code",
   "execution_count": 2,
   "metadata": {},
   "outputs": [
    {
     "data": {
      "text/html": [
       "<div>\n",
       "<style scoped>\n",
       "    .dataframe tbody tr th:only-of-type {\n",
       "        vertical-align: middle;\n",
       "    }\n",
       "\n",
       "    .dataframe tbody tr th {\n",
       "        vertical-align: top;\n",
       "    }\n",
       "\n",
       "    .dataframe thead th {\n",
       "        text-align: right;\n",
       "    }\n",
       "</style>\n",
       "<table border=\"1\" class=\"dataframe\">\n",
       "  <thead>\n",
       "    <tr style=\"text-align: right;\">\n",
       "      <th></th>\n",
       "      <th>id</th>\n",
       "      <th>name</th>\n",
       "      <th>price</th>\n",
       "      <th>room_type</th>\n",
       "      <th>number_of_reviews</th>\n",
       "      <th>stars</th>\n",
       "      <th>bed</th>\n",
       "      <th>bedroom</th>\n",
       "      <th>bath</th>\n",
       "      <th>neighbourhood</th>\n",
       "      <th>latitude</th>\n",
       "      <th>longitude</th>\n",
       "      <th>minimum_nights</th>\n",
       "      <th>last_review</th>\n",
       "      <th>reviews_per_month</th>\n",
       "      <th>number_of_reviews_ltm</th>\n",
       "      <th>calculated_host_listings_count</th>\n",
       "      <th>host_id</th>\n",
       "    </tr>\n",
       "  </thead>\n",
       "  <tbody>\n",
       "    <tr>\n",
       "      <th>0</th>\n",
       "      <td>23986</td>\n",
       "      <td>Rental unit in Milan · ★4.64 · 1 bedroom · 1 b...</td>\n",
       "      <td>150.0</td>\n",
       "      <td>Entire home/apt</td>\n",
       "      <td>26.0</td>\n",
       "      <td>4.64</td>\n",
       "      <td>1.0</td>\n",
       "      <td>1.0</td>\n",
       "      <td>1.0</td>\n",
       "      <td>NAVIGLI</td>\n",
       "      <td>45.44806</td>\n",
       "      <td>9.17373</td>\n",
       "      <td>1.0</td>\n",
       "      <td>2023-07-29</td>\n",
       "      <td>0.18</td>\n",
       "      <td>4.0</td>\n",
       "      <td>1.0</td>\n",
       "      <td>95941</td>\n",
       "    </tr>\n",
       "    <tr>\n",
       "      <th>1</th>\n",
       "      <td>40470</td>\n",
       "      <td>Rental unit in Milan · ★4.67 · 2 bedrooms · 4 ...</td>\n",
       "      <td>80.0</td>\n",
       "      <td>Entire home/apt</td>\n",
       "      <td>41.0</td>\n",
       "      <td>4.67</td>\n",
       "      <td>4.0</td>\n",
       "      <td>2.0</td>\n",
       "      <td>1.0</td>\n",
       "      <td>VIALE MONZA</td>\n",
       "      <td>45.52023</td>\n",
       "      <td>9.22747</td>\n",
       "      <td>3.0</td>\n",
       "      <td>2023-09-09</td>\n",
       "      <td>0.26</td>\n",
       "      <td>3.0</td>\n",
       "      <td>2.0</td>\n",
       "      <td>174203</td>\n",
       "    </tr>\n",
       "    <tr>\n",
       "      <th>2</th>\n",
       "      <td>304050</td>\n",
       "      <td>Rental unit in Milan · ★4.91 · 1 bedroom · 1 b...</td>\n",
       "      <td>49.0</td>\n",
       "      <td>Private room</td>\n",
       "      <td>264.0</td>\n",
       "      <td>4.91</td>\n",
       "      <td>1.0</td>\n",
       "      <td>1.0</td>\n",
       "      <td>1.0</td>\n",
       "      <td>XXII MARZO</td>\n",
       "      <td>45.45709</td>\n",
       "      <td>9.21531</td>\n",
       "      <td>2.0</td>\n",
       "      <td>2023-11-21</td>\n",
       "      <td>1.92</td>\n",
       "      <td>33.0</td>\n",
       "      <td>2.0</td>\n",
       "      <td>1566887</td>\n",
       "    </tr>\n",
       "    <tr>\n",
       "      <th>3</th>\n",
       "      <td>46536</td>\n",
       "      <td>Rental unit in Milan · ★4.53 · 2 bedrooms · 3 ...</td>\n",
       "      <td>110.0</td>\n",
       "      <td>Entire home/apt</td>\n",
       "      <td>35.0</td>\n",
       "      <td>4.53</td>\n",
       "      <td>3.0</td>\n",
       "      <td>2.0</td>\n",
       "      <td>1.0</td>\n",
       "      <td>VIALE MONZA</td>\n",
       "      <td>45.52276</td>\n",
       "      <td>9.22478</td>\n",
       "      <td>3.0</td>\n",
       "      <td>2023-10-30</td>\n",
       "      <td>0.24</td>\n",
       "      <td>5.0</td>\n",
       "      <td>1.0</td>\n",
       "      <td>138683</td>\n",
       "    </tr>\n",
       "    <tr>\n",
       "      <th>4</th>\n",
       "      <td>333223</td>\n",
       "      <td>Rental unit in Milano · ★5.0 · 1 bedroom · 2 b...</td>\n",
       "      <td>150.0</td>\n",
       "      <td>Private room</td>\n",
       "      <td>3.0</td>\n",
       "      <td>5.00</td>\n",
       "      <td>2.0</td>\n",
       "      <td>1.0</td>\n",
       "      <td>1.0</td>\n",
       "      <td>MAGENTA - S. VITTORE</td>\n",
       "      <td>45.46097</td>\n",
       "      <td>9.16431</td>\n",
       "      <td>1.0</td>\n",
       "      <td>2023-04-19</td>\n",
       "      <td>0.02</td>\n",
       "      <td>1.0</td>\n",
       "      <td>5.0</td>\n",
       "      <td>1697947</td>\n",
       "    </tr>\n",
       "  </tbody>\n",
       "</table>\n",
       "</div>"
      ],
      "text/plain": [
       "       id                                               name  price  \\\n",
       "0   23986  Rental unit in Milan · ★4.64 · 1 bedroom · 1 b...  150.0   \n",
       "1   40470  Rental unit in Milan · ★4.67 · 2 bedrooms · 4 ...   80.0   \n",
       "2  304050  Rental unit in Milan · ★4.91 · 1 bedroom · 1 b...   49.0   \n",
       "3   46536  Rental unit in Milan · ★4.53 · 2 bedrooms · 3 ...  110.0   \n",
       "4  333223  Rental unit in Milano · ★5.0 · 1 bedroom · 2 b...  150.0   \n",
       "\n",
       "         room_type  number_of_reviews  stars  bed  bedroom  bath  \\\n",
       "0  Entire home/apt               26.0   4.64  1.0      1.0   1.0   \n",
       "1  Entire home/apt               41.0   4.67  4.0      2.0   1.0   \n",
       "2     Private room              264.0   4.91  1.0      1.0   1.0   \n",
       "3  Entire home/apt               35.0   4.53  3.0      2.0   1.0   \n",
       "4     Private room                3.0   5.00  2.0      1.0   1.0   \n",
       "\n",
       "          neighbourhood  latitude  longitude  minimum_nights last_review  \\\n",
       "0               NAVIGLI  45.44806    9.17373             1.0  2023-07-29   \n",
       "1           VIALE MONZA  45.52023    9.22747             3.0  2023-09-09   \n",
       "2            XXII MARZO  45.45709    9.21531             2.0  2023-11-21   \n",
       "3           VIALE MONZA  45.52276    9.22478             3.0  2023-10-30   \n",
       "4  MAGENTA - S. VITTORE  45.46097    9.16431             1.0  2023-04-19   \n",
       "\n",
       "   reviews_per_month  number_of_reviews_ltm  calculated_host_listings_count  \\\n",
       "0               0.18                    4.0                             1.0   \n",
       "1               0.26                    3.0                             2.0   \n",
       "2               1.92                   33.0                             2.0   \n",
       "3               0.24                    5.0                             1.0   \n",
       "4               0.02                    1.0                             5.0   \n",
       "\n",
       "   host_id  \n",
       "0    95941  \n",
       "1   174203  \n",
       "2  1566887  \n",
       "3   138683  \n",
       "4  1697947  "
      ]
     },
     "execution_count": 2,
     "metadata": {},
     "output_type": "execute_result"
    }
   ],
   "source": [
    "df = pd.read_csv(r'C:\\Users\\matte\\OneDrive\\Desktop\\GitHub\\data\\Airbnb\\listings_cleaned.csv')\n",
    "df.head()"
   ]
  },
  {
   "cell_type": "markdown",
   "metadata": {},
   "source": [
    "### Handling outliers"
   ]
  },
  {
   "cell_type": "markdown",
   "metadata": {},
   "source": [
    "#### Reviews Number"
   ]
  },
  {
   "cell_type": "code",
   "execution_count": 3,
   "metadata": {},
   "outputs": [
    {
     "data": {
      "image/png": "[encoded data removed]",
      "text/plain": [
       "<Figure size 640x480 with 1 Axes>"
      ]
     },
     "metadata": {},
     "output_type": "display_data"
    }
   ],
   "source": [
    "df['number_of_reviews'].plot.hist();"
   ]
  },
  {
   "cell_type": "code",
   "execution_count": 4,
   "metadata": {},
   "outputs": [
    {
     "name": "stdout",
     "output_type": "stream",
     "text": [
      "Low-Band Outlier: -59.5\n",
      "High-Band Outlier: 112.5\n",
      "------\n",
      "Low-Band Extreme Outlier: -124.0\n",
      "High-Band Extreme Outlier: 177.0\n"
     ]
    }
   ],
   "source": [
    "def outliers(x):\n",
    "    q1 = np.percentile(x, 25)\n",
    "    q3 = np.percentile(x, 75)\n",
    "    iqr = q3 - q1\n",
    "    print(f'Low-Band Outlier: {q1-1.5*iqr}')\n",
    "    print(f'High-Band Outlier: {q3+1.5*iqr}')\n",
    "    print('------')\n",
    "    print(f'Low-Band Extreme Outlier: {q1-3*iqr}')\n",
    "    print(f'High-Band Extreme Outlier: {q3+3*iqr}')\n",
    "\n",
    "outliers(df['number_of_reviews'])"
   ]
  },
  {
   "cell_type": "code",
   "execution_count": 5,
   "metadata": {},
   "outputs": [
    {
     "data": {
      "text/plain": [
       "9332"
      ]
     },
     "execution_count": 5,
     "metadata": {},
     "output_type": "execute_result"
    }
   ],
   "source": [
    "df.loc[df['number_of_reviews_ltm']>4, 'id'].count()"
   ]
  },
  {
   "cell_type": "code",
   "execution_count": 6,
   "metadata": {},
   "outputs": [],
   "source": [
    "# I keep just the listings with at least 5 reviews\n",
    "# in the past 12 months\n",
    "\n",
    "df = df[df['number_of_reviews_ltm']>4]"
   ]
  },
  {
   "cell_type": "markdown",
   "metadata": {},
   "source": [
    "#### Price"
   ]
  },
  {
   "cell_type": "code",
   "execution_count": 7,
   "metadata": {},
   "outputs": [
    {
     "data": {
      "image/png": "[encoded data removed]",
      "text/plain": [
       "<Figure size 640x480 with 1 Axes>"
      ]
     },
     "metadata": {},
     "output_type": "display_data"
    }
   ],
   "source": [
    "df['price'].plot.hist();"
   ]
  },
  {
   "cell_type": "code",
   "execution_count": 8,
   "metadata": {},
   "outputs": [
    {
     "data": {
      "image/png": "[encoded data removed]",
      "text/plain": [
       "<Figure size 640x480 with 1 Axes>"
      ]
     },
     "metadata": {},
     "output_type": "display_data"
    }
   ],
   "source": [
    "df['price'].plot.box();"
   ]
  },
  {
   "cell_type": "code",
   "execution_count": 9,
   "metadata": {},
   "outputs": [
    {
     "name": "stdout",
     "output_type": "stream",
     "text": [
      "Low-Band Outlier: -17.5\n",
      "High-Band Outlier: 218.5\n",
      "------\n",
      "Low-Band Extreme Outlier: -106.0\n",
      "High-Band Extreme Outlier: 307.0\n"
     ]
    }
   ],
   "source": [
    "outliers(df['price'])"
   ]
  },
  {
   "cell_type": "code",
   "execution_count": 10,
   "metadata": {},
   "outputs": [
    {
     "data": {
      "text/plain": [
       "0"
      ]
     },
     "execution_count": 10,
     "metadata": {},
     "output_type": "execute_result"
    }
   ],
   "source": [
    "# There are no listings that cost too little\n",
    "\n",
    "df[df['price']<10]['id'].count()"
   ]
  },
  {
   "cell_type": "code",
   "execution_count": 11,
   "metadata": {},
   "outputs": [
    {
     "data": {
      "text/plain": [
       "712"
      ]
     },
     "execution_count": 11,
     "metadata": {},
     "output_type": "execute_result"
    }
   ],
   "source": [
    "# How many rows I'm deleting\n",
    "\n",
    "df[df['price']>219]['id'].count()"
   ]
  },
  {
   "cell_type": "code",
   "execution_count": 12,
   "metadata": {},
   "outputs": [],
   "source": [
    "# Exlude the outliers\n",
    "\n",
    "df = df[df['price'] < 219]"
   ]
  },
  {
   "cell_type": "code",
   "execution_count": 13,
   "metadata": {},
   "outputs": [
    {
     "name": "stdout",
     "output_type": "stream",
     "text": [
      "<class 'pandas.core.frame.DataFrame'>\n",
      "Index: 8615 entries, 2 to 14490\n",
      "Data columns (total 18 columns):\n",
      " #   Column                          Non-Null Count  Dtype  \n",
      "---  ------                          --------------  -----  \n",
      " 0   id                              8615 non-null   int64  \n",
      " 1   name                            8615 non-null   object \n",
      " 2   price                           8615 non-null   float64\n",
      " 3   room_type                       8615 non-null   object \n",
      " 4   number_of_reviews               8615 non-null   float64\n",
      " 5   stars                           8615 non-null   float64\n",
      " 6   bed                             8615 non-null   float64\n",
      " 7   bedroom                         8615 non-null   float64\n",
      " 8   bath                            8615 non-null   float64\n",
      " 9   neighbourhood                   8615 non-null   object \n",
      " 10  latitude                        8615 non-null   float64\n",
      " 11  longitude                       8615 non-null   float64\n",
      " 12  minimum_nights                  8615 non-null   float64\n",
      " 13  last_review                     8615 non-null   object \n",
      " 14  reviews_per_month               8615 non-null   float64\n",
      " 15  number_of_reviews_ltm           8615 non-null   float64\n",
      " 16  calculated_host_listings_count  8615 non-null   float64\n",
      " 17  host_id                         8615 non-null   int64  \n",
      "dtypes: float64(12), int64(2), object(4)\n",
      "memory usage: 1.2+ MB\n"
     ]
    }
   ],
   "source": [
    "# No null col, nice!\n",
    "\n",
    "df.info()"
   ]
  },
  {
   "cell_type": "markdown",
   "metadata": {},
   "source": [
    "### Bed"
   ]
  },
  {
   "cell_type": "code",
   "execution_count": 14,
   "metadata": {},
   "outputs": [
    {
     "data": {
      "image/png": "[encoded data removed]",
      "text/plain": [
       "<Figure size 640x480 with 1 Axes>"
      ]
     },
     "metadata": {},
     "output_type": "display_data"
    }
   ],
   "source": [
    "df['bed'].plot.hist(bins=20);"
   ]
  },
  {
   "cell_type": "code",
   "execution_count": 15,
   "metadata": {},
   "outputs": [
    {
     "name": "stdout",
     "output_type": "stream",
     "text": [
      "Low-Band Outlier: -0.5\n",
      "High-Band Outlier: 3.5\n",
      "------\n",
      "Low-Band Extreme Outlier: -2.0\n",
      "High-Band Extreme Outlier: 5.0\n"
     ]
    }
   ],
   "source": [
    "outliers(df['bed'])"
   ]
  },
  {
   "cell_type": "code",
   "execution_count": 16,
   "metadata": {},
   "outputs": [
    {
     "data": {
      "text/plain": [
       "155"
      ]
     },
     "execution_count": 16,
     "metadata": {},
     "output_type": "execute_result"
    }
   ],
   "source": [
    "df[df['bed']>4]['id'].count()"
   ]
  },
  {
   "cell_type": "code",
   "execution_count": 17,
   "metadata": {},
   "outputs": [],
   "source": [
    "df = df[df['bed']<4]"
   ]
  },
  {
   "cell_type": "markdown",
   "metadata": {},
   "source": [
    "### Bath"
   ]
  },
  {
   "cell_type": "code",
   "execution_count": 18,
   "metadata": {},
   "outputs": [
    {
     "name": "stdout",
     "output_type": "stream",
     "text": [
      "Low-Band Outlier: 1.0\n",
      "High-Band Outlier: 1.0\n",
      "------\n",
      "Low-Band Extreme Outlier: 1.0\n",
      "High-Band Extreme Outlier: 1.0\n"
     ]
    },
    {
     "data": {
      "image/png": "[encoded data removed]",
      "text/plain": [
       "<Figure size 640x480 with 1 Axes>"
      ]
     },
     "metadata": {},
     "output_type": "display_data"
    }
   ],
   "source": [
    "outliers(df['bath'])\n",
    "df['bath'].plot.hist(bins=20);"
   ]
  },
  {
   "cell_type": "code",
   "execution_count": 19,
   "metadata": {},
   "outputs": [
    {
     "data": {
      "text/plain": [
       "bath\n",
       "False    7613\n",
       "True      528\n",
       "Name: count, dtype: int64"
      ]
     },
     "execution_count": 19,
     "metadata": {},
     "output_type": "execute_result"
    }
   ],
   "source": [
    "# I've decided to keep all the bath values.\n",
    "# It's not rare for a home to have 2 baths\n",
    "\n",
    "(df['bath'] > 1).value_counts()"
   ]
  },
  {
   "cell_type": "markdown",
   "metadata": {},
   "source": [
    "### Bedroom"
   ]
  },
  {
   "cell_type": "code",
   "execution_count": 20,
   "metadata": {},
   "outputs": [
    {
     "name": "stdout",
     "output_type": "stream",
     "text": [
      "Low-Band Outlier: 1.0\n",
      "High-Band Outlier: 1.0\n",
      "------\n",
      "Low-Band Extreme Outlier: 1.0\n",
      "High-Band Extreme Outlier: 1.0\n"
     ]
    },
    {
     "data": {
      "image/png": "[encoded data removed]",
      "text/plain": [
       "<Figure size 640x480 with 1 Axes>"
      ]
     },
     "metadata": {},
     "output_type": "display_data"
    }
   ],
   "source": [
    "outliers(df['bedroom'])\n",
    "df['bedroom'].plot.hist(bins=20);"
   ]
  },
  {
   "cell_type": "code",
   "execution_count": 22,
   "metadata": {},
   "outputs": [
    {
     "data": {
      "text/plain": [
       "bedroom\n",
       "False    8081\n",
       "True       60\n",
       "Name: count, dtype: int64"
      ]
     },
     "execution_count": 22,
     "metadata": {},
     "output_type": "execute_result"
    }
   ],
   "source": [
    "(df['bedroom'] > 2).value_counts()"
   ]
  },
  {
   "cell_type": "code",
   "execution_count": 23,
   "metadata": {},
   "outputs": [],
   "source": [
    "df = df[df['bedroom'] <= 2]"
   ]
  },
  {
   "cell_type": "markdown",
   "metadata": {},
   "source": [
    "### Data exploration"
   ]
  },
  {
   "cell_type": "code",
   "execution_count": 24,
   "metadata": {},
   "outputs": [
    {
     "data": {
      "image/png": "[encoded data removed]",
      "text/plain": [
       "<Figure size 640x480 with 1 Axes>"
      ]
     },
     "metadata": {},
     "output_type": "display_data"
    }
   ],
   "source": [
    "df['price'].plot.hist(bins=25);"
   ]
  },
  {
   "cell_type": "code",
   "execution_count": 25,
   "metadata": {},
   "outputs": [
    {
     "data": {
      "image/png": "[encoded data removed]",
      "text/plain": [
       "<Figure size 640x480 with 1 Axes>"
      ]
     },
     "metadata": {},
     "output_type": "display_data"
    }
   ],
   "source": [
    "df['number_of_reviews_ltm'].plot.hist(bins=25);"
   ]
  },
  {
   "cell_type": "code",
   "execution_count": 28,
   "metadata": {},
   "outputs": [
    {
     "data": {
      "text/plain": [
       "minimum_nights\n",
       "1.0    3597\n",
       "2.0    3251\n",
       "3.0     752\n",
       "4.0     219\n",
       "5.0     111\n",
       "Name: count, dtype: int64"
      ]
     },
     "execution_count": 28,
     "metadata": {},
     "output_type": "execute_result"
    }
   ],
   "source": [
    "df['minimum_nights'].value_counts()"
   ]
  },
  {
   "cell_type": "code",
   "execution_count": 27,
   "metadata": {},
   "outputs": [],
   "source": [
    "df = df[df['minimum_nights']<6]"
   ]
  },
  {
   "cell_type": "markdown",
   "metadata": {},
   "source": [
    "## Revenue in the last 12 Months\n",
    "\n",
    "There's no enough data to get the true revenue of the last 12 months. But we can get a proxy with this formula:\n",
    "\n",
    "*4.2 * number_of_reviews_ltm * price*\n",
    "\n",
    "The average number of nights per Airbnb booking in \"Europe, Middle East, and Africa\" in 2022 is 4.2.\n",
    "\n",
    "[Source](https://www.statista.com/statistics/1193597/airbnb-average-nights-per-booking-by-region-worldwide/)\n",
    "\n",
    "This is the best proxy based on the available data."
   ]
  },
  {
   "cell_type": "code",
   "execution_count": 29,
   "metadata": {},
   "outputs": [],
   "source": [
    "df['multiply'] = 4.2\n",
    "df.loc[df['minimum_nights']==5, 'multiply'] = 5"
   ]
  },
  {
   "cell_type": "code",
   "execution_count": 30,
   "metadata": {},
   "outputs": [
    {
     "data": {
      "text/html": [
       "<div>\n",
       "<style scoped>\n",
       "    .dataframe tbody tr th:only-of-type {\n",
       "        vertical-align: middle;\n",
       "    }\n",
       "\n",
       "    .dataframe tbody tr th {\n",
       "        vertical-align: top;\n",
       "    }\n",
       "\n",
       "    .dataframe thead th {\n",
       "        text-align: right;\n",
       "    }\n",
       "</style>\n",
       "<table border=\"1\" class=\"dataframe\">\n",
       "  <thead>\n",
       "    <tr style=\"text-align: right;\">\n",
       "      <th></th>\n",
       "      <th>id</th>\n",
       "      <th>name</th>\n",
       "      <th>price</th>\n",
       "      <th>room_type</th>\n",
       "      <th>number_of_reviews</th>\n",
       "      <th>stars</th>\n",
       "      <th>bed</th>\n",
       "      <th>bedroom</th>\n",
       "      <th>bath</th>\n",
       "      <th>neighbourhood</th>\n",
       "      <th>latitude</th>\n",
       "      <th>longitude</th>\n",
       "      <th>minimum_nights</th>\n",
       "      <th>last_review</th>\n",
       "      <th>reviews_per_month</th>\n",
       "      <th>number_of_reviews_ltm</th>\n",
       "      <th>calculated_host_listings_count</th>\n",
       "      <th>host_id</th>\n",
       "      <th>multiply</th>\n",
       "      <th>revenue_ltm</th>\n",
       "    </tr>\n",
       "  </thead>\n",
       "  <tbody>\n",
       "    <tr>\n",
       "      <th>2</th>\n",
       "      <td>304050</td>\n",
       "      <td>Rental unit in Milan · ★4.91 · 1 bedroom · 1 b...</td>\n",
       "      <td>49.0</td>\n",
       "      <td>Private room</td>\n",
       "      <td>264.0</td>\n",
       "      <td>4.91</td>\n",
       "      <td>1.0</td>\n",
       "      <td>1.0</td>\n",
       "      <td>1.0</td>\n",
       "      <td>XXII MARZO</td>\n",
       "      <td>45.457090</td>\n",
       "      <td>9.215310</td>\n",
       "      <td>2.0</td>\n",
       "      <td>2023-11-21</td>\n",
       "      <td>1.92</td>\n",
       "      <td>33.0</td>\n",
       "      <td>2.0</td>\n",
       "      <td>1566887</td>\n",
       "      <td>4.2</td>\n",
       "      <td>6791.4</td>\n",
       "    </tr>\n",
       "    <tr>\n",
       "      <th>3</th>\n",
       "      <td>46536</td>\n",
       "      <td>Rental unit in Milan · ★4.53 · 2 bedrooms · 3 ...</td>\n",
       "      <td>110.0</td>\n",
       "      <td>Entire home/apt</td>\n",
       "      <td>35.0</td>\n",
       "      <td>4.53</td>\n",
       "      <td>3.0</td>\n",
       "      <td>2.0</td>\n",
       "      <td>1.0</td>\n",
       "      <td>VIALE MONZA</td>\n",
       "      <td>45.522760</td>\n",
       "      <td>9.224780</td>\n",
       "      <td>3.0</td>\n",
       "      <td>2023-10-30</td>\n",
       "      <td>0.24</td>\n",
       "      <td>5.0</td>\n",
       "      <td>1.0</td>\n",
       "      <td>138683</td>\n",
       "      <td>4.2</td>\n",
       "      <td>2310.0</td>\n",
       "    </tr>\n",
       "    <tr>\n",
       "      <th>9</th>\n",
       "      <td>84741</td>\n",
       "      <td>Loft in Milan · ★4.63 · 1 bedroom · 1 bed · 1 ...</td>\n",
       "      <td>39.0</td>\n",
       "      <td>Private room</td>\n",
       "      <td>569.0</td>\n",
       "      <td>4.63</td>\n",
       "      <td>1.0</td>\n",
       "      <td>1.0</td>\n",
       "      <td>1.0</td>\n",
       "      <td>PARCO FORLANINI - ORTICA</td>\n",
       "      <td>45.469994</td>\n",
       "      <td>9.244106</td>\n",
       "      <td>1.0</td>\n",
       "      <td>2023-12-18</td>\n",
       "      <td>3.71</td>\n",
       "      <td>52.0</td>\n",
       "      <td>2.0</td>\n",
       "      <td>443989</td>\n",
       "      <td>4.2</td>\n",
       "      <td>8517.6</td>\n",
       "    </tr>\n",
       "    <tr>\n",
       "      <th>11</th>\n",
       "      <td>348448</td>\n",
       "      <td>Rental unit in Milan · ★4.54 · Studio · 1 bed ...</td>\n",
       "      <td>99.0</td>\n",
       "      <td>Entire home/apt</td>\n",
       "      <td>137.0</td>\n",
       "      <td>4.54</td>\n",
       "      <td>1.0</td>\n",
       "      <td>0.0</td>\n",
       "      <td>1.0</td>\n",
       "      <td>BRERA</td>\n",
       "      <td>45.476170</td>\n",
       "      <td>9.188730</td>\n",
       "      <td>1.0</td>\n",
       "      <td>2023-11-26</td>\n",
       "      <td>1.00</td>\n",
       "      <td>38.0</td>\n",
       "      <td>1.0</td>\n",
       "      <td>326090</td>\n",
       "      <td>4.2</td>\n",
       "      <td>15800.4</td>\n",
       "    </tr>\n",
       "    <tr>\n",
       "      <th>12</th>\n",
       "      <td>90830</td>\n",
       "      <td>Loft in Milan · ★4.67 · 2 bedrooms · 3 beds · ...</td>\n",
       "      <td>91.0</td>\n",
       "      <td>Entire home/apt</td>\n",
       "      <td>186.0</td>\n",
       "      <td>4.67</td>\n",
       "      <td>3.0</td>\n",
       "      <td>2.0</td>\n",
       "      <td>1.0</td>\n",
       "      <td>NAVIGLI</td>\n",
       "      <td>45.446780</td>\n",
       "      <td>9.163470</td>\n",
       "      <td>1.0</td>\n",
       "      <td>2023-11-27</td>\n",
       "      <td>1.20</td>\n",
       "      <td>67.0</td>\n",
       "      <td>22.0</td>\n",
       "      <td>181255620</td>\n",
       "      <td>4.2</td>\n",
       "      <td>25607.4</td>\n",
       "    </tr>\n",
       "  </tbody>\n",
       "</table>\n",
       "</div>"
      ],
      "text/plain": [
       "        id                                               name  price  \\\n",
       "2   304050  Rental unit in Milan · ★4.91 · 1 bedroom · 1 b...   49.0   \n",
       "3    46536  Rental unit in Milan · ★4.53 · 2 bedrooms · 3 ...  110.0   \n",
       "9    84741  Loft in Milan · ★4.63 · 1 bedroom · 1 bed · 1 ...   39.0   \n",
       "11  348448  Rental unit in Milan · ★4.54 · Studio · 1 bed ...   99.0   \n",
       "12   90830  Loft in Milan · ★4.67 · 2 bedrooms · 3 beds · ...   91.0   \n",
       "\n",
       "          room_type  number_of_reviews  stars  bed  bedroom  bath  \\\n",
       "2      Private room              264.0   4.91  1.0      1.0   1.0   \n",
       "3   Entire home/apt               35.0   4.53  3.0      2.0   1.0   \n",
       "9      Private room              569.0   4.63  1.0      1.0   1.0   \n",
       "11  Entire home/apt              137.0   4.54  1.0      0.0   1.0   \n",
       "12  Entire home/apt              186.0   4.67  3.0      2.0   1.0   \n",
       "\n",
       "               neighbourhood   latitude  longitude  minimum_nights  \\\n",
       "2                 XXII MARZO  45.457090   9.215310             2.0   \n",
       "3                VIALE MONZA  45.522760   9.224780             3.0   \n",
       "9   PARCO FORLANINI - ORTICA  45.469994   9.244106             1.0   \n",
       "11                     BRERA  45.476170   9.188730             1.0   \n",
       "12                   NAVIGLI  45.446780   9.163470             1.0   \n",
       "\n",
       "   last_review  reviews_per_month  number_of_reviews_ltm  \\\n",
       "2   2023-11-21               1.92                   33.0   \n",
       "3   2023-10-30               0.24                    5.0   \n",
       "9   2023-12-18               3.71                   52.0   \n",
       "11  2023-11-26               1.00                   38.0   \n",
       "12  2023-11-27               1.20                   67.0   \n",
       "\n",
       "    calculated_host_listings_count    host_id  multiply  revenue_ltm  \n",
       "2                              2.0    1566887       4.2       6791.4  \n",
       "3                              1.0     138683       4.2       2310.0  \n",
       "9                              2.0     443989       4.2       8517.6  \n",
       "11                             1.0     326090       4.2      15800.4  \n",
       "12                            22.0  181255620       4.2      25607.4  "
      ]
     },
     "execution_count": 30,
     "metadata": {},
     "output_type": "execute_result"
    }
   ],
   "source": [
    "df['revenue_ltm'] = df['multiply'] * df['number_of_reviews_ltm'] * df['price']\n",
    "\n",
    "df.head()"
   ]
  },
  {
   "cell_type": "markdown",
   "metadata": {},
   "source": [
    "### One-Hot Encoding"
   ]
  },
  {
   "cell_type": "code",
   "execution_count": 33,
   "metadata": {},
   "outputs": [
    {
     "data": {
      "text/plain": [
       "room_type\n",
       "Entire home/apt    6942\n",
       "Private room        950\n",
       "Name: count, dtype: int64"
      ]
     },
     "execution_count": 33,
     "metadata": {},
     "output_type": "execute_result"
    }
   ],
   "source": [
    "df['room_type'].value_counts()"
   ]
  },
  {
   "cell_type": "code",
   "execution_count": 32,
   "metadata": {},
   "outputs": [],
   "source": [
    "# Drop the occurrences of Hotel room and Shared room\n",
    "\n",
    "df = df[(df['room_type'] != 'Hotel room')&(df['room_type'] != 'Shared room')]"
   ]
  },
  {
   "cell_type": "code",
   "execution_count": 34,
   "metadata": {},
   "outputs": [],
   "source": [
    "# Entire home/apt = 1\n",
    "# Private room = 0\n",
    "\n",
    "df['room'] = 1\n",
    "df.loc[df['room_type']=='Private room','room'] = 0"
   ]
  },
  {
   "cell_type": "markdown",
   "metadata": {},
   "source": [
    "#### Delete the 'neighbourhood' with too few occurrences"
   ]
  },
  {
   "cell_type": "code",
   "execution_count": 36,
   "metadata": {},
   "outputs": [
    {
     "data": {
      "text/plain": [
       "neighbourhood\n",
       "NAVIGLI       344\n",
       "TICINESE      331\n",
       "BRERA         311\n",
       "ISOLA         290\n",
       "XXII MARZO    215\n",
       "Name: count, dtype: int64"
      ]
     },
     "execution_count": 36,
     "metadata": {},
     "output_type": "execute_result"
    }
   ],
   "source": [
    "neigh_count = df['neighbourhood'].value_counts()\n",
    "neigh_count[5:10]"
   ]
  },
  {
   "cell_type": "code",
   "execution_count": 39,
   "metadata": {},
   "outputs": [
    {
     "name": "stdout",
     "output_type": "stream",
     "text": [
      "38\n",
      "42\n"
     ]
    }
   ],
   "source": [
    "# Check to see how many columns I'm deleting\n",
    "\n",
    "print(neigh_count[neigh_count<50].count())\n",
    "print(neigh_count[neigh_count>50].count())"
   ]
  },
  {
   "cell_type": "code",
   "execution_count": 40,
   "metadata": {},
   "outputs": [],
   "source": [
    "neigh_count = neigh_count[neigh_count>50]\n",
    "\n",
    "# I delete the listings that aren't in our considered neighbourhoods\n",
    "df = df[df['neighbourhood'].isin(neigh_count.index.to_list())]"
   ]
  },
  {
   "cell_type": "code",
   "execution_count": 43,
   "metadata": {},
   "outputs": [],
   "source": [
    "# One hot encoding 'neighbourhood'\n",
    "\n",
    "df = pd.concat([df,\n",
    "           pd.get_dummies(df['neighbourhood'], dtype='float64')],\n",
    "           axis='columns')"
   ]
  },
  {
   "cell_type": "markdown",
   "metadata": {},
   "source": [
    "### Linear Regression"
   ]
  },
  {
   "cell_type": "code",
   "execution_count": 52,
   "metadata": {},
   "outputs": [],
   "source": [
    "# I delete the last one-hot encoded to avoid Multicollinearity\n",
    "neig_to_keep = neigh_count.index.to_list()[:-1]\n",
    "\n",
    "col_to_keep = ['price','stars','bed','bedroom','bath','room','minimum_nights'] + neig_to_keep\n",
    "\n",
    "# I'm shuffling the dataframe... otherwise, when I do cross_val_score\n",
    "# I can't be that sure that the model see all the neighbourhood\n",
    "df = df.sample(frac=1).reset_index(drop=True)\n",
    "\n",
    "X = df[col_to_keep]\n",
    "y = df['revenue_ltm']"
   ]
  },
  {
   "cell_type": "code",
   "execution_count": 53,
   "metadata": {},
   "outputs": [
    {
     "name": "stdout",
     "output_type": "stream",
     "text": [
      "R2:  0.1713053475533829\n",
      "MSE:  104762373.41773067\n"
     ]
    }
   ],
   "source": [
    "from sklearn.linear_model import LinearRegression\n",
    "import sklearn.metrics as metrics\n",
    "\n",
    "lm = LinearRegression()\n",
    "lm.fit(X,y)\n",
    "\n",
    "yhat = lm.predict(X)\n",
    "print('R2: ', metrics.r2_score(y, yhat))\n",
    "print('MSE: ', metrics.mean_squared_error(y, yhat))"
   ]
  },
  {
   "cell_type": "code",
   "execution_count": 54,
   "metadata": {},
   "outputs": [],
   "source": [
    "# Standardizing the features doesn't change anything\n",
    "# so I comment out this cell\n",
    "\n",
    "# from sklearn.preprocessing import StandardScaler\n",
    "\n",
    "# scaler = StandardScaler()\n",
    "# X_scaled = scaler.fit_transform(X)\n",
    "\n",
    "# # Fit the linear regression model on the standardized data\n",
    "# model = LinearRegression()\n",
    "# model.fit(X_scaled, y)\n",
    "\n",
    "# yhat = model.predict(X_scaled)\n",
    "# print('R2: ', metrics.r2_score(y, yhat))\n",
    "# print('MSE: ', metrics.mean_squared_error(y, yhat))"
   ]
  },
  {
   "cell_type": "code",
   "execution_count": 55,
   "metadata": {},
   "outputs": [
    {
     "name": "stderr",
     "output_type": "stream",
     "text": [
      "c:\\Users\\matte\\anaconda3\\Lib\\site-packages\\seaborn\\_oldcore.py:1498: FutureWarning: is_categorical_dtype is deprecated and will be removed in a future version. Use isinstance(dtype, CategoricalDtype) instead\n",
      "  if pd.api.types.is_categorical_dtype(vector):\n",
      "c:\\Users\\matte\\anaconda3\\Lib\\site-packages\\seaborn\\_oldcore.py:1119: FutureWarning: use_inf_as_na option is deprecated and will be removed in a future version. Convert inf values to NaN before operating instead.\n",
      "  with pd.option_context('mode.use_inf_as_na', True):\n",
      "c:\\Users\\matte\\anaconda3\\Lib\\site-packages\\seaborn\\_oldcore.py:1498: FutureWarning: is_categorical_dtype is deprecated and will be removed in a future version. Use isinstance(dtype, CategoricalDtype) instead\n",
      "  if pd.api.types.is_categorical_dtype(vector):\n",
      "c:\\Users\\matte\\anaconda3\\Lib\\site-packages\\seaborn\\_oldcore.py:1119: FutureWarning: use_inf_as_na option is deprecated and will be removed in a future version. Convert inf values to NaN before operating instead.\n",
      "  with pd.option_context('mode.use_inf_as_na', True):\n"
     ]
    },
    {
     "data": {
      "image/png": "[encoded data removed]",
      "text/plain": [
       "<Figure size 640x480 with 1 Axes>"
      ]
     },
     "metadata": {},
     "output_type": "display_data"
    }
   ],
   "source": [
    "# ax1 = sns.displot(y, hist=False, color=\"r\", label=\"Actual Value\")\n",
    "# sns.distplot(yhat, hist=False, color=\"b\", label=\"Fitted Values\" , ax=ax1)\n",
    "\n",
    "ax1 = sns.kdeplot(y, color=\"r\", label=\"Actual Value\")\n",
    "sns.kdeplot(yhat, color=\"b\", label=\"Fitted Values\" , ax=ax1)\n",
    "\n",
    "plt.title('Actual vs Fitted Values for Revenue')\n",
    "plt.xlabel('Revenue')\n",
    "plt.ylabel('Proportion of Listings')\n",
    "plt.legend(['Actual Value', 'Predicted Value'])\n",
    "plt.show()\n"
   ]
  },
  {
   "cell_type": "code",
   "execution_count": 56,
   "metadata": {},
   "outputs": [],
   "source": [
    "coefficients = lm.coef_\n",
    "\n",
    "coefficients_dict = dict(zip(col_to_keep, coefficients))\n",
    "\n",
    "df_coeff = pd.DataFrame(coefficients_dict, index=['coefficients']).T"
   ]
  },
  {
   "cell_type": "code",
   "execution_count": 57,
   "metadata": {},
   "outputs": [
    {
     "data": {
      "text/html": [
       "<div>\n",
       "<style scoped>\n",
       "    .dataframe tbody tr th:only-of-type {\n",
       "        vertical-align: middle;\n",
       "    }\n",
       "\n",
       "    .dataframe tbody tr th {\n",
       "        vertical-align: top;\n",
       "    }\n",
       "\n",
       "    .dataframe thead th {\n",
       "        text-align: right;\n",
       "    }\n",
       "</style>\n",
       "<table border=\"1\" class=\"dataframe\">\n",
       "  <thead>\n",
       "    <tr style=\"text-align: right;\">\n",
       "      <th></th>\n",
       "      <th>coefficients</th>\n",
       "    </tr>\n",
       "  </thead>\n",
       "  <tbody>\n",
       "    <tr>\n",
       "      <th>DUOMO</th>\n",
       "      <td>11811.292776</td>\n",
       "    </tr>\n",
       "    <tr>\n",
       "      <th>stars</th>\n",
       "      <td>8430.176328</td>\n",
       "    </tr>\n",
       "    <tr>\n",
       "      <th>BRERA</th>\n",
       "      <td>8076.990985</td>\n",
       "    </tr>\n",
       "    <tr>\n",
       "      <th>CENTRALE</th>\n",
       "      <td>7973.277408</td>\n",
       "    </tr>\n",
       "    <tr>\n",
       "      <th>MAGENTA - S. VITTORE</th>\n",
       "      <td>6838.491557</td>\n",
       "    </tr>\n",
       "    <tr>\n",
       "      <th>TICINESE</th>\n",
       "      <td>6495.268819</td>\n",
       "    </tr>\n",
       "    <tr>\n",
       "      <th>PAGANO</th>\n",
       "      <td>5660.502954</td>\n",
       "    </tr>\n",
       "    <tr>\n",
       "      <th>BUENOS AIRES - VENEZIA</th>\n",
       "      <td>5657.931199</td>\n",
       "    </tr>\n",
       "    <tr>\n",
       "      <th>GUASTALLA</th>\n",
       "      <td>5584.647344</td>\n",
       "    </tr>\n",
       "    <tr>\n",
       "      <th>MACIACHINI - MAGGIOLINA</th>\n",
       "      <td>5432.769412</td>\n",
       "    </tr>\n",
       "    <tr>\n",
       "      <th>GARIBALDI REPUBBLICA</th>\n",
       "      <td>5307.641552</td>\n",
       "    </tr>\n",
       "    <tr>\n",
       "      <th>NAVIGLI</th>\n",
       "      <td>5129.281120</td>\n",
       "    </tr>\n",
       "    <tr>\n",
       "      <th>SARPI</th>\n",
       "      <td>4725.320723</td>\n",
       "    </tr>\n",
       "    <tr>\n",
       "      <th>XXII MARZO</th>\n",
       "      <td>4643.527976</td>\n",
       "    </tr>\n",
       "    <tr>\n",
       "      <th>S. CRISTOFORO</th>\n",
       "      <td>4239.424772</td>\n",
       "    </tr>\n",
       "    <tr>\n",
       "      <th>ISOLA</th>\n",
       "      <td>4186.823534</td>\n",
       "    </tr>\n",
       "    <tr>\n",
       "      <th>LORETO</th>\n",
       "      <td>3968.463480</td>\n",
       "    </tr>\n",
       "    <tr>\n",
       "      <th>SELINUNTE</th>\n",
       "      <td>3803.605440</td>\n",
       "    </tr>\n",
       "    <tr>\n",
       "      <th>PORTA ROMANA</th>\n",
       "      <td>3461.280790</td>\n",
       "    </tr>\n",
       "    <tr>\n",
       "      <th>VIGENTINA</th>\n",
       "      <td>3188.287706</td>\n",
       "    </tr>\n",
       "    <tr>\n",
       "      <th>VIALE MONZA</th>\n",
       "      <td>3167.170656</td>\n",
       "    </tr>\n",
       "    <tr>\n",
       "      <th>LODI - CORVETTO</th>\n",
       "      <td>2998.550573</td>\n",
       "    </tr>\n",
       "    <tr>\n",
       "      <th>DE ANGELI - MONTE ROSA</th>\n",
       "      <td>2560.230669</td>\n",
       "    </tr>\n",
       "    <tr>\n",
       "      <th>WASHINGTON</th>\n",
       "      <td>2542.368484</td>\n",
       "    </tr>\n",
       "    <tr>\n",
       "      <th>GHISOLFA</th>\n",
       "      <td>2359.135184</td>\n",
       "    </tr>\n",
       "    <tr>\n",
       "      <th>BOVISA</th>\n",
       "      <td>2148.308035</td>\n",
       "    </tr>\n",
       "    <tr>\n",
       "      <th>AFFORI</th>\n",
       "      <td>2047.389821</td>\n",
       "    </tr>\n",
       "    <tr>\n",
       "      <th>NIGUARDA - CA' GRANDA</th>\n",
       "      <td>1987.352131</td>\n",
       "    </tr>\n",
       "    <tr>\n",
       "      <th>room</th>\n",
       "      <td>1967.703565</td>\n",
       "    </tr>\n",
       "    <tr>\n",
       "      <th>GIAMBELLINO</th>\n",
       "      <td>1814.383577</td>\n",
       "    </tr>\n",
       "    <tr>\n",
       "      <th>BANDE NERE</th>\n",
       "      <td>1654.298333</td>\n",
       "    </tr>\n",
       "    <tr>\n",
       "      <th>GALLARATESE</th>\n",
       "      <td>1537.640978</td>\n",
       "    </tr>\n",
       "    <tr>\n",
       "      <th>CORSICA</th>\n",
       "      <td>1471.080423</td>\n",
       "    </tr>\n",
       "    <tr>\n",
       "      <th>DERGANO</th>\n",
       "      <td>1470.363678</td>\n",
       "    </tr>\n",
       "    <tr>\n",
       "      <th>TIBALDI</th>\n",
       "      <td>1389.481312</td>\n",
       "    </tr>\n",
       "    <tr>\n",
       "      <th>TORTONA</th>\n",
       "      <td>1383.739306</td>\n",
       "    </tr>\n",
       "    <tr>\n",
       "      <th>VILLAPIZZONE</th>\n",
       "      <td>1383.495478</td>\n",
       "    </tr>\n",
       "    <tr>\n",
       "      <th>UMBRIA - MOLISE</th>\n",
       "      <td>1371.751741</td>\n",
       "    </tr>\n",
       "    <tr>\n",
       "      <th>bath</th>\n",
       "      <td>1320.437754</td>\n",
       "    </tr>\n",
       "    <tr>\n",
       "      <th>CITTA' STUDI</th>\n",
       "      <td>934.505031</td>\n",
       "    </tr>\n",
       "    <tr>\n",
       "      <th>PADOVA</th>\n",
       "      <td>846.104844</td>\n",
       "    </tr>\n",
       "    <tr>\n",
       "      <th>SCALO ROMANA</th>\n",
       "      <td>830.985705</td>\n",
       "    </tr>\n",
       "    <tr>\n",
       "      <th>bed</th>\n",
       "      <td>793.513145</td>\n",
       "    </tr>\n",
       "    <tr>\n",
       "      <th>STADERA</th>\n",
       "      <td>676.655395</td>\n",
       "    </tr>\n",
       "    <tr>\n",
       "      <th>bedroom</th>\n",
       "      <td>543.002494</td>\n",
       "    </tr>\n",
       "    <tr>\n",
       "      <th>GRECO</th>\n",
       "      <td>180.926607</td>\n",
       "    </tr>\n",
       "    <tr>\n",
       "      <th>price</th>\n",
       "      <td>35.698995</td>\n",
       "    </tr>\n",
       "    <tr>\n",
       "      <th>minimum_nights</th>\n",
       "      <td>-2021.622328</td>\n",
       "    </tr>\n",
       "  </tbody>\n",
       "</table>\n",
       "</div>"
      ],
      "text/plain": [
       "                         coefficients\n",
       "DUOMO                    11811.292776\n",
       "stars                     8430.176328\n",
       "BRERA                     8076.990985\n",
       "CENTRALE                  7973.277408\n",
       "MAGENTA - S. VITTORE      6838.491557\n",
       "TICINESE                  6495.268819\n",
       "PAGANO                    5660.502954\n",
       "BUENOS AIRES - VENEZIA    5657.931199\n",
       "GUASTALLA                 5584.647344\n",
       "MACIACHINI - MAGGIOLINA   5432.769412\n",
       "GARIBALDI REPUBBLICA      5307.641552\n",
       "NAVIGLI                   5129.281120\n",
       "SARPI                     4725.320723\n",
       "XXII MARZO                4643.527976\n",
       "S. CRISTOFORO             4239.424772\n",
       "ISOLA                     4186.823534\n",
       "LORETO                    3968.463480\n",
       "SELINUNTE                 3803.605440\n",
       "PORTA ROMANA              3461.280790\n",
       "VIGENTINA                 3188.287706\n",
       "VIALE MONZA               3167.170656\n",
       "LODI - CORVETTO           2998.550573\n",
       "DE ANGELI - MONTE ROSA    2560.230669\n",
       "WASHINGTON                2542.368484\n",
       "GHISOLFA                  2359.135184\n",
       "BOVISA                    2148.308035\n",
       "AFFORI                    2047.389821\n",
       "NIGUARDA - CA' GRANDA     1987.352131\n",
       "room                      1967.703565\n",
       "GIAMBELLINO               1814.383577\n",
       "BANDE NERE                1654.298333\n",
       "GALLARATESE               1537.640978\n",
       "CORSICA                   1471.080423\n",
       "DERGANO                   1470.363678\n",
       "TIBALDI                   1389.481312\n",
       "TORTONA                   1383.739306\n",
       "VILLAPIZZONE              1383.495478\n",
       "UMBRIA - MOLISE           1371.751741\n",
       "bath                      1320.437754\n",
       "CITTA' STUDI               934.505031\n",
       "PADOVA                     846.104844\n",
       "SCALO ROMANA               830.985705\n",
       "bed                        793.513145\n",
       "STADERA                    676.655395\n",
       "bedroom                    543.002494\n",
       "GRECO                      180.926607\n",
       "price                       35.698995\n",
       "minimum_nights           -2021.622328"
      ]
     },
     "execution_count": 57,
     "metadata": {},
     "output_type": "execute_result"
    }
   ],
   "source": [
    "df_coeff.sort_values(ascending=False, by='coefficients')"
   ]
  },
  {
   "cell_type": "markdown",
   "metadata": {},
   "source": [
    "### Polynomial Regression"
   ]
  },
  {
   "cell_type": "code",
   "execution_count": 60,
   "metadata": {},
   "outputs": [
    {
     "name": "stdout",
     "output_type": "stream",
     "text": [
      "[0.16739764 0.13941034 0.16440672 0.15991487 0.1344175 ]\n",
      "[0.17262261 0.14555314 0.17181549 0.17036958 0.14807458]\n",
      "\n",
      "0.15310941360526023\n",
      "0.1616870774013891\n"
     ]
    }
   ],
   "source": [
    "# I try to fit the PolyFeatures just to 'price'\n",
    "# It's normal that after a poin, increasing the price will decrease the revenue\n",
    "\n",
    "from sklearn.preprocessing import PolynomialFeatures\n",
    "from sklearn.model_selection import cross_val_score\n",
    "\n",
    "poly = PolynomialFeatures(degree=2)\n",
    "\n",
    "X_price2 = X.copy()\n",
    "X_price2['price'] = poly.fit_transform(X_price2[['price']])\n",
    "\n",
    "lr = LinearRegression()\n",
    "\n",
    "print(cross_val_score(lr,X_price2,y, cv=5, scoring='r2'))\n",
    "print(cross_val_score(lr,X,y, cv=5, scoring='r2'))\n",
    "print()\n",
    "print(cross_val_score(lr,X_price2,y, cv=5, scoring='r2').mean())\n",
    "print(cross_val_score(lr,X,y, cv=5, scoring='r2').mean())"
   ]
  }
 ],
 "metadata": {
  "kernelspec": {
   "display_name": "base",
   "language": "python",
   "name": "python3"
  },
  "language_info": {
   "codemirror_mode": {
    "name": "ipython",
    "version": 3
   },
   "file_extension": ".py",
   "mimetype": "text/x-python",
   "name": "python",
   "nbconvert_exporter": "python",
   "pygments_lexer": "ipython3",
   "version": "3.11.5"
  }
 },
 "nbformat": 4,
 "nbformat_minor": 2
}
