{
 "cells": [
  {
   "cell_type": "markdown",
   "metadata": {},
   "source": [
    "## Add test-train split for the linear regression"
   ]
  },
  {
   "cell_type": "code",
   "execution_count": 1,
   "metadata": {},
   "outputs": [],
   "source": [
    "import pandas as pd\n",
    "import numpy as np\n",
    "import matplotlib.pyplot as plt\n",
    "import seaborn as sns\n",
    "import seaborn as sns; sns.set()"
   ]
  },
  {
   "cell_type": "code",
   "execution_count": 2,
   "metadata": {},
   "outputs": [
    {
     "data": {
      "text/html": [
       "<div>\n",
       "<style scoped>\n",
       "    .dataframe tbody tr th:only-of-type {\n",
       "        vertical-align: middle;\n",
       "    }\n",
       "\n",
       "    .dataframe tbody tr th {\n",
       "        vertical-align: top;\n",
       "    }\n",
       "\n",
       "    .dataframe thead th {\n",
       "        text-align: right;\n",
       "    }\n",
       "</style>\n",
       "<table border=\"1\" class=\"dataframe\">\n",
       "  <thead>\n",
       "    <tr style=\"text-align: right;\">\n",
       "      <th></th>\n",
       "      <th>id</th>\n",
       "      <th>name</th>\n",
       "      <th>price</th>\n",
       "      <th>room_type</th>\n",
       "      <th>number_of_reviews</th>\n",
       "      <th>stars</th>\n",
       "      <th>bed</th>\n",
       "      <th>bedroom</th>\n",
       "      <th>bath</th>\n",
       "      <th>neighbourhood</th>\n",
       "      <th>latitude</th>\n",
       "      <th>longitude</th>\n",
       "      <th>minimum_nights</th>\n",
       "      <th>last_review</th>\n",
       "      <th>reviews_per_month</th>\n",
       "      <th>number_of_reviews_ltm</th>\n",
       "      <th>calculated_host_listings_count</th>\n",
       "      <th>host_id</th>\n",
       "    </tr>\n",
       "  </thead>\n",
       "  <tbody>\n",
       "    <tr>\n",
       "      <th>0</th>\n",
       "      <td>23986</td>\n",
       "      <td>Rental unit in Milan · ★4.64 · 1 bedroom · 1 b...</td>\n",
       "      <td>150.0</td>\n",
       "      <td>Entire home/apt</td>\n",
       "      <td>26.0</td>\n",
       "      <td>4.64</td>\n",
       "      <td>1.0</td>\n",
       "      <td>1.0</td>\n",
       "      <td>1.0</td>\n",
       "      <td>NAVIGLI</td>\n",
       "      <td>45.44806</td>\n",
       "      <td>9.17373</td>\n",
       "      <td>1.0</td>\n",
       "      <td>2023-07-29</td>\n",
       "      <td>0.18</td>\n",
       "      <td>4.0</td>\n",
       "      <td>1.0</td>\n",
       "      <td>95941</td>\n",
       "    </tr>\n",
       "    <tr>\n",
       "      <th>1</th>\n",
       "      <td>40470</td>\n",
       "      <td>Rental unit in Milan · ★4.67 · 2 bedrooms · 4 ...</td>\n",
       "      <td>80.0</td>\n",
       "      <td>Entire home/apt</td>\n",
       "      <td>41.0</td>\n",
       "      <td>4.67</td>\n",
       "      <td>4.0</td>\n",
       "      <td>2.0</td>\n",
       "      <td>1.0</td>\n",
       "      <td>VIALE MONZA</td>\n",
       "      <td>45.52023</td>\n",
       "      <td>9.22747</td>\n",
       "      <td>3.0</td>\n",
       "      <td>2023-09-09</td>\n",
       "      <td>0.26</td>\n",
       "      <td>3.0</td>\n",
       "      <td>2.0</td>\n",
       "      <td>174203</td>\n",
       "    </tr>\n",
       "    <tr>\n",
       "      <th>2</th>\n",
       "      <td>304050</td>\n",
       "      <td>Rental unit in Milan · ★4.91 · 1 bedroom · 1 b...</td>\n",
       "      <td>49.0</td>\n",
       "      <td>Private room</td>\n",
       "      <td>264.0</td>\n",
       "      <td>4.91</td>\n",
       "      <td>1.0</td>\n",
       "      <td>1.0</td>\n",
       "      <td>1.0</td>\n",
       "      <td>XXII MARZO</td>\n",
       "      <td>45.45709</td>\n",
       "      <td>9.21531</td>\n",
       "      <td>2.0</td>\n",
       "      <td>2023-11-21</td>\n",
       "      <td>1.92</td>\n",
       "      <td>33.0</td>\n",
       "      <td>2.0</td>\n",
       "      <td>1566887</td>\n",
       "    </tr>\n",
       "    <tr>\n",
       "      <th>3</th>\n",
       "      <td>46536</td>\n",
       "      <td>Rental unit in Milan · ★4.53 · 2 bedrooms · 3 ...</td>\n",
       "      <td>110.0</td>\n",
       "      <td>Entire home/apt</td>\n",
       "      <td>35.0</td>\n",
       "      <td>4.53</td>\n",
       "      <td>3.0</td>\n",
       "      <td>2.0</td>\n",
       "      <td>1.0</td>\n",
       "      <td>VIALE MONZA</td>\n",
       "      <td>45.52276</td>\n",
       "      <td>9.22478</td>\n",
       "      <td>3.0</td>\n",
       "      <td>2023-10-30</td>\n",
       "      <td>0.24</td>\n",
       "      <td>5.0</td>\n",
       "      <td>1.0</td>\n",
       "      <td>138683</td>\n",
       "    </tr>\n",
       "    <tr>\n",
       "      <th>4</th>\n",
       "      <td>333223</td>\n",
       "      <td>Rental unit in Milano · ★5.0 · 1 bedroom · 2 b...</td>\n",
       "      <td>150.0</td>\n",
       "      <td>Private room</td>\n",
       "      <td>3.0</td>\n",
       "      <td>5.00</td>\n",
       "      <td>2.0</td>\n",
       "      <td>1.0</td>\n",
       "      <td>1.0</td>\n",
       "      <td>MAGENTA - S. VITTORE</td>\n",
       "      <td>45.46097</td>\n",
       "      <td>9.16431</td>\n",
       "      <td>1.0</td>\n",
       "      <td>2023-04-19</td>\n",
       "      <td>0.02</td>\n",
       "      <td>1.0</td>\n",
       "      <td>5.0</td>\n",
       "      <td>1697947</td>\n",
       "    </tr>\n",
       "  </tbody>\n",
       "</table>\n",
       "</div>"
      ],
      "text/plain": [
       "       id                                               name  price  \\\n",
       "0   23986  Rental unit in Milan · ★4.64 · 1 bedroom · 1 b...  150.0   \n",
       "1   40470  Rental unit in Milan · ★4.67 · 2 bedrooms · 4 ...   80.0   \n",
       "2  304050  Rental unit in Milan · ★4.91 · 1 bedroom · 1 b...   49.0   \n",
       "3   46536  Rental unit in Milan · ★4.53 · 2 bedrooms · 3 ...  110.0   \n",
       "4  333223  Rental unit in Milano · ★5.0 · 1 bedroom · 2 b...  150.0   \n",
       "\n",
       "         room_type  number_of_reviews  stars  bed  bedroom  bath  \\\n",
       "0  Entire home/apt               26.0   4.64  1.0      1.0   1.0   \n",
       "1  Entire home/apt               41.0   4.67  4.0      2.0   1.0   \n",
       "2     Private room              264.0   4.91  1.0      1.0   1.0   \n",
       "3  Entire home/apt               35.0   4.53  3.0      2.0   1.0   \n",
       "4     Private room                3.0   5.00  2.0      1.0   1.0   \n",
       "\n",
       "          neighbourhood  latitude  longitude  minimum_nights last_review  \\\n",
       "0               NAVIGLI  45.44806    9.17373             1.0  2023-07-29   \n",
       "1           VIALE MONZA  45.52023    9.22747             3.0  2023-09-09   \n",
       "2            XXII MARZO  45.45709    9.21531             2.0  2023-11-21   \n",
       "3           VIALE MONZA  45.52276    9.22478             3.0  2023-10-30   \n",
       "4  MAGENTA - S. VITTORE  45.46097    9.16431             1.0  2023-04-19   \n",
       "\n",
       "   reviews_per_month  number_of_reviews_ltm  calculated_host_listings_count  \\\n",
       "0               0.18                    4.0                             1.0   \n",
       "1               0.26                    3.0                             2.0   \n",
       "2               1.92                   33.0                             2.0   \n",
       "3               0.24                    5.0                             1.0   \n",
       "4               0.02                    1.0                             5.0   \n",
       "\n",
       "   host_id  \n",
       "0    95941  \n",
       "1   174203  \n",
       "2  1566887  \n",
       "3   138683  \n",
       "4  1697947  "
      ]
     },
     "execution_count": 2,
     "metadata": {},
     "output_type": "execute_result"
    }
   ],
   "source": [
    "df = pd.read_csv(r'C:\\Users\\matte\\OneDrive\\Desktop\\GitHub\\data\\Airbnb\\listings_cleaned.csv')\n",
    "df.head()"
   ]
  },
  {
   "cell_type": "markdown",
   "metadata": {},
   "source": [
    "### Handling outliers"
   ]
  },
  {
   "cell_type": "markdown",
   "metadata": {},
   "source": [
    "#### Reviews Number"
   ]
  },
  {
   "cell_type": "code",
   "execution_count": 3,
   "metadata": {},
   "outputs": [
    {
     "data": {
      "image/png": "[encoded data removed]",
      "text/plain": [
       "<Figure size 640x480 with 1 Axes>"
      ]
     },
     "metadata": {},
     "output_type": "display_data"
    }
   ],
   "source": [
    "df['number_of_reviews'].plot.hist();"
   ]
  },
  {
   "cell_type": "code",
   "execution_count": 4,
   "metadata": {},
   "outputs": [
    {
     "data": {
      "text/plain": [
       "9332"
      ]
     },
     "execution_count": 4,
     "metadata": {},
     "output_type": "execute_result"
    }
   ],
   "source": [
    "df.loc[df['number_of_reviews_ltm']>4, 'id'].count()"
   ]
  },
  {
   "cell_type": "code",
   "execution_count": 5,
   "metadata": {},
   "outputs": [],
   "source": [
    "# I keep just the listings with at least 5 reviews\n",
    "# in the past 12 months\n",
    "\n",
    "df = df[df['number_of_reviews_ltm']>4]"
   ]
  },
  {
   "cell_type": "markdown",
   "metadata": {},
   "source": [
    "#### Price"
   ]
  },
  {
   "cell_type": "code",
   "execution_count": 6,
   "metadata": {},
   "outputs": [
    {
     "data": {
      "image/png": "[encoded data removed]",
      "text/plain": [
       "<Figure size 640x480 with 1 Axes>"
      ]
     },
     "metadata": {},
     "output_type": "display_data"
    }
   ],
   "source": [
    "df['price'].plot.hist();"
   ]
  },
  {
   "cell_type": "code",
   "execution_count": 7,
   "metadata": {},
   "outputs": [
    {
     "data": {
      "image/png": "[encoded data removed]",
      "text/plain": [
       "<Figure size 640x480 with 1 Axes>"
      ]
     },
     "metadata": {},
     "output_type": "display_data"
    }
   ],
   "source": [
    "df['price'].plot.box();"
   ]
  },
  {
   "cell_type": "code",
   "execution_count": 8,
   "metadata": {},
   "outputs": [
    {
     "name": "stdout",
     "output_type": "stream",
     "text": [
      "Low-Band Outlier: -17.5\n",
      "High-Band Outlier: 218.5\n",
      "------\n",
      "Low-Band Extreme Outlier: -106.0\n",
      "High-Band Extreme Outlier: 307.0\n"
     ]
    }
   ],
   "source": [
    "def outliers(x):\n",
    "    q1 = np.percentile(x, 25)\n",
    "    q3 = np.percentile(x, 75)\n",
    "    iqr = q3 - q1\n",
    "    print(f'Low-Band Outlier: {q1-1.5*iqr}')\n",
    "    print(f'High-Band Outlier: {q3+1.5*iqr}')\n",
    "    print('------')\n",
    "    print(f'Low-Band Extreme Outlier: {q1-3*iqr}')\n",
    "    print(f'High-Band Extreme Outlier: {q3+3*iqr}')\n",
    "\n",
    "outliers(df['price'])"
   ]
  },
  {
   "cell_type": "code",
   "execution_count": 9,
   "metadata": {},
   "outputs": [
    {
     "data": {
      "text/plain": [
       "0"
      ]
     },
     "execution_count": 9,
     "metadata": {},
     "output_type": "execute_result"
    }
   ],
   "source": [
    "# There are no listings that cost too little\n",
    "\n",
    "df[df['price']<10]['id'].count()"
   ]
  },
  {
   "cell_type": "code",
   "execution_count": 10,
   "metadata": {},
   "outputs": [
    {
     "data": {
      "text/plain": [
       "314"
      ]
     },
     "execution_count": 10,
     "metadata": {},
     "output_type": "execute_result"
    }
   ],
   "source": [
    "# Since homes can vary a lot, I eclude just the extreme outliers\n",
    "\n",
    "df[df['price']>316]['id'].count()"
   ]
  },
  {
   "cell_type": "code",
   "execution_count": 11,
   "metadata": {},
   "outputs": [],
   "source": [
    "df = df[df['price'] < 317]"
   ]
  },
  {
   "cell_type": "code",
   "execution_count": 12,
   "metadata": {},
   "outputs": [
    {
     "name": "stdout",
     "output_type": "stream",
     "text": [
      "<class 'pandas.core.frame.DataFrame'>\n",
      "Index: 9018 entries, 2 to 14490\n",
      "Data columns (total 18 columns):\n",
      " #   Column                          Non-Null Count  Dtype  \n",
      "---  ------                          --------------  -----  \n",
      " 0   id                              9018 non-null   int64  \n",
      " 1   name                            9018 non-null   object \n",
      " 2   price                           9018 non-null   float64\n",
      " 3   room_type                       9018 non-null   object \n",
      " 4   number_of_reviews               9018 non-null   float64\n",
      " 5   stars                           9018 non-null   float64\n",
      " 6   bed                             9018 non-null   float64\n",
      " 7   bedroom                         9018 non-null   float64\n",
      " 8   bath                            9018 non-null   float64\n",
      " 9   neighbourhood                   9018 non-null   object \n",
      " 10  latitude                        9018 non-null   float64\n",
      " 11  longitude                       9018 non-null   float64\n",
      " 12  minimum_nights                  9018 non-null   float64\n",
      " 13  last_review                     9018 non-null   object \n",
      " 14  reviews_per_month               9018 non-null   float64\n",
      " 15  number_of_reviews_ltm           9018 non-null   float64\n",
      " 16  calculated_host_listings_count  9018 non-null   float64\n",
      " 17  host_id                         9018 non-null   int64  \n",
      "dtypes: float64(12), int64(2), object(4)\n",
      "memory usage: 1.3+ MB\n"
     ]
    }
   ],
   "source": [
    "# No null col, nice!\n",
    "\n",
    "df.info()"
   ]
  },
  {
   "cell_type": "markdown",
   "metadata": {},
   "source": [
    "### Data exploration"
   ]
  },
  {
   "cell_type": "code",
   "execution_count": 13,
   "metadata": {},
   "outputs": [
    {
     "data": {
      "image/png": "[encoded data removed]",
      "text/plain": [
       "<Figure size 640x480 with 1 Axes>"
      ]
     },
     "metadata": {},
     "output_type": "display_data"
    }
   ],
   "source": [
    "df['price'].plot.hist(bins=25);"
   ]
  },
  {
   "cell_type": "code",
   "execution_count": 14,
   "metadata": {},
   "outputs": [
    {
     "data": {
      "image/png": "[encoded data removed]",
      "text/plain": [
       "<Figure size 640x480 with 1 Axes>"
      ]
     },
     "metadata": {},
     "output_type": "display_data"
    }
   ],
   "source": [
    "df['number_of_reviews_ltm'].plot.hist(bins=25);"
   ]
  },
  {
   "cell_type": "code",
   "execution_count": 15,
   "metadata": {},
   "outputs": [
    {
     "data": {
      "text/plain": [
       "minimum_nights\n",
       "1.0      4044\n",
       "2.0      3570\n",
       "3.0       862\n",
       "4.0       243\n",
       "5.0       123\n",
       "7.0        42\n",
       "6.0        39\n",
       "30.0       23\n",
       "15.0       13\n",
       "10.0       12\n",
       "28.0       10\n",
       "14.0        9\n",
       "20.0        5\n",
       "29.0        5\n",
       "12.0        4\n",
       "21.0        3\n",
       "8.0         3\n",
       "365.0       1\n",
       "9.0         1\n",
       "78.0        1\n",
       "45.0        1\n",
       "44.0        1\n",
       "25.0        1\n",
       "35.0        1\n",
       "120.0       1\n",
       "Name: count, dtype: int64"
      ]
     },
     "execution_count": 15,
     "metadata": {},
     "output_type": "execute_result"
    }
   ],
   "source": [
    "df['minimum_nights'].value_counts()"
   ]
  },
  {
   "cell_type": "code",
   "execution_count": 16,
   "metadata": {},
   "outputs": [],
   "source": [
    "df = df[df['minimum_nights']<8]"
   ]
  },
  {
   "cell_type": "markdown",
   "metadata": {},
   "source": [
    "## Revenue in the last 12 Months\n",
    "\n",
    "There's no enough data to get the true revenue of the last 12 months. But we can get a proxy with this formula:\n",
    "\n",
    "*Minimun number of nights * reviews in the last 12 months * price*\n",
    "\n",
    "The result will be much less than the reality. But this is the best we can do with the available data."
   ]
  },
  {
   "cell_type": "markdown",
   "metadata": {},
   "source": [
    "The average number of nights per Airbnb booking in \"Europe, Middle East, and Africa\" in 2022 is 4.2.\n",
    "\n",
    "[Source](https://www.statista.com/statistics/1193597/airbnb-average-nights-per-booking-by-region-worldwide/)\n",
    "\n",
    "So it's likely that the listings with only 1,2,3,4 minimun nights will be much more biased with the formula above.\n",
    "\n",
    "We adjust the formula to take everything closer to the mean:\n",
    "\n",
    "- 1 minimun night --> multiply by 2\n",
    "- 2 minimun nights --> multiply by 1.4\n",
    "- 3 minimun nights --> multiply by 1.2\n",
    "- 4 minimun nights --> multiply by 1.05"
   ]
  },
  {
   "cell_type": "code",
   "execution_count": 17,
   "metadata": {},
   "outputs": [],
   "source": [
    "df['multiply'] = df['minimum_nights']\n",
    "df.loc[df['minimum_nights']==1, 'multiply'] = 2\n",
    "df.loc[df['minimum_nights']==2, 'multiply'] = 2*1.4\n",
    "df.loc[df['minimum_nights']==3, 'multiply'] = 3*1.2\n",
    "df.loc[df['minimum_nights']==4, 'multiply'] = 4*1.05"
   ]
  },
  {
   "cell_type": "code",
   "execution_count": 18,
   "metadata": {},
   "outputs": [
    {
     "data": {
      "text/html": [
       "<div>\n",
       "<style scoped>\n",
       "    .dataframe tbody tr th:only-of-type {\n",
       "        vertical-align: middle;\n",
       "    }\n",
       "\n",
       "    .dataframe tbody tr th {\n",
       "        vertical-align: top;\n",
       "    }\n",
       "\n",
       "    .dataframe thead th {\n",
       "        text-align: right;\n",
       "    }\n",
       "</style>\n",
       "<table border=\"1\" class=\"dataframe\">\n",
       "  <thead>\n",
       "    <tr style=\"text-align: right;\">\n",
       "      <th></th>\n",
       "      <th>id</th>\n",
       "      <th>name</th>\n",
       "      <th>price</th>\n",
       "      <th>room_type</th>\n",
       "      <th>number_of_reviews</th>\n",
       "      <th>stars</th>\n",
       "      <th>bed</th>\n",
       "      <th>bedroom</th>\n",
       "      <th>bath</th>\n",
       "      <th>neighbourhood</th>\n",
       "      <th>latitude</th>\n",
       "      <th>longitude</th>\n",
       "      <th>minimum_nights</th>\n",
       "      <th>last_review</th>\n",
       "      <th>reviews_per_month</th>\n",
       "      <th>number_of_reviews_ltm</th>\n",
       "      <th>calculated_host_listings_count</th>\n",
       "      <th>host_id</th>\n",
       "      <th>multiply</th>\n",
       "      <th>revenue_ltm</th>\n",
       "    </tr>\n",
       "  </thead>\n",
       "  <tbody>\n",
       "    <tr>\n",
       "      <th>2</th>\n",
       "      <td>304050</td>\n",
       "      <td>Rental unit in Milan · ★4.91 · 1 bedroom · 1 b...</td>\n",
       "      <td>49.0</td>\n",
       "      <td>Private room</td>\n",
       "      <td>264.0</td>\n",
       "      <td>4.91</td>\n",
       "      <td>1.0</td>\n",
       "      <td>1.0</td>\n",
       "      <td>1.0</td>\n",
       "      <td>XXII MARZO</td>\n",
       "      <td>45.457090</td>\n",
       "      <td>9.215310</td>\n",
       "      <td>2.0</td>\n",
       "      <td>2023-11-21</td>\n",
       "      <td>1.92</td>\n",
       "      <td>33.0</td>\n",
       "      <td>2.0</td>\n",
       "      <td>1566887</td>\n",
       "      <td>2.8</td>\n",
       "      <td>4527.6</td>\n",
       "    </tr>\n",
       "    <tr>\n",
       "      <th>3</th>\n",
       "      <td>46536</td>\n",
       "      <td>Rental unit in Milan · ★4.53 · 2 bedrooms · 3 ...</td>\n",
       "      <td>110.0</td>\n",
       "      <td>Entire home/apt</td>\n",
       "      <td>35.0</td>\n",
       "      <td>4.53</td>\n",
       "      <td>3.0</td>\n",
       "      <td>2.0</td>\n",
       "      <td>1.0</td>\n",
       "      <td>VIALE MONZA</td>\n",
       "      <td>45.522760</td>\n",
       "      <td>9.224780</td>\n",
       "      <td>3.0</td>\n",
       "      <td>2023-10-30</td>\n",
       "      <td>0.24</td>\n",
       "      <td>5.0</td>\n",
       "      <td>1.0</td>\n",
       "      <td>138683</td>\n",
       "      <td>3.6</td>\n",
       "      <td>1980.0</td>\n",
       "    </tr>\n",
       "    <tr>\n",
       "      <th>9</th>\n",
       "      <td>84741</td>\n",
       "      <td>Loft in Milan · ★4.63 · 1 bedroom · 1 bed · 1 ...</td>\n",
       "      <td>39.0</td>\n",
       "      <td>Private room</td>\n",
       "      <td>569.0</td>\n",
       "      <td>4.63</td>\n",
       "      <td>1.0</td>\n",
       "      <td>1.0</td>\n",
       "      <td>1.0</td>\n",
       "      <td>PARCO FORLANINI - ORTICA</td>\n",
       "      <td>45.469994</td>\n",
       "      <td>9.244106</td>\n",
       "      <td>1.0</td>\n",
       "      <td>2023-12-18</td>\n",
       "      <td>3.71</td>\n",
       "      <td>52.0</td>\n",
       "      <td>2.0</td>\n",
       "      <td>443989</td>\n",
       "      <td>2.0</td>\n",
       "      <td>4056.0</td>\n",
       "    </tr>\n",
       "    <tr>\n",
       "      <th>11</th>\n",
       "      <td>348448</td>\n",
       "      <td>Rental unit in Milan · ★4.54 · Studio · 1 bed ...</td>\n",
       "      <td>99.0</td>\n",
       "      <td>Entire home/apt</td>\n",
       "      <td>137.0</td>\n",
       "      <td>4.54</td>\n",
       "      <td>1.0</td>\n",
       "      <td>0.0</td>\n",
       "      <td>1.0</td>\n",
       "      <td>BRERA</td>\n",
       "      <td>45.476170</td>\n",
       "      <td>9.188730</td>\n",
       "      <td>1.0</td>\n",
       "      <td>2023-11-26</td>\n",
       "      <td>1.00</td>\n",
       "      <td>38.0</td>\n",
       "      <td>1.0</td>\n",
       "      <td>326090</td>\n",
       "      <td>2.0</td>\n",
       "      <td>7524.0</td>\n",
       "    </tr>\n",
       "    <tr>\n",
       "      <th>12</th>\n",
       "      <td>90830</td>\n",
       "      <td>Loft in Milan · ★4.67 · 2 bedrooms · 3 beds · ...</td>\n",
       "      <td>91.0</td>\n",
       "      <td>Entire home/apt</td>\n",
       "      <td>186.0</td>\n",
       "      <td>4.67</td>\n",
       "      <td>3.0</td>\n",
       "      <td>2.0</td>\n",
       "      <td>1.0</td>\n",
       "      <td>NAVIGLI</td>\n",
       "      <td>45.446780</td>\n",
       "      <td>9.163470</td>\n",
       "      <td>1.0</td>\n",
       "      <td>2023-11-27</td>\n",
       "      <td>1.20</td>\n",
       "      <td>67.0</td>\n",
       "      <td>22.0</td>\n",
       "      <td>181255620</td>\n",
       "      <td>2.0</td>\n",
       "      <td>12194.0</td>\n",
       "    </tr>\n",
       "  </tbody>\n",
       "</table>\n",
       "</div>"
      ],
      "text/plain": [
       "        id                                               name  price  \\\n",
       "2   304050  Rental unit in Milan · ★4.91 · 1 bedroom · 1 b...   49.0   \n",
       "3    46536  Rental unit in Milan · ★4.53 · 2 bedrooms · 3 ...  110.0   \n",
       "9    84741  Loft in Milan · ★4.63 · 1 bedroom · 1 bed · 1 ...   39.0   \n",
       "11  348448  Rental unit in Milan · ★4.54 · Studio · 1 bed ...   99.0   \n",
       "12   90830  Loft in Milan · ★4.67 · 2 bedrooms · 3 beds · ...   91.0   \n",
       "\n",
       "          room_type  number_of_reviews  stars  bed  bedroom  bath  \\\n",
       "2      Private room              264.0   4.91  1.0      1.0   1.0   \n",
       "3   Entire home/apt               35.0   4.53  3.0      2.0   1.0   \n",
       "9      Private room              569.0   4.63  1.0      1.0   1.0   \n",
       "11  Entire home/apt              137.0   4.54  1.0      0.0   1.0   \n",
       "12  Entire home/apt              186.0   4.67  3.0      2.0   1.0   \n",
       "\n",
       "               neighbourhood   latitude  longitude  minimum_nights  \\\n",
       "2                 XXII MARZO  45.457090   9.215310             2.0   \n",
       "3                VIALE MONZA  45.522760   9.224780             3.0   \n",
       "9   PARCO FORLANINI - ORTICA  45.469994   9.244106             1.0   \n",
       "11                     BRERA  45.476170   9.188730             1.0   \n",
       "12                   NAVIGLI  45.446780   9.163470             1.0   \n",
       "\n",
       "   last_review  reviews_per_month  number_of_reviews_ltm  \\\n",
       "2   2023-11-21               1.92                   33.0   \n",
       "3   2023-10-30               0.24                    5.0   \n",
       "9   2023-12-18               3.71                   52.0   \n",
       "11  2023-11-26               1.00                   38.0   \n",
       "12  2023-11-27               1.20                   67.0   \n",
       "\n",
       "    calculated_host_listings_count    host_id  multiply  revenue_ltm  \n",
       "2                              2.0    1566887       2.8       4527.6  \n",
       "3                              1.0     138683       3.6       1980.0  \n",
       "9                              2.0     443989       2.0       4056.0  \n",
       "11                             1.0     326090       2.0       7524.0  \n",
       "12                            22.0  181255620       2.0      12194.0  "
      ]
     },
     "execution_count": 18,
     "metadata": {},
     "output_type": "execute_result"
    }
   ],
   "source": [
    "df['revenue_ltm'] = df['multiply'] * df['number_of_reviews_ltm'] * df['price']\n",
    "df.head()"
   ]
  },
  {
   "cell_type": "markdown",
   "metadata": {},
   "source": [
    "### One-Hot Encoding"
   ]
  },
  {
   "cell_type": "code",
   "execution_count": 19,
   "metadata": {},
   "outputs": [
    {
     "data": {
      "text/plain": [
       "room_type\n",
       "Entire home/apt    7896\n",
       "Private room        971\n",
       "Shared room          55\n",
       "Hotel room            1\n",
       "Name: count, dtype: int64"
      ]
     },
     "execution_count": 19,
     "metadata": {},
     "output_type": "execute_result"
    }
   ],
   "source": [
    "df['room_type'].value_counts()"
   ]
  },
  {
   "cell_type": "code",
   "execution_count": 20,
   "metadata": {},
   "outputs": [],
   "source": [
    "# Drop the occurrences of Hotel room and Shared room\n",
    "\n",
    "df = df[(df['room_type'] != 'Hotel room')&(df['room_type'] != 'Shared room')]"
   ]
  },
  {
   "cell_type": "code",
   "execution_count": 21,
   "metadata": {},
   "outputs": [],
   "source": [
    "# Entire home/apt = 1\n",
    "# Private room = 0\n",
    "\n",
    "df['room'] = 1\n",
    "df.loc[df['room_type']=='Private room','room'] = 0"
   ]
  },
  {
   "cell_type": "code",
   "execution_count": 22,
   "metadata": {},
   "outputs": [
    {
     "data": {
      "text/plain": [
       "neighbourhood\n",
       "LORETO        393\n",
       "BRERA         380\n",
       "TICINESE      364\n",
       "ISOLA         320\n",
       "XXII MARZO    244\n",
       "Name: count, dtype: int64"
      ]
     },
     "execution_count": 22,
     "metadata": {},
     "output_type": "execute_result"
    }
   ],
   "source": [
    "neigh_count = df['neighbourhood'].value_counts()\n",
    "neigh_count[5:10]"
   ]
  },
  {
   "cell_type": "code",
   "execution_count": 23,
   "metadata": {},
   "outputs": [
    {
     "name": "stdout",
     "output_type": "stream",
     "text": [
      "37\n",
      "43\n"
     ]
    }
   ],
   "source": [
    "print(neigh_count[neigh_count<50].count())\n",
    "print(neigh_count[neigh_count>50].count())"
   ]
  },
  {
   "cell_type": "code",
   "execution_count": 24,
   "metadata": {},
   "outputs": [],
   "source": [
    "neigh_count = neigh_count[neigh_count>30]\n",
    "df = df[df['neighbourhood'].isin(neigh_count.index.to_list())]"
   ]
  },
  {
   "cell_type": "code",
   "execution_count": 25,
   "metadata": {},
   "outputs": [],
   "source": [
    "# One hot encoding ['neighbourhood'\n",
    "\n",
    "df = pd.concat([df,\n",
    "           pd.get_dummies(df['neighbourhood'], dtype='float32', drop_first=True)],\n",
    "           axis='columns')"
   ]
  },
  {
   "cell_type": "markdown",
   "metadata": {},
   "source": [
    "### Linear Regression"
   ]
  },
  {
   "cell_type": "code",
   "execution_count": 26,
   "metadata": {},
   "outputs": [],
   "source": [
    "col_to_keep = ['price','stars','bed','bedroom','bath','room'] + neigh_count.index.to_list()\n",
    "col_to_keep.remove('AFFORI') # Because we dropped the 1st in get_dummies\n",
    "\n",
    "X = df[col_to_keep]\n",
    "y = df['revenue_ltm']"
   ]
  },
  {
   "cell_type": "code",
   "execution_count": 27,
   "metadata": {},
   "outputs": [
    {
     "name": "stdout",
     "output_type": "stream",
     "text": [
      "R2:  0.2032891451797636\n",
      "MSE:  40083729.08064365\n"
     ]
    }
   ],
   "source": [
    "from sklearn.linear_model import LinearRegression\n",
    "import sklearn.metrics as metrics\n",
    "\n",
    "lm = LinearRegression()\n",
    "lm.fit(X,y)\n",
    "\n",
    "yhat = lm.predict(X)\n",
    "print('R2: ', metrics.r2_score(y, yhat))\n",
    "print('MSE: ', metrics.mean_squared_error(y, yhat))"
   ]
  },
  {
   "cell_type": "code",
   "execution_count": 38,
   "metadata": {},
   "outputs": [
    {
     "name": "stdout",
     "output_type": "stream",
     "text": [
      "R2:  0.20328914517976382\n",
      "MSE:  40083729.08064364\n"
     ]
    }
   ],
   "source": [
    "# Standardizing the features doesn't change anything\n",
    "# so I comment out this cell\n",
    "\n",
    "# from sklearn.preprocessing import StandardScaler\n",
    "\n",
    "# scaler = StandardScaler()\n",
    "# X_scaled = scaler.fit_transform(X)\n",
    "\n",
    "# # Fit the linear regression model on the standardized data\n",
    "# model = LinearRegression()\n",
    "# model.fit(X_scaled, y)\n",
    "\n",
    "# yhat = model.predict(X_scaled)\n",
    "# print('R2: ', metrics.r2_score(y, yhat))\n",
    "# print('MSE: ', metrics.mean_squared_error(y, yhat))"
   ]
  },
  {
   "cell_type": "code",
   "execution_count": 28,
   "metadata": {},
   "outputs": [
    {
     "name": "stderr",
     "output_type": "stream",
     "text": [
      "c:\\Users\\matte\\anaconda3\\Lib\\site-packages\\seaborn\\_oldcore.py:1498: FutureWarning: is_categorical_dtype is deprecated and will be removed in a future version. Use isinstance(dtype, CategoricalDtype) instead\n",
      "  if pd.api.types.is_categorical_dtype(vector):\n",
      "c:\\Users\\matte\\anaconda3\\Lib\\site-packages\\seaborn\\_oldcore.py:1119: FutureWarning: use_inf_as_na option is deprecated and will be removed in a future version. Convert inf values to NaN before operating instead.\n",
      "  with pd.option_context('mode.use_inf_as_na', True):\n",
      "c:\\Users\\matte\\anaconda3\\Lib\\site-packages\\seaborn\\_oldcore.py:1498: FutureWarning: is_categorical_dtype is deprecated and will be removed in a future version. Use isinstance(dtype, CategoricalDtype) instead\n",
      "  if pd.api.types.is_categorical_dtype(vector):\n",
      "c:\\Users\\matte\\anaconda3\\Lib\\site-packages\\seaborn\\_oldcore.py:1119: FutureWarning: use_inf_as_na option is deprecated and will be removed in a future version. Convert inf values to NaN before operating instead.\n",
      "  with pd.option_context('mode.use_inf_as_na', True):\n"
     ]
    },
    {
     "data": {
      "image/png": "[encoded data removed]",
      "text/plain": [
       "<Figure size 640x480 with 1 Axes>"
      ]
     },
     "metadata": {},
     "output_type": "display_data"
    }
   ],
   "source": [
    "# ax1 = sns.displot(y, hist=False, color=\"r\", label=\"Actual Value\")\n",
    "# sns.distplot(yhat, hist=False, color=\"b\", label=\"Fitted Values\" , ax=ax1)\n",
    "\n",
    "ax1 = sns.kdeplot(y, color=\"r\", label=\"Actual Value\")\n",
    "sns.kdeplot(yhat, color=\"b\", label=\"Fitted Values\" , ax=ax1)\n",
    "\n",
    "plt.title('Actual vs Fitted Values for Revenue')\n",
    "plt.xlabel('Revenue')\n",
    "plt.ylabel('Proportion of Listings')\n",
    "plt.legend(['Actual Value', 'Predicted Value'])\n",
    "plt.show()\n"
   ]
  },
  {
   "cell_type": "code",
   "execution_count": 42,
   "metadata": {},
   "outputs": [],
   "source": [
    "coefficients = lm.coef_\n",
    "\n",
    "coefficients_dict = dict(zip(col_to_keep, coefficients))\n",
    "\n",
    "df_coeff = pd.DataFrame(coefficients_dict, index=['coefficients']).T"
   ]
  },
  {
   "cell_type": "code",
   "execution_count": 46,
   "metadata": {},
   "outputs": [
    {
     "data": {
      "text/html": [
       "<div>\n",
       "<style scoped>\n",
       "    .dataframe tbody tr th:only-of-type {\n",
       "        vertical-align: middle;\n",
       "    }\n",
       "\n",
       "    .dataframe tbody tr th {\n",
       "        vertical-align: top;\n",
       "    }\n",
       "\n",
       "    .dataframe thead th {\n",
       "        text-align: right;\n",
       "    }\n",
       "</style>\n",
       "<table border=\"1\" class=\"dataframe\">\n",
       "  <thead>\n",
       "    <tr style=\"text-align: right;\">\n",
       "      <th></th>\n",
       "      <th>coefficients</th>\n",
       "    </tr>\n",
       "  </thead>\n",
       "  <tbody>\n",
       "    <tr>\n",
       "      <th>DUOMO</th>\n",
       "      <td>5312.045904</td>\n",
       "    </tr>\n",
       "    <tr>\n",
       "      <th>stars</th>\n",
       "      <td>4946.993292</td>\n",
       "    </tr>\n",
       "    <tr>\n",
       "      <th>CENTRALE</th>\n",
       "      <td>3539.109772</td>\n",
       "    </tr>\n",
       "    <tr>\n",
       "      <th>BRERA</th>\n",
       "      <td>3404.228359</td>\n",
       "    </tr>\n",
       "    <tr>\n",
       "      <th>MAGENTA - S. VITTORE</th>\n",
       "      <td>2764.844408</td>\n",
       "    </tr>\n",
       "    <tr>\n",
       "      <th>TICINESE</th>\n",
       "      <td>2599.471461</td>\n",
       "    </tr>\n",
       "    <tr>\n",
       "      <th>PAGANO</th>\n",
       "      <td>1941.029105</td>\n",
       "    </tr>\n",
       "    <tr>\n",
       "      <th>MACIACHINI - MAGGIOLINA</th>\n",
       "      <td>1829.479779</td>\n",
       "    </tr>\n",
       "    <tr>\n",
       "      <th>BUENOS AIRES - VENEZIA</th>\n",
       "      <td>1797.666087</td>\n",
       "    </tr>\n",
       "    <tr>\n",
       "      <th>NAVIGLI</th>\n",
       "      <td>1693.747836</td>\n",
       "    </tr>\n",
       "    <tr>\n",
       "      <th>SARPI</th>\n",
       "      <td>1658.284213</td>\n",
       "    </tr>\n",
       "    <tr>\n",
       "      <th>GARIBALDI REPUBBLICA</th>\n",
       "      <td>1568.110898</td>\n",
       "    </tr>\n",
       "    <tr>\n",
       "      <th>ISOLA</th>\n",
       "      <td>1495.196306</td>\n",
       "    </tr>\n",
       "    <tr>\n",
       "      <th>GUASTALLA</th>\n",
       "      <td>1278.681678</td>\n",
       "    </tr>\n",
       "    <tr>\n",
       "      <th>room</th>\n",
       "      <td>1197.031876</td>\n",
       "    </tr>\n",
       "    <tr>\n",
       "      <th>bath</th>\n",
       "      <td>1097.593382</td>\n",
       "    </tr>\n",
       "    <tr>\n",
       "      <th>VIGENTINA</th>\n",
       "      <td>1079.870747</td>\n",
       "    </tr>\n",
       "    <tr>\n",
       "      <th>XXII MARZO</th>\n",
       "      <td>991.301328</td>\n",
       "    </tr>\n",
       "    <tr>\n",
       "      <th>PORTA ROMANA</th>\n",
       "      <td>960.378336</td>\n",
       "    </tr>\n",
       "    <tr>\n",
       "      <th>S. CRISTOFORO</th>\n",
       "      <td>943.029625</td>\n",
       "    </tr>\n",
       "    <tr>\n",
       "      <th>PORTELLO</th>\n",
       "      <td>923.252993</td>\n",
       "    </tr>\n",
       "    <tr>\n",
       "      <th>LORETO</th>\n",
       "      <td>919.494098</td>\n",
       "    </tr>\n",
       "    <tr>\n",
       "      <th>SELINUNTE</th>\n",
       "      <td>914.189363</td>\n",
       "    </tr>\n",
       "    <tr>\n",
       "      <th>LODI - CORVETTO</th>\n",
       "      <td>724.329082</td>\n",
       "    </tr>\n",
       "    <tr>\n",
       "      <th>VIALE MONZA</th>\n",
       "      <td>664.250424</td>\n",
       "    </tr>\n",
       "    <tr>\n",
       "      <th>GHISOLFA</th>\n",
       "      <td>664.020885</td>\n",
       "    </tr>\n",
       "    <tr>\n",
       "      <th>PADOVA</th>\n",
       "      <td>542.960951</td>\n",
       "    </tr>\n",
       "    <tr>\n",
       "      <th>NIGUARDA - CA' GRANDA</th>\n",
       "      <td>487.498178</td>\n",
       "    </tr>\n",
       "    <tr>\n",
       "      <th>bedroom</th>\n",
       "      <td>380.002945</td>\n",
       "    </tr>\n",
       "    <tr>\n",
       "      <th>bed</th>\n",
       "      <td>370.369837</td>\n",
       "    </tr>\n",
       "    <tr>\n",
       "      <th>GIAMBELLINO</th>\n",
       "      <td>294.515466</td>\n",
       "    </tr>\n",
       "    <tr>\n",
       "      <th>S. SIRO</th>\n",
       "      <td>255.948298</td>\n",
       "    </tr>\n",
       "    <tr>\n",
       "      <th>DE ANGELI - MONTE ROSA</th>\n",
       "      <td>123.945143</td>\n",
       "    </tr>\n",
       "    <tr>\n",
       "      <th>BOVISA</th>\n",
       "      <td>115.594064</td>\n",
       "    </tr>\n",
       "    <tr>\n",
       "      <th>price</th>\n",
       "      <td>28.577390</td>\n",
       "    </tr>\n",
       "    <tr>\n",
       "      <th>CORSICA</th>\n",
       "      <td>21.651150</td>\n",
       "    </tr>\n",
       "    <tr>\n",
       "      <th>FARINI</th>\n",
       "      <td>-39.636535</td>\n",
       "    </tr>\n",
       "    <tr>\n",
       "      <th>DERGANO</th>\n",
       "      <td>-45.533872</td>\n",
       "    </tr>\n",
       "    <tr>\n",
       "      <th>WASHINGTON</th>\n",
       "      <td>-76.086001</td>\n",
       "    </tr>\n",
       "    <tr>\n",
       "      <th>TIBALDI</th>\n",
       "      <td>-156.066251</td>\n",
       "    </tr>\n",
       "    <tr>\n",
       "      <th>VILLAPIZZONE</th>\n",
       "      <td>-217.496600</td>\n",
       "    </tr>\n",
       "    <tr>\n",
       "      <th>TORTONA</th>\n",
       "      <td>-380.611203</td>\n",
       "    </tr>\n",
       "    <tr>\n",
       "      <th>RONCHETTO SUL NAVIGLIO</th>\n",
       "      <td>-398.995252</td>\n",
       "    </tr>\n",
       "    <tr>\n",
       "      <th>RIPAMONTI</th>\n",
       "      <td>-423.511577</td>\n",
       "    </tr>\n",
       "    <tr>\n",
       "      <th>GALLARATESE</th>\n",
       "      <td>-482.010770</td>\n",
       "    </tr>\n",
       "    <tr>\n",
       "      <th>BANDE NERE</th>\n",
       "      <td>-503.854942</td>\n",
       "    </tr>\n",
       "    <tr>\n",
       "      <th>FORZE ARMATE</th>\n",
       "      <td>-528.201282</td>\n",
       "    </tr>\n",
       "    <tr>\n",
       "      <th>SCALO ROMANA</th>\n",
       "      <td>-565.446973</td>\n",
       "    </tr>\n",
       "    <tr>\n",
       "      <th>UMBRIA - MOLISE</th>\n",
       "      <td>-641.003973</td>\n",
       "    </tr>\n",
       "    <tr>\n",
       "      <th>STADERA</th>\n",
       "      <td>-698.434207</td>\n",
       "    </tr>\n",
       "    <tr>\n",
       "      <th>CITTA' STUDI</th>\n",
       "      <td>-763.801715</td>\n",
       "    </tr>\n",
       "    <tr>\n",
       "      <th>PARCO LAMBRO - CIMIANO</th>\n",
       "      <td>-1040.114180</td>\n",
       "    </tr>\n",
       "    <tr>\n",
       "      <th>BICOCCA</th>\n",
       "      <td>-1065.595052</td>\n",
       "    </tr>\n",
       "    <tr>\n",
       "      <th>LAMBRATE</th>\n",
       "      <td>-1141.680971</td>\n",
       "    </tr>\n",
       "    <tr>\n",
       "      <th>MECENATE</th>\n",
       "      <td>-1171.975845</td>\n",
       "    </tr>\n",
       "    <tr>\n",
       "      <th>GRECO</th>\n",
       "      <td>-1240.294947</td>\n",
       "    </tr>\n",
       "    <tr>\n",
       "      <th>EX OM - MORIVIONE</th>\n",
       "      <td>-1400.676767</td>\n",
       "    </tr>\n",
       "    <tr>\n",
       "      <th>BAGGIO</th>\n",
       "      <td>-1824.229820</td>\n",
       "    </tr>\n",
       "  </tbody>\n",
       "</table>\n",
       "</div>"
      ],
      "text/plain": [
       "                         coefficients\n",
       "DUOMO                     5312.045904\n",
       "stars                     4946.993292\n",
       "CENTRALE                  3539.109772\n",
       "BRERA                     3404.228359\n",
       "MAGENTA - S. VITTORE      2764.844408\n",
       "TICINESE                  2599.471461\n",
       "PAGANO                    1941.029105\n",
       "MACIACHINI - MAGGIOLINA   1829.479779\n",
       "BUENOS AIRES - VENEZIA    1797.666087\n",
       "NAVIGLI                   1693.747836\n",
       "SARPI                     1658.284213\n",
       "GARIBALDI REPUBBLICA      1568.110898\n",
       "ISOLA                     1495.196306\n",
       "GUASTALLA                 1278.681678\n",
       "room                      1197.031876\n",
       "bath                      1097.593382\n",
       "VIGENTINA                 1079.870747\n",
       "XXII MARZO                 991.301328\n",
       "PORTA ROMANA               960.378336\n",
       "S. CRISTOFORO              943.029625\n",
       "PORTELLO                   923.252993\n",
       "LORETO                     919.494098\n",
       "SELINUNTE                  914.189363\n",
       "LODI - CORVETTO            724.329082\n",
       "VIALE MONZA                664.250424\n",
       "GHISOLFA                   664.020885\n",
       "PADOVA                     542.960951\n",
       "NIGUARDA - CA' GRANDA      487.498178\n",
       "bedroom                    380.002945\n",
       "bed                        370.369837\n",
       "GIAMBELLINO                294.515466\n",
       "S. SIRO                    255.948298\n",
       "DE ANGELI - MONTE ROSA     123.945143\n",
       "BOVISA                     115.594064\n",
       "price                       28.577390\n",
       "CORSICA                     21.651150\n",
       "FARINI                     -39.636535\n",
       "DERGANO                    -45.533872\n",
       "WASHINGTON                 -76.086001\n",
       "TIBALDI                   -156.066251\n",
       "VILLAPIZZONE              -217.496600\n",
       "TORTONA                   -380.611203\n",
       "RONCHETTO SUL NAVIGLIO    -398.995252\n",
       "RIPAMONTI                 -423.511577\n",
       "GALLARATESE               -482.010770\n",
       "BANDE NERE                -503.854942\n",
       "FORZE ARMATE              -528.201282\n",
       "SCALO ROMANA              -565.446973\n",
       "UMBRIA - MOLISE           -641.003973\n",
       "STADERA                   -698.434207\n",
       "CITTA' STUDI              -763.801715\n",
       "PARCO LAMBRO - CIMIANO   -1040.114180\n",
       "BICOCCA                  -1065.595052\n",
       "LAMBRATE                 -1141.680971\n",
       "MECENATE                 -1171.975845\n",
       "GRECO                    -1240.294947\n",
       "EX OM - MORIVIONE        -1400.676767\n",
       "BAGGIO                   -1824.229820"
      ]
     },
     "execution_count": 46,
     "metadata": {},
     "output_type": "execute_result"
    }
   ],
   "source": [
    "df_coeff.sort_values(ascending=False, by='coefficients')"
   ]
  },
  {
   "cell_type": "markdown",
   "metadata": {},
   "source": [
    "### Polynomial Regression"
   ]
  },
  {
   "cell_type": "code",
   "execution_count": 32,
   "metadata": {},
   "outputs": [
    {
     "name": "stdout",
     "output_type": "stream",
     "text": [
      "Done: 1\n",
      "Done: 2\n"
     ]
    }
   ],
   "source": [
    "from sklearn.model_selection import train_test_split\n",
    "from sklearn.preprocessing import PolynomialFeatures\n",
    "\n",
    "x_train, x_test, y_train, y_test = train_test_split(X, y, test_size=0.2, random_state=0)\n",
    "\n",
    "Rsqu_test = []\n",
    "\n",
    "order = [1, 2]\n",
    "for n in order:\n",
    "    lr = LinearRegression()\n",
    "    pr = PolynomialFeatures(degree=n)\n",
    "    \n",
    "    x_train_pr = pr.fit_transform(x_train)\n",
    "    \n",
    "    x_test_pr = pr.fit_transform(x_test)    \n",
    "    \n",
    "    lr.fit(x_train_pr, y_train)\n",
    "    \n",
    "    Rsqu_test.append(lr.score(x_test_pr, y_test))\n",
    "    print(f'Done: {n}')"
   ]
  },
  {
   "cell_type": "code",
   "execution_count": 34,
   "metadata": {},
   "outputs": [
    {
     "data": {
      "image/png": "[encoded data removed]",
      "text/plain": [
       "<Figure size 640x480 with 1 Axes>"
      ]
     },
     "metadata": {},
     "output_type": "display_data"
    }
   ],
   "source": [
    "plt.plot(order, Rsqu_test)\n",
    "plt.xlabel('order')\n",
    "plt.ylabel('R^2')\n",
    "plt.title('R^2 Using Test Data');"
   ]
  },
  {
   "cell_type": "code",
   "execution_count": null,
   "metadata": {},
   "outputs": [],
   "source": []
  }
 ],
 "metadata": {
  "kernelspec": {
   "display_name": "base",
   "language": "python",
   "name": "python3"
  },
  "language_info": {
   "codemirror_mode": {
    "name": "ipython",
    "version": 3
   },
   "file_extension": ".py",
   "mimetype": "text/x-python",
   "name": "python",
   "nbconvert_exporter": "python",
   "pygments_lexer": "ipython3",
   "version": "3.11.5"
  }
 },
 "nbformat": 4,
 "nbformat_minor": 2
}
