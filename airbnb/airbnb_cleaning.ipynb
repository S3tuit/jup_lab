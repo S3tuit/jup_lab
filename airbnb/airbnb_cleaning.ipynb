{
 "cells": [
  {
   "cell_type": "code",
   "execution_count": 144,
   "metadata": {},
   "outputs": [],
   "source": [
    "import pandas as pd\n",
    "import numpy as np\n",
    "from datetime import datetime"
   ]
  },
  {
   "cell_type": "code",
   "execution_count": 145,
   "metadata": {},
   "outputs": [],
   "source": [
    "df_listing = pd.read_csv(r'C:\\Users\\matte\\OneDrive\\Desktop\\GitHub\\data\\Airbnb\\listings.csv')\n",
    "df_calendar = pd.read_csv(r'C:\\Users\\matte\\OneDrive\\Desktop\\GitHub\\data\\Airbnb\\calendar.csv')\n"
   ]
  },
  {
   "cell_type": "code",
   "execution_count": 146,
   "metadata": {},
   "outputs": [
    {
     "data": {
      "text/html": [
       "<div>\n",
       "<style scoped>\n",
       "    .dataframe tbody tr th:only-of-type {\n",
       "        vertical-align: middle;\n",
       "    }\n",
       "\n",
       "    .dataframe tbody tr th {\n",
       "        vertical-align: top;\n",
       "    }\n",
       "\n",
       "    .dataframe thead th {\n",
       "        text-align: right;\n",
       "    }\n",
       "</style>\n",
       "<table border=\"1\" class=\"dataframe\">\n",
       "  <thead>\n",
       "    <tr style=\"text-align: right;\">\n",
       "      <th></th>\n",
       "      <th>listing_id</th>\n",
       "      <th>date</th>\n",
       "      <th>available</th>\n",
       "      <th>price</th>\n",
       "      <th>adjusted_price</th>\n",
       "      <th>minimum_nights</th>\n",
       "      <th>maximum_nights</th>\n",
       "    </tr>\n",
       "  </thead>\n",
       "  <tbody>\n",
       "    <tr>\n",
       "      <th>0</th>\n",
       "      <td>6400</td>\n",
       "      <td>2023-12-19</td>\n",
       "      <td>f</td>\n",
       "      <td>$100.00</td>\n",
       "      <td>NaN</td>\n",
       "      <td>4.0</td>\n",
       "      <td>5.0</td>\n",
       "    </tr>\n",
       "    <tr>\n",
       "      <th>1</th>\n",
       "      <td>6400</td>\n",
       "      <td>2023-12-20</td>\n",
       "      <td>f</td>\n",
       "      <td>$100.00</td>\n",
       "      <td>NaN</td>\n",
       "      <td>4.0</td>\n",
       "      <td>5.0</td>\n",
       "    </tr>\n",
       "    <tr>\n",
       "      <th>2</th>\n",
       "      <td>6400</td>\n",
       "      <td>2023-12-21</td>\n",
       "      <td>f</td>\n",
       "      <td>$100.00</td>\n",
       "      <td>NaN</td>\n",
       "      <td>4.0</td>\n",
       "      <td>5.0</td>\n",
       "    </tr>\n",
       "    <tr>\n",
       "      <th>3</th>\n",
       "      <td>6400</td>\n",
       "      <td>2023-12-22</td>\n",
       "      <td>f</td>\n",
       "      <td>$100.00</td>\n",
       "      <td>NaN</td>\n",
       "      <td>4.0</td>\n",
       "      <td>5.0</td>\n",
       "    </tr>\n",
       "    <tr>\n",
       "      <th>4</th>\n",
       "      <td>6400</td>\n",
       "      <td>2023-12-23</td>\n",
       "      <td>f</td>\n",
       "      <td>$100.00</td>\n",
       "      <td>NaN</td>\n",
       "      <td>4.0</td>\n",
       "      <td>5.0</td>\n",
       "    </tr>\n",
       "  </tbody>\n",
       "</table>\n",
       "</div>"
      ],
      "text/plain": [
       "   listing_id        date available    price  adjusted_price  minimum_nights  \\\n",
       "0        6400  2023-12-19         f  $100.00             NaN             4.0   \n",
       "1        6400  2023-12-20         f  $100.00             NaN             4.0   \n",
       "2        6400  2023-12-21         f  $100.00             NaN             4.0   \n",
       "3        6400  2023-12-22         f  $100.00             NaN             4.0   \n",
       "4        6400  2023-12-23         f  $100.00             NaN             4.0   \n",
       "\n",
       "   maximum_nights  \n",
       "0             5.0  \n",
       "1             5.0  \n",
       "2             5.0  \n",
       "3             5.0  \n",
       "4             5.0  "
      ]
     },
     "metadata": {},
     "output_type": "display_data"
    },
    {
     "data": {
      "text/html": [
       "<div>\n",
       "<style scoped>\n",
       "    .dataframe tbody tr th:only-of-type {\n",
       "        vertical-align: middle;\n",
       "    }\n",
       "\n",
       "    .dataframe tbody tr th {\n",
       "        vertical-align: top;\n",
       "    }\n",
       "\n",
       "    .dataframe thead th {\n",
       "        text-align: right;\n",
       "    }\n",
       "</style>\n",
       "<table border=\"1\" class=\"dataframe\">\n",
       "  <thead>\n",
       "    <tr style=\"text-align: right;\">\n",
       "      <th></th>\n",
       "      <th>id</th>\n",
       "      <th>name</th>\n",
       "      <th>host_id</th>\n",
       "      <th>host_name</th>\n",
       "      <th>neighbourhood_group</th>\n",
       "      <th>neighbourhood</th>\n",
       "      <th>latitude</th>\n",
       "      <th>longitude</th>\n",
       "      <th>room_type</th>\n",
       "      <th>price</th>\n",
       "      <th>minimum_nights</th>\n",
       "      <th>number_of_reviews</th>\n",
       "      <th>last_review</th>\n",
       "      <th>reviews_per_month</th>\n",
       "      <th>calculated_host_listings_count</th>\n",
       "      <th>availability_365</th>\n",
       "      <th>number_of_reviews_ltm</th>\n",
       "      <th>license</th>\n",
       "    </tr>\n",
       "  </thead>\n",
       "  <tbody>\n",
       "    <tr>\n",
       "      <th>0</th>\n",
       "      <td>6400</td>\n",
       "      <td>Rental unit in Milan · ★4.89 · 3 bedrooms · 1 bed · 3.5 baths</td>\n",
       "      <td>13822</td>\n",
       "      <td>Francesca</td>\n",
       "      <td>NaN</td>\n",
       "      <td>TIBALDI</td>\n",
       "      <td>45.44119</td>\n",
       "      <td>9.17813</td>\n",
       "      <td>Private room</td>\n",
       "      <td>100.0</td>\n",
       "      <td>4</td>\n",
       "      <td>10</td>\n",
       "      <td>2019-04-13</td>\n",
       "      <td>0.06</td>\n",
       "      <td>1</td>\n",
       "      <td>358</td>\n",
       "      <td>0</td>\n",
       "      <td>NaN</td>\n",
       "    </tr>\n",
       "    <tr>\n",
       "      <th>1</th>\n",
       "      <td>23986</td>\n",
       "      <td>Rental unit in Milan · ★4.64 · 1 bedroom · 1 bed · 1 bath</td>\n",
       "      <td>95941</td>\n",
       "      <td>Jeremy</td>\n",
       "      <td>NaN</td>\n",
       "      <td>NAVIGLI</td>\n",
       "      <td>45.44806</td>\n",
       "      <td>9.17373</td>\n",
       "      <td>Entire home/apt</td>\n",
       "      <td>150.0</td>\n",
       "      <td>1</td>\n",
       "      <td>26</td>\n",
       "      <td>2023-07-29</td>\n",
       "      <td>0.18</td>\n",
       "      <td>1</td>\n",
       "      <td>359</td>\n",
       "      <td>4</td>\n",
       "      <td>NaN</td>\n",
       "    </tr>\n",
       "    <tr>\n",
       "      <th>2</th>\n",
       "      <td>24107</td>\n",
       "      <td>Condo in Milan · ★4.50 · 1 bedroom · 6 beds · 1 bath</td>\n",
       "      <td>46951</td>\n",
       "      <td>Valeria</td>\n",
       "      <td>NaN</td>\n",
       "      <td>CITTA' STUDI</td>\n",
       "      <td>45.47179</td>\n",
       "      <td>9.23669</td>\n",
       "      <td>Entire home/apt</td>\n",
       "      <td>100.0</td>\n",
       "      <td>1</td>\n",
       "      <td>4</td>\n",
       "      <td>2013-07-31</td>\n",
       "      <td>0.02</td>\n",
       "      <td>1</td>\n",
       "      <td>365</td>\n",
       "      <td>0</td>\n",
       "      <td>NaN</td>\n",
       "    </tr>\n",
       "    <tr>\n",
       "      <th>3</th>\n",
       "      <td>40470</td>\n",
       "      <td>Rental unit in Milan · ★4.67 · 2 bedrooms · 4 beds · 1 bath</td>\n",
       "      <td>174203</td>\n",
       "      <td>Giacinto</td>\n",
       "      <td>NaN</td>\n",
       "      <td>VIALE MONZA</td>\n",
       "      <td>45.52023</td>\n",
       "      <td>9.22747</td>\n",
       "      <td>Entire home/apt</td>\n",
       "      <td>80.0</td>\n",
       "      <td>3</td>\n",
       "      <td>41</td>\n",
       "      <td>2023-09-09</td>\n",
       "      <td>0.26</td>\n",
       "      <td>2</td>\n",
       "      <td>290</td>\n",
       "      <td>3</td>\n",
       "      <td>NaN</td>\n",
       "    </tr>\n",
       "    <tr>\n",
       "      <th>4</th>\n",
       "      <td>304050</td>\n",
       "      <td>Rental unit in Milan · ★4.91 · 1 bedroom · 1 bed · 1 private bath</td>\n",
       "      <td>1566887</td>\n",
       "      <td>Elena</td>\n",
       "      <td>NaN</td>\n",
       "      <td>XXII MARZO</td>\n",
       "      <td>45.45709</td>\n",
       "      <td>9.21531</td>\n",
       "      <td>Private room</td>\n",
       "      <td>49.0</td>\n",
       "      <td>2</td>\n",
       "      <td>264</td>\n",
       "      <td>2023-11-21</td>\n",
       "      <td>1.92</td>\n",
       "      <td>2</td>\n",
       "      <td>0</td>\n",
       "      <td>33</td>\n",
       "      <td>NaN</td>\n",
       "    </tr>\n",
       "  </tbody>\n",
       "</table>\n",
       "</div>"
      ],
      "text/plain": [
       "       id                                                               name  \\\n",
       "0    6400      Rental unit in Milan · ★4.89 · 3 bedrooms · 1 bed · 3.5 baths   \n",
       "1   23986          Rental unit in Milan · ★4.64 · 1 bedroom · 1 bed · 1 bath   \n",
       "2   24107               Condo in Milan · ★4.50 · 1 bedroom · 6 beds · 1 bath   \n",
       "3   40470        Rental unit in Milan · ★4.67 · 2 bedrooms · 4 beds · 1 bath   \n",
       "4  304050  Rental unit in Milan · ★4.91 · 1 bedroom · 1 bed · 1 private bath   \n",
       "\n",
       "   host_id  host_name  neighbourhood_group neighbourhood  latitude  longitude  \\\n",
       "0    13822  Francesca                  NaN       TIBALDI  45.44119    9.17813   \n",
       "1    95941     Jeremy                  NaN       NAVIGLI  45.44806    9.17373   \n",
       "2    46951    Valeria                  NaN  CITTA' STUDI  45.47179    9.23669   \n",
       "3   174203   Giacinto                  NaN   VIALE MONZA  45.52023    9.22747   \n",
       "4  1566887      Elena                  NaN    XXII MARZO  45.45709    9.21531   \n",
       "\n",
       "         room_type  price  minimum_nights  number_of_reviews last_review  \\\n",
       "0     Private room  100.0               4                 10  2019-04-13   \n",
       "1  Entire home/apt  150.0               1                 26  2023-07-29   \n",
       "2  Entire home/apt  100.0               1                  4  2013-07-31   \n",
       "3  Entire home/apt   80.0               3                 41  2023-09-09   \n",
       "4     Private room   49.0               2                264  2023-11-21   \n",
       "\n",
       "   reviews_per_month  calculated_host_listings_count  availability_365  \\\n",
       "0               0.06                               1               358   \n",
       "1               0.18                               1               359   \n",
       "2               0.02                               1               365   \n",
       "3               0.26                               2               290   \n",
       "4               1.92                               2                 0   \n",
       "\n",
       "   number_of_reviews_ltm license  \n",
       "0                      0     NaN  \n",
       "1                      4     NaN  \n",
       "2                      0     NaN  \n",
       "3                      3     NaN  \n",
       "4                     33     NaN  "
      ]
     },
     "metadata": {},
     "output_type": "display_data"
    }
   ],
   "source": [
    "display(df_calendar.head())\n",
    "display(df_listing.head())"
   ]
  },
  {
   "cell_type": "markdown",
   "metadata": {},
   "source": [
    "### Cleaning the unwanted clumns from listing"
   ]
  },
  {
   "cell_type": "code",
   "execution_count": 147,
   "metadata": {},
   "outputs": [
    {
     "name": "stdout",
     "output_type": "stream",
     "text": [
      "<class 'pandas.core.frame.DataFrame'>\n",
      "RangeIndex: 24936 entries, 0 to 24935\n",
      "Data columns (total 18 columns):\n",
      " #   Column                          Non-Null Count  Dtype  \n",
      "---  ------                          --------------  -----  \n",
      " 0   id                              24936 non-null  int64  \n",
      " 1   name                            24936 non-null  object \n",
      " 2   host_id                         24936 non-null  int64  \n",
      " 3   host_name                       24936 non-null  object \n",
      " 4   neighbourhood_group             0 non-null      float64\n",
      " 5   neighbourhood                   24936 non-null  object \n",
      " 6   latitude                        24936 non-null  float64\n",
      " 7   longitude                       24936 non-null  float64\n",
      " 8   room_type                       24936 non-null  object \n",
      " 9   price                           21023 non-null  float64\n",
      " 10  minimum_nights                  24936 non-null  int64  \n",
      " 11  number_of_reviews               24936 non-null  int64  \n",
      " 12  last_review                     19928 non-null  object \n",
      " 13  reviews_per_month               19928 non-null  float64\n",
      " 14  calculated_host_listings_count  24936 non-null  int64  \n",
      " 15  availability_365                24936 non-null  int64  \n",
      " 16  number_of_reviews_ltm           24936 non-null  int64  \n",
      " 17  license                         6948 non-null   object \n",
      "dtypes: float64(5), int64(7), object(6)\n",
      "memory usage: 3.4+ MB\n"
     ]
    }
   ],
   "source": [
    "df_listing.info()"
   ]
  },
  {
   "cell_type": "code",
   "execution_count": 148,
   "metadata": {},
   "outputs": [],
   "source": [
    "unwanted = ['license','availability_365','host_name','neighbourhood_group']\n",
    "df_listing.drop(columns=unwanted, inplace=True)"
   ]
  },
  {
   "cell_type": "markdown",
   "metadata": {},
   "source": [
    "### Keep only the listings that have at least one review in 2023"
   ]
  },
  {
   "cell_type": "code",
   "execution_count": 149,
   "metadata": {},
   "outputs": [],
   "source": [
    "df_listing['last_review'] = pd.to_datetime(df_listing['last_review'], format=r'%Y-%m-%d')"
   ]
  },
  {
   "cell_type": "code",
   "execution_count": 150,
   "metadata": {},
   "outputs": [],
   "source": [
    "year2023 = datetime(2023,1,1)\n",
    "\n",
    "df_listing = df_listing[df_listing['last_review'] > year2023]"
   ]
  },
  {
   "cell_type": "code",
   "execution_count": 151,
   "metadata": {},
   "outputs": [
    {
     "data": {
      "text/html": [
       "<div>\n",
       "<style scoped>\n",
       "    .dataframe tbody tr th:only-of-type {\n",
       "        vertical-align: middle;\n",
       "    }\n",
       "\n",
       "    .dataframe tbody tr th {\n",
       "        vertical-align: top;\n",
       "    }\n",
       "\n",
       "    .dataframe thead th {\n",
       "        text-align: right;\n",
       "    }\n",
       "</style>\n",
       "<table border=\"1\" class=\"dataframe\">\n",
       "  <thead>\n",
       "    <tr style=\"text-align: right;\">\n",
       "      <th></th>\n",
       "      <th>id</th>\n",
       "      <th>name</th>\n",
       "      <th>host_id</th>\n",
       "      <th>neighbourhood</th>\n",
       "      <th>latitude</th>\n",
       "      <th>longitude</th>\n",
       "      <th>room_type</th>\n",
       "      <th>price</th>\n",
       "      <th>minimum_nights</th>\n",
       "      <th>number_of_reviews</th>\n",
       "      <th>last_review</th>\n",
       "      <th>reviews_per_month</th>\n",
       "      <th>calculated_host_listings_count</th>\n",
       "      <th>number_of_reviews_ltm</th>\n",
       "    </tr>\n",
       "  </thead>\n",
       "  <tbody>\n",
       "    <tr>\n",
       "      <th>1</th>\n",
       "      <td>23986</td>\n",
       "      <td>Rental unit in Milan · ★4.64 · 1 bedroom · 1 bed · 1 bath</td>\n",
       "      <td>95941</td>\n",
       "      <td>NAVIGLI</td>\n",
       "      <td>45.44806</td>\n",
       "      <td>9.17373</td>\n",
       "      <td>Entire home/apt</td>\n",
       "      <td>150.0</td>\n",
       "      <td>1</td>\n",
       "      <td>26</td>\n",
       "      <td>2023-07-29</td>\n",
       "      <td>0.18</td>\n",
       "      <td>1</td>\n",
       "      <td>4</td>\n",
       "    </tr>\n",
       "    <tr>\n",
       "      <th>3</th>\n",
       "      <td>40470</td>\n",
       "      <td>Rental unit in Milan · ★4.67 · 2 bedrooms · 4 beds · 1 bath</td>\n",
       "      <td>174203</td>\n",
       "      <td>VIALE MONZA</td>\n",
       "      <td>45.52023</td>\n",
       "      <td>9.22747</td>\n",
       "      <td>Entire home/apt</td>\n",
       "      <td>80.0</td>\n",
       "      <td>3</td>\n",
       "      <td>41</td>\n",
       "      <td>2023-09-09</td>\n",
       "      <td>0.26</td>\n",
       "      <td>2</td>\n",
       "      <td>3</td>\n",
       "    </tr>\n",
       "    <tr>\n",
       "      <th>4</th>\n",
       "      <td>304050</td>\n",
       "      <td>Rental unit in Milan · ★4.91 · 1 bedroom · 1 bed · 1 private bath</td>\n",
       "      <td>1566887</td>\n",
       "      <td>XXII MARZO</td>\n",
       "      <td>45.45709</td>\n",
       "      <td>9.21531</td>\n",
       "      <td>Private room</td>\n",
       "      <td>49.0</td>\n",
       "      <td>2</td>\n",
       "      <td>264</td>\n",
       "      <td>2023-11-21</td>\n",
       "      <td>1.92</td>\n",
       "      <td>2</td>\n",
       "      <td>33</td>\n",
       "    </tr>\n",
       "    <tr>\n",
       "      <th>5</th>\n",
       "      <td>46536</td>\n",
       "      <td>Rental unit in Milan · ★4.53 · 2 bedrooms · 3 beds · 1 bath</td>\n",
       "      <td>138683</td>\n",
       "      <td>VIALE MONZA</td>\n",
       "      <td>45.52276</td>\n",
       "      <td>9.22478</td>\n",
       "      <td>Entire home/apt</td>\n",
       "      <td>110.0</td>\n",
       "      <td>3</td>\n",
       "      <td>35</td>\n",
       "      <td>2023-10-30</td>\n",
       "      <td>0.24</td>\n",
       "      <td>1</td>\n",
       "      <td>5</td>\n",
       "    </tr>\n",
       "    <tr>\n",
       "      <th>12</th>\n",
       "      <td>333223</td>\n",
       "      <td>Rental unit in Milano · ★5.0 · 1 bedroom · 2 beds · 1 shared bath</td>\n",
       "      <td>1697947</td>\n",
       "      <td>MAGENTA - S. VITTORE</td>\n",
       "      <td>45.46097</td>\n",
       "      <td>9.16431</td>\n",
       "      <td>Private room</td>\n",
       "      <td>150.0</td>\n",
       "      <td>1</td>\n",
       "      <td>3</td>\n",
       "      <td>2023-04-19</td>\n",
       "      <td>0.02</td>\n",
       "      <td>5</td>\n",
       "      <td>1</td>\n",
       "    </tr>\n",
       "  </tbody>\n",
       "</table>\n",
       "</div>"
      ],
      "text/plain": [
       "        id                                                               name  \\\n",
       "1    23986          Rental unit in Milan · ★4.64 · 1 bedroom · 1 bed · 1 bath   \n",
       "3    40470        Rental unit in Milan · ★4.67 · 2 bedrooms · 4 beds · 1 bath   \n",
       "4   304050  Rental unit in Milan · ★4.91 · 1 bedroom · 1 bed · 1 private bath   \n",
       "5    46536        Rental unit in Milan · ★4.53 · 2 bedrooms · 3 beds · 1 bath   \n",
       "12  333223  Rental unit in Milano · ★5.0 · 1 bedroom · 2 beds · 1 shared bath   \n",
       "\n",
       "    host_id         neighbourhood  latitude  longitude        room_type  \\\n",
       "1     95941               NAVIGLI  45.44806    9.17373  Entire home/apt   \n",
       "3    174203           VIALE MONZA  45.52023    9.22747  Entire home/apt   \n",
       "4   1566887            XXII MARZO  45.45709    9.21531     Private room   \n",
       "5    138683           VIALE MONZA  45.52276    9.22478  Entire home/apt   \n",
       "12  1697947  MAGENTA - S. VITTORE  45.46097    9.16431     Private room   \n",
       "\n",
       "    price  minimum_nights  number_of_reviews last_review  reviews_per_month  \\\n",
       "1   150.0               1                 26  2023-07-29               0.18   \n",
       "3    80.0               3                 41  2023-09-09               0.26   \n",
       "4    49.0               2                264  2023-11-21               1.92   \n",
       "5   110.0               3                 35  2023-10-30               0.24   \n",
       "12  150.0               1                  3  2023-04-19               0.02   \n",
       "\n",
       "    calculated_host_listings_count  number_of_reviews_ltm  \n",
       "1                                1                      4  \n",
       "3                                2                      3  \n",
       "4                                2                     33  \n",
       "5                                1                      5  \n",
       "12                               5                      1  "
      ]
     },
     "execution_count": 151,
     "metadata": {},
     "output_type": "execute_result"
    }
   ],
   "source": [
    "df_listing.head()"
   ]
  },
  {
   "cell_type": "markdown",
   "metadata": {},
   "source": [
    "Some listing in df_listing don't have price. I use the mean of the price for the next 365 days (in df_calendar) as a proxy for 'price.'\n",
    "\n",
    "This way, I'll drop as few rows as possible."
   ]
  },
  {
   "cell_type": "code",
   "execution_count": 152,
   "metadata": {},
   "outputs": [],
   "source": [
    "# Convert price to float32\n",
    "\n",
    "df_calendar['price'] = df_calendar['price'].str.replace('$', '')\n",
    "df_calendar['price'] = df_calendar['price'].str.replace(',', '')\n",
    "\n",
    "df_calendar['price'] = df_calendar['price'].astype('float32')"
   ]
  },
  {
   "cell_type": "code",
   "execution_count": 153,
   "metadata": {},
   "outputs": [
    {
     "data": {
      "text/html": [
       "<div>\n",
       "<style scoped>\n",
       "    .dataframe tbody tr th:only-of-type {\n",
       "        vertical-align: middle;\n",
       "    }\n",
       "\n",
       "    .dataframe tbody tr th {\n",
       "        vertical-align: top;\n",
       "    }\n",
       "\n",
       "    .dataframe thead th {\n",
       "        text-align: right;\n",
       "    }\n",
       "</style>\n",
       "<table border=\"1\" class=\"dataframe\">\n",
       "  <thead>\n",
       "    <tr style=\"text-align: right;\">\n",
       "      <th></th>\n",
       "      <th>listing_id</th>\n",
       "      <th>price</th>\n",
       "    </tr>\n",
       "  </thead>\n",
       "  <tbody>\n",
       "    <tr>\n",
       "      <th>0</th>\n",
       "      <td>6400</td>\n",
       "      <td>100.0</td>\n",
       "    </tr>\n",
       "    <tr>\n",
       "      <th>1</th>\n",
       "      <td>23986</td>\n",
       "      <td>150.0</td>\n",
       "    </tr>\n",
       "    <tr>\n",
       "      <th>2</th>\n",
       "      <td>24107</td>\n",
       "      <td>100.0</td>\n",
       "    </tr>\n",
       "  </tbody>\n",
       "</table>\n",
       "</div>"
      ],
      "text/plain": [
       "   listing_id  price\n",
       "0        6400  100.0\n",
       "1       23986  150.0\n",
       "2       24107  100.0"
      ]
     },
     "execution_count": 153,
     "metadata": {},
     "output_type": "execute_result"
    }
   ],
   "source": [
    "grouped_price = df_calendar.groupby('listing_id')['price'].mean().to_frame().reset_index()\n",
    "grouped_price.head(3)"
   ]
  },
  {
   "cell_type": "code",
   "execution_count": 154,
   "metadata": {},
   "outputs": [
    {
     "data": {
      "text/html": [
       "<div>\n",
       "<style scoped>\n",
       "    .dataframe tbody tr th:only-of-type {\n",
       "        vertical-align: middle;\n",
       "    }\n",
       "\n",
       "    .dataframe tbody tr th {\n",
       "        vertical-align: top;\n",
       "    }\n",
       "\n",
       "    .dataframe thead th {\n",
       "        text-align: right;\n",
       "    }\n",
       "</style>\n",
       "<table border=\"1\" class=\"dataframe\">\n",
       "  <thead>\n",
       "    <tr style=\"text-align: right;\">\n",
       "      <th></th>\n",
       "      <th>id</th>\n",
       "      <th>name</th>\n",
       "      <th>host_id</th>\n",
       "      <th>neighbourhood</th>\n",
       "      <th>latitude</th>\n",
       "      <th>longitude</th>\n",
       "      <th>room_type</th>\n",
       "      <th>minimum_nights</th>\n",
       "      <th>number_of_reviews</th>\n",
       "      <th>last_review</th>\n",
       "      <th>reviews_per_month</th>\n",
       "      <th>calculated_host_listings_count</th>\n",
       "      <th>number_of_reviews_ltm</th>\n",
       "      <th>price</th>\n",
       "    </tr>\n",
       "  </thead>\n",
       "  <tbody>\n",
       "    <tr>\n",
       "      <th>0</th>\n",
       "      <td>23986</td>\n",
       "      <td>Rental unit in Milan · ★4.64 · 1 bedroom · 1 bed · 1 bath</td>\n",
       "      <td>95941</td>\n",
       "      <td>NAVIGLI</td>\n",
       "      <td>45.44806</td>\n",
       "      <td>9.17373</td>\n",
       "      <td>Entire home/apt</td>\n",
       "      <td>1</td>\n",
       "      <td>26</td>\n",
       "      <td>2023-07-29</td>\n",
       "      <td>0.18</td>\n",
       "      <td>1</td>\n",
       "      <td>4</td>\n",
       "      <td>150.0</td>\n",
       "    </tr>\n",
       "    <tr>\n",
       "      <th>1</th>\n",
       "      <td>40470</td>\n",
       "      <td>Rental unit in Milan · ★4.67 · 2 bedrooms · 4 beds · 1 bath</td>\n",
       "      <td>174203</td>\n",
       "      <td>VIALE MONZA</td>\n",
       "      <td>45.52023</td>\n",
       "      <td>9.22747</td>\n",
       "      <td>Entire home/apt</td>\n",
       "      <td>3</td>\n",
       "      <td>41</td>\n",
       "      <td>2023-09-09</td>\n",
       "      <td>0.26</td>\n",
       "      <td>2</td>\n",
       "      <td>3</td>\n",
       "      <td>80.0</td>\n",
       "    </tr>\n",
       "    <tr>\n",
       "      <th>2</th>\n",
       "      <td>304050</td>\n",
       "      <td>Rental unit in Milan · ★4.91 · 1 bedroom · 1 bed · 1 private bath</td>\n",
       "      <td>1566887</td>\n",
       "      <td>XXII MARZO</td>\n",
       "      <td>45.45709</td>\n",
       "      <td>9.21531</td>\n",
       "      <td>Private room</td>\n",
       "      <td>2</td>\n",
       "      <td>264</td>\n",
       "      <td>2023-11-21</td>\n",
       "      <td>1.92</td>\n",
       "      <td>2</td>\n",
       "      <td>33</td>\n",
       "      <td>49.0</td>\n",
       "    </tr>\n",
       "    <tr>\n",
       "      <th>3</th>\n",
       "      <td>46536</td>\n",
       "      <td>Rental unit in Milan · ★4.53 · 2 bedrooms · 3 beds · 1 bath</td>\n",
       "      <td>138683</td>\n",
       "      <td>VIALE MONZA</td>\n",
       "      <td>45.52276</td>\n",
       "      <td>9.22478</td>\n",
       "      <td>Entire home/apt</td>\n",
       "      <td>3</td>\n",
       "      <td>35</td>\n",
       "      <td>2023-10-30</td>\n",
       "      <td>0.24</td>\n",
       "      <td>1</td>\n",
       "      <td>5</td>\n",
       "      <td>110.0</td>\n",
       "    </tr>\n",
       "    <tr>\n",
       "      <th>4</th>\n",
       "      <td>333223</td>\n",
       "      <td>Rental unit in Milano · ★5.0 · 1 bedroom · 2 beds · 1 shared bath</td>\n",
       "      <td>1697947</td>\n",
       "      <td>MAGENTA - S. VITTORE</td>\n",
       "      <td>45.46097</td>\n",
       "      <td>9.16431</td>\n",
       "      <td>Private room</td>\n",
       "      <td>1</td>\n",
       "      <td>3</td>\n",
       "      <td>2023-04-19</td>\n",
       "      <td>0.02</td>\n",
       "      <td>5</td>\n",
       "      <td>1</td>\n",
       "      <td>150.0</td>\n",
       "    </tr>\n",
       "  </tbody>\n",
       "</table>\n",
       "</div>"
      ],
      "text/plain": [
       "       id                                                               name  \\\n",
       "0   23986          Rental unit in Milan · ★4.64 · 1 bedroom · 1 bed · 1 bath   \n",
       "1   40470        Rental unit in Milan · ★4.67 · 2 bedrooms · 4 beds · 1 bath   \n",
       "2  304050  Rental unit in Milan · ★4.91 · 1 bedroom · 1 bed · 1 private bath   \n",
       "3   46536        Rental unit in Milan · ★4.53 · 2 bedrooms · 3 beds · 1 bath   \n",
       "4  333223  Rental unit in Milano · ★5.0 · 1 bedroom · 2 beds · 1 shared bath   \n",
       "\n",
       "   host_id         neighbourhood  latitude  longitude        room_type  \\\n",
       "0    95941               NAVIGLI  45.44806    9.17373  Entire home/apt   \n",
       "1   174203           VIALE MONZA  45.52023    9.22747  Entire home/apt   \n",
       "2  1566887            XXII MARZO  45.45709    9.21531     Private room   \n",
       "3   138683           VIALE MONZA  45.52276    9.22478  Entire home/apt   \n",
       "4  1697947  MAGENTA - S. VITTORE  45.46097    9.16431     Private room   \n",
       "\n",
       "   minimum_nights  number_of_reviews last_review  reviews_per_month  \\\n",
       "0               1                 26  2023-07-29               0.18   \n",
       "1               3                 41  2023-09-09               0.26   \n",
       "2               2                264  2023-11-21               1.92   \n",
       "3               3                 35  2023-10-30               0.24   \n",
       "4               1                  3  2023-04-19               0.02   \n",
       "\n",
       "   calculated_host_listings_count  number_of_reviews_ltm  price  \n",
       "0                               1                      4  150.0  \n",
       "1                               2                      3   80.0  \n",
       "2                               2                     33   49.0  \n",
       "3                               1                      5  110.0  \n",
       "4                               5                      1  150.0  "
      ]
     },
     "execution_count": 154,
     "metadata": {},
     "output_type": "execute_result"
    }
   ],
   "source": [
    "df_listing = pd.merge(df_listing, grouped_price,\n",
    "            left_on='id', right_on='listing_id',\n",
    "            how='left')\n",
    "\n",
    "df_listing['price'] = df_listing['price_x'].fillna(df_listing['price_y'])\n",
    "df_listing.drop(columns=['price_x','price_y','listing_id'], inplace=True)\n",
    "df_listing.head()"
   ]
  },
  {
   "cell_type": "markdown",
   "metadata": {},
   "source": [
    "### Create a column with the star number"
   ]
  },
  {
   "cell_type": "code",
   "execution_count": 155,
   "metadata": {},
   "outputs": [
    {
     "data": {
      "text/html": [
       "<div>\n",
       "<style scoped>\n",
       "    .dataframe tbody tr th:only-of-type {\n",
       "        vertical-align: middle;\n",
       "    }\n",
       "\n",
       "    .dataframe tbody tr th {\n",
       "        vertical-align: top;\n",
       "    }\n",
       "\n",
       "    .dataframe thead th {\n",
       "        text-align: right;\n",
       "    }\n",
       "</style>\n",
       "<table border=\"1\" class=\"dataframe\">\n",
       "  <thead>\n",
       "    <tr style=\"text-align: right;\">\n",
       "      <th></th>\n",
       "      <th>id</th>\n",
       "      <th>name</th>\n",
       "      <th>host_id</th>\n",
       "      <th>neighbourhood</th>\n",
       "      <th>latitude</th>\n",
       "      <th>longitude</th>\n",
       "      <th>room_type</th>\n",
       "      <th>minimum_nights</th>\n",
       "      <th>number_of_reviews</th>\n",
       "      <th>last_review</th>\n",
       "      <th>reviews_per_month</th>\n",
       "      <th>calculated_host_listings_count</th>\n",
       "      <th>number_of_reviews_ltm</th>\n",
       "      <th>price</th>\n",
       "      <th>stars</th>\n",
       "    </tr>\n",
       "  </thead>\n",
       "  <tbody>\n",
       "    <tr>\n",
       "      <th>0</th>\n",
       "      <td>23986</td>\n",
       "      <td>Rental unit in Milan · ★4.64 · 1 bedroom · 1 bed · 1 bath</td>\n",
       "      <td>95941</td>\n",
       "      <td>NAVIGLI</td>\n",
       "      <td>45.44806</td>\n",
       "      <td>9.17373</td>\n",
       "      <td>Entire home/apt</td>\n",
       "      <td>1</td>\n",
       "      <td>26</td>\n",
       "      <td>2023-07-29</td>\n",
       "      <td>0.18</td>\n",
       "      <td>1</td>\n",
       "      <td>4</td>\n",
       "      <td>150.0</td>\n",
       "      <td>4.64</td>\n",
       "    </tr>\n",
       "    <tr>\n",
       "      <th>1</th>\n",
       "      <td>40470</td>\n",
       "      <td>Rental unit in Milan · ★4.67 · 2 bedrooms · 4 beds · 1 bath</td>\n",
       "      <td>174203</td>\n",
       "      <td>VIALE MONZA</td>\n",
       "      <td>45.52023</td>\n",
       "      <td>9.22747</td>\n",
       "      <td>Entire home/apt</td>\n",
       "      <td>3</td>\n",
       "      <td>41</td>\n",
       "      <td>2023-09-09</td>\n",
       "      <td>0.26</td>\n",
       "      <td>2</td>\n",
       "      <td>3</td>\n",
       "      <td>80.0</td>\n",
       "      <td>4.67</td>\n",
       "    </tr>\n",
       "    <tr>\n",
       "      <th>2</th>\n",
       "      <td>304050</td>\n",
       "      <td>Rental unit in Milan · ★4.91 · 1 bedroom · 1 bed · 1 private bath</td>\n",
       "      <td>1566887</td>\n",
       "      <td>XXII MARZO</td>\n",
       "      <td>45.45709</td>\n",
       "      <td>9.21531</td>\n",
       "      <td>Private room</td>\n",
       "      <td>2</td>\n",
       "      <td>264</td>\n",
       "      <td>2023-11-21</td>\n",
       "      <td>1.92</td>\n",
       "      <td>2</td>\n",
       "      <td>33</td>\n",
       "      <td>49.0</td>\n",
       "      <td>4.91</td>\n",
       "    </tr>\n",
       "    <tr>\n",
       "      <th>3</th>\n",
       "      <td>46536</td>\n",
       "      <td>Rental unit in Milan · ★4.53 · 2 bedrooms · 3 beds · 1 bath</td>\n",
       "      <td>138683</td>\n",
       "      <td>VIALE MONZA</td>\n",
       "      <td>45.52276</td>\n",
       "      <td>9.22478</td>\n",
       "      <td>Entire home/apt</td>\n",
       "      <td>3</td>\n",
       "      <td>35</td>\n",
       "      <td>2023-10-30</td>\n",
       "      <td>0.24</td>\n",
       "      <td>1</td>\n",
       "      <td>5</td>\n",
       "      <td>110.0</td>\n",
       "      <td>4.53</td>\n",
       "    </tr>\n",
       "    <tr>\n",
       "      <th>4</th>\n",
       "      <td>333223</td>\n",
       "      <td>Rental unit in Milano · ★5.0 · 1 bedroom · 2 beds · 1 shared bath</td>\n",
       "      <td>1697947</td>\n",
       "      <td>MAGENTA - S. VITTORE</td>\n",
       "      <td>45.46097</td>\n",
       "      <td>9.16431</td>\n",
       "      <td>Private room</td>\n",
       "      <td>1</td>\n",
       "      <td>3</td>\n",
       "      <td>2023-04-19</td>\n",
       "      <td>0.02</td>\n",
       "      <td>5</td>\n",
       "      <td>1</td>\n",
       "      <td>150.0</td>\n",
       "      <td>5.0</td>\n",
       "    </tr>\n",
       "  </tbody>\n",
       "</table>\n",
       "</div>"
      ],
      "text/plain": [
       "       id                                                               name  \\\n",
       "0   23986          Rental unit in Milan · ★4.64 · 1 bedroom · 1 bed · 1 bath   \n",
       "1   40470        Rental unit in Milan · ★4.67 · 2 bedrooms · 4 beds · 1 bath   \n",
       "2  304050  Rental unit in Milan · ★4.91 · 1 bedroom · 1 bed · 1 private bath   \n",
       "3   46536        Rental unit in Milan · ★4.53 · 2 bedrooms · 3 beds · 1 bath   \n",
       "4  333223  Rental unit in Milano · ★5.0 · 1 bedroom · 2 beds · 1 shared bath   \n",
       "\n",
       "   host_id         neighbourhood  latitude  longitude        room_type  \\\n",
       "0    95941               NAVIGLI  45.44806    9.17373  Entire home/apt   \n",
       "1   174203           VIALE MONZA  45.52023    9.22747  Entire home/apt   \n",
       "2  1566887            XXII MARZO  45.45709    9.21531     Private room   \n",
       "3   138683           VIALE MONZA  45.52276    9.22478  Entire home/apt   \n",
       "4  1697947  MAGENTA - S. VITTORE  45.46097    9.16431     Private room   \n",
       "\n",
       "   minimum_nights  number_of_reviews last_review  reviews_per_month  \\\n",
       "0               1                 26  2023-07-29               0.18   \n",
       "1               3                 41  2023-09-09               0.26   \n",
       "2               2                264  2023-11-21               1.92   \n",
       "3               3                 35  2023-10-30               0.24   \n",
       "4               1                  3  2023-04-19               0.02   \n",
       "\n",
       "   calculated_host_listings_count  number_of_reviews_ltm  price stars  \n",
       "0                               1                      4  150.0  4.64  \n",
       "1                               2                      3   80.0  4.67  \n",
       "2                               2                     33   49.0  4.91  \n",
       "3                               1                      5  110.0  4.53  \n",
       "4                               5                      1  150.0   5.0  "
      ]
     },
     "execution_count": 155,
     "metadata": {},
     "output_type": "execute_result"
    }
   ],
   "source": [
    "pattern = r'★([\\d\\.]+)'\n",
    "\n",
    "df_listing['stars'] = df_listing['name'].str.findall(pattern).str.get(0)\n",
    "df_listing.head()"
   ]
  },
  {
   "cell_type": "code",
   "execution_count": 156,
   "metadata": {},
   "outputs": [
    {
     "data": {
      "text/plain": [
       "'Rental unit in Milano · ★5.0 · 1 bedroom · 2 beds · 1 shared bath'"
      ]
     },
     "execution_count": 156,
     "metadata": {},
     "output_type": "execute_result"
    }
   ],
   "source": [
    "df_listing.iloc[4,1]"
   ]
  },
  {
   "cell_type": "code",
   "execution_count": 157,
   "metadata": {},
   "outputs": [
    {
     "data": {
      "text/plain": [
       "'Rental unit in Milan · ★4.91 · 1 bedroom · 1 bed · 1 private bath'"
      ]
     },
     "execution_count": 157,
     "metadata": {},
     "output_type": "execute_result"
    }
   ],
   "source": [
    "df_listing.iloc[2,1]"
   ]
  },
  {
   "cell_type": "code",
   "execution_count": 158,
   "metadata": {},
   "outputs": [],
   "source": [
    "# Some listing have for example 1.5 beds.\n",
    "# For now I get the 1.5.\n",
    "\n",
    "pattern_bedroom = r'([\\d\\.]*) bedr'\n",
    "\n",
    "df_listing['bedroom'] = df_listing['name'].str.findall(pattern_bedroom).str.get(0)"
   ]
  },
  {
   "cell_type": "code",
   "execution_count": 159,
   "metadata": {},
   "outputs": [],
   "source": [
    "pattern_bed = r'([\\d\\.]*) beds? '\n",
    "\n",
    "df_listing['bed'] = df_listing['name'].str.findall(pattern_bed).str.get(0)"
   ]
  },
  {
   "cell_type": "code",
   "execution_count": 160,
   "metadata": {},
   "outputs": [],
   "source": [
    "# After an iterative process I found that\n",
    "# there are only bath, private bath, and shared bath\n",
    "\n",
    "pattern_bath = r'([\\d\\.]*)[\\sprivate]*[\\sshared]* bath'\n",
    "\n",
    "df_listing['bath'] = df_listing['name'].str.findall(pattern_bath).str.get(0)"
   ]
  },
  {
   "cell_type": "markdown",
   "metadata": {},
   "source": [
    "### Adjust the order and the dtypes"
   ]
  },
  {
   "cell_type": "code",
   "execution_count": 161,
   "metadata": {},
   "outputs": [],
   "source": [
    "new_order = ['id','name','price','room_type','number_of_reviews','stars','bed',\n",
    "             'bedroom','bath','neighbourhood','latitude', 'longitude','minimum_nights',\n",
    "             'last_review','reviews_per_month','number_of_reviews_ltm',\n",
    "             'calculated_host_listings_count', 'host_id',]\n",
    "\n",
    "df_listing = df_listing[new_order]"
   ]
  },
  {
   "cell_type": "code",
   "execution_count": 175,
   "metadata": {},
   "outputs": [
    {
     "name": "stdout",
     "output_type": "stream",
     "text": [
      "<class 'pandas.core.frame.DataFrame'>\n",
      "Index: 15070 entries, 0 to 15258\n",
      "Data columns (total 18 columns):\n",
      " #   Column                          Non-Null Count  Dtype         \n",
      "---  ------                          --------------  -----         \n",
      " 0   id                              15070 non-null  int64         \n",
      " 1   name                            15070 non-null  object        \n",
      " 2   price                           15070 non-null  float32       \n",
      " 3   room_type                       15070 non-null  object        \n",
      " 4   number_of_reviews               15070 non-null  float32       \n",
      " 5   stars                           12977 non-null  float32       \n",
      " 6   bed                             15070 non-null  float32       \n",
      " 7   bedroom                         15070 non-null  float32       \n",
      " 8   bath                            15044 non-null  float32       \n",
      " 9   neighbourhood                   15070 non-null  object        \n",
      " 10  latitude                        15070 non-null  float32       \n",
      " 11  longitude                       15070 non-null  float32       \n",
      " 12  minimum_nights                  15070 non-null  float32       \n",
      " 13  last_review                     15070 non-null  datetime64[ns]\n",
      " 14  reviews_per_month               15070 non-null  float32       \n",
      " 15  number_of_reviews_ltm           15070 non-null  float32       \n",
      " 16  calculated_host_listings_count  15070 non-null  float32       \n",
      " 17  host_id                         15070 non-null  int64         \n",
      "dtypes: datetime64[ns](1), float32(12), int64(2), object(3)\n",
      "memory usage: 1.5+ MB\n"
     ]
    }
   ],
   "source": [
    "df_listing.info()"
   ]
  },
  {
   "cell_type": "code",
   "execution_count": 163,
   "metadata": {},
   "outputs": [],
   "source": [
    "col_to_convert = ['stars','price','number_of_reviews','bed','bedroom','bath',\n",
    "                  'minimum_nights','number_of_reviews_ltm','calculated_host_listings_count',\n",
    "                  'latitude','longitude','reviews_per_month']\n",
    "\n",
    "df_listing[col_to_convert] = df_listing[col_to_convert].astype('float32')"
   ]
  },
  {
   "cell_type": "markdown",
   "metadata": {},
   "source": [
    "### Handle the last null columns"
   ]
  },
  {
   "cell_type": "code",
   "execution_count": 164,
   "metadata": {},
   "outputs": [],
   "source": [
    "pd.set_option('display.max_colwidth', None)"
   ]
  },
  {
   "cell_type": "code",
   "execution_count": 165,
   "metadata": {},
   "outputs": [
    {
     "data": {
      "text/plain": [
       "False"
      ]
     },
     "execution_count": 165,
     "metadata": {},
     "output_type": "execute_result"
    }
   ],
   "source": [
    "df_listing['id'].duplicated().any()"
   ]
  },
  {
   "cell_type": "code",
   "execution_count": 166,
   "metadata": {},
   "outputs": [
    {
     "data": {
      "text/plain": [
       "68         Vacation home in Milan · 1 bedroom · 1 bed · 1 bath\n",
       "198          Rental unit in Milan · 1 bedroom · 1 bed · 1 bath\n",
       "289         Rental unit in Milan · 1 bedroom · 2 beds · 1 bath\n",
       "326         Rental unit in Milan · 1 bedroom · 2 beds · 1 bath\n",
       "330                Home in Milano · 1 bedroom · 1 bed · 1 bath\n",
       "361    Boutique hotel in Milan · 1 bedroom · 1 bed · 1.5 baths\n",
       "463            Condo in Milano · 3 bedrooms · 3 beds · 2 baths\n",
       "498        Rental unit in Milano · 1 bedroom · 2 beds · 1 bath\n",
       "515              Home in Milano · 2 bedrooms · 4 beds · 1 bath\n",
       "542              Condo in Milano · 1 bedroom · 2 beds · 1 bath\n",
       "Name: name, dtype: object"
      ]
     },
     "execution_count": 166,
     "metadata": {},
     "output_type": "execute_result"
    }
   ],
   "source": [
    "# Some listings don't have stars, for now I keep the null values\n",
    "\n",
    "df_listing.loc[df_listing['stars'].isna(), 'name'][:10]"
   ]
  },
  {
   "cell_type": "code",
   "execution_count": 167,
   "metadata": {},
   "outputs": [
    {
     "data": {
      "text/plain": [
       "8              Rental unit in Milan · ★4.85 · 1 bedroom · 1 bath\n",
       "119                   Loft in Milan · ★4.56 · 1 bedroom · 1 bath\n",
       "370             Rental unit in Milan · ★5.0 · 1 bedroom · 1 bath\n",
       "410                  Loft in Milano · ★4.54 · 1 bedroom · 1 bath\n",
       "549           Rental unit in Milano · ★4.94 · 1 bedroom · 1 bath\n",
       "580            Rental unit in Milan · ★4.77 · 1 bedroom · 1 bath\n",
       "741            Rental unit in Milan · ★4.77 · 1 bedroom · 1 bath\n",
       "925     Guesthouse in Milano · ★4.87 · 1 bedroom · 1 shared bath\n",
       "1093          Rental unit in Milano · ★4.98 · 1 bedroom · 1 bath\n",
       "1148           Guest suite in Milan · ★4.94 · 1 bedroom · 1 bath\n",
       "Name: name, dtype: object"
      ]
     },
     "execution_count": 167,
     "metadata": {},
     "output_type": "execute_result"
    }
   ],
   "source": [
    "df_listing.loc[df_listing['bed'].isna(), 'name'][:10]"
   ]
  },
  {
   "cell_type": "code",
   "execution_count": 171,
   "metadata": {},
   "outputs": [],
   "source": [
    "# It's really strange a home with a bedroom but with no beds.\n",
    "# Since there are few rows with this problem, I just drop them.\n",
    "\n",
    "df_listing.dropna(subset=['bed'], inplace=True)"
   ]
  },
  {
   "cell_type": "code",
   "execution_count": 173,
   "metadata": {},
   "outputs": [
    {
     "data": {
      "text/plain": [
       "12            Rental unit in Milan · ★4.54 · Studio · 1 bed · 1 bath\n",
       "25                 Condo in Milan · ★4.74 · Studio · 2 beds · 1 bath\n",
       "56     Serviced apartment in Milan · ★5.0 · Studio · 1 bed · 0 baths\n",
       "122           Rental unit in Milan · ★4.80 · Studio · 1 bed · 1 bath\n",
       "150          Rental unit in Milan · ★4.77 · Studio · 2 beds · 1 bath\n",
       "205           Rental unit in Milan · ★4.79 · Studio · 1 bed · 1 bath\n",
       "219          Rental unit in Milano · ★4.90 · Studio · 1 bed · 1 bath\n",
       "241          Rental unit in Milano · ★4.94 · Studio · 1 bed · 1 bath\n",
       "248         Rental unit in Milano · ★4.89 · Studio · 2 beds · 1 bath\n",
       "259          Rental unit in Milan · ★4.75 · Studio · 2 beds · 1 bath\n",
       "Name: name, dtype: object"
      ]
     },
     "execution_count": 173,
     "metadata": {},
     "output_type": "execute_result"
    }
   ],
   "source": [
    "# It makes sense that some homes don't have a bedroom.\n",
    "# I fill the na values with 0.\n",
    "\n",
    "df_listing.loc[df_listing['bedroom'].isna(), 'name'][:10]"
   ]
  },
  {
   "cell_type": "code",
   "execution_count": 174,
   "metadata": {},
   "outputs": [],
   "source": [
    "df_listing['bedroom'] = df_listing['bedroom'].fillna(0)"
   ]
  },
  {
   "cell_type": "code",
   "execution_count": 182,
   "metadata": {},
   "outputs": [
    {
     "name": "stdout",
     "output_type": "stream",
     "text": [
      "Non whole rows for bath: 547\n",
      "Non whole rows for bed: 0\n",
      "Non whole rows for bedroom: 0\n"
     ]
    }
   ],
   "source": [
    "# I handle the strange listings with, for example, 1.5 beds\n",
    "\n",
    "def is_not_whole(n):\n",
    "\n",
    "    '''This function will return a boolean,\n",
    "    depending on whether n is a whole number.'''\n",
    "\n",
    "    return n % 1 != 0\n",
    "\n",
    "for i in ['bath','bed','bedroom']:\n",
    "    print(f'Non whole rows for {i}:', df_listing[i].apply(is_not_whole).sum())"
   ]
  },
  {
   "cell_type": "code",
   "execution_count": 187,
   "metadata": {},
   "outputs": [],
   "source": [
    "# I round the number to the lower whole number\n",
    "\n",
    "df_listing['bath'] = np.floor(df_listing['bath'])"
   ]
  },
  {
   "cell_type": "code",
   "execution_count": 188,
   "metadata": {},
   "outputs": [
    {
     "name": "stdout",
     "output_type": "stream",
     "text": [
      "<class 'pandas.core.frame.DataFrame'>\n",
      "Index: 15070 entries, 0 to 15258\n",
      "Data columns (total 18 columns):\n",
      " #   Column                          Non-Null Count  Dtype         \n",
      "---  ------                          --------------  -----         \n",
      " 0   id                              15070 non-null  int64         \n",
      " 1   name                            15070 non-null  object        \n",
      " 2   price                           15070 non-null  float32       \n",
      " 3   room_type                       15070 non-null  object        \n",
      " 4   number_of_reviews               15070 non-null  float32       \n",
      " 5   stars                           12977 non-null  float32       \n",
      " 6   bed                             15070 non-null  float32       \n",
      " 7   bedroom                         15070 non-null  float32       \n",
      " 8   bath                            15044 non-null  float32       \n",
      " 9   neighbourhood                   15070 non-null  object        \n",
      " 10  latitude                        15070 non-null  float32       \n",
      " 11  longitude                       15070 non-null  float32       \n",
      " 12  minimum_nights                  15070 non-null  float32       \n",
      " 13  last_review                     15070 non-null  datetime64[ns]\n",
      " 14  reviews_per_month               15070 non-null  float32       \n",
      " 15  number_of_reviews_ltm           15070 non-null  float32       \n",
      " 16  calculated_host_listings_count  15070 non-null  float32       \n",
      " 17  host_id                         15070 non-null  int64         \n",
      "dtypes: datetime64[ns](1), float32(12), int64(2), object(3)\n",
      "memory usage: 2.0+ MB\n"
     ]
    }
   ],
   "source": [
    "df_listing.info()"
   ]
  },
  {
   "cell_type": "markdown",
   "metadata": {},
   "source": [
    "### Convert the cleaned dataset to CSV"
   ]
  },
  {
   "cell_type": "code",
   "execution_count": 189,
   "metadata": {},
   "outputs": [],
   "source": [
    "df_listing.to_csv(r'C:\\Users\\matte\\OneDrive\\Desktop\\GitHub\\data\\Airbnb\\listings_cleaned.csv',\n",
    "                  index=False)"
   ]
  }
 ],
 "metadata": {
  "kernelspec": {
   "display_name": "base",
   "language": "python",
   "name": "python3"
  },
  "language_info": {
   "codemirror_mode": {
    "name": "ipython",
    "version": 3
   },
   "file_extension": ".py",
   "mimetype": "text/x-python",
   "name": "python",
   "nbconvert_exporter": "python",
   "pygments_lexer": "ipython3",
   "version": "3.11.5"
  }
 },
 "nbformat": 4,
 "nbformat_minor": 2
}
