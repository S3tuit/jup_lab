{
 "cells": [
  {
   "cell_type": "markdown",
   "metadata": {},
   "source": [
    "Note: Budget numbers for movies can be both difficult to find and unreliable. Studios and film-makers often try to keep the information secret and will use accounting tricks to inflate or reduce announced budgets.\n",
    "\n",
    "This chart shows the budget of every film in our database, where we have it. The data we have is, to the best of our knowledge, accurate but there are gaps and disputed figures."
   ]
  },
  {
   "cell_type": "code",
   "execution_count": 1,
   "metadata": {},
   "outputs": [],
   "source": [
    "import pandas as pd\n",
    "import numpy as np\n",
    "from bs4 import BeautifulSoup\n",
    "import requests"
   ]
  },
  {
   "cell_type": "code",
   "execution_count": 2,
   "metadata": {},
   "outputs": [],
   "source": [
    "from datetime import datetime\n",
    "from io import StringIO\n",
    "import re"
   ]
  },
  {
   "cell_type": "markdown",
   "metadata": {},
   "source": [
    "### Get the links"
   ]
  },
  {
   "cell_type": "code",
   "execution_count": 243,
   "metadata": {},
   "outputs": [],
   "source": [
    "'''\n",
    "This function finds all links of all the movies in a table and create a list\n",
    "'''\n",
    "\n",
    "def get_links(table):\n",
    "    links = []\n",
    "    for i in range(len(table.find_all('tr')) -1):\n",
    "        i += 1\n",
    "        try:\n",
    "            messy = table.find_all('tr')[i].find_all('td')[-4]\n",
    "            links.append(messy.find('a',href=True)['href'])\n",
    "        except:\n",
    "            links.append(None)\n",
    "    \n",
    "    return links"
   ]
  },
  {
   "cell_type": "markdown",
   "metadata": {},
   "source": [
    "### Get the description column"
   ]
  },
  {
   "cell_type": "code",
   "execution_count": 258,
   "metadata": {},
   "outputs": [],
   "source": [
    "'''\n",
    "This function finds the gross profit and budget for the movie\n",
    "'''\n",
    "\n",
    "def get_profit(soup):\n",
    "    try:\n",
    "        table = soup.find_all(class_=\"infobox vevent\")[0]\n",
    "        budget = table.find_all('tr')[-2]\n",
    "        proof = budget.find_all(class_ ='infobox-label')[0].get_text()\n",
    "    except:\n",
    "        return None, None\n",
    "    if proof == 'Budget':\n",
    "        budget = budget.find_all(class_ ='infobox-data')[0].get_text(strip=True)\n",
    "        box_office = table.find_all('tr')[-1]\n",
    "        box_office = box_office.find_all(class_ ='infobox-data')[0].get_text(strip=True)\n",
    "        return budget, box_office\n",
    "\n",
    "    else:\n",
    "        return None, None"
   ]
  },
  {
   "cell_type": "code",
   "execution_count": 254,
   "metadata": {},
   "outputs": [],
   "source": [
    "'''\n",
    "This function finds the genre of the movie and calls\n",
    "the get_profit so to find also the gross profit and budget for the movie\n",
    "'''\n",
    "\n",
    "pattern3 = r'\\d{4} [A-Z]\\w+([^\\d\\.]+) film[\\s\\[]'\n",
    "pattern4 = r'\\d{4} ([^\\d\\.]+) film[\\s\\[]'\n",
    "\n",
    "def get_descr(x):\n",
    "\n",
    "    try:\n",
    "        x = r'https://en.wikipedia.org' + x\n",
    "        r1 = requests.get(x)\n",
    "    except:\n",
    "        return [None, None, None]\n",
    "\n",
    "    if r1.status_code==200:\n",
    "        r2 = r1\n",
    "        r1.close()\n",
    "        soup1_2 = BeautifulSoup(r2.content, 'html.parser')\n",
    "\n",
    "        budget, box_office = get_profit(soup1_2)\n",
    "\n",
    "        first_line = soup1_2.find_all('p')[0].get_text(strip=False)\n",
    "        print('-', end='')\n",
    "        if len(first_line) < 75:\n",
    "            first_line = soup1_2.find_all('p')[1].get_text(strip=False)\n",
    "        result = re.findall(pattern3, first_line)\n",
    "\n",
    "        if len(result) > 0:\n",
    "            return [result[0],budget, box_office]\n",
    "        \n",
    "        else:\n",
    "            result = re.findall(pattern4, first_line)\n",
    "            if len(result) > 0:\n",
    "                return [result[0],budget, box_office]\n",
    "            else:\n",
    "                return [None,budget, box_office]\n",
    "    else:\n",
    "        return [None,budget, box_office]"
   ]
  },
  {
   "cell_type": "markdown",
   "metadata": {},
   "source": [
    "### Convert the months to numbers"
   ]
  },
  {
   "cell_type": "code",
   "execution_count": 195,
   "metadata": {},
   "outputs": [],
   "source": [
    "def months_to_number(x):\n",
    "    return months[x]\n",
    "\n",
    "months = {'January':1, 'February':2, 'March':3,\n",
    "          'April':4, 'May':5, 'June':6, 'July':7,\n",
    "          'August':8,'September':9, 'October':10,\n",
    "          'November':11, 'December':12}"
   ]
  },
  {
   "cell_type": "markdown",
   "metadata": {},
   "source": [
    "## Scrape the whole page"
   ]
  },
  {
   "cell_type": "code",
   "execution_count": 212,
   "metadata": {},
   "outputs": [],
   "source": [
    "def scrape_whole_page(url):\n",
    "\n",
    "    # Initialize the request\n",
    "    r = requests.get(url)\n",
    "    if r.status_code != 200:\n",
    "        print('Bad request.')\n",
    "        return None\n",
    "    \n",
    "    # Parse the html page \n",
    "    soup1 = BeautifulSoup(r.content, 'html.parser')\n",
    "    tables = soup1.find_all('table')\n",
    "    tables = tables[2:6]\n",
    "\n",
    "    # Get all the movie links of the page\n",
    "    all_links = {}\n",
    "    for t in range(len(tables)):\n",
    "        links = get_links(tables[t])\n",
    "        all_links[t] = links\n",
    "    \n",
    "    # Adjust all the df and add the link column\n",
    "    all_df = pd.read_html(StringIO(str(tables)))\n",
    "    result_df = {}\n",
    "    for n,d in enumerate(all_df):\n",
    "        d.rename(columns={'Opening':'Month', 'Opening.1':'Day'}, inplace=True)\n",
    "        d = d[['Month', 'Day', 'Title']].copy().dropna(thresh=3)\n",
    "        d['Month'] = d['Month'].str.replace(' ', '').str.capitalize()\n",
    "        d['Link'] = all_links[n]\n",
    "    \n",
    "        d['List'] = d['Link'].apply(get_descr)\n",
    "        result_df[n] = d\n",
    "        print('\\nTable done!\\n')\n",
    "\n",
    "    print('\\nPAGE DONE!!!\\n')\n",
    "    return result_df\n",
    "\n",
    "\n",
    "#df3 = scrape_whole_page(r'https://en.wikipedia.org/wiki/List_of_American_films_of_2015')       "
   ]
  },
  {
   "cell_type": "markdown",
   "metadata": {},
   "source": [
    "## Test section"
   ]
  },
  {
   "cell_type": "code",
   "execution_count": 261,
   "metadata": {},
   "outputs": [
    {
     "data": {
      "text/plain": [
       "200"
      ]
     },
     "execution_count": 261,
     "metadata": {},
     "output_type": "execute_result"
    }
   ],
   "source": [
    "r = requests.get(r'https://en.wikipedia.org/wiki/List_of_American_films_of_2017')\n",
    "r.status_code"
   ]
  },
  {
   "cell_type": "code",
   "execution_count": null,
   "metadata": {},
   "outputs": [],
   "source": [
    "soup1 = BeautifulSoup(r.content, 'html.parser')\n",
    "tables = soup1.find_all('table')"
   ]
  },
  {
   "cell_type": "code",
   "execution_count": 277,
   "metadata": {},
   "outputs": [],
   "source": [
    "tables[3] = str(tables[3]).replace('q', '')"
   ]
  },
  {
   "cell_type": "code",
   "execution_count": 283,
   "metadata": {},
   "outputs": [
    {
     "data": {
      "text/plain": [
       "[            Opening  Opening.1                                      Title  \\\n",
       " 0     O C T O B E R          6                          Blade Runner 2049   \n",
       " 1     O C T O B E R          6                    The Mountain Between Us   \n",
       " 2     O C T O B E R          6                  My Little Pony: The Movie   \n",
       " 3     O C T O B E R          6                        The Florida Project   \n",
       " 4     O C T O B E R          6                     Brawl in Cell Block 99   \n",
       " 5     O C T O B E R         13                            Happy Death Day   \n",
       " 6     O C T O B E R         13                                   Marshall   \n",
       " 7     O C T O B E R         13                                    Breathe   \n",
       " 8     O C T O B E R         13                             Carving a Life   \n",
       " 9     O C T O B E R         13     Professor Marston and the Wonder Women   \n",
       " 10    O C T O B E R         13                                Blood Money   \n",
       " 11    O C T O B E R         20                                   Geostorm   \n",
       " 12    O C T O B E R         20                             Only the Brave   \n",
       " 13    O C T O B E R         20                                The Snowman   \n",
       " 14    O C T O B E R         20                   Boo 2! A Madea Halloween   \n",
       " 15    O C T O B E R         20               Same Kind of Different as Me   \n",
       " 16    O C T O B E R         20                                Leatherface   \n",
       " 17    O C T O B E R         20                               Wonderstruck   \n",
       " 18    O C T O B E R         21                             The Playground   \n",
       " 19    O C T O B E R         27                 Thank You for Your Service   \n",
       " 20    O C T O B E R         27                                 Suburbicon   \n",
       " 21    O C T O B E R         27                                     Jigsaw   \n",
       " 22    O C T O B E R         27                                  Novitiate   \n",
       " 23    O C T O B E R         27                           All I See Is You   \n",
       " 24    O C T O B E R         28                  Amityville: The Awakening   \n",
       " 25  N O V E M B E R          3                             Thor: Ragnarok   \n",
       " 26  N O V E M B E R          3                       A Bad Moms Christmas   \n",
       " 27  N O V E M B E R          3                           Last Flag Flying   \n",
       " 28  N O V E M B E R          3                                  Lady Bird   \n",
       " 29  N O V E M B E R         10               Murder on the Orient Express   \n",
       " 30  N O V E M B E R         10                             Daddy's Home 2   \n",
       " 31  N O V E M B E R         10                                        LBJ   \n",
       " 32  N O V E M B E R         10  Three Billboards Outside Ebbing, Missouri   \n",
       " 33  N O V E M B E R         10                                     Mayhem   \n",
       " 34  N O V E M B E R         17                             Justice League   \n",
       " 35  N O V E M B E R         17                                   The Star   \n",
       " 36  N O V E M B E R         17                                     Wonder   \n",
       " 37  N O V E M B E R         17                                  Cook Off!   \n",
       " 38  N O V E M B E R         17                              Mr. Roosevelt   \n",
       " 39  N O V E M B E R         17                       Roman J. Israel, Es.   \n",
       " 40  N O V E M B E R         22                                       Coco   \n",
       " 41  N O V E M B E R         24                       Call Me by Your Name   \n",
       " 42  D E C E M B E R          1                        The Disaster Artist   \n",
       " 43  D E C E M B E R          1                         The Shape of Water   \n",
       " 44  D E C E M B E R          1                               Wonder Wheel   \n",
       " 45  D E C E M B E R          8                                   I, Tonya   \n",
       " 46  D E C E M B E R          8                       Just Getting Started   \n",
       " 47  D E C E M B E R         15                   Star Wars: The Last Jedi   \n",
       " 48  D E C E M B E R         15                                  Ferdinand   \n",
       " 49  D E C E M B E R         15                             Beyond Skyline   \n",
       " 50  D E C E M B E R         20             Jumanji: Welcome to the Jungle   \n",
       " 51  D E C E M B E R         20                       The Greatest Showman   \n",
       " 52  D E C E M B E R         22                            Pitch Perfect 3   \n",
       " 53  D E C E M B E R         22                                 Downsizing   \n",
       " 54  D E C E M B E R         22                             Father Figures   \n",
       " 55  D E C E M B E R         22                                   The Post   \n",
       " 56  D E C E M B E R         22                                     Bright   \n",
       " 57  D E C E M B E R         22                              Crooked House   \n",
       " 58  D E C E M B E R         22                                   Hostiles   \n",
       " 59  D E C E M B E R         25                 All the Money in the World   \n",
       " 60  D E C E M B E R         25                               Molly's Game   \n",
       " 61  D E C E M B E R         25                             Phantom Thread   \n",
       " \n",
       "                                    Production company  \\\n",
       " 0   Warner Bros. Pictures / Alcon Entertainment / ...   \n",
       " 1            20th Century Fox / Chernin Entertainment   \n",
       " 2                          Lionsgate / Hasbro Studios   \n",
       " 3                                                 A24   \n",
       " 4                                  RLJE Entertainment   \n",
       " 5          Universal Pictures / Blumhouse Productions   \n",
       " 6                                     Open Road Films   \n",
       " 7   Bleecker Street / Participant Media / The Imag...   \n",
       " 8                                        Indie Rights   \n",
       " 9                                  Annapurna Pictures   \n",
       " 10                                        Saban Films   \n",
       " 11  Warner Bros. Pictures / Skydance Media / RatPa...   \n",
       " 12                                  Columbia Pictures   \n",
       " 13  Universal Pictures / Perfect World Pictures / ...   \n",
       " 14                    Lionsgate / Tyler Perry Studios   \n",
       " 15       Paramount Pictures / Pure Flix Entertainment   \n",
       " 16             Lionsgate / Millennium Films / DirecTV   \n",
       " 17              Amazon Studios / Roadside Attractions   \n",
       " 18                 SplitWorld Pictures / Indie Rights   \n",
       " 19  Universal Pictures / DreamWorks Pictures / Rel...   \n",
       " 20                                 Paramount Pictures   \n",
       " 21                 Lionsgate Films / Twisted Pictures   \n",
       " 22                             Sony Pictures Classics   \n",
       " 23        Open Road Films / SC International Pictures   \n",
       " 24            Dimension Films / Blumhouse Productions   \n",
       " 25                                     Marvel Studios   \n",
       " 26        STX Entertainment / Huayi Brothers Pictures   \n",
       " 27                         Lionsgate / Amazon Studios   \n",
       " 28                                                A24   \n",
       " 29  20th Century Fox / Genre Films / Scott Free Pr...   \n",
       " 30      Paramount Pictures / Gary Sanchez Productions   \n",
       " 31                             Electric Entertainment   \n",
       " 32                           Fox Searchlight Pictures   \n",
       " 33                                         RLJE Films   \n",
       " 34  Warner Bros. Pictures / RatPac Entertainment /...   \n",
       " 35  Columbia Pictures / Sony Pictures Animation / ...   \n",
       " 36       Lionsgate / Participant Media / Walden Media   \n",
       " 37                                 Lionsgate Premiere   \n",
       " 38                                            Paladin   \n",
       " 39  Columbia Pictures / Cross Creek Pictures / Ima...   \n",
       " 40     Walt Disney Pictures / Pixar Animation Studios   \n",
       " 41                             Sony Pictures Classics   \n",
       " 42              A24 / New Line Cinema / Good Universe   \n",
       " 43                           Fox Searchlight Pictures   \n",
       " 44                                     Amazon Studios   \n",
       " 45                                               Neon   \n",
       " 46                               Broad Green Pictures   \n",
       " 47                                     Lucasfilm Ltd.   \n",
       " 48                20th Century Fox / Blue Sky Studios   \n",
       " 49                             Vertical Entertainment   \n",
       " 50        Columbia Pictures / Seven Bucks Productions   \n",
       " 51  20th Century Fox / TSG Entertainment / Chernin...   \n",
       " 52  Universal Pictures / Perfect World Pictures / ...   \n",
       " 53                                 Paramount Pictures   \n",
       " 54  Warner Bros. Pictures / Alcon Entertainment / ...   \n",
       " 55  20th Century Fox / DreamWorks Pictures / Ambli...   \n",
       " 56                                            Netflix   \n",
       " 57             Vertical Entertainment / Sony Pictures   \n",
       " 58                              Entertainment Studios   \n",
       " 59          TriStar Pictures / Scott Free Productions   \n",
       " 60                                  STX Entertainment   \n",
       " 61                Focus Features / Annapurna Pictures   \n",
       " \n",
       "                                         Cast and crew   Ref.  \n",
       " 0   Denis Villeneuve (director); Hampton Fancher, ...  [277]  \n",
       " 1   Hany Abu-Assad (director); Chris Weitz, J. Mil...  [278]  \n",
       " 2   Jayson Thiessen (director); Meghan McCarthy, R...  [279]  \n",
       " 3   Sean Baker (director/screenplay); Chris Bergoc...  [280]  \n",
       " 4   S. Craig Zahler (director/screenplay); Vince V...  [281]  \n",
       " 5   Christopher Landon (director); Scott Lobdell (...  [282]  \n",
       " 6   Reginald Hudlin (director); Michael Koskoff, J...  [283]  \n",
       " 7   Andy Serkis (director); William Nicholson (scr...  [284]  \n",
       " 8   Terry Ross (director); Lisa Bruhn (screenplay)...  [285]  \n",
       " 9   Angela Robinson (director/screenplay); Luke Ev...  [286]  \n",
       " 10  Lucky McKee (director); Jared Butler, Lars Nor...  [287]  \n",
       " 11  Dean Devlin (director/screenplay); Paul Guyot ...  [288]  \n",
       " 12  Joseph Kosinski (director); Ken Nolan, Eric Wa...  [289]  \n",
       " 13  Tomas Alfredson (director); Peter Straughan, H...  [290]  \n",
       " 14  Tyler Perry (director/screenplay); Tyler Perry...  [291]  \n",
       " 15  Michael Carney (director/screenplay); Ron Hall...  [292]  \n",
       " 16  Julien Maury, Alexandre Bustillo (directors); ...  [293]  \n",
       " 17  Todd Haynes (director); Brian Selznick (screen...  [294]  \n",
       " 18  Edreace Purmul (director/screenplay); Ramona F...  [295]  \n",
       " 19  Jason Hall (director/screenplay); Miles Teller...  [296]  \n",
       " 20  George Clooney (director/screenplay); Coen bro...  [297]  \n",
       " 21  The Spierig Brothers (directors); Josh Stolber...  [298]  \n",
       " 22  Maggie Betts (director/screenplay); Margaret Q...  [299]  \n",
       " 23  Marc Forster (director/screenplay); Sean Conwa...  [300]  \n",
       " 24  Franck Khalfoun (director/screenplay); Jennife...  [301]  \n",
       " 25  Taika Waititi (director); Eric Pearson, Craig ...  [302]  \n",
       " 26  Scott Moore, Jon Lucas (directors/screenplay);...  [303]  \n",
       " 27  Richard Linklater (director/screenplay); Darry...  [304]  \n",
       " 28  Greta Gerwig (director/screenplay); Saoirse Ro...  [305]  \n",
       " 29  Kenneth Branagh (director); Michael Green (scr...  [306]  \n",
       " 30  Sean Anders (director/screenplay), John Morris...  [307]  \n",
       " 31  Rob Reiner (director); Joey Hartstone (screenp...  [308]  \n",
       " 32  Martin McDonagh (director/screenplay); Frances...  [309]  \n",
       " 33  Joe Lynch (director); Matias Caruso (screenpla...  [310]  \n",
       " 34  Zack Snyder (director); Chris Terrio, Joss Whe...  [185]  \n",
       " 35  Timothy Reckart (director); Carlos Kotkin (scr...  [311]  \n",
       " 36  Stephen Chbosky (director/screenplay); Steven ...  [312]  \n",
       " 37  Cathryn Michon (director/screenplay); Guy Shal...  [313]  \n",
       " 38  Noël Wells (director/screenplay); Noël Wells, ...  [314]  \n",
       " 39  Dan Gilroy (director/screenplay), Denzel Washi...  [315]  \n",
       " 40  Lee Unkrich (director); Adrian Molina, Matthew...  [316]  \n",
       " 41  Luca Guadagnino (director); James Ivory (scree...  [317]  \n",
       " 42  James Franco (director); Scott Neustadter, Mic...  [318]  \n",
       " 43  Guillermo del Toro (director/screenplay); Vane...  [319]  \n",
       " 44  Woody Allen (director/screenplay); Jim Belushi...  [320]  \n",
       " 45  Craig Gillespie (director); Steven Rogers (scr...  [321]  \n",
       " 46  Ron Shelton (director/screenplay); Morgan Free...  [322]  \n",
       " 47  Rian Johnson (director/screenplay); Mark Hamil...  [323]  \n",
       " 48  Carlos Saldanha (director); Robert L. Baird, T...  [324]  \n",
       " 49  Liam O'Donnell (director/screenplay); Frank Gr...  [325]  \n",
       " 50  Jake Kasdan (director); Chris McKenna, Erik So...  [326]  \n",
       " 51  Michael Gracey (director); Jenny Bicks, Bill C...  [327]  \n",
       " 52  Trish Sie (director); Kay Cannon, Mike White (...  [328]  \n",
       " 53  Alexander Payne (director/screenplay); Jim Tay...  [329]  \n",
       " 54  Lawrence Sher (director); Justin Malen (screen...  [330]  \n",
       " 55  Steven Spielberg (director); Josh Singer, Liz ...  [331]  \n",
       " 56  David Ayer (director); Max Landis (screenplay)...  [332]  \n",
       " 57  Gilles Pauet-Brenner (director/screenplay); Ju...  [333]  \n",
       " 58  Scott Cooper (director/screenplay); Christian ...  [334]  \n",
       " 59  Ridley Scott (director); David Scarpa (screenp...  [335]  \n",
       " 60  Aaron Sorkin (director/screenplay); Jessica Ch...  [336]  \n",
       " 61  Paul Thomas Anderson (director/screenplay); Da...  [337]  ]"
      ]
     },
     "execution_count": 283,
     "metadata": {},
     "output_type": "execute_result"
    }
   ],
   "source": [
    "pd.read_html(StringIO(str(tables[-1])))"
   ]
  },
  {
   "cell_type": "code",
   "execution_count": 264,
   "metadata": {},
   "outputs": [
    {
     "data": {
      "text/plain": [
       "['/wiki/Underworld:_Blood_Wars',\n",
       " '/wiki/Arsenal_(2017_film)',\n",
       " '/wiki/Between_Us_(2016_film)',\n",
       " '/wiki/Monster_Trucks_(film)',\n",
       " '/wiki/The_Bye_Bye_Man',\n",
       " '/wiki/Sleepless_(2017_film)',\n",
       " '/wiki/The_Book_of_Love_(2016_film)',\n",
       " '/wiki/Split_(2016_American_film)',\n",
       " '/wiki/XXX:_Return_of_Xander_Cage',\n",
       " '/wiki/The_Resurrection_of_Gavin_Stone',\n",
       " '/wiki/Trespass_Against_Us',\n",
       " '/wiki/Sophie_and_the_Rising_Sun_(film)',\n",
       " '/wiki/A_Dog%27s_Purpose_(film)',\n",
       " '/wiki/Resident_Evil:_The_Final_Chapter',\n",
       " '/wiki/Lost_in_Florence',\n",
       " '/wiki/I_Am_Michael',\n",
       " '/wiki/IBoy',\n",
       " '/wiki/Rings_(2017_film)',\n",
       " '/wiki/The_Space_Between_Us_(film)',\n",
       " '/wiki/Youth_in_Oregon',\n",
       " '/wiki/I_Am_Not_Your_Negro',\n",
       " '/wiki/Growing_Up_Smith',\n",
       " '/wiki/The_Lego_Batman_Movie',\n",
       " '/wiki/Fifty_Shades_Darker_(film)',\n",
       " '/wiki/John_Wick:_Chapter_2',\n",
       " '/wiki/Bornless_Ones',\n",
       " '/wiki/The_Great_Wall_(film)',\n",
       " '/wiki/A_Cure_for_Wellness',\n",
       " '/wiki/Fist_Fight',\n",
       " '/wiki/American_Fable',\n",
       " '/wiki/XX_(film)',\n",
       " '/wiki/Lovesong_(film)',\n",
       " '/wiki/Get_Out',\n",
       " '/wiki/Rock_Dog',\n",
       " '/wiki/Collide_(2016_film)',\n",
       " '/wiki/I_Don%27t_Feel_at_Home_in_This_World_Anymore',\n",
       " '/wiki/Contemporary_Color_(film)',\n",
       " '/wiki/Logan_(film)',\n",
       " '/wiki/The_Shack_(2017_film)',\n",
       " '/wiki/Before_I_Fall_(film)',\n",
       " '/wiki/Table_19',\n",
       " '/wiki/The_Last_Word_(2017_film)',\n",
       " '/wiki/Catfight_(film)',\n",
       " '/wiki/Donald_Cried',\n",
       " '/wiki/Kong:_Skull_Island',\n",
       " '/wiki/Burning_Sands_(2017_film)',\n",
       " '/wiki/Beauty_and_the_Beast_(2017_film)',\n",
       " '/wiki/The_Belko_Experiment',\n",
       " '/wiki/Song_to_Song',\n",
       " '/wiki/Atomica_(film)',\n",
       " '/wiki/All_Nighter_(film)',\n",
       " '/wiki/The_Devil%27s_Candy',\n",
       " '/wiki/Power_Rangers_(film)',\n",
       " '/wiki/Life_(2017_film)',\n",
       " '/wiki/CHiPs_(film)',\n",
       " '/wiki/Wilson_(2017_film)',\n",
       " '/wiki/Car_Dogs',\n",
       " '/wiki/The_Marine_5:_Battleground',\n",
       " '/wiki/Ghost_in_the_Shell_(2017_film)',\n",
       " '/wiki/The_Boss_Baby',\n",
       " '/wiki/The_Zookeeper%27s_Wife_(film)',\n",
       " '/wiki/The_Blackcoat%27s_Daughter',\n",
       " '/wiki/The_Discovery_(film)',\n",
       " '/wiki/Carrie_Pilby_(film)']"
      ]
     },
     "execution_count": 264,
     "metadata": {},
     "output_type": "execute_result"
    }
   ],
   "source": [
    "soup1 = BeautifulSoup(r.content, 'html.parser')\n",
    "tables = soup1.find_all('table')\n",
    "tables = tables[2:6]\n",
    "\n",
    "get_links(tables[0])"
   ]
  },
  {
   "cell_type": "code",
   "execution_count": null,
   "metadata": {},
   "outputs": [],
   "source": []
  },
  {
   "cell_type": "code",
   "execution_count": null,
   "metadata": {},
   "outputs": [],
   "source": []
  },
  {
   "cell_type": "code",
   "execution_count": null,
   "metadata": {},
   "outputs": [],
   "source": []
  },
  {
   "cell_type": "markdown",
   "metadata": {},
   "source": [
    "### 2015 - 2016"
   ]
  },
  {
   "cell_type": "code",
   "execution_count": 214,
   "metadata": {},
   "outputs": [
    {
     "name": "stdout",
     "output_type": "stream",
     "text": [
      "-------------------------------------------------------------\n",
      "Table done!\n",
      "\n",
      "--------------------------------------------\n",
      "Table done!\n",
      "\n",
      "---------------------------------------------\n",
      "Table done!\n",
      "\n",
      "---------------------------------------------------\n",
      "Table done!\n",
      "\n",
      "\n",
      "PAGE DONE!!!\n",
      "\n",
      "---------------------------------------------\n",
      "Table done!\n",
      "\n",
      "-----------------------------------------\n",
      "Table done!\n",
      "\n",
      "---------------------------------------------\n",
      "Table done!\n",
      "\n",
      "----------------------------------------------\n",
      "Table done!\n",
      "\n",
      "\n",
      "PAGE DONE!!!\n",
      "\n"
     ]
    }
   ],
   "source": [
    "all_years_df = {}\n",
    "\n",
    "for year in np.arange(2015,2017):\n",
    "    url = 'https://en.wikipedia.org/wiki/List_of_American_films_of_' + str(year)\n",
    "    \n",
    "    all_years_df[year] = scrape_whole_page(url)\n"
   ]
  },
  {
   "cell_type": "markdown",
   "metadata": {},
   "source": [
    "### 2017\n",
    "This had a problem with the last table. I didn't understand the problem, so I took out that table. It's a tradeoff I'm willing to make."
   ]
  },
  {
   "cell_type": "code",
   "execution_count": 293,
   "metadata": {},
   "outputs": [
    {
     "name": "stdout",
     "output_type": "stream",
     "text": [
      "----------------------------------------------------------------\n",
      "Table done!\n",
      "\n",
      "-----------------------------------------------------------\n",
      "Table done!\n",
      "\n",
      "-----------------------------------------------------\n",
      "Table done!\n",
      "\n",
      "\n",
      "PAGE DONE!!!\n",
      "\n"
     ]
    }
   ],
   "source": [
    "def scrape_whole_page_2017(url):\n",
    "\n",
    "    # Initialize the request\n",
    "    r = requests.get(url)\n",
    "    if r.status_code != 200:\n",
    "        print('Bad request.')\n",
    "        return None\n",
    "    \n",
    "    # Parse the html page \n",
    "    soup1 = BeautifulSoup(r.content, 'html.parser')\n",
    "    tables2 = soup1.find_all('table')\n",
    "    tables2 = tables2[2:5]\n",
    "    \n",
    "\n",
    "    # Get all the movie links of the page\n",
    "    all_links = {}\n",
    "    for t in range(len(tables2)):\n",
    "        links = get_links(tables2[t])\n",
    "        all_links[t] = links\n",
    "    \n",
    "    # Adjust all the df and add the link column\n",
    "    all_df = pd.read_html(StringIO(str(tables2)))\n",
    "    result_df = {}\n",
    "    for n,d in enumerate(all_df):\n",
    "        d.rename(columns={'Opening':'Month', 'Opening.1':'Day'}, inplace=True)\n",
    "        d = d[['Month', 'Day', 'Title']].copy().dropna(thresh=3)\n",
    "        d['Month'] = d['Month'].str.replace(' ', '').str.capitalize()\n",
    "        d['Link'] = all_links[n]\n",
    "    \n",
    "        d['List'] = d['Link'].apply(get_descr)\n",
    "        result_df[n] = d\n",
    "        print('\\nTable done!\\n')\n",
    "\n",
    "    print('\\nPAGE DONE!!!\\n')\n",
    "    return result_df\n",
    "\n",
    "all_years_df[2017] = scrape_whole_page_2017(r'https://en.wikipedia.org/wiki/List_of_American_films_of_2017')\n"
   ]
  },
  {
   "cell_type": "markdown",
   "metadata": {},
   "source": [
    "### 2018-2019"
   ]
  },
  {
   "cell_type": "code",
   "execution_count": 218,
   "metadata": {},
   "outputs": [
    {
     "name": "stdout",
     "output_type": "stream",
     "text": [
      "-----------------------------------------------------------\n",
      "Table done!\n",
      "\n",
      "--------------------------------------------------------\n",
      "Table done!\n",
      "\n",
      "------------------------------------------------------------------\n",
      "Table done!\n",
      "\n",
      "------------------------------------------------------------\n",
      "Table done!\n",
      "\n",
      "\n",
      "PAGE DONE!!!\n",
      "\n",
      "-------------------------------------------------\n",
      "Table done!\n",
      "\n",
      "-------------------------------------------------------------------\n",
      "Table done!\n",
      "\n",
      "-----------------------------------------------------------\n",
      "Table done!\n",
      "\n",
      "-----------------------------------------------------------------------\n",
      "Table done!\n",
      "\n",
      "\n",
      "PAGE DONE!!!\n",
      "\n"
     ]
    }
   ],
   "source": [
    "for year in np.arange(2018,2020):\n",
    "    url = 'https://en.wikipedia.org/wiki/List_of_American_films_of_' + str(year)\n",
    "    \n",
    "    all_years_df[year] = scrape_whole_page(url)"
   ]
  },
  {
   "cell_type": "markdown",
   "metadata": {},
   "source": [
    "### 2020"
   ]
  },
  {
   "cell_type": "code",
   "execution_count": 256,
   "metadata": {},
   "outputs": [
    {
     "name": "stdout",
     "output_type": "stream",
     "text": [
      "----------------------------------------------------------\n",
      "Table done!\n",
      "\n",
      "-----------------------------------------------\n",
      "Table done!\n",
      "\n",
      "----------------------------------------------------------------------\n",
      "Table done!\n",
      "\n",
      "---------------------------------------------------------------------------------------------------\n",
      "Table done!\n",
      "\n",
      "\n",
      "PAGE DONE!!!\n",
      "\n"
     ]
    }
   ],
   "source": [
    "all_years_df[2020] = scrape_whole_page(r'https://en.wikipedia.org/wiki/List_of_American_films_of_2020')"
   ]
  },
  {
   "cell_type": "markdown",
   "metadata": {},
   "source": [
    "### 2021\n",
    "This was different becase it has one tab more than the others"
   ]
  },
  {
   "cell_type": "code",
   "execution_count": 259,
   "metadata": {},
   "outputs": [
    {
     "name": "stdout",
     "output_type": "stream",
     "text": [
      "--------------------------------------------------------------------\n",
      "Table done!\n",
      "\n",
      "----------------------------------------------------------------------------------\n",
      "Table done!\n",
      "\n",
      "---------------------------------------------------------------------------------------------------------\n",
      "Table done!\n",
      "\n",
      "-------------------------------------------------------------------------------------------------\n",
      "Table done!\n",
      "\n",
      "\n",
      "PAGE DONE!!!\n",
      "\n"
     ]
    }
   ],
   "source": [
    "def scrape_whole_page_2021(url):\n",
    "\n",
    "    # Initialize the request\n",
    "    r = requests.get(url)\n",
    "    if r.status_code != 200:\n",
    "        print('Bad request.')\n",
    "        return None\n",
    "    \n",
    "    # Parse the html page \n",
    "    soup1 = BeautifulSoup(r.content, 'html.parser')\n",
    "    tables = soup1.find_all('table')\n",
    "    tables = tables[3:7]\n",
    "\n",
    "    # Get all the movie links of the page\n",
    "    all_links = {}\n",
    "    for t in range(len(tables)):\n",
    "        links = get_links(tables[t])\n",
    "        all_links[t] = links\n",
    "    \n",
    "    # Adjust all the df and add the link column\n",
    "    all_df = pd.read_html(StringIO(str(tables)))\n",
    "    result_df = {}\n",
    "    for n,d in enumerate(all_df):\n",
    "        d.rename(columns={'Opening':'Month', 'Opening.1':'Day'}, inplace=True)\n",
    "        d = d[['Month', 'Day', 'Title']].copy().dropna(thresh=3)\n",
    "        d['Month'] = d['Month'].str.replace(' ', '').str.capitalize()\n",
    "        d['Link'] = all_links[n]\n",
    "    \n",
    "        d['List'] = d['Link'].apply(get_descr)\n",
    "        result_df[n] = d\n",
    "        print('\\nTable done!\\n')\n",
    "\n",
    "    print('\\nPAGE DONE!!!\\n')\n",
    "    return result_df\n",
    "\n",
    "all_years_df[2021] = scrape_whole_page_2021(r'https://en.wikipedia.org/wiki/List_of_American_films_of_2021')"
   ]
  },
  {
   "cell_type": "markdown",
   "metadata": {},
   "source": [
    "### 2022"
   ]
  },
  {
   "cell_type": "code",
   "execution_count": 295,
   "metadata": {},
   "outputs": [
    {
     "name": "stdout",
     "output_type": "stream",
     "text": [
      "--------------------------------------------------------------\n",
      "Table done!\n",
      "\n",
      "-----------------------------------------------------------------------\n",
      "Table done!\n",
      "\n",
      "-------------------------------------------------------------------------------------------\n",
      "Table done!\n",
      "\n",
      "---------------------------------------------------------------------------------------\n",
      "Table done!\n",
      "\n",
      "\n",
      "PAGE DONE!!!\n",
      "\n"
     ]
    }
   ],
   "source": [
    "all_years_df[2022] = scrape_whole_page(r'https://en.wikipedia.org/wiki/List_of_American_films_of_2022')"
   ]
  },
  {
   "cell_type": "code",
   "execution_count": 296,
   "metadata": {},
   "outputs": [
    {
     "data": {
      "text/plain": [
       "dict_keys([2015, 2016, 2018, 2019, 2020, 2021, 2017, 2022])"
      ]
     },
     "execution_count": 296,
     "metadata": {},
     "output_type": "execute_result"
    }
   ],
   "source": [
    "all_years_df.keys()"
   ]
  },
  {
   "cell_type": "markdown",
   "metadata": {},
   "source": [
    "## Cleaning"
   ]
  },
  {
   "cell_type": "code",
   "execution_count": 321,
   "metadata": {},
   "outputs": [
    {
     "data": {
      "text/plain": [
       "dict_keys([0, 1, 2, 3])"
      ]
     },
     "execution_count": 321,
     "metadata": {},
     "output_type": "execute_result"
    }
   ],
   "source": [
    "all_years_df[2015].keys()"
   ]
  },
  {
   "cell_type": "code",
   "execution_count": 320,
   "metadata": {},
   "outputs": [
    {
     "data": {
      "text/html": [
       "<div>\n",
       "<style scoped>\n",
       "    .dataframe tbody tr th:only-of-type {\n",
       "        vertical-align: middle;\n",
       "    }\n",
       "\n",
       "    .dataframe tbody tr th {\n",
       "        vertical-align: top;\n",
       "    }\n",
       "\n",
       "    .dataframe thead th {\n",
       "        text-align: right;\n",
       "    }\n",
       "</style>\n",
       "<table border=\"1\" class=\"dataframe\">\n",
       "  <thead>\n",
       "    <tr style=\"text-align: right;\">\n",
       "      <th></th>\n",
       "      <th>Month</th>\n",
       "      <th>Day</th>\n",
       "      <th>Title</th>\n",
       "      <th>Link</th>\n",
       "      <th>List</th>\n",
       "    </tr>\n",
       "  </thead>\n",
       "  <tbody>\n",
       "    <tr>\n",
       "      <th>0</th>\n",
       "      <td>January</td>\n",
       "      <td>2</td>\n",
       "      <td>The Woman in Black: Angel of Death</td>\n",
       "      <td>/wiki/The_Woman_in_Black:_Angel_of_Death</td>\n",
       "      <td>[supernatural horror, $15 million[6], $48.9 mi...</td>\n",
       "    </tr>\n",
       "    <tr>\n",
       "      <th>1</th>\n",
       "      <td>January</td>\n",
       "      <td>9</td>\n",
       "      <td>Taken 3</td>\n",
       "      <td>/wiki/Taken_3</td>\n",
       "      <td>[-language French action-thriller, $48 million...</td>\n",
       "    </tr>\n",
       "    <tr>\n",
       "      <th>2</th>\n",
       "      <td>January</td>\n",
       "      <td>9</td>\n",
       "      <td>Let's Kill Ward's Wife</td>\n",
       "      <td>/wiki/Let%27s_Kill_Ward%27s_Wife</td>\n",
       "      <td>[ black comedy, None, None]</td>\n",
       "    </tr>\n",
       "    <tr>\n",
       "      <th>3</th>\n",
       "      <td>January</td>\n",
       "      <td>14</td>\n",
       "      <td>Match</td>\n",
       "      <td>/wiki/Match_(film)</td>\n",
       "      <td>[ drama, None, None]</td>\n",
       "    </tr>\n",
       "    <tr>\n",
       "      <th>4</th>\n",
       "      <td>January</td>\n",
       "      <td>16</td>\n",
       "      <td>Blackhat</td>\n",
       "      <td>/wiki/Blackhat_(film)</td>\n",
       "      <td>[ action thriller, $70 million[3], $19.7 milli...</td>\n",
       "    </tr>\n",
       "  </tbody>\n",
       "</table>\n",
       "</div>"
      ],
      "text/plain": [
       "     Month  Day                               Title  \\\n",
       "0  January    2  The Woman in Black: Angel of Death   \n",
       "1  January    9                             Taken 3   \n",
       "2  January    9              Let's Kill Ward's Wife   \n",
       "3  January   14                               Match   \n",
       "4  January   16                            Blackhat   \n",
       "\n",
       "                                       Link  \\\n",
       "0  /wiki/The_Woman_in_Black:_Angel_of_Death   \n",
       "1                             /wiki/Taken_3   \n",
       "2          /wiki/Let%27s_Kill_Ward%27s_Wife   \n",
       "3                        /wiki/Match_(film)   \n",
       "4                     /wiki/Blackhat_(film)   \n",
       "\n",
       "                                                List  \n",
       "0  [supernatural horror, $15 million[6], $48.9 mi...  \n",
       "1  [-language French action-thriller, $48 million...  \n",
       "2                        [ black comedy, None, None]  \n",
       "3                               [ drama, None, None]  \n",
       "4  [ action thriller, $70 million[3], $19.7 milli...  "
      ]
     },
     "execution_count": 320,
     "metadata": {},
     "output_type": "execute_result"
    }
   ],
   "source": [
    "all_df = all_years_df[2015][0].iloc[0:2]\n",
    "all_df = all_df.drop([0,1])\n",
    "all_df = all_df._append(all_years_df[2015][0])\n",
    "all_df.head()"
   ]
  },
  {
   "cell_type": "code",
   "execution_count": 323,
   "metadata": {},
   "outputs": [
    {
     "data": {
      "text/plain": [
       "(1990, 6)"
      ]
     },
     "execution_count": 323,
     "metadata": {},
     "output_type": "execute_result"
    }
   ],
   "source": [
    "all_df = all_years_df[2015][0].iloc[0:2]\n",
    "all_df = all_df.drop([0,1])\n",
    "\n",
    "for n in all_years_df.keys():\n",
    "    for i in all_years_df[n].keys():\n",
    "        all_years_df[n][i]['Year'] = n\n",
    "        all_df = all_df._append(all_years_df[n][i])\n",
    "\n",
    "all_df.shape"
   ]
  },
  {
   "cell_type": "code",
   "execution_count": 325,
   "metadata": {},
   "outputs": [
    {
     "data": {
      "text/html": [
       "<div>\n",
       "<style scoped>\n",
       "    .dataframe tbody tr th:only-of-type {\n",
       "        vertical-align: middle;\n",
       "    }\n",
       "\n",
       "    .dataframe tbody tr th {\n",
       "        vertical-align: top;\n",
       "    }\n",
       "\n",
       "    .dataframe thead th {\n",
       "        text-align: right;\n",
       "    }\n",
       "</style>\n",
       "<table border=\"1\" class=\"dataframe\">\n",
       "  <thead>\n",
       "    <tr style=\"text-align: right;\">\n",
       "      <th></th>\n",
       "      <th>Month</th>\n",
       "      <th>Day</th>\n",
       "      <th>Title</th>\n",
       "      <th>Link</th>\n",
       "      <th>List</th>\n",
       "      <th>Year</th>\n",
       "    </tr>\n",
       "  </thead>\n",
       "  <tbody>\n",
       "    <tr>\n",
       "      <th>0</th>\n",
       "      <td>1</td>\n",
       "      <td>2.0</td>\n",
       "      <td>The Woman in Black: Angel of Death</td>\n",
       "      <td>/wiki/The_Woman_in_Black:_Angel_of_Death</td>\n",
       "      <td>[supernatural horror, $15 million[6], $48.9 mi...</td>\n",
       "      <td>2015.0</td>\n",
       "    </tr>\n",
       "    <tr>\n",
       "      <th>1</th>\n",
       "      <td>1</td>\n",
       "      <td>9.0</td>\n",
       "      <td>Taken 3</td>\n",
       "      <td>/wiki/Taken_3</td>\n",
       "      <td>[-language French action-thriller, $48 million...</td>\n",
       "      <td>2015.0</td>\n",
       "    </tr>\n",
       "    <tr>\n",
       "      <th>2</th>\n",
       "      <td>1</td>\n",
       "      <td>9.0</td>\n",
       "      <td>Let's Kill Ward's Wife</td>\n",
       "      <td>/wiki/Let%27s_Kill_Ward%27s_Wife</td>\n",
       "      <td>[ black comedy, None, None]</td>\n",
       "      <td>2015.0</td>\n",
       "    </tr>\n",
       "    <tr>\n",
       "      <th>3</th>\n",
       "      <td>1</td>\n",
       "      <td>14.0</td>\n",
       "      <td>Match</td>\n",
       "      <td>/wiki/Match_(film)</td>\n",
       "      <td>[ drama, None, None]</td>\n",
       "      <td>2015.0</td>\n",
       "    </tr>\n",
       "    <tr>\n",
       "      <th>4</th>\n",
       "      <td>1</td>\n",
       "      <td>16.0</td>\n",
       "      <td>Blackhat</td>\n",
       "      <td>/wiki/Blackhat_(film)</td>\n",
       "      <td>[ action thriller, $70 million[3], $19.7 milli...</td>\n",
       "      <td>2015.0</td>\n",
       "    </tr>\n",
       "  </tbody>\n",
       "</table>\n",
       "</div>"
      ],
      "text/plain": [
       "   Month   Day                               Title  \\\n",
       "0      1   2.0  The Woman in Black: Angel of Death   \n",
       "1      1   9.0                             Taken 3   \n",
       "2      1   9.0              Let's Kill Ward's Wife   \n",
       "3      1  14.0                               Match   \n",
       "4      1  16.0                            Blackhat   \n",
       "\n",
       "                                       Link  \\\n",
       "0  /wiki/The_Woman_in_Black:_Angel_of_Death   \n",
       "1                             /wiki/Taken_3   \n",
       "2          /wiki/Let%27s_Kill_Ward%27s_Wife   \n",
       "3                        /wiki/Match_(film)   \n",
       "4                     /wiki/Blackhat_(film)   \n",
       "\n",
       "                                                List    Year  \n",
       "0  [supernatural horror, $15 million[6], $48.9 mi...  2015.0  \n",
       "1  [-language French action-thriller, $48 million...  2015.0  \n",
       "2                        [ black comedy, None, None]  2015.0  \n",
       "3                               [ drama, None, None]  2015.0  \n",
       "4  [ action thriller, $70 million[3], $19.7 milli...  2015.0  "
      ]
     },
     "execution_count": 325,
     "metadata": {},
     "output_type": "execute_result"
    }
   ],
   "source": [
    "all_df = all_df.reset_index(drop=True)\n",
    "all_df['Month'] = all_df['Month'].apply(months_to_number)\n",
    "all_df.head()"
   ]
  },
  {
   "cell_type": "code",
   "execution_count": 326,
   "metadata": {},
   "outputs": [
    {
     "data": {
      "text/html": [
       "<div>\n",
       "<style scoped>\n",
       "    .dataframe tbody tr th:only-of-type {\n",
       "        vertical-align: middle;\n",
       "    }\n",
       "\n",
       "    .dataframe tbody tr th {\n",
       "        vertical-align: top;\n",
       "    }\n",
       "\n",
       "    .dataframe thead th {\n",
       "        text-align: right;\n",
       "    }\n",
       "</style>\n",
       "<table border=\"1\" class=\"dataframe\">\n",
       "  <thead>\n",
       "    <tr style=\"text-align: right;\">\n",
       "      <th></th>\n",
       "      <th>Month</th>\n",
       "      <th>Day</th>\n",
       "      <th>Title</th>\n",
       "      <th>Link</th>\n",
       "      <th>List</th>\n",
       "      <th>Year</th>\n",
       "      <th>Genres</th>\n",
       "      <th>Budget</th>\n",
       "      <th>Box office</th>\n",
       "    </tr>\n",
       "  </thead>\n",
       "  <tbody>\n",
       "    <tr>\n",
       "      <th>1985</th>\n",
       "      <td>12</td>\n",
       "      <td>23.0</td>\n",
       "      <td>Whitney Houston: I Wanna Dance with Somebody</td>\n",
       "      <td>/wiki/Whitney_Houston:_I_Wanna_Dance_with_Some...</td>\n",
       "      <td>[ biographical musical drama, $45 million[1], ...</td>\n",
       "      <td>2022.0</td>\n",
       "      <td>biographical musical drama</td>\n",
       "      <td>$45 million[1]</td>\n",
       "      <td>$59.8 million[2][3]</td>\n",
       "    </tr>\n",
       "    <tr>\n",
       "      <th>1986</th>\n",
       "      <td>12</td>\n",
       "      <td>23.0</td>\n",
       "      <td>The Pale Blue Eye</td>\n",
       "      <td>/wiki/The_Pale_Blue_Eye</td>\n",
       "      <td>[ mystery thriller, None, None]</td>\n",
       "      <td>2022.0</td>\n",
       "      <td>mystery thriller</td>\n",
       "      <td>None</td>\n",
       "      <td>None</td>\n",
       "    </tr>\n",
       "    <tr>\n",
       "      <th>1987</th>\n",
       "      <td>12</td>\n",
       "      <td>23.0</td>\n",
       "      <td>Women Talking</td>\n",
       "      <td>/wiki/Women_Talking_(film)</td>\n",
       "      <td>[drama, None, None]</td>\n",
       "      <td>2022.0</td>\n",
       "      <td>drama</td>\n",
       "      <td>None</td>\n",
       "      <td>None</td>\n",
       "    </tr>\n",
       "    <tr>\n",
       "      <th>1988</th>\n",
       "      <td>12</td>\n",
       "      <td>29.0</td>\n",
       "      <td>A Man Called Otto</td>\n",
       "      <td>/wiki/A_Man_Called_Otto</td>\n",
       "      <td>[ comedy-drama, $50 million, $113.2 million[1]]</td>\n",
       "      <td>2022.0</td>\n",
       "      <td>comedy-drama</td>\n",
       "      <td>$50 million</td>\n",
       "      <td>$113.2 million[1]</td>\n",
       "    </tr>\n",
       "    <tr>\n",
       "      <th>1989</th>\n",
       "      <td>12</td>\n",
       "      <td>30.0</td>\n",
       "      <td>Alice, Darling</td>\n",
       "      <td>/wiki/Alice,_Darling</td>\n",
       "      <td>[psychological thriller, None, None]</td>\n",
       "      <td>2022.0</td>\n",
       "      <td>psychological thriller</td>\n",
       "      <td>None</td>\n",
       "      <td>None</td>\n",
       "    </tr>\n",
       "  </tbody>\n",
       "</table>\n",
       "</div>"
      ],
      "text/plain": [
       "      Month   Day                                         Title  \\\n",
       "1985     12  23.0  Whitney Houston: I Wanna Dance with Somebody   \n",
       "1986     12  23.0                             The Pale Blue Eye   \n",
       "1987     12  23.0                                 Women Talking   \n",
       "1988     12  29.0                             A Man Called Otto   \n",
       "1989     12  30.0                                Alice, Darling   \n",
       "\n",
       "                                                   Link  \\\n",
       "1985  /wiki/Whitney_Houston:_I_Wanna_Dance_with_Some...   \n",
       "1986                            /wiki/The_Pale_Blue_Eye   \n",
       "1987                         /wiki/Women_Talking_(film)   \n",
       "1988                            /wiki/A_Man_Called_Otto   \n",
       "1989                               /wiki/Alice,_Darling   \n",
       "\n",
       "                                                   List    Year  \\\n",
       "1985  [ biographical musical drama, $45 million[1], ...  2022.0   \n",
       "1986                    [ mystery thriller, None, None]  2022.0   \n",
       "1987                                [drama, None, None]  2022.0   \n",
       "1988    [ comedy-drama, $50 million, $113.2 million[1]]  2022.0   \n",
       "1989               [psychological thriller, None, None]  2022.0   \n",
       "\n",
       "                           Genres          Budget           Box office  \n",
       "1985   biographical musical drama  $45 million[1]  $59.8 million[2][3]  \n",
       "1986             mystery thriller            None                 None  \n",
       "1987                        drama            None                 None  \n",
       "1988                 comedy-drama     $50 million    $113.2 million[1]  \n",
       "1989       psychological thriller            None                 None  "
      ]
     },
     "execution_count": 326,
     "metadata": {},
     "output_type": "execute_result"
    }
   ],
   "source": [
    "all_df['Genres'] = all_df['List'].str.get(0)\n",
    "all_df['Budget'] = all_df['List'].str.get(1)\n",
    "all_df['Box office'] = all_df['List'].str.get(2)\n",
    "all_df.tail()"
   ]
  },
  {
   "cell_type": "code",
   "execution_count": 331,
   "metadata": {},
   "outputs": [],
   "source": [
    "mask1 = all_df['Budget'].isna()\n",
    "mask2 = all_df['Box office'].isna()\n",
    "\n",
    "mask3 = (mask1 | mask2)\n",
    "all_df = all_df[~mask3]"
   ]
  },
  {
   "cell_type": "code",
   "execution_count": 333,
   "metadata": {},
   "outputs": [
    {
     "name": "stdout",
     "output_type": "stream",
     "text": [
      "<class 'pandas.core.frame.DataFrame'>\n",
      "Index: 1032 entries, 0 to 1988\n",
      "Data columns (total 9 columns):\n",
      " #   Column      Non-Null Count  Dtype  \n",
      "---  ------      --------------  -----  \n",
      " 0   Month       1032 non-null   int64  \n",
      " 1   Day         1032 non-null   float64\n",
      " 2   Title       1032 non-null   object \n",
      " 3   Link        1032 non-null   object \n",
      " 4   List        1032 non-null   object \n",
      " 5   Year        1032 non-null   float64\n",
      " 6   Genres      1032 non-null   object \n",
      " 7   Budget      1032 non-null   object \n",
      " 8   Box office  1032 non-null   object \n",
      "dtypes: float64(2), int64(1), object(6)\n",
      "memory usage: 80.6+ KB\n"
     ]
    }
   ],
   "source": [
    "mask1 = all_df['Genres'].isna()\n",
    "all_df = all_df[~mask1]\n",
    "all_df.info()"
   ]
  },
  {
   "cell_type": "code",
   "execution_count": 334,
   "metadata": {},
   "outputs": [],
   "source": [
    "all_df.to_csv(r'C:\\Users\\matte\\OneDrive\\Desktop\\GitHub\\jup_lab\\movies_profi.csv',index=False)"
   ]
  },
  {
   "cell_type": "code",
   "execution_count": null,
   "metadata": {},
   "outputs": [],
   "source": []
  }
 ],
 "metadata": {
  "kernelspec": {
   "display_name": "base",
   "language": "python",
   "name": "python3"
  },
  "language_info": {
   "codemirror_mode": {
    "name": "ipython",
    "version": 3
   },
   "file_extension": ".py",
   "mimetype": "text/x-python",
   "name": "python",
   "nbconvert_exporter": "python",
   "pygments_lexer": "ipython3",
   "version": "3.11.5"
  }
 },
 "nbformat": 4,
 "nbformat_minor": 2
}
