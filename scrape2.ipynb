{
 "cells": [
  {
   "cell_type": "code",
   "execution_count": 1,
   "metadata": {},
   "outputs": [],
   "source": [
    "import pandas as pd\n",
    "import numpy as np\n",
    "from bs4 import BeautifulSoup\n",
    "import requests"
   ]
  },
  {
   "cell_type": "code",
   "execution_count": 84,
   "metadata": {},
   "outputs": [],
   "source": [
    "from datetime import datetime\n",
    "from io import StringIO\n",
    "import re"
   ]
  },
  {
   "cell_type": "code",
   "execution_count": 2,
   "metadata": {},
   "outputs": [
    {
     "data": {
      "text/plain": [
       "200"
      ]
     },
     "execution_count": 2,
     "metadata": {},
     "output_type": "execute_result"
    }
   ],
   "source": [
    "url = r'https://en.wikipedia.org/wiki/List_of_American_films_of_2021'\n",
    "r = requests.get(url)\n",
    "r.status_code"
   ]
  },
  {
   "cell_type": "code",
   "execution_count": 3,
   "metadata": {},
   "outputs": [],
   "source": [
    "soup1 = BeautifulSoup(r.content, 'html.parser')\n",
    "soup2 = BeautifulSoup(soup1.prettify(), 'html.parser')"
   ]
  },
  {
   "cell_type": "code",
   "execution_count": 87,
   "metadata": {},
   "outputs": [],
   "source": [
    "tables = soup2.find_all('table')"
   ]
  },
  {
   "cell_type": "code",
   "execution_count": 135,
   "metadata": {},
   "outputs": [
    {
     "data": {
      "text/plain": [
       "<a href=\"/wiki/Shadow_in_the_Cloud\" title=\"Shadow in the Cloud\">\n",
       "                Shadow in the Cloud\n",
       "               </a>"
      ]
     },
     "execution_count": 135,
     "metadata": {},
     "output_type": "execute_result"
    }
   ],
   "source": [
    "title_link = []\n",
    "for_range = len(tables[3].find_all('tr')) -1\n",
    "\n",
    "for i in range(for_range):\n",
    "    i += 1\n",
    "    messy = tables[3].find_all('tr')[i].find_all('td')[-4]\n",
    "    title_link.append(messy.find('a'))\n",
    "\n",
    "title_link[0]"
   ]
  },
  {
   "cell_type": "code",
   "execution_count": 137,
   "metadata": {},
   "outputs": [],
   "source": [
    "title_link = list(map(str, title_link))"
   ]
  },
  {
   "cell_type": "code",
   "execution_count": 139,
   "metadata": {},
   "outputs": [
    {
     "data": {
      "text/plain": [
       "['/wiki/Shadow_in_the_Cloud',\n",
       " '/wiki/Hacksaw_(film)',\n",
       " '/wiki/Dr._Bird%27s_Advice_for_Sad_Poets',\n",
       " '/wiki/The_White_Tiger_(2021_film)',\n",
       " '/wiki/Locked_Down_(film)']"
      ]
     },
     "execution_count": 139,
     "metadata": {},
     "output_type": "execute_result"
    }
   ],
   "source": [
    "link = []\n",
    "title = []\n",
    "\n",
    "pattern = r'=\"(.+)\"\\s'\n",
    "pattern2 = r'e=\"(.+)\"'\n",
    "\n",
    "for i in title_link:\n",
    "    link.append(re.findall(pattern, i)[0])\n",
    "    title.append(re.findall(pattern2, i)[0])\n",
    "\n",
    "link[:5]"
   ]
  },
  {
   "cell_type": "code",
   "execution_count": 142,
   "metadata": {},
   "outputs": [
    {
     "data": {
      "text/html": [
       "<div>\n",
       "<style scoped>\n",
       "    .dataframe tbody tr th:only-of-type {\n",
       "        vertical-align: middle;\n",
       "    }\n",
       "\n",
       "    .dataframe tbody tr th {\n",
       "        vertical-align: top;\n",
       "    }\n",
       "\n",
       "    .dataframe thead th {\n",
       "        text-align: right;\n",
       "    }\n",
       "</style>\n",
       "<table border=\"1\" class=\"dataframe\">\n",
       "  <thead>\n",
       "    <tr style=\"text-align: right;\">\n",
       "      <th></th>\n",
       "      <th>Link</th>\n",
       "      <th>Title</th>\n",
       "    </tr>\n",
       "  </thead>\n",
       "  <tbody>\n",
       "    <tr>\n",
       "      <th>63</th>\n",
       "      <td>/wiki/Nobody_(2021_film)</td>\n",
       "      <td>Nobody (2021 film)</td>\n",
       "    </tr>\n",
       "    <tr>\n",
       "      <th>64</th>\n",
       "      <td>/wiki/Bad_Trip_(film)</td>\n",
       "      <td>Bad Trip (film)</td>\n",
       "    </tr>\n",
       "    <tr>\n",
       "      <th>65</th>\n",
       "      <td>/wiki/The_Seventh_Day_(2021_film)</td>\n",
       "      <td>The Seventh Day (2021 film)</td>\n",
       "    </tr>\n",
       "    <tr>\n",
       "      <th>66</th>\n",
       "      <td>/wiki/Senior_Moment</td>\n",
       "      <td>Senior Moment</td>\n",
       "    </tr>\n",
       "    <tr>\n",
       "      <th>67</th>\n",
       "      <td>/wiki/Godzilla_vs._Kong</td>\n",
       "      <td>Godzilla vs. Kong</td>\n",
       "    </tr>\n",
       "  </tbody>\n",
       "</table>\n",
       "</div>"
      ],
      "text/plain": [
       "                                 Link                        Title\n",
       "63           /wiki/Nobody_(2021_film)           Nobody (2021 film)\n",
       "64              /wiki/Bad_Trip_(film)              Bad Trip (film)\n",
       "65  /wiki/The_Seventh_Day_(2021_film)  The Seventh Day (2021 film)\n",
       "66                /wiki/Senior_Moment                Senior Moment\n",
       "67            /wiki/Godzilla_vs._Kong            Godzilla vs. Kong"
      ]
     },
     "execution_count": 142,
     "metadata": {},
     "output_type": "execute_result"
    }
   ],
   "source": [
    "df2 = pd.DataFrame({'Link':link, 'Title':title})\n",
    "df2.tail()"
   ]
  },
  {
   "cell_type": "code",
   "execution_count": 140,
   "metadata": {},
   "outputs": [
    {
     "data": {
      "text/html": [
       "<div>\n",
       "<style scoped>\n",
       "    .dataframe tbody tr th:only-of-type {\n",
       "        vertical-align: middle;\n",
       "    }\n",
       "\n",
       "    .dataframe tbody tr th {\n",
       "        vertical-align: top;\n",
       "    }\n",
       "\n",
       "    .dataframe thead th {\n",
       "        text-align: right;\n",
       "    }\n",
       "</style>\n",
       "<table border=\"1\" class=\"dataframe\">\n",
       "  <thead>\n",
       "    <tr style=\"text-align: right;\">\n",
       "      <th></th>\n",
       "      <th>Opening</th>\n",
       "      <th>Opening.1</th>\n",
       "      <th>Title</th>\n",
       "      <th>Production company</th>\n",
       "      <th>Cast and crew</th>\n",
       "      <th>Ref.</th>\n",
       "    </tr>\n",
       "  </thead>\n",
       "  <tbody>\n",
       "    <tr>\n",
       "      <th>63</th>\n",
       "      <td>M  A  R  C  H</td>\n",
       "      <td>26</td>\n",
       "      <td>Nobody</td>\n",
       "      <td>Universal Pictures  /  Perfect World Pictures ...</td>\n",
       "      <td>Ilya Naishuller  (director);  Derek Kolstad  (...</td>\n",
       "      <td>[54]</td>\n",
       "    </tr>\n",
       "    <tr>\n",
       "      <th>64</th>\n",
       "      <td>M  A  R  C  H</td>\n",
       "      <td>26</td>\n",
       "      <td>Bad Trip</td>\n",
       "      <td>Netflix  /  Orion Pictures</td>\n",
       "      <td>Kitao Sakurai (director/screenplay); Dan Curry...</td>\n",
       "      <td>NaN</td>\n",
       "    </tr>\n",
       "    <tr>\n",
       "      <th>65</th>\n",
       "      <td>M  A  R  C  H</td>\n",
       "      <td>26</td>\n",
       "      <td>The Seventh Day</td>\n",
       "      <td>Vertical Entertainment  /  Voltage Pictures</td>\n",
       "      <td>Justin P. Lange (director/screenplay);  Guy Pe...</td>\n",
       "      <td>[55]</td>\n",
       "    </tr>\n",
       "    <tr>\n",
       "      <th>66</th>\n",
       "      <td>M  A  R  C  H</td>\n",
       "      <td>26</td>\n",
       "      <td>Senior Moment</td>\n",
       "      <td>Screen Media Films</td>\n",
       "      <td>Giorgio Serafini (director); Kurt Brungardt, C...</td>\n",
       "      <td>[56]</td>\n",
       "    </tr>\n",
       "    <tr>\n",
       "      <th>67</th>\n",
       "      <td>M  A  R  C  H</td>\n",
       "      <td>31</td>\n",
       "      <td>Godzilla vs. Kong</td>\n",
       "      <td>Warner Bros. Pictures  /  Legendary Entertainm...</td>\n",
       "      <td>Adam Wingard  (director);  Eric Pearson  ,  Ma...</td>\n",
       "      <td>[57]</td>\n",
       "    </tr>\n",
       "  </tbody>\n",
       "</table>\n",
       "</div>"
      ],
      "text/plain": [
       "          Opening  Opening.1              Title  \\\n",
       "63  M  A  R  C  H         26             Nobody   \n",
       "64  M  A  R  C  H         26           Bad Trip   \n",
       "65  M  A  R  C  H         26    The Seventh Day   \n",
       "66  M  A  R  C  H         26      Senior Moment   \n",
       "67  M  A  R  C  H         31  Godzilla vs. Kong   \n",
       "\n",
       "                                   Production company  \\\n",
       "63  Universal Pictures  /  Perfect World Pictures ...   \n",
       "64                         Netflix  /  Orion Pictures   \n",
       "65        Vertical Entertainment  /  Voltage Pictures   \n",
       "66                                 Screen Media Films   \n",
       "67  Warner Bros. Pictures  /  Legendary Entertainm...   \n",
       "\n",
       "                                        Cast and crew  Ref.  \n",
       "63  Ilya Naishuller  (director);  Derek Kolstad  (...  [54]  \n",
       "64  Kitao Sakurai (director/screenplay); Dan Curry...   NaN  \n",
       "65  Justin P. Lange (director/screenplay);  Guy Pe...  [55]  \n",
       "66  Giorgio Serafini (director); Kurt Brungardt, C...  [56]  \n",
       "67  Adam Wingard  (director);  Eric Pearson  ,  Ma...  [57]  "
      ]
     },
     "execution_count": 140,
     "metadata": {},
     "output_type": "execute_result"
    }
   ],
   "source": [
    "df = pd.read_html(StringIO(str(tables[3])))\n",
    "df[0].tail()"
   ]
  },
  {
   "cell_type": "code",
   "execution_count": 144,
   "metadata": {},
   "outputs": [
    {
     "data": {
      "text/plain": [
       "Link                  False\n",
       "Title                 False\n",
       "Opening               False\n",
       "Opening.1             False\n",
       "Production company    False\n",
       "Cast and crew         False\n",
       "Ref.                   True\n",
       "dtype: bool"
      ]
     },
     "execution_count": 144,
     "metadata": {},
     "output_type": "execute_result"
    }
   ],
   "source": [
    "pd.merge(df2, df[0], on='Title').isna().any()"
   ]
  }
 ],
 "metadata": {
  "kernelspec": {
   "display_name": "base",
   "language": "python",
   "name": "python3"
  },
  "language_info": {
   "codemirror_mode": {
    "name": "ipython",
    "version": 3
   },
   "file_extension": ".py",
   "mimetype": "text/x-python",
   "name": "python",
   "nbconvert_exporter": "python",
   "pygments_lexer": "ipython3",
   "version": "3.11.5"
  }
 },
 "nbformat": 4,
 "nbformat_minor": 2
}
