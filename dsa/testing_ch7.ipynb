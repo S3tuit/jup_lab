{
 "cells": [
  {
   "cell_type": "code",
   "execution_count": null,
   "metadata": {},
   "outputs": [],
   "source": [
    "# num of nodes\n",
    "n = 8\n",
    "A = [[0,1], [1,2], [0,3], [3,4], [3,6], [3,7], [4,2], [4,5], [5,2]]"
   ]
  },
  {
   "cell_type": "code",
   "execution_count": 2,
   "metadata": {},
   "outputs": [
    {
     "data": {
      "text/plain": [
       "[[0, 1, 0, 1, 0, 0, 0, 0],\n",
       " [0, 0, 1, 0, 0, 0, 0, 0],\n",
       " [0, 0, 0, 0, 0, 0, 0, 0],\n",
       " [0, 0, 0, 0, 1, 0, 1, 1],\n",
       " [0, 0, 1, 0, 0, 1, 0, 0],\n",
       " [0, 0, 1, 0, 0, 0, 0, 0],\n",
       " [0, 0, 0, 0, 0, 0, 0, 0],\n",
       " [0, 0, 0, 0, 0, 0, 0, 0]]"
      ]
     },
     "execution_count": 2,
     "metadata": {},
     "output_type": "execute_result"
    }
   ],
   "source": [
    "# convert array of edges to adjecency matrix\n",
    "\n",
    "M = []\n",
    "for i in range(n):\n",
    "    M.append([0]*n)\n",
    "    \n",
    "for u, v in A:\n",
    "    M[u][v] = 1\n",
    "\n",
    "M"
   ]
  },
  {
   "cell_type": "code",
   "execution_count": 3,
   "metadata": {},
   "outputs": [
    {
     "data": {
      "text/plain": [
       "defaultdict(list, {0: [1, 3], 1: [2], 3: [4, 6, 7], 4: [2, 5], 5: [2]})"
      ]
     },
     "execution_count": 3,
     "metadata": {},
     "output_type": "execute_result"
    }
   ],
   "source": [
    "# convert array of edges to adjecency list\n",
    "from collections import defaultdict\n",
    "\n",
    "D = defaultdict(list)\n",
    "\n",
    "for u, v in A:\n",
    "    D[u].append(v)\n",
    "\n",
    "D\n"
   ]
  },
  {
   "cell_type": "code",
   "execution_count": 3,
   "metadata": {},
   "outputs": [],
   "source": [
    "import networkx as nx\n",
    "\n",
    "G = nx.Graph()\n",
    "G.add_node('A2')\n",
    "G.add_nodes_from(['A3','A4','A5'])\n",
    "\n",
    "G.add_edge('A2', 'A3')\n",
    "G.add_edges_from([('A3','A4'),('A4','A5')])\n",
    "\n",
    "for i in range(2, 6):\n",
    "    G.add_edge(f'B{i}', f'C{i}')\n",
    "    if 2<i<5:\n",
    "        G.add_edge(f'B{i}', f'B{i+1}')\n",
    "    if i<5:\n",
    "        G.add_edge(f'C{i}', f'C{i+1}')"
   ]
  },
  {
   "cell_type": "code",
   "execution_count": 10,
   "metadata": {},
   "outputs": [
    {
     "name": "stdout",
     "output_type": "stream",
     "text": [
      "12 nodes\n",
      "12 edges\n",
      "['C2', 'B3', 'C4']\n",
      "[('C3', 'C2'), ('C3', 'B3'), ('C3', 'C4')]\n"
     ]
    }
   ],
   "source": [
    "print(G.number_of_nodes(), 'nodes')\n",
    "print(G.number_of_edges(), 'edges')\n",
    "print(list(G['C3']))\n",
    "print(list(G.edges('C3')))"
   ]
  },
  {
   "cell_type": "code",
   "execution_count": 40,
   "metadata": {},
   "outputs": [],
   "source": [
    "class Node:\n",
    "    def __init__(self, val, next=None) -> None:\n",
    "        self.next = next\n",
    "        self.value = val\n",
    "        \n",
    "class Stack:\n",
    "    def __init__(self) -> None:\n",
    "        self.top = None\n",
    "    \n",
    "    def is_empty(self):\n",
    "        return self.top is None\n",
    "    \n",
    "    def push(self, val):\n",
    "        self.top = Node(val=val, next=self.top)\n",
    "        \n",
    "    def pop(self):\n",
    "        if self.is_empty():\n",
    "            raise RuntimeError('Stack is empty!')\n",
    "        \n",
    "        val = self.top.value\n",
    "        self.top = self.top.next\n",
    "        return val\n",
    "    \n",
    "def dfs_search(G, src):\n",
    "    seen = set()\n",
    "    node_from = {}\n",
    "    \n",
    "    stack = Stack()\n",
    "    stack.push(src)\n",
    "    \n",
    "    while not stack.is_empty():\n",
    "        curr_node = stack.pop()\n",
    "        \n",
    "        for node in list(G[curr_node]):\n",
    "            if node not in seen:\n",
    "                node_from[node] = curr_node\n",
    "                stack.push(node)\n",
    "                seen.add(node)\n",
    "    \n",
    "    return node_from\n",
    "        "
   ]
  },
  {
   "cell_type": "code",
   "execution_count": 35,
   "metadata": {},
   "outputs": [],
   "source": [
    "import random\n",
    "\n",
    "G = nx.Graph()\n",
    "\n",
    "G.add_nodes_from(range(20))\n",
    "\n",
    "for _ in range(30):\n",
    "    node1 = random.randint(0, 19)\n",
    "    node2 = random.randint(0, 19)\n",
    "    if node1 != node2:\n",
    "        G.add_edge(node1, node2)"
   ]
  },
  {
   "cell_type": "code",
   "execution_count": 39,
   "metadata": {},
   "outputs": [
    {
     "data": {
      "text/plain": [
       "AtlasView({10: {}, 1: {}, 7: {}, 13: {}, 5: {}})"
      ]
     },
     "execution_count": 39,
     "metadata": {},
     "output_type": "execute_result"
    }
   ],
   "source": [
    "G[6]"
   ]
  },
  {
   "cell_type": "code",
   "execution_count": 41,
   "metadata": {},
   "outputs": [
    {
     "data": {
      "text/plain": [
       "{10: 6,\n",
       " 1: 6,\n",
       " 7: 6,\n",
       " 13: 6,\n",
       " 5: 6,\n",
       " 6: 5,\n",
       " 15: 5,\n",
       " 17: 5,\n",
       " 9: 17,\n",
       " 14: 17,\n",
       " 0: 14,\n",
       " 3: 14,\n",
       " 16: 3,\n",
       " 12: 16,\n",
       " 8: 12,\n",
       " 11: 8,\n",
       " 2: 8,\n",
       " 18: 13}"
      ]
     },
     "execution_count": 41,
     "metadata": {},
     "output_type": "execute_result"
    }
   ],
   "source": [
    "dfs_search(G, 6)"
   ]
  },
  {
   "cell_type": "code",
   "execution_count": null,
   "metadata": {},
   "outputs": [],
   "source": []
  }
 ],
 "metadata": {
  "kernelspec": {
   "display_name": "py_dsa",
   "language": "python",
   "name": "python3"
  },
  "language_info": {
   "codemirror_mode": {
    "name": "ipython",
    "version": 3
   },
   "file_extension": ".py",
   "mimetype": "text/x-python",
   "name": "python",
   "nbconvert_exporter": "python",
   "pygments_lexer": "ipython3",
   "version": "3.9.20"
  }
 },
 "nbformat": 4,
 "nbformat_minor": 2
}
