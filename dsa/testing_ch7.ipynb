{
 "cells": [
  {
   "cell_type": "code",
   "execution_count": 1,
   "metadata": {},
   "outputs": [],
   "source": [
    "# num of nodes\n",
    "n = 8\n",
    "A = [[0,1], [1,2], [0,3], [3,4], [3,6], [3,7], [4,2], [4,5], [5,2]]"
   ]
  },
  {
   "cell_type": "code",
   "execution_count": 2,
   "metadata": {},
   "outputs": [
    {
     "data": {
      "text/plain": [
       "[[0, 1, 0, 1, 0, 0, 0, 0],\n",
       " [0, 0, 1, 0, 0, 0, 0, 0],\n",
       " [0, 0, 0, 0, 0, 0, 0, 0],\n",
       " [0, 0, 0, 0, 1, 0, 1, 1],\n",
       " [0, 0, 1, 0, 0, 1, 0, 0],\n",
       " [0, 0, 1, 0, 0, 0, 0, 0],\n",
       " [0, 0, 0, 0, 0, 0, 0, 0],\n",
       " [0, 0, 0, 0, 0, 0, 0, 0]]"
      ]
     },
     "execution_count": 2,
     "metadata": {},
     "output_type": "execute_result"
    }
   ],
   "source": [
    "# convert array of edges to adjecency matrix\n",
    "\n",
    "M = []\n",
    "for i in range(n):\n",
    "    M.append([0]*n)\n",
    "    \n",
    "for u, v in A:\n",
    "    M[u][v] = 1\n",
    "\n",
    "M"
   ]
  },
  {
   "cell_type": "code",
   "execution_count": 3,
   "metadata": {},
   "outputs": [
    {
     "data": {
      "text/plain": [
       "defaultdict(list, {0: [1, 3], 1: [2], 3: [4, 6, 7], 4: [2, 5], 5: [2]})"
      ]
     },
     "execution_count": 3,
     "metadata": {},
     "output_type": "execute_result"
    }
   ],
   "source": [
    "# convert array of edges to adjecency list\n",
    "from collections import defaultdict\n",
    "\n",
    "D = defaultdict(list)\n",
    "\n",
    "for u, v in A:\n",
    "    D[u].append(v)\n",
    "\n",
    "D\n"
   ]
  },
  {
   "cell_type": "code",
   "execution_count": 4,
   "metadata": {},
   "outputs": [],
   "source": [
    "import networkx as nx\n",
    "\n",
    "G = nx.Graph()\n",
    "G.add_node('A2')\n",
    "G.add_nodes_from(['A3','A4','A5'])\n",
    "\n",
    "G.add_edge('A2', 'A3')\n",
    "G.add_edges_from([('A3','A4'),('A4','A5')])\n",
    "\n",
    "for i in range(2, 6):\n",
    "    G.add_edge(f'B{i}', f'C{i}')\n",
    "    if 2<i<5:\n",
    "        G.add_edge(f'B{i}', f'B{i+1}')\n",
    "    if i<5:\n",
    "        G.add_edge(f'C{i}', f'C{i+1}')"
   ]
  },
  {
   "cell_type": "code",
   "execution_count": 5,
   "metadata": {},
   "outputs": [
    {
     "name": "stdout",
     "output_type": "stream",
     "text": [
      "12 nodes\n",
      "12 edges\n",
      "['C2', 'B3', 'C4']\n",
      "[('C3', 'C2'), ('C3', 'B3'), ('C3', 'C4')]\n"
     ]
    }
   ],
   "source": [
    "print(G.number_of_nodes(), 'nodes')\n",
    "print(G.number_of_edges(), 'edges')\n",
    "print(list(G['C3']))\n",
    "print(list(G.edges('C3')))"
   ]
  },
  {
   "cell_type": "code",
   "execution_count": 6,
   "metadata": {},
   "outputs": [],
   "source": [
    "from collections import deque\n",
    "import heapq\n",
    "\n",
    "class Node:\n",
    "    def __init__(self, val, next=None) -> None:\n",
    "        self.next = next\n",
    "        self.value = val\n",
    "        \n",
    "class Stack:\n",
    "    def __init__(self) -> None:\n",
    "        self.top = None\n",
    "    \n",
    "    def is_empty(self):\n",
    "        return self.top is None\n",
    "    \n",
    "    def push(self, val):\n",
    "        self.top = Node(val=val, next=self.top)\n",
    "        \n",
    "    def pop(self):\n",
    "        if self.is_empty():\n",
    "            raise RuntimeError('Stack is empty!')\n",
    "        \n",
    "        val = self.top.value\n",
    "        self.top = self.top.next\n",
    "        return val\n",
    "    \n",
    "def dfs_search(G, src):\n",
    "    seen = set()\n",
    "    node_from = {}\n",
    "    \n",
    "    stack = Stack()\n",
    "    stack.push(src)\n",
    "    \n",
    "    while not stack.is_empty():\n",
    "        curr_node = stack.pop()\n",
    "        \n",
    "        for node in list(G[curr_node]):\n",
    "            if node not in seen:\n",
    "                node_from[node] = curr_node\n",
    "                stack.push(node)\n",
    "                seen.add(node)\n",
    "    \n",
    "    return node_from\n",
    "\n",
    "def bff_search(G, src):\n",
    "    seen = set()\n",
    "    node_from = {}\n",
    "    \n",
    "    queue = deque()\n",
    "    queue.appendleft(src)\n",
    "    \n",
    "    while not len(queue) <= 0:\n",
    "        curr_node = queue.pop()\n",
    "        \n",
    "        for node in list(G[curr_node]):\n",
    "            if node not in seen:\n",
    "                node_from[node] = curr_node\n",
    "                queue.appendleft(node)\n",
    "                seen.add(node)\n",
    "                \n",
    "    return node_from\n",
    "\n",
    "def path_to(node_from, src, target):\n",
    "    if not target in node_from:\n",
    "        raise ValueError('Unreachable')\n",
    "    \n",
    "    path = []\n",
    "    curr_node = target\n",
    "    \n",
    "    while curr_node!=src:\n",
    "        path.append(curr_node)\n",
    "        curr_node=node_from[curr_node]\n",
    "    \n",
    "    path.append(src)\n",
    "    path.reverse()\n",
    "    return path"
   ]
  },
  {
   "cell_type": "code",
   "execution_count": 7,
   "metadata": {},
   "outputs": [],
   "source": [
    "import random\n",
    "\n",
    "G = nx.Graph()\n",
    "\n",
    "G.add_nodes_from(range(20))\n",
    "\n",
    "for _ in range(30):\n",
    "    node1 = random.randint(0, 19)\n",
    "    node2 = random.randint(0, 19)\n",
    "    if node1 != node2:\n",
    "        G.add_edge(node1, node2)"
   ]
  },
  {
   "cell_type": "code",
   "execution_count": 12,
   "metadata": {},
   "outputs": [
    {
     "name": "stdout",
     "output_type": "stream",
     "text": [
      "{7: 10, 17: 10, 14: 10, 2: 10, 6: 10, 10: 7, 4: 7, 9: 14, 13: 14, 8: 14, 0: 2, 12: 9, 16: 13, 3: 13, 19: 13, 15: 19}\n",
      "[10, 14, 13, 19]\n"
     ]
    }
   ],
   "source": [
    "node_from = bff_search(G, 10)\n",
    "print(node_from)\n",
    "path = path_to(node_from, 10, 19)\n",
    "print(path)"
   ]
  },
  {
   "cell_type": "code",
   "execution_count": null,
   "metadata": {},
   "outputs": [],
   "source": [
    "import networkx as nx\n",
    "\n",
    "\n",
    "G = nx.DiGraph()\n",
    "\n",
    "G.add_edges_from([(1,2), (1,3), (3,4), (3,5), (5,6), (7,8)])\n",
    "\n",
    "\n",
    "    \n",
    "def dfs_search(G, src):\n",
    "    seen = set()\n",
    "    node_from = {}\n",
    "    \n",
    "    stack = Stack()\n",
    "    stack.push((src, src))\n",
    "    \n",
    "    while not stack.is_empty():\n",
    "        parent, curr_node = stack.pop()\n",
    "        \n",
    "        for node in list(G[curr_node]):\n",
    "            if node not in seen:\n",
    "                node_from[node] = curr_node\n",
    "                stack.push(node)\n",
    "                seen.add(node)\n",
    "    \n",
    "    return node_from"
   ]
  },
  {
   "cell_type": "code",
   "execution_count": 14,
   "metadata": {},
   "outputs": [
    {
     "data": {
      "text/plain": [
       "{2: 1, 3: 1, 4: 3, 5: 3, 6: 5}"
      ]
     },
     "execution_count": 14,
     "metadata": {},
     "output_type": "execute_result"
    }
   ],
   "source": [
    "dfs_search(G, 1)"
   ]
  },
  {
   "cell_type": "code",
   "execution_count": null,
   "metadata": {},
   "outputs": [
    {
     "data": {
      "text/plain": [
       "{2: 1, 3: 2, 1: 3}"
      ]
     },
     "execution_count": 17,
     "metadata": {},
     "output_type": "execute_result"
    }
   ],
   "source": [
    "g_cycle = nx.DiGraph()\n",
    "g_cycle.add_edges_from([(1,2), (2,3), (3,1)])\n",
    "\n",
    "\n",
    "def has_cycle(g):\n",
    "    all_seen = set()\n",
    "    \n",
    "    for node in g_cycle:"
   ]
  }
 ],
 "metadata": {
  "kernelspec": {
   "display_name": "py_dsa",
   "language": "python",
   "name": "python3"
  },
  "language_info": {
   "codemirror_mode": {
    "name": "ipython",
    "version": 3
   },
   "file_extension": ".py",
   "mimetype": "text/x-python",
   "name": "python",
   "nbconvert_exporter": "python",
   "pygments_lexer": "ipython3",
   "version": "3.9.20"
  }
 },
 "nbformat": 4,
 "nbformat_minor": 2
}
