{
 "cells": [
  {
   "cell_type": "code",
   "execution_count": 1,
   "metadata": {},
   "outputs": [],
   "source": [
    "# num of nodes\n",
    "n = 8\n",
    "A = [[0,1], [1,2], [0,3], [3,4], [3,6], [3,7], [4,2], [4,5], [5,2]]"
   ]
  },
  {
   "cell_type": "code",
   "execution_count": 2,
   "metadata": {},
   "outputs": [
    {
     "data": {
      "text/plain": [
       "[[0, 1, 0, 1, 0, 0, 0, 0],\n",
       " [0, 0, 1, 0, 0, 0, 0, 0],\n",
       " [0, 0, 0, 0, 0, 0, 0, 0],\n",
       " [0, 0, 0, 0, 1, 0, 1, 1],\n",
       " [0, 0, 1, 0, 0, 1, 0, 0],\n",
       " [0, 0, 1, 0, 0, 0, 0, 0],\n",
       " [0, 0, 0, 0, 0, 0, 0, 0],\n",
       " [0, 0, 0, 0, 0, 0, 0, 0]]"
      ]
     },
     "execution_count": 2,
     "metadata": {},
     "output_type": "execute_result"
    }
   ],
   "source": [
    "# convert array of edges to adjecency matrix\n",
    "\n",
    "M = []\n",
    "for i in range(n):\n",
    "    M.append([0]*n)\n",
    "    \n",
    "for u, v in A:\n",
    "    M[u][v] = 1\n",
    "\n",
    "M"
   ]
  },
  {
   "cell_type": "code",
   "execution_count": 3,
   "metadata": {},
   "outputs": [
    {
     "data": {
      "text/plain": [
       "defaultdict(list, {0: [1, 3], 1: [2], 3: [4, 6, 7], 4: [2, 5], 5: [2]})"
      ]
     },
     "execution_count": 3,
     "metadata": {},
     "output_type": "execute_result"
    }
   ],
   "source": [
    "# convert array of edges to adjecency list\n",
    "from collections import defaultdict\n",
    "\n",
    "D = defaultdict(list)\n",
    "\n",
    "for u, v in A:\n",
    "    D[u].append(v)\n",
    "\n",
    "D\n"
   ]
  },
  {
   "cell_type": "code",
   "execution_count": 4,
   "metadata": {},
   "outputs": [],
   "source": [
    "import networkx as nx\n",
    "\n",
    "G = nx.Graph()\n",
    "G.add_node('A2')\n",
    "G.add_nodes_from(['A3','A4','A5'])\n",
    "\n",
    "G.add_edge('A2', 'A3')\n",
    "G.add_edges_from([('A3','A4'),('A4','A5')])\n",
    "\n",
    "for i in range(2, 6):\n",
    "    G.add_edge(f'B{i}', f'C{i}')\n",
    "    if 2<i<5:\n",
    "        G.add_edge(f'B{i}', f'B{i+1}')\n",
    "    if i<5:\n",
    "        G.add_edge(f'C{i}', f'C{i+1}')"
   ]
  },
  {
   "cell_type": "code",
   "execution_count": 5,
   "metadata": {},
   "outputs": [
    {
     "name": "stdout",
     "output_type": "stream",
     "text": [
      "12 nodes\n",
      "12 edges\n",
      "['C2', 'B3', 'C4']\n",
      "[('C3', 'C2'), ('C3', 'B3'), ('C3', 'C4')]\n"
     ]
    }
   ],
   "source": [
    "print(G.number_of_nodes(), 'nodes')\n",
    "print(G.number_of_edges(), 'edges')\n",
    "print(list(G['C3']))\n",
    "print(list(G.edges('C3')))"
   ]
  },
  {
   "cell_type": "code",
   "execution_count": 6,
   "metadata": {},
   "outputs": [],
   "source": [
    "from collections import deque\n",
    "import heapq\n",
    "\n",
    "class Node:\n",
    "    def __init__(self, val, next=None) -> None:\n",
    "        self.next = next\n",
    "        self.value = val\n",
    "        \n",
    "class Stack:\n",
    "    def __init__(self) -> None:\n",
    "        self.top = None\n",
    "    \n",
    "    def is_empty(self):\n",
    "        return self.top is None\n",
    "    \n",
    "    def push(self, val):\n",
    "        self.top = Node(val=val, next=self.top)\n",
    "        \n",
    "    def pop(self):\n",
    "        if self.is_empty():\n",
    "            raise RuntimeError('Stack is empty!')\n",
    "        \n",
    "        val = self.top.value\n",
    "        self.top = self.top.next\n",
    "        return val\n",
    "    \n",
    "def dfs_search(G, src):\n",
    "    seen = set()\n",
    "    node_from = {}\n",
    "    \n",
    "    stack = Stack()\n",
    "    stack.push(src)\n",
    "    \n",
    "    while not stack.is_empty():\n",
    "        curr_node = stack.pop()\n",
    "        \n",
    "        for node in list(G[curr_node]):\n",
    "            if node not in seen:\n",
    "                node_from[node] = curr_node\n",
    "                stack.push(node)\n",
    "                seen.add(node)\n",
    "    \n",
    "    return node_from\n",
    "\n",
    "def bff_search(G, src):\n",
    "    seen = set()\n",
    "    node_from = {}\n",
    "    \n",
    "    queue = deque()\n",
    "    queue.appendleft(src)\n",
    "    \n",
    "    while not len(queue) <= 0:\n",
    "        curr_node = queue.pop()\n",
    "        \n",
    "        for node in list(G[curr_node]):\n",
    "            if node not in seen:\n",
    "                node_from[node] = curr_node\n",
    "                queue.appendleft(node)\n",
    "                seen.add(node)\n",
    "                \n",
    "    return node_from\n",
    "\n",
    "def path_to(node_from, src, target):\n",
    "    if not target in node_from:\n",
    "        raise ValueError('Unreachable')\n",
    "    \n",
    "    path = []\n",
    "    curr_node = target\n",
    "    \n",
    "    while curr_node!=src:\n",
    "        path.append(curr_node)\n",
    "        curr_node=node_from[curr_node]\n",
    "    \n",
    "    path.append(src)\n",
    "    path.reverse()\n",
    "    return path"
   ]
  },
  {
   "cell_type": "code",
   "execution_count": 7,
   "metadata": {},
   "outputs": [],
   "source": [
    "import random\n",
    "\n",
    "G = nx.Graph()\n",
    "\n",
    "G.add_nodes_from(range(20))\n",
    "\n",
    "for _ in range(30):\n",
    "    node1 = random.randint(0, 19)\n",
    "    node2 = random.randint(0, 19)\n",
    "    if node1 != node2:\n",
    "        G.add_edge(node1, node2)"
   ]
  },
  {
   "cell_type": "code",
   "execution_count": 8,
   "metadata": {},
   "outputs": [
    {
     "name": "stdout",
     "output_type": "stream",
     "text": [
      "{13: 10, 10: 13, 3: 13, 5: 13, 1: 13, 19: 3, 11: 3, 9: 5, 7: 5, 0: 19, 16: 9, 15: 9, 6: 9, 4: 0, 14: 0, 17: 0, 18: 14, 2: 14}\n",
      "[10, 13, 3, 19]\n"
     ]
    }
   ],
   "source": [
    "node_from = bff_search(G, 10)\n",
    "print(node_from)\n",
    "path = path_to(node_from, 10, 19)\n",
    "print(path)"
   ]
  },
  {
   "cell_type": "code",
   "execution_count": 17,
   "metadata": {},
   "outputs": [],
   "source": [
    "import networkx as nx\n",
    "\n",
    "\n",
    "G = nx.DiGraph()\n",
    "\n",
    "G.add_edges_from([(1,2), (1,3), (3,4), (3,5), (5,6), (7,8)])\n",
    "\n",
    "\n",
    "    \n",
    "def dfs_search(G, src):\n",
    "    seen = set()\n",
    "    node_from = {}\n",
    "    \n",
    "    stack = Stack()\n",
    "    stack.push(src)\n",
    "    \n",
    "    while not stack.is_empty():\n",
    "        curr_node = stack.pop()\n",
    "        \n",
    "        for node in list(G[curr_node]):\n",
    "            if node not in seen:\n",
    "                node_from[node] = curr_node\n",
    "                stack.push(node)\n",
    "                seen.add(node)\n",
    "    \n",
    "    return node_from"
   ]
  },
  {
   "cell_type": "code",
   "execution_count": 22,
   "metadata": {},
   "outputs": [
    {
     "data": {
      "text/plain": [
       "[]"
      ]
     },
     "execution_count": 22,
     "metadata": {},
     "output_type": "execute_result"
    }
   ],
   "source": [
    "list(nx.neighbors(G, 2))"
   ]
  },
  {
   "cell_type": "code",
   "execution_count": 38,
   "metadata": {},
   "outputs": [
    {
     "data": {
      "text/plain": [
       "True"
      ]
     },
     "execution_count": 38,
     "metadata": {},
     "output_type": "execute_result"
    }
   ],
   "source": [
    "g_cycle = nx.DiGraph()\n",
    "g_cycle.add_edges_from([(1,2), (2,3), (1,3), (4,2), (3,4)])\n",
    "\n",
    "\n",
    "def has_cycle_2squared(graph):\n",
    "    \n",
    "    for node in g_cycle:\n",
    "        this_run_seen = set()\n",
    "        stack = Stack()\n",
    "        \n",
    "        stack.push(node)\n",
    "        \n",
    "        while not stack.is_empty():\n",
    "            curr_node = stack.pop()\n",
    "            \n",
    "            for n in nx.neighbors(graph, curr_node):\n",
    "                if n == node:\n",
    "                    return True\n",
    "                elif n not in this_run_seen:\n",
    "                    this_run_seen.add(n)\n",
    "                    stack.push(n)\n",
    "    return False\n",
    "\n",
    "\n",
    "def has_cycle(graph):\n",
    "    def dfs(node, temp_seen, perm_seen):\n",
    "        if node in perm_seen:\n",
    "            return False\n",
    "        if node in temp_seen:\n",
    "            return True\n",
    "        \n",
    "        temp_seen.add(node)\n",
    "        for successor in graph.successors(node):\n",
    "            if dfs(successor, temp_seen, perm_seen):\n",
    "                return True\n",
    "        \n",
    "        temp_seen.remove(node)\n",
    "        perm_seen.add(node)\n",
    "        return False\n",
    "    \n",
    "    temp_seen = set()\n",
    "    perm_seen = set() \n",
    "    for node in graph.nodes():\n",
    "        if node not in perm_seen:\n",
    "            if dfs(node, temp_seen, perm_seen):\n",
    "                return True\n",
    "    \n",
    "    return False\n",
    "                \n",
    "has_cycle(g_cycle)"
   ]
  },
  {
   "cell_type": "code",
   "execution_count": 41,
   "metadata": {},
   "outputs": [
    {
     "data": {
      "text/plain": [
       "[4, 1, 2, 3]"
      ]
     },
     "execution_count": 41,
     "metadata": {},
     "output_type": "execute_result"
    }
   ],
   "source": [
    "g_cycle = nx.DiGraph()\n",
    "g_cycle.add_edges_from([(1,2), (2,3), (1,3), (4,2), (4,3)])\n",
    "\n",
    "def topological_sort(graph):\n",
    "    seen = set()\n",
    "    postorder = []\n",
    "    \n",
    "    def dfs(node):\n",
    "        seen.add(node)\n",
    "        for successor in graph.successors(node):\n",
    "            if successor not in seen:\n",
    "                dfs(successor)\n",
    "        postorder.append(node)\n",
    "    \n",
    "    for node in graph.nodes():\n",
    "        if node not in seen:\n",
    "            dfs(node)\n",
    "    \n",
    "    return reversed(postorder)\n",
    "\n",
    "list(topological_sort(g_cycle))"
   ]
  },
  {
   "cell_type": "code",
   "execution_count": 43,
   "metadata": {},
   "outputs": [],
   "source": [
    "import random\n",
    "\n",
    "G = nx.DiGraph()\n",
    "\n",
    "# Add 20 nodes\n",
    "G.add_nodes_from(range(1, 21))\n",
    "\n",
    "# Randomly add edges with weights\n",
    "for _ in range(40):  # Add 40 random edges\n",
    "    u = random.randint(1, 20)\n",
    "    v = random.randint(1, 20)\n",
    "    if u != v:  # Avoid self-loops\n",
    "        weight = round(random.uniform(1.0, 10.0), 2)  # Random weight between 1.0 and 10.0\n",
    "        G.add_edge(u, v, weight=weight)"
   ]
  },
  {
   "cell_type": "code",
   "execution_count": 56,
   "metadata": {},
   "outputs": [
    {
     "data": {
      "text/plain": [
       "(10, 'A')"
      ]
     },
     "execution_count": 56,
     "metadata": {},
     "output_type": "execute_result"
    }
   ],
   "source": [
    "import heapq\n",
    "\n",
    "pq = []\n",
    "heapq.heappush(pq, (50, 'Z'))\n",
    "heapq.heappush(pq, (20, 'B'))\n",
    "heapq.heappush(pq, (10, 'A'))\n",
    "\n",
    "heapq.heappop(pq)"
   ]
  },
  {
   "cell_type": "code",
   "execution_count": null,
   "metadata": {},
   "outputs": [],
   "source": [
    "def dijkstra(graph, src):\n",
    "    dist = 0\n",
    "    prev = 1\n",
    "    visit = 2\n",
    "    \n",
    "    nodes_info = {src: [0]}"
   ]
  }
 ],
 "metadata": {
  "kernelspec": {
   "display_name": "py_dsa",
   "language": "python",
   "name": "python3"
  },
  "language_info": {
   "codemirror_mode": {
    "name": "ipython",
    "version": 3
   },
   "file_extension": ".py",
   "mimetype": "text/x-python",
   "name": "python",
   "nbconvert_exporter": "python",
   "pygments_lexer": "ipython3",
   "version": "3.9.20"
  }
 },
 "nbformat": 4,
 "nbformat_minor": 2
}
