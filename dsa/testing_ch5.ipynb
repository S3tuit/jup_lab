{
 "cells": [
  {
   "cell_type": "code",
   "execution_count": 1,
   "metadata": {},
   "outputs": [
    {
     "data": {
      "text/plain": [
       "[-1, 1, 1, 2, 2, 4, 5, 6, 44]"
      ]
     },
     "execution_count": 1,
     "metadata": {},
     "output_type": "execute_result"
    }
   ],
   "source": [
    "def insert_sort(nums):\n",
    "    for idx in range(0, len(nums)):\n",
    "        while idx-1 >= 0:\n",
    "            if nums[idx] < nums[idx-1]:\n",
    "                nums[idx], nums[idx-1] = nums[idx-1], nums[idx]\n",
    "                idx -= 1\n",
    "            else:\n",
    "                break\n",
    "    \n",
    "    return nums\n",
    "\n",
    "nums = [1,2,4,2,1,44,5,6, -1]\n",
    "insert_sort(nums)"
   ]
  },
  {
   "cell_type": "code",
   "execution_count": 2,
   "metadata": {},
   "outputs": [
    {
     "data": {
      "text/plain": [
       "120"
      ]
     },
     "execution_count": 2,
     "metadata": {},
     "output_type": "execute_result"
    }
   ],
   "source": [
    "def fact(num):\n",
    "    if num <= 1:\n",
    "        return 1\n",
    "    return num * fact(num-1)\n",
    "\n",
    "fact(5)"
   ]
  },
  {
   "cell_type": "code",
   "execution_count": 8,
   "metadata": {},
   "outputs": [
    {
     "data": {
      "text/plain": [
       "100"
      ]
     },
     "execution_count": 8,
     "metadata": {},
     "output_type": "execute_result"
    }
   ],
   "source": [
    "def find_max(nums):\n",
    "    if len(nums) <= 1:\n",
    "        return nums[0]\n",
    "    \n",
    "    return max(nums[0], find_max(nums[1:]))\n",
    "\n",
    "nums = [100, 1,2,3,4,5]\n",
    "find_max(nums)"
   ]
  },
  {
   "cell_type": "code",
   "execution_count": 4,
   "metadata": {},
   "outputs": [
    {
     "data": {
      "text/plain": [
       "[2, 3, 4, 5]"
      ]
     },
     "execution_count": 4,
     "metadata": {},
     "output_type": "execute_result"
    }
   ],
   "source": [
    "nums = [1,2,3,4,5]\n",
    "nums[1:]"
   ]
  },
  {
   "cell_type": "code",
   "execution_count": null,
   "metadata": {},
   "outputs": [],
   "source": []
  },
  {
   "cell_type": "code",
   "execution_count": null,
   "metadata": {},
   "outputs": [],
   "source": [
    "def sort(nums):\n",
    "    aux_nums = [None] * len(nums)\n",
    "    \n",
    "    def merge(lo, mid, hi):\n",
    "        aux_nums[lo:hi+1] = nums[lo:hi+1]\n",
    "        \n",
    "        left = lo\n",
    "        right = mid+1\n",
    "        \n",
    "        for i in range(lo, hi+1):\n",
    "            if left > mid:\n",
    "                nums[i]=aux_nums[right]\n",
    "                right += 1\n",
    "            elif right > hi:\n",
    "                nums[i]=aux_nums[left]\n",
    "                left += 1\n",
    "            elif aux_nums[left] > aux_nums[right]:\n",
    "                nums[i] = aux_nums[right]\n",
    "                right += 1\n",
    "            else:\n",
    "                nums[i] = aux_nums[left]\n",
    "                left += 1\n",
    "        \n",
    "    def rsort(lo, hi):\n",
    "        if hi <= lo:\n",
    "            return\n",
    "        \n",
    "        mid = (lo+hi)//2\n",
    "        rsort(lo, mid)\n",
    "        rsort(mid+1,hi)\n",
    "        merge(lo, mid, hi)\n",
    "    \n",
    "    rsort(0, len(nums)-1)"
   ]
  },
  {
   "cell_type": "code",
   "execution_count": 6,
   "metadata": {},
   "outputs": [
    {
     "data": {
      "text/plain": [
       "[-2, -1, 0, 1, 2, 3, 4]"
      ]
     },
     "execution_count": 6,
     "metadata": {},
     "output_type": "execute_result"
    }
   ],
   "source": [
    "test = [1,2,3,4, 0, -1, -2]\n",
    "sort(test)\n",
    "test"
   ]
  },
  {
   "cell_type": "code",
   "execution_count": 29,
   "metadata": {},
   "outputs": [],
   "source": [
    "def quick_sort(nums):\n",
    "    \n",
    "    def partition(nums, lo, hi, pivot_idx):\n",
    "        i=lo\n",
    "        j=hi\n",
    "        \n",
    "        while i < j:\n",
    "            while i < hi and nums[i] <= nums[pivot_idx]:\n",
    "                i += 1\n",
    "            \n",
    "            while j > lo and nums[j] >= nums[pivot_idx]:\n",
    "                j -= 1\n",
    "            \n",
    "            if i < j:\n",
    "                nums[i], nums[j] = nums[j], nums[i]\n",
    "        \n",
    "        if nums[i] < nums[pivot_idx]:\n",
    "            nums[i], nums[pivot_idx] = nums[pivot_idx], nums[i]\n",
    "        return i\n",
    "    \n",
    "    def qsort(lo, hi):\n",
    "        if hi <= lo:\n",
    "            return\n",
    "        \n",
    "        pivot_idx = lo\n",
    "        location = partition(nums, lo, hi, pivot_idx)\n",
    "        \n",
    "        qsort(lo, location-1)\n",
    "        qsort(location+1, hi)\n",
    "    \n",
    "    qsort(0, len(nums)-1)\n",
    "\n",
    "test = [1,2,3,4, 0, -1, -2, -99]\n",
    "quick_sort(test)"
   ]
  },
  {
   "cell_type": "code",
   "execution_count": null,
   "metadata": {},
   "outputs": [
    {
     "data": {
      "text/plain": [
       "[4, -99, -2, -1, 0, 1, 3, 2]"
      ]
     },
     "execution_count": 27,
     "metadata": {},
     "output_type": "execute_result"
    }
   ],
   "source": [
    "test = [1,2,3,4, 0, -1, -2, -99]\n",
    "quick_sort(test)\n",
    "\n",
    "test"
   ]
  },
  {
   "cell_type": "code",
   "execution_count": null,
   "metadata": {},
   "outputs": [],
   "source": [
    "from random import randint\n",
    "\n",
    "def quick_sort(nums):\n",
    "    \n",
    "    def partition(nums, lo, hi, pivot_idx):\n",
    "        if lo == hi:\n",
    "            return lo\n",
    "        \n",
    "        nums[pivot_idx], nums[lo] = nums[lo], nums[pivot_idx] # the pivot element is lo\n",
    "        i=lo\n",
    "        j=hi\n",
    "        \n",
    "        while i < j:\n",
    "            while i < hi and nums[i] <= nums[lo]:\n",
    "                i += 1\n",
    "            \n",
    "            while j > lo and nums[j] >= nums[lo]:\n",
    "                j -= 1\n",
    "            \n",
    "            if i < j:\n",
    "                nums[i], nums[j] = nums[j], nums[i]\n",
    "        \n",
    "        nums[j], nums[lo] = nums[lo], nums[j]\n",
    "        return i\n",
    "\n",
    "    def qsort(lo, hi):\n",
    "        if hi <= lo:\n",
    "            return\n",
    "\n",
    "        pivot_idx = randint(lo, hi)\n",
    "        location = partition(nums, lo, hi, pivot_idx)\n",
    "\n",
    "        qsort(lo, location-1)\n",
    "        qsort(location+1, hi)\n",
    "\n",
    "    qsort(0, len(nums)-1)"
   ]
  },
  {
   "cell_type": "code",
   "execution_count": 33,
   "metadata": {},
   "outputs": [
    {
     "data": {
      "text/plain": [
       "[-99, -2, -1, 0, 1, 2, 3, 4]"
      ]
     },
     "execution_count": 33,
     "metadata": {},
     "output_type": "execute_result"
    }
   ],
   "source": [
    "test = [1,2,3,4, 0, -1, -2, -99]\n",
    "quick_sort(test)\n",
    "\n",
    "test"
   ]
  },
  {
   "cell_type": "code",
   "execution_count": null,
   "metadata": {},
   "outputs": [],
   "source": []
  },
  {
   "cell_type": "code",
   "execution_count": null,
   "metadata": {},
   "outputs": [
    {
     "data": {
      "text/plain": [
       "[99, 4, 2, 3, -100, 0, -1, -2, 1]"
      ]
     },
     "execution_count": 7,
     "metadata": {},
     "output_type": "execute_result"
    }
   ],
   "source": [
    "def heap_sort(nums):\n",
    "    \n",
    "    def heapify(nums, n, i):\n",
    "        largest = i\n",
    "        left = 2 * i + 1\n",
    "        right = 2 * i + 2\n",
    "\n",
    "        if left < n and nums[left] > nums[largest]:\n",
    "            largest = left\n",
    "\n",
    "        if right < n and nums[right] > nums[largest]:\n",
    "            largest = right\n",
    "\n",
    "        if largest != i:\n",
    "            nums[i], nums[largest] = nums[largest], nums[i]\n",
    "            heapify(nums, n, largest)\n",
    "\n",
    "    # Step 1: Build a max heap\n",
    "    n = len(nums)\n",
    "    for i in range(n // 2 - 1, -1, -1):\n",
    "        heapify(nums, n, i)\n",
    "\n",
    "    # Step 2: Extract elements from heap one by one\n",
    "    for i in range(n - 1, 0, -1):\n",
    "        nums[i], nums[0] = nums[0], nums[i]\n",
    "        heapify(nums, i, 0)\n",
    "\n",
    "    \n",
    "\n",
    "\n",
    "test = [-100, 1, 2, 3, 4, 0, -1, -2, 99]\n",
    "heap_sort(test)\n",
    "test"
   ]
  },
  {
   "cell_type": "code",
   "execution_count": null,
   "metadata": {},
   "outputs": [],
   "source": []
  },
  {
   "cell_type": "code",
   "execution_count": 9,
   "metadata": {},
   "outputs": [
    {
     "data": {
      "text/plain": [
       "[0, 1, 2, 3, 4, 9, 10]"
      ]
     },
     "execution_count": 9,
     "metadata": {},
     "output_type": "execute_result"
    }
   ],
   "source": [
    "def insertion_sort(nums):\n",
    "    for num in range(1, len(nums)):\n",
    "        temp_n = nums[num]\n",
    "        for n in range(num-1, -2, -1):\n",
    "            if n == -1:\n",
    "                nums[n+1] = temp_n\n",
    "                break\n",
    "            elif nums[n] > temp_n:\n",
    "                nums[n+1] = nums[n]\n",
    "            else:\n",
    "                nums[n+1] = temp_n\n",
    "                break\n",
    "\n",
    "test = [2, 4, 1, 9, 0, 10, 3]\n",
    "insertion_sort(test)\n",
    "test"
   ]
  },
  {
   "cell_type": "code",
   "execution_count": null,
   "metadata": {},
   "outputs": [],
   "source": []
  },
  {
   "cell_type": "code",
   "execution_count": 1,
   "metadata": {},
   "outputs": [],
   "source": [
    "n=9"
   ]
  },
  {
   "cell_type": "code",
   "execution_count": 4,
   "metadata": {},
   "outputs": [
    {
     "data": {
      "text/plain": [
       "5"
      ]
     },
     "execution_count": 4,
     "metadata": {},
     "output_type": "execute_result"
    }
   ],
   "source": [
    "def count(nums, n):\n",
    "    if len(nums)==1:\n",
    "        if nums[0]==n:\n",
    "            return 1\n",
    "        else:\n",
    "            return 0       \n",
    "        \n",
    "    return count(nums[:len(nums)//2], n) + count(nums[len(nums)//2:], n)\n",
    "\n",
    "count([2,3,4,5,6,7,8,9,0,12,3,4,5,6,7,9,9,9,9], 9)"
   ]
  },
  {
   "cell_type": "code",
   "execution_count": null,
   "metadata": {},
   "outputs": [],
   "source": []
  },
  {
   "cell_type": "code",
   "execution_count": 15,
   "metadata": {},
   "outputs": [
    {
     "data": {
      "text/plain": [
       "3"
      ]
     },
     "execution_count": 15,
     "metadata": {},
     "output_type": "execute_result"
    }
   ],
   "source": [
    "def num_swaps(nums):\n",
    "    swaps = 0\n",
    "    visited = [False] * (len(nums))\n",
    "    \n",
    "    for idx in range(len(nums)):\n",
    "        if visited[idx]==True:\n",
    "            pass\n",
    "        elif idx != nums[idx]:\n",
    "            \n",
    "            cycle_len = 0\n",
    "            while visited[idx]==False:\n",
    "                visited[idx] = True\n",
    "                cycle_len += 1\n",
    "                idx = nums[idx]\n",
    "            \n",
    "            if cycle_len > 1:\n",
    "                swaps += cycle_len-1\n",
    "            \n",
    "            \n",
    "    return swaps\n",
    "\n",
    "num_swaps([0,1,5,2,3,4])"
   ]
  },
  {
   "cell_type": "code",
   "execution_count": 16,
   "metadata": {},
   "outputs": [
    {
     "name": "stdout",
     "output_type": "stream",
     "text": [
      "2\n"
     ]
    }
   ],
   "source": [
    "A = [4, 3, 2, 1, 0]\n",
    "print(num_swaps(A))"
   ]
  },
  {
   "cell_type": "code",
   "execution_count": null,
   "metadata": {},
   "outputs": [],
   "source": []
  },
  {
   "cell_type": "code",
   "execution_count": 30,
   "metadata": {},
   "outputs": [
    {
     "name": "stdout",
     "output_type": "stream",
     "text": [
      "merge_sort_v1 time: 0.1913 seconds\n",
      "merge_sort_v2 time: 0.1629 seconds\n"
     ]
    }
   ],
   "source": [
    "import timeit\n",
    "import random\n",
    "\n",
    "def merge_sort_v1(nums):\n",
    "    aux_nums = [None] * len(nums)\n",
    "    \n",
    "    def merge(lo, mid, hi):\n",
    "        aux_nums[lo:hi+1] = nums[lo:hi+1]\n",
    "        \n",
    "        left = lo\n",
    "        right = mid+1\n",
    "        \n",
    "        for i in range(lo, hi+1):\n",
    "            if left > mid:\n",
    "                nums[i]=aux_nums[right]\n",
    "                right += 1\n",
    "            elif right > hi:\n",
    "                nums[i]=aux_nums[left]\n",
    "                left += 1\n",
    "            elif aux_nums[left] > aux_nums[right]:\n",
    "                nums[i] = aux_nums[right]\n",
    "                right += 1\n",
    "            else:\n",
    "                nums[i] = aux_nums[left]\n",
    "                left += 1\n",
    "        \n",
    "    def rsort(lo, hi):\n",
    "        if hi <= lo:\n",
    "            return\n",
    "        \n",
    "        mid = (lo+hi)//2\n",
    "        rsort(lo, mid)\n",
    "        rsort(mid+1,hi)\n",
    "        merge(lo, mid, hi)\n",
    "    \n",
    "    rsort(0, len(nums)-1)\n",
    "\n",
    "\n",
    "def merge_sort_v2(nums):\n",
    "    aux_nums = [None] * len(nums)\n",
    "    \n",
    "    def merge(lo, mid, hi):\n",
    "        aux_nums[lo:hi+1] = nums[lo:hi+1]\n",
    "        \n",
    "        left = lo\n",
    "        right = mid+1\n",
    "        \n",
    "        for i in range(lo, hi+1):\n",
    "            if left > mid:\n",
    "                nums[right:hi+1] = aux_nums[right:hi+1]\n",
    "                break\n",
    "\n",
    "            elif right > hi:\n",
    "                nums[i:hi+1] = aux_nums[left:mid+1]\n",
    "                break\n",
    "            \n",
    "            elif aux_nums[left] > aux_nums[right]:\n",
    "                nums[i] = aux_nums[right]\n",
    "                right += 1\n",
    "            else:\n",
    "                nums[i] = aux_nums[left]\n",
    "                left += 1\n",
    "        \n",
    "    def rsort(lo, hi):\n",
    "        if hi <= lo:\n",
    "            return\n",
    "        \n",
    "        mid = (lo+hi)//2\n",
    "        rsort(lo, mid)\n",
    "        rsort(mid+1,hi)\n",
    "        merge(lo, mid, hi)\n",
    "    \n",
    "    rsort(0, len(nums)-1)\n",
    "    \n",
    "N = 10000\n",
    "test_list = [random.randint(0, 10000) for _ in range(N)]\n",
    "\n",
    "setup_code = '''\n",
    "from __main__ import merge_sort_v1, merge_sort_v2, test_list\n",
    "test_list_v1 = test_list[:]\n",
    "test_list_v2 = test_list[:]\n",
    "'''\n",
    "\n",
    "time_v1 = timeit.timeit('merge_sort_v1(test_list_v1)', setup=setup_code, number=10)\n",
    "\n",
    "time_v2 = timeit.timeit('merge_sort_v2(test_list_v2)', setup=setup_code, number=10)\n",
    "\n",
    "print(f\"merge_sort_v1 time: {time_v1:.4f} seconds\")\n",
    "print(f\"merge_sort_v2 time: {time_v2:.4f} seconds\")"
   ]
  },
  {
   "cell_type": "code",
   "execution_count": null,
   "metadata": {},
   "outputs": [],
   "source": []
  },
  {
   "cell_type": "code",
   "execution_count": 36,
   "metadata": {},
   "outputs": [
    {
     "data": {
      "text/plain": [
       "[9, 6]"
      ]
     },
     "execution_count": 36,
     "metadata": {},
     "output_type": "execute_result"
    }
   ],
   "source": [
    "def recursive_two(nums):\n",
    "    \n",
    "    def double_max(array1, array2):\n",
    "        \n",
    "        if array1[0] >= array1[1]:\n",
    "            max1, max2 = array1[0], array1[1]\n",
    "        else:\n",
    "            max1, max2 = array1[1], array1[0]\n",
    "            \n",
    "        for n in array2:\n",
    "            if n > max1:\n",
    "                max1, max2 = n, max1\n",
    "            elif n > max2:\n",
    "                max2 = n\n",
    "        \n",
    "        return [max1, max2]\n",
    "    \n",
    "    if len(nums) <= 2:\n",
    "        return nums[0:2]\n",
    "    \n",
    "    return double_max(nums[0:2], recursive_two(nums[2:]))\n",
    "\n",
    "recursive_two([3, 1, 4, 1, 5, 9, 2, 6, 5, 3, 5])"
   ]
  },
  {
   "cell_type": "code",
   "execution_count": null,
   "metadata": {},
   "outputs": [],
   "source": []
  },
  {
   "cell_type": "code",
   "execution_count": 43,
   "metadata": {},
   "outputs": [
    {
     "name": "stdout",
     "output_type": "stream",
     "text": [
      "[0, 1, 1, 2, 3, 5, 8, 13, 21, 34, 55, 89, 144, 233, 377, 610, 987, 1597, 2584, 4181]\n",
      "[2, 1, 3, 4, 7, 11, 18, 29, 47, 76, 123, 199, 322, 521, 843, 1364, 2207, 3571, 5778, 9349]\n"
     ]
    }
   ],
   "source": [
    "def fibonacci(length):\n",
    "    result = [0, 1] + [None] * (length-2)\n",
    "    \n",
    "    def r_fibonacci(idx, result):\n",
    "        if idx >= len(result):\n",
    "            return result\n",
    "        \n",
    "        result[idx] = result[idx-1] + result[idx-2]\n",
    "        \n",
    "        return r_fibonacci(idx+1, result)\n",
    "    \n",
    "    return r_fibonacci(2, result)\n",
    "\n",
    "def lucas(length):\n",
    "    result = [2, 1] + [None] * (length-2)\n",
    "    \n",
    "    def r_fibonacci(idx, result):\n",
    "        if idx >= len(result):\n",
    "            return result\n",
    "        \n",
    "        result[idx] = result[idx-1] + result[idx-2]\n",
    "        \n",
    "        return r_fibonacci(idx+1, result)\n",
    "    \n",
    "    return r_fibonacci(2, result)\n",
    "    \n",
    "print(fibonacci(20))\n",
    "print(lucas(20))"
   ]
  },
  {
   "cell_type": "code",
   "execution_count": null,
   "metadata": {},
   "outputs": [],
   "source": []
  }
 ],
 "metadata": {
  "kernelspec": {
   "display_name": "py_dsa",
   "language": "python",
   "name": "python3"
  },
  "language_info": {
   "codemirror_mode": {
    "name": "ipython",
    "version": 3
   },
   "file_extension": ".py",
   "mimetype": "text/x-python",
   "name": "python",
   "nbconvert_exporter": "python",
   "pygments_lexer": "ipython3",
   "version": "3.9.20"
  }
 },
 "nbformat": 4,
 "nbformat_minor": 2
}
