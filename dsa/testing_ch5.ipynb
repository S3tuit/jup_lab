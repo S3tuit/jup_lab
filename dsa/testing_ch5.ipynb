{
 "cells": [
  {
   "cell_type": "code",
   "execution_count": 1,
   "metadata": {},
   "outputs": [
    {
     "data": {
      "text/plain": [
       "[-1, 1, 1, 2, 2, 4, 5, 6, 44]"
      ]
     },
     "execution_count": 1,
     "metadata": {},
     "output_type": "execute_result"
    }
   ],
   "source": [
    "def insert_sort(nums):\n",
    "    for idx in range(0, len(nums)):\n",
    "        while idx-1 >= 0:\n",
    "            if nums[idx] < nums[idx-1]:\n",
    "                nums[idx], nums[idx-1] = nums[idx-1], nums[idx]\n",
    "                idx -= 1\n",
    "            else:\n",
    "                break\n",
    "    \n",
    "    return nums\n",
    "\n",
    "nums = [1,2,4,2,1,44,5,6, -1]\n",
    "insert_sort(nums)"
   ]
  },
  {
   "cell_type": "code",
   "execution_count": 2,
   "metadata": {},
   "outputs": [
    {
     "data": {
      "text/plain": [
       "120"
      ]
     },
     "execution_count": 2,
     "metadata": {},
     "output_type": "execute_result"
    }
   ],
   "source": [
    "def fact(num):\n",
    "    if num <= 1:\n",
    "        return 1\n",
    "    return num * fact(num-1)\n",
    "\n",
    "fact(5)"
   ]
  },
  {
   "cell_type": "code",
   "execution_count": 8,
   "metadata": {},
   "outputs": [
    {
     "data": {
      "text/plain": [
       "100"
      ]
     },
     "execution_count": 8,
     "metadata": {},
     "output_type": "execute_result"
    }
   ],
   "source": [
    "def find_max(nums):\n",
    "    if len(nums) <= 1:\n",
    "        return nums[0]\n",
    "    \n",
    "    return max(nums[0], find_max(nums[1:]))\n",
    "\n",
    "nums = [100, 1,2,3,4,5]\n",
    "find_max(nums)"
   ]
  },
  {
   "cell_type": "code",
   "execution_count": 4,
   "metadata": {},
   "outputs": [
    {
     "data": {
      "text/plain": [
       "[2, 3, 4, 5]"
      ]
     },
     "execution_count": 4,
     "metadata": {},
     "output_type": "execute_result"
    }
   ],
   "source": [
    "nums = [1,2,3,4,5]\n",
    "nums[1:]"
   ]
  },
  {
   "cell_type": "code",
   "execution_count": null,
   "metadata": {},
   "outputs": [],
   "source": []
  },
  {
   "cell_type": "code",
   "execution_count": null,
   "metadata": {},
   "outputs": [],
   "source": [
    "def sort(nums):\n",
    "    aux_nums = [None] * len(nums)\n",
    "    \n",
    "    def merge(lo, mid, hi):\n",
    "        aux_nums[lo:hi+1] = nums[lo:hi+1]\n",
    "        \n",
    "        left = lo\n",
    "        right = mid+1\n",
    "        \n",
    "        for i in range(lo, hi+1):\n",
    "            if left > mid:\n",
    "                nums[i]=aux_nums[right]\n",
    "                right += 1\n",
    "            elif right > hi:\n",
    "                nums[i]=aux_nums[left]\n",
    "                left += 1\n",
    "            elif aux_nums[left] > aux_nums[right]:\n",
    "                nums[i] = aux_nums[right]\n",
    "                right += 1\n",
    "            else:\n",
    "                nums[i] = aux_nums[left]\n",
    "                left += 1\n",
    "        \n",
    "    def rsort(lo, hi):\n",
    "        if hi <= lo:\n",
    "            return\n",
    "        \n",
    "        mid = (lo+hi)//2\n",
    "        rsort(lo, mid)\n",
    "        rsort(mid+1,hi)\n",
    "        merge(lo, mid, hi)\n",
    "    \n",
    "    rsort(0, len(nums)-1)"
   ]
  },
  {
   "cell_type": "code",
   "execution_count": 6,
   "metadata": {},
   "outputs": [
    {
     "data": {
      "text/plain": [
       "[-2, -1, 0, 1, 2, 3, 4]"
      ]
     },
     "execution_count": 6,
     "metadata": {},
     "output_type": "execute_result"
    }
   ],
   "source": [
    "test = [1,2,3,4, 0, -1, -2]\n",
    "sort(test)\n",
    "test"
   ]
  },
  {
   "cell_type": "code",
   "execution_count": 29,
   "metadata": {},
   "outputs": [],
   "source": [
    "def quick_sort(nums):\n",
    "    \n",
    "    def partition(nums, lo, hi, pivot_idx):\n",
    "        i=lo\n",
    "        j=hi\n",
    "        \n",
    "        while i < j:\n",
    "            while i < hi and nums[i] <= nums[pivot_idx]:\n",
    "                i += 1\n",
    "            \n",
    "            while j > lo and nums[j] >= nums[pivot_idx]:\n",
    "                j -= 1\n",
    "            \n",
    "            if i < j:\n",
    "                nums[i], nums[j] = nums[j], nums[i]\n",
    "        \n",
    "        if nums[i] < nums[pivot_idx]:\n",
    "            nums[i], nums[pivot_idx] = nums[pivot_idx], nums[i]\n",
    "        return i\n",
    "    \n",
    "    def qsort(lo, hi):\n",
    "        if hi <= lo:\n",
    "            return\n",
    "        \n",
    "        pivot_idx = lo\n",
    "        location = partition(nums, lo, hi, pivot_idx)\n",
    "        \n",
    "        qsort(lo, location-1)\n",
    "        qsort(location+1, hi)\n",
    "    \n",
    "    qsort(0, len(nums)-1)\n",
    "\n",
    "test = [1,2,3,4, 0, -1, -2, -99]\n",
    "quick_sort(test)"
   ]
  },
  {
   "cell_type": "code",
   "execution_count": null,
   "metadata": {},
   "outputs": [
    {
     "data": {
      "text/plain": [
       "[4, -99, -2, -1, 0, 1, 3, 2]"
      ]
     },
     "execution_count": 27,
     "metadata": {},
     "output_type": "execute_result"
    }
   ],
   "source": [
    "test = [1,2,3,4, 0, -1, -2, -99]\n",
    "quick_sort(test)\n",
    "\n",
    "test"
   ]
  },
  {
   "cell_type": "code",
   "execution_count": null,
   "metadata": {},
   "outputs": [],
   "source": [
    "from random import randint\n",
    "\n",
    "def quick_sort(nums):\n",
    "    \n",
    "    def partition(nums, lo, hi, pivot_idx):\n",
    "        if lo == hi:\n",
    "            return lo\n",
    "        \n",
    "        nums[pivot_idx], nums[lo] = nums[lo], nums[pivot_idx] # the pivot element is lo\n",
    "        i=lo\n",
    "        j=hi\n",
    "        \n",
    "        while i < j:\n",
    "            while i < hi and nums[i] <= nums[lo]:\n",
    "                i += 1\n",
    "            \n",
    "            while j > lo and nums[j] >= nums[lo]:\n",
    "                j -= 1\n",
    "            \n",
    "            if i < j:\n",
    "                nums[i], nums[j] = nums[j], nums[i]\n",
    "        \n",
    "        nums[j], nums[lo] = nums[lo], nums[j]\n",
    "        return i\n",
    "\n",
    "    def qsort(lo, hi):\n",
    "        if hi <= lo:\n",
    "            return\n",
    "\n",
    "        pivot_idx = randint(lo, hi)\n",
    "        location = partition(nums, lo, hi, pivot_idx)\n",
    "\n",
    "        qsort(lo, location-1)\n",
    "        qsort(location+1, hi)\n",
    "\n",
    "    qsort(0, len(nums)-1)"
   ]
  },
  {
   "cell_type": "code",
   "execution_count": 33,
   "metadata": {},
   "outputs": [
    {
     "data": {
      "text/plain": [
       "[-99, -2, -1, 0, 1, 2, 3, 4]"
      ]
     },
     "execution_count": 33,
     "metadata": {},
     "output_type": "execute_result"
    }
   ],
   "source": [
    "test = [1,2,3,4, 0, -1, -2, -99]\n",
    "quick_sort(test)\n",
    "\n",
    "test"
   ]
  },
  {
   "cell_type": "code",
   "execution_count": null,
   "metadata": {},
   "outputs": [],
   "source": []
  },
  {
   "cell_type": "code",
   "execution_count": null,
   "metadata": {},
   "outputs": [
    {
     "data": {
      "text/plain": [
       "[99, 4, 2, 3, -100, 0, -1, -2, 1]"
      ]
     },
     "execution_count": 7,
     "metadata": {},
     "output_type": "execute_result"
    }
   ],
   "source": [
    "def heap_sort(nums):\n",
    "    \n",
    "    def heapify(nums, n, i):\n",
    "        largest = i\n",
    "        left = 2 * i + 1\n",
    "        right = 2 * i + 2\n",
    "\n",
    "        if left < n and nums[left] > nums[largest]:\n",
    "            largest = left\n",
    "\n",
    "        if right < n and nums[right] > nums[largest]:\n",
    "            largest = right\n",
    "\n",
    "        if largest != i:\n",
    "            nums[i], nums[largest] = nums[largest], nums[i]\n",
    "            heapify(nums, n, largest)\n",
    "\n",
    "    # Step 1: Build a max heap\n",
    "    n = len(nums)\n",
    "    for i in range(n // 2 - 1, -1, -1):\n",
    "        heapify(nums, n, i)\n",
    "\n",
    "    # Step 2: Extract elements from heap one by one\n",
    "    for i in range(n - 1, 0, -1):\n",
    "        nums[i], nums[0] = nums[0], nums[i]\n",
    "        heapify(nums, i, 0)\n",
    "\n",
    "    \n",
    "\n",
    "\n",
    "test = [-100, 1, 2, 3, 4, 0, -1, -2, 99]\n",
    "heap_sort(test)\n",
    "test"
   ]
  },
  {
   "cell_type": "code",
   "execution_count": null,
   "metadata": {},
   "outputs": [],
   "source": []
  }
 ],
 "metadata": {
  "kernelspec": {
   "display_name": "py_dsa",
   "language": "python",
   "name": "python3"
  },
  "language_info": {
   "codemirror_mode": {
    "name": "ipython",
    "version": 3
   },
   "file_extension": ".py",
   "mimetype": "text/x-python",
   "name": "python",
   "nbconvert_exporter": "python",
   "pygments_lexer": "ipython3",
   "version": "3.9.20"
  }
 },
 "nbformat": 4,
 "nbformat_minor": 2
}
