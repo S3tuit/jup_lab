{
 "cells": [
  {
   "cell_type": "code",
   "execution_count": 8,
   "metadata": {},
   "outputs": [
    {
     "name": "stdout",
     "output_type": "stream",
     "text": [
      "30\n",
      "31\n"
     ]
    }
   ],
   "source": [
    "class Value:\n",
    "    def __init__(self, e) -> None:\n",
    "        self.value = e\n",
    "        \n",
    "    def __str__(self) -> str:\n",
    "        return str(self.value)\n",
    "    \n",
    "    def eval(self):\n",
    "        return self.value\n",
    "    \n",
    "    \n",
    "class Expression:\n",
    "    def __init__(self, func, left, right) -> None:\n",
    "        self.func = func\n",
    "        self.left = left\n",
    "        self.right = right\n",
    "    \n",
    "    def __str__(self) -> str:\n",
    "        return f'({self.left}{self.func.__doc__}{self.right})'\n",
    "    \n",
    "    def eval(self):\n",
    "        return self.func(self.left.eval(), self.right.eval())\n",
    "    \n",
    "def add(left, right):\n",
    "    \"\"\"+\"\"\"\n",
    "    return left+right\n",
    "\n",
    "def mult(left, right):\n",
    "    \"\"\"*\"\"\"\n",
    "    return left*right\n",
    "\n",
    "\n",
    "a = Expression(mult, Value(10), Value(3))\n",
    "print(a.eval())\n",
    "b = Expression(add, a, Value(1))\n",
    "print(b.eval())"
   ]
  },
  {
   "cell_type": "code",
   "execution_count": null,
   "metadata": {},
   "outputs": [
    {
     "name": "stdout",
     "output_type": "stream",
     "text": [
      "((10*3)+1)\n"
     ]
    }
   ],
   "source": [
    "print(b)"
   ]
  },
  {
   "cell_type": "code",
   "execution_count": null,
   "metadata": {},
   "outputs": [],
   "source": [
    "class BinaryNode:\n",
    "    def __init__(self, val) -> None:\n",
    "        self.val = val\n",
    "        self.left = None\n",
    "        self.right = None\n",
    "\n",
    "class BinaryTree:\n",
    "    def __init__(self) -> None:\n",
    "        self.root = None\n",
    "    \n",
    "    def insert(self, val):\n",
    "        new_node = BinaryNode(val)\n",
    "        \n",
    "        if self.root is None:\n",
    "            self.root = new_node\n",
    "            return val\n",
    "            \n",
    "        curr_node = self.root\n",
    "        \n",
    "        while True:\n",
    "            if val >= curr_node.val:\n",
    "                if curr_node.right:\n",
    "                    curr_node = curr_node.right\n",
    "                else:\n",
    "                    curr_node.right = new_node\n",
    "                    break\n",
    "            else:\n",
    "                if curr_node.left:\n",
    "                    curr_node = curr_node.left\n",
    "                else:\n",
    "                    curr_node.left = new_node\n",
    "                    break\n",
    "        \n",
    "        return val\n",
    "    \n",
    "    def __contains__(self, target):\n",
    "        node = self.root\n",
    "        \n",
    "        while node:\n",
    "            if target < node.val:\n",
    "                node = node.left\n",
    "            elif target > node.val:\n",
    "                node = node.right\n",
    "            else:\n",
    "                return True\n",
    "        \n",
    "        return False"
   ]
  },
  {
   "cell_type": "code",
   "execution_count": 41,
   "metadata": {},
   "outputs": [],
   "source": [
    "tree = BinaryTree()\n",
    "for v in range(4):\n",
    "    tree.insert(v)"
   ]
  },
  {
   "cell_type": "code",
   "execution_count": 42,
   "metadata": {},
   "outputs": [
    {
     "name": "stdout",
     "output_type": "stream",
     "text": [
      "False\n",
      "True\n",
      "True\n"
     ]
    }
   ],
   "source": [
    "tree.insert(-1)\n",
    "print(-2 in tree)\n",
    "print(0 in tree)\n",
    "print(2 in tree)"
   ]
  }
 ],
 "metadata": {
  "kernelspec": {
   "display_name": "py_dsa",
   "language": "python",
   "name": "python3"
  },
  "language_info": {
   "codemirror_mode": {
    "name": "ipython",
    "version": 3
   },
   "file_extension": ".py",
   "mimetype": "text/x-python",
   "name": "python",
   "nbconvert_exporter": "python",
   "pygments_lexer": "ipython3",
   "version": "3.9.20"
  }
 },
 "nbformat": 4,
 "nbformat_minor": 2
}
