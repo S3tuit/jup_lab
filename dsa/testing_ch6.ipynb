{
 "cells": [
  {
   "cell_type": "code",
   "execution_count": 8,
   "metadata": {},
   "outputs": [
    {
     "name": "stdout",
     "output_type": "stream",
     "text": [
      "30\n",
      "31\n"
     ]
    }
   ],
   "source": [
    "class Value:\n",
    "    def __init__(self, e) -> None:\n",
    "        self.value = e\n",
    "        \n",
    "    def __str__(self) -> str:\n",
    "        return str(self.value)\n",
    "    \n",
    "    def eval(self):\n",
    "        return self.value\n",
    "    \n",
    "    \n",
    "class Expression:\n",
    "    def __init__(self, func, left, right) -> None:\n",
    "        self.func = func\n",
    "        self.left = left\n",
    "        self.right = right\n",
    "    \n",
    "    def __str__(self) -> str:\n",
    "        return f'({self.left}{self.func.__doc__}{self.right})'\n",
    "    \n",
    "    def eval(self):\n",
    "        return self.func(self.left.eval(), self.right.eval())\n",
    "    \n",
    "def add(left, right):\n",
    "    \"\"\"+\"\"\"\n",
    "    return left+right\n",
    "\n",
    "def mult(left, right):\n",
    "    \"\"\"*\"\"\"\n",
    "    return left*right\n",
    "\n",
    "\n",
    "a = Expression(mult, Value(10), Value(3))\n",
    "print(a.eval())\n",
    "b = Expression(add, a, Value(1))\n",
    "print(b.eval())"
   ]
  },
  {
   "cell_type": "code",
   "execution_count": null,
   "metadata": {},
   "outputs": [
    {
     "name": "stdout",
     "output_type": "stream",
     "text": [
      "((10*3)+1)\n"
     ]
    }
   ],
   "source": [
    "print(b)"
   ]
  },
  {
   "cell_type": "code",
   "execution_count": 35,
   "metadata": {},
   "outputs": [],
   "source": [
    "class BinaryNode:\n",
    "    def __init__(self, val) -> None:\n",
    "        self.val = val\n",
    "        self.left = None\n",
    "        self.right = None\n",
    "        self.height = 0\n",
    "        #how many nodes below it\n",
    "        self.N = 1\n",
    "    \n",
    "    def height_difference(self):\n",
    "        left_height = self.left.height if self.left else -1\n",
    "        right_height = self.right.height if self.right else -1\n",
    "        return left_height - right_height\n",
    "    \n",
    "    def compute_height(self):\n",
    "        left_height = self.left.height if self.left else -1\n",
    "        right_height = self.right.height if self.right else -1\n",
    "        self.height = 1 + max(left_height, right_height)\n",
    "        \n",
    "    def compute_N(self):\n",
    "        left_N = self.left.N if self.left else 0\n",
    "        right_N = self.right.N if self.right else 0\n",
    "        self.N = 1 + left_N + right_N\n",
    "\n",
    "class BinaryTree:\n",
    "    def __init__(self) -> None:\n",
    "        self.root = None\n",
    "    \n",
    "    def insert(self, val):\n",
    "        new_node = BinaryNode(val)\n",
    "        \n",
    "        if self.root is None:\n",
    "            self.root = new_node\n",
    "            return val\n",
    "            \n",
    "        curr_node = self.root\n",
    "        visited_node = []\n",
    "        \n",
    "        while True:\n",
    "            visited_node.append(curr_node)\n",
    "            if val >= curr_node.val:\n",
    "                if curr_node.right:\n",
    "                    curr_node = curr_node.right\n",
    "                else:\n",
    "                    curr_node.right = new_node\n",
    "                    break\n",
    "            else:\n",
    "                if curr_node.left:\n",
    "                    curr_node = curr_node.left\n",
    "                else:\n",
    "                    curr_node.left = new_node\n",
    "                    break\n",
    "        \n",
    "        for node in range(len(visited_node)-1, -1, -1):\n",
    "            visited_node[node].compute_height()\n",
    "            visited_node[node].compute_N()\n",
    "        \n",
    "        return val\n",
    "    \n",
    "    def __contains__(self, target):\n",
    "        node = self.root\n",
    "        \n",
    "        while node:\n",
    "            if target < node.val:\n",
    "                node = node.left\n",
    "            elif target > node.val:\n",
    "                node = node.right\n",
    "            else:\n",
    "                return True\n",
    "        \n",
    "        return False\n",
    "    \n",
    "    def remove(self, target):\n",
    "        if self.root is None:\n",
    "            return None\n",
    "        \n",
    "        node = self.root\n",
    "        parent = None\n",
    "        \n",
    "        while node and target != node.val:\n",
    "            parent = node\n",
    "            \n",
    "            if target > node.val:\n",
    "                node = node.right\n",
    "            else:\n",
    "                node = node.left\n",
    "        \n",
    "        # If the target node does not exist\n",
    "        if node is None:\n",
    "            print(\"Value not found!\")\n",
    "            return None\n",
    "        \n",
    "        \n",
    "        if node == self.root:\n",
    "            if self.root.right:\n",
    "                replacement = self._right_smallest(self.root)\n",
    "                replacement.left = self.root.left \n",
    "                self.root = replacement\n",
    "            else:\n",
    "                self.root = self.root.left\n",
    "            return node\n",
    "        \n",
    "        elif parent.left and parent.left.val==target:\n",
    "            if parent.left.right:\n",
    "                replacement = self._right_smallest(parent.left)\n",
    "                replacement.left = parent.left.left\n",
    "                parent.left = replacement\n",
    "            else:\n",
    "                parent.left = parent.left.left\n",
    "            return node\n",
    "            \n",
    "        elif parent.right and parent.right.val==target:\n",
    "            if parent.right.right:\n",
    "                replacement = self._right_smallest(parent.right)\n",
    "                replacement.left = parent.right.left\n",
    "                parent.right = replacement\n",
    "            else:\n",
    "                parent.right = parent.right.left\n",
    "            return node\n",
    "            \n",
    "        return None\n",
    "    \n",
    "    \n",
    "    def _right_smallest(self, node):\n",
    "        if node is None:\n",
    "            return None\n",
    "        \n",
    "        parent = node\n",
    "        node = node.right\n",
    "        while node.left:\n",
    "            parent = node\n",
    "            node = node.left\n",
    "        \n",
    "        # Detach the smallest node from its parent\n",
    "        if parent.left == node:\n",
    "            parent.left = node.right\n",
    "        else:\n",
    "            parent.right = node.right\n",
    "        \n",
    "        return node\n",
    "    \n",
    "    def __iter__(self):\n",
    "        for v in self._traverse(self.root):\n",
    "            yield v\n",
    "    \n",
    "    def _traverse(self, node):\n",
    "        if node is None:\n",
    "            return\n",
    "        \n",
    "        yield from self._traverse(node.left)\n",
    "            \n",
    "        yield node.val\n",
    "            \n",
    "        yield from self._traverse(node.right)\n",
    "    \n",
    "    def find_kth_smallest(self, kth):\n",
    "        if kth <= 0 or kth > self.root.N:\n",
    "            return None\n",
    "        \n",
    "        return self._find_kth_smallest(kth, self.root)\n",
    "    \n",
    "    def _find_kth_smallest(self, kth, node):\n",
    "        if node is None or kth > node.N:\n",
    "            return None\n",
    "        \n",
    "        left_N = node.left.N if node.left else 0\n",
    "        right_N = node.right.N if node.right else 0\n",
    "        \n",
    "        if left_N + 1 == kth:\n",
    "            return node.val\n",
    "        \n",
    "        elif kth < (left_N + 1):\n",
    "            return self._find_kth_smallest(kth, node.left)\n",
    "        \n",
    "        elif kth > (left_N + 1):\n",
    "            return self._find_kth_smallest(kth-(left_N+1), node.right)\n",
    "    \n",
    "    \n"
   ]
  },
  {
   "cell_type": "code",
   "execution_count": 36,
   "metadata": {},
   "outputs": [
    {
     "data": {
      "text/plain": [
       "10"
      ]
     },
     "execution_count": 36,
     "metadata": {},
     "output_type": "execute_result"
    }
   ],
   "source": [
    "tree = BinaryTree()\n",
    "for v in range(9):\n",
    "    tree.insert(v)\n",
    "    \n",
    "tree.insert(-20)\n",
    "tree.insert(-4)\n",
    "tree.insert(-21)\n",
    "tree.insert(10)"
   ]
  },
  {
   "cell_type": "code",
   "execution_count": 46,
   "metadata": {},
   "outputs": [
    {
     "data": {
      "text/plain": [
       "-20"
      ]
     },
     "execution_count": 46,
     "metadata": {},
     "output_type": "execute_result"
    }
   ],
   "source": [
    "tree.find_kth_smallest(2)"
   ]
  },
  {
   "cell_type": "code",
   "execution_count": 38,
   "metadata": {},
   "outputs": [
    {
     "name": "stdout",
     "output_type": "stream",
     "text": [
      "-21\n",
      "-20\n",
      "-4\n",
      "0\n",
      "1\n",
      "2\n",
      "3\n",
      "4\n",
      "5\n",
      "6\n",
      "7\n",
      "8\n",
      "10\n"
     ]
    }
   ],
   "source": [
    "for v in tree:\n",
    "    print(v)"
   ]
  },
  {
   "cell_type": "code",
   "execution_count": null,
   "metadata": {},
   "outputs": [],
   "source": []
  },
  {
   "cell_type": "code",
   "execution_count": 4,
   "metadata": {},
   "outputs": [],
   "source": [
    "class Node:\n",
    "    def __init__(self, val) -> None:\n",
    "        self.value = val\n",
    "        self.next = None\n",
    "\n",
    "class Queue:\n",
    "    def __init__(self) -> None:\n",
    "        self.first = None\n",
    "        self.last = None\n",
    "    \n",
    "    def is_empty(self):\n",
    "        return self.first is None\n",
    "    \n",
    "    def enqueue(self, val):\n",
    "        if self.first is None:\n",
    "            self.first = Node(val)\n",
    "            self.last = self.first\n",
    "        else:\n",
    "            self.last.next = Node(val)\n",
    "            self.last = self.last.next\n",
    "        \n",
    "    def dequeue(self):\n",
    "        if self.is_empty():\n",
    "            raise RuntimeError('Queue is empty.')\n",
    "        \n",
    "        val = self.first.value\n",
    "        self.first = self.first.next\n",
    "        return val\n",
    "    \n",
    "    def count(self, target):\n",
    "        return self._count(target, self.first)\n",
    "    \n",
    "    def _count(self, target, node):\n",
    "        if node is None:\n",
    "            return 0\n",
    "        \n",
    "        if node.value == target:\n",
    "            return 1 + self._count(target, node.next)\n",
    "        return self._count(target, node.next)"
   ]
  },
  {
   "cell_type": "code",
   "execution_count": 5,
   "metadata": {},
   "outputs": [
    {
     "data": {
      "text/plain": [
       "3"
      ]
     },
     "execution_count": 5,
     "metadata": {},
     "output_type": "execute_result"
    }
   ],
   "source": [
    "pq = Queue()\n",
    "\n",
    "for v in range(10):\n",
    "    pq.enqueue(v)\n",
    "    \n",
    "pq.enqueue(2)\n",
    "pq.enqueue(2)\n",
    "\n",
    "pq.count(2)"
   ]
  },
  {
   "cell_type": "code",
   "execution_count": 6,
   "metadata": {},
   "outputs": [
    {
     "data": {
      "text/plain": [
       "0"
      ]
     },
     "execution_count": 6,
     "metadata": {},
     "output_type": "execute_result"
    }
   ],
   "source": [
    "pq.count(119)"
   ]
  },
  {
   "cell_type": "code",
   "execution_count": null,
   "metadata": {},
   "outputs": [],
   "source": []
  },
  {
   "cell_type": "code",
   "execution_count": null,
   "metadata": {},
   "outputs": [],
   "source": []
  }
 ],
 "metadata": {
  "kernelspec": {
   "display_name": "py_dsa",
   "language": "python",
   "name": "python3"
  },
  "language_info": {
   "codemirror_mode": {
    "name": "ipython",
    "version": 3
   },
   "file_extension": ".py",
   "mimetype": "text/x-python",
   "name": "python",
   "nbconvert_exporter": "python",
   "pygments_lexer": "ipython3",
   "version": "3.9.20"
  }
 },
 "nbformat": 4,
 "nbformat_minor": 2
}
