{
 "cells": [
  {
   "cell_type": "code",
   "execution_count": 1,
   "metadata": {},
   "outputs": [],
   "source": [
    "class Node:\n",
    "    def __init__(self, val) -> None:\n",
    "        self.value = val\n",
    "        self.next = None\n",
    "\n",
    "class Queue:\n",
    "    def __init__(self) -> None:\n",
    "        self.first = None\n",
    "        self.last = None\n",
    "    \n",
    "    def is_empty(self):\n",
    "        return self.first is None\n",
    "    \n",
    "    def enqueue(self, val):\n",
    "        if self.first is None:\n",
    "            self.first = Node(val)\n",
    "            self.last = Node(val)\n",
    "        else:\n",
    "            self.last.next = Node(val)\n",
    "            self.last = self.last.next\n",
    "        \n",
    "    def dequeue(self):\n",
    "        if self.is_empty():\n",
    "            raise RuntimeError('Queue is empty.')\n",
    "        \n",
    "        val = self.first.value\n",
    "        self.first = self.first.next\n",
    "        return val"
   ]
  },
  {
   "cell_type": "code",
   "execution_count": 135,
   "metadata": {},
   "outputs": [],
   "source": [
    "class Entry:\n",
    "    def __init__(self, v, p) -> None:\n",
    "        self.value = v\n",
    "        self.priority = p\n",
    "\n",
    "class PQ:\n",
    "    def __init__(self, size) -> None:\n",
    "        self.size = size\n",
    "        self.storage = [None] * (size + 1)\n",
    "        self.N = 0\n",
    "        \n",
    "    def less(self, i, j):\n",
    "        return self.storage[i].priority < self.storage[j].priority\n",
    "\n",
    "    def swap(self, i, j):\n",
    "        self.storage[i], self.storage[j] = self.storage[j], self.storage[i]\n",
    "        \n",
    "    def enqueue(self, v, p):\n",
    "        if self.N == self.size:\n",
    "            raise RuntimeError('Priority Queue is Full!')\n",
    "        \n",
    "        self.N += 1\n",
    "        self.storage[self.N] = Entry(v, p)\n",
    "        self.swim(self.N)\n",
    "    \n",
    "    def swim(self, idx):\n",
    "        while idx > 1 and self.less(idx//2, idx):\n",
    "            self.swap(idx, idx//2)\n",
    "            idx = idx//2\n",
    "    \n",
    "    def dequeue(self):\n",
    "        if self.N == 0:\n",
    "            raise RuntimeError('Heap is empty!')\n",
    "        \n",
    "        highest_p = self.storage[1]\n",
    "        self.storage[1] = self.storage[self.N]\n",
    "        self.storage[self.N] = None\n",
    "        \n",
    "        self.N -= 1\n",
    "        self.sink(1)\n",
    "        return highest_p.value\n",
    "        \n",
    "    def sink(self, parent):\n",
    "        while 2*parent <= self.N:\n",
    "            child = 2*parent\n",
    "            if child < self.N and self.less(child, child+1):\n",
    "                child += 1\n",
    "            if not self.less(parent, child):\n",
    "                break\n",
    "            self.swap(child, parent)\n",
    "            parent = child\n",
    "    \n",
    "    def __str__(self) -> str:\n",
    "        heap_array_values = [n.value if n else None for n in self.storage]\n",
    "            \n",
    "        return f\"[{', '.join(str(val) for val in heap_array_values)}]\""
   ]
  },
  {
   "cell_type": "code",
   "execution_count": 57,
   "metadata": {},
   "outputs": [],
   "source": [
    "heap = PQ(10)\n",
    "\n",
    "for n in range(10, 5, -1):\n",
    "    heap.enqueue(n, n)\n",
    "\n",
    "heap.enqueue(11, 11)"
   ]
  },
  {
   "cell_type": "code",
   "execution_count": 58,
   "metadata": {},
   "outputs": [
    {
     "data": {
      "text/plain": [
       "11"
      ]
     },
     "execution_count": 58,
     "metadata": {},
     "output_type": "execute_result"
    }
   ],
   "source": [
    "heap.dequeue()"
   ]
  },
  {
   "cell_type": "code",
   "execution_count": null,
   "metadata": {},
   "outputs": [],
   "source": []
  },
  {
   "cell_type": "code",
   "execution_count": 68,
   "metadata": {},
   "outputs": [],
   "source": [
    "class Queue:\n",
    "    def __init__(self, size) -> None:\n",
    "        self.size = size\n",
    "        self.storage = [None] * size\n",
    "        self.first = 0\n",
    "        self.last = 0\n",
    "        self.N = 0\n",
    "    \n",
    "    def is_empty(self):\n",
    "        return self.N == 0\n",
    "    \n",
    "    def is_full(self):\n",
    "        return self.N == self.size\n",
    "    \n",
    "    def enqueue(self, item):\n",
    "        if self.is_full():\n",
    "            raise RuntimeError('Queue is full!')\n",
    "        \n",
    "        if self.is_empty():\n",
    "            self.storage[0] = item\n",
    "            self.N += 1\n",
    "            return\n",
    "        \n",
    "        idx = (self.last + 1) % self.size\n",
    "        self.storage[idx] = item\n",
    "        \n",
    "        self.last = idx\n",
    "        self.N += 1\n",
    "    \n",
    "    def dequeue(self):\n",
    "        v = self.storage[self.first]\n",
    "        self.storage[self.first] = None\n",
    "        self.N -= 1\n",
    "        \n",
    "        self.first = (self.first+1) % self.size\n",
    "        return v\n",
    "        "
   ]
  },
  {
   "cell_type": "code",
   "execution_count": 69,
   "metadata": {},
   "outputs": [
    {
     "data": {
      "text/plain": [
       "[0, 1, 2, 3, 4, 5, 6, 7, 8, 9]"
      ]
     },
     "execution_count": 69,
     "metadata": {},
     "output_type": "execute_result"
    }
   ],
   "source": [
    "queue = Queue(10)\n",
    "\n",
    "for n in range(1,10):\n",
    "    queue.enqueue(n)\n",
    "    \n",
    "queue.storage"
   ]
  },
  {
   "cell_type": "code",
   "execution_count": 92,
   "metadata": {},
   "outputs": [
    {
     "data": {
      "text/plain": [
       "[None, None, None, 4, 4, 4, None, None, None, None]"
      ]
     },
     "execution_count": 92,
     "metadata": {},
     "output_type": "execute_result"
    }
   ],
   "source": [
    "queue.enqueue(4)\n",
    "queue.dequeue()\n",
    "queue.storage"
   ]
  },
  {
   "cell_type": "code",
   "execution_count": null,
   "metadata": {},
   "outputs": [],
   "source": []
  },
  {
   "cell_type": "code",
   "execution_count": 153,
   "metadata": {},
   "outputs": [
    {
     "name": "stdout",
     "output_type": "stream",
     "text": [
      "----\n",
      "[None, 3, 2, 1, 0]\n",
      "------------------------\n",
      "---------\n",
      "[None, 7, 6, 5, 3, 2, 1, 4, 0]\n",
      "------------------------\n",
      "----------------\n",
      "[None, 15, 14, 13, 9, 8, 10, 12, 6, 3, 2, 7, 1, 5, 4, 11, 0]\n",
      "------------------------\n",
      "-------------------------\n",
      "[None, 31, 30, 29, 21, 20, 24, 28, 16, 15, 17, 19, 13, 23, 25, 27, 9, 6, 3, 14, 2, 8, 7, 18, 1, 10, 5, 22, 4, 12, 11, 26, 0]\n",
      "------------------------\n",
      "------------------------------------\n",
      "[None, 63, 62, 61, 45, 44, 52, 60, 36, 35, 39, 43, 47, 51, 55, 59, 31, 30, 32, 34, 20, 38, 40, 42, 24, 46, 48, 50, 28, 54, 56, 58, 16, 9, 6, 21, 3, 15, 14, 33, 2, 17, 8, 37, 7, 19, 18, 41, 1, 13, 10, 29, 5, 23, 22, 49, 4, 25, 12, 53, 11, 27, 26, 57, 0]\n",
      "------------------------\n"
     ]
    }
   ],
   "source": [
    "for power in range(2,7):\n",
    "    heap = PQ(2**power)\n",
    "\n",
    "    for n in range(2**power):\n",
    "        heap.enqueue(n, n)\n",
    "        \n",
    "    print('------------------------')\n",
    "    print(heap)\n",
    "    print('------------------------')"
   ]
  },
  {
   "cell_type": "code",
   "execution_count": null,
   "metadata": {},
   "outputs": [],
   "source": []
  },
  {
   "cell_type": "code",
   "execution_count": 159,
   "metadata": {},
   "outputs": [],
   "source": [
    "def combine_heap_asc(heap1, heap2):\n",
    "\n",
    "    result = [None] * (heap1.size + heap2.size)\n",
    "    last = heap1.size + heap2.size - 1\n",
    "    \n",
    "    while heap1.storage[1] and heap2.storage[1]:\n",
    "        if heap1.storage[1].priority >= heap2.storage[1].priority:\n",
    "            result[last] = (heap1.dequeue())\n",
    "            last -= 1\n",
    "        \n",
    "        else:\n",
    "            result[last] = (heap2.dequeue())\n",
    "            last -= 1\n",
    "    \n",
    "    for heap in [heap1, heap2]:\n",
    "        while heap.storage[1]:\n",
    "            result[last] = (heap.dequeue())\n",
    "            last -= 1\n",
    "    \n",
    "    return result"
   ]
  },
  {
   "cell_type": "code",
   "execution_count": 160,
   "metadata": {},
   "outputs": [
    {
     "name": "stdout",
     "output_type": "stream",
     "text": [
      "Heap1: [None, 95, 82, 47, 77, 56, 26, 28, 30, 60, 19]\n",
      "Heap2: [None, 100, 100, 84, 11, 29, 42, 64, 7, 7, 14]\n"
     ]
    }
   ],
   "source": [
    "import random\n",
    "\n",
    "heap1 = PQ(10)\n",
    "heap2 = PQ(10)\n",
    "\n",
    "for _ in range(10):\n",
    "    value = random.randint(1, 100)\n",
    "    heap1.enqueue(value, value)\n",
    "\n",
    "for _ in range(10):\n",
    "    value = random.randint(1, 100)\n",
    "    heap2.enqueue(value, value)\n",
    "\n",
    "print(\"Heap1:\", heap1)\n",
    "print(\"Heap2:\", heap2)"
   ]
  },
  {
   "cell_type": "code",
   "execution_count": 161,
   "metadata": {},
   "outputs": [
    {
     "data": {
      "text/plain": [
       "[7,\n",
       " 7,\n",
       " 11,\n",
       " 14,\n",
       " 19,\n",
       " 26,\n",
       " 28,\n",
       " 29,\n",
       " 30,\n",
       " 42,\n",
       " 47,\n",
       " 56,\n",
       " 60,\n",
       " 64,\n",
       " 77,\n",
       " 82,\n",
       " 84,\n",
       " 95,\n",
       " 100,\n",
       " 100]"
      ]
     },
     "execution_count": 161,
     "metadata": {},
     "output_type": "execute_result"
    }
   ],
   "source": [
    "combine_heap_asc(heap1, heap2)"
   ]
  },
  {
   "cell_type": "code",
   "execution_count": null,
   "metadata": {},
   "outputs": [],
   "source": []
  },
  {
   "cell_type": "code",
   "execution_count": null,
   "metadata": {},
   "outputs": [],
   "source": [
    "# 4"
   ]
  }
 ],
 "metadata": {
  "kernelspec": {
   "display_name": "py_dsa",
   "language": "python",
   "name": "python3"
  },
  "language_info": {
   "codemirror_mode": {
    "name": "ipython",
    "version": 3
   },
   "file_extension": ".py",
   "mimetype": "text/x-python",
   "name": "python",
   "nbconvert_exporter": "python",
   "pygments_lexer": "ipython3",
   "version": "3.9.20"
  }
 },
 "nbformat": 4,
 "nbformat_minor": 2
}
