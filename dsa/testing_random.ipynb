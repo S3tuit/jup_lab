{
 "cells": [
  {
   "cell_type": "code",
   "execution_count": 6,
   "metadata": {},
   "outputs": [
    {
     "name": "stdout",
     "output_type": "stream",
     "text": [
      "Time needed: 0.492637 seconds\n"
     ]
    }
   ],
   "source": [
    "import timeit\n",
    "\n",
    "start_time = timeit.default_timer()\n",
    "x = 0\n",
    "while x < 10_000_000:\n",
    "    x += 1\n",
    "\n",
    "elapsed_time = timeit.default_timer() - start_time\n",
    "print(f\"Time needed: {elapsed_time:.6f} seconds\")"
   ]
  },
  {
   "cell_type": "code",
   "execution_count": 4,
   "metadata": {},
   "outputs": [
    {
     "data": {
      "text/plain": [
       "586.6666666666666"
      ]
     },
     "execution_count": 4,
     "metadata": {},
     "output_type": "execute_result"
    }
   ],
   "source": [
    "0.88 / 0.0015"
   ]
  },
  {
   "cell_type": "code",
   "execution_count": 3,
   "metadata": {},
   "outputs": [
    {
     "data": {
      "text/plain": [
       "defaultdict(list, {0: [1, 3], 1: [2], 3: [4, 6, 7], 4: [2, 5], 5: [2]})"
      ]
     },
     "execution_count": 3,
     "metadata": {},
     "output_type": "execute_result"
    }
   ],
   "source": [
    "# convert array of edges to adjecency list\n",
    "from collections import defaultdict\n",
    "\n",
    "D = defaultdict(list)\n",
    "\n",
    "for u, v in A:\n",
    "    D[u].append(v)\n",
    "\n",
    "D\n"
   ]
  },
  {
   "cell_type": "code",
   "execution_count": 4,
   "metadata": {},
   "outputs": [],
   "source": [
    "import networkx as nx\n",
    "\n",
    "G = nx.Graph()\n",
    "G.add_node('A2')\n",
    "G.add_nodes_from(['A3','A4','A5'])\n",
    "\n",
    "G.add_edge('A2', 'A3')\n",
    "G.add_edges_from([('A3','A4'),('A4','A5')])\n",
    "\n",
    "for i in range(2, 6):\n",
    "    G.add_edge(f'B{i}', f'C{i}')\n",
    "    if 2<i<5:\n",
    "        G.add_edge(f'B{i}', f'B{i+1}')\n",
    "    if i<5:\n",
    "        G.add_edge(f'C{i}', f'C{i+1}')"
   ]
  },
  {
   "cell_type": "code",
   "execution_count": 5,
   "metadata": {},
   "outputs": [
    {
     "name": "stdout",
     "output_type": "stream",
     "text": [
      "12 nodes\n",
      "12 edges\n",
      "['C2', 'B3', 'C4']\n",
      "[('C3', 'C2'), ('C3', 'B3'), ('C3', 'C4')]\n"
     ]
    }
   ],
   "source": [
    "print(G.number_of_nodes(), 'nodes')\n",
    "print(G.number_of_edges(), 'edges')\n",
    "print(list(G['C3']))\n",
    "print(list(G.edges('C3')))"
   ]
  },
  {
   "cell_type": "code",
   "execution_count": 6,
   "metadata": {},
   "outputs": [],
   "source": [
    "from collections import deque\n",
    "import heapq\n",
    "\n",
    "class Node:\n",
    "    def __init__(self, val, next=None) -> None:\n",
    "        self.next = next\n",
    "        self.value = val\n",
    "        \n",
    "class Stack:\n",
    "    def __init__(self) -> None:\n",
    "        self.top = None\n",
    "    \n",
    "    def is_empty(self):\n",
    "        return self.top is None\n",
    "    \n",
    "    def push(self, val):\n",
    "        self.top = Node(val=val, next=self.top)\n",
    "        \n",
    "    def pop(self):\n",
    "        if self.is_empty():\n",
    "            raise RuntimeError('Stack is empty!')\n",
    "        \n",
    "        val = self.top.value\n",
    "        self.top = self.top.next\n",
    "        return val\n",
    "    \n",
    "def dfs_search(G, src):\n",
    "    seen = set()\n",
    "    node_from = {}\n",
    "    \n",
    "    stack = Stack()\n",
    "    stack.push(src)\n",
    "    \n",
    "    while not stack.is_empty():\n",
    "        curr_node = stack.pop()\n",
    "        \n",
    "        for node in list(G[curr_node]):\n",
    "            if node not in seen:\n",
    "                node_from[node] = curr_node\n",
    "                stack.push(node)\n",
    "                seen.add(node)\n",
    "    \n",
    "    return node_from\n",
    "\n",
    "def bff_search(G, src):\n",
    "    seen = set()\n",
    "    node_from = {}\n",
    "    \n",
    "    queue = deque()\n",
    "    queue.appendleft(src)\n",
    "    \n",
    "    while not len(queue) <= 0:\n",
    "        curr_node = queue.pop()\n",
    "        \n",
    "        for node in list(G[curr_node]):\n",
    "            if node not in seen:\n",
    "                node_from[node] = curr_node\n",
    "                queue.appendleft(node)\n",
    "                seen.add(node)\n",
    "                \n",
    "    return node_from\n",
    "\n",
    "def path_to(node_from, src, target):\n",
    "    if not target in node_from:\n",
    "        raise ValueError('Unreachable')\n",
    "    \n",
    "    path = []\n",
    "    curr_node = target\n",
    "    \n",
    "    while curr_node!=src:\n",
    "        path.append(curr_node)\n",
    "        curr_node=node_from[curr_node]\n",
    "    \n",
    "    path.append(src)\n",
    "    path.reverse()\n",
    "    return path"
   ]
  },
  {
   "cell_type": "code",
   "execution_count": 7,
   "metadata": {},
   "outputs": [],
   "source": [
    "import random\n",
    "\n",
    "G = nx.Graph()\n",
    "\n",
    "G.add_nodes_from(range(20))\n",
    "\n",
    "for _ in range(30):\n",
    "    node1 = random.randint(0, 19)\n",
    "    node2 = random.randint(0, 19)\n",
    "    if node1 != node2:\n",
    "        G.add_edge(node1, node2)"
   ]
  },
  {
   "cell_type": "code",
   "execution_count": 8,
   "metadata": {},
   "outputs": [
    {
     "name": "stdout",
     "output_type": "stream",
     "text": [
      "{11: 10, 2: 10, 10: 11, 14: 2, 16: 2, 6: 2, 4: 14, 0: 16, 17: 4, 5: 4, 18: 4, 12: 0, 19: 17, 15: 5, 1: 5, 7: 18, 13: 12, 8: 19, 3: 7}\n",
      "[10, 2, 16, 0, 12]\n"
     ]
    }
   ],
   "source": [
    "node_from = bff_search(G, 10)\n",
    "print(node_from)\n",
    "path = path_to(node_from, 10, 12)\n",
    "print(path)"
   ]
  },
  {
   "cell_type": "code",
   "execution_count": 9,
   "metadata": {},
   "outputs": [],
   "source": [
    "import networkx as nx\n",
    "\n",
    "\n",
    "G = nx.DiGraph()\n",
    "\n",
    "G.add_edges_from([(1,2), (1,3), (3,4), (3,5), (5,6), (7,8)])\n",
    "\n",
    "\n",
    "    \n",
    "def dfs_search(G, src):\n",
    "    seen = set()\n",
    "    node_from = {}\n",
    "    \n",
    "    stack = Stack()\n",
    "    stack.push(src)\n",
    "    \n",
    "    while not stack.is_empty():\n",
    "        curr_node = stack.pop()\n",
    "        \n",
    "        for node in list(G[curr_node]):\n",
    "            if node not in seen:\n",
    "                node_from[node] = curr_node\n",
    "                stack.push(node)\n",
    "                seen.add(node)\n",
    "    \n",
    "    return node_from"
   ]
  },
  {
   "cell_type": "code",
   "execution_count": 10,
   "metadata": {},
   "outputs": [
    {
     "data": {
      "text/plain": [
       "[]"
      ]
     },
     "execution_count": 10,
     "metadata": {},
     "output_type": "execute_result"
    }
   ],
   "source": [
    "list(nx.neighbors(G, 2))"
   ]
  },
  {
   "cell_type": "code",
   "execution_count": 11,
   "metadata": {},
   "outputs": [
    {
     "data": {
      "text/plain": [
       "True"
      ]
     },
     "execution_count": 11,
     "metadata": {},
     "output_type": "execute_result"
    }
   ],
   "source": [
    "g_cycle = nx.DiGraph()\n",
    "g_cycle.add_edges_from([(1,2), (2,3), (1,3), (4,2), (3,4)])\n",
    "\n",
    "\n",
    "def has_cycle_2squared(graph):\n",
    "    \n",
    "    for node in g_cycle:\n",
    "        this_run_seen = set()\n",
    "        stack = Stack()\n",
    "        \n",
    "        stack.push(node)\n",
    "        \n",
    "        while not stack.is_empty():\n",
    "            curr_node = stack.pop()\n",
    "            \n",
    "            for n in nx.neighbors(graph, curr_node):\n",
    "                if n == node:\n",
    "                    return True\n",
    "                elif n not in this_run_seen:\n",
    "                    this_run_seen.add(n)\n",
    "                    stack.push(n)\n",
    "    return False\n",
    "\n",
    "\n",
    "def has_cycle(graph):\n",
    "    def dfs(node, temp_seen, perm_seen):\n",
    "        if node in perm_seen:\n",
    "            return False\n",
    "        if node in temp_seen:\n",
    "            return True\n",
    "        \n",
    "        temp_seen.add(node)\n",
    "        for successor in graph.successors(node):\n",
    "            if dfs(successor, temp_seen, perm_seen):\n",
    "                return True\n",
    "        \n",
    "        temp_seen.remove(node)\n",
    "        perm_seen.add(node)\n",
    "        return False\n",
    "    \n",
    "    temp_seen = set()\n",
    "    perm_seen = set() \n",
    "    for node in graph.nodes():\n",
    "        if node not in perm_seen:\n",
    "            if dfs(node, temp_seen, perm_seen):\n",
    "                return True\n",
    "    \n",
    "    return False\n",
    "                \n",
    "has_cycle(g_cycle)"
   ]
  },
  {
   "cell_type": "code",
   "execution_count": 12,
   "metadata": {},
   "outputs": [
    {
     "data": {
      "text/plain": [
       "[4, 1, 2, 3]"
      ]
     },
     "execution_count": 12,
     "metadata": {},
     "output_type": "execute_result"
    }
   ],
   "source": [
    "g_cycle = nx.DiGraph()\n",
    "g_cycle.add_edges_from([(1,2), (2,3), (1,3), (4,2), (4,3)])\n",
    "\n",
    "def topological_sort(graph):\n",
    "    seen = set()\n",
    "    postorder = []\n",
    "    \n",
    "    def dfs(node):\n",
    "        seen.add(node)\n",
    "        for successor in graph.successors(node):\n",
    "            if successor not in seen:\n",
    "                dfs(successor)\n",
    "        postorder.append(node)\n",
    "    \n",
    "    for node in graph.nodes():\n",
    "        if node not in seen:\n",
    "            dfs(node)\n",
    "    \n",
    "    return reversed(postorder)\n",
    "\n",
    "list(topological_sort(g_cycle))"
   ]
  },
  {
   "cell_type": "code",
   "execution_count": 13,
   "metadata": {},
   "outputs": [],
   "source": [
    "import random\n",
    "import networkx as nx\n",
    "\n",
    "G = nx.DiGraph()\n",
    "\n",
    "# Add 20 nodes\n",
    "G.add_nodes_from(range(1, 21))\n",
    "\n",
    "# Randomly add edges with weights\n",
    "for _ in range(40):  # Add 40 random edges\n",
    "    u = random.randint(1, 20)\n",
    "    v = random.randint(1, 20)\n",
    "    if u != v:  # Avoid self-loops\n",
    "        weight = round(random.uniform(1.0, 10.0), 2)  # Random weight between 1.0 and 10.0\n",
    "        G.add_edge(u, v, weight=weight)"
   ]
  },
  {
   "cell_type": "code",
   "execution_count": 14,
   "metadata": {},
   "outputs": [
    {
     "data": {
      "text/plain": [
       "{3: 2,\n",
       " 15: 2,\n",
       " 17: 2,\n",
       " 18: 2,\n",
       " 10: 17,\n",
       " 1: 17,\n",
       " 14: 1,\n",
       " 5: 10,\n",
       " 11: 10,\n",
       " 4: 11,\n",
       " 19: 4,\n",
       " 12: 19,\n",
       " 16: 3,\n",
       " 20: 3,\n",
       " 2: 20}"
      ]
     },
     "execution_count": 14,
     "metadata": {},
     "output_type": "execute_result"
    }
   ],
   "source": [
    "dfs_search(G, 2)"
   ]
  },
  {
   "cell_type": "code",
   "execution_count": 15,
   "metadata": {},
   "outputs": [
    {
     "data": {
      "text/plain": [
       "(10, 'A')"
      ]
     },
     "execution_count": 15,
     "metadata": {},
     "output_type": "execute_result"
    }
   ],
   "source": [
    "import heapq\n",
    "\n",
    "pq = []\n",
    "heapq.heappush(pq, (50, 'Z'))\n",
    "heapq.heappush(pq, (20, 'B'))\n",
    "heapq.heappush(pq, (10, 'A'))\n",
    "\n",
    "heapq.heappop(pq)"
   ]
  },
  {
   "cell_type": "code",
   "execution_count": 16,
   "metadata": {},
   "outputs": [],
   "source": [
    "import heapq\n",
    "\n",
    "class PQUpdate:\n",
    "    def __init__(self) -> None:\n",
    "        self.heap = []\n",
    "        self.newest_values = {}\n",
    "        \n",
    "    def is_empty(self):\n",
    "        return len(self.heap) <= 0\n",
    "        \n",
    "    def push(self, priority, value):\n",
    "        '''\n",
    "        Pushing a value already present will update newest_values, so the old couple (priority, value) won't be popped.\n",
    "        '''\n",
    "        self.newest_values[value] = priority\n",
    "        heapq.heappush(self.heap, (priority, value))\n",
    "    \n",
    "    def pop(self):\n",
    "        ''' \n",
    "        Pop and return the value with the lest priority. If the (priority, value) is not present in newest_values, it'll continue to pop.\n",
    "        '''\n",
    "        while not self.is_empty():\n",
    "            priority, value = heapq.heappop(self.heap)\n",
    "            \n",
    "            if priority == self.newest_values[value]:\n",
    "                #del self.newest_values[value]\n",
    "                return (priority, value)\n",
    "            \n",
    "\n",
    "def reconstruct_path(predecessors, target):\n",
    "    \"\"\"\n",
    "    Reconstruct the shortest path from the target node back to the source.\n",
    "    \"\"\"\n",
    "    path = []\n",
    "    while target in predecessors:\n",
    "        path.append(target)\n",
    "        target = predecessors[target] # Go to the predecessor\n",
    "    return path[::-1] # Reverse to get the path from source to target\n",
    "\n",
    "\n",
    "def dijkstra(graph, src, target):\n",
    "    \n",
    "    distances = {src: 0}\n",
    "    predecessors = {}\n",
    "    heap = PQUpdate()\n",
    "    heap.push(0, src)\n",
    "    \n",
    "    while not heap.is_empty():\n",
    "        prev_distance, node = heap.pop()\n",
    "        \n",
    "        if node == target:\n",
    "            path = reconstruct_path(predecessors, target)\n",
    "            return [src] + path, distances[target]\n",
    "        \n",
    "        for successor in graph.successors(node):\n",
    "            curr_distance = graph[node][successor]['weight']\n",
    "            tot_distance = prev_distance + curr_distance\n",
    "            \n",
    "            if successor not in distances:\n",
    "                # keeps track of the distance and the parent node\n",
    "                distances[successor] = tot_distance\n",
    "                predecessors[successor] = node\n",
    "                # push the successor into the heap\n",
    "                heap.push(tot_distance, successor)\n",
    "            \n",
    "            \n",
    "            elif distances[successor] > tot_distance:\n",
    "                \n",
    "                distances[successor] = tot_distance\n",
    "                predecessors[successor] = node\n",
    "                heap.push(tot_distance, successor)\n",
    "    \n",
    "    return None"
   ]
  },
  {
   "cell_type": "code",
   "execution_count": 17,
   "metadata": {},
   "outputs": [
    {
     "data": {
      "text/plain": [
       "([2, 17, 10, 11], 14.899999999999999)"
      ]
     },
     "execution_count": 17,
     "metadata": {},
     "output_type": "execute_result"
    }
   ],
   "source": [
    "dijkstra(G, 2, 11)"
   ]
  },
  {
   "cell_type": "code",
   "execution_count": 18,
   "metadata": {},
   "outputs": [
    {
     "data": {
      "text/plain": [
       "{18: 2,\n",
       " 10: 17,\n",
       " 17: 2,\n",
       " 1: 20,\n",
       " 14: 1,\n",
       " 5: 10,\n",
       " 15: 2,\n",
       " 12: 20,\n",
       " 11: 20,\n",
       " 19: 4,\n",
       " 4: 11,\n",
       " 16: 3,\n",
       " 2: 20,\n",
       " 20: 3,\n",
       " 3: 2}"
      ]
     },
     "execution_count": 18,
     "metadata": {},
     "output_type": "execute_result"
    }
   ],
   "source": [
    "def dfs_recoursive(graph, src):\n",
    "    visited = set()\n",
    "    node_from = {}\n",
    "    \n",
    "    def dfs_r(node):\n",
    "        if node in visited:\n",
    "            return\n",
    "        \n",
    "        visited.add(node)\n",
    "        for successor in graph.successors(node):\n",
    "            dfs_r(successor)\n",
    "            node_from[successor] = node\n",
    "    \n",
    "    dfs_r(src)\n",
    "    \n",
    "    return node_from\n",
    "\n",
    "dfs_recoursive(G, 2)"
   ]
  },
  {
   "cell_type": "code",
   "execution_count": 19,
   "metadata": {},
   "outputs": [
    {
     "name": "stdout",
     "output_type": "stream",
     "text": [
      "17\n",
      "2\n"
     ]
    }
   ],
   "source": [
    "def gen_nodes(node_from, src, target):\n",
    "    if not target in node_from:\n",
    "        raise ValueError('Unreachable')\n",
    "    \n",
    "    def r_gen_nodes(node):\n",
    "        if node == target:\n",
    "            yield node\n",
    "            return\n",
    "        \n",
    "        yield node\n",
    "        yield from r_gen_nodes(node_from[node])\n",
    "    \n",
    "    yield from r_gen_nodes(src)\n",
    "\n",
    "node_from = dfs_recoursive(G, 2)\n",
    "for node in gen_nodes(node_from, 17, 2):\n",
    "    print(node)"
   ]
  },
  {
   "cell_type": "code",
   "execution_count": 20,
   "metadata": {},
   "outputs": [
    {
     "data": {
      "text/plain": [
       "[2, 4, 3]"
      ]
     },
     "execution_count": 20,
     "metadata": {},
     "output_type": "execute_result"
    }
   ],
   "source": [
    "g_cycle = nx.DiGraph()\n",
    "g_cycle.add_edges_from([(1,2), (2,3), (1,3), (4,2), (3,4)])\n",
    "\n",
    "\n",
    "def has_cycle(graph):\n",
    "    \n",
    "    first_node_of_cycle = None\n",
    "    \n",
    "    def dfs(node, temp_seen, perm_seen):\n",
    "        nonlocal first_node_of_cycle\n",
    "        if node in perm_seen:\n",
    "            return False\n",
    "        if node in temp_seen:\n",
    "            cycle.append(node)\n",
    "            first_node_of_cycle = node\n",
    "            return True\n",
    "        \n",
    "        temp_seen.add(node)\n",
    "        for successor in graph.successors(node):\n",
    "            if dfs(successor, temp_seen, perm_seen):\n",
    "                \n",
    "                if first_node_of_cycle and first_node_of_cycle != node:\n",
    "                    cycle.append(node)\n",
    "                elif first_node_of_cycle and first_node_of_cycle == node:\n",
    "                    first_node_of_cycle = None\n",
    "                return True\n",
    "        \n",
    "        temp_seen.remove(node)\n",
    "        perm_seen.add(node)\n",
    "        return False\n",
    "    \n",
    "    temp_seen = set()\n",
    "    perm_seen = set()\n",
    "    cycle = []\n",
    "    for node in graph.nodes():\n",
    "        if node not in perm_seen:\n",
    "            if dfs(node, temp_seen, perm_seen):\n",
    "                return cycle\n",
    "    \n",
    "    return False\n",
    "                \n",
    "has_cycle(g_cycle)"
   ]
  },
  {
   "cell_type": "code",
   "execution_count": 1,
   "metadata": {},
   "outputs": [],
   "source": [
    "import geopandas as gpd\n",
    "\n",
    "shapefile_path = r\"EOTMAJROADS_ARC\\EOTMAJROADS_ARC.shp\"\n",
    "roads = gpd.read_file(shapefile_path)"
   ]
  },
  {
   "cell_type": "code",
   "execution_count": 2,
   "metadata": {},
   "outputs": [
    {
     "data": {
      "text/plain": [
       "22099    LINESTRING (229767.768 901426.514, 229769.59 9...\n",
       "Name: geometry, dtype: geometry"
      ]
     },
     "execution_count": 2,
     "metadata": {},
     "output_type": "execute_result"
    }
   ],
   "source": [
    "roads.tail(1)['geometry']"
   ]
  },
  {
   "cell_type": "code",
   "execution_count": 39,
   "metadata": {},
   "outputs": [],
   "source": [
    "G = nx.DiGraph()\n",
    "\n",
    "# Add edges to the graph\n",
    "for _, row in roads.iterrows():\n",
    "    geometry = row.geometry\n",
    "    \n",
    "    # Ensure the geometry is valid and is a LineString\n",
    "    if geometry and geometry.geom_type == \"LineString\":\n",
    "        coords = list(geometry.coords)\n",
    "        \n",
    "        # Add edges between consecutive points in the LineString\n",
    "        for i in range(len(coords) - 1):\n",
    "            start = coords[i]\n",
    "            end = coords[i + 1]\n",
    "            \n",
    "            # Use SHAPE_LEN or calculate distance as weight\n",
    "            G.add_edge(\n",
    "                start,\n",
    "                end,\n",
    "                length=row.SHAPE_LEN,\n",
    "                street_name=row.STREET_NAM,  # Add street name as an attribute\n",
    "                attributes=row.to_dict()    # Store additional attributes\n",
    "            )"
   ]
  },
  {
   "cell_type": "code",
   "execution_count": 41,
   "metadata": {},
   "outputs": [
    {
     "name": "stdout",
     "output_type": "stream",
     "text": [
      "(225071.875, 900529.4373999983)\n",
      "(225042.1093999967, 900560.3126000017)\n",
      "(225035.41009999812, 900567.4816999994)\n",
      "(224999.9998999983, 900605.3751999997)\n",
      "(224971.375, 900634.125)\n"
     ]
    }
   ],
   "source": [
    "i = 0\n",
    "for node in G.nodes():\n",
    "    i +=1\n",
    "    \n",
    "    if i > 5:\n",
    "        break\n",
    "    \n",
    "    print(node)"
   ]
  },
  {
   "cell_type": "code",
   "execution_count": 42,
   "metadata": {},
   "outputs": [
    {
     "data": {
      "text/plain": [
       "[(225071.875, 900529.4373999983),\n",
       " (225042.1093999967, 900560.3126000017),\n",
       " (225035.41009999812, 900567.4816999994),\n",
       " (224999.9998999983, 900605.3751999997),\n",
       " (224971.375, 900634.125)]"
      ]
     },
     "execution_count": 42,
     "metadata": {},
     "output_type": "execute_result"
    }
   ],
   "source": [
    "source = (225071.875, 900529.4373999983)\n",
    "target = (224971.375, 900634.125)\n",
    "\n",
    "nx.shortest_path(G, source, target, weight='length')"
   ]
  }
 ],
 "metadata": {
  "kernelspec": {
   "display_name": "py_dsa",
   "language": "python",
   "name": "python3"
  },
  "language_info": {
   "codemirror_mode": {
    "name": "ipython",
    "version": 3
   },
   "file_extension": ".py",
   "mimetype": "text/x-python",
   "name": "python",
   "nbconvert_exporter": "python",
   "pygments_lexer": "ipython3",
   "version": "3.9.20"
  }
 },
 "nbformat": 4,
 "nbformat_minor": 2
}
