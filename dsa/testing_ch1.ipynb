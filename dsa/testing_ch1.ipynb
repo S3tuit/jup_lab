{
 "cells": [
  {
   "cell_type": "code",
   "execution_count": 13,
   "metadata": {},
   "outputs": [
    {
     "name": "stdout",
     "output_type": "stream",
     "text": [
      "word:   +++ -- res: True\n",
      "word: mamma -- res: False\n",
      "word: ,,, M, .    ++ m-- -- res: True\n",
      "word: pliilp -- res: True\n",
      "word:  -- res: True\n"
     ]
    }
   ],
   "source": [
    "def is_palindrome(word):\n",
    "    i = 0\n",
    "    j = len(word)-1\n",
    "    \n",
    "    while i <= j:\n",
    "        while not word[i].isalpha():\n",
    "            if i == j:\n",
    "                break\n",
    "            i += 1\n",
    "        \n",
    "        while not word[j].isalpha():\n",
    "            if i == j:\n",
    "                break\n",
    "            j -= 1\n",
    "        \n",
    "        if word[i].lower() != word[j].lower():\n",
    "            return False\n",
    "        i += 1\n",
    "        j -= 1\n",
    "    \n",
    "    return True\n",
    "\n",
    "\n",
    "\n",
    "test1='  +++'\n",
    "test2='mamma'\n",
    "test3=',,, M, .    ++ m--'\n",
    "test4='pliilp'\n",
    "test5=''\n",
    "\n",
    "for test in [test1, test2, test3, test4, test5]:\n",
    "    print(f'word: {test} -- res: {is_palindrome(test)}')"
   ]
  },
  {
   "cell_type": "code",
   "execution_count": 16,
   "metadata": {},
   "outputs": [
    {
     "data": {
      "text/plain": [
       "5"
      ]
     },
     "execution_count": 16,
     "metadata": {},
     "output_type": "execute_result"
    }
   ],
   "source": [
    "def partition(A, lo, hi, idx):\n",
    "    \"\"\"\n",
    "    Partition using A[idx] as value. Note lo and hi are INCLUSIVE on both\n",
    "    ends and idx must be valid index. Count the number of comparisons\n",
    "    by populating A with RecordedItem instances.\n",
    "    \"\"\"\n",
    "    if lo == hi:\n",
    "        return lo\n",
    "\n",
    "    A[idx],A[lo] = A[lo],A[idx]    # swap into position\n",
    "    i = lo\n",
    "    j = hi + 1\n",
    "    while True:\n",
    "        while True:\n",
    "            i += 1\n",
    "            if i == hi: break\n",
    "            if A[lo] < A[i]: break\n",
    "\n",
    "        while True:\n",
    "            j -= 1\n",
    "            if j == lo: break\n",
    "            if A[j] < A[lo]: break\n",
    "\n",
    "        # doesn't count as comparing two values\n",
    "        if i >= j: break\n",
    "\n",
    "        A[i],A[j] = A[j],A[i]\n",
    "\n",
    "    A[lo],A[j] = A[j],A[lo]\n",
    "    return j\n",
    "\n",
    "def linear_median(A):\n",
    "    \"\"\"\n",
    "    Efficient implementation that returns median value in arbitrary list,\n",
    "    assuming A has an odd number of values. Note this algorithm will\n",
    "    rearrange values in A.\n",
    "    \"\"\"\n",
    "#     if len(A) % 2 == 0:\n",
    "#         raise ValueError('linear_median() only coded to work with odd number of values.')\n",
    "    lo = 0\n",
    "    hi = len(A) - 1\n",
    "    mid = hi // 2\n",
    "    while lo < hi:\n",
    "        idx = (lo + hi) // 2     # select valid index\n",
    "        j = partition(A, lo, hi, idx)\n",
    "\n",
    "        if j == mid:\n",
    "            return A[j]\n",
    "        if j < mid:\n",
    "            lo = j+1\n",
    "        else:\n",
    "            hi = j-1\n",
    "    return A[lo]\n",
    "\n",
    "\n",
    "nums = [1,2,3,4,5,6,7,8,9,99]\n",
    "\n",
    "linear_median(nums[::-1])"
   ]
  },
  {
   "cell_type": "code",
   "execution_count": 35,
   "metadata": {},
   "outputs": [
    {
     "name": "stdout",
     "output_type": "stream",
     "text": [
      "Algorithm 1: 0.641362 seconds\n",
      "Algorithm 2: 0.010063 seconds\n",
      "Algorithm 3: 0.592621 seconds\n"
     ]
    }
   ],
   "source": [
    "import timeit\n",
    "\n",
    "\n",
    "def run_tests():\n",
    "    word_list = [\"radar\", 'radar'*10, 'radar'*100, 'radar'*1000, 'radar'*1000000] # large dataset for testing\n",
    "\n",
    "    # Time each function, include 'word_list' in globals() for access\n",
    "    time1 = timeit.timeit(stmt='[is_palindrome(word) for word in word_list]', globals={'is_palindrome': is_palindrome, 'word_list': word_list}, number=3)\n",
    "    time2 = timeit.timeit(stmt='[is_palindrome2(word) for word in word_list]', globals={'is_palindrome2': is_palindrome2, 'word_list': word_list}, number=3)\n",
    "    time3 = timeit.timeit(stmt='[is_palindrome3(word) for word in word_list]', globals={'is_palindrome3': is_palindrome3, 'word_list': word_list}, number=3)\n",
    "\n",
    "    print(f\"Algorithm 1: {time1:.6f} seconds\")\n",
    "    print(f\"Algorithm 2: {time2:.6f} seconds\")\n",
    "    print(f\"Algorithm 3: {time3:.6f} seconds\")\n",
    "\n",
    "# Run the tests\n",
    "run_tests()"
   ]
  }
 ],
 "metadata": {
  "kernelspec": {
   "display_name": "py_dsa",
   "language": "python",
   "name": "python3"
  },
  "language_info": {
   "codemirror_mode": {
    "name": "ipython",
    "version": 3
   },
   "file_extension": ".py",
   "mimetype": "text/x-python",
   "name": "python",
   "nbconvert_exporter": "python",
   "pygments_lexer": "ipython3",
   "version": "3.9.20"
  }
 },
 "nbformat": 4,
 "nbformat_minor": 2
}
