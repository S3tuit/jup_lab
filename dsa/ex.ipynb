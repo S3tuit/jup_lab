{
 "cells": [
  {
   "cell_type": "code",
   "execution_count": null,
   "metadata": {},
   "outputs": [],
   "source": [
    "# libraries used, __iter__ and __next__, memoization"
   ]
  },
  {
   "cell_type": "code",
   "execution_count": 6,
   "metadata": {},
   "outputs": [],
   "source": [
    "class Node:\n",
    "    \"\"\"A class representing a single node in a stack.\"\"\"\n",
    "    def __init__(self, value, next=None):\n",
    "        self.val = value\n",
    "        self.next = next\n",
    "\n",
    "class Stack:\n",
    "    \"\"\"A stack implementation using a linked list.\"\"\"\n",
    "    def __init__(self):\n",
    "        self.length = 0\n",
    "        self.top = None\n",
    "\n",
    "    def is_empty(self):\n",
    "        \"\"\"Check if the stack is empty.\"\"\"\n",
    "        return self.length == 0\n",
    "\n",
    "    def push(self, value):\n",
    "        \"\"\"Push a value onto the stack.\"\"\"\n",
    "        self.top = Node(value, self.top)\n",
    "        self.length += 1\n",
    "        return value\n",
    "\n",
    "    def pop(self):\n",
    "        \"\"\"Pop the top value from the stack.\"\"\"\n",
    "        if self.is_empty():\n",
    "            raise ValueError('The stack is empty and cannot be popped.')\n",
    "        \n",
    "        val_to_return = self.top.val\n",
    "        self.top = self.top.next\n",
    "        self.length -= 1\n",
    "        return val_to_return\n",
    "\n",
    "    def peek(self):\n",
    "        \"\"\"View the top value without removing it.\"\"\"\n",
    "        if self.is_empty():\n",
    "            raise ValueError('The stack is empty, nothing to peek.')\n",
    "        return self.top.val"
   ]
  },
  {
   "cell_type": "code",
   "execution_count": 7,
   "metadata": {},
   "outputs": [
    {
     "data": {
      "text/plain": [
       "4"
      ]
     },
     "execution_count": 7,
     "metadata": {},
     "output_type": "execute_result"
    }
   ],
   "source": [
    "stack = Stack()\n",
    "stack.push(3)\n",
    "stack.push(4)\n"
   ]
  },
  {
   "cell_type": "code",
   "execution_count": 8,
   "metadata": {},
   "outputs": [
    {
     "name": "stdout",
     "output_type": "stream",
     "text": [
      "21\n",
      "34\n",
      "55\n",
      "89\n"
     ]
    }
   ],
   "source": [
    "def mFib(n,M):\n",
    "    if n==0 or n==1:\n",
    "        return 1\n",
    "    if M[n-1] is None:\n",
    "        l=mFib(n-1,M)\n",
    "        M[n-1]=l\n",
    "    else:\n",
    "        l=M[n-1]\n",
    "\n",
    "    if M[n-2] is None:\n",
    "        p=mFib(n-2,M)\n",
    "        M[n-2]=p\n",
    "    else:\n",
    "        p=M[n-2]\n",
    "      \n",
    "    return l+p\n",
    "\n",
    "for i in range(7,11):\n",
    "    m=mFib(i,[None]*i)\n",
    "    print(m)"
   ]
  },
  {
   "cell_type": "code",
   "execution_count": 21,
   "metadata": {},
   "outputs": [],
   "source": [
    "vals={\"a\": 5}\n",
    "expression=\"4 3 + a 1 * 0 + 0 + 7 / 4 + 1 /\"\n",
    "\n",
    "\n",
    "def helper_eval(nums, oeprator):\n",
    "    if oeprator == '+':\n",
    "        return nums[0] + nums[1]\n",
    "    \n",
    "    if oeprator == '-':\n",
    "        return nums[0] - nums[1]\n",
    "\n",
    "    if oeprator == '*':\n",
    "        return nums[0] * nums[1]\n",
    "\n",
    "    if oeprator == '/':\n",
    "        return nums[0] / nums[1]\n",
    "\n",
    "\n",
    "def eval_exp(exp):\n",
    "    stack = Stack()\n",
    "    operators = {'+', '-', '*', '/'}\n",
    "    \n",
    "    for val in exp.split():\n",
    "        if val not in operators:\n",
    "            stack.push(int(val))\n",
    "            continue\n",
    "        \n",
    "        result = stack.pop()\n",
    "        while not stack.is_empty():\n",
    "            res = stack.pop()\n",
    "            result = helper_eval((res, result), val)\n",
    "            \n",
    "        stack.push(result)\n",
    "    \n",
    "    return stack.pop()"
   ]
  },
  {
   "cell_type": "code",
   "execution_count": 22,
   "metadata": {},
   "outputs": [
    {
     "name": "stdout",
     "output_type": "stream",
     "text": [
      "4 3 + 1 * 0 + 0 + 7 / 4 + 1 / = 5.0\n",
      "4 3 + 1 * 0 + 0 + 7 / 4 + 1 / = 5.0\n"
     ]
    }
   ],
   "source": [
    "def valutaPost(e):\n",
    "    tks=e.split()\n",
    "    s=Stack()\n",
    "    for tk in tks:\n",
    "        if tk in \"+-*/\":\n",
    "            a=s.pop()\n",
    "            b=s.pop()\n",
    "            if tk == \"+\":\n",
    "                s.push(a+b)\n",
    "            elif tk == \"*\":\n",
    "                s.push(a*b)\n",
    "            elif tk == \"-\":\n",
    "                s.push(b-a)\n",
    "            else:\n",
    "                s.push(b/a)\n",
    "        else:\n",
    "            s.push(int(tk))\n",
    "    return s.pop()    \n",
    "\n",
    "\n",
    "\n",
    "vals={\"a\": 5}\n",
    "e=\"4 3 + 1 * 0 + 0 + 7 / 4 + 1 /\"\n",
    "print(e,\"=\",valutaPost(e))\n",
    "print(e,\"=\",eval_exp(e))"
   ]
  },
  {
   "cell_type": "code",
   "execution_count": null,
   "metadata": {},
   "outputs": [
    {
     "data": {
      "text/plain": [
       "14"
      ]
     },
     "execution_count": 26,
     "metadata": {},
     "output_type": "execute_result"
    }
   ],
   "source": [
    "def gcd(x, y):\n",
    "    pass\n",
    "\n",
    "def helper_gcd(greater, smaller):\n",
    "    if smaller == greater:\n",
    "        return smaller\n",
    "    \n",
    "    elif smaller == 0:\n",
    "        return greater\n",
    "    \n",
    "    else:\n",
    "        return helper_gcd(smaller, greater%smaller)\n",
    "    \n",
    "helper_gcd(42, 14)"
   ]
  }
 ],
 "metadata": {
  "kernelspec": {
   "display_name": "py_dsa",
   "language": "python",
   "name": "python3"
  },
  "language_info": {
   "codemirror_mode": {
    "name": "ipython",
    "version": 3
   },
   "file_extension": ".py",
   "mimetype": "text/x-python",
   "name": "python",
   "nbconvert_exporter": "python",
   "pygments_lexer": "ipython3",
   "version": "3.9.20"
  }
 },
 "nbformat": 4,
 "nbformat_minor": 2
}
