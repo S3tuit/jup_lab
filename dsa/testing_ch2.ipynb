{
 "cells": [
  {
   "cell_type": "code",
   "execution_count": 1,
   "metadata": {},
   "outputs": [],
   "source": [
    "import numpy as np\n",
    "from scipy.optimize import curve_fit"
   ]
  },
  {
   "cell_type": "code",
   "execution_count": 2,
   "metadata": {},
   "outputs": [
    {
     "name": "stdout",
     "output_type": "stream",
     "text": [
      "Linear = 0.0005957207206208581 * N + -0.012833332413134054\n"
     ]
    }
   ],
   "source": [
    "def linear_model(n, a, b):\n",
    "    return a*n + b\n",
    "\n",
    "xs = [100, 1_000, 10_000]\n",
    "ys = [0.063, 0.565, 5.946]\n",
    "\n",
    "[(a, b), _] = curve_fit(linear_model, np.array(xs), np.array(ys))\n",
    "print(f'Linear = {a} * N + {b}')"
   ]
  },
  {
   "cell_type": "code",
   "execution_count": 37,
   "metadata": {},
   "outputs": [
    {
     "name": "stdout",
     "output_type": "stream",
     "text": [
      "bsearch time: 2.456797799999549 seconds\n",
      "bsearch2 time: 2.228270800000246 seconds\n"
     ]
    }
   ],
   "source": [
    "def bsearch(sorted_array, target):\n",
    "    low = 0\n",
    "    high = len(sorted_array) - 1\n",
    "\n",
    "    while low <= high:\n",
    "        mid = (low + high) // 2\n",
    "    \n",
    "        if target < sorted_array[mid]:\n",
    "            high = mid - 1\n",
    "        elif target > sorted_array[mid]:\n",
    "            low = mid + 1\n",
    "        else:\n",
    "            return mid\n",
    "    return -(low + 1)\n",
    "\n",
    "\n",
    "def bsearch2(sorted_array, target):\n",
    "    low = 0\n",
    "    high = len(sorted_array) - 1\n",
    "\n",
    "    while low <= high:\n",
    "        mid = (low + high) // 2\n",
    "        diff = target - sorted_array[mid]\n",
    "    \n",
    "        if diff < 0:\n",
    "            high = mid -1\n",
    "        elif diff > 0:\n",
    "            low = mid + 1\n",
    "        else:\n",
    "            return mid\n",
    "    return -(low + 1)\n",
    "\n",
    "import timeit\n",
    "\n",
    "\n",
    "# Test setup for timeit\n",
    "def test_bsearch():\n",
    "    sorted_array = list(range(1000000))  # A sorted list of 1 million integers\n",
    "    target = 999999                      # Target to search for (last element)\n",
    "    bsearch(sorted_array, target)\n",
    "\n",
    "def test_bsearch2():\n",
    "    sorted_array = list(range(1000000))  # A sorted list of 1 million integers\n",
    "    target = 999999                      # Target to search for (last element)\n",
    "    bsearch2(sorted_array, target)\n",
    "\n",
    "# Run the timeit tests\n",
    "bsearch_time = timeit.timeit(\"test_bsearch()\", setup=\"from __main__ import test_bsearch\", number=100)\n",
    "bsearch2_time = timeit.timeit(\"test_bsearch2()\", setup=\"from __main__ import test_bsearch2\", number=100)\n",
    "\n",
    "print(f\"bsearch time: {bsearch_time} seconds\")\n",
    "print(f\"bsearch2 time: {bsearch2_time} seconds\")"
   ]
  },
  {
   "cell_type": "code",
   "execution_count": 33,
   "metadata": {},
   "outputs": [
    {
     "data": {
      "text/plain": [
       "-2"
      ]
     },
     "execution_count": 33,
     "metadata": {},
     "output_type": "execute_result"
    }
   ],
   "source": [
    "bsearch([1,2,3,4,5,6,7], 1.1)"
   ]
  },
  {
   "cell_type": "code",
   "execution_count": 68,
   "metadata": {},
   "outputs": [],
   "source": [
    "def f4(N):\n",
    "    ct = 1\n",
    "    \n",
    "    while N >= 2:\n",
    "        ct=ct+1\n",
    "        N=N**0.5\n",
    "    \n",
    "    return ct\n",
    "\n",
    "vectorized_f4 = np.vectorize(f4)\n",
    "\n",
    "array_n = 2 ** np.arange(2, 51)\n",
    "array_result = vectorized_f4(array_n)"
   ]
  },
  {
   "cell_type": "code",
   "execution_count": 69,
   "metadata": {},
   "outputs": [],
   "source": [
    "def model(N, a):\n",
    "    return a * (np.log2(np.log2(N)))\n",
    "\n",
    "popt, pcov = curve_fit(model, array_n, array_result)"
   ]
  },
  {
   "cell_type": "code",
   "execution_count": 70,
   "metadata": {},
   "outputs": [
    {
     "data": {
      "text/plain": [
       "(array([1.33388173]), array([[0.00026552]]))"
      ]
     },
     "execution_count": 70,
     "metadata": {},
     "output_type": "execute_result"
    }
   ],
   "source": [
    "popt, pcov"
   ]
  },
  {
   "cell_type": "code",
   "execution_count": null,
   "metadata": {},
   "outputs": [],
   "source": []
  },
  {
   "cell_type": "code",
   "execution_count": 97,
   "metadata": {},
   "outputs": [],
   "source": [
    "from itertools import permutations\n",
    "from scipy.special import factorial\n",
    "\n",
    "def factorial_model(n, a):\n",
    "    return a*factorial(n)\n",
    "\n",
    "def check_sorted(a):\n",
    "    for i, val in enumerate(a):\n",
    "        if i > 0 and val < a[i-1]:\n",
    "            return False\n",
    "    return True\n",
    "\n",
    "def permutation_sort(A):\n",
    "    for attempt in permutations(A):\n",
    "        if check_sorted(attempt):\n",
    "            A[:] = attempt[:]\n",
    "            \n",
    "            return A\n",
    "        "
   ]
  },
  {
   "cell_type": "code",
   "execution_count": 98,
   "metadata": {},
   "outputs": [
    {
     "data": {
      "text/plain": [
       "[-1, 0, 1, 2, 3, 4, 5, 6, 7, 8]"
      ]
     },
     "execution_count": 98,
     "metadata": {},
     "output_type": "execute_result"
    }
   ],
   "source": [
    "nums = [8, 7, 6, 5, 4, 3, 2, 1, 0, -1]\n",
    "permutation_sort(nums)"
   ]
  },
  {
   "cell_type": "code",
   "execution_count": 100,
   "metadata": {},
   "outputs": [
    {
     "name": "stdout",
     "output_type": "stream",
     "text": [
      "[array([1]) array([2, 1]) array([3, 2, 1]) array([4, 3, 2, 1])\n",
      " array([5, 4, 3, 2, 1]) array([6, 5, 4, 3, 2, 1])\n",
      " array([7, 6, 5, 4, 3, 2, 1]) array([8, 7, 6, 5, 4, 3, 2, 1])\n",
      " array([9, 8, 7, 6, 5, 4, 3, 2, 1])\n",
      " array([10,  9,  8,  7,  6,  5,  4,  3,  2,  1])\n",
      " array([11, 10,  9,  8,  7,  6,  5,  4,  3,  2,  1])]\n"
     ]
    }
   ],
   "source": [
    "array_nums_list = []\n",
    "\n",
    "for i in range(1, 12):\n",
    "    array_nums_list.append(np.arange(i, 0, -1))\n",
    "\n",
    "array_nums = np.array(array_nums_list, dtype=object)\n",
    "\n",
    "print(array_nums)"
   ]
  },
  {
   "cell_type": "code",
   "execution_count": 103,
   "metadata": {},
   "outputs": [
    {
     "name": "stdout",
     "output_type": "stream",
     "text": [
      "[0.0, 0.0, 0.0, 0.0, 0.0, 0.0, 0.0008950233459472656, 0.016147136688232422, 0.13187098503112793, 1.4264640808105469, 15.347145318984985]\n"
     ]
    }
   ],
   "source": [
    "import time\n",
    "\n",
    "results = []\n",
    "\n",
    "for a in array_nums:\n",
    "    start_time = time.time()\n",
    "    permutation_sort(a)       \n",
    "    elapsed_time = time.time() - start_time\n",
    "    \n",
    "    results.append(elapsed_time)\n",
    "\n",
    "print(results)"
   ]
  },
  {
   "cell_type": "code",
   "execution_count": 107,
   "metadata": {},
   "outputs": [],
   "source": [
    "a_list, _ = curve_fit(factorial_model, np.arange(1, 12), np.array(results))"
   ]
  },
  {
   "cell_type": "code",
   "execution_count": 109,
   "metadata": {},
   "outputs": [],
   "source": [
    "a = a_list[0]"
   ]
  },
  {
   "cell_type": "code",
   "execution_count": 114,
   "metadata": {},
   "outputs": [
    {
     "data": {
      "text/plain": [
       "np.float64(29666.596769544405)"
      ]
     },
     "execution_count": 114,
     "metadata": {},
     "output_type": "execute_result"
    }
   ],
   "source": [
    "(a * factorial(20)) / 60 / 60 / 24 / 365"
   ]
  },
  {
   "cell_type": "code",
   "execution_count": null,
   "metadata": {},
   "outputs": [],
   "source": []
  },
  {
   "cell_type": "code",
   "execution_count": null,
   "metadata": {},
   "outputs": [],
   "source": []
  }
 ],
 "metadata": {
  "kernelspec": {
   "display_name": "py_dsa",
   "language": "python",
   "name": "python3"
  },
  "language_info": {
   "codemirror_mode": {
    "name": "ipython",
    "version": 3
   },
   "file_extension": ".py",
   "mimetype": "text/x-python",
   "name": "python",
   "nbconvert_exporter": "python",
   "pygments_lexer": "ipython3",
   "version": "3.9.20"
  }
 },
 "nbformat": 4,
 "nbformat_minor": 2
}
