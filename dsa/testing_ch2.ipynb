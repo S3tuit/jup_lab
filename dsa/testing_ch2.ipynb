{
 "cells": [
  {
   "cell_type": "code",
   "execution_count": 1,
   "metadata": {},
   "outputs": [],
   "source": [
    "import numpy as np\n",
    "from scipy.optimize import curve_fit"
   ]
  },
  {
   "cell_type": "code",
   "execution_count": 2,
   "metadata": {},
   "outputs": [
    {
     "name": "stdout",
     "output_type": "stream",
     "text": [
      "Linear = 0.0005957207206208581 * N + -0.012833332413134054\n"
     ]
    }
   ],
   "source": [
    "def linear_model(n, a, b):\n",
    "    return a*n + b\n",
    "\n",
    "xs = [100, 1_000, 10_000]\n",
    "ys = [0.063, 0.565, 5.946]\n",
    "\n",
    "[(a, b), _] = curve_fit(linear_model, np.array(xs), np.array(ys))\n",
    "print(f'Linear = {a} * N + {b}')"
   ]
  },
  {
   "cell_type": "code",
   "execution_count": 37,
   "metadata": {},
   "outputs": [
    {
     "name": "stdout",
     "output_type": "stream",
     "text": [
      "bsearch time: 2.456797799999549 seconds\n",
      "bsearch2 time: 2.228270800000246 seconds\n"
     ]
    }
   ],
   "source": [
    "def bsearch(sorted_array, target):\n",
    "    low = 0\n",
    "    high = len(sorted_array) - 1\n",
    "\n",
    "    while low <= high:\n",
    "        mid = (low + high) // 2\n",
    "    \n",
    "        if target < sorted_array[mid]:\n",
    "            high = mid - 1\n",
    "        elif target > sorted_array[mid]:\n",
    "            low = mid + 1\n",
    "        else:\n",
    "            return mid\n",
    "    return -(low + 1)\n",
    "\n",
    "\n",
    "def bsearch2(sorted_array, target):\n",
    "    low = 0\n",
    "    high = len(sorted_array) - 1\n",
    "\n",
    "    while low <= high:\n",
    "        mid = (low + high) // 2\n",
    "        diff = target - sorted_array[mid]\n",
    "    \n",
    "        if diff < 0:\n",
    "            high = mid -1\n",
    "        elif diff > 0:\n",
    "            low = mid + 1\n",
    "        else:\n",
    "            return mid\n",
    "    return -(low + 1)\n",
    "\n",
    "import timeit\n",
    "\n",
    "\n",
    "# Test setup for timeit\n",
    "def test_bsearch():\n",
    "    sorted_array = list(range(1000000))  # A sorted list of 1 million integers\n",
    "    target = 999999                      # Target to search for (last element)\n",
    "    bsearch(sorted_array, target)\n",
    "\n",
    "def test_bsearch2():\n",
    "    sorted_array = list(range(1000000))  # A sorted list of 1 million integers\n",
    "    target = 999999                      # Target to search for (last element)\n",
    "    bsearch2(sorted_array, target)\n",
    "\n",
    "# Run the timeit tests\n",
    "bsearch_time = timeit.timeit(\"test_bsearch()\", setup=\"from __main__ import test_bsearch\", number=100)\n",
    "bsearch2_time = timeit.timeit(\"test_bsearch2()\", setup=\"from __main__ import test_bsearch2\", number=100)\n",
    "\n",
    "print(f\"bsearch time: {bsearch_time} seconds\")\n",
    "print(f\"bsearch2 time: {bsearch2_time} seconds\")"
   ]
  },
  {
   "cell_type": "code",
   "execution_count": 33,
   "metadata": {},
   "outputs": [
    {
     "data": {
      "text/plain": [
       "-2"
      ]
     },
     "execution_count": 33,
     "metadata": {},
     "output_type": "execute_result"
    }
   ],
   "source": [
    "bsearch([1,2,3,4,5,6,7], 1.1)"
   ]
  },
  {
   "cell_type": "code",
   "execution_count": 68,
   "metadata": {},
   "outputs": [],
   "source": [
    "def f4(N):\n",
    "    ct = 1\n",
    "    \n",
    "    while N >= 2:\n",
    "        ct=ct+1\n",
    "        N=N**0.5\n",
    "    \n",
    "    return ct\n",
    "\n",
    "vectorized_f4 = np.vectorize(f4)\n",
    "\n",
    "array_n = 2 ** np.arange(2, 51)\n",
    "array_result = vectorized_f4(array_n)"
   ]
  },
  {
   "cell_type": "code",
   "execution_count": 69,
   "metadata": {},
   "outputs": [],
   "source": [
    "def model(N, a):\n",
    "    return a * (np.log2(np.log2(N)))\n",
    "\n",
    "popt, pcov = curve_fit(model, array_n, array_result)"
   ]
  },
  {
   "cell_type": "code",
   "execution_count": 70,
   "metadata": {},
   "outputs": [
    {
     "data": {
      "text/plain": [
       "(array([1.33388173]), array([[0.00026552]]))"
      ]
     },
     "execution_count": 70,
     "metadata": {},
     "output_type": "execute_result"
    }
   ],
   "source": [
    "popt, pcov"
   ]
  },
  {
   "cell_type": "code",
   "execution_count": null,
   "metadata": {},
   "outputs": [],
   "source": []
  },
  {
   "cell_type": "code",
   "execution_count": 97,
   "metadata": {},
   "outputs": [],
   "source": [
    "from itertools import permutations\n",
    "from scipy.special import factorial\n",
    "\n",
    "def factorial_model(n, a):\n",
    "    return a*factorial(n)\n",
    "\n",
    "def check_sorted(a):\n",
    "    for i, val in enumerate(a):\n",
    "        if i > 0 and val < a[i-1]:\n",
    "            return False\n",
    "    return True\n",
    "\n",
    "def permutation_sort(A):\n",
    "    for attempt in permutations(A):\n",
    "        if check_sorted(attempt):\n",
    "            A[:] = attempt[:]\n",
    "            \n",
    "            return A\n",
    "        "
   ]
  },
  {
   "cell_type": "code",
   "execution_count": 98,
   "metadata": {},
   "outputs": [
    {
     "data": {
      "text/plain": [
       "[-1, 0, 1, 2, 3, 4, 5, 6, 7, 8]"
      ]
     },
     "execution_count": 98,
     "metadata": {},
     "output_type": "execute_result"
    }
   ],
   "source": [
    "nums = [8, 7, 6, 5, 4, 3, 2, 1, 0, -1]\n",
    "permutation_sort(nums)"
   ]
  },
  {
   "cell_type": "code",
   "execution_count": 100,
   "metadata": {},
   "outputs": [
    {
     "name": "stdout",
     "output_type": "stream",
     "text": [
      "[array([1]) array([2, 1]) array([3, 2, 1]) array([4, 3, 2, 1])\n",
      " array([5, 4, 3, 2, 1]) array([6, 5, 4, 3, 2, 1])\n",
      " array([7, 6, 5, 4, 3, 2, 1]) array([8, 7, 6, 5, 4, 3, 2, 1])\n",
      " array([9, 8, 7, 6, 5, 4, 3, 2, 1])\n",
      " array([10,  9,  8,  7,  6,  5,  4,  3,  2,  1])\n",
      " array([11, 10,  9,  8,  7,  6,  5,  4,  3,  2,  1])]\n"
     ]
    }
   ],
   "source": [
    "array_nums_list = []\n",
    "\n",
    "for i in range(1, 12):\n",
    "    array_nums_list.append(np.arange(i, 0, -1))\n",
    "\n",
    "array_nums = np.array(array_nums_list, dtype=object)\n",
    "\n",
    "print(array_nums)"
   ]
  },
  {
   "cell_type": "code",
   "execution_count": 103,
   "metadata": {},
   "outputs": [
    {
     "name": "stdout",
     "output_type": "stream",
     "text": [
      "[0.0, 0.0, 0.0, 0.0, 0.0, 0.0, 0.0008950233459472656, 0.016147136688232422, 0.13187098503112793, 1.4264640808105469, 15.347145318984985]\n"
     ]
    }
   ],
   "source": [
    "import time\n",
    "\n",
    "results = []\n",
    "\n",
    "for a in array_nums:\n",
    "    start_time = time.time()\n",
    "    permutation_sort(a)       \n",
    "    elapsed_time = time.time() - start_time\n",
    "    \n",
    "    results.append(elapsed_time)\n",
    "\n",
    "print(results)"
   ]
  },
  {
   "cell_type": "code",
   "execution_count": 107,
   "metadata": {},
   "outputs": [],
   "source": [
    "a_list, _ = curve_fit(factorial_model, np.arange(1, 12), np.array(results))"
   ]
  },
  {
   "cell_type": "code",
   "execution_count": 109,
   "metadata": {},
   "outputs": [],
   "source": [
    "a = a_list[0]"
   ]
  },
  {
   "cell_type": "code",
   "execution_count": 114,
   "metadata": {},
   "outputs": [
    {
     "data": {
      "text/plain": [
       "np.float64(29666.596769544405)"
      ]
     },
     "execution_count": 114,
     "metadata": {},
     "output_type": "execute_result"
    }
   ],
   "source": [
    "(a * factorial(20)) / 60 / 60 / 24 / 365"
   ]
  },
  {
   "cell_type": "code",
   "execution_count": null,
   "metadata": {},
   "outputs": [],
   "source": []
  },
  {
   "cell_type": "code",
   "execution_count": null,
   "metadata": {},
   "outputs": [],
   "source": []
  },
  {
   "cell_type": "code",
   "execution_count": 5,
   "metadata": {},
   "outputs": [],
   "source": [
    "import numpy as np\n",
    "import timeit\n",
    "import pandas as pd\n",
    "from scipy.optimize import curve_fit\n",
    "\n",
    "\n",
    "def trial_bsearch(N, times_to_run=1000):\n",
    "    # Step 1: Randomly select N values in sorted order from np.arange(4*N)\n",
    "    sorted_array = np.random.choice(np.arange(4*N), size=N, replace=False)\n",
    "    sorted_array = np.sort(sorted_array)\n",
    "    \n",
    "    total_elapsed_time = 0\n",
    "    \n",
    "    for _ in range(times_to_run):\n",
    "        # Step 2: Choose a random number from 0 to 4*N\n",
    "        target = np.random.randint(0, 4*N)\n",
    "        \n",
    "        # Step 3: Run bsearch and time the result\n",
    "        start_time = timeit.default_timer()\n",
    "        index = bsearch(sorted_array, target)\n",
    "        total_elapsed_time += timeit.default_timer() - start_time\n",
    "\n",
    "    return total_elapsed_time\n",
    "\n",
    "def bsearch(sorted_array, target):\n",
    "    low = 0\n",
    "    high = len(sorted_array) - 1\n",
    "\n",
    "    while low <= high:\n",
    "        mid = (low + high) // 2\n",
    "        diff = target - sorted_array[mid]\n",
    "    \n",
    "        if diff < 0:\n",
    "            high = mid -1\n",
    "        elif diff > 0:\n",
    "            low = mid + 1\n",
    "        else:\n",
    "            return mid\n",
    "    return -(low + 1)"
   ]
  },
  {
   "cell_type": "code",
   "execution_count": 4,
   "metadata": {},
   "outputs": [],
   "source": [
    "results = []\n",
    "\n",
    "for x in range(1,23):\n",
    "    N = 2**x\n",
    "    elapsed_time = trial_bsearch(N)\n",
    "\n",
    "    results.append({'N**': N, 'Elapsed Time (seconds)': elapsed_time})\n",
    "\n",
    "df_results = pd.DataFrame(results)"
   ]
  },
  {
   "cell_type": "code",
   "execution_count": 7,
   "metadata": {},
   "outputs": [
    {
     "data": {
      "text/plain": [
       "array([0.0015349, 0.0008534, 0.001029 , 0.0011775, 0.0013808, 0.0023335,\n",
       "       0.0024215, 0.0020854, 0.0024245, 0.0031196, 0.0033112, 0.0033641,\n",
       "       0.0034923, 0.0038765, 0.0040203, 0.0053915, 0.0046179, 0.005386 ,\n",
       "       0.0055656, 0.0068139, 0.0064578, 0.0062344])"
      ]
     },
     "execution_count": 7,
     "metadata": {},
     "output_type": "execute_result"
    }
   ],
   "source": [
    "df_results['Elapsed Time (seconds)'].to_numpy()"
   ]
  },
  {
   "cell_type": "code",
   "execution_count": 13,
   "metadata": {},
   "outputs": [
    {
     "name": "stdout",
     "output_type": "stream",
     "text": [
      "0.0002982537549528167\n"
     ]
    }
   ],
   "source": [
    "def log_model(n, a):\n",
    "    return a * np.log2(n)\n",
    "\n",
    "[a],_ = curve_fit(log_model, df_results['N**'], df_results['Elapsed Time (seconds)'])\n",
    "print(a)"
   ]
  },
  {
   "cell_type": "code",
   "execution_count": 14,
   "metadata": {},
   "outputs": [
    {
     "data": {
      "text/plain": [
       "array([0.00029825, 0.00059651, 0.00089476, 0.00119302, 0.00149127,\n",
       "       0.00178952, 0.00208778, 0.00238603, 0.00268428, 0.00298254,\n",
       "       0.00328079, 0.00357905, 0.0038773 , 0.00417555, 0.00447381,\n",
       "       0.00477206, 0.00507031, 0.00536857, 0.00566682, 0.00596508,\n",
       "       0.00626333, 0.00656158])"
      ]
     },
     "execution_count": 14,
     "metadata": {},
     "output_type": "execute_result"
    }
   ],
   "source": [
    "theo_curve = a * np.log2(df_results['N**'].to_numpy())\n",
    "theo_curve"
   ]
  },
  {
   "cell_type": "code",
   "execution_count": 17,
   "metadata": {},
   "outputs": [
    {
     "data": {
      "image/png": "[encoded data removed]",
      "text/plain": [
       "<Figure size 1000x600 with 1 Axes>"
      ]
     },
     "metadata": {},
     "output_type": "display_data"
    }
   ],
   "source": [
    "import seaborn as sns\n",
    "import matplotlib.pyplot as plt\n",
    "\n",
    "# Create a plot using Seaborn\n",
    "plt.figure(figsize=(10, 6))\n",
    "sns.lineplot(x='N**', y='Elapsed Time (seconds)', data=df_results, marker='o')\n",
    "sns.lineplot(x=df_results['N**'], y=theo_curve, marker='o')\n",
    "plt.xscale('log')  # Use a logarithmic scale for the x-axis\n",
    "\n",
    "plt.title('Binary Search Execution Time vs. Input Size')\n",
    "plt.xlabel('Input Size (N)')\n",
    "plt.ylabel('Elapsed Time (seconds)')\n",
    "plt.grid(True)\n",
    "plt.xticks(df_results['N**'], rotation=45) \n",
    "plt.show()\n"
   ]
  },
  {
   "cell_type": "code",
   "execution_count": 37,
   "metadata": {},
   "outputs": [],
   "source": [
    "def max_sort(A):\n",
    "    result = []\n",
    "    while len(A) > 1:\n",
    "        idx_max = max(range(len(A)), key=A.__getitem__)\n",
    "        result.append(A[idx_max])\n",
    "        \n",
    "        A = list(A[:idx_max]) + list(A[idx_max+1:])\n",
    "        \n",
    "    return result + A"
   ]
  },
  {
   "cell_type": "code",
   "execution_count": 38,
   "metadata": {},
   "outputs": [
    {
     "data": {
      "text/plain": [
       "[5, 4, 3, 2, 1]"
      ]
     },
     "execution_count": 38,
     "metadata": {},
     "output_type": "execute_result"
    }
   ],
   "source": [
    "A = [1,2,3,4,5]\n",
    "max_sort(A)"
   ]
  }
 ],
 "metadata": {
  "kernelspec": {
   "display_name": "py_dsa",
   "language": "python",
   "name": "python3"
  },
  "language_info": {
   "codemirror_mode": {
    "name": "ipython",
    "version": 3
   },
   "file_extension": ".py",
   "mimetype": "text/x-python",
   "name": "python",
   "nbconvert_exporter": "python",
   "pygments_lexer": "ipython3",
   "version": "3.9.20"
  }
 },
 "nbformat": 4,
 "nbformat_minor": 2
}
