{
 "cells": [
  {
   "cell_type": "code",
   "execution_count": 9,
   "metadata": {},
   "outputs": [],
   "source": [
    "from datetime import date\n",
    "import calendar\n",
    "\n",
    "key_array = [ 'January', 'February', 'March', 'April', 'May', 'June', 'July',\n",
    "              'August', 'September', 'October', 'November', 'December' ]\n",
    "month_length = [ 31, 28, 31, 30, 31, 30, 31, 31, 30, 31, 30, 31]\n",
    "\n",
    "\n",
    "def print_month(month, year):\n",
    "    idx = key_array.index(month)\n",
    "    day = 1\n",
    "    \n",
    "    wd = date(year, idx+1, day).weekday()\n",
    "    wd = (wd+1) % 7\n",
    "    end = month_length[idx]\n",
    "    \n",
    "    if calendar.isleap(year) and idx == 1:    # February LeapYear has one extra day\n",
    "        end += 1\n",
    "\n",
    "    print('{} {}'.format(month,year).center(20))\n",
    "    print('Su Mo Tu We Th Fr Sa')\n",
    "    print('   ' * wd, end='')                 # Pad spacing\n",
    "    while day <= end:\n",
    "        print('{:2d} '.format(day), end='')\n",
    "        wd = (wd + 1) % 7\n",
    "        day += 1\n",
    "        if wd == 0: print()\n",
    "    print()"
   ]
  },
  {
   "cell_type": "code",
   "execution_count": 15,
   "metadata": {},
   "outputs": [
    {
     "name": "stdout",
     "output_type": "stream",
     "text": [
      "   November 2003    \n",
      "Su Mo Tu We Th Fr Sa\n",
      "                   1 \n",
      " 2  3  4  5  6  7  8 \n",
      " 9 10 11 12 13 14 15 \n",
      "16 17 18 19 20 21 22 \n",
      "23 24 25 26 27 28 29 \n",
      "30 \n"
     ]
    }
   ],
   "source": [
    "print_month('November', 2003)"
   ]
  },
  {
   "cell_type": "code",
   "execution_count": 1,
   "metadata": {},
   "outputs": [],
   "source": [
    "days_in_month = {\n",
    "    'January'   : 31,    'February'  : 28,   'March'     : 31,\n",
    "    'April'     : 30,    'May'       : 31,   'June'      : 30,\n",
    "    'July'      : 31,    'August'    : 31,   'September' : 30,\n",
    "    'October'   : 31,    'November'  : 30,   'December'  : 31\n",
    "}\n",
    "\n",
    "\n",
    "class Entry:\n",
    "    def __init__(self, k, v) -> None:\n",
    "        self.key = k\n",
    "        self.value = v\n",
    "\n",
    "class LinkedEntry:\n",
    "    def __init__(self, k, v, rest=None) -> None:\n",
    "        self.key = k\n",
    "        self.value = v\n",
    "        self.next = rest\n",
    "\n",
    "class HashTable:\n",
    "    def __init__(self, M=10) -> None:\n",
    "        self.table = [None] * M\n",
    "        self.M = M\n",
    "        self.N = 0\n",
    "        \n",
    "        self.load_factor = 0.75\n",
    "        self.threshold = min(M*self.load_factor, M-1)\n",
    "        \n",
    "    def __iter__(self):\n",
    "        for entry in self.table:\n",
    "            while entry:\n",
    "                yield(entry.key, entry.value)\n",
    "                entry = entry.next\n",
    "    \n",
    "    def get(self, k):\n",
    "        hc = hash(k) % self.M\n",
    "        entry = self.table[hc]\n",
    "        while entry:\n",
    "            if entry.key == k:\n",
    "                return entry.value\n",
    "            entry = entry.next\n",
    "        return None\n",
    "    \n",
    "    def put(self, k, v):\n",
    "        hc = hash(k) % self.M\n",
    "        entry = self.table[hc]\n",
    "        while entry:\n",
    "            if entry.key == k:\n",
    "                entry.value = v\n",
    "                return\n",
    "            entry = entry.next\n",
    "        \n",
    "        self.table[hc] = LinkedEntry(k, v, self.table[hc])\n",
    "        self.N += 1\n",
    "        \n",
    "        if self.N >= self.threshold:\n",
    "            self.resize(2*self.M+1)\n",
    "        \n",
    "    def remove(self, k):\n",
    "        hc = hash(k) % self.M\n",
    "        entry = self.table[hc]\n",
    "        \n",
    "        # Case 1: The entry to remove is the first one in the list (head)\n",
    "        if entry and entry.key == k:\n",
    "            self.table[hc] = entry.next \n",
    "            entry.next = None \n",
    "            self.N -= 1\n",
    "            return entry.value\n",
    "\n",
    "        # Case 2: The entry is somewhere in the linked list\n",
    "        prev = None\n",
    "        while entry:\n",
    "            if entry.key == k:\n",
    "                prev.next = entry.next\n",
    "                entry.next = None  \n",
    "                self.N -= 1\n",
    "                return entry.value\n",
    "            prev = entry\n",
    "            entry = entry.next\n",
    "        \n",
    "        print('The key is not present.')\n",
    "        \n",
    "    def resize(self, new_size):\n",
    "        print(f'Resizing the HashTable to M: {new_size}')\n",
    "        temp = HashTable(new_size)\n",
    "        \n",
    "        for entry in self.table:\n",
    "            while entry:\n",
    "                temp.put(entry.key, entry.value)\n",
    "                entry = entry.next\n",
    "        \n",
    "        self.table = temp.table\n",
    "        self.M = temp.M\n",
    "        self.threshold = temp.threshold"
   ]
  },
  {
   "cell_type": "code",
   "execution_count": 2,
   "metadata": {},
   "outputs": [
    {
     "name": "stdout",
     "output_type": "stream",
     "text": [
      "Resizing the HashTable to M: 13\n",
      "Resizing the HashTable to M: 27\n"
     ]
    }
   ],
   "source": [
    "table = HashTable(6)\n",
    "\n",
    "for n in range(7):\n",
    "    table.put(f'April{n}', 30)\n",
    "    table.put(f'May{n}', 31)"
   ]
  },
  {
   "cell_type": "code",
   "execution_count": 4,
   "metadata": {},
   "outputs": [
    {
     "name": "stdout",
     "output_type": "stream",
     "text": [
      "('April1', 30)\n",
      "('May1', 31)\n",
      "('April3', 30)\n",
      "('April6', 30)\n",
      "('May5', 31)\n",
      "('April4', 30)\n",
      "('May3', 31)\n",
      "('April0', 30)\n",
      "('April2', 30)\n",
      "('May2', 31)\n",
      "('May4', 31)\n",
      "('May6', 31)\n",
      "('April5', 30)\n",
      "('May0', 31)\n"
     ]
    }
   ],
   "source": [
    "for n in table.__iter__():\n",
    "    print(n)"
   ]
  },
  {
   "cell_type": "markdown",
   "metadata": {},
   "source": [
    "## Exerc:"
   ]
  },
  {
   "cell_type": "code",
   "execution_count": 2,
   "metadata": {},
   "outputs": [],
   "source": [
    "class Entry:\n",
    "    def __init__(self, k, v) -> None:\n",
    "        self.key = k\n",
    "        self.value = v\n",
    "\n",
    "class HashTableLP:\n",
    "    def __init__(self, M=10) -> None:\n",
    "        self.table = [None] * M\n",
    "        self.M = M\n",
    "        self.N = 0\n",
    "    \n",
    "    def get(self, k):\n",
    "        hc = hash(k) % self.M\n",
    "        while self.table[hc]:\n",
    "            if self.table[hc].key == k:\n",
    "                return self.table[hc].value\n",
    "            hc = (hc+1) % self.M\n",
    "        return None\n",
    "    \n",
    "    def put(self, k, v):\n",
    "        hc = hash(k) % self.M\n",
    "        while self.table[hc]:\n",
    "            if self.table[hc].key == k:\n",
    "                self.table[hc].value = v\n",
    "                return\n",
    "            hc = (hc+1) % self.M\n",
    "        \n",
    "        if self.N >= self.M-1:\n",
    "            raise RuntimeError('Table is Full!')\n",
    "        \n",
    "        self.table[hc] = Entry(k, v)\n",
    "        self.N += 1\n",
    "\n",
    "# uses a probe sequence that explores idx using triagle numbers (1,3,6,10...)\n",
    "class HashTableTN:\n",
    "    def __init__(self, M=10) -> None:\n",
    "        self.table = [None] * M\n",
    "        self.M = M\n",
    "        self.N = 0\n",
    "    \n",
    "    def get(self, k):\n",
    "        hc = hash(k) % self.M\n",
    "        num = 1\n",
    "        while self.table[hc]:\n",
    "            if self.table[hc].key == k:\n",
    "                return self.table[hc].value\n",
    "            hc = (hc+num) % self.M\n",
    "            num += 1\n",
    "        return None\n",
    "    \n",
    "    def put(self, k, v):\n",
    "        hc = hash(k) % self.M\n",
    "        num = 1\n",
    "        while self.table[hc]:\n",
    "            if self.table[hc].key == k:\n",
    "                self.table[hc].value = v\n",
    "                return\n",
    "            hc = (hc+num) % self.M\n",
    "            num += 1\n",
    "        \n",
    "        if self.N >= self.M-1:\n",
    "            raise RuntimeError('Table is Full!')\n",
    "        \n",
    "        self.table[hc] = Entry(k, v)\n",
    "        self.N += 1"
   ]
  },
  {
   "cell_type": "code",
   "execution_count": 26,
   "metadata": {},
   "outputs": [
    {
     "name": "stdout",
     "output_type": "stream",
     "text": [
      "Time to insert 100,000 words in triangular: 0.724099 seconds\n",
      "Time to access 100,000 words in triangular: 0.462633 seconds\n",
      "\n",
      "Time to insert 100,000 words in linear prob: 0.651156 seconds\n",
      "Time to access 100,000 words in linear prob: 0.455950 seconds\n"
     ]
    }
   ],
   "source": [
    "import timeit\n",
    "import nltk\n",
    "from nltk.corpus import words\n",
    "\n",
    "first_100k = words.words()[:160_564]\n",
    "\n",
    "def test_triangular_num_put():\n",
    "    for i, word in enumerate(first_100k):\n",
    "        h_table_triangular.put(word, i)\n",
    "\n",
    "def test_triangular_num_get():\n",
    "    for word in first_100k:\n",
    "        h_table_triangular.get(word)\n",
    "        \n",
    "        \n",
    "def test_lp_put():\n",
    "    for i, word in enumerate(first_100k):\n",
    "        h_table_lp.put(word, i)\n",
    "        \n",
    "def test_lp_get():\n",
    "    for word in first_100k:\n",
    "        h_table_lp.get(word)\n",
    "    \n",
    "\n",
    "h_table_triangular = HashTableTN(M=524_288)\n",
    "execution_time_triang_put = timeit.timeit(\"test_triangular_num_put()\", globals=globals(), number=3)\n",
    "execution_time_triang_get = timeit.timeit(\"test_triangular_num_get()\", globals=globals(), number=3)\n",
    "del h_table_triangular\n",
    "\n",
    "h_table_lp = HashTableLP(M=524_288)\n",
    "execution_time_lp_put = timeit.timeit(\"test_lp_put()\", globals=globals(), number=3)\n",
    "execution_time_lp_get = timeit.timeit(\"test_lp_get()\", globals=globals(), number=3)\n",
    "del h_table_lp\n",
    "\n",
    "print(f\"Time to insert 100,000 words in triangular: {execution_time_triang_put:.6f} seconds\")\n",
    "print(f\"Time to access 100,000 words in triangular: {execution_time_triang_get:.6f} seconds\")\n",
    "print()\n",
    "print(f\"Time to insert 100,000 words in linear prob: {execution_time_lp_put:.6f} seconds\")\n",
    "print(f\"Time to access 100,000 words in linear prob: {execution_time_lp_get:.6f} seconds\")\n"
   ]
  },
  {
   "cell_type": "code",
   "execution_count": 1,
   "metadata": {},
   "outputs": [],
   "source": [
    "class LinkedEntry:\n",
    "    def __init__(self, k, v, rest=None) -> None:\n",
    "        self.key = k\n",
    "        self.value = v\n",
    "        self.next = rest\n",
    "\n",
    "class HashTableLinkedList:\n",
    "    def __init__(self, M=10) -> None:\n",
    "        self.table = [None] * M\n",
    "        self.M = M\n",
    "        self.N = 0\n",
    "        \n",
    "        self.load_factor = 0.75\n",
    "        self.threshold = min(M*self.load_factor, M-1)\n",
    "        \n",
    "    def __iter__(self):\n",
    "        for entry in self.table:\n",
    "            while entry:\n",
    "                yield(entry.key, entry.value)\n",
    "                entry = entry.next\n",
    "    \n",
    "    def get(self, k):\n",
    "        hc = hash(k) % self.M\n",
    "        entry = self.table[hc]\n",
    "        while entry:\n",
    "            if entry.key == k:\n",
    "                return entry.value\n",
    "            entry = entry.next\n",
    "        return None\n",
    "    \n",
    "    def put(self, k, v):\n",
    "        hc = hash(k) % self.M\n",
    "        entry = self.table[hc]\n",
    "        while entry:\n",
    "            if entry.key == k:\n",
    "                entry.value = v\n",
    "                return\n",
    "            entry = entry.next\n",
    "        \n",
    "        self.table[hc] = LinkedEntry(k, v, self.table[hc])\n",
    "        self.N += 1\n",
    "        \n",
    "        if self.N >= self.threshold:\n",
    "            self.resize(2*self.M+1)\n",
    "        \n",
    "    def remove(self, k):\n",
    "        hc = hash(k) % self.M\n",
    "        entry = self.table[hc]\n",
    "        \n",
    "        # Case 1: The entry to remove is the first one in the list (head)\n",
    "        if entry and entry.key == k:\n",
    "            self.table[hc] = entry.next \n",
    "            entry.next = None \n",
    "            self.N -= 1\n",
    "            return entry.value\n",
    "\n",
    "        # Case 2: The entry is somewhere in the linked list\n",
    "        prev = None\n",
    "        while entry:\n",
    "            if entry.key == k:\n",
    "                prev.next = entry.next\n",
    "                entry.next = None  \n",
    "                self.N -= 1\n",
    "                return entry.value\n",
    "            prev = entry\n",
    "            entry = entry.next\n",
    "        \n",
    "        print('The key is not present.')\n",
    "        \n",
    "    def resize(self, new_size):\n",
    "        print(f'Resizing the HashTable to M: {new_size}')\n",
    "        temp = HashTableLinkedList(new_size)\n",
    "        \n",
    "        for entry in self.table:\n",
    "            while entry:\n",
    "                temp.put(entry.key, entry.value)\n",
    "                entry = entry.next\n",
    "        \n",
    "        self.table = temp.table\n",
    "        self.M = temp.M\n",
    "        self.threshold = temp.threshold"
   ]
  },
  {
   "cell_type": "code",
   "execution_count": 24,
   "metadata": {},
   "outputs": [
    {
     "name": "stdout",
     "output_type": "stream",
     "text": [
      "Time to insert 100,000 words in linked list: 0.381230 seconds\n",
      "Time to access 100,000 words in linked list: 0.132629 seconds\n"
     ]
    }
   ],
   "source": [
    "h_table_linked = HashTableLinkedList(M=524_288)\n",
    "def test_linked_put():\n",
    "    for i, word in enumerate(first_100k):\n",
    "        h_table_linked.put(word, i)\n",
    "\n",
    "def test_linked_get():\n",
    "    for word in first_100k:\n",
    "        h_table_linked.get(word)\n",
    "        \n",
    "execution_time_linked_put = timeit.timeit(\"test_linked_put()\", globals=globals(), number=1)\n",
    "execution_time_linked_get = timeit.timeit(\"test_linked_get()\", globals=globals(), number=1)\n",
    "del h_table_linked\n",
    "\n",
    "print(f\"Time to insert 100,000 words in linked list: {execution_time_linked_put:.6f} seconds\")\n",
    "print(f\"Time to access 100,000 words in linked list: {execution_time_linked_get:.6f} seconds\")"
   ]
  },
  {
   "cell_type": "code",
   "execution_count": 3,
   "metadata": {},
   "outputs": [],
   "source": [
    "import timeit\n",
    "import nltk\n",
    "from nltk.corpus import words"
   ]
  },
  {
   "cell_type": "code",
   "execution_count": null,
   "metadata": {},
   "outputs": [],
   "source": []
  },
  {
   "cell_type": "code",
   "execution_count": 12,
   "metadata": {},
   "outputs": [],
   "source": [
    "class ValueBadHash:\n",
    "    def __init__(self, v) -> None:\n",
    "        self.v = v\n",
    "        \n",
    "    def __hash__(self) -> int:\n",
    "        return hash(self.v) % 4\n",
    "\n",
    "    def __eq__(self, other) -> bool:\n",
    "        return (self.__class__==other.__class__ and self.v==other.v)"
   ]
  },
  {
   "cell_type": "code",
   "execution_count": 10,
   "metadata": {},
   "outputs": [],
   "source": [
    "v1 = ValueBadHash(7)\n",
    "v2 = ValueBadHash(7)"
   ]
  },
  {
   "cell_type": "code",
   "execution_count": 19,
   "metadata": {},
   "outputs": [
    {
     "name": "stdout",
     "output_type": "stream",
     "text": [
      "Time to insert 10,000 words using ValueBadHash: 4.111918 seconds\n"
     ]
    }
   ],
   "source": [
    "## Bad hash table\n",
    "first_10k = words.words()[:10_000]\n",
    "\n",
    "bad_table = HashTableLinkedList(M=50_000)\n",
    "\n",
    "def bad_table_put():\n",
    "    for word in first_10k:\n",
    "        bad_table.put(ValueBadHash(word), 1)\n",
    "\n",
    "execution_time_bad_put = timeit.timeit(\"bad_table_put()\", globals=globals(), number=1)\n",
    "\n",
    "print(f\"Time to insert 10,000 words using ValueBadHash: {execution_time_bad_put:.6f} seconds\")"
   ]
  },
  {
   "cell_type": "code",
   "execution_count": 22,
   "metadata": {},
   "outputs": [
    {
     "name": "stdout",
     "output_type": "stream",
     "text": [
      "The max lenght of a bucket is: 2511\n",
      "The average lenght of a bucket is: 2500\n"
     ]
    }
   ],
   "source": [
    "max_length=0\n",
    "non_empty_buckets=0\n",
    "\n",
    "for bucket in bad_table.table:\n",
    "    length = 0\n",
    "    while bucket:\n",
    "        length += 1\n",
    "        bucket = bucket.next\n",
    "    max_length = max(max_length, length)\n",
    "\n",
    "for bucket in bad_table.table:\n",
    "    if bucket:\n",
    "        non_empty_buckets += 1\n",
    "    \n",
    "print(f'The max lenght of a bucket is: {max_length}')\n",
    "print(f'The average lenght of a bucket is: {len(first_10k)//non_empty_buckets}')"
   ]
  },
  {
   "cell_type": "code",
   "execution_count": 32,
   "metadata": {},
   "outputs": [],
   "source": [
    "from nltk.corpus import words\n",
    "\n",
    "def find_max_length(table):\n",
    "    max_length = 0\n",
    "    for bucket in table.table:\n",
    "        length = 0\n",
    "        while bucket:\n",
    "            length += 1\n",
    "            bucket = bucket.next\n",
    "        max_length = max(max_length, length)\n",
    "    \n",
    "    return max_length\n",
    "\n",
    "def find_avg_length(table, entries):\n",
    "    non_empty_buckets = 0\n",
    "    \n",
    "    for bucket in table.table:\n",
    "        if bucket:\n",
    "            non_empty_buckets += 1\n",
    "    \n",
    "    return entries//non_empty_buckets\n",
    "\n",
    "def put_in_table(table, to_put):\n",
    "    for thing in to_put:\n",
    "        table.put(thing, 1)\n",
    "\n",
    "        \n",
    "results = {'M': [], 'put_time': [], 'average_chain_length': [], 'max_chain_length': []}\n",
    "words_to_insert = words.words()\n",
    "\n",
    "\n",
    "for n in range(428_880, 428_981):\n",
    "    table = HashTableLinkedList(M=n)\n",
    "    \n",
    "    execution_time = timeit.timeit(\"put_in_table(table, words_to_insert)\", globals=globals(), number=1)\n",
    "    max_length = find_max_length(table)\n",
    "    average_length = find_avg_length(table, len(words_to_insert))\n",
    "    \n",
    "    results['M'].append(n)\n",
    "    results['put_time'].append(execution_time)\n",
    "    results['max_chain_length'].append(max_length)\n",
    "    results['average_chain_length'].append(average_length)\n"
   ]
  },
  {
   "cell_type": "code",
   "execution_count": 35,
   "metadata": {},
   "outputs": [
    {
     "data": {
      "text/html": [
       "<div>\n",
       "<style scoped>\n",
       "    .dataframe tbody tr th:only-of-type {\n",
       "        vertical-align: middle;\n",
       "    }\n",
       "\n",
       "    .dataframe tbody tr th {\n",
       "        vertical-align: top;\n",
       "    }\n",
       "\n",
       "    .dataframe thead th {\n",
       "        text-align: right;\n",
       "    }\n",
       "</style>\n",
       "<table border=\"1\" class=\"dataframe\">\n",
       "  <thead>\n",
       "    <tr style=\"text-align: right;\">\n",
       "      <th></th>\n",
       "      <th>M</th>\n",
       "      <th>put_time</th>\n",
       "      <th>average_chain_length</th>\n",
       "      <th>max_chain_length</th>\n",
       "    </tr>\n",
       "  </thead>\n",
       "  <tbody>\n",
       "    <tr>\n",
       "      <th>0</th>\n",
       "      <td>428880</td>\n",
       "      <td>0.502119</td>\n",
       "      <td>1</td>\n",
       "      <td>7</td>\n",
       "    </tr>\n",
       "    <tr>\n",
       "      <th>1</th>\n",
       "      <td>428881</td>\n",
       "      <td>0.415664</td>\n",
       "      <td>1</td>\n",
       "      <td>7</td>\n",
       "    </tr>\n",
       "    <tr>\n",
       "      <th>2</th>\n",
       "      <td>428882</td>\n",
       "      <td>0.414394</td>\n",
       "      <td>1</td>\n",
       "      <td>7</td>\n",
       "    </tr>\n",
       "    <tr>\n",
       "      <th>3</th>\n",
       "      <td>428883</td>\n",
       "      <td>0.422292</td>\n",
       "      <td>1</td>\n",
       "      <td>6</td>\n",
       "    </tr>\n",
       "    <tr>\n",
       "      <th>4</th>\n",
       "      <td>428884</td>\n",
       "      <td>0.399738</td>\n",
       "      <td>1</td>\n",
       "      <td>7</td>\n",
       "    </tr>\n",
       "    <tr>\n",
       "      <th>5</th>\n",
       "      <td>428885</td>\n",
       "      <td>0.382429</td>\n",
       "      <td>1</td>\n",
       "      <td>7</td>\n",
       "    </tr>\n",
       "    <tr>\n",
       "      <th>6</th>\n",
       "      <td>428886</td>\n",
       "      <td>0.384233</td>\n",
       "      <td>1</td>\n",
       "      <td>7</td>\n",
       "    </tr>\n",
       "    <tr>\n",
       "      <th>7</th>\n",
       "      <td>428887</td>\n",
       "      <td>0.375273</td>\n",
       "      <td>1</td>\n",
       "      <td>7</td>\n",
       "    </tr>\n",
       "    <tr>\n",
       "      <th>8</th>\n",
       "      <td>428888</td>\n",
       "      <td>0.381072</td>\n",
       "      <td>1</td>\n",
       "      <td>6</td>\n",
       "    </tr>\n",
       "    <tr>\n",
       "      <th>9</th>\n",
       "      <td>428889</td>\n",
       "      <td>0.383480</td>\n",
       "      <td>1</td>\n",
       "      <td>6</td>\n",
       "    </tr>\n",
       "  </tbody>\n",
       "</table>\n",
       "</div>"
      ],
      "text/plain": [
       "        M  put_time  average_chain_length  max_chain_length\n",
       "0  428880  0.502119                     1                 7\n",
       "1  428881  0.415664                     1                 7\n",
       "2  428882  0.414394                     1                 7\n",
       "3  428883  0.422292                     1                 6\n",
       "4  428884  0.399738                     1                 7\n",
       "5  428885  0.382429                     1                 7\n",
       "6  428886  0.384233                     1                 7\n",
       "7  428887  0.375273                     1                 7\n",
       "8  428888  0.381072                     1                 6\n",
       "9  428889  0.383480                     1                 6"
      ]
     },
     "execution_count": 35,
     "metadata": {},
     "output_type": "execute_result"
    }
   ],
   "source": [
    "import pandas as pd\n",
    "\n",
    "df_results = pd.DataFrame(results)\n",
    "df_results.head(10)"
   ]
  },
  {
   "cell_type": "code",
   "execution_count": 36,
   "metadata": {},
   "outputs": [
    {
     "data": {
      "text/plain": [
       "max_chain_length\n",
       "6    0.615406\n",
       "7    0.578613\n",
       "8    0.656071\n",
       "Name: put_time, dtype: float64"
      ]
     },
     "execution_count": 36,
     "metadata": {},
     "output_type": "execute_result"
    }
   ],
   "source": [
    "df_results.groupby('max_chain_length')['put_time'].mean()"
   ]
  },
  {
   "cell_type": "code",
   "execution_count": 39,
   "metadata": {},
   "outputs": [
    {
     "data": {
      "text/html": [
       "<div>\n",
       "<style scoped>\n",
       "    .dataframe tbody tr th:only-of-type {\n",
       "        vertical-align: middle;\n",
       "    }\n",
       "\n",
       "    .dataframe tbody tr th {\n",
       "        vertical-align: top;\n",
       "    }\n",
       "\n",
       "    .dataframe thead th {\n",
       "        text-align: right;\n",
       "    }\n",
       "</style>\n",
       "<table border=\"1\" class=\"dataframe\">\n",
       "  <thead>\n",
       "    <tr style=\"text-align: right;\">\n",
       "      <th></th>\n",
       "      <th>M</th>\n",
       "      <th>put_time</th>\n",
       "      <th>average_chain_length</th>\n",
       "      <th>max_chain_length</th>\n",
       "    </tr>\n",
       "  </thead>\n",
       "  <tbody>\n",
       "    <tr>\n",
       "      <th>41</th>\n",
       "      <td>428921</td>\n",
       "      <td>0.644832</td>\n",
       "      <td>1</td>\n",
       "      <td>8</td>\n",
       "    </tr>\n",
       "    <tr>\n",
       "      <th>48</th>\n",
       "      <td>428928</td>\n",
       "      <td>0.648754</td>\n",
       "      <td>1</td>\n",
       "      <td>8</td>\n",
       "    </tr>\n",
       "    <tr>\n",
       "      <th>58</th>\n",
       "      <td>428938</td>\n",
       "      <td>0.659079</td>\n",
       "      <td>1</td>\n",
       "      <td>8</td>\n",
       "    </tr>\n",
       "    <tr>\n",
       "      <th>82</th>\n",
       "      <td>428962</td>\n",
       "      <td>0.667200</td>\n",
       "      <td>1</td>\n",
       "      <td>8</td>\n",
       "    </tr>\n",
       "    <tr>\n",
       "      <th>99</th>\n",
       "      <td>428979</td>\n",
       "      <td>0.660491</td>\n",
       "      <td>1</td>\n",
       "      <td>8</td>\n",
       "    </tr>\n",
       "  </tbody>\n",
       "</table>\n",
       "</div>"
      ],
      "text/plain": [
       "         M  put_time  average_chain_length  max_chain_length\n",
       "41  428921  0.644832                     1                 8\n",
       "48  428928  0.648754                     1                 8\n",
       "58  428938  0.659079                     1                 8\n",
       "82  428962  0.667200                     1                 8\n",
       "99  428979  0.660491                     1                 8"
      ]
     },
     "execution_count": 39,
     "metadata": {},
     "output_type": "execute_result"
    }
   ],
   "source": [
    "max_chain_length_value = df_results['max_chain_length'].max()\n",
    "df_results.loc[df_results['max_chain_length']==max_chain_length_value]"
   ]
  },
  {
   "cell_type": "code",
   "execution_count": null,
   "metadata": {},
   "outputs": [],
   "source": []
  },
  {
   "cell_type": "code",
   "execution_count": 43,
   "metadata": {},
   "outputs": [
    {
     "name": "stdout",
     "output_type": "stream",
     "text": [
      "Rehashing.\n"
     ]
    }
   ],
   "source": [
    "class Entry:\n",
    "    def __init__(self, k, v) -> None:\n",
    "        self.key = k\n",
    "        self.value = v\n",
    "\n",
    "class HashTableWithRemove:\n",
    "    def __init__(self, M=10) -> None:\n",
    "        self.table = [None] * M\n",
    "        self.M = M\n",
    "        self.N = 0\n",
    "    \n",
    "    def get(self, k):\n",
    "        hc = hash(k) % self.M\n",
    "        while self.table[hc]:\n",
    "            if self.table[hc].key == k:\n",
    "                return self.table[hc].value\n",
    "            hc = (hc+1) % self.M\n",
    "        return None\n",
    "    \n",
    "    def put(self, k, v):\n",
    "        hc = hash(k) % self.M\n",
    "        while self.table[hc]:\n",
    "            if self.table[hc].key == k:\n",
    "                self.table[hc].value = v\n",
    "                return\n",
    "\n",
    "            hc = (hc+1) % self.M\n",
    "        \n",
    "        if self.N >= self.M-1:\n",
    "            raise RuntimeError('Table is Full!')\n",
    "        \n",
    "        self.table[hc] = Entry(k, v)\n",
    "        self.N += 1\n",
    "    \n",
    "    def remove(self, k, to_rehash=True):\n",
    "        hc = hash(k) % self.M\n",
    "        while self.table[hc]:\n",
    "            if self.table[hc].key == k:\n",
    "                self.table[hc] = None\n",
    "                self.N -= 1\n",
    "                \n",
    "                if to_rehash == True:\n",
    "                    self.rehash_next_keys(hc)\n",
    "                return\n",
    "                \n",
    "            hc = (hc+1) % self.M\n",
    "        \n",
    "        print('Key not found.')\n",
    "        return\n",
    "\n",
    "    def rehash_next_keys(self, hc):\n",
    "        print('Rehashing.')\n",
    "        initial_hc = hc\n",
    "        hc = (hc+1) % self.M\n",
    "        \n",
    "        while hc != initial_hc:\n",
    "            if self.table[hc]:\n",
    "                k = self.table[hc].key\n",
    "                v = self.table[hc].value\n",
    "                \n",
    "                self.table[hc] = None\n",
    "                self.N -= 1\n",
    "                \n",
    "                self.put(k, v)\n",
    "            hc = (hc+1) % self.M\n",
    "        \n",
    "        return\n",
    "\n",
    "table = HashTableWithRemove(M=10)\n",
    "\n",
    "for n in range(8):\n",
    "    table.put(f'test{n}', n)\n",
    "\n",
    "table.remove('test2')"
   ]
  },
  {
   "cell_type": "code",
   "execution_count": 37,
   "metadata": {},
   "outputs": [
    {
     "name": "stdout",
     "output_type": "stream",
     "text": [
      "test0 --> 2\n",
      "test1 --> 3\n",
      "test2 --> 8\n",
      "test3 --> 9\n",
      "test4 --> 8\n",
      "test5 --> 4\n",
      "test6 --> 6\n",
      "test7 --> 5\n",
      "k: test2 --> hc: 8\n",
      "Rehashing.\n",
      "k: test4 --> hc: 8\n",
      "Key not found.\n"
     ]
    }
   ],
   "source": [
    "table = HashTableWithRemove(M=10)\n",
    "\n",
    "for n in range(8):\n",
    "    if n != 3:\n",
    "        table.put(f'test{n}', n)\n",
    "\n",
    "for n in range(8):\n",
    "    hc = hash(f'test{n}') % 10\n",
    "    print(f'test{n} --> {hc}')\n",
    "\n",
    "table.remove('test2')"
   ]
  },
  {
   "cell_type": "code",
   "execution_count": 35,
   "metadata": {},
   "outputs": [
    {
     "data": {
      "text/plain": [
       "'test4'"
      ]
     },
     "execution_count": 35,
     "metadata": {},
     "output_type": "execute_result"
    }
   ],
   "source": [
    "table.table[8].key"
   ]
  },
  {
   "cell_type": "code",
   "execution_count": 27,
   "metadata": {},
   "outputs": [
    {
     "name": "stdout",
     "output_type": "stream",
     "text": [
      "Rehashing.\n",
      "Key not found.\n"
     ]
    },
    {
     "data": {
      "text/plain": [
       "[None,\n",
       " None,\n",
       " <__main__.Entry at 0x28103cc53d0>,\n",
       " <__main__.Entry at 0x28103abab50>,\n",
       " <__main__.Entry at 0x28103cd9ee0>,\n",
       " <__main__.Entry at 0x28103cd7e80>,\n",
       " <__main__.Entry at 0x28104df6dc0>,\n",
       " None,\n",
       " <__main__.Entry at 0x28104ecf460>,\n",
       " <__main__.Entry at 0x28104d95d90>]"
      ]
     },
     "execution_count": 27,
     "metadata": {},
     "output_type": "execute_result"
    }
   ],
   "source": [
    "table.remove('test2')\n",
    "table.table"
   ]
  },
  {
   "cell_type": "code",
   "execution_count": 103,
   "metadata": {},
   "outputs": [
    {
     "data": {
      "text/plain": [
       "[None, None, <__main__.Entry at 0x2416ea514f0>, None, None, None]"
      ]
     },
     "execution_count": 103,
     "metadata": {},
     "output_type": "execute_result"
    }
   ],
   "source": [
    "table.table"
   ]
  },
  {
   "cell_type": "code",
   "execution_count": null,
   "metadata": {},
   "outputs": [],
   "source": []
  },
  {
   "cell_type": "code",
   "execution_count": 107,
   "metadata": {},
   "outputs": [],
   "source": [
    "class Entry:\n",
    "    def __init__(self, k, v) -> None:\n",
    "        self.key = k\n",
    "        self.value = v\n",
    "\n",
    "class HashTableMax:\n",
    "    def __init__(self, M=10) -> None:\n",
    "        self.table = [None] * M\n",
    "        self.M = M\n",
    "        self.N = 0\n",
    "    \n",
    "    def get_max_key(self):\n",
    "        max_occurences = 0\n",
    "        max_key = 0\n",
    "        \n",
    "        for entry in self.table:\n",
    "            if entry:\n",
    "                if entry.value > max_occurences:\n",
    "                    max_occurences = entry.value\n",
    "                    max_key = entry.key\n",
    "        \n",
    "        return (max_key, max_occurences)\n",
    "    \n",
    "    def put(self, k):\n",
    "        hc = hash(k) % self.M\n",
    "        while self.table[hc]:\n",
    "            if self.table[hc].key == k:\n",
    "                self.table[hc].value += 1\n",
    "                return\n",
    "\n",
    "            hc = (hc+1) % self.M\n",
    "        \n",
    "        if self.N >= self.M-1:\n",
    "            raise RuntimeError('Table is Full!')\n",
    "        \n",
    "        self.table[hc] = Entry(k, 1)\n",
    "        self.N += 1\n",
    "        \n",
    "\n",
    "import random\n",
    "\n",
    "# 1k random nums\n",
    "random_nums = [random.randint(0, 10) for _ in range(1000)]\n",
    "table = HashTableMax(M=12)\n",
    "\n",
    "for n in random_nums:\n",
    "    table.put(n)"
   ]
  },
  {
   "cell_type": "code",
   "execution_count": 120,
   "metadata": {},
   "outputs": [
    {
     "data": {
      "text/plain": [
       "(8, 111)"
      ]
     },
     "execution_count": 120,
     "metadata": {},
     "output_type": "execute_result"
    }
   ],
   "source": [
    "table.get_max_key()"
   ]
  },
  {
   "cell_type": "code",
   "execution_count": null,
   "metadata": {},
   "outputs": [],
   "source": []
  }
 ],
 "metadata": {
  "kernelspec": {
   "display_name": "py_dsa",
   "language": "python",
   "name": "python3"
  },
  "language_info": {
   "codemirror_mode": {
    "name": "ipython",
    "version": 3
   },
   "file_extension": ".py",
   "mimetype": "text/x-python",
   "name": "python",
   "nbconvert_exporter": "python",
   "pygments_lexer": "ipython3",
   "version": "3.9.20"
  }
 },
 "nbformat": 4,
 "nbformat_minor": 2
}
