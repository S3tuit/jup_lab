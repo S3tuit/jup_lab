{
 "cells": [
  {
   "cell_type": "code",
   "execution_count": 13,
   "metadata": {},
   "outputs": [],
   "source": [
    "from collections import deque\n",
    "from collections import defaultdict\n",
    "\n",
    "class Solution(object):\n",
    "    def nearestExit(self, maze, entrance):\n",
    "        \"\"\"\n",
    "        :type n: int\n",
    "        :type connections: List[List[int]]\n",
    "        :rtype: int\n",
    "        \"\"\"\n",
    "        rows, cols = len(maze), len(maze[0])\n",
    "        q = deque([(entrance[0], entrance[1], 0)])  # (row, col, steps)\n",
    "        visited = set([(entrance[0], entrance[1])])  # Mark entrance as visited\n",
    "        \n",
    "        dirs = [(1, 0), (0, 1), (-1, 0), (0, -1)]\n",
    "\n",
    "        while q:\n",
    "            r, c, steps = q.popleft()\n",
    "            if (r != entrance[0] or c != entrance[1]) and (r == 0 or c == 0 or r == rows - 1 or c == cols - 1):\n",
    "                return steps\n",
    "            \n",
    "            for dr, dc in dirs:\n",
    "                nr, nc = r + dr, c + dc\n",
    "                if 0 <= nr < rows and 0 <= nc < cols and maze[nr][nc] == '.' and (nr, nc) not in visited:\n",
    "                    visited.add((nr, nc))\n",
    "                    q.append((nr, nc, steps + 1))\n",
    "        \n",
    "        return -1\n",
    "\n"
   ]
  },
  {
   "cell_type": "code",
   "execution_count": null,
   "metadata": {},
   "outputs": [],
   "source": []
  }
 ],
 "metadata": {
  "kernelspec": {
   "display_name": "py_env",
   "language": "python",
   "name": "python3"
  },
  "language_info": {
   "codemirror_mode": {
    "name": "ipython",
    "version": 3
   },
   "file_extension": ".py",
   "mimetype": "text/x-python",
   "name": "python",
   "nbconvert_exporter": "python",
   "pygments_lexer": "ipython3",
   "version": "3.11.7"
  }
 },
 "nbformat": 4,
 "nbformat_minor": 2
}
