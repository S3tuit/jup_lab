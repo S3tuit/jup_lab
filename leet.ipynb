{
 "cells": [
  {
   "cell_type": "code",
   "execution_count": null,
   "metadata": {},
   "outputs": [],
   "source": [
    "def nxte(head):\n",
    "    slow, fast = head, head\n",
    "    prev = None\n",
    "\n",
    "    while fast and fast.next:\n",
    "        fast = fast.next.next\n",
    "        tmp = slow.next\n",
    "        slow.next = prev\n",
    "        prev = slow\n",
    "        slow = tmp\n",
    "    \n",
    "    res = 0\n",
    "    while slow:\n",
    "        res = max(res, prev.val + slow.val)\n",
    "        prev = prev.next\n",
    "        slow = slow.next\n",
    "    \n",
    "    return res\n"
   ]
  },
  {
   "cell_type": "code",
   "execution_count": null,
   "metadata": {},
   "outputs": [],
   "source": []
  }
 ],
 "metadata": {
  "kernelspec": {
   "display_name": "py_env",
   "language": "python",
   "name": "python3"
  },
  "language_info": {
   "codemirror_mode": {
    "name": "ipython",
    "version": 3
   },
   "file_extension": ".py",
   "mimetype": "text/x-python",
   "name": "python",
   "nbconvert_exporter": "python",
   "pygments_lexer": "ipython3",
   "version": "3.11.7"
  }
 },
 "nbformat": 4,
 "nbformat_minor": 2
}
