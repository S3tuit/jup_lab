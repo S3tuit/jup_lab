{
 "cells": [
  {
   "cell_type": "code",
   "execution_count": 40,
   "metadata": {},
   "outputs": [],
   "source": [
    "from collections import deque\n",
    "\n",
    "class Solution(object):\n",
    "    def findCircleNum(self, isConnected):\n",
    "        \"\"\"\n",
    "        :type isConnected: List[List[int]]\n",
    "        :rtype: int\n",
    "        \"\"\"\n",
    "        cities = set([i for i in range(len(isConnected[0]))])\n",
    "        provinces = 0\n",
    "\n",
    "        while cities:\n",
    "            q = deque()\n",
    "            q.append(isConnected[cities.pop()])\n",
    "            provinces += 1\n",
    "\n",
    "            while q:\n",
    "                cur = q.popleft()\n",
    "                for idx in range(len(cur)):\n",
    "                    if cur[idx] == 1:\n",
    "                        if idx in cities:\n",
    "                            cities.remove(idx)\n",
    "                            q.append(isConnected[idx])\n",
    "\n",
    "        return provinces\n"
   ]
  },
  {
   "cell_type": "code",
   "execution_count": 41,
   "metadata": {},
   "outputs": [
    {
     "data": {
      "text/plain": [
       "1"
      ]
     },
     "execution_count": 41,
     "metadata": {},
     "output_type": "execute_result"
    }
   ],
   "source": [
    "sol = Solution()\n",
    "sol.findCircleNum([[1,0,0,1],[0,1,1,0],[0,1,1,1],[1,0,1,1]])"
   ]
  }
 ],
 "metadata": {
  "kernelspec": {
   "display_name": "py_env",
   "language": "python",
   "name": "python3"
  },
  "language_info": {
   "codemirror_mode": {
    "name": "ipython",
    "version": 3
   },
   "file_extension": ".py",
   "mimetype": "text/x-python",
   "name": "python",
   "nbconvert_exporter": "python",
   "pygments_lexer": "ipython3",
   "version": "3.11.7"
  }
 },
 "nbformat": 4,
 "nbformat_minor": 2
}
