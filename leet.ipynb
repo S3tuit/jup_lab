{
 "cells": [
  {
   "cell_type": "code",
   "execution_count": null,
   "metadata": {},
   "outputs": [],
   "source": [
    "from collections import defaultdict\n",
    "\n",
    "def pathSum(root, targetSum):\n",
    "    def sub_sum(start_value, root):\n",
    "        self.total = 0\n",
    "        self.lookup = defaultdict(int)\n",
    "        self.lookup[sum] = 1\n",
    "\n",
    "    def dfs(node, root_sum):\n",
    "        if not node:\n",
    "            return\n",
    "        root_sum += node.val\n",
    "        self.total += self.lookup[root_sum]\n",
    "        self.lookup[root_sum+sum] += 1\n",
    "\n",
    "        dfs(node.left, root_sum)\n",
    "        dfs(node.right, root_sum)\n",
    "        self.lookup[root_sum+sum] -=1\n",
    "    \n",
    "    dfs(root, 0)\n",
    "\n",
    "    return self.total"
   ]
  },
  {
   "cell_type": "code",
   "execution_count": 2,
   "metadata": {},
   "outputs": [
    {
     "data": {
      "text/plain": [
       "1"
      ]
     },
     "execution_count": 2,
     "metadata": {},
     "output_type": "execute_result"
    }
   ],
   "source": [
    "list1 = [1,2,3,4]\n",
    "list1.pop(0)"
   ]
  }
 ],
 "metadata": {
  "kernelspec": {
   "display_name": "py_env",
   "language": "python",
   "name": "python3"
  },
  "language_info": {
   "codemirror_mode": {
    "name": "ipython",
    "version": 3
   },
   "file_extension": ".py",
   "mimetype": "text/x-python",
   "name": "python",
   "nbconvert_exporter": "python",
   "pygments_lexer": "ipython3",
   "version": "3.11.7"
  }
 },
 "nbformat": 4,
 "nbformat_minor": 2
}
