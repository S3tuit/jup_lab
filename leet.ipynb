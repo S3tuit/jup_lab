{
 "cells": [
  {
   "cell_type": "code",
   "execution_count": 57,
   "metadata": {},
   "outputs": [],
   "source": [
    "def asteroidCollision(asteroids):\n",
    "    stack = []\n",
    "\n",
    "    for a in asteroids:\n",
    "\n",
    "        if not stack:\n",
    "            stack.append(a)\n",
    "        elif (stack[-1] < 0) or (stack[-1] * a>0):\n",
    "            stack.append(a)\n",
    "        else:\n",
    "\n",
    "            while True:\n",
    "                if not stack:\n",
    "                    stack.append(a)\n",
    "                    break\n",
    "                if stack[-1] * a>0:\n",
    "                    stack.append(a)\n",
    "                    break\n",
    "                if abs(stack[-1]) > abs(a):\n",
    "                    break\n",
    "                elif abs(stack[-1]) == abs(a):\n",
    "                    stack.pop()\n",
    "                    break\n",
    "                else:\n",
    "                    stack.pop()\n",
    "        print(stack)\n",
    "\n",
    "    return stack"
   ]
  },
  {
   "cell_type": "code",
   "execution_count": 58,
   "metadata": {},
   "outputs": [
    {
     "name": "stdout",
     "output_type": "stream",
     "text": [
      "[-2]\n",
      "[-2, -2]\n",
      "[-2, -2, 1]\n",
      "[-2, -2, 1]\n",
      "-2\n",
      "[-2, -2]\n",
      "-2\n",
      "[-2, -2, -2]\n"
     ]
    },
    {
     "data": {
      "text/plain": [
       "[-2, -2, -2]"
      ]
     },
     "execution_count": 58,
     "metadata": {},
     "output_type": "execute_result"
    }
   ],
   "source": [
    "asteroidCollision([-2,-2,1,-2])"
   ]
  }
 ],
 "metadata": {
  "kernelspec": {
   "display_name": "py_env",
   "language": "python",
   "name": "python3"
  },
  "language_info": {
   "codemirror_mode": {
    "name": "ipython",
    "version": 3
   },
   "file_extension": ".py",
   "mimetype": "text/x-python",
   "name": "python",
   "nbconvert_exporter": "python",
   "pygments_lexer": "ipython3",
   "version": "3.11.7"
  }
 },
 "nbformat": 4,
 "nbformat_minor": 2
}
