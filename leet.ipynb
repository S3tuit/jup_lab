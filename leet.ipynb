{
 "cells": [
  {
   "cell_type": "code",
   "execution_count": 34,
   "metadata": {},
   "outputs": [],
   "source": [
    "def longestSubarray(nums):\n",
    "    \"\"\"\n",
    "        :type nums: List[int]\n",
    "        :rtype: int\n",
    "    \"\"\"\n",
    "    i, j = 0, 0\n",
    "    curr_1, curr_0, max_1 = 0, 0, 0\n",
    "\n",
    "    while j<len(nums):\n",
    "        if nums[j] == 1:\n",
    "            curr_1 += 1\n",
    "            j += 1\n",
    "        elif curr_0 <= 1:\n",
    "            j += 1\n",
    "            curr_0 += 1\n",
    "            \n",
    "        if (curr_0 > 1) and (nums[i]==0):\n",
    "            i += 1\n",
    "            curr_0 -= 1\n",
    "        elif (curr_0 > 1) and (nums[i]==1):\n",
    "            curr_1 -= 1\n",
    "            i += 1\n",
    "            \n",
    "        max_1 = max(max_1, curr_1)\n",
    "        \n",
    "    return max_1"
   ]
  },
  {
   "cell_type": "code",
   "execution_count": 35,
   "metadata": {},
   "outputs": [
    {
     "data": {
      "text/plain": [
       "5"
      ]
     },
     "execution_count": 35,
     "metadata": {},
     "output_type": "execute_result"
    }
   ],
   "source": [
    "longestSubarray([0,1,1,1,0,1,1,0,1])"
   ]
  }
 ],
 "metadata": {
  "kernelspec": {
   "display_name": "py_env",
   "language": "python",
   "name": "python3"
  },
  "language_info": {
   "codemirror_mode": {
    "name": "ipython",
    "version": 3
   },
   "file_extension": ".py",
   "mimetype": "text/x-python",
   "name": "python",
   "nbconvert_exporter": "python",
   "pygments_lexer": "ipython3",
   "version": "3.11.7"
  }
 },
 "nbformat": 4,
 "nbformat_minor": 2
}
