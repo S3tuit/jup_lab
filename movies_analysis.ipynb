{
 "cells": [
  {
   "cell_type": "code",
   "execution_count": 144,
   "metadata": {},
   "outputs": [],
   "source": [
    "import pandas as pd\n",
    "import numpy as np \n",
    "import re"
   ]
  },
  {
   "cell_type": "code",
   "execution_count": 145,
   "metadata": {},
   "outputs": [],
   "source": [
    "df = pd.read_csv(r'movies_profi.csv')"
   ]
  },
  {
   "cell_type": "code",
   "execution_count": 146,
   "metadata": {},
   "outputs": [
    {
     "data": {
      "text/html": [
       "<div>\n",
       "<style scoped>\n",
       "    .dataframe tbody tr th:only-of-type {\n",
       "        vertical-align: middle;\n",
       "    }\n",
       "\n",
       "    .dataframe tbody tr th {\n",
       "        vertical-align: top;\n",
       "    }\n",
       "\n",
       "    .dataframe thead th {\n",
       "        text-align: right;\n",
       "    }\n",
       "</style>\n",
       "<table border=\"1\" class=\"dataframe\">\n",
       "  <thead>\n",
       "    <tr style=\"text-align: right;\">\n",
       "      <th></th>\n",
       "      <th>Month</th>\n",
       "      <th>Day</th>\n",
       "      <th>Title</th>\n",
       "      <th>Link</th>\n",
       "      <th>List</th>\n",
       "      <th>Year</th>\n",
       "      <th>Genres</th>\n",
       "      <th>Budget</th>\n",
       "      <th>Box office</th>\n",
       "    </tr>\n",
       "  </thead>\n",
       "  <tbody>\n",
       "    <tr>\n",
       "      <th>0</th>\n",
       "      <td>1</td>\n",
       "      <td>2.0</td>\n",
       "      <td>The Woman in Black: Angel of Death</td>\n",
       "      <td>/wiki/The_Woman_in_Black:_Angel_of_Death</td>\n",
       "      <td>['supernatural horror', '$15 million[6]', '$48...</td>\n",
       "      <td>2015.0</td>\n",
       "      <td>supernatural horror</td>\n",
       "      <td>$15 million[6]</td>\n",
       "      <td>$48.9 million[1]</td>\n",
       "    </tr>\n",
       "    <tr>\n",
       "      <th>1</th>\n",
       "      <td>1</td>\n",
       "      <td>9.0</td>\n",
       "      <td>Taken 3</td>\n",
       "      <td>/wiki/Taken_3</td>\n",
       "      <td>['-language French action-thriller', '$48 mill...</td>\n",
       "      <td>2015.0</td>\n",
       "      <td>-language French action-thriller</td>\n",
       "      <td>$48 million[2]</td>\n",
       "      <td>$326.4 million[2]</td>\n",
       "    </tr>\n",
       "    <tr>\n",
       "      <th>2</th>\n",
       "      <td>1</td>\n",
       "      <td>16.0</td>\n",
       "      <td>Blackhat</td>\n",
       "      <td>/wiki/Blackhat_(film)</td>\n",
       "      <td>[' action thriller', '$70 million[3]', '$19.7 ...</td>\n",
       "      <td>2015.0</td>\n",
       "      <td>action thriller</td>\n",
       "      <td>$70 million[3]</td>\n",
       "      <td>$19.7 million[3]</td>\n",
       "    </tr>\n",
       "    <tr>\n",
       "      <th>3</th>\n",
       "      <td>1</td>\n",
       "      <td>16.0</td>\n",
       "      <td>Spare Parts</td>\n",
       "      <td>/wiki/Spare_Parts_(2015_film)</td>\n",
       "      <td>['drama', '$4 million[2]', '$3.6 million[3]']</td>\n",
       "      <td>2015.0</td>\n",
       "      <td>drama</td>\n",
       "      <td>$4 million[2]</td>\n",
       "      <td>$3.6 million[3]</td>\n",
       "    </tr>\n",
       "    <tr>\n",
       "      <th>4</th>\n",
       "      <td>1</td>\n",
       "      <td>16.0</td>\n",
       "      <td>The Wedding Ringer</td>\n",
       "      <td>/wiki/The_Wedding_Ringer</td>\n",
       "      <td>[' buddy romantic comedy', '$23 million[4]', '...</td>\n",
       "      <td>2015.0</td>\n",
       "      <td>buddy romantic comedy</td>\n",
       "      <td>$23 million[4]</td>\n",
       "      <td>$79.8 million[4]</td>\n",
       "    </tr>\n",
       "  </tbody>\n",
       "</table>\n",
       "</div>"
      ],
      "text/plain": [
       "   Month   Day                               Title  \\\n",
       "0      1   2.0  The Woman in Black: Angel of Death   \n",
       "1      1   9.0                             Taken 3   \n",
       "2      1  16.0                            Blackhat   \n",
       "3      1  16.0                         Spare Parts   \n",
       "4      1  16.0                  The Wedding Ringer   \n",
       "\n",
       "                                       Link  \\\n",
       "0  /wiki/The_Woman_in_Black:_Angel_of_Death   \n",
       "1                             /wiki/Taken_3   \n",
       "2                     /wiki/Blackhat_(film)   \n",
       "3             /wiki/Spare_Parts_(2015_film)   \n",
       "4                  /wiki/The_Wedding_Ringer   \n",
       "\n",
       "                                                List    Year  \\\n",
       "0  ['supernatural horror', '$15 million[6]', '$48...  2015.0   \n",
       "1  ['-language French action-thriller', '$48 mill...  2015.0   \n",
       "2  [' action thriller', '$70 million[3]', '$19.7 ...  2015.0   \n",
       "3      ['drama', '$4 million[2]', '$3.6 million[3]']  2015.0   \n",
       "4  [' buddy romantic comedy', '$23 million[4]', '...  2015.0   \n",
       "\n",
       "                             Genres          Budget         Box office  \n",
       "0               supernatural horror  $15 million[6]   $48.9 million[1]  \n",
       "1  -language French action-thriller  $48 million[2]  $326.4 million[2]  \n",
       "2                   action thriller  $70 million[3]   $19.7 million[3]  \n",
       "3                             drama   $4 million[2]    $3.6 million[3]  \n",
       "4             buddy romantic comedy  $23 million[4]   $79.8 million[4]  "
      ]
     },
     "execution_count": 146,
     "metadata": {},
     "output_type": "execute_result"
    }
   ],
   "source": [
    "df.head()"
   ]
  },
  {
   "cell_type": "code",
   "execution_count": 147,
   "metadata": {},
   "outputs": [
    {
     "name": "stdout",
     "output_type": "stream",
     "text": [
      "<class 'pandas.core.frame.DataFrame'>\n",
      "RangeIndex: 1032 entries, 0 to 1031\n",
      "Data columns (total 9 columns):\n",
      " #   Column      Non-Null Count  Dtype  \n",
      "---  ------      --------------  -----  \n",
      " 0   Month       1032 non-null   int64  \n",
      " 1   Day         1032 non-null   float64\n",
      " 2   Title       1032 non-null   object \n",
      " 3   Link        1032 non-null   object \n",
      " 4   List        1032 non-null   object \n",
      " 5   Year        1032 non-null   float64\n",
      " 6   Genres      1032 non-null   object \n",
      " 7   Budget      1032 non-null   object \n",
      " 8   Box office  1032 non-null   object \n",
      "dtypes: float64(2), int64(1), object(6)\n",
      "memory usage: 72.7+ KB\n"
     ]
    }
   ],
   "source": [
    "df.info()"
   ]
  },
  {
   "cell_type": "markdown",
   "metadata": {},
   "source": [
    "### Cleaning the Budget col"
   ]
  },
  {
   "cell_type": "code",
   "execution_count": 148,
   "metadata": {},
   "outputs": [
    {
     "data": {
      "text/html": [
       "<div>\n",
       "<style scoped>\n",
       "    .dataframe tbody tr th:only-of-type {\n",
       "        vertical-align: middle;\n",
       "    }\n",
       "\n",
       "    .dataframe tbody tr th {\n",
       "        vertical-align: top;\n",
       "    }\n",
       "\n",
       "    .dataframe thead th {\n",
       "        text-align: right;\n",
       "    }\n",
       "</style>\n",
       "<table border=\"1\" class=\"dataframe\">\n",
       "  <thead>\n",
       "    <tr style=\"text-align: right;\">\n",
       "      <th></th>\n",
       "      <th>Month</th>\n",
       "      <th>Day</th>\n",
       "      <th>Title</th>\n",
       "      <th>Link</th>\n",
       "      <th>List</th>\n",
       "      <th>Year</th>\n",
       "      <th>Genres</th>\n",
       "      <th>Budget</th>\n",
       "      <th>Box office</th>\n",
       "    </tr>\n",
       "  </thead>\n",
       "  <tbody>\n",
       "    <tr>\n",
       "      <th>1027</th>\n",
       "      <td>12</td>\n",
       "      <td>16.0</td>\n",
       "      <td>Avatar: The Way of Water</td>\n",
       "      <td>/wiki/Avatar:_The_Way_of_Water</td>\n",
       "      <td>[' epic science fiction', '$350–460\\xa0million...</td>\n",
       "      <td>2022.0</td>\n",
       "      <td>epic science fiction</td>\n",
       "      <td>$350–460 million</td>\n",
       "      <td>$2.32 billion</td>\n",
       "    </tr>\n",
       "    <tr>\n",
       "      <th>1028</th>\n",
       "      <td>12</td>\n",
       "      <td>21.0</td>\n",
       "      <td>Puss in Boots: The Last Wish</td>\n",
       "      <td>/wiki/Puss_in_Boots:_The_Last_Wish</td>\n",
       "      <td>[' animated adventure comedy', '$90–110 millio...</td>\n",
       "      <td>2022.0</td>\n",
       "      <td>animated adventure comedy</td>\n",
       "      <td>$90–110 million</td>\n",
       "      <td>$484.6 million</td>\n",
       "    </tr>\n",
       "    <tr>\n",
       "      <th>1029</th>\n",
       "      <td>12</td>\n",
       "      <td>23.0</td>\n",
       "      <td>Babylon</td>\n",
       "      <td>/wiki/Babylon_(2022_film)</td>\n",
       "      <td>[' epic period black comedy-drama', '$78–80 mi...</td>\n",
       "      <td>2022.0</td>\n",
       "      <td>epic period black comedy-drama</td>\n",
       "      <td>$78–80 million</td>\n",
       "      <td>$63.4 million</td>\n",
       "    </tr>\n",
       "    <tr>\n",
       "      <th>1030</th>\n",
       "      <td>12</td>\n",
       "      <td>23.0</td>\n",
       "      <td>Whitney Houston: I Wanna Dance with Somebody</td>\n",
       "      <td>/wiki/Whitney_Houston:_I_Wanna_Dance_with_Some...</td>\n",
       "      <td>[' biographical musical drama', '$45 million[1...</td>\n",
       "      <td>2022.0</td>\n",
       "      <td>biographical musical drama</td>\n",
       "      <td>$45 million</td>\n",
       "      <td>$59.8 million</td>\n",
       "    </tr>\n",
       "    <tr>\n",
       "      <th>1031</th>\n",
       "      <td>12</td>\n",
       "      <td>29.0</td>\n",
       "      <td>A Man Called Otto</td>\n",
       "      <td>/wiki/A_Man_Called_Otto</td>\n",
       "      <td>[' comedy-drama', '$50 million', '$113.2 milli...</td>\n",
       "      <td>2022.0</td>\n",
       "      <td>comedy-drama</td>\n",
       "      <td>$50 million</td>\n",
       "      <td>$113.2 million</td>\n",
       "    </tr>\n",
       "  </tbody>\n",
       "</table>\n",
       "</div>"
      ],
      "text/plain": [
       "      Month   Day                                         Title  \\\n",
       "1027     12  16.0                      Avatar: The Way of Water   \n",
       "1028     12  21.0                  Puss in Boots: The Last Wish   \n",
       "1029     12  23.0                                       Babylon   \n",
       "1030     12  23.0  Whitney Houston: I Wanna Dance with Somebody   \n",
       "1031     12  29.0                             A Man Called Otto   \n",
       "\n",
       "                                                   Link  \\\n",
       "1027                     /wiki/Avatar:_The_Way_of_Water   \n",
       "1028                 /wiki/Puss_in_Boots:_The_Last_Wish   \n",
       "1029                          /wiki/Babylon_(2022_film)   \n",
       "1030  /wiki/Whitney_Houston:_I_Wanna_Dance_with_Some...   \n",
       "1031                            /wiki/A_Man_Called_Otto   \n",
       "\n",
       "                                                   List    Year  \\\n",
       "1027  [' epic science fiction', '$350–460\\xa0million...  2022.0   \n",
       "1028  [' animated adventure comedy', '$90–110 millio...  2022.0   \n",
       "1029  [' epic period black comedy-drama', '$78–80 mi...  2022.0   \n",
       "1030  [' biographical musical drama', '$45 million[1...  2022.0   \n",
       "1031  [' comedy-drama', '$50 million', '$113.2 milli...  2022.0   \n",
       "\n",
       "                               Genres            Budget      Box office  \n",
       "1027             epic science fiction  $350–460 million   $2.32 billion  \n",
       "1028        animated adventure comedy   $90–110 million  $484.6 million  \n",
       "1029   epic period black comedy-drama    $78–80 million   $63.4 million  \n",
       "1030       biographical musical drama       $45 million   $59.8 million  \n",
       "1031                     comedy-drama       $50 million  $113.2 million  "
      ]
     },
     "execution_count": 148,
     "metadata": {},
     "output_type": "execute_result"
    }
   ],
   "source": [
    "df['Budget'] = df['Budget'].str.split('[').str.get(0)\n",
    "df['Box office'] = df['Box office'].str.split('[').str.get(0)\n",
    "df.tail()"
   ]
  },
  {
   "cell_type": "code",
   "execution_count": 149,
   "metadata": {},
   "outputs": [],
   "source": [
    "df.rename(columns={'Budget':'Budget2'}, inplace=True)"
   ]
  },
  {
   "cell_type": "code",
   "execution_count": 150,
   "metadata": {},
   "outputs": [],
   "source": [
    "df['Budget2'] = df['Budget2'].str.replace(r'–', '-')"
   ]
  },
  {
   "cell_type": "code",
   "execution_count": 151,
   "metadata": {},
   "outputs": [],
   "source": [
    "mask = df['Budget2'].str.find('-')\n",
    "mask = mask != -1"
   ]
  },
  {
   "cell_type": "code",
   "execution_count": 152,
   "metadata": {},
   "outputs": [
    {
     "data": {
      "text/plain": [
       "False"
      ]
     },
     "execution_count": 152,
     "metadata": {},
     "output_type": "execute_result"
    }
   ],
   "source": [
    "(df.loc[mask, 'Budget2'].str.find('million') == -1).any()"
   ]
  },
  {
   "cell_type": "code",
   "execution_count": 153,
   "metadata": {},
   "outputs": [],
   "source": [
    "def get_mean_budget(x):\n",
    "    pattern = r'\\$?([\\d\\.]*)-\\$?([\\d\\.]*)'\n",
    "    try:\n",
    "        finds = re.findall(pattern, x)[0]\n",
    "        return (float(finds[0]) + float(finds[1])) / 2\n",
    "    except:\n",
    "        pattern = r'\\$?([\\d\\.]*)[\\s\\w]*-[\\s\\$]?([\\d\\.]*)'\n",
    "        finds = re.findall(pattern, x)[0]\n",
    "        return (float(finds[0]) + float(finds[1])) / 2      \n",
    "\n",
    "\n",
    "df['Budget'] = df.loc[mask, 'Budget2'].apply(get_mean_budget)"
   ]
  },
  {
   "cell_type": "code",
   "execution_count": 154,
   "metadata": {},
   "outputs": [
    {
     "data": {
      "text/plain": [
       "9      85.0\n",
       "14    193.0\n",
       "15    102.5\n",
       "16     67.0\n",
       "20     87.5\n",
       "Name: Budget, dtype: float64"
      ]
     },
     "execution_count": 154,
     "metadata": {},
     "output_type": "execute_result"
    }
   ],
   "source": [
    "df.loc[mask, 'Budget'][:5]"
   ]
  },
  {
   "cell_type": "code",
   "execution_count": 155,
   "metadata": {},
   "outputs": [],
   "source": [
    "mask = df['Budget'].isna()"
   ]
  },
  {
   "cell_type": "code",
   "execution_count": 156,
   "metadata": {},
   "outputs": [
    {
     "data": {
      "text/plain": [
       "19"
      ]
     },
     "execution_count": 156,
     "metadata": {},
     "output_type": "execute_result"
    }
   ],
   "source": [
    "(df.loc[mask, 'Budget2'].str.find('million') == -1).sum()"
   ]
  },
  {
   "cell_type": "code",
   "execution_count": 157,
   "metadata": {},
   "outputs": [
    {
     "data": {
      "text/plain": [
       "82                 $100,000\n",
       "84                 $100,000\n",
       "200                $900,000\n",
       "343                $500,000\n",
       "356                 $80,000\n",
       "402                $900,000\n",
       "413                $880,000\n",
       "659     $66 thousand (est.)\n",
       "666                $586,443\n",
       "671                £850,000\n",
       "730                $500,000\n",
       "734                $200,000\n",
       "788               <$300,000\n",
       "797                $250,000\n",
       "871                $250,000\n",
       "885                $950,000\n",
       "902                $100,000\n",
       "988                $500,000\n",
       "1003               $250,000\n",
       "Name: Budget2, dtype: object"
      ]
     },
     "execution_count": 157,
     "metadata": {},
     "output_type": "execute_result"
    }
   ],
   "source": [
    "mask2 = (df.loc[mask, 'Budget2'].str.find('million') == -1)\n",
    "df[mask].loc[mask2, 'Budget2']"
   ]
  },
  {
   "cell_type": "code",
   "execution_count": 158,
   "metadata": {},
   "outputs": [],
   "source": [
    "df.loc[659, 'Budget'] = 0.066"
   ]
  },
  {
   "cell_type": "code",
   "execution_count": 159,
   "metadata": {},
   "outputs": [],
   "source": [
    "def thousands_budget(x):\n",
    "    pattern = r'.?\\$(\\d+),'\n",
    "    try:\n",
    "        finds = re.findall(pattern, x)[0]\n",
    "        return float(finds) / 1000\n",
    "    except:\n",
    "        return 0.066\n",
    "    \n",
    "df.loc[(mask & mask2), 'Budget'] = df[mask].loc[mask2, 'Budget2'].apply(thousands_budget)"
   ]
  },
  {
   "cell_type": "code",
   "execution_count": 160,
   "metadata": {},
   "outputs": [
    {
     "data": {
      "text/plain": [
       "82     0.10\n",
       "84     0.10\n",
       "200    0.90\n",
       "343    0.50\n",
       "356    0.08\n",
       "Name: Budget, dtype: float64"
      ]
     },
     "execution_count": 160,
     "metadata": {},
     "output_type": "execute_result"
    }
   ],
   "source": [
    "df.loc[(mask & mask2), 'Budget'][0:5]"
   ]
  },
  {
   "cell_type": "code",
   "execution_count": 161,
   "metadata": {},
   "outputs": [
    {
     "data": {
      "text/plain": [
       "0    $15 million\n",
       "1    $48 million\n",
       "2    $70 million\n",
       "3     $4 million\n",
       "4    $23 million\n",
       "5     $4 million\n",
       "6     $2 million\n",
       "Name: Budget2, dtype: object"
      ]
     },
     "execution_count": 161,
     "metadata": {},
     "output_type": "execute_result"
    }
   ],
   "source": [
    "# mask = df['Budget'].isna()\n",
    "\n",
    "mask2 = (df.loc[mask, 'Budget2'].str.find('million') != -1)\n",
    "df.loc[(mask2 & mask), 'Budget2'][:7]"
   ]
  },
  {
   "cell_type": "code",
   "execution_count": 162,
   "metadata": {},
   "outputs": [],
   "source": [
    "def millions_budget(x):\n",
    "    pattern = r'[\\$€£](\\d+)'\n",
    "    finds = re.findall(pattern, x)\n",
    "    if len(finds) == 0:\n",
    "        print('Error' + x)\n",
    "    else:\n",
    "        return float(finds[0])\n",
    "\n",
    "df.loc[(mask & mask2), 'Budget'] = df[mask].loc[mask2, 'Budget2'].apply(millions_budget)"
   ]
  },
  {
   "cell_type": "code",
   "execution_count": 163,
   "metadata": {},
   "outputs": [
    {
     "data": {
      "text/plain": [
       "0    15.0\n",
       "1    48.0\n",
       "2    70.0\n",
       "3     4.0\n",
       "4    23.0\n",
       "5     4.0\n",
       "6     2.0\n",
       "Name: Budget, dtype: float64"
      ]
     },
     "execution_count": 163,
     "metadata": {},
     "output_type": "execute_result"
    }
   ],
   "source": [
    "df.loc[(mask & mask2), 'Budget'][:7]"
   ]
  },
  {
   "cell_type": "code",
   "execution_count": 164,
   "metadata": {},
   "outputs": [
    {
     "data": {
      "text/plain": [
       "0"
      ]
     },
     "execution_count": 164,
     "metadata": {},
     "output_type": "execute_result"
    }
   ],
   "source": [
    "df['Budget'].isna().sum()"
   ]
  },
  {
   "cell_type": "markdown",
   "metadata": {},
   "source": [
    "### Cleaning Box office col"
   ]
  },
  {
   "cell_type": "code",
   "execution_count": 165,
   "metadata": {},
   "outputs": [
    {
     "data": {
      "text/plain": [
       "118"
      ]
     },
     "execution_count": 165,
     "metadata": {},
     "output_type": "execute_result"
    }
   ],
   "source": [
    "mask = (df['Box office'].str.find('million') == -1)\n",
    "mask.sum()"
   ]
  },
  {
   "cell_type": "code",
   "execution_count": 166,
   "metadata": {},
   "outputs": [
    {
     "data": {
      "text/plain": [
       "6                                 $400,000\n",
       "8                                 $408,918\n",
       "18                                $139,436\n",
       "21                                $145,427\n",
       "39    $18,687,388 (Theatrical Performance)\n",
       "44                          $1.515 billion\n",
       "52                                $108,808\n",
       "53                                $478,595\n",
       "57                          $1.403 billion\n",
       "58                                $774,780\n",
       "68                                $933,847\n",
       "73                          $1.671 billion\n",
       "81                          $1.159 billion\n",
       "84                                $935,900\n",
       "85       $100,044 (Theatrical Performance)\n",
       "Name: Box office, dtype: object"
      ]
     },
     "execution_count": 166,
     "metadata": {},
     "output_type": "execute_result"
    }
   ],
   "source": [
    "df.loc[mask, 'Box office'][0:15]"
   ]
  },
  {
   "cell_type": "code",
   "execution_count": 167,
   "metadata": {},
   "outputs": [
    {
     "data": {
      "text/plain": [
       "1002"
      ]
     },
     "execution_count": 167,
     "metadata": {},
     "output_type": "execute_result"
    }
   ],
   "source": [
    "mask2 = (df['Box office'].str.find('billion') == -1)\n",
    "mask2.sum()"
   ]
  },
  {
   "cell_type": "code",
   "execution_count": 168,
   "metadata": {},
   "outputs": [
    {
     "data": {
      "text/plain": [
       "6                                  $400,000\n",
       "8                                  $408,918\n",
       "18                                 $139,436\n",
       "21                                 $145,427\n",
       "39     $18,687,388 (Theatrical Performance)\n",
       "52                                 $108,808\n",
       "53                                 $478,595\n",
       "58                                 $774,780\n",
       "68                                 $933,847\n",
       "84                                 $935,900\n",
       "85        $100,044 (Theatrical Performance)\n",
       "106                                $483,938\n",
       "118                                $422,746\n",
       "124                                 $90,777\n",
       "136                                 $70,958\n",
       "Name: Box office, dtype: object"
      ]
     },
     "execution_count": 168,
     "metadata": {},
     "output_type": "execute_result"
    }
   ],
   "source": [
    "df.loc[(mask & mask2), 'Box office'][0:15]"
   ]
  },
  {
   "cell_type": "code",
   "execution_count": 169,
   "metadata": {},
   "outputs": [],
   "source": [
    "df.rename(columns={'Box office':'Box office2'}, inplace=True)"
   ]
  },
  {
   "cell_type": "code",
   "execution_count": 170,
   "metadata": {},
   "outputs": [],
   "source": [
    "pattern = r'\\$([\\d,\\.]+)'\n",
    "\n",
    "df.loc[(mask & mask2),'Box office'] = df.loc[(mask & mask2),\n",
    "                          'Box office2'].str.findall(pattern).str.get(0).str.replace(',', '').replace('.', '').astype('int32') / 1000000"
   ]
  },
  {
   "cell_type": "code",
   "execution_count": 171,
   "metadata": {},
   "outputs": [
    {
     "data": {
      "text/plain": [
       "0.000618"
      ]
     },
     "execution_count": 171,
     "metadata": {},
     "output_type": "execute_result"
    }
   ],
   "source": [
    "df.loc[(mask & mask2),'Box office'].min()"
   ]
  },
  {
   "cell_type": "code",
   "execution_count": 172,
   "metadata": {},
   "outputs": [
    {
     "data": {
      "text/plain": [
       "6      0.400000\n",
       "8      0.408918\n",
       "18     0.139436\n",
       "21     0.145427\n",
       "39    18.687388\n",
       "52     0.108808\n",
       "53     0.478595\n",
       "58     0.774780\n",
       "68     0.933847\n",
       "84     0.935900\n",
       "Name: Box office, dtype: float64"
      ]
     },
     "execution_count": 172,
     "metadata": {},
     "output_type": "execute_result"
    }
   ],
   "source": [
    "df.loc[(mask & mask2),'Box office'][:10]"
   ]
  },
  {
   "cell_type": "code",
   "execution_count": 173,
   "metadata": {},
   "outputs": [],
   "source": [
    "mask = (df['Box office2'].str.find('million') != -1)\n",
    "df.loc[mask,'Box office'] = df.loc[mask,\n",
    "                          'Box office2'].str.findall(pattern).str.get(0).astype(float)"
   ]
  },
  {
   "cell_type": "code",
   "execution_count": 174,
   "metadata": {},
   "outputs": [
    {
     "data": {
      "text/html": [
       "<div>\n",
       "<style scoped>\n",
       "    .dataframe tbody tr th:only-of-type {\n",
       "        vertical-align: middle;\n",
       "    }\n",
       "\n",
       "    .dataframe tbody tr th {\n",
       "        vertical-align: top;\n",
       "    }\n",
       "\n",
       "    .dataframe thead th {\n",
       "        text-align: right;\n",
       "    }\n",
       "</style>\n",
       "<table border=\"1\" class=\"dataframe\">\n",
       "  <thead>\n",
       "    <tr style=\"text-align: right;\">\n",
       "      <th></th>\n",
       "      <th>Box office</th>\n",
       "      <th>Box office2</th>\n",
       "    </tr>\n",
       "  </thead>\n",
       "  <tbody>\n",
       "    <tr>\n",
       "      <th>0</th>\n",
       "      <td>48.9</td>\n",
       "      <td>$48.9 million</td>\n",
       "    </tr>\n",
       "    <tr>\n",
       "      <th>1</th>\n",
       "      <td>326.4</td>\n",
       "      <td>$326.4 million</td>\n",
       "    </tr>\n",
       "    <tr>\n",
       "      <th>2</th>\n",
       "      <td>19.7</td>\n",
       "      <td>$19.7 million</td>\n",
       "    </tr>\n",
       "    <tr>\n",
       "      <th>3</th>\n",
       "      <td>3.6</td>\n",
       "      <td>$3.6 million</td>\n",
       "    </tr>\n",
       "    <tr>\n",
       "      <th>4</th>\n",
       "      <td>79.8</td>\n",
       "      <td>$79.8 million</td>\n",
       "    </tr>\n",
       "    <tr>\n",
       "      <th>5</th>\n",
       "      <td>52.4</td>\n",
       "      <td>$52.4 million</td>\n",
       "    </tr>\n",
       "    <tr>\n",
       "      <th>7</th>\n",
       "      <td>47.3</td>\n",
       "      <td>$47.3 million</td>\n",
       "    </tr>\n",
       "  </tbody>\n",
       "</table>\n",
       "</div>"
      ],
      "text/plain": [
       "   Box office     Box office2\n",
       "0        48.9   $48.9 million\n",
       "1       326.4  $326.4 million\n",
       "2        19.7   $19.7 million\n",
       "3         3.6    $3.6 million\n",
       "4        79.8   $79.8 million\n",
       "5        52.4   $52.4 million\n",
       "7        47.3   $47.3 million"
      ]
     },
     "execution_count": 174,
     "metadata": {},
     "output_type": "execute_result"
    }
   ],
   "source": [
    "df.loc[mask,['Box office', 'Box office2']][:7]"
   ]
  },
  {
   "cell_type": "code",
   "execution_count": 175,
   "metadata": {},
   "outputs": [
    {
     "data": {
      "text/plain": [
       "30"
      ]
     },
     "execution_count": 175,
     "metadata": {},
     "output_type": "execute_result"
    }
   ],
   "source": [
    "mask = (df['Box office2'].str.find('billion') != -1)\n",
    "mask.sum()"
   ]
  },
  {
   "cell_type": "code",
   "execution_count": 176,
   "metadata": {},
   "outputs": [
    {
     "data": {
      "text/plain": [
       "30"
      ]
     },
     "execution_count": 176,
     "metadata": {},
     "output_type": "execute_result"
    }
   ],
   "source": [
    "df['Box office'].isna().sum()"
   ]
  },
  {
   "cell_type": "code",
   "execution_count": 177,
   "metadata": {},
   "outputs": [],
   "source": [
    "df.loc[mask, 'Box office'] = df.loc[mask, 'Box office2'].str.findall(pattern).str.get(0).astype(float) * 1000"
   ]
  },
  {
   "cell_type": "code",
   "execution_count": 178,
   "metadata": {},
   "outputs": [
    {
     "data": {
      "text/html": [
       "<div>\n",
       "<style scoped>\n",
       "    .dataframe tbody tr th:only-of-type {\n",
       "        vertical-align: middle;\n",
       "    }\n",
       "\n",
       "    .dataframe tbody tr th {\n",
       "        vertical-align: top;\n",
       "    }\n",
       "\n",
       "    .dataframe thead th {\n",
       "        text-align: right;\n",
       "    }\n",
       "</style>\n",
       "<table border=\"1\" class=\"dataframe\">\n",
       "  <thead>\n",
       "    <tr style=\"text-align: right;\">\n",
       "      <th></th>\n",
       "      <th>Box office</th>\n",
       "      <th>Box office2</th>\n",
       "    </tr>\n",
       "  </thead>\n",
       "  <tbody>\n",
       "    <tr>\n",
       "      <th>44</th>\n",
       "      <td>1515.0</td>\n",
       "      <td>$1.515 billion</td>\n",
       "    </tr>\n",
       "    <tr>\n",
       "      <th>57</th>\n",
       "      <td>1403.0</td>\n",
       "      <td>$1.403 billion</td>\n",
       "    </tr>\n",
       "    <tr>\n",
       "      <th>73</th>\n",
       "      <td>1671.0</td>\n",
       "      <td>$1.671 billion</td>\n",
       "    </tr>\n",
       "    <tr>\n",
       "      <th>81</th>\n",
       "      <td>1159.0</td>\n",
       "      <td>$1.159 billion</td>\n",
       "    </tr>\n",
       "    <tr>\n",
       "      <th>157</th>\n",
       "      <td>2071.0</td>\n",
       "      <td>$2.071 billion</td>\n",
       "    </tr>\n",
       "  </tbody>\n",
       "</table>\n",
       "</div>"
      ],
      "text/plain": [
       "     Box office     Box office2\n",
       "44       1515.0  $1.515 billion\n",
       "57       1403.0  $1.403 billion\n",
       "73       1671.0  $1.671 billion\n",
       "81       1159.0  $1.159 billion\n",
       "157      2071.0  $2.071 billion"
      ]
     },
     "execution_count": 178,
     "metadata": {},
     "output_type": "execute_result"
    }
   ],
   "source": [
    "df.loc[mask, ['Box office','Box office2']][:5]"
   ]
  },
  {
   "cell_type": "markdown",
   "metadata": {},
   "source": [
    "### Cleaning Genres"
   ]
  },
  {
   "cell_type": "code",
   "execution_count": 179,
   "metadata": {},
   "outputs": [],
   "source": [
    "df['Genres'] = df['Genres'].str.replace('-', ' ').str.strip().str.split(' ')"
   ]
  },
  {
   "cell_type": "code",
   "execution_count": 180,
   "metadata": {},
   "outputs": [
    {
     "data": {
      "text/plain": [
       "Genres\n",
       "2     432\n",
       "3     249\n",
       "1     187\n",
       "4     108\n",
       "5      31\n",
       "6       6\n",
       "15      3\n",
       "11      2\n",
       "13      2\n",
       "16      2\n",
       "7       2\n",
       "25      1\n",
       "10      1\n",
       "22      1\n",
       "23      1\n",
       "12      1\n",
       "21      1\n",
       "14      1\n",
       "34      1\n",
       "Name: count, dtype: int64"
      ]
     },
     "execution_count": 180,
     "metadata": {},
     "output_type": "execute_result"
    }
   ],
   "source": [
    "df['Genres'].apply(len).value_counts()"
   ]
  },
  {
   "cell_type": "code",
   "execution_count": 181,
   "metadata": {},
   "outputs": [
    {
     "data": {
      "text/plain": [
       "156    [comedy, film, directed, by, Jason, Moore,, wr...\n",
       "164    [adult, stop, motion, animated, psychological,...\n",
       "193    [dystopian, science, fiction, action, film, di...\n",
       "234    [fantasy, adventure, film, directed, and, co, ...\n",
       "377    [action, crime, thriller, film, written, and, ...\n",
       "Name: Genres, dtype: object"
      ]
     },
     "execution_count": 181,
     "metadata": {},
     "output_type": "execute_result"
    }
   ],
   "source": [
    "df.loc[(df['Genres'].apply(len) > 5), 'Genres'][:5]"
   ]
  },
  {
   "cell_type": "code",
   "execution_count": 182,
   "metadata": {},
   "outputs": [
    {
     "data": {
      "text/plain": [
       "1           [language, French, action, thriller]\n",
       "9          [animated, jukebox, musical, fantasy]\n",
       "12            [found, footage, science, fiction]\n",
       "16    [live, action/animated, adventure, comedy]\n",
       "21            [musical, romantic, comedy, drama]\n",
       "Name: Genres, dtype: object"
      ]
     },
     "execution_count": 182,
     "metadata": {},
     "output_type": "execute_result"
    }
   ],
   "source": [
    "df.loc[(df['Genres'].apply(len) == 4), 'Genres'][:5]"
   ]
  },
  {
   "cell_type": "code",
   "execution_count": 183,
   "metadata": {},
   "outputs": [],
   "source": [
    "df = df[(df['Genres'].apply(len) < 5)]"
   ]
  },
  {
   "cell_type": "code",
   "execution_count": 184,
   "metadata": {},
   "outputs": [
    {
     "data": {
      "text/html": [
       "<div>\n",
       "<style scoped>\n",
       "    .dataframe tbody tr th:only-of-type {\n",
       "        vertical-align: middle;\n",
       "    }\n",
       "\n",
       "    .dataframe tbody tr th {\n",
       "        vertical-align: top;\n",
       "    }\n",
       "\n",
       "    .dataframe thead th {\n",
       "        text-align: right;\n",
       "    }\n",
       "</style>\n",
       "<table border=\"1\" class=\"dataframe\">\n",
       "  <thead>\n",
       "    <tr style=\"text-align: right;\">\n",
       "      <th></th>\n",
       "      <th></th>\n",
       "      <th>,</th>\n",
       "      <th>American</th>\n",
       "      <th>Belgian</th>\n",
       "      <th>Christian</th>\n",
       "      <th>Christmas</th>\n",
       "      <th>French</th>\n",
       "      <th>Gothic</th>\n",
       "      <th>II</th>\n",
       "      <th>Neo</th>\n",
       "      <th>...</th>\n",
       "      <th>the</th>\n",
       "      <th>thriller</th>\n",
       "      <th>tragicomedy</th>\n",
       "      <th>up</th>\n",
       "      <th>urban</th>\n",
       "      <th>vigilante</th>\n",
       "      <th>war</th>\n",
       "      <th>western</th>\n",
       "      <th>white</th>\n",
       "      <th>zombie</th>\n",
       "    </tr>\n",
       "  </thead>\n",
       "  <tbody>\n",
       "    <tr>\n",
       "      <th>0</th>\n",
       "      <td>0</td>\n",
       "      <td>0</td>\n",
       "      <td>0</td>\n",
       "      <td>0</td>\n",
       "      <td>0</td>\n",
       "      <td>0</td>\n",
       "      <td>0</td>\n",
       "      <td>0</td>\n",
       "      <td>0</td>\n",
       "      <td>0</td>\n",
       "      <td>...</td>\n",
       "      <td>0</td>\n",
       "      <td>0</td>\n",
       "      <td>0</td>\n",
       "      <td>0</td>\n",
       "      <td>0</td>\n",
       "      <td>0</td>\n",
       "      <td>0</td>\n",
       "      <td>0</td>\n",
       "      <td>0</td>\n",
       "      <td>0</td>\n",
       "    </tr>\n",
       "    <tr>\n",
       "      <th>1</th>\n",
       "      <td>0</td>\n",
       "      <td>0</td>\n",
       "      <td>0</td>\n",
       "      <td>0</td>\n",
       "      <td>0</td>\n",
       "      <td>0</td>\n",
       "      <td>1</td>\n",
       "      <td>0</td>\n",
       "      <td>0</td>\n",
       "      <td>0</td>\n",
       "      <td>...</td>\n",
       "      <td>0</td>\n",
       "      <td>1</td>\n",
       "      <td>0</td>\n",
       "      <td>0</td>\n",
       "      <td>0</td>\n",
       "      <td>0</td>\n",
       "      <td>0</td>\n",
       "      <td>0</td>\n",
       "      <td>0</td>\n",
       "      <td>0</td>\n",
       "    </tr>\n",
       "    <tr>\n",
       "      <th>2</th>\n",
       "      <td>0</td>\n",
       "      <td>0</td>\n",
       "      <td>0</td>\n",
       "      <td>0</td>\n",
       "      <td>0</td>\n",
       "      <td>0</td>\n",
       "      <td>0</td>\n",
       "      <td>0</td>\n",
       "      <td>0</td>\n",
       "      <td>0</td>\n",
       "      <td>...</td>\n",
       "      <td>0</td>\n",
       "      <td>1</td>\n",
       "      <td>0</td>\n",
       "      <td>0</td>\n",
       "      <td>0</td>\n",
       "      <td>0</td>\n",
       "      <td>0</td>\n",
       "      <td>0</td>\n",
       "      <td>0</td>\n",
       "      <td>0</td>\n",
       "    </tr>\n",
       "    <tr>\n",
       "      <th>3</th>\n",
       "      <td>0</td>\n",
       "      <td>0</td>\n",
       "      <td>0</td>\n",
       "      <td>0</td>\n",
       "      <td>0</td>\n",
       "      <td>0</td>\n",
       "      <td>0</td>\n",
       "      <td>0</td>\n",
       "      <td>0</td>\n",
       "      <td>0</td>\n",
       "      <td>...</td>\n",
       "      <td>0</td>\n",
       "      <td>0</td>\n",
       "      <td>0</td>\n",
       "      <td>0</td>\n",
       "      <td>0</td>\n",
       "      <td>0</td>\n",
       "      <td>0</td>\n",
       "      <td>0</td>\n",
       "      <td>0</td>\n",
       "      <td>0</td>\n",
       "    </tr>\n",
       "    <tr>\n",
       "      <th>4</th>\n",
       "      <td>0</td>\n",
       "      <td>0</td>\n",
       "      <td>0</td>\n",
       "      <td>0</td>\n",
       "      <td>0</td>\n",
       "      <td>0</td>\n",
       "      <td>0</td>\n",
       "      <td>0</td>\n",
       "      <td>0</td>\n",
       "      <td>0</td>\n",
       "      <td>...</td>\n",
       "      <td>0</td>\n",
       "      <td>0</td>\n",
       "      <td>0</td>\n",
       "      <td>0</td>\n",
       "      <td>0</td>\n",
       "      <td>0</td>\n",
       "      <td>0</td>\n",
       "      <td>0</td>\n",
       "      <td>0</td>\n",
       "      <td>0</td>\n",
       "    </tr>\n",
       "  </tbody>\n",
       "</table>\n",
       "<p>5 rows × 134 columns</p>\n",
       "</div>"
      ],
      "text/plain": [
       "      ,  American  Belgian  Christian  Christmas  French  Gothic  II  Neo  \\\n",
       "0  0  0         0        0          0          0       0       0   0    0   \n",
       "1  0  0         0        0          0          0       1       0   0    0   \n",
       "2  0  0         0        0          0          0       0       0   0    0   \n",
       "3  0  0         0        0          0          0       0       0   0    0   \n",
       "4  0  0         0        0          0          0       0       0   0    0   \n",
       "\n",
       "   ...  the  thriller  tragicomedy  up  urban  vigilante  war  western  white  \\\n",
       "0  ...    0         0            0   0      0          0    0        0      0   \n",
       "1  ...    0         1            0   0      0          0    0        0      0   \n",
       "2  ...    0         1            0   0      0          0    0        0      0   \n",
       "3  ...    0         0            0   0      0          0    0        0      0   \n",
       "4  ...    0         0            0   0      0          0    0        0      0   \n",
       "\n",
       "   zombie  \n",
       "0       0  \n",
       "1       0  \n",
       "2       0  \n",
       "3       0  \n",
       "4       0  \n",
       "\n",
       "[5 rows x 134 columns]"
      ]
     },
     "execution_count": 184,
     "metadata": {},
     "output_type": "execute_result"
    }
   ],
   "source": [
    "from sklearn.preprocessing import MultiLabelBinarizer\n",
    "\n",
    "s = df['Genres']\n",
    "\n",
    "mlb = MultiLabelBinarizer()\n",
    "\n",
    "df_genres = pd.DataFrame(mlb.fit_transform(s),columns=mlb.classes_, index=df.index)\n",
    "df_genres.head()"
   ]
  },
  {
   "cell_type": "code",
   "execution_count": 185,
   "metadata": {},
   "outputs": [
    {
     "data": {
      "text/plain": [
       "24"
      ]
     },
     "execution_count": 185,
     "metadata": {},
     "output_type": "execute_result"
    }
   ],
   "source": [
    "(df_genres.sum(axis=0) > 15).sum()"
   ]
  },
  {
   "cell_type": "code",
   "execution_count": 186,
   "metadata": {},
   "outputs": [
    {
     "data": {
      "text/plain": [
       "                      \n",
       ",                    ,\n",
       "American      American\n",
       "Belgian        Belgian\n",
       "Christian    Christian\n",
       "dtype: object"
      ]
     },
     "execution_count": 186,
     "metadata": {},
     "output_type": "execute_result"
    }
   ],
   "source": [
    "col_genres = df_genres.columns.to_series()\n",
    "col_genres.head()"
   ]
  },
  {
   "cell_type": "code",
   "execution_count": 187,
   "metadata": {},
   "outputs": [],
   "source": [
    "col_to_keep = col_genres[(df_genres.sum(axis=0) > 10)].index.to_list()"
   ]
  },
  {
   "cell_type": "code",
   "execution_count": 188,
   "metadata": {},
   "outputs": [
    {
     "data": {
      "text/html": [
       "<div>\n",
       "<style scoped>\n",
       "    .dataframe tbody tr th:only-of-type {\n",
       "        vertical-align: middle;\n",
       "    }\n",
       "\n",
       "    .dataframe tbody tr th {\n",
       "        vertical-align: top;\n",
       "    }\n",
       "\n",
       "    .dataframe thead th {\n",
       "        text-align: right;\n",
       "    }\n",
       "</style>\n",
       "<table border=\"1\" class=\"dataframe\">\n",
       "  <thead>\n",
       "    <tr style=\"text-align: right;\">\n",
       "      <th></th>\n",
       "      <th>Christian</th>\n",
       "      <th>Western</th>\n",
       "      <th>action</th>\n",
       "      <th>adventure</th>\n",
       "      <th>animated</th>\n",
       "      <th>biographical</th>\n",
       "      <th>black</th>\n",
       "      <th>buddy</th>\n",
       "      <th>comedy</th>\n",
       "      <th>crime</th>\n",
       "      <th>...</th>\n",
       "      <th>psychological</th>\n",
       "      <th>romantic</th>\n",
       "      <th>science</th>\n",
       "      <th>slasher</th>\n",
       "      <th>sports</th>\n",
       "      <th>spy</th>\n",
       "      <th>superhero</th>\n",
       "      <th>supernatural</th>\n",
       "      <th>thriller</th>\n",
       "      <th>war</th>\n",
       "    </tr>\n",
       "  </thead>\n",
       "  <tbody>\n",
       "    <tr>\n",
       "      <th>0</th>\n",
       "      <td>0</td>\n",
       "      <td>0</td>\n",
       "      <td>0</td>\n",
       "      <td>0</td>\n",
       "      <td>0</td>\n",
       "      <td>0</td>\n",
       "      <td>0</td>\n",
       "      <td>0</td>\n",
       "      <td>0</td>\n",
       "      <td>0</td>\n",
       "      <td>...</td>\n",
       "      <td>0</td>\n",
       "      <td>0</td>\n",
       "      <td>0</td>\n",
       "      <td>0</td>\n",
       "      <td>0</td>\n",
       "      <td>0</td>\n",
       "      <td>0</td>\n",
       "      <td>1</td>\n",
       "      <td>0</td>\n",
       "      <td>0</td>\n",
       "    </tr>\n",
       "    <tr>\n",
       "      <th>1</th>\n",
       "      <td>0</td>\n",
       "      <td>0</td>\n",
       "      <td>1</td>\n",
       "      <td>0</td>\n",
       "      <td>0</td>\n",
       "      <td>0</td>\n",
       "      <td>0</td>\n",
       "      <td>0</td>\n",
       "      <td>0</td>\n",
       "      <td>0</td>\n",
       "      <td>...</td>\n",
       "      <td>0</td>\n",
       "      <td>0</td>\n",
       "      <td>0</td>\n",
       "      <td>0</td>\n",
       "      <td>0</td>\n",
       "      <td>0</td>\n",
       "      <td>0</td>\n",
       "      <td>0</td>\n",
       "      <td>1</td>\n",
       "      <td>0</td>\n",
       "    </tr>\n",
       "    <tr>\n",
       "      <th>2</th>\n",
       "      <td>0</td>\n",
       "      <td>0</td>\n",
       "      <td>1</td>\n",
       "      <td>0</td>\n",
       "      <td>0</td>\n",
       "      <td>0</td>\n",
       "      <td>0</td>\n",
       "      <td>0</td>\n",
       "      <td>0</td>\n",
       "      <td>0</td>\n",
       "      <td>...</td>\n",
       "      <td>0</td>\n",
       "      <td>0</td>\n",
       "      <td>0</td>\n",
       "      <td>0</td>\n",
       "      <td>0</td>\n",
       "      <td>0</td>\n",
       "      <td>0</td>\n",
       "      <td>0</td>\n",
       "      <td>1</td>\n",
       "      <td>0</td>\n",
       "    </tr>\n",
       "    <tr>\n",
       "      <th>3</th>\n",
       "      <td>0</td>\n",
       "      <td>0</td>\n",
       "      <td>0</td>\n",
       "      <td>0</td>\n",
       "      <td>0</td>\n",
       "      <td>0</td>\n",
       "      <td>0</td>\n",
       "      <td>0</td>\n",
       "      <td>0</td>\n",
       "      <td>0</td>\n",
       "      <td>...</td>\n",
       "      <td>0</td>\n",
       "      <td>0</td>\n",
       "      <td>0</td>\n",
       "      <td>0</td>\n",
       "      <td>0</td>\n",
       "      <td>0</td>\n",
       "      <td>0</td>\n",
       "      <td>0</td>\n",
       "      <td>0</td>\n",
       "      <td>0</td>\n",
       "    </tr>\n",
       "    <tr>\n",
       "      <th>4</th>\n",
       "      <td>0</td>\n",
       "      <td>0</td>\n",
       "      <td>0</td>\n",
       "      <td>0</td>\n",
       "      <td>0</td>\n",
       "      <td>0</td>\n",
       "      <td>0</td>\n",
       "      <td>1</td>\n",
       "      <td>1</td>\n",
       "      <td>0</td>\n",
       "      <td>...</td>\n",
       "      <td>0</td>\n",
       "      <td>1</td>\n",
       "      <td>0</td>\n",
       "      <td>0</td>\n",
       "      <td>0</td>\n",
       "      <td>0</td>\n",
       "      <td>0</td>\n",
       "      <td>0</td>\n",
       "      <td>0</td>\n",
       "      <td>0</td>\n",
       "    </tr>\n",
       "  </tbody>\n",
       "</table>\n",
       "<p>5 rows × 31 columns</p>\n",
       "</div>"
      ],
      "text/plain": [
       "   Christian  Western  action  adventure  animated  biographical  black  \\\n",
       "0          0        0       0          0         0             0      0   \n",
       "1          0        0       1          0         0             0      0   \n",
       "2          0        0       1          0         0             0      0   \n",
       "3          0        0       0          0         0             0      0   \n",
       "4          0        0       0          0         0             0      0   \n",
       "\n",
       "   buddy  comedy  crime  ...  psychological  romantic  science  slasher  \\\n",
       "0      0       0      0  ...              0         0        0        0   \n",
       "1      0       0      0  ...              0         0        0        0   \n",
       "2      0       0      0  ...              0         0        0        0   \n",
       "3      0       0      0  ...              0         0        0        0   \n",
       "4      1       1      0  ...              0         1        0        0   \n",
       "\n",
       "   sports  spy  superhero  supernatural  thriller  war  \n",
       "0       0    0          0             1         0    0  \n",
       "1       0    0          0             0         1    0  \n",
       "2       0    0          0             0         1    0  \n",
       "3       0    0          0             0         0    0  \n",
       "4       0    0          0             0         0    0  \n",
       "\n",
       "[5 rows x 31 columns]"
      ]
     },
     "execution_count": 188,
     "metadata": {},
     "output_type": "execute_result"
    }
   ],
   "source": [
    "df_genres = df_genres[col_to_keep]\n",
    "df_genres.head()"
   ]
  },
  {
   "cell_type": "code",
   "execution_count": 189,
   "metadata": {},
   "outputs": [
    {
     "data": {
      "text/html": [
       "<div>\n",
       "<style scoped>\n",
       "    .dataframe tbody tr th:only-of-type {\n",
       "        vertical-align: middle;\n",
       "    }\n",
       "\n",
       "    .dataframe tbody tr th {\n",
       "        vertical-align: top;\n",
       "    }\n",
       "\n",
       "    .dataframe thead th {\n",
       "        text-align: right;\n",
       "    }\n",
       "</style>\n",
       "<table border=\"1\" class=\"dataframe\">\n",
       "  <thead>\n",
       "    <tr style=\"text-align: right;\">\n",
       "      <th></th>\n",
       "      <th>Month</th>\n",
       "      <th>Day</th>\n",
       "      <th>Title</th>\n",
       "      <th>Link</th>\n",
       "      <th>List</th>\n",
       "      <th>Year</th>\n",
       "      <th>Genres</th>\n",
       "      <th>Budget2</th>\n",
       "      <th>Box office2</th>\n",
       "      <th>Budget</th>\n",
       "      <th>...</th>\n",
       "      <th>psychological</th>\n",
       "      <th>romantic</th>\n",
       "      <th>science</th>\n",
       "      <th>slasher</th>\n",
       "      <th>sports</th>\n",
       "      <th>spy</th>\n",
       "      <th>superhero</th>\n",
       "      <th>supernatural</th>\n",
       "      <th>thriller</th>\n",
       "      <th>war</th>\n",
       "    </tr>\n",
       "  </thead>\n",
       "  <tbody>\n",
       "    <tr>\n",
       "      <th>0</th>\n",
       "      <td>1</td>\n",
       "      <td>2.0</td>\n",
       "      <td>The Woman in Black: Angel of Death</td>\n",
       "      <td>/wiki/The_Woman_in_Black:_Angel_of_Death</td>\n",
       "      <td>['supernatural horror', '$15 million[6]', '$48...</td>\n",
       "      <td>2015.0</td>\n",
       "      <td>[supernatural, horror]</td>\n",
       "      <td>$15 million</td>\n",
       "      <td>$48.9 million</td>\n",
       "      <td>15.0</td>\n",
       "      <td>...</td>\n",
       "      <td>0</td>\n",
       "      <td>0</td>\n",
       "      <td>0</td>\n",
       "      <td>0</td>\n",
       "      <td>0</td>\n",
       "      <td>0</td>\n",
       "      <td>0</td>\n",
       "      <td>1</td>\n",
       "      <td>0</td>\n",
       "      <td>0</td>\n",
       "    </tr>\n",
       "    <tr>\n",
       "      <th>1</th>\n",
       "      <td>1</td>\n",
       "      <td>9.0</td>\n",
       "      <td>Taken 3</td>\n",
       "      <td>/wiki/Taken_3</td>\n",
       "      <td>['-language French action-thriller', '$48 mill...</td>\n",
       "      <td>2015.0</td>\n",
       "      <td>[language, French, action, thriller]</td>\n",
       "      <td>$48 million</td>\n",
       "      <td>$326.4 million</td>\n",
       "      <td>48.0</td>\n",
       "      <td>...</td>\n",
       "      <td>0</td>\n",
       "      <td>0</td>\n",
       "      <td>0</td>\n",
       "      <td>0</td>\n",
       "      <td>0</td>\n",
       "      <td>0</td>\n",
       "      <td>0</td>\n",
       "      <td>0</td>\n",
       "      <td>1</td>\n",
       "      <td>0</td>\n",
       "    </tr>\n",
       "    <tr>\n",
       "      <th>2</th>\n",
       "      <td>1</td>\n",
       "      <td>16.0</td>\n",
       "      <td>Blackhat</td>\n",
       "      <td>/wiki/Blackhat_(film)</td>\n",
       "      <td>[' action thriller', '$70 million[3]', '$19.7 ...</td>\n",
       "      <td>2015.0</td>\n",
       "      <td>[action, thriller]</td>\n",
       "      <td>$70 million</td>\n",
       "      <td>$19.7 million</td>\n",
       "      <td>70.0</td>\n",
       "      <td>...</td>\n",
       "      <td>0</td>\n",
       "      <td>0</td>\n",
       "      <td>0</td>\n",
       "      <td>0</td>\n",
       "      <td>0</td>\n",
       "      <td>0</td>\n",
       "      <td>0</td>\n",
       "      <td>0</td>\n",
       "      <td>1</td>\n",
       "      <td>0</td>\n",
       "    </tr>\n",
       "    <tr>\n",
       "      <th>3</th>\n",
       "      <td>1</td>\n",
       "      <td>16.0</td>\n",
       "      <td>Spare Parts</td>\n",
       "      <td>/wiki/Spare_Parts_(2015_film)</td>\n",
       "      <td>['drama', '$4 million[2]', '$3.6 million[3]']</td>\n",
       "      <td>2015.0</td>\n",
       "      <td>[drama]</td>\n",
       "      <td>$4 million</td>\n",
       "      <td>$3.6 million</td>\n",
       "      <td>4.0</td>\n",
       "      <td>...</td>\n",
       "      <td>0</td>\n",
       "      <td>0</td>\n",
       "      <td>0</td>\n",
       "      <td>0</td>\n",
       "      <td>0</td>\n",
       "      <td>0</td>\n",
       "      <td>0</td>\n",
       "      <td>0</td>\n",
       "      <td>0</td>\n",
       "      <td>0</td>\n",
       "    </tr>\n",
       "    <tr>\n",
       "      <th>4</th>\n",
       "      <td>1</td>\n",
       "      <td>16.0</td>\n",
       "      <td>The Wedding Ringer</td>\n",
       "      <td>/wiki/The_Wedding_Ringer</td>\n",
       "      <td>[' buddy romantic comedy', '$23 million[4]', '...</td>\n",
       "      <td>2015.0</td>\n",
       "      <td>[buddy, romantic, comedy]</td>\n",
       "      <td>$23 million</td>\n",
       "      <td>$79.8 million</td>\n",
       "      <td>23.0</td>\n",
       "      <td>...</td>\n",
       "      <td>0</td>\n",
       "      <td>1</td>\n",
       "      <td>0</td>\n",
       "      <td>0</td>\n",
       "      <td>0</td>\n",
       "      <td>0</td>\n",
       "      <td>0</td>\n",
       "      <td>0</td>\n",
       "      <td>0</td>\n",
       "      <td>0</td>\n",
       "    </tr>\n",
       "  </tbody>\n",
       "</table>\n",
       "<p>5 rows × 42 columns</p>\n",
       "</div>"
      ],
      "text/plain": [
       "   Month   Day                               Title  \\\n",
       "0      1   2.0  The Woman in Black: Angel of Death   \n",
       "1      1   9.0                             Taken 3   \n",
       "2      1  16.0                            Blackhat   \n",
       "3      1  16.0                         Spare Parts   \n",
       "4      1  16.0                  The Wedding Ringer   \n",
       "\n",
       "                                       Link  \\\n",
       "0  /wiki/The_Woman_in_Black:_Angel_of_Death   \n",
       "1                             /wiki/Taken_3   \n",
       "2                     /wiki/Blackhat_(film)   \n",
       "3             /wiki/Spare_Parts_(2015_film)   \n",
       "4                  /wiki/The_Wedding_Ringer   \n",
       "\n",
       "                                                List    Year  \\\n",
       "0  ['supernatural horror', '$15 million[6]', '$48...  2015.0   \n",
       "1  ['-language French action-thriller', '$48 mill...  2015.0   \n",
       "2  [' action thriller', '$70 million[3]', '$19.7 ...  2015.0   \n",
       "3      ['drama', '$4 million[2]', '$3.6 million[3]']  2015.0   \n",
       "4  [' buddy romantic comedy', '$23 million[4]', '...  2015.0   \n",
       "\n",
       "                                 Genres      Budget2     Box office2  Budget  \\\n",
       "0                [supernatural, horror]  $15 million   $48.9 million    15.0   \n",
       "1  [language, French, action, thriller]  $48 million  $326.4 million    48.0   \n",
       "2                    [action, thriller]  $70 million   $19.7 million    70.0   \n",
       "3                               [drama]   $4 million    $3.6 million     4.0   \n",
       "4             [buddy, romantic, comedy]  $23 million   $79.8 million    23.0   \n",
       "\n",
       "   ...  psychological  romantic  science  slasher  sports  spy  superhero  \\\n",
       "0  ...              0         0        0        0       0    0          0   \n",
       "1  ...              0         0        0        0       0    0          0   \n",
       "2  ...              0         0        0        0       0    0          0   \n",
       "3  ...              0         0        0        0       0    0          0   \n",
       "4  ...              0         1        0        0       0    0          0   \n",
       "\n",
       "   supernatural  thriller  war  \n",
       "0             1         0    0  \n",
       "1             0         1    0  \n",
       "2             0         1    0  \n",
       "3             0         0    0  \n",
       "4             0         0    0  \n",
       "\n",
       "[5 rows x 42 columns]"
      ]
     },
     "execution_count": 189,
     "metadata": {},
     "output_type": "execute_result"
    }
   ],
   "source": [
    "df = pd.concat([df, df_genres], axis=1)\n",
    "df.head()"
   ]
  },
  {
   "cell_type": "markdown",
   "metadata": {},
   "source": [
    "### Ordinate the dataframe"
   ]
  },
  {
   "cell_type": "code",
   "execution_count": 190,
   "metadata": {},
   "outputs": [
    {
     "data": {
      "text/html": [
       "<div>\n",
       "<style scoped>\n",
       "    .dataframe tbody tr th:only-of-type {\n",
       "        vertical-align: middle;\n",
       "    }\n",
       "\n",
       "    .dataframe tbody tr th {\n",
       "        vertical-align: top;\n",
       "    }\n",
       "\n",
       "    .dataframe thead th {\n",
       "        text-align: right;\n",
       "    }\n",
       "</style>\n",
       "<table border=\"1\" class=\"dataframe\">\n",
       "  <thead>\n",
       "    <tr style=\"text-align: right;\">\n",
       "      <th></th>\n",
       "      <th>Box office</th>\n",
       "      <th>Budget</th>\n",
       "      <th>Profit</th>\n",
       "      <th>Profit perc</th>\n",
       "    </tr>\n",
       "  </thead>\n",
       "  <tbody>\n",
       "    <tr>\n",
       "      <th>0</th>\n",
       "      <td>48.9</td>\n",
       "      <td>15.0</td>\n",
       "      <td>33.9</td>\n",
       "      <td>226.000000</td>\n",
       "    </tr>\n",
       "    <tr>\n",
       "      <th>1</th>\n",
       "      <td>326.4</td>\n",
       "      <td>48.0</td>\n",
       "      <td>278.4</td>\n",
       "      <td>580.000000</td>\n",
       "    </tr>\n",
       "    <tr>\n",
       "      <th>2</th>\n",
       "      <td>19.7</td>\n",
       "      <td>70.0</td>\n",
       "      <td>-50.3</td>\n",
       "      <td>-71.857143</td>\n",
       "    </tr>\n",
       "    <tr>\n",
       "      <th>3</th>\n",
       "      <td>3.6</td>\n",
       "      <td>4.0</td>\n",
       "      <td>-0.4</td>\n",
       "      <td>-10.000000</td>\n",
       "    </tr>\n",
       "    <tr>\n",
       "      <th>4</th>\n",
       "      <td>79.8</td>\n",
       "      <td>23.0</td>\n",
       "      <td>56.8</td>\n",
       "      <td>246.956522</td>\n",
       "    </tr>\n",
       "  </tbody>\n",
       "</table>\n",
       "</div>"
      ],
      "text/plain": [
       "   Box office  Budget  Profit  Profit perc\n",
       "0        48.9    15.0    33.9   226.000000\n",
       "1       326.4    48.0   278.4   580.000000\n",
       "2        19.7    70.0   -50.3   -71.857143\n",
       "3         3.6     4.0    -0.4   -10.000000\n",
       "4        79.8    23.0    56.8   246.956522"
      ]
     },
     "execution_count": 190,
     "metadata": {},
     "output_type": "execute_result"
    }
   ],
   "source": [
    "df['Profit'] = df['Box office'] - df['Budget']\n",
    "df['Profit perc'] = df['Profit'] * 100/ df['Budget']\n",
    "df[['Box office', 'Budget', 'Profit', 'Profit perc']][:5]"
   ]
  },
  {
   "cell_type": "code",
   "execution_count": 191,
   "metadata": {},
   "outputs": [],
   "source": [
    "new_col = [\n",
    "    'Title','Budget','Profit','Box office','Profit perc',\n",
    "    'Year','Month','Day'\n",
    "]\n",
    "\n",
    "new_col = new_col + col_to_keep"
   ]
  },
  {
   "cell_type": "code",
   "execution_count": 192,
   "metadata": {},
   "outputs": [],
   "source": [
    "df[new_col[1:]] = df[new_col[1:]].astype('float32')"
   ]
  },
  {
   "cell_type": "code",
   "execution_count": 193,
   "metadata": {},
   "outputs": [
    {
     "name": "stdout",
     "output_type": "stream",
     "text": [
      "<class 'pandas.core.frame.DataFrame'>\n",
      "Index: 976 entries, 0 to 1031\n",
      "Data columns (total 10 columns):\n",
      " #   Column       Non-Null Count  Dtype  \n",
      "---  ------       --------------  -----  \n",
      " 0   Title        976 non-null    object \n",
      " 1   Budget       976 non-null    float32\n",
      " 2   Profit       976 non-null    float32\n",
      " 3   Box office   976 non-null    float32\n",
      " 4   Profit perc  976 non-null    float32\n",
      " 5   Year         976 non-null    float32\n",
      " 6   Month        976 non-null    float32\n",
      " 7   Day          976 non-null    float32\n",
      " 8   Christian    976 non-null    float32\n",
      " 9   Western      976 non-null    float32\n",
      "dtypes: float32(9), object(1)\n",
      "memory usage: 49.6+ KB\n"
     ]
    }
   ],
   "source": [
    "df = df[new_col]\n",
    "df[new_col[:10]].info()"
   ]
  },
  {
   "cell_type": "markdown",
   "metadata": {},
   "source": [
    "## Exploration of Correlation"
   ]
  },
  {
   "cell_type": "code",
   "execution_count": 194,
   "metadata": {},
   "outputs": [],
   "source": [
    "genres = col_to_keep"
   ]
  },
  {
   "cell_type": "code",
   "execution_count": 195,
   "metadata": {},
   "outputs": [
    {
     "data": {
      "text/html": [
       "<div>\n",
       "<style scoped>\n",
       "    .dataframe tbody tr th:only-of-type {\n",
       "        vertical-align: middle;\n",
       "    }\n",
       "\n",
       "    .dataframe tbody tr th {\n",
       "        vertical-align: top;\n",
       "    }\n",
       "\n",
       "    .dataframe thead th {\n",
       "        text-align: right;\n",
       "    }\n",
       "</style>\n",
       "<table border=\"1\" class=\"dataframe\">\n",
       "  <thead>\n",
       "    <tr style=\"text-align: right;\">\n",
       "      <th></th>\n",
       "      <th>superhero</th>\n",
       "      <th>epic</th>\n",
       "      <th>fantasy</th>\n",
       "      <th>fiction</th>\n",
       "      <th>science</th>\n",
       "      <th>adventure</th>\n",
       "      <th>animated</th>\n",
       "      <th>action</th>\n",
       "      <th>spy</th>\n",
       "      <th>musical</th>\n",
       "      <th>...</th>\n",
       "      <th>crime</th>\n",
       "      <th>biographical</th>\n",
       "      <th>Christian</th>\n",
       "      <th>psychological</th>\n",
       "      <th>thriller</th>\n",
       "      <th>supernatural</th>\n",
       "      <th>comedy</th>\n",
       "      <th>romantic</th>\n",
       "      <th>horror</th>\n",
       "      <th>drama</th>\n",
       "    </tr>\n",
       "  </thead>\n",
       "  <tbody>\n",
       "    <tr>\n",
       "      <th>0</th>\n",
       "      <td>0.381174</td>\n",
       "      <td>0.218444</td>\n",
       "      <td>0.204676</td>\n",
       "      <td>0.166939</td>\n",
       "      <td>0.162864</td>\n",
       "      <td>0.154471</td>\n",
       "      <td>0.15183</td>\n",
       "      <td>0.148407</td>\n",
       "      <td>0.091746</td>\n",
       "      <td>0.062906</td>\n",
       "      <td>...</td>\n",
       "      <td>-0.080266</td>\n",
       "      <td>-0.088123</td>\n",
       "      <td>-0.088997</td>\n",
       "      <td>-0.092628</td>\n",
       "      <td>-0.10359</td>\n",
       "      <td>-0.113774</td>\n",
       "      <td>-0.119662</td>\n",
       "      <td>-0.128252</td>\n",
       "      <td>-0.192514</td>\n",
       "      <td>-0.254776</td>\n",
       "    </tr>\n",
       "  </tbody>\n",
       "</table>\n",
       "<p>1 rows × 31 columns</p>\n",
       "</div>"
      ],
      "text/plain": [
       "   superhero      epic   fantasy   fiction   science  adventure  animated  \\\n",
       "0   0.381174  0.218444  0.204676  0.166939  0.162864   0.154471   0.15183   \n",
       "\n",
       "     action       spy   musical  ...     crime  biographical  Christian  \\\n",
       "0  0.148407  0.091746  0.062906  ... -0.080266     -0.088123  -0.088997   \n",
       "\n",
       "   psychological  thriller  supernatural    comedy  romantic    horror  \\\n",
       "0      -0.092628  -0.10359     -0.113774 -0.119662 -0.128252 -0.192514   \n",
       "\n",
       "      drama  \n",
       "0 -0.254776  \n",
       "\n",
       "[1 rows x 31 columns]"
      ]
     },
     "execution_count": 195,
     "metadata": {},
     "output_type": "execute_result"
    }
   ],
   "source": [
    "df[genres].corrwith(df['Budget']).sort_values(ascending=False).to_frame().T"
   ]
  },
  {
   "cell_type": "markdown",
   "metadata": {},
   "source": [
    "### Profits vs. Genre\n",
    "\n",
    "This one is a little trickier since there are a lot of outliers principally among the superhero and epic genres since they are the most expensive in terms of budget."
   ]
  },
  {
   "cell_type": "code",
   "execution_count": 196,
   "metadata": {},
   "outputs": [
    {
     "data": {
      "text/plain": [
       "<Axes: >"
      ]
     },
     "execution_count": 196,
     "metadata": {},
     "output_type": "execute_result"
    },
    {
     "data": {
      "image/png": "[encoded data removed]",
      "text/plain": [
       "<Figure size 640x480 with 1 Axes>"
      ]
     },
     "metadata": {},
     "output_type": "display_data"
    }
   ],
   "source": [
    "df['Profit'].plot.box()"
   ]
  },
  {
   "cell_type": "code",
   "execution_count": 197,
   "metadata": {},
   "outputs": [
    {
     "name": "stdout",
     "output_type": "stream",
     "text": [
      "235.08750462532043 -146.81250262260437\n"
     ]
    }
   ],
   "source": [
    "profit_ulimit = df['Profit'].quantile(0.75) + 1.5*(df['Profit'].quantile(0.75) - df['Profit'].quantile(0.25))\n",
    "profit_llimit = df['Profit'].quantile(0.25) - 1.5*(df['Profit'].quantile(0.75) - df['Profit'].quantile(0.25))\n",
    "print(profit_ulimit, profit_llimit)"
   ]
  },
  {
   "cell_type": "code",
   "execution_count": 198,
   "metadata": {},
   "outputs": [],
   "source": [
    "profit_no_outliers = (df['Profit'] < profit_ulimit) & (df['Profit'] > profit_llimit)"
   ]
  },
  {
   "cell_type": "code",
   "execution_count": 199,
   "metadata": {},
   "outputs": [
    {
     "data": {
      "text/plain": [
       "<Axes: >"
      ]
     },
     "execution_count": 199,
     "metadata": {},
     "output_type": "execute_result"
    },
    {
     "data": {
      "image/png": "[encoded data removed]",
      "text/plain": [
       "<Figure size 640x480 with 1 Axes>"
      ]
     },
     "metadata": {},
     "output_type": "display_data"
    }
   ],
   "source": [
    "# Finding the most outlier genre\n",
    "\n",
    "df.loc[~profit_no_outliers, genres].sum().sort_values(ascending=False).plot.bar()"
   ]
  },
  {
   "cell_type": "markdown",
   "metadata": {},
   "source": [
    "There are way too many outliers and this may compromise the results, especially for genres like action and superhero. This is why I'm going to exclude just the extreme-outliers"
   ]
  },
  {
   "cell_type": "code",
   "execution_count": 200,
   "metadata": {},
   "outputs": [
    {
     "name": "stdout",
     "output_type": "stream",
     "text": [
      "378.30000734329224 -290.0250053405762\n"
     ]
    }
   ],
   "source": [
    "profit_ex_ulimit = df['Profit'].quantile(0.75) + 3*(df['Profit'].quantile(0.75) - df['Profit'].quantile(0.25))\n",
    "profit_ex_llimit = df['Profit'].quantile(0.25) - 3*(df['Profit'].quantile(0.75) - df['Profit'].quantile(0.25))\n",
    "print(profit_ex_ulimit, profit_ex_llimit)"
   ]
  },
  {
   "cell_type": "code",
   "execution_count": 201,
   "metadata": {},
   "outputs": [
    {
     "data": {
      "text/plain": [
       "<Axes: >"
      ]
     },
     "execution_count": 201,
     "metadata": {},
     "output_type": "execute_result"
    },
    {
     "data": {
      "image/png": "[encoded data removed]",
      "text/plain": [
       "<Figure size 640x480 with 1 Axes>"
      ]
     },
     "metadata": {},
     "output_type": "display_data"
    }
   ],
   "source": [
    "profit_no_ex_outliers = (df['Profit'] < profit_ex_ulimit) & (df['Profit'] > profit_ex_llimit)\n",
    "df.loc[~profit_no_ex_outliers, genres].sum().sort_values(ascending=False).plot.bar()"
   ]
  },
  {
   "cell_type": "markdown",
   "metadata": {},
   "source": [
    "There are still too many outliers, so the best way to tackle this is by binning the data based on the budget."
   ]
  },
  {
   "cell_type": "code",
   "execution_count": 202,
   "metadata": {},
   "outputs": [
    {
     "name": "stdout",
     "output_type": "stream",
     "text": [
      "10.0 62.125\n"
     ]
    }
   ],
   "source": [
    "budget_25 = df['Budget'].quantile(0.25)\n",
    "budget_75 = df['Budget'].quantile(0.75)\n",
    "print(budget_25, budget_75)"
   ]
  },
  {
   "cell_type": "code",
   "execution_count": 203,
   "metadata": {},
   "outputs": [],
   "source": [
    "low_budget = df['Budget'] < budget_25\n",
    "mid_budget = (df['Budget'] > budget_25) & (df['Budget'] < budget_75)\n",
    "high_budget = df['Budget'] < budget_75"
   ]
  },
  {
   "cell_type": "markdown",
   "metadata": {},
   "source": [
    "## Low-budget analysis"
   ]
  },
  {
   "cell_type": "markdown",
   "metadata": {},
   "source": [
    "### Profit"
   ]
  },
  {
   "cell_type": "code",
   "execution_count": 204,
   "metadata": {},
   "outputs": [
    {
     "data": {
      "text/html": [
       "<div>\n",
       "<style scoped>\n",
       "    .dataframe tbody tr th:only-of-type {\n",
       "        vertical-align: middle;\n",
       "    }\n",
       "\n",
       "    .dataframe tbody tr th {\n",
       "        vertical-align: top;\n",
       "    }\n",
       "\n",
       "    .dataframe thead th {\n",
       "        text-align: right;\n",
       "    }\n",
       "</style>\n",
       "<table border=\"1\" class=\"dataframe\">\n",
       "  <thead>\n",
       "    <tr style=\"text-align: right;\">\n",
       "      <th></th>\n",
       "      <th>3</th>\n",
       "      <th>5</th>\n",
       "      <th>6</th>\n",
       "      <th>8</th>\n",
       "      <th>10</th>\n",
       "    </tr>\n",
       "  </thead>\n",
       "  <tbody>\n",
       "    <tr>\n",
       "      <th>Christian</th>\n",
       "      <td>0.0</td>\n",
       "      <td>0.0</td>\n",
       "      <td>0.0</td>\n",
       "      <td>0.0</td>\n",
       "      <td>0.0</td>\n",
       "    </tr>\n",
       "    <tr>\n",
       "      <th>Western</th>\n",
       "      <td>0.0</td>\n",
       "      <td>0.0</td>\n",
       "      <td>0.0</td>\n",
       "      <td>0.0</td>\n",
       "      <td>0.0</td>\n",
       "    </tr>\n",
       "    <tr>\n",
       "      <th>action</th>\n",
       "      <td>0.0</td>\n",
       "      <td>0.0</td>\n",
       "      <td>0.0</td>\n",
       "      <td>0.0</td>\n",
       "      <td>0.0</td>\n",
       "    </tr>\n",
       "    <tr>\n",
       "      <th>adventure</th>\n",
       "      <td>0.0</td>\n",
       "      <td>0.0</td>\n",
       "      <td>0.0</td>\n",
       "      <td>0.0</td>\n",
       "      <td>0.0</td>\n",
       "    </tr>\n",
       "    <tr>\n",
       "      <th>animated</th>\n",
       "      <td>0.0</td>\n",
       "      <td>0.0</td>\n",
       "      <td>0.0</td>\n",
       "      <td>0.0</td>\n",
       "      <td>0.0</td>\n",
       "    </tr>\n",
       "    <tr>\n",
       "      <th>biographical</th>\n",
       "      <td>0.0</td>\n",
       "      <td>0.0</td>\n",
       "      <td>0.0</td>\n",
       "      <td>0.0</td>\n",
       "      <td>0.0</td>\n",
       "    </tr>\n",
       "    <tr>\n",
       "      <th>black</th>\n",
       "      <td>0.0</td>\n",
       "      <td>0.0</td>\n",
       "      <td>0.0</td>\n",
       "      <td>0.0</td>\n",
       "      <td>0.0</td>\n",
       "    </tr>\n",
       "    <tr>\n",
       "      <th>buddy</th>\n",
       "      <td>0.0</td>\n",
       "      <td>0.0</td>\n",
       "      <td>0.0</td>\n",
       "      <td>0.0</td>\n",
       "      <td>0.0</td>\n",
       "    </tr>\n",
       "    <tr>\n",
       "      <th>comedy</th>\n",
       "      <td>0.0</td>\n",
       "      <td>0.0</td>\n",
       "      <td>-1.6</td>\n",
       "      <td>0.0</td>\n",
       "      <td>0.0</td>\n",
       "    </tr>\n",
       "    <tr>\n",
       "      <th>crime</th>\n",
       "      <td>0.0</td>\n",
       "      <td>0.0</td>\n",
       "      <td>0.0</td>\n",
       "      <td>0.0</td>\n",
       "      <td>0.0</td>\n",
       "    </tr>\n",
       "  </tbody>\n",
       "</table>\n",
       "</div>"
      ],
      "text/plain": [
       "               3    5    6    8    10\n",
       "Christian     0.0  0.0  0.0  0.0  0.0\n",
       "Western       0.0  0.0  0.0  0.0  0.0\n",
       "action        0.0  0.0  0.0  0.0  0.0\n",
       "adventure     0.0  0.0  0.0  0.0  0.0\n",
       "animated      0.0  0.0  0.0  0.0  0.0\n",
       "biographical  0.0  0.0  0.0  0.0  0.0\n",
       "black         0.0  0.0  0.0  0.0  0.0\n",
       "buddy         0.0  0.0  0.0  0.0  0.0\n",
       "comedy        0.0  0.0 -1.6  0.0  0.0\n",
       "crime         0.0  0.0  0.0  0.0  0.0"
      ]
     },
     "execution_count": 204,
     "metadata": {},
     "output_type": "execute_result"
    }
   ],
   "source": [
    "def get_profits(x):\n",
    "    for i in genres:\n",
    "        if x[i] == 1:\n",
    "            x[i] = x['Profit']\n",
    "    return x\n",
    "        \n",
    "\n",
    "low_profit_genre = df.loc[low_budget,genres + ['Profit']].T.apply(get_profits, axis=0)\n",
    "low_profit_genre.iloc[:10,:5]"
   ]
  },
  {
   "cell_type": "markdown",
   "metadata": {},
   "source": [
    "### There are some genres that have too few movies, it's better to discard them"
   ]
  },
  {
   "cell_type": "code",
   "execution_count": 244,
   "metadata": {},
   "outputs": [
    {
     "data": {
      "text/plain": [
       "Christian         11\n",
       "action             8\n",
       "biographical       6\n",
       "black              8\n",
       "comedy            57\n",
       "crime              6\n",
       "drama             96\n",
       "fiction           10\n",
       "horror            48\n",
       "psychological     14\n",
       "romantic          23\n",
       "science           11\n",
       "slasher            6\n",
       "supernatural      17\n",
       "thriller          32\n",
       "Profit           208\n",
       "dtype: int64"
      ]
     },
     "execution_count": 244,
     "metadata": {},
     "output_type": "execute_result"
    }
   ],
   "source": [
    "low_profit_genre[low_profit_genre == 0] = np.nan\n",
    "\n",
    "low_genres = low_profit_genre.T.notna().sum()\n",
    "low_genres = low_genres[low_genres>4]\n",
    "low_genres"
   ]
  },
  {
   "cell_type": "code",
   "execution_count": 245,
   "metadata": {},
   "outputs": [],
   "source": [
    "low_genres = low_genres.to_frame().T.columns.tolist()\n",
    "low_genres = low_genres[:-1]"
   ]
  },
  {
   "cell_type": "code",
   "execution_count": 246,
   "metadata": {},
   "outputs": [
    {
     "data": {
      "text/plain": [
       "Christian        3.900000\n",
       "action           0.107309\n",
       "biographical     0.250000\n",
       "black            0.050000\n",
       "comedy          -0.100000\n",
       "crime            0.325000\n",
       "drama            0.250000\n",
       "fiction         -0.441672\n",
       "horror          15.250000\n",
       "dtype: float32"
      ]
     },
     "execution_count": 246,
     "metadata": {},
     "output_type": "execute_result"
    }
   ],
   "source": [
    "def get_profits(x):\n",
    "    for i in low_genres:\n",
    "        if x[i] == 1:\n",
    "            x[i] = x['Profit']\n",
    "    return x\n",
    "\n",
    "low_profit_genre = df.loc[low_budget,low_genres + ['Profit']].T.apply(get_profits, axis=0)\n",
    "\n",
    "low_profit_genre[low_profit_genre == 0] = np.nan\n",
    "median_low_profit_genre = low_profit_genre.drop('Profit').median(axis=1)\n",
    "median_low_profit_genre[0:9]"
   ]
  },
  {
   "cell_type": "code",
   "execution_count": 247,
   "metadata": {},
   "outputs": [
    {
     "data": {
      "text/plain": [
       "<Axes: >"
      ]
     },
     "execution_count": 247,
     "metadata": {},
     "output_type": "execute_result"
    },
    {
     "data": {
      "image/png": "[encoded data removed]",
      "text/plain": [
       "<Figure size 640x480 with 1 Axes>"
      ]
     },
     "metadata": {},
     "output_type": "display_data"
    }
   ],
   "source": [
    "median_low_profit_genre.sort_values(ascending=False).plot.bar()"
   ]
  },
  {
   "cell_type": "code",
   "execution_count": 248,
   "metadata": {},
   "outputs": [
    {
     "data": {
      "text/plain": [
       "<Axes: >"
      ]
     },
     "execution_count": 248,
     "metadata": {},
     "output_type": "execute_result"
    },
    {
     "data": {
      "image/png": "[encoded data removed]",
      "text/plain": [
       "<Figure size 640x480 with 1 Axes>"
      ]
     },
     "metadata": {},
     "output_type": "display_data"
    }
   ],
   "source": [
    "low_profit_genre.drop('Profit').mean(axis=1).sort_values(ascending=False).plot.bar()"
   ]
  },
  {
   "cell_type": "code",
   "execution_count": 252,
   "metadata": {},
   "outputs": [
    {
     "data": {
      "text/plain": [
       "<Axes: >"
      ]
     },
     "execution_count": 252,
     "metadata": {},
     "output_type": "execute_result"
    },
    {
     "data": {
      "image/png": "[encoded data removed]",
      "text/plain": [
       "<Figure size 640x480 with 1 Axes>"
      ]
     },
     "metadata": {},
     "output_type": "display_data"
    }
   ],
   "source": [
    "low_profit_genre.drop('Profit').quantile(q=0.75, axis=1).sort_values(ascending=False).plot.bar()"
   ]
  },
  {
   "cell_type": "markdown",
   "metadata": {},
   "source": [
    "### Profit %"
   ]
  },
  {
   "cell_type": "code",
   "execution_count": 258,
   "metadata": {},
   "outputs": [
    {
     "data": {
      "text/html": [
       "<div>\n",
       "<style scoped>\n",
       "    .dataframe tbody tr th:only-of-type {\n",
       "        vertical-align: middle;\n",
       "    }\n",
       "\n",
       "    .dataframe tbody tr th {\n",
       "        vertical-align: top;\n",
       "    }\n",
       "\n",
       "    .dataframe thead th {\n",
       "        text-align: right;\n",
       "    }\n",
       "</style>\n",
       "<table border=\"1\" class=\"dataframe\">\n",
       "  <thead>\n",
       "    <tr style=\"text-align: right;\">\n",
       "      <th></th>\n",
       "      <th>3</th>\n",
       "      <th>5</th>\n",
       "      <th>6</th>\n",
       "      <th>8</th>\n",
       "      <th>10</th>\n",
       "    </tr>\n",
       "  </thead>\n",
       "  <tbody>\n",
       "    <tr>\n",
       "      <th>Christian</th>\n",
       "      <td>0.0</td>\n",
       "      <td>0.0</td>\n",
       "      <td>0.0</td>\n",
       "      <td>0.0000</td>\n",
       "      <td>0.000000</td>\n",
       "    </tr>\n",
       "    <tr>\n",
       "      <th>action</th>\n",
       "      <td>0.0</td>\n",
       "      <td>0.0</td>\n",
       "      <td>0.0</td>\n",
       "      <td>0.0000</td>\n",
       "      <td>0.000000</td>\n",
       "    </tr>\n",
       "    <tr>\n",
       "      <th>biographical</th>\n",
       "      <td>0.0</td>\n",
       "      <td>0.0</td>\n",
       "      <td>0.0</td>\n",
       "      <td>0.0000</td>\n",
       "      <td>0.000000</td>\n",
       "    </tr>\n",
       "    <tr>\n",
       "      <th>black</th>\n",
       "      <td>0.0</td>\n",
       "      <td>0.0</td>\n",
       "      <td>0.0</td>\n",
       "      <td>0.0000</td>\n",
       "      <td>0.000000</td>\n",
       "    </tr>\n",
       "    <tr>\n",
       "      <th>comedy</th>\n",
       "      <td>0.0</td>\n",
       "      <td>0.0</td>\n",
       "      <td>-80.0</td>\n",
       "      <td>0.0000</td>\n",
       "      <td>0.000000</td>\n",
       "    </tr>\n",
       "    <tr>\n",
       "      <th>crime</th>\n",
       "      <td>0.0</td>\n",
       "      <td>0.0</td>\n",
       "      <td>0.0</td>\n",
       "      <td>0.0000</td>\n",
       "      <td>0.000000</td>\n",
       "    </tr>\n",
       "    <tr>\n",
       "      <th>drama</th>\n",
       "      <td>-10.0</td>\n",
       "      <td>0.0</td>\n",
       "      <td>-80.0</td>\n",
       "      <td>-93.1847</td>\n",
       "      <td>141.111115</td>\n",
       "    </tr>\n",
       "    <tr>\n",
       "      <th>fiction</th>\n",
       "      <td>0.0</td>\n",
       "      <td>0.0</td>\n",
       "      <td>0.0</td>\n",
       "      <td>0.0000</td>\n",
       "      <td>0.000000</td>\n",
       "    </tr>\n",
       "    <tr>\n",
       "      <th>horror</th>\n",
       "      <td>0.0</td>\n",
       "      <td>0.0</td>\n",
       "      <td>0.0</td>\n",
       "      <td>0.0000</td>\n",
       "      <td>0.000000</td>\n",
       "    </tr>\n",
       "    <tr>\n",
       "      <th>psychological</th>\n",
       "      <td>0.0</td>\n",
       "      <td>0.0</td>\n",
       "      <td>0.0</td>\n",
       "      <td>0.0000</td>\n",
       "      <td>0.000000</td>\n",
       "    </tr>\n",
       "  </tbody>\n",
       "</table>\n",
       "</div>"
      ],
      "text/plain": [
       "                 3    5     6        8           10\n",
       "Christian       0.0  0.0   0.0   0.0000    0.000000\n",
       "action          0.0  0.0   0.0   0.0000    0.000000\n",
       "biographical    0.0  0.0   0.0   0.0000    0.000000\n",
       "black           0.0  0.0   0.0   0.0000    0.000000\n",
       "comedy          0.0  0.0 -80.0   0.0000    0.000000\n",
       "crime           0.0  0.0   0.0   0.0000    0.000000\n",
       "drama         -10.0  0.0 -80.0 -93.1847  141.111115\n",
       "fiction         0.0  0.0   0.0   0.0000    0.000000\n",
       "horror          0.0  0.0   0.0   0.0000    0.000000\n",
       "psychological   0.0  0.0   0.0   0.0000    0.000000"
      ]
     },
     "execution_count": 258,
     "metadata": {},
     "output_type": "execute_result"
    }
   ],
   "source": [
    "def get_profit_perc(x):\n",
    "    for i in low_genres:\n",
    "        if x[i] == 1:\n",
    "            x[i] = x['Profit perc']\n",
    "    return x\n",
    "\n",
    "low_profitperc_genre = df.loc[low_budget,low_genres + ['Profit perc']].T.apply(get_profit_perc, axis=0)\n",
    "low_profitperc_genre.iloc[:10,:5]"
   ]
  },
  {
   "cell_type": "code",
   "execution_count": 259,
   "metadata": {},
   "outputs": [],
   "source": [
    "low_profitperc_genre[low_profitperc_genre == 0] = np.nan"
   ]
  },
  {
   "cell_type": "code",
   "execution_count": 263,
   "metadata": {},
   "outputs": [
    {
     "data": {
      "image/png": "[encoded data removed]",
      "text/plain": [
       "<Figure size 640x480 with 1 Axes>"
      ]
     },
     "metadata": {},
     "output_type": "display_data"
    }
   ],
   "source": [
    "low_profitperc_genre.drop('Profit perc').median(axis=1).sort_values(ascending=False).plot.bar();"
   ]
  },
  {
   "cell_type": "code",
   "execution_count": 264,
   "metadata": {},
   "outputs": [
    {
     "data": {
      "image/png": "[encoded data removed]",
      "text/plain": [
       "<Figure size 640x480 with 1 Axes>"
      ]
     },
     "metadata": {},
     "output_type": "display_data"
    }
   ],
   "source": [
    "low_profitperc_genre.drop('Profit perc').quantile(q=0.75,axis=1).sort_values(ascending=False).plot.bar();"
   ]
  },
  {
   "cell_type": "markdown",
   "metadata": {},
   "source": [
    "## Mid-Budget analysis"
   ]
  },
  {
   "cell_type": "markdown",
   "metadata": {},
   "source": [
    "### Profits"
   ]
  },
  {
   "cell_type": "code",
   "execution_count": 268,
   "metadata": {},
   "outputs": [
    {
     "data": {
      "text/html": [
       "<div>\n",
       "<style scoped>\n",
       "    .dataframe tbody tr th:only-of-type {\n",
       "        vertical-align: middle;\n",
       "    }\n",
       "\n",
       "    .dataframe tbody tr th {\n",
       "        vertical-align: top;\n",
       "    }\n",
       "\n",
       "    .dataframe thead th {\n",
       "        text-align: right;\n",
       "    }\n",
       "</style>\n",
       "<table border=\"1\" class=\"dataframe\">\n",
       "  <thead>\n",
       "    <tr style=\"text-align: right;\">\n",
       "      <th></th>\n",
       "      <th>0</th>\n",
       "      <th>1</th>\n",
       "      <th>4</th>\n",
       "      <th>7</th>\n",
       "      <th>11</th>\n",
       "    </tr>\n",
       "  </thead>\n",
       "  <tbody>\n",
       "    <tr>\n",
       "      <th>Christian</th>\n",
       "      <td>0.0</td>\n",
       "      <td>0.000000</td>\n",
       "      <td>0.000000</td>\n",
       "      <td>0.0</td>\n",
       "      <td>0.0</td>\n",
       "    </tr>\n",
       "    <tr>\n",
       "      <th>Western</th>\n",
       "      <td>0.0</td>\n",
       "      <td>0.000000</td>\n",
       "      <td>0.000000</td>\n",
       "      <td>0.0</td>\n",
       "      <td>0.0</td>\n",
       "    </tr>\n",
       "    <tr>\n",
       "      <th>action</th>\n",
       "      <td>0.0</td>\n",
       "      <td>278.399994</td>\n",
       "      <td>0.000000</td>\n",
       "      <td>-12.7</td>\n",
       "      <td>0.0</td>\n",
       "    </tr>\n",
       "    <tr>\n",
       "      <th>adventure</th>\n",
       "      <td>0.0</td>\n",
       "      <td>0.000000</td>\n",
       "      <td>0.000000</td>\n",
       "      <td>0.0</td>\n",
       "      <td>0.0</td>\n",
       "    </tr>\n",
       "    <tr>\n",
       "      <th>animated</th>\n",
       "      <td>0.0</td>\n",
       "      <td>0.000000</td>\n",
       "      <td>0.000000</td>\n",
       "      <td>0.0</td>\n",
       "      <td>0.0</td>\n",
       "    </tr>\n",
       "    <tr>\n",
       "      <th>biographical</th>\n",
       "      <td>0.0</td>\n",
       "      <td>0.000000</td>\n",
       "      <td>0.000000</td>\n",
       "      <td>0.0</td>\n",
       "      <td>0.0</td>\n",
       "    </tr>\n",
       "    <tr>\n",
       "      <th>black</th>\n",
       "      <td>0.0</td>\n",
       "      <td>0.000000</td>\n",
       "      <td>0.000000</td>\n",
       "      <td>0.0</td>\n",
       "      <td>0.0</td>\n",
       "    </tr>\n",
       "    <tr>\n",
       "      <th>buddy</th>\n",
       "      <td>0.0</td>\n",
       "      <td>0.000000</td>\n",
       "      <td>56.799999</td>\n",
       "      <td>0.0</td>\n",
       "      <td>0.0</td>\n",
       "    </tr>\n",
       "    <tr>\n",
       "      <th>comedy</th>\n",
       "      <td>0.0</td>\n",
       "      <td>0.000000</td>\n",
       "      <td>56.799999</td>\n",
       "      <td>-12.7</td>\n",
       "      <td>0.0</td>\n",
       "    </tr>\n",
       "    <tr>\n",
       "      <th>crime</th>\n",
       "      <td>0.0</td>\n",
       "      <td>0.000000</td>\n",
       "      <td>0.000000</td>\n",
       "      <td>0.0</td>\n",
       "      <td>0.0</td>\n",
       "    </tr>\n",
       "  </tbody>\n",
       "</table>\n",
       "</div>"
      ],
      "text/plain": [
       "               0           1          4     7    11\n",
       "Christian     0.0    0.000000   0.000000   0.0  0.0\n",
       "Western       0.0    0.000000   0.000000   0.0  0.0\n",
       "action        0.0  278.399994   0.000000 -12.7  0.0\n",
       "adventure     0.0    0.000000   0.000000   0.0  0.0\n",
       "animated      0.0    0.000000   0.000000   0.0  0.0\n",
       "biographical  0.0    0.000000   0.000000   0.0  0.0\n",
       "black         0.0    0.000000   0.000000   0.0  0.0\n",
       "buddy         0.0    0.000000  56.799999   0.0  0.0\n",
       "comedy        0.0    0.000000  56.799999 -12.7  0.0\n",
       "crime         0.0    0.000000   0.000000   0.0  0.0"
      ]
     },
     "execution_count": 268,
     "metadata": {},
     "output_type": "execute_result"
    }
   ],
   "source": [
    "def get_profits(x):\n",
    "    for i in genres:\n",
    "        if x[i] == 1:\n",
    "            x[i] = x['Profit']\n",
    "    return x\n",
    "        \n",
    "\n",
    "mid_profit_genre = df.loc[mid_budget,genres + ['Profit']].T.apply(get_profits, axis=0)\n",
    "mid_profit_genre.iloc[:10,:5]"
   ]
  },
  {
   "cell_type": "code",
   "execution_count": 270,
   "metadata": {},
   "outputs": [
    {
     "data": {
      "text/plain": [
       "Christian          5\n",
       "Western            9\n",
       "action            91\n",
       "adventure         23\n",
       "animated          20\n",
       "biographical      56\n",
       "black             10\n",
       "buddy             10\n",
       "comedy           164\n",
       "crime             31\n",
       "drama            154\n",
       "dystopian          6\n",
       "fantasy           16\n",
       "fiction           28\n",
       "heist              7\n",
       "historical        11\n",
       "horror            53\n",
       "musical           17\n",
       "mystery            9\n",
       "neo               10\n",
       "psychological     16\n",
       "romantic          52\n",
       "science           30\n",
       "sports            16\n",
       "superhero          5\n",
       "supernatural      24\n",
       "thriller          73\n",
       "war               10\n",
       "Profit           473\n",
       "dtype: int64"
      ]
     },
     "execution_count": 270,
     "metadata": {},
     "output_type": "execute_result"
    }
   ],
   "source": [
    "mid_profit_genre[mid_profit_genre == 0] = np.nan\n",
    "\n",
    "mid_genres = mid_profit_genre.T.notna().sum()\n",
    "mid_genres = mid_genres[mid_genres>4]\n",
    "mid_genres"
   ]
  },
  {
   "cell_type": "code",
   "execution_count": 274,
   "metadata": {},
   "outputs": [],
   "source": [
    "mid_genres = mid_genres.to_frame().T.columns.tolist()[:-1]"
   ]
  },
  {
   "cell_type": "code",
   "execution_count": 277,
   "metadata": {},
   "outputs": [],
   "source": [
    "def get_profits(x):\n",
    "    for i in mid_genres:\n",
    "        if x[i] == 1:\n",
    "            x[i] = x['Profit']\n",
    "    return x\n",
    "\n",
    "mid_profit_genre = df.loc[mid_budget,mid_genres + ['Profit']].T.apply(get_profits, axis=0)"
   ]
  },
  {
   "cell_type": "code",
   "execution_count": 279,
   "metadata": {},
   "outputs": [],
   "source": [
    "mid_profit_genre[mid_profit_genre == 0] = np.nan"
   ]
  },
  {
   "cell_type": "code",
   "execution_count": 282,
   "metadata": {},
   "outputs": [
    {
     "data": {
      "image/png": "[encoded data removed]",
      "text/plain": [
       "<Figure size 640x480 with 1 Axes>"
      ]
     },
     "metadata": {},
     "output_type": "display_data"
    }
   ],
   "source": [
    "mid_profit_genre.drop('Profit').quantile(q=0.25,axis=1).sort_values(ascending=False).plot.bar();"
   ]
  },
  {
   "cell_type": "markdown",
   "metadata": {},
   "source": [
    "### Profit %"
   ]
  },
  {
   "cell_type": "code",
   "execution_count": 283,
   "metadata": {},
   "outputs": [],
   "source": [
    "def get_profit_perc(x):\n",
    "    for i in mid_genres:\n",
    "        if x[i] == 1:\n",
    "            x[i] = x['Profit perc']\n",
    "    return x\n",
    "\n",
    "mid_profitperc_genre = df.loc[mid_budget,mid_genres + ['Profit perc']].T.apply(get_profit_perc, axis=0)\n",
    "\n",
    "mid_profitperc_genre[mid_profitperc_genre == 0] = np.nan"
   ]
  },
  {
   "cell_type": "code",
   "execution_count": 286,
   "metadata": {},
   "outputs": [
    {
     "data": {
      "image/png": "[encoded data removed]",
      "text/plain": [
       "<Figure size 640x480 with 1 Axes>"
      ]
     },
     "metadata": {},
     "output_type": "display_data"
    }
   ],
   "source": [
    "mid_profitperc_genre.drop('Profit perc').quantile(q=0.75,axis=1).sort_values(ascending=False).plot.bar();"
   ]
  },
  {
   "cell_type": "markdown",
   "metadata": {},
   "source": [
    "## High-Budget analysis"
   ]
  },
  {
   "cell_type": "markdown",
   "metadata": {},
   "source": [
    "### Profits"
   ]
  },
  {
   "cell_type": "code",
   "execution_count": 288,
   "metadata": {},
   "outputs": [
    {
     "data": {
      "text/plain": [
       "Christian         17\n",
       "Western           11\n",
       "action           104\n",
       "adventure         24\n",
       "animated          23\n",
       "biographical      68\n",
       "black             19\n",
       "buddy             11\n",
       "comedy           232\n",
       "crime             40\n",
       "drama            269\n",
       "dystopian          9\n",
       "fantasy           21\n",
       "fiction           39\n",
       "heist             10\n",
       "historical        14\n",
       "horror           111\n",
       "musical           19\n",
       "mystery           12\n",
       "neo               10\n",
       "psychological     33\n",
       "romantic          81\n",
       "science           42\n",
       "slasher           11\n",
       "sports            19\n",
       "superhero         10\n",
       "supernatural      46\n",
       "thriller         114\n",
       "war               14\n",
       "Profit           731\n",
       "dtype: int64"
      ]
     },
     "execution_count": 288,
     "metadata": {},
     "output_type": "execute_result"
    }
   ],
   "source": [
    "def get_profits(x):\n",
    "    for i in genres:\n",
    "        if x[i] == 1:\n",
    "            x[i] = x['Profit']\n",
    "    return x\n",
    "        \n",
    "\n",
    "high_profit_genre = df.loc[high_budget,genres + ['Profit']].T.apply(get_profits, axis=0)\n",
    "\n",
    "high_profit_genre[high_profit_genre == 0] = np.nan\n",
    "\n",
    "high_genres = high_profit_genre.T.notna().sum()\n",
    "high_genres = high_genres[high_genres>7]\n",
    "high_genres"
   ]
  },
  {
   "cell_type": "code",
   "execution_count": 289,
   "metadata": {},
   "outputs": [],
   "source": [
    "high_genres = high_genres.to_frame().T.columns.tolist()[:-1]\n",
    "\n",
    "def get_profits(x):\n",
    "    for i in high_genres:\n",
    "        if x[i] == 1:\n",
    "            x[i] = x['Profit']\n",
    "    return x\n",
    "\n",
    "high_profit_genre = df.loc[high_budget,high_genres + ['Profit']].T.apply(get_profits, axis=0)"
   ]
  },
  {
   "cell_type": "code",
   "execution_count": 294,
   "metadata": {},
   "outputs": [],
   "source": [
    "high_profit_genre[high_profit_genre == 0] = np.nan"
   ]
  },
  {
   "cell_type": "code",
   "execution_count": 299,
   "metadata": {},
   "outputs": [
    {
     "data": {
      "image/png": "[encoded data removed]",
      "text/plain": [
       "<Figure size 640x480 with 1 Axes>"
      ]
     },
     "metadata": {},
     "output_type": "display_data"
    }
   ],
   "source": [
    "high_profit_genre.drop('Profit').quantile(q=0.25,axis=1).sort_values(ascending=False).plot.bar();"
   ]
  },
  {
   "cell_type": "markdown",
   "metadata": {},
   "source": [
    "### Profit %"
   ]
  },
  {
   "cell_type": "code",
   "execution_count": 300,
   "metadata": {},
   "outputs": [],
   "source": [
    "def get_profit_perc(x):\n",
    "    for i in high_genres:\n",
    "        if x[i] == 1:\n",
    "            x[i] = x['Profit perc']\n",
    "    return x\n",
    "\n",
    "high_profitperc_genre = df.loc[high_budget,high_genres + ['Profit perc']].T.apply(get_profit_perc, axis=0)\n",
    "\n",
    "high_profitperc_genre[high_profitperc_genre == 0] = np.nan"
   ]
  },
  {
   "cell_type": "code",
   "execution_count": 303,
   "metadata": {},
   "outputs": [
    {
     "data": {
      "image/png": "[encoded data removed]",
      "text/plain": [
       "<Figure size 640x480 with 1 Axes>"
      ]
     },
     "metadata": {},
     "output_type": "display_data"
    }
   ],
   "source": [
    "high_profitperc_genre.drop('Profit perc').quantile(q=0.75,axis=1).sort_values(ascending=False).plot.bar();"
   ]
  },
  {
   "cell_type": "code",
   "execution_count": null,
   "metadata": {},
   "outputs": [],
   "source": []
  }
 ],
 "metadata": {
  "kernelspec": {
   "display_name": "base",
   "language": "python",
   "name": "python3"
  },
  "language_info": {
   "codemirror_mode": {
    "name": "ipython",
    "version": 3
   },
   "file_extension": ".py",
   "mimetype": "text/x-python",
   "name": "python",
   "nbconvert_exporter": "python",
   "pygments_lexer": "ipython3",
   "version": "3.11.5"
  }
 },
 "nbformat": 4,
 "nbformat_minor": 2
}
