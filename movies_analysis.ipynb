{
 "cells": [
  {
   "cell_type": "code",
   "execution_count": 1,
   "metadata": {},
   "outputs": [],
   "source": [
    "import pandas as pd\n",
    "import numpy as np \n",
    "import re"
   ]
  },
  {
   "cell_type": "code",
   "execution_count": 2,
   "metadata": {},
   "outputs": [],
   "source": [
    "df = pd.read_csv(r'movies_2004_2023.csv')"
   ]
  },
  {
   "cell_type": "code",
   "execution_count": 3,
   "metadata": {},
   "outputs": [
    {
     "data": {
      "text/html": [
       "<div>\n",
       "<style scoped>\n",
       "    .dataframe tbody tr th:only-of-type {\n",
       "        vertical-align: middle;\n",
       "    }\n",
       "\n",
       "    .dataframe tbody tr th {\n",
       "        vertical-align: top;\n",
       "    }\n",
       "\n",
       "    .dataframe thead th {\n",
       "        text-align: right;\n",
       "    }\n",
       "</style>\n",
       "<table border=\"1\" class=\"dataframe\">\n",
       "  <thead>\n",
       "    <tr style=\"text-align: right;\">\n",
       "      <th></th>\n",
       "      <th>Year</th>\n",
       "      <th>Month</th>\n",
       "      <th>Day</th>\n",
       "      <th>Title</th>\n",
       "      <th>Link</th>\n",
       "      <th>List</th>\n",
       "      <th>Genres</th>\n",
       "      <th>Budget</th>\n",
       "      <th>Box office</th>\n",
       "    </tr>\n",
       "  </thead>\n",
       "  <tbody>\n",
       "    <tr>\n",
       "      <th>0</th>\n",
       "      <td>2004</td>\n",
       "      <td>1</td>\n",
       "      <td>9.0</td>\n",
       "      <td>Chasing Liberty</td>\n",
       "      <td>/wiki/Chasing_Liberty</td>\n",
       "      <td>['romantic comedy', '$23 million[1]', '$12 mil...</td>\n",
       "      <td>romantic comedy</td>\n",
       "      <td>$23 million[1]</td>\n",
       "      <td>$12 million[1]</td>\n",
       "    </tr>\n",
       "    <tr>\n",
       "      <th>1</th>\n",
       "      <td>2004</td>\n",
       "      <td>1</td>\n",
       "      <td>16.0</td>\n",
       "      <td>Along Came Polly</td>\n",
       "      <td>/wiki/Along_Came_Polly</td>\n",
       "      <td>[' romantic comedy', '$42 million', '$178.3 mi...</td>\n",
       "      <td>romantic comedy</td>\n",
       "      <td>$42 million</td>\n",
       "      <td>$178.3 million[1]</td>\n",
       "    </tr>\n",
       "    <tr>\n",
       "      <th>2</th>\n",
       "      <td>2004</td>\n",
       "      <td>1</td>\n",
       "      <td>16.0</td>\n",
       "      <td>Torque</td>\n",
       "      <td>/wiki/Torque_(film)</td>\n",
       "      <td>[' action film directed by Joseph Kahn (in his...</td>\n",
       "      <td>action film directed by Joseph Kahn (in his f...</td>\n",
       "      <td>$40 million[1]</td>\n",
       "      <td>$46.5 million[1]</td>\n",
       "    </tr>\n",
       "    <tr>\n",
       "      <th>3</th>\n",
       "      <td>2004</td>\n",
       "      <td>1</td>\n",
       "      <td>22.0</td>\n",
       "      <td>D.E.B.S.</td>\n",
       "      <td>/wiki/D.E.B.S._(2004_film)</td>\n",
       "      <td>[' action comedy', '$3.5 million[2]', '$97,446...</td>\n",
       "      <td>action comedy</td>\n",
       "      <td>$3.5 million[2]</td>\n",
       "      <td>$97,446[3]</td>\n",
       "    </tr>\n",
       "    <tr>\n",
       "      <th>4</th>\n",
       "      <td>2004</td>\n",
       "      <td>1</td>\n",
       "      <td>23.0</td>\n",
       "      <td>The Butterfly Effect</td>\n",
       "      <td>/wiki/The_Butterfly_Effect</td>\n",
       "      <td>[' science fiction thriller', '$13 million[1]'...</td>\n",
       "      <td>science fiction thriller</td>\n",
       "      <td>$13 million[1]</td>\n",
       "      <td>$96.8 million[2]</td>\n",
       "    </tr>\n",
       "  </tbody>\n",
       "</table>\n",
       "</div>"
      ],
      "text/plain": [
       "   Year  Month   Day                 Title                        Link  \\\n",
       "0  2004      1   9.0       Chasing Liberty       /wiki/Chasing_Liberty   \n",
       "1  2004      1  16.0      Along Came Polly      /wiki/Along_Came_Polly   \n",
       "2  2004      1  16.0                Torque         /wiki/Torque_(film)   \n",
       "3  2004      1  22.0              D.E.B.S.  /wiki/D.E.B.S._(2004_film)   \n",
       "4  2004      1  23.0  The Butterfly Effect  /wiki/The_Butterfly_Effect   \n",
       "\n",
       "                                                List  \\\n",
       "0  ['romantic comedy', '$23 million[1]', '$12 mil...   \n",
       "1  [' romantic comedy', '$42 million', '$178.3 mi...   \n",
       "2  [' action film directed by Joseph Kahn (in his...   \n",
       "3  [' action comedy', '$3.5 million[2]', '$97,446...   \n",
       "4  [' science fiction thriller', '$13 million[1]'...   \n",
       "\n",
       "                                              Genres           Budget  \\\n",
       "0                                    romantic comedy   $23 million[1]   \n",
       "1                                    romantic comedy      $42 million   \n",
       "2   action film directed by Joseph Kahn (in his f...   $40 million[1]   \n",
       "3                                      action comedy  $3.5 million[2]   \n",
       "4                           science fiction thriller   $13 million[1]   \n",
       "\n",
       "          Box office  \n",
       "0     $12 million[1]  \n",
       "1  $178.3 million[1]  \n",
       "2   $46.5 million[1]  \n",
       "3         $97,446[3]  \n",
       "4   $96.8 million[2]  "
      ]
     },
     "execution_count": 3,
     "metadata": {},
     "output_type": "execute_result"
    }
   ],
   "source": [
    "df.head()"
   ]
  },
  {
   "cell_type": "code",
   "execution_count": 4,
   "metadata": {},
   "outputs": [
    {
     "name": "stdout",
     "output_type": "stream",
     "text": [
      "<class 'pandas.core.frame.DataFrame'>\n",
      "RangeIndex: 2938 entries, 0 to 2937\n",
      "Data columns (total 9 columns):\n",
      " #   Column      Non-Null Count  Dtype  \n",
      "---  ------      --------------  -----  \n",
      " 0   Year        2938 non-null   int64  \n",
      " 1   Month       2938 non-null   int64  \n",
      " 2   Day         2938 non-null   float64\n",
      " 3   Title       2938 non-null   object \n",
      " 4   Link        2938 non-null   object \n",
      " 5   List        2938 non-null   object \n",
      " 6   Genres      2938 non-null   object \n",
      " 7   Budget      2937 non-null   object \n",
      " 8   Box office  2938 non-null   object \n",
      "dtypes: float64(1), int64(2), object(6)\n",
      "memory usage: 206.7+ KB\n"
     ]
    }
   ],
   "source": [
    "df.info()"
   ]
  },
  {
   "cell_type": "markdown",
   "metadata": {},
   "source": [
    "### Cleaning the Budget col"
   ]
  },
  {
   "cell_type": "code",
   "execution_count": 5,
   "metadata": {},
   "outputs": [
    {
     "data": {
      "text/html": [
       "<div>\n",
       "<style scoped>\n",
       "    .dataframe tbody tr th:only-of-type {\n",
       "        vertical-align: middle;\n",
       "    }\n",
       "\n",
       "    .dataframe tbody tr th {\n",
       "        vertical-align: top;\n",
       "    }\n",
       "\n",
       "    .dataframe thead th {\n",
       "        text-align: right;\n",
       "    }\n",
       "</style>\n",
       "<table border=\"1\" class=\"dataframe\">\n",
       "  <thead>\n",
       "    <tr style=\"text-align: right;\">\n",
       "      <th></th>\n",
       "      <th>Year</th>\n",
       "      <th>Month</th>\n",
       "      <th>Day</th>\n",
       "      <th>Title</th>\n",
       "      <th>Link</th>\n",
       "      <th>List</th>\n",
       "      <th>Genres</th>\n",
       "      <th>Budget</th>\n",
       "      <th>Box office</th>\n",
       "    </tr>\n",
       "  </thead>\n",
       "  <tbody>\n",
       "    <tr>\n",
       "      <th>2935</th>\n",
       "      <td>2023</td>\n",
       "      <td>12</td>\n",
       "      <td>25.0</td>\n",
       "      <td>The Color Purple</td>\n",
       "      <td>/wiki/The_Color_Purple_(2023_film)</td>\n",
       "      <td>[' coming-of-age musical period drama', '$90–1...</td>\n",
       "      <td>coming-of-age musical period drama</td>\n",
       "      <td>$90–100 million</td>\n",
       "      <td>$47.2 million</td>\n",
       "    </tr>\n",
       "    <tr>\n",
       "      <th>2936</th>\n",
       "      <td>2023</td>\n",
       "      <td>12</td>\n",
       "      <td>25.0</td>\n",
       "      <td>The Boys in the Boat</td>\n",
       "      <td>/wiki/The_Boys_in_the_Boat_(film)</td>\n",
       "      <td>[' biographical sports drama', '$40 million[4]...</td>\n",
       "      <td>biographical sports drama</td>\n",
       "      <td>$40 million</td>\n",
       "      <td>$24.8 million</td>\n",
       "    </tr>\n",
       "    <tr>\n",
       "      <th>2937</th>\n",
       "      <td>2023</td>\n",
       "      <td>12</td>\n",
       "      <td>25.0</td>\n",
       "      <td>Ferrari</td>\n",
       "      <td>/wiki/Ferrari_(2023_film)</td>\n",
       "      <td>[' biographical sports drama', '$95 million[4]...</td>\n",
       "      <td>biographical sports drama</td>\n",
       "      <td>$95 million</td>\n",
       "      <td>$14.7 million</td>\n",
       "    </tr>\n",
       "  </tbody>\n",
       "</table>\n",
       "</div>"
      ],
      "text/plain": [
       "      Year  Month   Day                 Title  \\\n",
       "2935  2023     12  25.0      The Color Purple   \n",
       "2936  2023     12  25.0  The Boys in the Boat   \n",
       "2937  2023     12  25.0               Ferrari   \n",
       "\n",
       "                                    Link  \\\n",
       "2935  /wiki/The_Color_Purple_(2023_film)   \n",
       "2936   /wiki/The_Boys_in_the_Boat_(film)   \n",
       "2937           /wiki/Ferrari_(2023_film)   \n",
       "\n",
       "                                                   List  \\\n",
       "2935  [' coming-of-age musical period drama', '$90–1...   \n",
       "2936  [' biographical sports drama', '$40 million[4]...   \n",
       "2937  [' biographical sports drama', '$95 million[4]...   \n",
       "\n",
       "                                   Genres           Budget     Box office  \n",
       "2935   coming-of-age musical period drama  $90–100 million  $47.2 million  \n",
       "2936            biographical sports drama      $40 million  $24.8 million  \n",
       "2937            biographical sports drama      $95 million  $14.7 million  "
      ]
     },
     "execution_count": 5,
     "metadata": {},
     "output_type": "execute_result"
    }
   ],
   "source": [
    "df['Budget'] = df['Budget'].str.split('[').str.get(0)\n",
    "df['Box office'] = df['Box office'].str.split('[').str.get(0)\n",
    "df.tail(3)"
   ]
  },
  {
   "cell_type": "markdown",
   "metadata": {},
   "source": [
    "#### Handle the budget with the - (dash)"
   ]
  },
  {
   "cell_type": "code",
   "execution_count": 6,
   "metadata": {},
   "outputs": [],
   "source": [
    "df.rename(columns={'Budget':'Budget2'}, inplace=True)\n",
    "df['Budget2'] = df['Budget2'].str.replace(r'–', '-')"
   ]
  },
  {
   "cell_type": "code",
   "execution_count": 7,
   "metadata": {},
   "outputs": [
    {
     "data": {
      "text/plain": [
       "True"
      ]
     },
     "execution_count": 7,
     "metadata": {},
     "output_type": "execute_result"
    }
   ],
   "source": [
    "mask = df['Budget2'].str.find('-')\n",
    "mask = mask != -1\n",
    "\n",
    "(df.loc[mask, 'Budget2'].str.contains('million', case=False)).any()"
   ]
  },
  {
   "cell_type": "code",
   "execution_count": 8,
   "metadata": {},
   "outputs": [
    {
     "data": {
      "text/plain": [
       "Budget2\n",
       "True     386\n",
       "False      1\n",
       "Name: count, dtype: int64"
      ]
     },
     "execution_count": 8,
     "metadata": {},
     "output_type": "execute_result"
    }
   ],
   "source": [
    "(df.loc[mask, 'Budget2'].str.contains('million', case=False)).value_counts()"
   ]
  },
  {
   "cell_type": "code",
   "execution_count": 9,
   "metadata": {},
   "outputs": [],
   "source": [
    "df.drop(df.loc[df['Budget2'].isna()].index, inplace=True)"
   ]
  },
  {
   "cell_type": "code",
   "execution_count": 10,
   "metadata": {},
   "outputs": [
    {
     "data": {
      "text/plain": [
       "1531    $50,000-100,000\n",
       "Name: Budget2, dtype: object"
      ]
     },
     "execution_count": 10,
     "metadata": {},
     "output_type": "execute_result"
    }
   ],
   "source": [
    "df.loc[(mask) & (~(df['Budget2'].str.contains('million', case=False))), 'Budget2']"
   ]
  },
  {
   "cell_type": "code",
   "execution_count": 11,
   "metadata": {},
   "outputs": [],
   "source": [
    "def get_mean_budget(x):\n",
    "    pattern = r'\\$?([\\d\\.]*)-\\$?([\\d\\.]*)'\n",
    "    if re.search('million', x):\n",
    "        try:\n",
    "            finds = re.findall(pattern, x)[0]\n",
    "            return (float(finds[0]) + float(finds[1])) / 2\n",
    "        except:\n",
    "            pattern = r'\\$?([\\d\\.]*)[\\s\\w]*-[\\s\\$]?([\\d\\.]*)'\n",
    "            finds = re.findall(pattern, x)[0]\n",
    "            return (float(finds[0]) + float(finds[1])) / 2 \n",
    "    else:\n",
    "        pattern = r'\\$?([\\d,]*)[\\s\\w]*-[\\s\\$]?([\\d,]*)'\n",
    "        finds = re.findall(pattern, x)[0]\n",
    "        return (float(finds[0].replace(',', '')) + float(finds[1].replace(',', ''))) / 2000000\n",
    "\n",
    "df['Budget'] = df.loc[mask, 'Budget2'].apply(get_mean_budget)"
   ]
  },
  {
   "cell_type": "code",
   "execution_count": 12,
   "metadata": {},
   "outputs": [
    {
     "data": {
      "text/plain": [
       "8     24.00\n",
       "27    52.50\n",
       "28     2.35\n",
       "45    65.00\n",
       "49    22.50\n",
       "Name: Budget, dtype: float64"
      ]
     },
     "execution_count": 12,
     "metadata": {},
     "output_type": "execute_result"
    }
   ],
   "source": [
    "df.loc[mask, 'Budget'][:5]"
   ]
  },
  {
   "cell_type": "markdown",
   "metadata": {},
   "source": [
    "#### Handle the budget without 'million'"
   ]
  },
  {
   "cell_type": "code",
   "execution_count": 13,
   "metadata": {},
   "outputs": [
    {
     "data": {
      "text/plain": [
       "Budget2\n",
       "True     2475\n",
       "False      75\n",
       "Name: count, dtype: int64"
      ]
     },
     "execution_count": 13,
     "metadata": {},
     "output_type": "execute_result"
    }
   ],
   "source": [
    "mask = df['Budget'].isna()\n",
    "\n",
    "(df.loc[mask, 'Budget2'].str.contains('million')).value_counts()"
   ]
  },
  {
   "cell_type": "code",
   "execution_count": 14,
   "metadata": {},
   "outputs": [
    {
     "data": {
      "text/plain": [
       "141                 $2,000,000\n",
       "152                   $500,000\n",
       "220                   $750,000\n",
       "298                   $950,000\n",
       "345                   $700,000\n",
       "372                   $100,000\n",
       "404                   $500,000\n",
       "441    $18,000,000 (estimated)\n",
       "478                   $750,000\n",
       "498                   $150,000\n",
       "Name: Budget2, dtype: object"
      ]
     },
     "execution_count": 14,
     "metadata": {},
     "output_type": "execute_result"
    }
   ],
   "source": [
    "mask2 = (df.loc[mask, 'Budget2'].str.find('million') == -1)\n",
    "df[mask].loc[mask2, 'Budget2'][:10]"
   ]
  },
  {
   "cell_type": "code",
   "execution_count": 15,
   "metadata": {},
   "outputs": [
    {
     "data": {
      "text/plain": [
       "141     2.00\n",
       "152     0.50\n",
       "220     0.75\n",
       "298     0.95\n",
       "345     0.70\n",
       "372     0.10\n",
       "404     0.50\n",
       "441    18.00\n",
       "478     0.75\n",
       "498     0.15\n",
       "Name: Budget, dtype: float64"
      ]
     },
     "execution_count": 15,
     "metadata": {},
     "output_type": "execute_result"
    }
   ],
   "source": [
    "def thousands_budget(x):\n",
    "    pattern = r'.?[\\$]([\\d,]+)'\n",
    "    try:\n",
    "        finds = re.findall(pattern, x)[0].replace(',','')\n",
    "        return float(finds) / 1000000\n",
    "    except:\n",
    "        return None\n",
    "\n",
    "df.loc[(mask & mask2), 'Budget'] = df.loc[(mask & mask2), 'Budget2'].apply(thousands_budget)\n",
    "df.loc[(mask & mask2), 'Budget'][:10]"
   ]
  },
  {
   "cell_type": "markdown",
   "metadata": {},
   "source": [
    "#### Handle the budget with 'million'"
   ]
  },
  {
   "cell_type": "code",
   "execution_count": 16,
   "metadata": {},
   "outputs": [
    {
     "data": {
      "text/plain": [
       "0     $23 million\n",
       "1     $42 million\n",
       "2     $40 million\n",
       "3    $3.5 million\n",
       "4     $13 million\n",
       "5     $22 million\n",
       "6     $50 million\n",
       "Name: Budget2, dtype: object"
      ]
     },
     "execution_count": 16,
     "metadata": {},
     "output_type": "execute_result"
    }
   ],
   "source": [
    "# mask = df['Budget'].isna()\n",
    "\n",
    "mask2 = (df.loc[mask, 'Budget2'].str.contains('million'))\n",
    "df.loc[(mask2 & mask), 'Budget2'][:7]"
   ]
  },
  {
   "cell_type": "code",
   "execution_count": 17,
   "metadata": {},
   "outputs": [],
   "source": [
    "def millions_budget(x):\n",
    "    pattern = r'[\\$€£]([\\d\\.]+)'\n",
    "    finds = re.findall(pattern, x)\n",
    "    if len(finds) == 0:\n",
    "        return None\n",
    "    else:\n",
    "        return float(finds[0])\n",
    "\n",
    "df.loc[(mask & mask2), 'Budget'] = df.loc[(mask & mask2), 'Budget2'].apply(millions_budget)"
   ]
  },
  {
   "cell_type": "code",
   "execution_count": 18,
   "metadata": {},
   "outputs": [
    {
     "data": {
      "text/plain": [
       "0    23.0\n",
       "1    42.0\n",
       "2    40.0\n",
       "3     3.5\n",
       "4    13.0\n",
       "5    22.0\n",
       "6    50.0\n",
       "Name: Budget, dtype: float64"
      ]
     },
     "execution_count": 18,
     "metadata": {},
     "output_type": "execute_result"
    }
   ],
   "source": [
    "df.loc[(mask & mask2), 'Budget'][:7]"
   ]
  },
  {
   "cell_type": "code",
   "execution_count": 19,
   "metadata": {},
   "outputs": [
    {
     "data": {
      "text/plain": [
       "False"
      ]
     },
     "execution_count": 19,
     "metadata": {},
     "output_type": "execute_result"
    }
   ],
   "source": [
    "df['Budget2'].str.contains('billion').any()"
   ]
  },
  {
   "cell_type": "code",
   "execution_count": 20,
   "metadata": {},
   "outputs": [
    {
     "data": {
      "text/plain": [
       "17"
      ]
     },
     "execution_count": 20,
     "metadata": {},
     "output_type": "execute_result"
    }
   ],
   "source": [
    "df['Budget'].isna().sum()"
   ]
  },
  {
   "cell_type": "code",
   "execution_count": 21,
   "metadata": {},
   "outputs": [],
   "source": [
    "df = df[df['Budget'].notna()]"
   ]
  },
  {
   "cell_type": "code",
   "execution_count": 22,
   "metadata": {},
   "outputs": [],
   "source": [
    "df = df[df['Budget'] > 0.010]"
   ]
  },
  {
   "cell_type": "markdown",
   "metadata": {},
   "source": [
    "### Cleaning Box office col"
   ]
  },
  {
   "cell_type": "code",
   "execution_count": 23,
   "metadata": {},
   "outputs": [
    {
     "data": {
      "text/plain": [
       "300"
      ]
     },
     "execution_count": 23,
     "metadata": {},
     "output_type": "execute_result"
    }
   ],
   "source": [
    "mask = (df['Box office'].str.find('million') == -1)\n",
    "mask.sum()"
   ]
  },
  {
   "cell_type": "code",
   "execution_count": 24,
   "metadata": {},
   "outputs": [
    {
     "data": {
      "text/plain": [
       "3          $97,446\n",
       "19      $1,491,434\n",
       "53     $12,009,070\n",
       "58     $21,839,377\n",
       "135     $1,126,258\n",
       "141     $1,691,706\n",
       "144     $4,143,652\n",
       "157       $251,495\n",
       "177       $192,186\n",
       "186     $3,344,431\n",
       "218       $689,028\n",
       "220       $537,667\n",
       "262       $454,026\n",
       "308    $29,612,137\n",
       "309     $3,306,629\n",
       "Name: Box office, dtype: object"
      ]
     },
     "execution_count": 24,
     "metadata": {},
     "output_type": "execute_result"
    }
   ],
   "source": [
    "df.loc[mask, 'Box office'][0:15]"
   ]
  },
  {
   "cell_type": "markdown",
   "metadata": {},
   "source": [
    "#### Handle the box office without 'million' and 'billion'"
   ]
  },
  {
   "cell_type": "code",
   "execution_count": 25,
   "metadata": {},
   "outputs": [
    {
     "data": {
      "text/plain": [
       "2868"
      ]
     },
     "execution_count": 25,
     "metadata": {},
     "output_type": "execute_result"
    }
   ],
   "source": [
    "mask2 = (df['Box office'].str.find('billion') == -1)\n",
    "mask2.sum()"
   ]
  },
  {
   "cell_type": "code",
   "execution_count": 26,
   "metadata": {},
   "outputs": [],
   "source": [
    "df = df.rename(columns={'Box office':'Box office2'})"
   ]
  },
  {
   "cell_type": "code",
   "execution_count": 27,
   "metadata": {},
   "outputs": [],
   "source": [
    "pattern = r'\\$([\\d,]+)'\n",
    "\n",
    "df.loc[(mask & mask2),'Box office'] = df.loc[(mask & mask2),\n",
    "                                             'Box office2'].str.findall(pattern).str.get(0).str.replace(',', '').astype('float32') / 1000000"
   ]
  },
  {
   "cell_type": "code",
   "execution_count": 28,
   "metadata": {},
   "outputs": [
    {
     "data": {
      "text/plain": [
       "3       0.097446\n",
       "19      1.491434\n",
       "53     12.009070\n",
       "58     21.839376\n",
       "135     1.126258\n",
       "141     1.691706\n",
       "144     4.143652\n",
       "157     0.251495\n",
       "177     0.192186\n",
       "186     3.344431\n",
       "Name: Box office, dtype: float64"
      ]
     },
     "execution_count": 28,
     "metadata": {},
     "output_type": "execute_result"
    }
   ],
   "source": [
    "df.loc[(mask & mask2),'Box office'][:10]"
   ]
  },
  {
   "cell_type": "markdown",
   "metadata": {},
   "source": [
    "#### Handle the Box office with 'million'"
   ]
  },
  {
   "cell_type": "code",
   "execution_count": 29,
   "metadata": {},
   "outputs": [
    {
     "data": {
      "text/html": [
       "<div>\n",
       "<style scoped>\n",
       "    .dataframe tbody tr th:only-of-type {\n",
       "        vertical-align: middle;\n",
       "    }\n",
       "\n",
       "    .dataframe tbody tr th {\n",
       "        vertical-align: top;\n",
       "    }\n",
       "\n",
       "    .dataframe thead th {\n",
       "        text-align: right;\n",
       "    }\n",
       "</style>\n",
       "<table border=\"1\" class=\"dataframe\">\n",
       "  <thead>\n",
       "    <tr style=\"text-align: right;\">\n",
       "      <th></th>\n",
       "      <th>Box office</th>\n",
       "      <th>Box office2</th>\n",
       "    </tr>\n",
       "  </thead>\n",
       "  <tbody>\n",
       "    <tr>\n",
       "      <th>1246</th>\n",
       "      <td>NaN</td>\n",
       "      <td>$2,5 million</td>\n",
       "    </tr>\n",
       "  </tbody>\n",
       "</table>\n",
       "</div>"
      ],
      "text/plain": [
       "      Box office   Box office2\n",
       "1246         NaN  $2,5 million"
      ]
     },
     "execution_count": 29,
     "metadata": {},
     "output_type": "execute_result"
    }
   ],
   "source": [
    "df.loc[df['Box office2'].str.contains(',') & df['Box office2'].str.contains('million'),\n",
    "       ['Box office', 'Box office2']][:7]"
   ]
  },
  {
   "cell_type": "code",
   "execution_count": 30,
   "metadata": {},
   "outputs": [],
   "source": [
    "df.drop(index=1246, inplace=True)"
   ]
  },
  {
   "cell_type": "code",
   "execution_count": 31,
   "metadata": {},
   "outputs": [],
   "source": [
    "pattern = r'\\$([\\d,\\.]+)'\n",
    "\n",
    "mask = (df['Box office2'].str.find('million') != -1)\n",
    "df.loc[mask,'Box office'] = df.loc[mask,\n",
    "                          'Box office2'].str.findall(pattern).str.get(0).str.replace(',', '').astype(float)"
   ]
  },
  {
   "cell_type": "code",
   "execution_count": 32,
   "metadata": {},
   "outputs": [
    {
     "data": {
      "text/html": [
       "<div>\n",
       "<style scoped>\n",
       "    .dataframe tbody tr th:only-of-type {\n",
       "        vertical-align: middle;\n",
       "    }\n",
       "\n",
       "    .dataframe tbody tr th {\n",
       "        vertical-align: top;\n",
       "    }\n",
       "\n",
       "    .dataframe thead th {\n",
       "        text-align: right;\n",
       "    }\n",
       "</style>\n",
       "<table border=\"1\" class=\"dataframe\">\n",
       "  <thead>\n",
       "    <tr style=\"text-align: right;\">\n",
       "      <th></th>\n",
       "      <th>Box office</th>\n",
       "      <th>Box office2</th>\n",
       "    </tr>\n",
       "  </thead>\n",
       "  <tbody>\n",
       "    <tr>\n",
       "      <th>0</th>\n",
       "      <td>12.0</td>\n",
       "      <td>$12 million</td>\n",
       "    </tr>\n",
       "    <tr>\n",
       "      <th>1</th>\n",
       "      <td>178.3</td>\n",
       "      <td>$178.3 million</td>\n",
       "    </tr>\n",
       "    <tr>\n",
       "      <th>2</th>\n",
       "      <td>46.5</td>\n",
       "      <td>$46.5 million</td>\n",
       "    </tr>\n",
       "    <tr>\n",
       "      <th>4</th>\n",
       "      <td>96.8</td>\n",
       "      <td>$96.8 million</td>\n",
       "    </tr>\n",
       "    <tr>\n",
       "      <th>5</th>\n",
       "      <td>21.3</td>\n",
       "      <td>$21.3 million</td>\n",
       "    </tr>\n",
       "    <tr>\n",
       "      <th>6</th>\n",
       "      <td>6.8</td>\n",
       "      <td>$6.8 million</td>\n",
       "    </tr>\n",
       "    <tr>\n",
       "      <th>7</th>\n",
       "      <td>50.6</td>\n",
       "      <td>$50.6 million</td>\n",
       "    </tr>\n",
       "  </tbody>\n",
       "</table>\n",
       "</div>"
      ],
      "text/plain": [
       "   Box office     Box office2\n",
       "0        12.0     $12 million\n",
       "1       178.3  $178.3 million\n",
       "2        46.5   $46.5 million\n",
       "4        96.8   $96.8 million\n",
       "5        21.3   $21.3 million\n",
       "6         6.8    $6.8 million\n",
       "7        50.6   $50.6 million"
      ]
     },
     "execution_count": 32,
     "metadata": {},
     "output_type": "execute_result"
    }
   ],
   "source": [
    "df.loc[mask,\n",
    "       ['Box office', 'Box office2']][:7]"
   ]
  },
  {
   "cell_type": "markdown",
   "metadata": {},
   "source": [
    "#### Handle the Box office with 'billion'"
   ]
  },
  {
   "cell_type": "code",
   "execution_count": 33,
   "metadata": {},
   "outputs": [
    {
     "data": {
      "text/plain": [
       "48"
      ]
     },
     "execution_count": 33,
     "metadata": {},
     "output_type": "execute_result"
    }
   ],
   "source": [
    "mask = (df['Box office2'].str.find('billion') != -1)\n",
    "mask.sum()"
   ]
  },
  {
   "cell_type": "code",
   "execution_count": 34,
   "metadata": {},
   "outputs": [
    {
     "data": {
      "text/plain": [
       "53"
      ]
     },
     "execution_count": 34,
     "metadata": {},
     "output_type": "execute_result"
    }
   ],
   "source": [
    "df['Box office'].isna().sum()"
   ]
  },
  {
   "cell_type": "code",
   "execution_count": 35,
   "metadata": {},
   "outputs": [],
   "source": [
    "df.loc[mask, 'Box office'] = df.loc[mask, 'Box office2'].str.findall(pattern).str.get(0).astype(float) * 1000"
   ]
  },
  {
   "cell_type": "code",
   "execution_count": 36,
   "metadata": {},
   "outputs": [
    {
     "data": {
      "text/html": [
       "<div>\n",
       "<style scoped>\n",
       "    .dataframe tbody tr th:only-of-type {\n",
       "        vertical-align: middle;\n",
       "    }\n",
       "\n",
       "    .dataframe tbody tr th {\n",
       "        vertical-align: top;\n",
       "    }\n",
       "\n",
       "    .dataframe thead th {\n",
       "        text-align: right;\n",
       "    }\n",
       "</style>\n",
       "<table border=\"1\" class=\"dataframe\">\n",
       "  <thead>\n",
       "    <tr style=\"text-align: right;\">\n",
       "      <th></th>\n",
       "      <th>Box office</th>\n",
       "      <th>Box office2</th>\n",
       "    </tr>\n",
       "  </thead>\n",
       "  <tbody>\n",
       "    <tr>\n",
       "      <th>329</th>\n",
       "      <td>1066.0</td>\n",
       "      <td>$1.066 billion</td>\n",
       "    </tr>\n",
       "    <tr>\n",
       "      <th>725</th>\n",
       "      <td>1006.0</td>\n",
       "      <td>$1.006billion</td>\n",
       "    </tr>\n",
       "    <tr>\n",
       "      <th>973</th>\n",
       "      <td>2923.0</td>\n",
       "      <td>$2.923 billion</td>\n",
       "    </tr>\n",
       "    <tr>\n",
       "      <th>1077</th>\n",
       "      <td>1067.0</td>\n",
       "      <td>$1.067 billion</td>\n",
       "    </tr>\n",
       "    <tr>\n",
       "      <th>1118</th>\n",
       "      <td>2923.0</td>\n",
       "      <td>$2.923 billion</td>\n",
       "    </tr>\n",
       "  </tbody>\n",
       "</table>\n",
       "</div>"
      ],
      "text/plain": [
       "      Box office     Box office2\n",
       "329       1066.0  $1.066 billion\n",
       "725       1006.0   $1.006billion\n",
       "973       2923.0  $2.923 billion\n",
       "1077      1067.0  $1.067 billion\n",
       "1118      2923.0  $2.923 billion"
      ]
     },
     "execution_count": 36,
     "metadata": {},
     "output_type": "execute_result"
    }
   ],
   "source": [
    "df.loc[mask, ['Box office','Box office2']][:5]"
   ]
  },
  {
   "cell_type": "code",
   "execution_count": 37,
   "metadata": {},
   "outputs": [
    {
     "data": {
      "text/html": [
       "<div>\n",
       "<style scoped>\n",
       "    .dataframe tbody tr th:only-of-type {\n",
       "        vertical-align: middle;\n",
       "    }\n",
       "\n",
       "    .dataframe tbody tr th {\n",
       "        vertical-align: top;\n",
       "    }\n",
       "\n",
       "    .dataframe thead th {\n",
       "        text-align: right;\n",
       "    }\n",
       "</style>\n",
       "<table border=\"1\" class=\"dataframe\">\n",
       "  <thead>\n",
       "    <tr style=\"text-align: right;\">\n",
       "      <th></th>\n",
       "      <th>Year</th>\n",
       "      <th>Month</th>\n",
       "      <th>Day</th>\n",
       "      <th>Title</th>\n",
       "      <th>Link</th>\n",
       "      <th>List</th>\n",
       "      <th>Genres</th>\n",
       "      <th>Budget2</th>\n",
       "      <th>Box office2</th>\n",
       "      <th>Budget</th>\n",
       "      <th>Box office</th>\n",
       "    </tr>\n",
       "  </thead>\n",
       "  <tbody>\n",
       "    <tr>\n",
       "      <th>627</th>\n",
       "      <td>2007</td>\n",
       "      <td>12</td>\n",
       "      <td>28.0</td>\n",
       "      <td>The Orphanage</td>\n",
       "      <td>/wiki/The_Orphanage_(2007_film)</td>\n",
       "      <td>['gothic supernatural horror', '€4.5 million[3...</td>\n",
       "      <td>gothic supernatural horror</td>\n",
       "      <td>€4.5 million</td>\n",
       "      <td>€65 million</td>\n",
       "      <td>4.5</td>\n",
       "      <td>NaN</td>\n",
       "    </tr>\n",
       "    <tr>\n",
       "      <th>838</th>\n",
       "      <td>2009</td>\n",
       "      <td>1</td>\n",
       "      <td>23.0</td>\n",
       "      <td>Donkey Punch</td>\n",
       "      <td>/wiki/Donkey_Punch_(2008_film)</td>\n",
       "      <td>[' horror thriller', '£1 million[2][3]', '£694...</td>\n",
       "      <td>horror thriller</td>\n",
       "      <td>£1 million</td>\n",
       "      <td>£694,422</td>\n",
       "      <td>1.0</td>\n",
       "      <td>NaN</td>\n",
       "    </tr>\n",
       "    <tr>\n",
       "      <th>1104</th>\n",
       "      <td>2010</td>\n",
       "      <td>8</td>\n",
       "      <td>6.0</td>\n",
       "      <td>The Disappearance of Alice Creed</td>\n",
       "      <td>/wiki/The_Disappearance_of_Alice_Creed</td>\n",
       "      <td>[' neo-noir', '$1.5 million[3]', '£554,832[2]']</td>\n",
       "      <td>neo-noir</td>\n",
       "      <td>$1.5 million</td>\n",
       "      <td>£554,832</td>\n",
       "      <td>1.5</td>\n",
       "      <td>NaN</td>\n",
       "    </tr>\n",
       "    <tr>\n",
       "      <th>1221</th>\n",
       "      <td>2011</td>\n",
       "      <td>7</td>\n",
       "      <td>29.0</td>\n",
       "      <td>Attack the Block</td>\n",
       "      <td>/wiki/Attack_the_Block</td>\n",
       "      <td>[' science fiction comedy horror', '£8 million...</td>\n",
       "      <td>science fiction comedy horror</td>\n",
       "      <td>£8 million</td>\n",
       "      <td>£4.1 million</td>\n",
       "      <td>8.0</td>\n",
       "      <td>NaN</td>\n",
       "    </tr>\n",
       "    <tr>\n",
       "      <th>1393</th>\n",
       "      <td>2012</td>\n",
       "      <td>6</td>\n",
       "      <td>29.0</td>\n",
       "      <td>Unforgivable</td>\n",
       "      <td>/wiki/Unforgivable_(2011_film)</td>\n",
       "      <td>[' drama', '€7.5 million[1]', '€1.3 million[1]']</td>\n",
       "      <td>drama</td>\n",
       "      <td>€7.5 million</td>\n",
       "      <td>€1.3 million</td>\n",
       "      <td>7.5</td>\n",
       "      <td>NaN</td>\n",
       "    </tr>\n",
       "  </tbody>\n",
       "</table>\n",
       "</div>"
      ],
      "text/plain": [
       "      Year  Month   Day                             Title  \\\n",
       "627   2007     12  28.0                     The Orphanage   \n",
       "838   2009      1  23.0                      Donkey Punch   \n",
       "1104  2010      8   6.0  The Disappearance of Alice Creed   \n",
       "1221  2011      7  29.0                  Attack the Block   \n",
       "1393  2012      6  29.0                      Unforgivable   \n",
       "\n",
       "                                        Link  \\\n",
       "627          /wiki/The_Orphanage_(2007_film)   \n",
       "838           /wiki/Donkey_Punch_(2008_film)   \n",
       "1104  /wiki/The_Disappearance_of_Alice_Creed   \n",
       "1221                  /wiki/Attack_the_Block   \n",
       "1393          /wiki/Unforgivable_(2011_film)   \n",
       "\n",
       "                                                   List  \\\n",
       "627   ['gothic supernatural horror', '€4.5 million[3...   \n",
       "838   [' horror thriller', '£1 million[2][3]', '£694...   \n",
       "1104    [' neo-noir', '$1.5 million[3]', '£554,832[2]']   \n",
       "1221  [' science fiction comedy horror', '£8 million...   \n",
       "1393   [' drama', '€7.5 million[1]', '€1.3 million[1]']   \n",
       "\n",
       "                              Genres       Budget2   Box office2  Budget  \\\n",
       "627       gothic supernatural horror  €4.5 million   €65 million     4.5   \n",
       "838                  horror thriller    £1 million      £694,422     1.0   \n",
       "1104                        neo-noir  $1.5 million      £554,832     1.5   \n",
       "1221   science fiction comedy horror    £8 million  £4.1 million     8.0   \n",
       "1393                           drama  €7.5 million  €1.3 million     7.5   \n",
       "\n",
       "      Box office  \n",
       "627          NaN  \n",
       "838          NaN  \n",
       "1104         NaN  \n",
       "1221         NaN  \n",
       "1393         NaN  "
      ]
     },
     "execution_count": 37,
     "metadata": {},
     "output_type": "execute_result"
    }
   ],
   "source": [
    "df[df['Box office'].isna()]"
   ]
  },
  {
   "cell_type": "code",
   "execution_count": 38,
   "metadata": {},
   "outputs": [],
   "source": [
    "df = df[df['Box office'].notna()]"
   ]
  },
  {
   "cell_type": "markdown",
   "metadata": {},
   "source": [
    "### Cleaning Genres"
   ]
  },
  {
   "cell_type": "code",
   "execution_count": 41,
   "metadata": {},
   "outputs": [],
   "source": [
    "df['Genres'] = df['Genres'].str.strip().str.split(' ')"
   ]
  },
  {
   "cell_type": "code",
   "execution_count": 42,
   "metadata": {},
   "outputs": [
    {
     "data": {
      "text/plain": [
       "Genres\n",
       "2     1274\n",
       "1      698\n",
       "3      640\n",
       "4      199\n",
       "5       31\n",
       "10       8\n",
       "6        7\n",
       "15       6\n",
       "11       5\n",
       "13       5\n",
       "18       4\n",
       "12       4\n",
       "7        4\n",
       "16       4\n",
       "9        3\n",
       "14       3\n",
       "22       2\n",
       "21       2\n",
       "34       1\n",
       "28       1\n",
       "33       1\n",
       "25       1\n",
       "23       1\n",
       "20       1\n",
       "29       1\n",
       "42       1\n",
       "35       1\n",
       "17       1\n",
       "30       1\n",
       "Name: count, dtype: int64"
      ]
     },
     "execution_count": 42,
     "metadata": {},
     "output_type": "execute_result"
    }
   ],
   "source": [
    "df['Genres'].apply(len).value_counts()"
   ]
  },
  {
   "cell_type": "code",
   "execution_count": 44,
   "metadata": {},
   "outputs": [
    {
     "data": {
      "text/plain": [
       "2422           [science, fiction, black, comedy, slasher]\n",
       "2448       [surrealist, neo-noir, black, comedy, mystery]\n",
       "2736      [apocalyptic, political, satire, black, comedy]\n",
       "2815    [live-action/animated, cartoon, musical, fanta...\n",
       "2825      [stop-motion, animated, musical, dark, fantasy]\n",
       "Name: Genres, dtype: object"
      ]
     },
     "execution_count": 44,
     "metadata": {},
     "output_type": "execute_result"
    }
   ],
   "source": [
    "df.loc[(df['Genres'].apply(len) == 5), 'Genres'][-5:]"
   ]
  },
  {
   "cell_type": "code",
   "execution_count": 45,
   "metadata": {},
   "outputs": [],
   "source": [
    "df = df[(df['Genres'].apply(len) < 6)]"
   ]
  },
  {
   "cell_type": "markdown",
   "metadata": {},
   "source": [
    "#### There are too many genres so I'll keep the ones with at least 2 movies per year"
   ]
  },
  {
   "cell_type": "code",
   "execution_count": 53,
   "metadata": {},
   "outputs": [
    {
     "data": {
      "text/html": [
       "<div>\n",
       "<style scoped>\n",
       "    .dataframe tbody tr th:only-of-type {\n",
       "        vertical-align: middle;\n",
       "    }\n",
       "\n",
       "    .dataframe tbody tr th {\n",
       "        vertical-align: top;\n",
       "    }\n",
       "\n",
       "    .dataframe thead th {\n",
       "        text-align: right;\n",
       "    }\n",
       "</style>\n",
       "<table border=\"1\" class=\"dataframe\">\n",
       "  <thead>\n",
       "    <tr style=\"text-align: right;\">\n",
       "      <th></th>\n",
       "      <th></th>\n",
       "      <th>,</th>\n",
       "      <th>-American</th>\n",
       "      <th>-Australian</th>\n",
       "      <th>-Belgian</th>\n",
       "      <th>-British</th>\n",
       "      <th>-Canadian</th>\n",
       "      <th>-Danish</th>\n",
       "      <th>-French-Irish</th>\n",
       "      <th>-Hong</th>\n",
       "      <th>...</th>\n",
       "      <th>urban</th>\n",
       "      <th>vampire</th>\n",
       "      <th>vigilante</th>\n",
       "      <th>war</th>\n",
       "      <th>war-drama</th>\n",
       "      <th>western</th>\n",
       "      <th>where</th>\n",
       "      <th>wuxia</th>\n",
       "      <th>zombie</th>\n",
       "      <th>–Italian</th>\n",
       "    </tr>\n",
       "  </thead>\n",
       "  <tbody>\n",
       "    <tr>\n",
       "      <th>0</th>\n",
       "      <td>0</td>\n",
       "      <td>0</td>\n",
       "      <td>0</td>\n",
       "      <td>0</td>\n",
       "      <td>0</td>\n",
       "      <td>0</td>\n",
       "      <td>0</td>\n",
       "      <td>0</td>\n",
       "      <td>0</td>\n",
       "      <td>0</td>\n",
       "      <td>...</td>\n",
       "      <td>0</td>\n",
       "      <td>0</td>\n",
       "      <td>0</td>\n",
       "      <td>0</td>\n",
       "      <td>0</td>\n",
       "      <td>0</td>\n",
       "      <td>0</td>\n",
       "      <td>0</td>\n",
       "      <td>0</td>\n",
       "      <td>0</td>\n",
       "    </tr>\n",
       "    <tr>\n",
       "      <th>1</th>\n",
       "      <td>0</td>\n",
       "      <td>0</td>\n",
       "      <td>0</td>\n",
       "      <td>0</td>\n",
       "      <td>0</td>\n",
       "      <td>0</td>\n",
       "      <td>0</td>\n",
       "      <td>0</td>\n",
       "      <td>0</td>\n",
       "      <td>0</td>\n",
       "      <td>...</td>\n",
       "      <td>0</td>\n",
       "      <td>0</td>\n",
       "      <td>0</td>\n",
       "      <td>0</td>\n",
       "      <td>0</td>\n",
       "      <td>0</td>\n",
       "      <td>0</td>\n",
       "      <td>0</td>\n",
       "      <td>0</td>\n",
       "      <td>0</td>\n",
       "    </tr>\n",
       "    <tr>\n",
       "      <th>3</th>\n",
       "      <td>0</td>\n",
       "      <td>0</td>\n",
       "      <td>0</td>\n",
       "      <td>0</td>\n",
       "      <td>0</td>\n",
       "      <td>0</td>\n",
       "      <td>0</td>\n",
       "      <td>0</td>\n",
       "      <td>0</td>\n",
       "      <td>0</td>\n",
       "      <td>...</td>\n",
       "      <td>0</td>\n",
       "      <td>0</td>\n",
       "      <td>0</td>\n",
       "      <td>0</td>\n",
       "      <td>0</td>\n",
       "      <td>0</td>\n",
       "      <td>0</td>\n",
       "      <td>0</td>\n",
       "      <td>0</td>\n",
       "      <td>0</td>\n",
       "    </tr>\n",
       "    <tr>\n",
       "      <th>4</th>\n",
       "      <td>0</td>\n",
       "      <td>0</td>\n",
       "      <td>0</td>\n",
       "      <td>0</td>\n",
       "      <td>0</td>\n",
       "      <td>0</td>\n",
       "      <td>0</td>\n",
       "      <td>0</td>\n",
       "      <td>0</td>\n",
       "      <td>0</td>\n",
       "      <td>...</td>\n",
       "      <td>0</td>\n",
       "      <td>0</td>\n",
       "      <td>0</td>\n",
       "      <td>0</td>\n",
       "      <td>0</td>\n",
       "      <td>0</td>\n",
       "      <td>0</td>\n",
       "      <td>0</td>\n",
       "      <td>0</td>\n",
       "      <td>0</td>\n",
       "    </tr>\n",
       "    <tr>\n",
       "      <th>5</th>\n",
       "      <td>0</td>\n",
       "      <td>0</td>\n",
       "      <td>0</td>\n",
       "      <td>0</td>\n",
       "      <td>0</td>\n",
       "      <td>0</td>\n",
       "      <td>0</td>\n",
       "      <td>0</td>\n",
       "      <td>0</td>\n",
       "      <td>0</td>\n",
       "      <td>...</td>\n",
       "      <td>0</td>\n",
       "      <td>0</td>\n",
       "      <td>0</td>\n",
       "      <td>0</td>\n",
       "      <td>0</td>\n",
       "      <td>0</td>\n",
       "      <td>0</td>\n",
       "      <td>0</td>\n",
       "      <td>0</td>\n",
       "      <td>0</td>\n",
       "    </tr>\n",
       "  </tbody>\n",
       "</table>\n",
       "<p>5 rows × 245 columns</p>\n",
       "</div>"
      ],
      "text/plain": [
       "      ,  -American  -Australian  -Belgian  -British  -Canadian  -Danish  \\\n",
       "0  0  0          0            0         0         0          0        0   \n",
       "1  0  0          0            0         0         0          0        0   \n",
       "3  0  0          0            0         0         0          0        0   \n",
       "4  0  0          0            0         0         0          0        0   \n",
       "5  0  0          0            0         0         0          0        0   \n",
       "\n",
       "   -French-Irish  -Hong  ...  urban  vampire  vigilante  war  war-drama  \\\n",
       "0              0      0  ...      0        0          0    0          0   \n",
       "1              0      0  ...      0        0          0    0          0   \n",
       "3              0      0  ...      0        0          0    0          0   \n",
       "4              0      0  ...      0        0          0    0          0   \n",
       "5              0      0  ...      0        0          0    0          0   \n",
       "\n",
       "   western  where  wuxia  zombie  –Italian  \n",
       "0        0      0      0       0         0  \n",
       "1        0      0      0       0         0  \n",
       "3        0      0      0       0         0  \n",
       "4        0      0      0       0         0  \n",
       "5        0      0      0       0         0  \n",
       "\n",
       "[5 rows x 245 columns]"
      ]
     },
     "execution_count": 53,
     "metadata": {},
     "output_type": "execute_result"
    }
   ],
   "source": [
    "from sklearn.preprocessing import MultiLabelBinarizer\n",
    "\n",
    "s = df['Genres']\n",
    "\n",
    "mlb = MultiLabelBinarizer()\n",
    "\n",
    "df_genres = pd.DataFrame(mlb.fit_transform(s),columns=mlb.classes_, index=df.index)\n",
    "df_genres.head()"
   ]
  },
  {
   "cell_type": "code",
   "execution_count": 57,
   "metadata": {},
   "outputs": [
    {
     "data": {
      "text/plain": [
       "24"
      ]
     },
     "execution_count": 57,
     "metadata": {},
     "output_type": "execute_result"
    }
   ],
   "source": [
    "(df_genres.sum(axis=0) > 38).sum()"
   ]
  },
  {
   "cell_type": "code",
   "execution_count": 58,
   "metadata": {},
   "outputs": [
    {
     "data": {
      "text/plain": [
       "['action',\n",
       " 'adventure',\n",
       " 'animated',\n",
       " 'biographical',\n",
       " 'black',\n",
       " 'buddy',\n",
       " 'comedy',\n",
       " 'comedy-drama',\n",
       " 'crime',\n",
       " 'drama',\n",
       " 'epic',\n",
       " 'fantasy',\n",
       " 'fiction',\n",
       " 'historical',\n",
       " 'horror',\n",
       " 'musical',\n",
       " 'psychological',\n",
       " 'romantic',\n",
       " 'science',\n",
       " 'sports',\n",
       " 'superhero',\n",
       " 'supernatural',\n",
       " 'thriller',\n",
       " 'war']"
      ]
     },
     "execution_count": 58,
     "metadata": {},
     "output_type": "execute_result"
    }
   ],
   "source": [
    "col_genres = df_genres.columns.to_series()\n",
    "col_to_keep = col_genres[(df_genres.sum(axis=0) > 38)].index.to_list()\n",
    "col_to_keep"
   ]
  },
  {
   "cell_type": "code",
   "execution_count": 59,
   "metadata": {},
   "outputs": [
    {
     "data": {
      "text/html": [
       "<div>\n",
       "<style scoped>\n",
       "    .dataframe tbody tr th:only-of-type {\n",
       "        vertical-align: middle;\n",
       "    }\n",
       "\n",
       "    .dataframe tbody tr th {\n",
       "        vertical-align: top;\n",
       "    }\n",
       "\n",
       "    .dataframe thead th {\n",
       "        text-align: right;\n",
       "    }\n",
       "</style>\n",
       "<table border=\"1\" class=\"dataframe\">\n",
       "  <thead>\n",
       "    <tr style=\"text-align: right;\">\n",
       "      <th></th>\n",
       "      <th>action</th>\n",
       "      <th>adventure</th>\n",
       "      <th>animated</th>\n",
       "      <th>biographical</th>\n",
       "      <th>black</th>\n",
       "      <th>buddy</th>\n",
       "      <th>comedy</th>\n",
       "      <th>comedy-drama</th>\n",
       "      <th>crime</th>\n",
       "      <th>drama</th>\n",
       "      <th>...</th>\n",
       "      <th>horror</th>\n",
       "      <th>musical</th>\n",
       "      <th>psychological</th>\n",
       "      <th>romantic</th>\n",
       "      <th>science</th>\n",
       "      <th>sports</th>\n",
       "      <th>superhero</th>\n",
       "      <th>supernatural</th>\n",
       "      <th>thriller</th>\n",
       "      <th>war</th>\n",
       "    </tr>\n",
       "  </thead>\n",
       "  <tbody>\n",
       "    <tr>\n",
       "      <th>0</th>\n",
       "      <td>0</td>\n",
       "      <td>0</td>\n",
       "      <td>0</td>\n",
       "      <td>0</td>\n",
       "      <td>0</td>\n",
       "      <td>0</td>\n",
       "      <td>1</td>\n",
       "      <td>0</td>\n",
       "      <td>0</td>\n",
       "      <td>0</td>\n",
       "      <td>...</td>\n",
       "      <td>0</td>\n",
       "      <td>0</td>\n",
       "      <td>0</td>\n",
       "      <td>1</td>\n",
       "      <td>0</td>\n",
       "      <td>0</td>\n",
       "      <td>0</td>\n",
       "      <td>0</td>\n",
       "      <td>0</td>\n",
       "      <td>0</td>\n",
       "    </tr>\n",
       "    <tr>\n",
       "      <th>1</th>\n",
       "      <td>0</td>\n",
       "      <td>0</td>\n",
       "      <td>0</td>\n",
       "      <td>0</td>\n",
       "      <td>0</td>\n",
       "      <td>0</td>\n",
       "      <td>1</td>\n",
       "      <td>0</td>\n",
       "      <td>0</td>\n",
       "      <td>0</td>\n",
       "      <td>...</td>\n",
       "      <td>0</td>\n",
       "      <td>0</td>\n",
       "      <td>0</td>\n",
       "      <td>1</td>\n",
       "      <td>0</td>\n",
       "      <td>0</td>\n",
       "      <td>0</td>\n",
       "      <td>0</td>\n",
       "      <td>0</td>\n",
       "      <td>0</td>\n",
       "    </tr>\n",
       "    <tr>\n",
       "      <th>3</th>\n",
       "      <td>1</td>\n",
       "      <td>0</td>\n",
       "      <td>0</td>\n",
       "      <td>0</td>\n",
       "      <td>0</td>\n",
       "      <td>0</td>\n",
       "      <td>1</td>\n",
       "      <td>0</td>\n",
       "      <td>0</td>\n",
       "      <td>0</td>\n",
       "      <td>...</td>\n",
       "      <td>0</td>\n",
       "      <td>0</td>\n",
       "      <td>0</td>\n",
       "      <td>0</td>\n",
       "      <td>0</td>\n",
       "      <td>0</td>\n",
       "      <td>0</td>\n",
       "      <td>0</td>\n",
       "      <td>0</td>\n",
       "      <td>0</td>\n",
       "    </tr>\n",
       "    <tr>\n",
       "      <th>4</th>\n",
       "      <td>0</td>\n",
       "      <td>0</td>\n",
       "      <td>0</td>\n",
       "      <td>0</td>\n",
       "      <td>0</td>\n",
       "      <td>0</td>\n",
       "      <td>0</td>\n",
       "      <td>0</td>\n",
       "      <td>0</td>\n",
       "      <td>0</td>\n",
       "      <td>...</td>\n",
       "      <td>0</td>\n",
       "      <td>0</td>\n",
       "      <td>0</td>\n",
       "      <td>0</td>\n",
       "      <td>1</td>\n",
       "      <td>0</td>\n",
       "      <td>0</td>\n",
       "      <td>0</td>\n",
       "      <td>1</td>\n",
       "      <td>0</td>\n",
       "    </tr>\n",
       "    <tr>\n",
       "      <th>5</th>\n",
       "      <td>0</td>\n",
       "      <td>0</td>\n",
       "      <td>0</td>\n",
       "      <td>0</td>\n",
       "      <td>0</td>\n",
       "      <td>0</td>\n",
       "      <td>1</td>\n",
       "      <td>0</td>\n",
       "      <td>0</td>\n",
       "      <td>0</td>\n",
       "      <td>...</td>\n",
       "      <td>0</td>\n",
       "      <td>0</td>\n",
       "      <td>0</td>\n",
       "      <td>1</td>\n",
       "      <td>0</td>\n",
       "      <td>0</td>\n",
       "      <td>0</td>\n",
       "      <td>0</td>\n",
       "      <td>0</td>\n",
       "      <td>0</td>\n",
       "    </tr>\n",
       "  </tbody>\n",
       "</table>\n",
       "<p>5 rows × 24 columns</p>\n",
       "</div>"
      ],
      "text/plain": [
       "   action  adventure  animated  biographical  black  buddy  comedy  \\\n",
       "0       0          0         0             0      0      0       1   \n",
       "1       0          0         0             0      0      0       1   \n",
       "3       1          0         0             0      0      0       1   \n",
       "4       0          0         0             0      0      0       0   \n",
       "5       0          0         0             0      0      0       1   \n",
       "\n",
       "   comedy-drama  crime  drama  ...  horror  musical  psychological  romantic  \\\n",
       "0             0      0      0  ...       0        0              0         1   \n",
       "1             0      0      0  ...       0        0              0         1   \n",
       "3             0      0      0  ...       0        0              0         0   \n",
       "4             0      0      0  ...       0        0              0         0   \n",
       "5             0      0      0  ...       0        0              0         1   \n",
       "\n",
       "   science  sports  superhero  supernatural  thriller  war  \n",
       "0        0       0          0             0         0    0  \n",
       "1        0       0          0             0         0    0  \n",
       "3        0       0          0             0         0    0  \n",
       "4        1       0          0             0         1    0  \n",
       "5        0       0          0             0         0    0  \n",
       "\n",
       "[5 rows x 24 columns]"
      ]
     },
     "execution_count": 59,
     "metadata": {},
     "output_type": "execute_result"
    }
   ],
   "source": [
    "df_genres = df_genres[col_to_keep]\n",
    "df_genres.head()"
   ]
  },
  {
   "cell_type": "code",
   "execution_count": 60,
   "metadata": {},
   "outputs": [
    {
     "data": {
      "text/html": [
       "<div>\n",
       "<style scoped>\n",
       "    .dataframe tbody tr th:only-of-type {\n",
       "        vertical-align: middle;\n",
       "    }\n",
       "\n",
       "    .dataframe tbody tr th {\n",
       "        vertical-align: top;\n",
       "    }\n",
       "\n",
       "    .dataframe thead th {\n",
       "        text-align: right;\n",
       "    }\n",
       "</style>\n",
       "<table border=\"1\" class=\"dataframe\">\n",
       "  <thead>\n",
       "    <tr style=\"text-align: right;\">\n",
       "      <th></th>\n",
       "      <th>Year</th>\n",
       "      <th>Month</th>\n",
       "      <th>Day</th>\n",
       "      <th>Title</th>\n",
       "      <th>Link</th>\n",
       "      <th>List</th>\n",
       "      <th>Genres</th>\n",
       "      <th>Budget2</th>\n",
       "      <th>Box office2</th>\n",
       "      <th>Budget</th>\n",
       "      <th>...</th>\n",
       "      <th>horror</th>\n",
       "      <th>musical</th>\n",
       "      <th>psychological</th>\n",
       "      <th>romantic</th>\n",
       "      <th>science</th>\n",
       "      <th>sports</th>\n",
       "      <th>superhero</th>\n",
       "      <th>supernatural</th>\n",
       "      <th>thriller</th>\n",
       "      <th>war</th>\n",
       "    </tr>\n",
       "  </thead>\n",
       "  <tbody>\n",
       "    <tr>\n",
       "      <th>0</th>\n",
       "      <td>2004</td>\n",
       "      <td>1</td>\n",
       "      <td>9.0</td>\n",
       "      <td>Chasing Liberty</td>\n",
       "      <td>/wiki/Chasing_Liberty</td>\n",
       "      <td>['romantic comedy', '$23 million[1]', '$12 mil...</td>\n",
       "      <td>[romantic, comedy]</td>\n",
       "      <td>$23 million</td>\n",
       "      <td>$12 million</td>\n",
       "      <td>23.0</td>\n",
       "      <td>...</td>\n",
       "      <td>0</td>\n",
       "      <td>0</td>\n",
       "      <td>0</td>\n",
       "      <td>1</td>\n",
       "      <td>0</td>\n",
       "      <td>0</td>\n",
       "      <td>0</td>\n",
       "      <td>0</td>\n",
       "      <td>0</td>\n",
       "      <td>0</td>\n",
       "    </tr>\n",
       "    <tr>\n",
       "      <th>1</th>\n",
       "      <td>2004</td>\n",
       "      <td>1</td>\n",
       "      <td>16.0</td>\n",
       "      <td>Along Came Polly</td>\n",
       "      <td>/wiki/Along_Came_Polly</td>\n",
       "      <td>[' romantic comedy', '$42 million', '$178.3 mi...</td>\n",
       "      <td>[romantic, comedy]</td>\n",
       "      <td>$42 million</td>\n",
       "      <td>$178.3 million</td>\n",
       "      <td>42.0</td>\n",
       "      <td>...</td>\n",
       "      <td>0</td>\n",
       "      <td>0</td>\n",
       "      <td>0</td>\n",
       "      <td>1</td>\n",
       "      <td>0</td>\n",
       "      <td>0</td>\n",
       "      <td>0</td>\n",
       "      <td>0</td>\n",
       "      <td>0</td>\n",
       "      <td>0</td>\n",
       "    </tr>\n",
       "    <tr>\n",
       "      <th>3</th>\n",
       "      <td>2004</td>\n",
       "      <td>1</td>\n",
       "      <td>22.0</td>\n",
       "      <td>D.E.B.S.</td>\n",
       "      <td>/wiki/D.E.B.S._(2004_film)</td>\n",
       "      <td>[' action comedy', '$3.5 million[2]', '$97,446...</td>\n",
       "      <td>[action, comedy]</td>\n",
       "      <td>$3.5 million</td>\n",
       "      <td>$97,446</td>\n",
       "      <td>3.5</td>\n",
       "      <td>...</td>\n",
       "      <td>0</td>\n",
       "      <td>0</td>\n",
       "      <td>0</td>\n",
       "      <td>0</td>\n",
       "      <td>0</td>\n",
       "      <td>0</td>\n",
       "      <td>0</td>\n",
       "      <td>0</td>\n",
       "      <td>0</td>\n",
       "      <td>0</td>\n",
       "    </tr>\n",
       "    <tr>\n",
       "      <th>4</th>\n",
       "      <td>2004</td>\n",
       "      <td>1</td>\n",
       "      <td>23.0</td>\n",
       "      <td>The Butterfly Effect</td>\n",
       "      <td>/wiki/The_Butterfly_Effect</td>\n",
       "      <td>[' science fiction thriller', '$13 million[1]'...</td>\n",
       "      <td>[science, fiction, thriller]</td>\n",
       "      <td>$13 million</td>\n",
       "      <td>$96.8 million</td>\n",
       "      <td>13.0</td>\n",
       "      <td>...</td>\n",
       "      <td>0</td>\n",
       "      <td>0</td>\n",
       "      <td>0</td>\n",
       "      <td>0</td>\n",
       "      <td>1</td>\n",
       "      <td>0</td>\n",
       "      <td>0</td>\n",
       "      <td>0</td>\n",
       "      <td>1</td>\n",
       "      <td>0</td>\n",
       "    </tr>\n",
       "    <tr>\n",
       "      <th>5</th>\n",
       "      <td>2004</td>\n",
       "      <td>1</td>\n",
       "      <td>23.0</td>\n",
       "      <td>Win a Date with Tad Hamilton!</td>\n",
       "      <td>/wiki/Win_a_Date_with_Tad_Hamilton!</td>\n",
       "      <td>[' romantic comedy', '$22 million[2]', '$21.3 ...</td>\n",
       "      <td>[romantic, comedy]</td>\n",
       "      <td>$22 million</td>\n",
       "      <td>$21.3 million</td>\n",
       "      <td>22.0</td>\n",
       "      <td>...</td>\n",
       "      <td>0</td>\n",
       "      <td>0</td>\n",
       "      <td>0</td>\n",
       "      <td>1</td>\n",
       "      <td>0</td>\n",
       "      <td>0</td>\n",
       "      <td>0</td>\n",
       "      <td>0</td>\n",
       "      <td>0</td>\n",
       "      <td>0</td>\n",
       "    </tr>\n",
       "  </tbody>\n",
       "</table>\n",
       "<p>5 rows × 35 columns</p>\n",
       "</div>"
      ],
      "text/plain": [
       "   Year  Month   Day                          Title  \\\n",
       "0  2004      1   9.0                Chasing Liberty   \n",
       "1  2004      1  16.0               Along Came Polly   \n",
       "3  2004      1  22.0                       D.E.B.S.   \n",
       "4  2004      1  23.0           The Butterfly Effect   \n",
       "5  2004      1  23.0  Win a Date with Tad Hamilton!   \n",
       "\n",
       "                                  Link  \\\n",
       "0                /wiki/Chasing_Liberty   \n",
       "1               /wiki/Along_Came_Polly   \n",
       "3           /wiki/D.E.B.S._(2004_film)   \n",
       "4           /wiki/The_Butterfly_Effect   \n",
       "5  /wiki/Win_a_Date_with_Tad_Hamilton!   \n",
       "\n",
       "                                                List  \\\n",
       "0  ['romantic comedy', '$23 million[1]', '$12 mil...   \n",
       "1  [' romantic comedy', '$42 million', '$178.3 mi...   \n",
       "3  [' action comedy', '$3.5 million[2]', '$97,446...   \n",
       "4  [' science fiction thriller', '$13 million[1]'...   \n",
       "5  [' romantic comedy', '$22 million[2]', '$21.3 ...   \n",
       "\n",
       "                         Genres       Budget2     Box office2  Budget  ...  \\\n",
       "0            [romantic, comedy]   $23 million     $12 million    23.0  ...   \n",
       "1            [romantic, comedy]   $42 million  $178.3 million    42.0  ...   \n",
       "3              [action, comedy]  $3.5 million         $97,446     3.5  ...   \n",
       "4  [science, fiction, thriller]   $13 million   $96.8 million    13.0  ...   \n",
       "5            [romantic, comedy]   $22 million   $21.3 million    22.0  ...   \n",
       "\n",
       "   horror  musical  psychological  romantic  science  sports  superhero  \\\n",
       "0       0        0              0         1        0       0          0   \n",
       "1       0        0              0         1        0       0          0   \n",
       "3       0        0              0         0        0       0          0   \n",
       "4       0        0              0         0        1       0          0   \n",
       "5       0        0              0         1        0       0          0   \n",
       "\n",
       "   supernatural  thriller  war  \n",
       "0             0         0    0  \n",
       "1             0         0    0  \n",
       "3             0         0    0  \n",
       "4             0         1    0  \n",
       "5             0         0    0  \n",
       "\n",
       "[5 rows x 35 columns]"
      ]
     },
     "execution_count": 60,
     "metadata": {},
     "output_type": "execute_result"
    }
   ],
   "source": [
    "df = pd.concat([df, df_genres], axis=1)\n",
    "df.head()"
   ]
  },
  {
   "cell_type": "markdown",
   "metadata": {},
   "source": [
    "### Ordinate the dataframe"
   ]
  },
  {
   "cell_type": "code",
   "execution_count": 61,
   "metadata": {},
   "outputs": [
    {
     "data": {
      "text/html": [
       "<div>\n",
       "<style scoped>\n",
       "    .dataframe tbody tr th:only-of-type {\n",
       "        vertical-align: middle;\n",
       "    }\n",
       "\n",
       "    .dataframe tbody tr th {\n",
       "        vertical-align: top;\n",
       "    }\n",
       "\n",
       "    .dataframe thead th {\n",
       "        text-align: right;\n",
       "    }\n",
       "</style>\n",
       "<table border=\"1\" class=\"dataframe\">\n",
       "  <thead>\n",
       "    <tr style=\"text-align: right;\">\n",
       "      <th></th>\n",
       "      <th>Box office</th>\n",
       "      <th>Budget</th>\n",
       "      <th>Profit</th>\n",
       "      <th>Profit perc</th>\n",
       "    </tr>\n",
       "  </thead>\n",
       "  <tbody>\n",
       "    <tr>\n",
       "      <th>0</th>\n",
       "      <td>12.000000</td>\n",
       "      <td>23.0</td>\n",
       "      <td>-11.000000</td>\n",
       "      <td>-47.826087</td>\n",
       "    </tr>\n",
       "    <tr>\n",
       "      <th>1</th>\n",
       "      <td>178.300000</td>\n",
       "      <td>42.0</td>\n",
       "      <td>136.300000</td>\n",
       "      <td>324.523810</td>\n",
       "    </tr>\n",
       "    <tr>\n",
       "      <th>3</th>\n",
       "      <td>0.097446</td>\n",
       "      <td>3.5</td>\n",
       "      <td>-3.402554</td>\n",
       "      <td>-97.215829</td>\n",
       "    </tr>\n",
       "    <tr>\n",
       "      <th>4</th>\n",
       "      <td>96.800000</td>\n",
       "      <td>13.0</td>\n",
       "      <td>83.800000</td>\n",
       "      <td>644.615385</td>\n",
       "    </tr>\n",
       "    <tr>\n",
       "      <th>5</th>\n",
       "      <td>21.300000</td>\n",
       "      <td>22.0</td>\n",
       "      <td>-0.700000</td>\n",
       "      <td>-3.181818</td>\n",
       "    </tr>\n",
       "  </tbody>\n",
       "</table>\n",
       "</div>"
      ],
      "text/plain": [
       "   Box office  Budget      Profit  Profit perc\n",
       "0   12.000000    23.0  -11.000000   -47.826087\n",
       "1  178.300000    42.0  136.300000   324.523810\n",
       "3    0.097446     3.5   -3.402554   -97.215829\n",
       "4   96.800000    13.0   83.800000   644.615385\n",
       "5   21.300000    22.0   -0.700000    -3.181818"
      ]
     },
     "execution_count": 61,
     "metadata": {},
     "output_type": "execute_result"
    }
   ],
   "source": [
    "df['Profit'] = df['Box office'] - df['Budget']\n",
    "df['Profit perc'] = df['Profit'] * 100/ df['Budget']\n",
    "df[['Box office', 'Budget', 'Profit', 'Profit perc']][:5]"
   ]
  },
  {
   "cell_type": "code",
   "execution_count": 64,
   "metadata": {},
   "outputs": [],
   "source": [
    "new_col = [\n",
    "    'Title','Budget','Profit','Box office','Profit perc',\n",
    "    'Year','Month','Day'\n",
    "]\n",
    "\n",
    "new_col = new_col + col_to_keep"
   ]
  },
  {
   "cell_type": "markdown",
   "metadata": {},
   "source": [
    "#### Convert every column but 'Title' to float32"
   ]
  },
  {
   "cell_type": "code",
   "execution_count": 65,
   "metadata": {},
   "outputs": [],
   "source": [
    "df[new_col[1:]] = df[new_col[1:]].astype('float32')"
   ]
  },
  {
   "cell_type": "code",
   "execution_count": 66,
   "metadata": {},
   "outputs": [
    {
     "name": "stdout",
     "output_type": "stream",
     "text": [
      "<class 'pandas.core.frame.DataFrame'>\n",
      "Index: 2842 entries, 0 to 2937\n",
      "Data columns (total 10 columns):\n",
      " #   Column       Non-Null Count  Dtype  \n",
      "---  ------       --------------  -----  \n",
      " 0   Title        2842 non-null   object \n",
      " 1   Budget       2842 non-null   float32\n",
      " 2   Profit       2842 non-null   float32\n",
      " 3   Box office   2842 non-null   float32\n",
      " 4   Profit perc  2842 non-null   float32\n",
      " 5   Year         2842 non-null   float32\n",
      " 6   Month        2842 non-null   float32\n",
      " 7   Day          2842 non-null   float32\n",
      " 8   action       2842 non-null   float32\n",
      " 9   adventure    2842 non-null   float32\n",
      "dtypes: float32(9), object(1)\n",
      "memory usage: 144.3+ KB\n"
     ]
    }
   ],
   "source": [
    "df = df[new_col]\n",
    "df[new_col[:10]].info()"
   ]
  },
  {
   "cell_type": "code",
   "execution_count": 73,
   "metadata": {},
   "outputs": [
    {
     "data": {
      "text/plain": [
       "False"
      ]
     },
     "execution_count": 73,
     "metadata": {},
     "output_type": "execute_result"
    }
   ],
   "source": [
    "df.isna().any().any()"
   ]
  },
  {
   "cell_type": "markdown",
   "metadata": {},
   "source": [
    "## Exploration of Correlation"
   ]
  },
  {
   "cell_type": "code",
   "execution_count": 67,
   "metadata": {},
   "outputs": [],
   "source": [
    "genres = col_to_keep"
   ]
  },
  {
   "cell_type": "code",
   "execution_count": 71,
   "metadata": {},
   "outputs": [
    {
     "data": {
      "text/plain": [
       "supernatural     0.171420\n",
       "horror           0.151561\n",
       "musical          0.033408\n",
       "psychological    0.014003\n",
       "animated         0.004544\n",
       "epic             0.004081\n",
       "romantic         0.001059\n",
       "buddy           -0.000297\n",
       "superhero       -0.000765\n",
       "sports          -0.008920\n",
       "drama           -0.010626\n",
       "black           -0.013223\n",
       "fiction         -0.014520\n",
       "fantasy         -0.015760\n",
       "science         -0.016008\n",
       "historical      -0.016407\n",
       "war             -0.016914\n",
       "comedy-drama    -0.019411\n",
       "adventure       -0.020293\n",
       "crime           -0.026078\n",
       "biographical    -0.026995\n",
       "thriller        -0.034058\n",
       "comedy          -0.041284\n",
       "action          -0.042603\n",
       "dtype: float64"
      ]
     },
     "execution_count": 71,
     "metadata": {},
     "output_type": "execute_result"
    }
   ],
   "source": [
    "df[genres].corrwith(df['Profit perc']).sort_values(ascending=False)"
   ]
  },
  {
   "cell_type": "code",
   "execution_count": 75,
   "metadata": {},
   "outputs": [
    {
     "data": {
      "text/html": [
       "<div>\n",
       "<style scoped>\n",
       "    .dataframe tbody tr th:only-of-type {\n",
       "        vertical-align: middle;\n",
       "    }\n",
       "\n",
       "    .dataframe tbody tr th {\n",
       "        vertical-align: top;\n",
       "    }\n",
       "\n",
       "    .dataframe thead th {\n",
       "        text-align: right;\n",
       "    }\n",
       "</style>\n",
       "<table border=\"1\" class=\"dataframe\">\n",
       "  <thead>\n",
       "    <tr style=\"text-align: right;\">\n",
       "      <th></th>\n",
       "      <th>Title</th>\n",
       "      <th>Budget</th>\n",
       "      <th>Profit</th>\n",
       "      <th>Box office</th>\n",
       "      <th>Profit perc</th>\n",
       "      <th>Year</th>\n",
       "      <th>Month</th>\n",
       "      <th>Day</th>\n",
       "      <th>action</th>\n",
       "      <th>adventure</th>\n",
       "      <th>...</th>\n",
       "      <th>horror</th>\n",
       "      <th>musical</th>\n",
       "      <th>psychological</th>\n",
       "      <th>romantic</th>\n",
       "      <th>science</th>\n",
       "      <th>sports</th>\n",
       "      <th>superhero</th>\n",
       "      <th>supernatural</th>\n",
       "      <th>thriller</th>\n",
       "      <th>war</th>\n",
       "    </tr>\n",
       "  </thead>\n",
       "  <tbody>\n",
       "    <tr>\n",
       "      <th>1868</th>\n",
       "      <td>Avengers: Age of Ultron</td>\n",
       "      <td>469.600006</td>\n",
       "      <td>933.400024</td>\n",
       "      <td>1403.0</td>\n",
       "      <td>198.764908</td>\n",
       "      <td>2015.0</td>\n",
       "      <td>5.0</td>\n",
       "      <td>1.0</td>\n",
       "      <td>0.0</td>\n",
       "      <td>0.0</td>\n",
       "      <td>...</td>\n",
       "      <td>0.0</td>\n",
       "      <td>0.0</td>\n",
       "      <td>0.0</td>\n",
       "      <td>0.0</td>\n",
       "      <td>0.0</td>\n",
       "      <td>0.0</td>\n",
       "      <td>1.0</td>\n",
       "      <td>0.0</td>\n",
       "      <td>0.0</td>\n",
       "      <td>0.0</td>\n",
       "    </tr>\n",
       "  </tbody>\n",
       "</table>\n",
       "<p>1 rows × 32 columns</p>\n",
       "</div>"
      ],
      "text/plain": [
       "                        Title      Budget      Profit  Box office  \\\n",
       "1868  Avengers: Age of Ultron  469.600006  933.400024      1403.0   \n",
       "\n",
       "      Profit perc    Year  Month  Day  action  adventure  ...  horror  \\\n",
       "1868   198.764908  2015.0    5.0  1.0     0.0        0.0  ...     0.0   \n",
       "\n",
       "      musical  psychological  romantic  science  sports  superhero  \\\n",
       "1868      0.0            0.0       0.0      0.0     0.0        1.0   \n",
       "\n",
       "      supernatural  thriller  war  \n",
       "1868           0.0       0.0  0.0  \n",
       "\n",
       "[1 rows x 32 columns]"
      ]
     },
     "execution_count": 75,
     "metadata": {},
     "output_type": "execute_result"
    }
   ],
   "source": [
    "df.loc[df['Budget']==df['Budget'].max()]"
   ]
  },
  {
   "cell_type": "code",
   "execution_count": 74,
   "metadata": {},
   "outputs": [
    {
     "name": "stdout",
     "output_type": "stream",
     "text": [
      "0.05000000074505806 469.6000061035156\n"
     ]
    }
   ],
   "source": [
    "print(df['Budget'].min(), df['Budget'].max())"
   ]
  },
  {
   "cell_type": "markdown",
   "metadata": {},
   "source": [
    "## Determining the budget groups"
   ]
  },
  {
   "cell_type": "code",
   "execution_count": 82,
   "metadata": {},
   "outputs": [
    {
     "name": "stdout",
     "output_type": "stream",
     "text": [
      "132.0 -60.0\n"
     ]
    }
   ],
   "source": [
    "budget_ulimit = df['Budget'].quantile(0.75) + 1.5*(df['Budget'].quantile(0.75) - df['Budget'].quantile(0.25))\n",
    "budget_llimit = df['Budget'].quantile(0.25) - 1.5*(df['Budget'].quantile(0.75) - df['Budget'].quantile(0.25))\n",
    "print(budget_ulimit, budget_llimit)"
   ]
  },
  {
   "cell_type": "markdown",
   "metadata": {},
   "source": [
    "This is also based on this resource: https://filmlifestyle.com/average-movie-budget/"
   ]
  },
  {
   "cell_type": "code",
   "execution_count": 84,
   "metadata": {},
   "outputs": [
    {
     "data": {
      "text/plain": [
       "361"
      ]
     },
     "execution_count": 84,
     "metadata": {},
     "output_type": "execute_result"
    }
   ],
   "source": [
    "df.loc[df['Budget'] > 100, 'Budget'].count()"
   ]
  },
  {
   "cell_type": "code",
   "execution_count": 85,
   "metadata": {},
   "outputs": [
    {
     "data": {
      "text/plain": [
       "1067"
      ]
     },
     "execution_count": 85,
     "metadata": {},
     "output_type": "execute_result"
    }
   ],
   "source": [
    "df.loc[df['Budget'] < 20, 'Budget'].count()"
   ]
  },
  {
   "cell_type": "code",
   "execution_count": 86,
   "metadata": {},
   "outputs": [
    {
     "data": {
      "text/plain": [
       "1236"
      ]
     },
     "execution_count": 86,
     "metadata": {},
     "output_type": "execute_result"
    }
   ],
   "source": [
    "df.loc[(df['Budget'] > 20) & (df['Budget'] < 100), 'Budget'].count()"
   ]
  },
  {
   "cell_type": "code",
   "execution_count": 92,
   "metadata": {},
   "outputs": [
    {
     "data": {
      "text/plain": [
       "0    mid\n",
       "1    mid\n",
       "3    low\n",
       "4    low\n",
       "5    mid\n",
       "6    mid\n",
       "7    low\n",
       "Name: Budget, dtype: category\n",
       "Categories (3, object): ['low' < 'mid' < 'high']"
      ]
     },
     "execution_count": 92,
     "metadata": {},
     "output_type": "execute_result"
    }
   ],
   "source": [
    "budget_group = pd.cut(df['Budget'], [df['Budget'].min(),20, 100,df['Budget'].max()],\n",
    "       labels=['low', 'mid', 'high'])\n",
    "budget_group[:7]"
   ]
  },
  {
   "cell_type": "markdown",
   "metadata": {},
   "source": [
    "### Low budget"
   ]
  },
  {
   "cell_type": "code",
   "execution_count": 97,
   "metadata": {},
   "outputs": [
    {
     "data": {
      "text/plain": [
       "<Axes: >"
      ]
     },
     "execution_count": 97,
     "metadata": {},
     "output_type": "execute_result"
    },
    {
     "data": {
      "image/png": "[encoded data removed]",
      "text/plain": [
       "<Figure size 640x480 with 1 Axes>"
      ]
     },
     "metadata": {},
     "output_type": "display_data"
    }
   ],
   "source": [
    "df['Budget'].plot.box()"
   ]
  },
  {
   "cell_type": "markdown",
   "metadata": {},
   "source": [
    "I'll delete the movies with a too high profit perc. Their success is amazing and hard to replicate."
   ]
  },
  {
   "cell_type": "code",
   "execution_count": 101,
   "metadata": {},
   "outputs": [],
   "source": [
    "def get_limits(df):\n",
    "    print('llimit', str(df.quantile(0.25) - 1.5*(df.quantile(0.75) - df.quantile(0.25))))\n",
    "    print('ulimit', str(df.quantile(0.75) + 1.5*(df.quantile(0.75) - df.quantile(0.25))))\n",
    "    print('Extreme llimit', str(df.quantile(0.25) - 3*(df.quantile(0.75) - df.quantile(0.25))))\n",
    "    print('Extreme ulimit', str(df.quantile(0.75) + 3*(df.quantile(0.75) - df.quantile(0.25))))"
   ]
  },
  {
   "cell_type": "code",
   "execution_count": 102,
   "metadata": {},
   "outputs": [
    {
     "name": "stdout",
     "output_type": "stream",
     "text": [
      "llimit -639.9479150772095\n",
      "ulimit 937.4687490463257\n",
      "Extreme llimit -1231.4791641235352\n",
      "Extreme ulimit 1528.9999980926514\n"
     ]
    }
   ],
   "source": [
    "get_limits(df.loc[budget_group == 'low', 'Profit perc'])"
   ]
  },
  {
   "cell_type": "code",
   "execution_count": 113,
   "metadata": {},
   "outputs": [
    {
     "data": {
      "text/plain": [
       "55"
      ]
     },
     "execution_count": 113,
     "metadata": {},
     "output_type": "execute_result"
    }
   ],
   "source": [
    "(df.loc[budget_group == 'low', 'Profit perc'] > 1528).sum()"
   ]
  },
  {
   "cell_type": "code",
   "execution_count": 114,
   "metadata": {},
   "outputs": [
    {
     "data": {
      "text/plain": [
       "(1152, 32)"
      ]
     },
     "execution_count": 114,
     "metadata": {},
     "output_type": "execute_result"
    }
   ],
   "source": [
    "low_df = df.loc[(budget_group == 'low') & (df['Profit perc'] < 1528)]\n",
    "low_df.shape"
   ]
  },
  {
   "cell_type": "code",
   "execution_count": 115,
   "metadata": {},
   "outputs": [],
   "source": [
    "def profit_genre(df, genres, col):\n",
    "    for i in genres:\n",
    "        if df[i] == 1:\n",
    "            df[i] = df[col]\n",
    "    return df"
   ]
  },
  {
   "cell_type": "markdown",
   "metadata": {},
   "source": [
    "#### I grab the genres that have at least 15 occurrences"
   ]
  },
  {
   "cell_type": "code",
   "execution_count": 130,
   "metadata": {},
   "outputs": [
    {
     "data": {
      "text/plain": [
       "action            76.0\n",
       "adventure         17.0\n",
       "animated          12.0\n",
       "biographical      64.0\n",
       "black             41.0\n",
       "buddy             13.0\n",
       "comedy           260.0\n",
       "comedy-drama     154.0\n",
       "crime             64.0\n",
       "drama            332.0\n",
       "epic              10.0\n",
       "fantasy           23.0\n",
       "fiction           42.0\n",
       "historical        16.0\n",
       "horror           156.0\n",
       "musical           20.0\n",
       "psychological     57.0\n",
       "romantic         139.0\n",
       "science           45.0\n",
       "sports            24.0\n",
       "superhero          9.0\n",
       "supernatural      59.0\n",
       "thriller         136.0\n",
       "war               18.0\n",
       "dtype: float32"
      ]
     },
     "execution_count": 130,
     "metadata": {},
     "output_type": "execute_result"
    }
   ],
   "source": [
    "low_df[genres].sum(axis=0)"
   ]
  },
  {
   "cell_type": "code",
   "execution_count": 133,
   "metadata": {},
   "outputs": [
    {
     "name": "stdout",
     "output_type": "stream",
     "text": [
      "['action', 'adventure', 'biographical', 'black', 'comedy', 'comedy-drama', 'crime', 'drama', 'fantasy', 'fiction', 'historical', 'horror', 'musical', 'psychological', 'romantic', 'science', 'sports', 'supernatural', 'thriller', 'war']\n"
     ]
    }
   ],
   "source": [
    "low_genres = low_df[genres].sum(axis=0).loc[low_df[genres].sum(axis=0) > 15].index.tolist()\n",
    "print(low_genres)"
   ]
  },
  {
   "cell_type": "code",
   "execution_count": 167,
   "metadata": {},
   "outputs": [
    {
     "data": {
      "text/html": [
       "<div>\n",
       "<style scoped>\n",
       "    .dataframe tbody tr th:only-of-type {\n",
       "        vertical-align: middle;\n",
       "    }\n",
       "\n",
       "    .dataframe tbody tr th {\n",
       "        vertical-align: top;\n",
       "    }\n",
       "\n",
       "    .dataframe thead th {\n",
       "        text-align: right;\n",
       "    }\n",
       "</style>\n",
       "<table border=\"1\" class=\"dataframe\">\n",
       "  <thead>\n",
       "    <tr style=\"text-align: right;\">\n",
       "      <th></th>\n",
       "      <th>action</th>\n",
       "      <th>adventure</th>\n",
       "      <th>biographical</th>\n",
       "      <th>black</th>\n",
       "      <th>comedy</th>\n",
       "      <th>comedy-drama</th>\n",
       "      <th>crime</th>\n",
       "      <th>drama</th>\n",
       "      <th>fantasy</th>\n",
       "      <th>fiction</th>\n",
       "      <th>historical</th>\n",
       "      <th>horror</th>\n",
       "      <th>musical</th>\n",
       "      <th>psychological</th>\n",
       "      <th>romantic</th>\n",
       "      <th>science</th>\n",
       "      <th>sports</th>\n",
       "      <th>supernatural</th>\n",
       "      <th>thriller</th>\n",
       "      <th>war</th>\n",
       "    </tr>\n",
       "  </thead>\n",
       "  <tbody>\n",
       "    <tr>\n",
       "      <th>3</th>\n",
       "      <td>-3.402554</td>\n",
       "      <td>NaN</td>\n",
       "      <td>NaN</td>\n",
       "      <td>NaN</td>\n",
       "      <td>-3.402554</td>\n",
       "      <td>NaN</td>\n",
       "      <td>NaN</td>\n",
       "      <td>NaN</td>\n",
       "      <td>NaN</td>\n",
       "      <td>NaN</td>\n",
       "      <td>NaN</td>\n",
       "      <td>NaN</td>\n",
       "      <td>NaN</td>\n",
       "      <td>NaN</td>\n",
       "      <td>NaN</td>\n",
       "      <td>NaN</td>\n",
       "      <td>NaN</td>\n",
       "      <td>NaN</td>\n",
       "      <td>NaN</td>\n",
       "      <td>NaN</td>\n",
       "    </tr>\n",
       "    <tr>\n",
       "      <th>4</th>\n",
       "      <td>NaN</td>\n",
       "      <td>NaN</td>\n",
       "      <td>NaN</td>\n",
       "      <td>NaN</td>\n",
       "      <td>NaN</td>\n",
       "      <td>NaN</td>\n",
       "      <td>NaN</td>\n",
       "      <td>NaN</td>\n",
       "      <td>NaN</td>\n",
       "      <td>83.800003</td>\n",
       "      <td>NaN</td>\n",
       "      <td>NaN</td>\n",
       "      <td>NaN</td>\n",
       "      <td>NaN</td>\n",
       "      <td>NaN</td>\n",
       "      <td>83.800003</td>\n",
       "      <td>NaN</td>\n",
       "      <td>NaN</td>\n",
       "      <td>83.800003</td>\n",
       "      <td>NaN</td>\n",
       "    </tr>\n",
       "    <tr>\n",
       "      <th>7</th>\n",
       "      <td>NaN</td>\n",
       "      <td>NaN</td>\n",
       "      <td>NaN</td>\n",
       "      <td>NaN</td>\n",
       "      <td>NaN</td>\n",
       "      <td>NaN</td>\n",
       "      <td>NaN</td>\n",
       "      <td>42.599998</td>\n",
       "      <td>NaN</td>\n",
       "      <td>NaN</td>\n",
       "      <td>NaN</td>\n",
       "      <td>NaN</td>\n",
       "      <td>NaN</td>\n",
       "      <td>NaN</td>\n",
       "      <td>NaN</td>\n",
       "      <td>NaN</td>\n",
       "      <td>NaN</td>\n",
       "      <td>NaN</td>\n",
       "      <td>NaN</td>\n",
       "      <td>NaN</td>\n",
       "    </tr>\n",
       "    <tr>\n",
       "      <th>9</th>\n",
       "      <td>5.000000</td>\n",
       "      <td>NaN</td>\n",
       "      <td>NaN</td>\n",
       "      <td>NaN</td>\n",
       "      <td>5.000000</td>\n",
       "      <td>NaN</td>\n",
       "      <td>NaN</td>\n",
       "      <td>NaN</td>\n",
       "      <td>NaN</td>\n",
       "      <td>NaN</td>\n",
       "      <td>NaN</td>\n",
       "      <td>NaN</td>\n",
       "      <td>NaN</td>\n",
       "      <td>NaN</td>\n",
       "      <td>NaN</td>\n",
       "      <td>NaN</td>\n",
       "      <td>NaN</td>\n",
       "      <td>NaN</td>\n",
       "      <td>NaN</td>\n",
       "      <td>NaN</td>\n",
       "    </tr>\n",
       "    <tr>\n",
       "      <th>13</th>\n",
       "      <td>NaN</td>\n",
       "      <td>NaN</td>\n",
       "      <td>NaN</td>\n",
       "      <td>NaN</td>\n",
       "      <td>18.299999</td>\n",
       "      <td>NaN</td>\n",
       "      <td>NaN</td>\n",
       "      <td>NaN</td>\n",
       "      <td>NaN</td>\n",
       "      <td>NaN</td>\n",
       "      <td>NaN</td>\n",
       "      <td>NaN</td>\n",
       "      <td>18.299999</td>\n",
       "      <td>NaN</td>\n",
       "      <td>NaN</td>\n",
       "      <td>NaN</td>\n",
       "      <td>NaN</td>\n",
       "      <td>NaN</td>\n",
       "      <td>NaN</td>\n",
       "      <td>NaN</td>\n",
       "    </tr>\n",
       "  </tbody>\n",
       "</table>\n",
       "</div>"
      ],
      "text/plain": [
       "      action  adventure  biographical  black     comedy  comedy-drama  crime  \\\n",
       "3  -3.402554        NaN           NaN    NaN  -3.402554           NaN    NaN   \n",
       "4        NaN        NaN           NaN    NaN        NaN           NaN    NaN   \n",
       "7        NaN        NaN           NaN    NaN        NaN           NaN    NaN   \n",
       "9   5.000000        NaN           NaN    NaN   5.000000           NaN    NaN   \n",
       "13       NaN        NaN           NaN    NaN  18.299999           NaN    NaN   \n",
       "\n",
       "        drama  fantasy    fiction  historical  horror    musical  \\\n",
       "3         NaN      NaN        NaN         NaN     NaN        NaN   \n",
       "4         NaN      NaN  83.800003         NaN     NaN        NaN   \n",
       "7   42.599998      NaN        NaN         NaN     NaN        NaN   \n",
       "9         NaN      NaN        NaN         NaN     NaN        NaN   \n",
       "13        NaN      NaN        NaN         NaN     NaN  18.299999   \n",
       "\n",
       "    psychological  romantic    science  sports  supernatural   thriller  war  \n",
       "3             NaN       NaN        NaN     NaN           NaN        NaN  NaN  \n",
       "4             NaN       NaN  83.800003     NaN           NaN  83.800003  NaN  \n",
       "7             NaN       NaN        NaN     NaN           NaN        NaN  NaN  \n",
       "9             NaN       NaN        NaN     NaN           NaN        NaN  NaN  \n",
       "13            NaN       NaN        NaN     NaN           NaN        NaN  NaN  "
      ]
     },
     "execution_count": 167,
     "metadata": {},
     "output_type": "execute_result"
    }
   ],
   "source": [
    "low_df_profit = low_df[low_genres+ ['Profit']].apply(profit_genre, genres=low_genres,\n",
    "                                     col='Profit', axis=1).drop(columns='Profit')\n",
    "\n",
    "low_df_profit[low_df_profit == 0] = np.nan\n",
    "\n",
    "low_df_profit.head()"
   ]
  },
  {
   "cell_type": "code",
   "execution_count": 168,
   "metadata": {},
   "outputs": [
    {
     "data": {
      "text/plain": [
       "<Axes: >"
      ]
     },
     "execution_count": 168,
     "metadata": {},
     "output_type": "execute_result"
    },
    {
     "data": {
      "image/png": "[encoded data removed]",
      "text/plain": [
       "<Figure size 640x480 with 1 Axes>"
      ]
     },
     "metadata": {},
     "output_type": "display_data"
    }
   ],
   "source": [
    "low_df_profit.mean(axis=0).plot.bar()"
   ]
  },
  {
   "cell_type": "code",
   "execution_count": 176,
   "metadata": {},
   "outputs": [
    {
     "data": {
      "text/plain": [
       "<Axes: >"
      ]
     },
     "execution_count": 176,
     "metadata": {},
     "output_type": "execute_result"
    },
    {
     "data": {
      "image/png": "[encoded data removed]",
      "text/plain": [
       "<Figure size 640x480 with 1 Axes>"
      ]
     },
     "metadata": {},
     "output_type": "display_data"
    }
   ],
   "source": [
    "low_df_profit.quantile(q=0.5,axis=0).plot.bar()"
   ]
  },
  {
   "cell_type": "code",
   "execution_count": 172,
   "metadata": {},
   "outputs": [],
   "source": [
    "low_df_profit_perc = low_df[low_genres+ ['Profit perc']].apply(profit_genre, genres=low_genres,\n",
    "                                     col='Profit perc', axis=1).drop(columns='Profit perc')\n",
    "\n",
    "low_df_profit_perc[low_df_profit_perc == 0] = np.nan"
   ]
  },
  {
   "cell_type": "code",
   "execution_count": 173,
   "metadata": {},
   "outputs": [
    {
     "data": {
      "text/plain": [
       "<Axes: >"
      ]
     },
     "execution_count": 173,
     "metadata": {},
     "output_type": "execute_result"
    },
    {
     "data": {
      "image/png": "[encoded data removed]",
      "text/plain": [
       "<Figure size 640x480 with 1 Axes>"
      ]
     },
     "metadata": {},
     "output_type": "display_data"
    }
   ],
   "source": [
    "low_df_profit_perc.mean(axis=0).plot.bar()"
   ]
  },
  {
   "cell_type": "code",
   "execution_count": 179,
   "metadata": {},
   "outputs": [
    {
     "data": {
      "text/plain": [
       "<Axes: >"
      ]
     },
     "execution_count": 179,
     "metadata": {},
     "output_type": "execute_result"
    },
    {
     "data": {
      "image/png": "[encoded data removed]",
      "text/plain": [
       "<Figure size 640x480 with 1 Axes>"
      ]
     },
     "metadata": {},
     "output_type": "display_data"
    }
   ],
   "source": [
    "low_df_profit_perc.quantile(q=0.5, axis=0).plot.bar()"
   ]
  },
  {
   "cell_type": "code",
   "execution_count": null,
   "metadata": {},
   "outputs": [],
   "source": []
  }
 ],
 "metadata": {
  "kernelspec": {
   "display_name": "base",
   "language": "python",
   "name": "python3"
  },
  "language_info": {
   "codemirror_mode": {
    "name": "ipython",
    "version": 3
   },
   "file_extension": ".py",
   "mimetype": "text/x-python",
   "name": "python",
   "nbconvert_exporter": "python",
   "pygments_lexer": "ipython3",
   "version": "3.11.5"
  }
 },
 "nbformat": 4,
 "nbformat_minor": 2
}
