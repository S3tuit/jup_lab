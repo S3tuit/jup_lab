{
 "cells": [
  {
   "cell_type": "code",
   "execution_count": 1,
   "metadata": {},
   "outputs": [],
   "source": [
    "import pandas as pd\n",
    "import numpy as np \n",
    "import re"
   ]
  },
  {
   "cell_type": "code",
   "execution_count": 2,
   "metadata": {},
   "outputs": [],
   "source": [
    "df = pd.read_csv(r'movies_profi.csv')"
   ]
  },
  {
   "cell_type": "code",
   "execution_count": 3,
   "metadata": {},
   "outputs": [
    {
     "data": {
      "text/html": [
       "<div>\n",
       "<style scoped>\n",
       "    .dataframe tbody tr th:only-of-type {\n",
       "        vertical-align: middle;\n",
       "    }\n",
       "\n",
       "    .dataframe tbody tr th {\n",
       "        vertical-align: top;\n",
       "    }\n",
       "\n",
       "    .dataframe thead th {\n",
       "        text-align: right;\n",
       "    }\n",
       "</style>\n",
       "<table border=\"1\" class=\"dataframe\">\n",
       "  <thead>\n",
       "    <tr style=\"text-align: right;\">\n",
       "      <th></th>\n",
       "      <th>Month</th>\n",
       "      <th>Day</th>\n",
       "      <th>Title</th>\n",
       "      <th>Link</th>\n",
       "      <th>List</th>\n",
       "      <th>Year</th>\n",
       "      <th>Genres</th>\n",
       "      <th>Budget</th>\n",
       "      <th>Box office</th>\n",
       "    </tr>\n",
       "  </thead>\n",
       "  <tbody>\n",
       "    <tr>\n",
       "      <th>0</th>\n",
       "      <td>1</td>\n",
       "      <td>2.0</td>\n",
       "      <td>The Woman in Black: Angel of Death</td>\n",
       "      <td>/wiki/The_Woman_in_Black:_Angel_of_Death</td>\n",
       "      <td>['supernatural horror', '$15 million[6]', '$48...</td>\n",
       "      <td>2015.0</td>\n",
       "      <td>supernatural horror</td>\n",
       "      <td>$15 million[6]</td>\n",
       "      <td>$48.9 million[1]</td>\n",
       "    </tr>\n",
       "    <tr>\n",
       "      <th>1</th>\n",
       "      <td>1</td>\n",
       "      <td>9.0</td>\n",
       "      <td>Taken 3</td>\n",
       "      <td>/wiki/Taken_3</td>\n",
       "      <td>['-language French action-thriller', '$48 mill...</td>\n",
       "      <td>2015.0</td>\n",
       "      <td>-language French action-thriller</td>\n",
       "      <td>$48 million[2]</td>\n",
       "      <td>$326.4 million[2]</td>\n",
       "    </tr>\n",
       "    <tr>\n",
       "      <th>2</th>\n",
       "      <td>1</td>\n",
       "      <td>16.0</td>\n",
       "      <td>Blackhat</td>\n",
       "      <td>/wiki/Blackhat_(film)</td>\n",
       "      <td>[' action thriller', '$70 million[3]', '$19.7 ...</td>\n",
       "      <td>2015.0</td>\n",
       "      <td>action thriller</td>\n",
       "      <td>$70 million[3]</td>\n",
       "      <td>$19.7 million[3]</td>\n",
       "    </tr>\n",
       "    <tr>\n",
       "      <th>3</th>\n",
       "      <td>1</td>\n",
       "      <td>16.0</td>\n",
       "      <td>Spare Parts</td>\n",
       "      <td>/wiki/Spare_Parts_(2015_film)</td>\n",
       "      <td>['drama', '$4 million[2]', '$3.6 million[3]']</td>\n",
       "      <td>2015.0</td>\n",
       "      <td>drama</td>\n",
       "      <td>$4 million[2]</td>\n",
       "      <td>$3.6 million[3]</td>\n",
       "    </tr>\n",
       "    <tr>\n",
       "      <th>4</th>\n",
       "      <td>1</td>\n",
       "      <td>16.0</td>\n",
       "      <td>The Wedding Ringer</td>\n",
       "      <td>/wiki/The_Wedding_Ringer</td>\n",
       "      <td>[' buddy romantic comedy', '$23 million[4]', '...</td>\n",
       "      <td>2015.0</td>\n",
       "      <td>buddy romantic comedy</td>\n",
       "      <td>$23 million[4]</td>\n",
       "      <td>$79.8 million[4]</td>\n",
       "    </tr>\n",
       "  </tbody>\n",
       "</table>\n",
       "</div>"
      ],
      "text/plain": [
       "   Month   Day                               Title  \\\n",
       "0      1   2.0  The Woman in Black: Angel of Death   \n",
       "1      1   9.0                             Taken 3   \n",
       "2      1  16.0                            Blackhat   \n",
       "3      1  16.0                         Spare Parts   \n",
       "4      1  16.0                  The Wedding Ringer   \n",
       "\n",
       "                                       Link  \\\n",
       "0  /wiki/The_Woman_in_Black:_Angel_of_Death   \n",
       "1                             /wiki/Taken_3   \n",
       "2                     /wiki/Blackhat_(film)   \n",
       "3             /wiki/Spare_Parts_(2015_film)   \n",
       "4                  /wiki/The_Wedding_Ringer   \n",
       "\n",
       "                                                List    Year  \\\n",
       "0  ['supernatural horror', '$15 million[6]', '$48...  2015.0   \n",
       "1  ['-language French action-thriller', '$48 mill...  2015.0   \n",
       "2  [' action thriller', '$70 million[3]', '$19.7 ...  2015.0   \n",
       "3      ['drama', '$4 million[2]', '$3.6 million[3]']  2015.0   \n",
       "4  [' buddy romantic comedy', '$23 million[4]', '...  2015.0   \n",
       "\n",
       "                             Genres          Budget         Box office  \n",
       "0               supernatural horror  $15 million[6]   $48.9 million[1]  \n",
       "1  -language French action-thriller  $48 million[2]  $326.4 million[2]  \n",
       "2                   action thriller  $70 million[3]   $19.7 million[3]  \n",
       "3                             drama   $4 million[2]    $3.6 million[3]  \n",
       "4             buddy romantic comedy  $23 million[4]   $79.8 million[4]  "
      ]
     },
     "execution_count": 3,
     "metadata": {},
     "output_type": "execute_result"
    }
   ],
   "source": [
    "df.head()"
   ]
  },
  {
   "cell_type": "code",
   "execution_count": 4,
   "metadata": {},
   "outputs": [
    {
     "name": "stdout",
     "output_type": "stream",
     "text": [
      "<class 'pandas.core.frame.DataFrame'>\n",
      "RangeIndex: 1032 entries, 0 to 1031\n",
      "Data columns (total 9 columns):\n",
      " #   Column      Non-Null Count  Dtype  \n",
      "---  ------      --------------  -----  \n",
      " 0   Month       1032 non-null   int64  \n",
      " 1   Day         1032 non-null   float64\n",
      " 2   Title       1032 non-null   object \n",
      " 3   Link        1032 non-null   object \n",
      " 4   List        1032 non-null   object \n",
      " 5   Year        1032 non-null   float64\n",
      " 6   Genres      1032 non-null   object \n",
      " 7   Budget      1032 non-null   object \n",
      " 8   Box office  1032 non-null   object \n",
      "dtypes: float64(2), int64(1), object(6)\n",
      "memory usage: 72.7+ KB\n"
     ]
    }
   ],
   "source": [
    "df.info()"
   ]
  },
  {
   "cell_type": "markdown",
   "metadata": {},
   "source": [
    "### Cleaning the Budget col"
   ]
  },
  {
   "cell_type": "code",
   "execution_count": 5,
   "metadata": {},
   "outputs": [
    {
     "data": {
      "text/html": [
       "<div>\n",
       "<style scoped>\n",
       "    .dataframe tbody tr th:only-of-type {\n",
       "        vertical-align: middle;\n",
       "    }\n",
       "\n",
       "    .dataframe tbody tr th {\n",
       "        vertical-align: top;\n",
       "    }\n",
       "\n",
       "    .dataframe thead th {\n",
       "        text-align: right;\n",
       "    }\n",
       "</style>\n",
       "<table border=\"1\" class=\"dataframe\">\n",
       "  <thead>\n",
       "    <tr style=\"text-align: right;\">\n",
       "      <th></th>\n",
       "      <th>Month</th>\n",
       "      <th>Day</th>\n",
       "      <th>Title</th>\n",
       "      <th>Link</th>\n",
       "      <th>List</th>\n",
       "      <th>Year</th>\n",
       "      <th>Genres</th>\n",
       "      <th>Budget</th>\n",
       "      <th>Box office</th>\n",
       "    </tr>\n",
       "  </thead>\n",
       "  <tbody>\n",
       "    <tr>\n",
       "      <th>1027</th>\n",
       "      <td>12</td>\n",
       "      <td>16.0</td>\n",
       "      <td>Avatar: The Way of Water</td>\n",
       "      <td>/wiki/Avatar:_The_Way_of_Water</td>\n",
       "      <td>[' epic science fiction', '$350–460\\xa0million...</td>\n",
       "      <td>2022.0</td>\n",
       "      <td>epic science fiction</td>\n",
       "      <td>$350–460 million</td>\n",
       "      <td>$2.32 billion</td>\n",
       "    </tr>\n",
       "    <tr>\n",
       "      <th>1028</th>\n",
       "      <td>12</td>\n",
       "      <td>21.0</td>\n",
       "      <td>Puss in Boots: The Last Wish</td>\n",
       "      <td>/wiki/Puss_in_Boots:_The_Last_Wish</td>\n",
       "      <td>[' animated adventure comedy', '$90–110 millio...</td>\n",
       "      <td>2022.0</td>\n",
       "      <td>animated adventure comedy</td>\n",
       "      <td>$90–110 million</td>\n",
       "      <td>$484.6 million</td>\n",
       "    </tr>\n",
       "    <tr>\n",
       "      <th>1029</th>\n",
       "      <td>12</td>\n",
       "      <td>23.0</td>\n",
       "      <td>Babylon</td>\n",
       "      <td>/wiki/Babylon_(2022_film)</td>\n",
       "      <td>[' epic period black comedy-drama', '$78–80 mi...</td>\n",
       "      <td>2022.0</td>\n",
       "      <td>epic period black comedy-drama</td>\n",
       "      <td>$78–80 million</td>\n",
       "      <td>$63.4 million</td>\n",
       "    </tr>\n",
       "    <tr>\n",
       "      <th>1030</th>\n",
       "      <td>12</td>\n",
       "      <td>23.0</td>\n",
       "      <td>Whitney Houston: I Wanna Dance with Somebody</td>\n",
       "      <td>/wiki/Whitney_Houston:_I_Wanna_Dance_with_Some...</td>\n",
       "      <td>[' biographical musical drama', '$45 million[1...</td>\n",
       "      <td>2022.0</td>\n",
       "      <td>biographical musical drama</td>\n",
       "      <td>$45 million</td>\n",
       "      <td>$59.8 million</td>\n",
       "    </tr>\n",
       "    <tr>\n",
       "      <th>1031</th>\n",
       "      <td>12</td>\n",
       "      <td>29.0</td>\n",
       "      <td>A Man Called Otto</td>\n",
       "      <td>/wiki/A_Man_Called_Otto</td>\n",
       "      <td>[' comedy-drama', '$50 million', '$113.2 milli...</td>\n",
       "      <td>2022.0</td>\n",
       "      <td>comedy-drama</td>\n",
       "      <td>$50 million</td>\n",
       "      <td>$113.2 million</td>\n",
       "    </tr>\n",
       "  </tbody>\n",
       "</table>\n",
       "</div>"
      ],
      "text/plain": [
       "      Month   Day                                         Title  \\\n",
       "1027     12  16.0                      Avatar: The Way of Water   \n",
       "1028     12  21.0                  Puss in Boots: The Last Wish   \n",
       "1029     12  23.0                                       Babylon   \n",
       "1030     12  23.0  Whitney Houston: I Wanna Dance with Somebody   \n",
       "1031     12  29.0                             A Man Called Otto   \n",
       "\n",
       "                                                   Link  \\\n",
       "1027                     /wiki/Avatar:_The_Way_of_Water   \n",
       "1028                 /wiki/Puss_in_Boots:_The_Last_Wish   \n",
       "1029                          /wiki/Babylon_(2022_film)   \n",
       "1030  /wiki/Whitney_Houston:_I_Wanna_Dance_with_Some...   \n",
       "1031                            /wiki/A_Man_Called_Otto   \n",
       "\n",
       "                                                   List    Year  \\\n",
       "1027  [' epic science fiction', '$350–460\\xa0million...  2022.0   \n",
       "1028  [' animated adventure comedy', '$90–110 millio...  2022.0   \n",
       "1029  [' epic period black comedy-drama', '$78–80 mi...  2022.0   \n",
       "1030  [' biographical musical drama', '$45 million[1...  2022.0   \n",
       "1031  [' comedy-drama', '$50 million', '$113.2 milli...  2022.0   \n",
       "\n",
       "                               Genres            Budget      Box office  \n",
       "1027             epic science fiction  $350–460 million   $2.32 billion  \n",
       "1028        animated adventure comedy   $90–110 million  $484.6 million  \n",
       "1029   epic period black comedy-drama    $78–80 million   $63.4 million  \n",
       "1030       biographical musical drama       $45 million   $59.8 million  \n",
       "1031                     comedy-drama       $50 million  $113.2 million  "
      ]
     },
     "execution_count": 5,
     "metadata": {},
     "output_type": "execute_result"
    }
   ],
   "source": [
    "df['Budget'] = df['Budget'].str.split('[').str.get(0)\n",
    "df['Box office'] = df['Box office'].str.split('[').str.get(0)\n",
    "df.tail()"
   ]
  },
  {
   "cell_type": "code",
   "execution_count": 6,
   "metadata": {},
   "outputs": [],
   "source": [
    "df.rename(columns={'Budget':'Budget2'}, inplace=True)"
   ]
  },
  {
   "cell_type": "code",
   "execution_count": 7,
   "metadata": {},
   "outputs": [],
   "source": [
    "df['Budget2'] = df['Budget2'].str.replace(r'–', '-')"
   ]
  },
  {
   "cell_type": "code",
   "execution_count": 8,
   "metadata": {},
   "outputs": [],
   "source": [
    "mask = df['Budget2'].str.find('-')\n",
    "mask = mask != -1"
   ]
  },
  {
   "cell_type": "code",
   "execution_count": 9,
   "metadata": {},
   "outputs": [
    {
     "data": {
      "text/plain": [
       "False"
      ]
     },
     "execution_count": 9,
     "metadata": {},
     "output_type": "execute_result"
    }
   ],
   "source": [
    "(df.loc[mask, 'Budget2'].str.find('million') == -1).any()"
   ]
  },
  {
   "cell_type": "code",
   "execution_count": 10,
   "metadata": {},
   "outputs": [],
   "source": [
    "def get_mean_budget(x):\n",
    "    pattern = r'\\$?([\\d\\.]*)-\\$?([\\d\\.]*)'\n",
    "    try:\n",
    "        finds = re.findall(pattern, x)[0]\n",
    "        return (float(finds[0]) + float(finds[1])) / 2\n",
    "    except:\n",
    "        pattern = r'\\$?([\\d\\.]*)[\\s\\w]*-[\\s\\$]?([\\d\\.]*)'\n",
    "        finds = re.findall(pattern, x)[0]\n",
    "        return (float(finds[0]) + float(finds[1])) / 2      \n",
    "\n",
    "\n",
    "df['Budget'] = df.loc[mask, 'Budget2'].apply(get_mean_budget)"
   ]
  },
  {
   "cell_type": "code",
   "execution_count": 11,
   "metadata": {},
   "outputs": [],
   "source": [
    "mask = df['Budget'].isna()"
   ]
  },
  {
   "cell_type": "code",
   "execution_count": 12,
   "metadata": {},
   "outputs": [
    {
     "data": {
      "text/plain": [
       "19"
      ]
     },
     "execution_count": 12,
     "metadata": {},
     "output_type": "execute_result"
    }
   ],
   "source": [
    "(df.loc[mask, 'Budget2'].str.find('million') == -1).sum()"
   ]
  },
  {
   "cell_type": "code",
   "execution_count": 13,
   "metadata": {},
   "outputs": [
    {
     "data": {
      "text/plain": [
       "82                 $100,000\n",
       "84                 $100,000\n",
       "200                $900,000\n",
       "343                $500,000\n",
       "356                 $80,000\n",
       "402                $900,000\n",
       "413                $880,000\n",
       "659     $66 thousand (est.)\n",
       "666                $586,443\n",
       "671                £850,000\n",
       "730                $500,000\n",
       "734                $200,000\n",
       "788               <$300,000\n",
       "797                $250,000\n",
       "871                $250,000\n",
       "885                $950,000\n",
       "902                $100,000\n",
       "988                $500,000\n",
       "1003               $250,000\n",
       "Name: Budget2, dtype: object"
      ]
     },
     "execution_count": 13,
     "metadata": {},
     "output_type": "execute_result"
    }
   ],
   "source": [
    "mask2 = (df.loc[mask, 'Budget2'].str.find('million') == -1)\n",
    "df[mask].loc[mask2, 'Budget2']"
   ]
  },
  {
   "cell_type": "code",
   "execution_count": 14,
   "metadata": {},
   "outputs": [],
   "source": [
    "df.loc[659, 'Budget'] = 0.066"
   ]
  },
  {
   "cell_type": "code",
   "execution_count": 15,
   "metadata": {},
   "outputs": [],
   "source": [
    "def thousands_budget(x):\n",
    "    pattern = r'.?\\$(\\d+),'\n",
    "    try:\n",
    "        finds = re.findall(pattern, x)[0]\n",
    "        return float(finds) / 1000\n",
    "    except:\n",
    "        return 0.066\n",
    "    \n",
    "df.loc[(mask & mask2), 'Budget'] = df[mask].loc[mask2, 'Budget2'].apply(thousands_budget)"
   ]
  },
  {
   "cell_type": "code",
   "execution_count": 16,
   "metadata": {},
   "outputs": [
    {
     "data": {
      "text/html": [
       "<div>\n",
       "<style scoped>\n",
       "    .dataframe tbody tr th:only-of-type {\n",
       "        vertical-align: middle;\n",
       "    }\n",
       "\n",
       "    .dataframe tbody tr th {\n",
       "        vertical-align: top;\n",
       "    }\n",
       "\n",
       "    .dataframe thead th {\n",
       "        text-align: right;\n",
       "    }\n",
       "</style>\n",
       "<table border=\"1\" class=\"dataframe\">\n",
       "  <thead>\n",
       "    <tr style=\"text-align: right;\">\n",
       "      <th></th>\n",
       "      <th>Month</th>\n",
       "      <th>Day</th>\n",
       "      <th>Title</th>\n",
       "      <th>Link</th>\n",
       "      <th>List</th>\n",
       "      <th>Year</th>\n",
       "      <th>Genres</th>\n",
       "      <th>Budget2</th>\n",
       "      <th>Box office</th>\n",
       "      <th>Budget</th>\n",
       "    </tr>\n",
       "  </thead>\n",
       "  <tbody>\n",
       "    <tr>\n",
       "      <th>1027</th>\n",
       "      <td>12</td>\n",
       "      <td>16.0</td>\n",
       "      <td>Avatar: The Way of Water</td>\n",
       "      <td>/wiki/Avatar:_The_Way_of_Water</td>\n",
       "      <td>[' epic science fiction', '$350–460\\xa0million...</td>\n",
       "      <td>2022.0</td>\n",
       "      <td>epic science fiction</td>\n",
       "      <td>$350-460 million</td>\n",
       "      <td>$2.32 billion</td>\n",
       "      <td>405.0</td>\n",
       "    </tr>\n",
       "    <tr>\n",
       "      <th>1028</th>\n",
       "      <td>12</td>\n",
       "      <td>21.0</td>\n",
       "      <td>Puss in Boots: The Last Wish</td>\n",
       "      <td>/wiki/Puss_in_Boots:_The_Last_Wish</td>\n",
       "      <td>[' animated adventure comedy', '$90–110 millio...</td>\n",
       "      <td>2022.0</td>\n",
       "      <td>animated adventure comedy</td>\n",
       "      <td>$90-110 million</td>\n",
       "      <td>$484.6 million</td>\n",
       "      <td>100.0</td>\n",
       "    </tr>\n",
       "    <tr>\n",
       "      <th>1029</th>\n",
       "      <td>12</td>\n",
       "      <td>23.0</td>\n",
       "      <td>Babylon</td>\n",
       "      <td>/wiki/Babylon_(2022_film)</td>\n",
       "      <td>[' epic period black comedy-drama', '$78–80 mi...</td>\n",
       "      <td>2022.0</td>\n",
       "      <td>epic period black comedy-drama</td>\n",
       "      <td>$78-80 million</td>\n",
       "      <td>$63.4 million</td>\n",
       "      <td>79.0</td>\n",
       "    </tr>\n",
       "    <tr>\n",
       "      <th>1030</th>\n",
       "      <td>12</td>\n",
       "      <td>23.0</td>\n",
       "      <td>Whitney Houston: I Wanna Dance with Somebody</td>\n",
       "      <td>/wiki/Whitney_Houston:_I_Wanna_Dance_with_Some...</td>\n",
       "      <td>[' biographical musical drama', '$45 million[1...</td>\n",
       "      <td>2022.0</td>\n",
       "      <td>biographical musical drama</td>\n",
       "      <td>$45 million</td>\n",
       "      <td>$59.8 million</td>\n",
       "      <td>NaN</td>\n",
       "    </tr>\n",
       "    <tr>\n",
       "      <th>1031</th>\n",
       "      <td>12</td>\n",
       "      <td>29.0</td>\n",
       "      <td>A Man Called Otto</td>\n",
       "      <td>/wiki/A_Man_Called_Otto</td>\n",
       "      <td>[' comedy-drama', '$50 million', '$113.2 milli...</td>\n",
       "      <td>2022.0</td>\n",
       "      <td>comedy-drama</td>\n",
       "      <td>$50 million</td>\n",
       "      <td>$113.2 million</td>\n",
       "      <td>NaN</td>\n",
       "    </tr>\n",
       "  </tbody>\n",
       "</table>\n",
       "</div>"
      ],
      "text/plain": [
       "      Month   Day                                         Title  \\\n",
       "1027     12  16.0                      Avatar: The Way of Water   \n",
       "1028     12  21.0                  Puss in Boots: The Last Wish   \n",
       "1029     12  23.0                                       Babylon   \n",
       "1030     12  23.0  Whitney Houston: I Wanna Dance with Somebody   \n",
       "1031     12  29.0                             A Man Called Otto   \n",
       "\n",
       "                                                   Link  \\\n",
       "1027                     /wiki/Avatar:_The_Way_of_Water   \n",
       "1028                 /wiki/Puss_in_Boots:_The_Last_Wish   \n",
       "1029                          /wiki/Babylon_(2022_film)   \n",
       "1030  /wiki/Whitney_Houston:_I_Wanna_Dance_with_Some...   \n",
       "1031                            /wiki/A_Man_Called_Otto   \n",
       "\n",
       "                                                   List    Year  \\\n",
       "1027  [' epic science fiction', '$350–460\\xa0million...  2022.0   \n",
       "1028  [' animated adventure comedy', '$90–110 millio...  2022.0   \n",
       "1029  [' epic period black comedy-drama', '$78–80 mi...  2022.0   \n",
       "1030  [' biographical musical drama', '$45 million[1...  2022.0   \n",
       "1031  [' comedy-drama', '$50 million', '$113.2 milli...  2022.0   \n",
       "\n",
       "                               Genres           Budget2      Box office  \\\n",
       "1027             epic science fiction  $350-460 million   $2.32 billion   \n",
       "1028        animated adventure comedy   $90-110 million  $484.6 million   \n",
       "1029   epic period black comedy-drama    $78-80 million   $63.4 million   \n",
       "1030       biographical musical drama       $45 million   $59.8 million   \n",
       "1031                     comedy-drama       $50 million  $113.2 million   \n",
       "\n",
       "      Budget  \n",
       "1027   405.0  \n",
       "1028   100.0  \n",
       "1029    79.0  \n",
       "1030     NaN  \n",
       "1031     NaN  "
      ]
     },
     "execution_count": 16,
     "metadata": {},
     "output_type": "execute_result"
    }
   ],
   "source": [
    "df.tail()"
   ]
  },
  {
   "cell_type": "code",
   "execution_count": 17,
   "metadata": {},
   "outputs": [
    {
     "data": {
      "text/plain": [
       "0    $15 million\n",
       "1    $48 million\n",
       "2    $70 million\n",
       "3     $4 million\n",
       "4    $23 million\n",
       "Name: Budget2, dtype: object"
      ]
     },
     "execution_count": 17,
     "metadata": {},
     "output_type": "execute_result"
    }
   ],
   "source": [
    "mask2 = (df.loc[mask, 'Budget2'].str.find('million') != -1)\n",
    "df[mask].loc[mask2, 'Budget2'][:5]"
   ]
  },
  {
   "cell_type": "code",
   "execution_count": 18,
   "metadata": {},
   "outputs": [],
   "source": [
    "def millions_budget(x):\n",
    "    pattern = r'[\\$€£](\\d+)'\n",
    "    finds = re.findall(pattern, x)\n",
    "    if len(finds) == 0:\n",
    "        print('Error' + x)\n",
    "    else:\n",
    "        return float(finds[0])\n",
    "\n",
    "df.loc[(mask & mask2), 'Budget'] = df[mask].loc[mask2, 'Budget2'].apply(millions_budget)"
   ]
  },
  {
   "cell_type": "code",
   "execution_count": 19,
   "metadata": {},
   "outputs": [
    {
     "data": {
      "text/html": [
       "<div>\n",
       "<style scoped>\n",
       "    .dataframe tbody tr th:only-of-type {\n",
       "        vertical-align: middle;\n",
       "    }\n",
       "\n",
       "    .dataframe tbody tr th {\n",
       "        vertical-align: top;\n",
       "    }\n",
       "\n",
       "    .dataframe thead th {\n",
       "        text-align: right;\n",
       "    }\n",
       "</style>\n",
       "<table border=\"1\" class=\"dataframe\">\n",
       "  <thead>\n",
       "    <tr style=\"text-align: right;\">\n",
       "      <th></th>\n",
       "      <th>Month</th>\n",
       "      <th>Day</th>\n",
       "      <th>Title</th>\n",
       "      <th>Link</th>\n",
       "      <th>List</th>\n",
       "      <th>Year</th>\n",
       "      <th>Genres</th>\n",
       "      <th>Budget2</th>\n",
       "      <th>Box office</th>\n",
       "      <th>Budget</th>\n",
       "    </tr>\n",
       "  </thead>\n",
       "  <tbody>\n",
       "    <tr>\n",
       "      <th>0</th>\n",
       "      <td>1</td>\n",
       "      <td>2.0</td>\n",
       "      <td>The Woman in Black: Angel of Death</td>\n",
       "      <td>/wiki/The_Woman_in_Black:_Angel_of_Death</td>\n",
       "      <td>['supernatural horror', '$15 million[6]', '$48...</td>\n",
       "      <td>2015.0</td>\n",
       "      <td>supernatural horror</td>\n",
       "      <td>$15 million</td>\n",
       "      <td>$48.9 million</td>\n",
       "      <td>15.0</td>\n",
       "    </tr>\n",
       "    <tr>\n",
       "      <th>1</th>\n",
       "      <td>1</td>\n",
       "      <td>9.0</td>\n",
       "      <td>Taken 3</td>\n",
       "      <td>/wiki/Taken_3</td>\n",
       "      <td>['-language French action-thriller', '$48 mill...</td>\n",
       "      <td>2015.0</td>\n",
       "      <td>-language French action-thriller</td>\n",
       "      <td>$48 million</td>\n",
       "      <td>$326.4 million</td>\n",
       "      <td>48.0</td>\n",
       "    </tr>\n",
       "    <tr>\n",
       "      <th>2</th>\n",
       "      <td>1</td>\n",
       "      <td>16.0</td>\n",
       "      <td>Blackhat</td>\n",
       "      <td>/wiki/Blackhat_(film)</td>\n",
       "      <td>[' action thriller', '$70 million[3]', '$19.7 ...</td>\n",
       "      <td>2015.0</td>\n",
       "      <td>action thriller</td>\n",
       "      <td>$70 million</td>\n",
       "      <td>$19.7 million</td>\n",
       "      <td>70.0</td>\n",
       "    </tr>\n",
       "    <tr>\n",
       "      <th>3</th>\n",
       "      <td>1</td>\n",
       "      <td>16.0</td>\n",
       "      <td>Spare Parts</td>\n",
       "      <td>/wiki/Spare_Parts_(2015_film)</td>\n",
       "      <td>['drama', '$4 million[2]', '$3.6 million[3]']</td>\n",
       "      <td>2015.0</td>\n",
       "      <td>drama</td>\n",
       "      <td>$4 million</td>\n",
       "      <td>$3.6 million</td>\n",
       "      <td>4.0</td>\n",
       "    </tr>\n",
       "    <tr>\n",
       "      <th>4</th>\n",
       "      <td>1</td>\n",
       "      <td>16.0</td>\n",
       "      <td>The Wedding Ringer</td>\n",
       "      <td>/wiki/The_Wedding_Ringer</td>\n",
       "      <td>[' buddy romantic comedy', '$23 million[4]', '...</td>\n",
       "      <td>2015.0</td>\n",
       "      <td>buddy romantic comedy</td>\n",
       "      <td>$23 million</td>\n",
       "      <td>$79.8 million</td>\n",
       "      <td>23.0</td>\n",
       "    </tr>\n",
       "  </tbody>\n",
       "</table>\n",
       "</div>"
      ],
      "text/plain": [
       "   Month   Day                               Title  \\\n",
       "0      1   2.0  The Woman in Black: Angel of Death   \n",
       "1      1   9.0                             Taken 3   \n",
       "2      1  16.0                            Blackhat   \n",
       "3      1  16.0                         Spare Parts   \n",
       "4      1  16.0                  The Wedding Ringer   \n",
       "\n",
       "                                       Link  \\\n",
       "0  /wiki/The_Woman_in_Black:_Angel_of_Death   \n",
       "1                             /wiki/Taken_3   \n",
       "2                     /wiki/Blackhat_(film)   \n",
       "3             /wiki/Spare_Parts_(2015_film)   \n",
       "4                  /wiki/The_Wedding_Ringer   \n",
       "\n",
       "                                                List    Year  \\\n",
       "0  ['supernatural horror', '$15 million[6]', '$48...  2015.0   \n",
       "1  ['-language French action-thriller', '$48 mill...  2015.0   \n",
       "2  [' action thriller', '$70 million[3]', '$19.7 ...  2015.0   \n",
       "3      ['drama', '$4 million[2]', '$3.6 million[3]']  2015.0   \n",
       "4  [' buddy romantic comedy', '$23 million[4]', '...  2015.0   \n",
       "\n",
       "                             Genres      Budget2      Box office  Budget  \n",
       "0               supernatural horror  $15 million   $48.9 million    15.0  \n",
       "1  -language French action-thriller  $48 million  $326.4 million    48.0  \n",
       "2                   action thriller  $70 million   $19.7 million    70.0  \n",
       "3                             drama   $4 million    $3.6 million     4.0  \n",
       "4             buddy romantic comedy  $23 million   $79.8 million    23.0  "
      ]
     },
     "execution_count": 19,
     "metadata": {},
     "output_type": "execute_result"
    }
   ],
   "source": [
    "df.head()"
   ]
  },
  {
   "cell_type": "code",
   "execution_count": 20,
   "metadata": {},
   "outputs": [
    {
     "data": {
      "text/plain": [
       "0"
      ]
     },
     "execution_count": 20,
     "metadata": {},
     "output_type": "execute_result"
    }
   ],
   "source": [
    "df['Budget'].isna().sum()"
   ]
  },
  {
   "cell_type": "markdown",
   "metadata": {},
   "source": [
    "### Cleaning Box office col"
   ]
  },
  {
   "cell_type": "code",
   "execution_count": 21,
   "metadata": {},
   "outputs": [
    {
     "data": {
      "text/plain": [
       "118"
      ]
     },
     "execution_count": 21,
     "metadata": {},
     "output_type": "execute_result"
    }
   ],
   "source": [
    "mask = (df['Box office'].str.find('million') == -1)\n",
    "mask.sum()"
   ]
  },
  {
   "cell_type": "code",
   "execution_count": 22,
   "metadata": {},
   "outputs": [
    {
     "data": {
      "text/plain": [
       "6                                 $400,000\n",
       "8                                 $408,918\n",
       "18                                $139,436\n",
       "21                                $145,427\n",
       "39    $18,687,388 (Theatrical Performance)\n",
       "44                          $1.515 billion\n",
       "52                                $108,808\n",
       "53                                $478,595\n",
       "57                          $1.403 billion\n",
       "58                                $774,780\n",
       "68                                $933,847\n",
       "73                          $1.671 billion\n",
       "81                          $1.159 billion\n",
       "84                                $935,900\n",
       "85       $100,044 (Theatrical Performance)\n",
       "Name: Box office, dtype: object"
      ]
     },
     "execution_count": 22,
     "metadata": {},
     "output_type": "execute_result"
    }
   ],
   "source": [
    "df.loc[mask, 'Box office'][0:15]"
   ]
  },
  {
   "cell_type": "code",
   "execution_count": 23,
   "metadata": {},
   "outputs": [
    {
     "data": {
      "text/plain": [
       "1002"
      ]
     },
     "execution_count": 23,
     "metadata": {},
     "output_type": "execute_result"
    }
   ],
   "source": [
    "mask2 = (df['Box office'].str.find('billion') == -1)\n",
    "mask2.sum()"
   ]
  },
  {
   "cell_type": "code",
   "execution_count": 24,
   "metadata": {},
   "outputs": [
    {
     "data": {
      "text/plain": [
       "6                                  $400,000\n",
       "8                                  $408,918\n",
       "18                                 $139,436\n",
       "21                                 $145,427\n",
       "39     $18,687,388 (Theatrical Performance)\n",
       "52                                 $108,808\n",
       "53                                 $478,595\n",
       "58                                 $774,780\n",
       "68                                 $933,847\n",
       "84                                 $935,900\n",
       "85        $100,044 (Theatrical Performance)\n",
       "106                                $483,938\n",
       "118                                $422,746\n",
       "124                                 $90,777\n",
       "136                                 $70,958\n",
       "Name: Box office, dtype: object"
      ]
     },
     "execution_count": 24,
     "metadata": {},
     "output_type": "execute_result"
    }
   ],
   "source": [
    "df.loc[(mask & mask2), 'Box office'][0:15]"
   ]
  },
  {
   "cell_type": "code",
   "execution_count": 25,
   "metadata": {},
   "outputs": [],
   "source": [
    "df.rename(columns={'Box office':'Box office2'}, inplace=True)"
   ]
  },
  {
   "cell_type": "code",
   "execution_count": 26,
   "metadata": {},
   "outputs": [],
   "source": [
    "pattern = r'\\$([\\d,\\.]+)'\n",
    "\n",
    "df.loc[(mask & mask2),'Box office'] = df.loc[(mask & mask2),\n",
    "                          'Box office2'].str.findall(pattern).str.get(0).str.replace(',', '').astype('int32') / 1000000"
   ]
  },
  {
   "cell_type": "code",
   "execution_count": 27,
   "metadata": {},
   "outputs": [
    {
     "data": {
      "text/plain": [
       "6      0.400000\n",
       "8      0.408918\n",
       "18     0.139436\n",
       "21     0.145427\n",
       "39    18.687388\n",
       "52     0.108808\n",
       "53     0.478595\n",
       "58     0.774780\n",
       "68     0.933847\n",
       "84     0.935900\n",
       "Name: Box office, dtype: float64"
      ]
     },
     "execution_count": 27,
     "metadata": {},
     "output_type": "execute_result"
    }
   ],
   "source": [
    "df.loc[(mask & mask2),'Box office'][:10]"
   ]
  },
  {
   "cell_type": "code",
   "execution_count": 28,
   "metadata": {},
   "outputs": [],
   "source": [
    "df['Box office'] = df['Box office'] / 1000000"
   ]
  },
  {
   "cell_type": "code",
   "execution_count": 29,
   "metadata": {},
   "outputs": [],
   "source": [
    "mask = (df['Box office2'].str.find('million') != -1)\n",
    "df.loc[mask,'Box office'] = df.loc[mask,\n",
    "                          'Box office2'].str.findall(pattern).str.get(0).astype(float)"
   ]
  },
  {
   "cell_type": "code",
   "execution_count": 30,
   "metadata": {},
   "outputs": [
    {
     "data": {
      "text/plain": [
       "30"
      ]
     },
     "execution_count": 30,
     "metadata": {},
     "output_type": "execute_result"
    }
   ],
   "source": [
    "mask = (df['Box office2'].str.find('billion') != -1)\n",
    "mask.sum()"
   ]
  },
  {
   "cell_type": "code",
   "execution_count": 31,
   "metadata": {},
   "outputs": [
    {
     "data": {
      "text/plain": [
       "30"
      ]
     },
     "execution_count": 31,
     "metadata": {},
     "output_type": "execute_result"
    }
   ],
   "source": [
    "df['Box office'].isna().sum()"
   ]
  },
  {
   "cell_type": "code",
   "execution_count": 34,
   "metadata": {},
   "outputs": [],
   "source": [
    "df.loc[mask, 'Box office'] = df.loc[mask, 'Box office2'].str.findall(pattern).str.get(0).astype(float) * 1000"
   ]
  },
  {
   "cell_type": "code",
   "execution_count": 35,
   "metadata": {},
   "outputs": [
    {
     "name": "stdout",
     "output_type": "stream",
     "text": [
      "<class 'pandas.core.frame.DataFrame'>\n",
      "RangeIndex: 1032 entries, 0 to 1031\n",
      "Data columns (total 11 columns):\n",
      " #   Column       Non-Null Count  Dtype  \n",
      "---  ------       --------------  -----  \n",
      " 0   Month        1032 non-null   int64  \n",
      " 1   Day          1032 non-null   float64\n",
      " 2   Title        1032 non-null   object \n",
      " 3   Link         1032 non-null   object \n",
      " 4   List         1032 non-null   object \n",
      " 5   Year         1032 non-null   float64\n",
      " 6   Genres       1032 non-null   object \n",
      " 7   Budget2      1032 non-null   object \n",
      " 8   Box office2  1032 non-null   object \n",
      " 9   Budget       1032 non-null   float64\n",
      " 10  Box office   1032 non-null   float64\n",
      "dtypes: float64(4), int64(1), object(6)\n",
      "memory usage: 88.8+ KB\n"
     ]
    }
   ],
   "source": [
    "df.info()"
   ]
  },
  {
   "cell_type": "markdown",
   "metadata": {},
   "source": [
    "### Cleaning Genres"
   ]
  },
  {
   "cell_type": "code",
   "execution_count": 43,
   "metadata": {},
   "outputs": [],
   "source": [
    "df['Genres'] = df['Genres'].str.replace('-', ' ').str.strip().str.split(' ')"
   ]
  },
  {
   "cell_type": "code",
   "execution_count": 58,
   "metadata": {},
   "outputs": [
    {
     "data": {
      "text/plain": [
       "Genres\n",
       "2     432\n",
       "3     249\n",
       "1     187\n",
       "4     108\n",
       "5      31\n",
       "6       6\n",
       "15      3\n",
       "11      2\n",
       "13      2\n",
       "16      2\n",
       "7       2\n",
       "25      1\n",
       "10      1\n",
       "22      1\n",
       "23      1\n",
       "12      1\n",
       "21      1\n",
       "14      1\n",
       "34      1\n",
       "Name: count, dtype: int64"
      ]
     },
     "execution_count": 58,
     "metadata": {},
     "output_type": "execute_result"
    }
   ],
   "source": [
    "df['Genres'].apply(len).value_counts()"
   ]
  },
  {
   "cell_type": "code",
   "execution_count": 60,
   "metadata": {},
   "outputs": [
    {
     "data": {
      "text/plain": [
       "156     [comedy, film, directed, by, Jason, Moore,, wr...\n",
       "164     [adult, stop, motion, animated, psychological,...\n",
       "193     [dystopian, science, fiction, action, film, di...\n",
       "234     [fantasy, adventure, film, directed, and, co, ...\n",
       "377     [action, crime, thriller, film, written, and, ...\n",
       "394     [/, American, production, jukebox, musical, ro...\n",
       "412            [adult, puppet, buddy, cop, crime, comedy]\n",
       "519     [Christian, drama, film, directed, by, Roxann,...\n",
       "521       [surrealist, neo, noir, black, comedy, mystery]\n",
       "529     [comedy, film, directed, by, Zara, Hayes,, sta...\n",
       "532     [family, comedy, drama, film, directed, by, Ga...\n",
       "551         [direct, to, video, prison, action, thriller]\n",
       "562     [comedy, drama, film, written, and, directed, ...\n",
       "598     [drama, film, written, and, directed, by, Noah...\n",
       "665     [spy, comedy, film, directed, by, Peter, Segal...\n",
       "695     [horror, thriller, film, written, and, directe...\n",
       "822     [supernatural, horror, film, directed, by, Sta...\n",
       "831     [American, documentary, film, and, social, cri...\n",
       "849     [horror, film, directed, by, Greg, McLean, and...\n",
       "873     [epic, fantasy, action, adventure, film, direc...\n",
       "933     [horror, film, written, and, directed, by, Vic...\n",
       "949     [comedy, drama, road, film, directed, by, Chan...\n",
       "959     [absurdist, comedy, drama, film, written, and,...\n",
       "1004    [live, action/animated, cartoon, musical, fant...\n",
       "1014     [stop, motion, animated, musical, dark, fantasy]\n",
       "Name: Genres, dtype: object"
      ]
     },
     "execution_count": 60,
     "metadata": {},
     "output_type": "execute_result"
    }
   ],
   "source": [
    "df.loc[(df['Genres'].apply(len) > 5), 'Genres']"
   ]
  },
  {
   "cell_type": "code",
   "execution_count": 64,
   "metadata": {},
   "outputs": [
    {
     "data": {
      "text/plain": [
       "1           [language, French, action, thriller]\n",
       "9          [animated, jukebox, musical, fantasy]\n",
       "12            [found, footage, science, fiction]\n",
       "16    [live, action/animated, adventure, comedy]\n",
       "21            [musical, romantic, comedy, drama]\n",
       "22                  [high, school, teen, comedy]\n",
       "28         [dystopian, science, fiction, action]\n",
       "32               [magic, realism, comedy, drama]\n",
       "36         [dystopian, science, fiction, action]\n",
       "41          [animated, science, fiction, comedy]\n",
       "Name: Genres, dtype: object"
      ]
     },
     "execution_count": 64,
     "metadata": {},
     "output_type": "execute_result"
    }
   ],
   "source": [
    "df.loc[(df['Genres'].apply(len) == 4), 'Genres'][:10]"
   ]
  },
  {
   "cell_type": "code",
   "execution_count": 65,
   "metadata": {},
   "outputs": [],
   "source": [
    "df = df[(df['Genres'].apply(len) < 5)]"
   ]
  },
  {
   "cell_type": "code",
   "execution_count": 67,
   "metadata": {},
   "outputs": [
    {
     "data": {
      "text/html": [
       "<div>\n",
       "<style scoped>\n",
       "    .dataframe tbody tr th:only-of-type {\n",
       "        vertical-align: middle;\n",
       "    }\n",
       "\n",
       "    .dataframe tbody tr th {\n",
       "        vertical-align: top;\n",
       "    }\n",
       "\n",
       "    .dataframe thead th {\n",
       "        text-align: right;\n",
       "    }\n",
       "</style>\n",
       "<table border=\"1\" class=\"dataframe\">\n",
       "  <thead>\n",
       "    <tr style=\"text-align: right;\">\n",
       "      <th></th>\n",
       "      <th></th>\n",
       "      <th>,</th>\n",
       "      <th>American</th>\n",
       "      <th>Belgian</th>\n",
       "      <th>Christian</th>\n",
       "      <th>Christmas</th>\n",
       "      <th>French</th>\n",
       "      <th>Gothic</th>\n",
       "      <th>II</th>\n",
       "      <th>Neo</th>\n",
       "      <th>...</th>\n",
       "      <th>the</th>\n",
       "      <th>thriller</th>\n",
       "      <th>tragicomedy</th>\n",
       "      <th>up</th>\n",
       "      <th>urban</th>\n",
       "      <th>vigilante</th>\n",
       "      <th>war</th>\n",
       "      <th>western</th>\n",
       "      <th>white</th>\n",
       "      <th>zombie</th>\n",
       "    </tr>\n",
       "  </thead>\n",
       "  <tbody>\n",
       "    <tr>\n",
       "      <th>0</th>\n",
       "      <td>0</td>\n",
       "      <td>0</td>\n",
       "      <td>0</td>\n",
       "      <td>0</td>\n",
       "      <td>0</td>\n",
       "      <td>0</td>\n",
       "      <td>0</td>\n",
       "      <td>0</td>\n",
       "      <td>0</td>\n",
       "      <td>0</td>\n",
       "      <td>...</td>\n",
       "      <td>0</td>\n",
       "      <td>0</td>\n",
       "      <td>0</td>\n",
       "      <td>0</td>\n",
       "      <td>0</td>\n",
       "      <td>0</td>\n",
       "      <td>0</td>\n",
       "      <td>0</td>\n",
       "      <td>0</td>\n",
       "      <td>0</td>\n",
       "    </tr>\n",
       "    <tr>\n",
       "      <th>1</th>\n",
       "      <td>0</td>\n",
       "      <td>0</td>\n",
       "      <td>0</td>\n",
       "      <td>0</td>\n",
       "      <td>0</td>\n",
       "      <td>0</td>\n",
       "      <td>1</td>\n",
       "      <td>0</td>\n",
       "      <td>0</td>\n",
       "      <td>0</td>\n",
       "      <td>...</td>\n",
       "      <td>0</td>\n",
       "      <td>1</td>\n",
       "      <td>0</td>\n",
       "      <td>0</td>\n",
       "      <td>0</td>\n",
       "      <td>0</td>\n",
       "      <td>0</td>\n",
       "      <td>0</td>\n",
       "      <td>0</td>\n",
       "      <td>0</td>\n",
       "    </tr>\n",
       "    <tr>\n",
       "      <th>2</th>\n",
       "      <td>0</td>\n",
       "      <td>0</td>\n",
       "      <td>0</td>\n",
       "      <td>0</td>\n",
       "      <td>0</td>\n",
       "      <td>0</td>\n",
       "      <td>0</td>\n",
       "      <td>0</td>\n",
       "      <td>0</td>\n",
       "      <td>0</td>\n",
       "      <td>...</td>\n",
       "      <td>0</td>\n",
       "      <td>1</td>\n",
       "      <td>0</td>\n",
       "      <td>0</td>\n",
       "      <td>0</td>\n",
       "      <td>0</td>\n",
       "      <td>0</td>\n",
       "      <td>0</td>\n",
       "      <td>0</td>\n",
       "      <td>0</td>\n",
       "    </tr>\n",
       "    <tr>\n",
       "      <th>3</th>\n",
       "      <td>0</td>\n",
       "      <td>0</td>\n",
       "      <td>0</td>\n",
       "      <td>0</td>\n",
       "      <td>0</td>\n",
       "      <td>0</td>\n",
       "      <td>0</td>\n",
       "      <td>0</td>\n",
       "      <td>0</td>\n",
       "      <td>0</td>\n",
       "      <td>...</td>\n",
       "      <td>0</td>\n",
       "      <td>0</td>\n",
       "      <td>0</td>\n",
       "      <td>0</td>\n",
       "      <td>0</td>\n",
       "      <td>0</td>\n",
       "      <td>0</td>\n",
       "      <td>0</td>\n",
       "      <td>0</td>\n",
       "      <td>0</td>\n",
       "    </tr>\n",
       "    <tr>\n",
       "      <th>4</th>\n",
       "      <td>0</td>\n",
       "      <td>0</td>\n",
       "      <td>0</td>\n",
       "      <td>0</td>\n",
       "      <td>0</td>\n",
       "      <td>0</td>\n",
       "      <td>0</td>\n",
       "      <td>0</td>\n",
       "      <td>0</td>\n",
       "      <td>0</td>\n",
       "      <td>...</td>\n",
       "      <td>0</td>\n",
       "      <td>0</td>\n",
       "      <td>0</td>\n",
       "      <td>0</td>\n",
       "      <td>0</td>\n",
       "      <td>0</td>\n",
       "      <td>0</td>\n",
       "      <td>0</td>\n",
       "      <td>0</td>\n",
       "      <td>0</td>\n",
       "    </tr>\n",
       "  </tbody>\n",
       "</table>\n",
       "<p>5 rows × 134 columns</p>\n",
       "</div>"
      ],
      "text/plain": [
       "      ,  American  Belgian  Christian  Christmas  French  Gothic  II  Neo  \\\n",
       "0  0  0         0        0          0          0       0       0   0    0   \n",
       "1  0  0         0        0          0          0       1       0   0    0   \n",
       "2  0  0         0        0          0          0       0       0   0    0   \n",
       "3  0  0         0        0          0          0       0       0   0    0   \n",
       "4  0  0         0        0          0          0       0       0   0    0   \n",
       "\n",
       "   ...  the  thriller  tragicomedy  up  urban  vigilante  war  western  white  \\\n",
       "0  ...    0         0            0   0      0          0    0        0      0   \n",
       "1  ...    0         1            0   0      0          0    0        0      0   \n",
       "2  ...    0         1            0   0      0          0    0        0      0   \n",
       "3  ...    0         0            0   0      0          0    0        0      0   \n",
       "4  ...    0         0            0   0      0          0    0        0      0   \n",
       "\n",
       "   zombie  \n",
       "0       0  \n",
       "1       0  \n",
       "2       0  \n",
       "3       0  \n",
       "4       0  \n",
       "\n",
       "[5 rows x 134 columns]"
      ]
     },
     "execution_count": 67,
     "metadata": {},
     "output_type": "execute_result"
    }
   ],
   "source": [
    "from sklearn.preprocessing import MultiLabelBinarizer\n",
    "\n",
    "s = df['Genres']\n",
    "\n",
    "mlb = MultiLabelBinarizer()\n",
    "\n",
    "df_genres = pd.DataFrame(mlb.fit_transform(s),columns=mlb.classes_, index=df.index)\n",
    "df_genres.head()"
   ]
  },
  {
   "cell_type": "code",
   "execution_count": 73,
   "metadata": {},
   "outputs": [
    {
     "data": {
      "text/plain": [
       "24"
      ]
     },
     "execution_count": 73,
     "metadata": {},
     "output_type": "execute_result"
    }
   ],
   "source": [
    "(df_genres.sum(axis=0) > 15).sum()"
   ]
  },
  {
   "cell_type": "code",
   "execution_count": 77,
   "metadata": {},
   "outputs": [
    {
     "data": {
      "text/plain": [
       "                      \n",
       ",                    ,\n",
       "American      American\n",
       "Belgian        Belgian\n",
       "Christian    Christian\n",
       "dtype: object"
      ]
     },
     "execution_count": 77,
     "metadata": {},
     "output_type": "execute_result"
    }
   ],
   "source": [
    "col_genres = df_genres.columns.to_series()\n",
    "col_genres.head()"
   ]
  },
  {
   "cell_type": "code",
   "execution_count": 83,
   "metadata": {},
   "outputs": [],
   "source": [
    "col_to_keep = col_genres[(df_genres.sum(axis=0) > 10)].index.to_list()"
   ]
  },
  {
   "cell_type": "code",
   "execution_count": 84,
   "metadata": {},
   "outputs": [
    {
     "data": {
      "text/html": [
       "<div>\n",
       "<style scoped>\n",
       "    .dataframe tbody tr th:only-of-type {\n",
       "        vertical-align: middle;\n",
       "    }\n",
       "\n",
       "    .dataframe tbody tr th {\n",
       "        vertical-align: top;\n",
       "    }\n",
       "\n",
       "    .dataframe thead th {\n",
       "        text-align: right;\n",
       "    }\n",
       "</style>\n",
       "<table border=\"1\" class=\"dataframe\">\n",
       "  <thead>\n",
       "    <tr style=\"text-align: right;\">\n",
       "      <th></th>\n",
       "      <th>Christian</th>\n",
       "      <th>Western</th>\n",
       "      <th>action</th>\n",
       "      <th>adventure</th>\n",
       "      <th>animated</th>\n",
       "      <th>biographical</th>\n",
       "      <th>black</th>\n",
       "      <th>buddy</th>\n",
       "      <th>comedy</th>\n",
       "      <th>crime</th>\n",
       "      <th>...</th>\n",
       "      <th>psychological</th>\n",
       "      <th>romantic</th>\n",
       "      <th>science</th>\n",
       "      <th>slasher</th>\n",
       "      <th>sports</th>\n",
       "      <th>spy</th>\n",
       "      <th>superhero</th>\n",
       "      <th>supernatural</th>\n",
       "      <th>thriller</th>\n",
       "      <th>war</th>\n",
       "    </tr>\n",
       "  </thead>\n",
       "  <tbody>\n",
       "    <tr>\n",
       "      <th>0</th>\n",
       "      <td>0</td>\n",
       "      <td>0</td>\n",
       "      <td>0</td>\n",
       "      <td>0</td>\n",
       "      <td>0</td>\n",
       "      <td>0</td>\n",
       "      <td>0</td>\n",
       "      <td>0</td>\n",
       "      <td>0</td>\n",
       "      <td>0</td>\n",
       "      <td>...</td>\n",
       "      <td>0</td>\n",
       "      <td>0</td>\n",
       "      <td>0</td>\n",
       "      <td>0</td>\n",
       "      <td>0</td>\n",
       "      <td>0</td>\n",
       "      <td>0</td>\n",
       "      <td>1</td>\n",
       "      <td>0</td>\n",
       "      <td>0</td>\n",
       "    </tr>\n",
       "    <tr>\n",
       "      <th>1</th>\n",
       "      <td>0</td>\n",
       "      <td>0</td>\n",
       "      <td>1</td>\n",
       "      <td>0</td>\n",
       "      <td>0</td>\n",
       "      <td>0</td>\n",
       "      <td>0</td>\n",
       "      <td>0</td>\n",
       "      <td>0</td>\n",
       "      <td>0</td>\n",
       "      <td>...</td>\n",
       "      <td>0</td>\n",
       "      <td>0</td>\n",
       "      <td>0</td>\n",
       "      <td>0</td>\n",
       "      <td>0</td>\n",
       "      <td>0</td>\n",
       "      <td>0</td>\n",
       "      <td>0</td>\n",
       "      <td>1</td>\n",
       "      <td>0</td>\n",
       "    </tr>\n",
       "    <tr>\n",
       "      <th>2</th>\n",
       "      <td>0</td>\n",
       "      <td>0</td>\n",
       "      <td>1</td>\n",
       "      <td>0</td>\n",
       "      <td>0</td>\n",
       "      <td>0</td>\n",
       "      <td>0</td>\n",
       "      <td>0</td>\n",
       "      <td>0</td>\n",
       "      <td>0</td>\n",
       "      <td>...</td>\n",
       "      <td>0</td>\n",
       "      <td>0</td>\n",
       "      <td>0</td>\n",
       "      <td>0</td>\n",
       "      <td>0</td>\n",
       "      <td>0</td>\n",
       "      <td>0</td>\n",
       "      <td>0</td>\n",
       "      <td>1</td>\n",
       "      <td>0</td>\n",
       "    </tr>\n",
       "    <tr>\n",
       "      <th>3</th>\n",
       "      <td>0</td>\n",
       "      <td>0</td>\n",
       "      <td>0</td>\n",
       "      <td>0</td>\n",
       "      <td>0</td>\n",
       "      <td>0</td>\n",
       "      <td>0</td>\n",
       "      <td>0</td>\n",
       "      <td>0</td>\n",
       "      <td>0</td>\n",
       "      <td>...</td>\n",
       "      <td>0</td>\n",
       "      <td>0</td>\n",
       "      <td>0</td>\n",
       "      <td>0</td>\n",
       "      <td>0</td>\n",
       "      <td>0</td>\n",
       "      <td>0</td>\n",
       "      <td>0</td>\n",
       "      <td>0</td>\n",
       "      <td>0</td>\n",
       "    </tr>\n",
       "    <tr>\n",
       "      <th>4</th>\n",
       "      <td>0</td>\n",
       "      <td>0</td>\n",
       "      <td>0</td>\n",
       "      <td>0</td>\n",
       "      <td>0</td>\n",
       "      <td>0</td>\n",
       "      <td>0</td>\n",
       "      <td>1</td>\n",
       "      <td>1</td>\n",
       "      <td>0</td>\n",
       "      <td>...</td>\n",
       "      <td>0</td>\n",
       "      <td>1</td>\n",
       "      <td>0</td>\n",
       "      <td>0</td>\n",
       "      <td>0</td>\n",
       "      <td>0</td>\n",
       "      <td>0</td>\n",
       "      <td>0</td>\n",
       "      <td>0</td>\n",
       "      <td>0</td>\n",
       "    </tr>\n",
       "  </tbody>\n",
       "</table>\n",
       "<p>5 rows × 31 columns</p>\n",
       "</div>"
      ],
      "text/plain": [
       "   Christian  Western  action  adventure  animated  biographical  black  \\\n",
       "0          0        0       0          0         0             0      0   \n",
       "1          0        0       1          0         0             0      0   \n",
       "2          0        0       1          0         0             0      0   \n",
       "3          0        0       0          0         0             0      0   \n",
       "4          0        0       0          0         0             0      0   \n",
       "\n",
       "   buddy  comedy  crime  ...  psychological  romantic  science  slasher  \\\n",
       "0      0       0      0  ...              0         0        0        0   \n",
       "1      0       0      0  ...              0         0        0        0   \n",
       "2      0       0      0  ...              0         0        0        0   \n",
       "3      0       0      0  ...              0         0        0        0   \n",
       "4      1       1      0  ...              0         1        0        0   \n",
       "\n",
       "   sports  spy  superhero  supernatural  thriller  war  \n",
       "0       0    0          0             1         0    0  \n",
       "1       0    0          0             0         1    0  \n",
       "2       0    0          0             0         1    0  \n",
       "3       0    0          0             0         0    0  \n",
       "4       0    0          0             0         0    0  \n",
       "\n",
       "[5 rows x 31 columns]"
      ]
     },
     "execution_count": 84,
     "metadata": {},
     "output_type": "execute_result"
    }
   ],
   "source": [
    "df_genres = df_genres[col_to_keep]\n",
    "df_genres.head()"
   ]
  },
  {
   "cell_type": "code",
   "execution_count": 86,
   "metadata": {},
   "outputs": [
    {
     "data": {
      "text/html": [
       "<div>\n",
       "<style scoped>\n",
       "    .dataframe tbody tr th:only-of-type {\n",
       "        vertical-align: middle;\n",
       "    }\n",
       "\n",
       "    .dataframe tbody tr th {\n",
       "        vertical-align: top;\n",
       "    }\n",
       "\n",
       "    .dataframe thead th {\n",
       "        text-align: right;\n",
       "    }\n",
       "</style>\n",
       "<table border=\"1\" class=\"dataframe\">\n",
       "  <thead>\n",
       "    <tr style=\"text-align: right;\">\n",
       "      <th></th>\n",
       "      <th>Month</th>\n",
       "      <th>Day</th>\n",
       "      <th>Title</th>\n",
       "      <th>Link</th>\n",
       "      <th>List</th>\n",
       "      <th>Year</th>\n",
       "      <th>Genres</th>\n",
       "      <th>Budget2</th>\n",
       "      <th>Box office2</th>\n",
       "      <th>Budget</th>\n",
       "      <th>...</th>\n",
       "      <th>psychological</th>\n",
       "      <th>romantic</th>\n",
       "      <th>science</th>\n",
       "      <th>slasher</th>\n",
       "      <th>sports</th>\n",
       "      <th>spy</th>\n",
       "      <th>superhero</th>\n",
       "      <th>supernatural</th>\n",
       "      <th>thriller</th>\n",
       "      <th>war</th>\n",
       "    </tr>\n",
       "  </thead>\n",
       "  <tbody>\n",
       "    <tr>\n",
       "      <th>0</th>\n",
       "      <td>1</td>\n",
       "      <td>2.0</td>\n",
       "      <td>The Woman in Black: Angel of Death</td>\n",
       "      <td>/wiki/The_Woman_in_Black:_Angel_of_Death</td>\n",
       "      <td>['supernatural horror', '$15 million[6]', '$48...</td>\n",
       "      <td>2015.0</td>\n",
       "      <td>[supernatural, horror]</td>\n",
       "      <td>$15 million</td>\n",
       "      <td>$48.9 million</td>\n",
       "      <td>15.0</td>\n",
       "      <td>...</td>\n",
       "      <td>0</td>\n",
       "      <td>0</td>\n",
       "      <td>0</td>\n",
       "      <td>0</td>\n",
       "      <td>0</td>\n",
       "      <td>0</td>\n",
       "      <td>0</td>\n",
       "      <td>1</td>\n",
       "      <td>0</td>\n",
       "      <td>0</td>\n",
       "    </tr>\n",
       "    <tr>\n",
       "      <th>1</th>\n",
       "      <td>1</td>\n",
       "      <td>9.0</td>\n",
       "      <td>Taken 3</td>\n",
       "      <td>/wiki/Taken_3</td>\n",
       "      <td>['-language French action-thriller', '$48 mill...</td>\n",
       "      <td>2015.0</td>\n",
       "      <td>[language, French, action, thriller]</td>\n",
       "      <td>$48 million</td>\n",
       "      <td>$326.4 million</td>\n",
       "      <td>48.0</td>\n",
       "      <td>...</td>\n",
       "      <td>0</td>\n",
       "      <td>0</td>\n",
       "      <td>0</td>\n",
       "      <td>0</td>\n",
       "      <td>0</td>\n",
       "      <td>0</td>\n",
       "      <td>0</td>\n",
       "      <td>0</td>\n",
       "      <td>1</td>\n",
       "      <td>0</td>\n",
       "    </tr>\n",
       "    <tr>\n",
       "      <th>2</th>\n",
       "      <td>1</td>\n",
       "      <td>16.0</td>\n",
       "      <td>Blackhat</td>\n",
       "      <td>/wiki/Blackhat_(film)</td>\n",
       "      <td>[' action thriller', '$70 million[3]', '$19.7 ...</td>\n",
       "      <td>2015.0</td>\n",
       "      <td>[action, thriller]</td>\n",
       "      <td>$70 million</td>\n",
       "      <td>$19.7 million</td>\n",
       "      <td>70.0</td>\n",
       "      <td>...</td>\n",
       "      <td>0</td>\n",
       "      <td>0</td>\n",
       "      <td>0</td>\n",
       "      <td>0</td>\n",
       "      <td>0</td>\n",
       "      <td>0</td>\n",
       "      <td>0</td>\n",
       "      <td>0</td>\n",
       "      <td>1</td>\n",
       "      <td>0</td>\n",
       "    </tr>\n",
       "    <tr>\n",
       "      <th>3</th>\n",
       "      <td>1</td>\n",
       "      <td>16.0</td>\n",
       "      <td>Spare Parts</td>\n",
       "      <td>/wiki/Spare_Parts_(2015_film)</td>\n",
       "      <td>['drama', '$4 million[2]', '$3.6 million[3]']</td>\n",
       "      <td>2015.0</td>\n",
       "      <td>[drama]</td>\n",
       "      <td>$4 million</td>\n",
       "      <td>$3.6 million</td>\n",
       "      <td>4.0</td>\n",
       "      <td>...</td>\n",
       "      <td>0</td>\n",
       "      <td>0</td>\n",
       "      <td>0</td>\n",
       "      <td>0</td>\n",
       "      <td>0</td>\n",
       "      <td>0</td>\n",
       "      <td>0</td>\n",
       "      <td>0</td>\n",
       "      <td>0</td>\n",
       "      <td>0</td>\n",
       "    </tr>\n",
       "    <tr>\n",
       "      <th>4</th>\n",
       "      <td>1</td>\n",
       "      <td>16.0</td>\n",
       "      <td>The Wedding Ringer</td>\n",
       "      <td>/wiki/The_Wedding_Ringer</td>\n",
       "      <td>[' buddy romantic comedy', '$23 million[4]', '...</td>\n",
       "      <td>2015.0</td>\n",
       "      <td>[buddy, romantic, comedy]</td>\n",
       "      <td>$23 million</td>\n",
       "      <td>$79.8 million</td>\n",
       "      <td>23.0</td>\n",
       "      <td>...</td>\n",
       "      <td>0</td>\n",
       "      <td>1</td>\n",
       "      <td>0</td>\n",
       "      <td>0</td>\n",
       "      <td>0</td>\n",
       "      <td>0</td>\n",
       "      <td>0</td>\n",
       "      <td>0</td>\n",
       "      <td>0</td>\n",
       "      <td>0</td>\n",
       "    </tr>\n",
       "  </tbody>\n",
       "</table>\n",
       "<p>5 rows × 42 columns</p>\n",
       "</div>"
      ],
      "text/plain": [
       "   Month   Day                               Title  \\\n",
       "0      1   2.0  The Woman in Black: Angel of Death   \n",
       "1      1   9.0                             Taken 3   \n",
       "2      1  16.0                            Blackhat   \n",
       "3      1  16.0                         Spare Parts   \n",
       "4      1  16.0                  The Wedding Ringer   \n",
       "\n",
       "                                       Link  \\\n",
       "0  /wiki/The_Woman_in_Black:_Angel_of_Death   \n",
       "1                             /wiki/Taken_3   \n",
       "2                     /wiki/Blackhat_(film)   \n",
       "3             /wiki/Spare_Parts_(2015_film)   \n",
       "4                  /wiki/The_Wedding_Ringer   \n",
       "\n",
       "                                                List    Year  \\\n",
       "0  ['supernatural horror', '$15 million[6]', '$48...  2015.0   \n",
       "1  ['-language French action-thriller', '$48 mill...  2015.0   \n",
       "2  [' action thriller', '$70 million[3]', '$19.7 ...  2015.0   \n",
       "3      ['drama', '$4 million[2]', '$3.6 million[3]']  2015.0   \n",
       "4  [' buddy romantic comedy', '$23 million[4]', '...  2015.0   \n",
       "\n",
       "                                 Genres      Budget2     Box office2  Budget  \\\n",
       "0                [supernatural, horror]  $15 million   $48.9 million    15.0   \n",
       "1  [language, French, action, thriller]  $48 million  $326.4 million    48.0   \n",
       "2                    [action, thriller]  $70 million   $19.7 million    70.0   \n",
       "3                               [drama]   $4 million    $3.6 million     4.0   \n",
       "4             [buddy, romantic, comedy]  $23 million   $79.8 million    23.0   \n",
       "\n",
       "   ...  psychological  romantic  science  slasher  sports  spy  superhero  \\\n",
       "0  ...              0         0        0        0       0    0          0   \n",
       "1  ...              0         0        0        0       0    0          0   \n",
       "2  ...              0         0        0        0       0    0          0   \n",
       "3  ...              0         0        0        0       0    0          0   \n",
       "4  ...              0         1        0        0       0    0          0   \n",
       "\n",
       "   supernatural  thriller  war  \n",
       "0             1         0    0  \n",
       "1             0         1    0  \n",
       "2             0         1    0  \n",
       "3             0         0    0  \n",
       "4             0         0    0  \n",
       "\n",
       "[5 rows x 42 columns]"
      ]
     },
     "execution_count": 86,
     "metadata": {},
     "output_type": "execute_result"
    }
   ],
   "source": [
    "df = pd.concat([df, df_genres], axis=1)\n",
    "df.head()"
   ]
  },
  {
   "cell_type": "markdown",
   "metadata": {},
   "source": [
    "### Ordinate the dataframe"
   ]
  },
  {
   "cell_type": "code",
   "execution_count": 87,
   "metadata": {},
   "outputs": [
    {
     "data": {
      "text/html": [
       "<div>\n",
       "<style scoped>\n",
       "    .dataframe tbody tr th:only-of-type {\n",
       "        vertical-align: middle;\n",
       "    }\n",
       "\n",
       "    .dataframe tbody tr th {\n",
       "        vertical-align: top;\n",
       "    }\n",
       "\n",
       "    .dataframe thead th {\n",
       "        text-align: right;\n",
       "    }\n",
       "</style>\n",
       "<table border=\"1\" class=\"dataframe\">\n",
       "  <thead>\n",
       "    <tr style=\"text-align: right;\">\n",
       "      <th></th>\n",
       "      <th>Box office</th>\n",
       "      <th>Budget</th>\n",
       "      <th>Profit</th>\n",
       "      <th>Profit perc</th>\n",
       "    </tr>\n",
       "  </thead>\n",
       "  <tbody>\n",
       "    <tr>\n",
       "      <th>0</th>\n",
       "      <td>48.9</td>\n",
       "      <td>15.0</td>\n",
       "      <td>33.9</td>\n",
       "      <td>226.000000</td>\n",
       "    </tr>\n",
       "    <tr>\n",
       "      <th>1</th>\n",
       "      <td>326.4</td>\n",
       "      <td>48.0</td>\n",
       "      <td>278.4</td>\n",
       "      <td>580.000000</td>\n",
       "    </tr>\n",
       "    <tr>\n",
       "      <th>2</th>\n",
       "      <td>19.7</td>\n",
       "      <td>70.0</td>\n",
       "      <td>-50.3</td>\n",
       "      <td>-71.857143</td>\n",
       "    </tr>\n",
       "    <tr>\n",
       "      <th>3</th>\n",
       "      <td>3.6</td>\n",
       "      <td>4.0</td>\n",
       "      <td>-0.4</td>\n",
       "      <td>-10.000000</td>\n",
       "    </tr>\n",
       "    <tr>\n",
       "      <th>4</th>\n",
       "      <td>79.8</td>\n",
       "      <td>23.0</td>\n",
       "      <td>56.8</td>\n",
       "      <td>246.956522</td>\n",
       "    </tr>\n",
       "  </tbody>\n",
       "</table>\n",
       "</div>"
      ],
      "text/plain": [
       "   Box office  Budget  Profit  Profit perc\n",
       "0        48.9    15.0    33.9   226.000000\n",
       "1       326.4    48.0   278.4   580.000000\n",
       "2        19.7    70.0   -50.3   -71.857143\n",
       "3         3.6     4.0    -0.4   -10.000000\n",
       "4        79.8    23.0    56.8   246.956522"
      ]
     },
     "execution_count": 87,
     "metadata": {},
     "output_type": "execute_result"
    }
   ],
   "source": [
    "df['Profit'] = df['Box office'] - df['Budget']\n",
    "df['Profit perc'] = df['Profit'] * 100/ df['Budget']\n",
    "df[['Box office', 'Budget', 'Profit', 'Profit perc']][:5]"
   ]
  },
  {
   "cell_type": "code",
   "execution_count": 93,
   "metadata": {},
   "outputs": [],
   "source": [
    "new_col = [\n",
    "    'Title','Budget','Profit','Box office','Profit perc',\n",
    "    'Year','Month','Day'\n",
    "]\n",
    "\n",
    "new_col = new_col + col_to_keep"
   ]
  },
  {
   "cell_type": "code",
   "execution_count": 96,
   "metadata": {},
   "outputs": [],
   "source": [
    "df[new_col[1:]] = df[new_col[1:]].astype('float32')"
   ]
  },
  {
   "cell_type": "code",
   "execution_count": 99,
   "metadata": {},
   "outputs": [
    {
     "name": "stdout",
     "output_type": "stream",
     "text": [
      "<class 'pandas.core.frame.DataFrame'>\n",
      "Index: 976 entries, 0 to 1031\n",
      "Data columns (total 10 columns):\n",
      " #   Column       Non-Null Count  Dtype  \n",
      "---  ------       --------------  -----  \n",
      " 0   Title        976 non-null    object \n",
      " 1   Budget       976 non-null    float32\n",
      " 2   Profit       976 non-null    float32\n",
      " 3   Box office   976 non-null    float32\n",
      " 4   Profit perc  976 non-null    float32\n",
      " 5   Year         976 non-null    float32\n",
      " 6   Month        976 non-null    float32\n",
      " 7   Day          976 non-null    float32\n",
      " 8   Christian    976 non-null    float32\n",
      " 9   Western      976 non-null    float32\n",
      "dtypes: float32(9), object(1)\n",
      "memory usage: 49.6+ KB\n"
     ]
    }
   ],
   "source": [
    "df = df[new_col]\n",
    "df[new_col[:10]].info()"
   ]
  },
  {
   "cell_type": "markdown",
   "metadata": {},
   "source": [
    "## Exploration of Correlation"
   ]
  },
  {
   "cell_type": "code",
   "execution_count": 107,
   "metadata": {},
   "outputs": [],
   "source": [
    "genres = col_to_keep"
   ]
  },
  {
   "cell_type": "code",
   "execution_count": 111,
   "metadata": {},
   "outputs": [
    {
     "data": {
      "text/plain": [
       "superhero        0.381174\n",
       "epic             0.218444\n",
       "fantasy          0.204676\n",
       "fiction          0.166939\n",
       "science          0.162864\n",
       "adventure        0.154471\n",
       "animated         0.151830\n",
       "action           0.148407\n",
       "spy              0.091746\n",
       "musical          0.062906\n",
       "Western          0.016203\n",
       "dystopian        0.003835\n",
       "mystery         -0.000850\n",
       "buddy           -0.006695\n",
       "historical      -0.010917\n",
       "war             -0.016866\n",
       "heist           -0.021955\n",
       "sports          -0.030053\n",
       "neo             -0.030766\n",
       "slasher         -0.064611\n",
       "black           -0.079834\n",
       "crime           -0.080266\n",
       "biographical    -0.088123\n",
       "Christian       -0.088997\n",
       "psychological   -0.092628\n",
       "thriller        -0.103590\n",
       "supernatural    -0.113774\n",
       "comedy          -0.119662\n",
       "romantic        -0.128252\n",
       "horror          -0.192514\n",
       "drama           -0.254776\n",
       "dtype: float64"
      ]
     },
     "execution_count": 111,
     "metadata": {},
     "output_type": "execute_result"
    }
   ],
   "source": [
    "df[genres].corrwith(df['Budget']).sort_values(ascending=False)"
   ]
  }
 ],
 "metadata": {
  "kernelspec": {
   "display_name": "base",
   "language": "python",
   "name": "python3"
  },
  "language_info": {
   "codemirror_mode": {
    "name": "ipython",
    "version": 3
   },
   "file_extension": ".py",
   "mimetype": "text/x-python",
   "name": "python",
   "nbconvert_exporter": "python",
   "pygments_lexer": "ipython3",
   "version": "3.11.5"
  }
 },
 "nbformat": 4,
 "nbformat_minor": 2
}
