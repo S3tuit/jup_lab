{
 "cells": [
  {
   "cell_type": "code",
   "execution_count": 176,
   "metadata": {},
   "outputs": [],
   "source": [
    "import pandas as pd\n",
    "import numpy as np \n",
    "import re"
   ]
  },
  {
   "cell_type": "code",
   "execution_count": 177,
   "metadata": {},
   "outputs": [],
   "source": [
    "df = pd.read_csv(r'movies_profi.csv')"
   ]
  },
  {
   "cell_type": "code",
   "execution_count": 178,
   "metadata": {},
   "outputs": [
    {
     "data": {
      "text/html": [
       "<div>\n",
       "<style scoped>\n",
       "    .dataframe tbody tr th:only-of-type {\n",
       "        vertical-align: middle;\n",
       "    }\n",
       "\n",
       "    .dataframe tbody tr th {\n",
       "        vertical-align: top;\n",
       "    }\n",
       "\n",
       "    .dataframe thead th {\n",
       "        text-align: right;\n",
       "    }\n",
       "</style>\n",
       "<table border=\"1\" class=\"dataframe\">\n",
       "  <thead>\n",
       "    <tr style=\"text-align: right;\">\n",
       "      <th></th>\n",
       "      <th>Month</th>\n",
       "      <th>Day</th>\n",
       "      <th>Title</th>\n",
       "      <th>Link</th>\n",
       "      <th>List</th>\n",
       "      <th>Year</th>\n",
       "      <th>Genres</th>\n",
       "      <th>Budget</th>\n",
       "      <th>Box office</th>\n",
       "    </tr>\n",
       "  </thead>\n",
       "  <tbody>\n",
       "    <tr>\n",
       "      <th>0</th>\n",
       "      <td>1</td>\n",
       "      <td>2.0</td>\n",
       "      <td>The Woman in Black: Angel of Death</td>\n",
       "      <td>/wiki/The_Woman_in_Black:_Angel_of_Death</td>\n",
       "      <td>['supernatural horror', '$15 million[6]', '$48...</td>\n",
       "      <td>2015.0</td>\n",
       "      <td>supernatural horror</td>\n",
       "      <td>$15 million[6]</td>\n",
       "      <td>$48.9 million[1]</td>\n",
       "    </tr>\n",
       "    <tr>\n",
       "      <th>1</th>\n",
       "      <td>1</td>\n",
       "      <td>9.0</td>\n",
       "      <td>Taken 3</td>\n",
       "      <td>/wiki/Taken_3</td>\n",
       "      <td>['-language French action-thriller', '$48 mill...</td>\n",
       "      <td>2015.0</td>\n",
       "      <td>-language French action-thriller</td>\n",
       "      <td>$48 million[2]</td>\n",
       "      <td>$326.4 million[2]</td>\n",
       "    </tr>\n",
       "    <tr>\n",
       "      <th>2</th>\n",
       "      <td>1</td>\n",
       "      <td>16.0</td>\n",
       "      <td>Blackhat</td>\n",
       "      <td>/wiki/Blackhat_(film)</td>\n",
       "      <td>[' action thriller', '$70 million[3]', '$19.7 ...</td>\n",
       "      <td>2015.0</td>\n",
       "      <td>action thriller</td>\n",
       "      <td>$70 million[3]</td>\n",
       "      <td>$19.7 million[3]</td>\n",
       "    </tr>\n",
       "    <tr>\n",
       "      <th>3</th>\n",
       "      <td>1</td>\n",
       "      <td>16.0</td>\n",
       "      <td>Spare Parts</td>\n",
       "      <td>/wiki/Spare_Parts_(2015_film)</td>\n",
       "      <td>['drama', '$4 million[2]', '$3.6 million[3]']</td>\n",
       "      <td>2015.0</td>\n",
       "      <td>drama</td>\n",
       "      <td>$4 million[2]</td>\n",
       "      <td>$3.6 million[3]</td>\n",
       "    </tr>\n",
       "    <tr>\n",
       "      <th>4</th>\n",
       "      <td>1</td>\n",
       "      <td>16.0</td>\n",
       "      <td>The Wedding Ringer</td>\n",
       "      <td>/wiki/The_Wedding_Ringer</td>\n",
       "      <td>[' buddy romantic comedy', '$23 million[4]', '...</td>\n",
       "      <td>2015.0</td>\n",
       "      <td>buddy romantic comedy</td>\n",
       "      <td>$23 million[4]</td>\n",
       "      <td>$79.8 million[4]</td>\n",
       "    </tr>\n",
       "  </tbody>\n",
       "</table>\n",
       "</div>"
      ],
      "text/plain": [
       "   Month   Day                               Title  \\\n",
       "0      1   2.0  The Woman in Black: Angel of Death   \n",
       "1      1   9.0                             Taken 3   \n",
       "2      1  16.0                            Blackhat   \n",
       "3      1  16.0                         Spare Parts   \n",
       "4      1  16.0                  The Wedding Ringer   \n",
       "\n",
       "                                       Link  \\\n",
       "0  /wiki/The_Woman_in_Black:_Angel_of_Death   \n",
       "1                             /wiki/Taken_3   \n",
       "2                     /wiki/Blackhat_(film)   \n",
       "3             /wiki/Spare_Parts_(2015_film)   \n",
       "4                  /wiki/The_Wedding_Ringer   \n",
       "\n",
       "                                                List    Year  \\\n",
       "0  ['supernatural horror', '$15 million[6]', '$48...  2015.0   \n",
       "1  ['-language French action-thriller', '$48 mill...  2015.0   \n",
       "2  [' action thriller', '$70 million[3]', '$19.7 ...  2015.0   \n",
       "3      ['drama', '$4 million[2]', '$3.6 million[3]']  2015.0   \n",
       "4  [' buddy romantic comedy', '$23 million[4]', '...  2015.0   \n",
       "\n",
       "                             Genres          Budget         Box office  \n",
       "0               supernatural horror  $15 million[6]   $48.9 million[1]  \n",
       "1  -language French action-thriller  $48 million[2]  $326.4 million[2]  \n",
       "2                   action thriller  $70 million[3]   $19.7 million[3]  \n",
       "3                             drama   $4 million[2]    $3.6 million[3]  \n",
       "4             buddy romantic comedy  $23 million[4]   $79.8 million[4]  "
      ]
     },
     "execution_count": 178,
     "metadata": {},
     "output_type": "execute_result"
    }
   ],
   "source": [
    "df.head()"
   ]
  },
  {
   "cell_type": "code",
   "execution_count": 179,
   "metadata": {},
   "outputs": [
    {
     "name": "stdout",
     "output_type": "stream",
     "text": [
      "<class 'pandas.core.frame.DataFrame'>\n",
      "RangeIndex: 1032 entries, 0 to 1031\n",
      "Data columns (total 9 columns):\n",
      " #   Column      Non-Null Count  Dtype  \n",
      "---  ------      --------------  -----  \n",
      " 0   Month       1032 non-null   int64  \n",
      " 1   Day         1032 non-null   float64\n",
      " 2   Title       1032 non-null   object \n",
      " 3   Link        1032 non-null   object \n",
      " 4   List        1032 non-null   object \n",
      " 5   Year        1032 non-null   float64\n",
      " 6   Genres      1032 non-null   object \n",
      " 7   Budget      1032 non-null   object \n",
      " 8   Box office  1032 non-null   object \n",
      "dtypes: float64(2), int64(1), object(6)\n",
      "memory usage: 72.7+ KB\n"
     ]
    }
   ],
   "source": [
    "df.info()"
   ]
  },
  {
   "cell_type": "markdown",
   "metadata": {},
   "source": [
    "### Cleaning the Budget col"
   ]
  },
  {
   "cell_type": "code",
   "execution_count": 180,
   "metadata": {},
   "outputs": [
    {
     "data": {
      "text/html": [
       "<div>\n",
       "<style scoped>\n",
       "    .dataframe tbody tr th:only-of-type {\n",
       "        vertical-align: middle;\n",
       "    }\n",
       "\n",
       "    .dataframe tbody tr th {\n",
       "        vertical-align: top;\n",
       "    }\n",
       "\n",
       "    .dataframe thead th {\n",
       "        text-align: right;\n",
       "    }\n",
       "</style>\n",
       "<table border=\"1\" class=\"dataframe\">\n",
       "  <thead>\n",
       "    <tr style=\"text-align: right;\">\n",
       "      <th></th>\n",
       "      <th>Month</th>\n",
       "      <th>Day</th>\n",
       "      <th>Title</th>\n",
       "      <th>Link</th>\n",
       "      <th>List</th>\n",
       "      <th>Year</th>\n",
       "      <th>Genres</th>\n",
       "      <th>Budget</th>\n",
       "      <th>Box office</th>\n",
       "    </tr>\n",
       "  </thead>\n",
       "  <tbody>\n",
       "    <tr>\n",
       "      <th>1027</th>\n",
       "      <td>12</td>\n",
       "      <td>16.0</td>\n",
       "      <td>Avatar: The Way of Water</td>\n",
       "      <td>/wiki/Avatar:_The_Way_of_Water</td>\n",
       "      <td>[' epic science fiction', '$350–460\\xa0million...</td>\n",
       "      <td>2022.0</td>\n",
       "      <td>epic science fiction</td>\n",
       "      <td>$350–460 million</td>\n",
       "      <td>$2.32 billion</td>\n",
       "    </tr>\n",
       "    <tr>\n",
       "      <th>1028</th>\n",
       "      <td>12</td>\n",
       "      <td>21.0</td>\n",
       "      <td>Puss in Boots: The Last Wish</td>\n",
       "      <td>/wiki/Puss_in_Boots:_The_Last_Wish</td>\n",
       "      <td>[' animated adventure comedy', '$90–110 millio...</td>\n",
       "      <td>2022.0</td>\n",
       "      <td>animated adventure comedy</td>\n",
       "      <td>$90–110 million</td>\n",
       "      <td>$484.6 million</td>\n",
       "    </tr>\n",
       "    <tr>\n",
       "      <th>1029</th>\n",
       "      <td>12</td>\n",
       "      <td>23.0</td>\n",
       "      <td>Babylon</td>\n",
       "      <td>/wiki/Babylon_(2022_film)</td>\n",
       "      <td>[' epic period black comedy-drama', '$78–80 mi...</td>\n",
       "      <td>2022.0</td>\n",
       "      <td>epic period black comedy-drama</td>\n",
       "      <td>$78–80 million</td>\n",
       "      <td>$63.4 million</td>\n",
       "    </tr>\n",
       "    <tr>\n",
       "      <th>1030</th>\n",
       "      <td>12</td>\n",
       "      <td>23.0</td>\n",
       "      <td>Whitney Houston: I Wanna Dance with Somebody</td>\n",
       "      <td>/wiki/Whitney_Houston:_I_Wanna_Dance_with_Some...</td>\n",
       "      <td>[' biographical musical drama', '$45 million[1...</td>\n",
       "      <td>2022.0</td>\n",
       "      <td>biographical musical drama</td>\n",
       "      <td>$45 million</td>\n",
       "      <td>$59.8 million</td>\n",
       "    </tr>\n",
       "    <tr>\n",
       "      <th>1031</th>\n",
       "      <td>12</td>\n",
       "      <td>29.0</td>\n",
       "      <td>A Man Called Otto</td>\n",
       "      <td>/wiki/A_Man_Called_Otto</td>\n",
       "      <td>[' comedy-drama', '$50 million', '$113.2 milli...</td>\n",
       "      <td>2022.0</td>\n",
       "      <td>comedy-drama</td>\n",
       "      <td>$50 million</td>\n",
       "      <td>$113.2 million</td>\n",
       "    </tr>\n",
       "  </tbody>\n",
       "</table>\n",
       "</div>"
      ],
      "text/plain": [
       "      Month   Day                                         Title  \\\n",
       "1027     12  16.0                      Avatar: The Way of Water   \n",
       "1028     12  21.0                  Puss in Boots: The Last Wish   \n",
       "1029     12  23.0                                       Babylon   \n",
       "1030     12  23.0  Whitney Houston: I Wanna Dance with Somebody   \n",
       "1031     12  29.0                             A Man Called Otto   \n",
       "\n",
       "                                                   Link  \\\n",
       "1027                     /wiki/Avatar:_The_Way_of_Water   \n",
       "1028                 /wiki/Puss_in_Boots:_The_Last_Wish   \n",
       "1029                          /wiki/Babylon_(2022_film)   \n",
       "1030  /wiki/Whitney_Houston:_I_Wanna_Dance_with_Some...   \n",
       "1031                            /wiki/A_Man_Called_Otto   \n",
       "\n",
       "                                                   List    Year  \\\n",
       "1027  [' epic science fiction', '$350–460\\xa0million...  2022.0   \n",
       "1028  [' animated adventure comedy', '$90–110 millio...  2022.0   \n",
       "1029  [' epic period black comedy-drama', '$78–80 mi...  2022.0   \n",
       "1030  [' biographical musical drama', '$45 million[1...  2022.0   \n",
       "1031  [' comedy-drama', '$50 million', '$113.2 milli...  2022.0   \n",
       "\n",
       "                               Genres            Budget      Box office  \n",
       "1027             epic science fiction  $350–460 million   $2.32 billion  \n",
       "1028        animated adventure comedy   $90–110 million  $484.6 million  \n",
       "1029   epic period black comedy-drama    $78–80 million   $63.4 million  \n",
       "1030       biographical musical drama       $45 million   $59.8 million  \n",
       "1031                     comedy-drama       $50 million  $113.2 million  "
      ]
     },
     "execution_count": 180,
     "metadata": {},
     "output_type": "execute_result"
    }
   ],
   "source": [
    "df['Budget'] = df['Budget'].str.split('[').str.get(0)\n",
    "df['Box office'] = df['Box office'].str.split('[').str.get(0)\n",
    "df.tail()"
   ]
  },
  {
   "cell_type": "code",
   "execution_count": 181,
   "metadata": {},
   "outputs": [],
   "source": [
    "df.rename(columns={'Budget':'Budget2'}, inplace=True)"
   ]
  },
  {
   "cell_type": "code",
   "execution_count": 182,
   "metadata": {},
   "outputs": [],
   "source": [
    "df['Budget2'] = df['Budget2'].str.replace(r'–', '-')"
   ]
  },
  {
   "cell_type": "code",
   "execution_count": 183,
   "metadata": {},
   "outputs": [],
   "source": [
    "mask = df['Budget2'].str.find('-')\n",
    "mask = mask != -1"
   ]
  },
  {
   "cell_type": "code",
   "execution_count": 184,
   "metadata": {},
   "outputs": [
    {
     "data": {
      "text/plain": [
       "False"
      ]
     },
     "execution_count": 184,
     "metadata": {},
     "output_type": "execute_result"
    }
   ],
   "source": [
    "(df.loc[mask, 'Budget2'].str.find('million') == -1).any()"
   ]
  },
  {
   "cell_type": "code",
   "execution_count": 185,
   "metadata": {},
   "outputs": [],
   "source": [
    "def get_mean_budget(x):\n",
    "    pattern = r'\\$?([\\d\\.]*)-\\$?([\\d\\.]*)'\n",
    "    try:\n",
    "        finds = re.findall(pattern, x)[0]\n",
    "        return (float(finds[0]) + float(finds[1])) / 2\n",
    "    except:\n",
    "        pattern = r'\\$?([\\d\\.]*)[\\s\\w]*-[\\s\\$]?([\\d\\.]*)'\n",
    "        finds = re.findall(pattern, x)[0]\n",
    "        return (float(finds[0]) + float(finds[1])) / 2      \n",
    "\n",
    "\n",
    "df['Budget'] = df.loc[mask, 'Budget2'].apply(get_mean_budget)"
   ]
  },
  {
   "cell_type": "code",
   "execution_count": 186,
   "metadata": {},
   "outputs": [],
   "source": [
    "mask = df['Budget'].isna()"
   ]
  },
  {
   "cell_type": "code",
   "execution_count": 187,
   "metadata": {},
   "outputs": [
    {
     "data": {
      "text/plain": [
       "19"
      ]
     },
     "execution_count": 187,
     "metadata": {},
     "output_type": "execute_result"
    }
   ],
   "source": [
    "(df.loc[mask, 'Budget2'].str.find('million') == -1).sum()"
   ]
  },
  {
   "cell_type": "code",
   "execution_count": 188,
   "metadata": {},
   "outputs": [
    {
     "data": {
      "text/plain": [
       "82                 $100,000\n",
       "84                 $100,000\n",
       "200                $900,000\n",
       "343                $500,000\n",
       "356                 $80,000\n",
       "402                $900,000\n",
       "413                $880,000\n",
       "659     $66 thousand (est.)\n",
       "666                $586,443\n",
       "671                £850,000\n",
       "730                $500,000\n",
       "734                $200,000\n",
       "788               <$300,000\n",
       "797                $250,000\n",
       "871                $250,000\n",
       "885                $950,000\n",
       "902                $100,000\n",
       "988                $500,000\n",
       "1003               $250,000\n",
       "Name: Budget2, dtype: object"
      ]
     },
     "execution_count": 188,
     "metadata": {},
     "output_type": "execute_result"
    }
   ],
   "source": [
    "mask2 = (df.loc[mask, 'Budget2'].str.find('million') == -1)\n",
    "df[mask].loc[mask2, 'Budget2']"
   ]
  },
  {
   "cell_type": "code",
   "execution_count": 189,
   "metadata": {},
   "outputs": [],
   "source": [
    "df.loc[659, 'Budget'] = 0.066"
   ]
  },
  {
   "cell_type": "code",
   "execution_count": 190,
   "metadata": {},
   "outputs": [],
   "source": [
    "def thousands_budget(x):\n",
    "    pattern = r'.?\\$(\\d+),'\n",
    "    try:\n",
    "        finds = re.findall(pattern, x)[0]\n",
    "        return float(finds) / 1000\n",
    "    except:\n",
    "        return 0.066\n",
    "    \n",
    "df.loc[(mask & mask2), 'Budget'] = df[mask].loc[mask2, 'Budget2'].apply(thousands_budget)"
   ]
  },
  {
   "cell_type": "code",
   "execution_count": 191,
   "metadata": {},
   "outputs": [
    {
     "data": {
      "text/html": [
       "<div>\n",
       "<style scoped>\n",
       "    .dataframe tbody tr th:only-of-type {\n",
       "        vertical-align: middle;\n",
       "    }\n",
       "\n",
       "    .dataframe tbody tr th {\n",
       "        vertical-align: top;\n",
       "    }\n",
       "\n",
       "    .dataframe thead th {\n",
       "        text-align: right;\n",
       "    }\n",
       "</style>\n",
       "<table border=\"1\" class=\"dataframe\">\n",
       "  <thead>\n",
       "    <tr style=\"text-align: right;\">\n",
       "      <th></th>\n",
       "      <th>Month</th>\n",
       "      <th>Day</th>\n",
       "      <th>Title</th>\n",
       "      <th>Link</th>\n",
       "      <th>List</th>\n",
       "      <th>Year</th>\n",
       "      <th>Genres</th>\n",
       "      <th>Budget2</th>\n",
       "      <th>Box office</th>\n",
       "      <th>Budget</th>\n",
       "    </tr>\n",
       "  </thead>\n",
       "  <tbody>\n",
       "    <tr>\n",
       "      <th>1027</th>\n",
       "      <td>12</td>\n",
       "      <td>16.0</td>\n",
       "      <td>Avatar: The Way of Water</td>\n",
       "      <td>/wiki/Avatar:_The_Way_of_Water</td>\n",
       "      <td>[' epic science fiction', '$350–460\\xa0million...</td>\n",
       "      <td>2022.0</td>\n",
       "      <td>epic science fiction</td>\n",
       "      <td>$350-460 million</td>\n",
       "      <td>$2.32 billion</td>\n",
       "      <td>405.0</td>\n",
       "    </tr>\n",
       "    <tr>\n",
       "      <th>1028</th>\n",
       "      <td>12</td>\n",
       "      <td>21.0</td>\n",
       "      <td>Puss in Boots: The Last Wish</td>\n",
       "      <td>/wiki/Puss_in_Boots:_The_Last_Wish</td>\n",
       "      <td>[' animated adventure comedy', '$90–110 millio...</td>\n",
       "      <td>2022.0</td>\n",
       "      <td>animated adventure comedy</td>\n",
       "      <td>$90-110 million</td>\n",
       "      <td>$484.6 million</td>\n",
       "      <td>100.0</td>\n",
       "    </tr>\n",
       "    <tr>\n",
       "      <th>1029</th>\n",
       "      <td>12</td>\n",
       "      <td>23.0</td>\n",
       "      <td>Babylon</td>\n",
       "      <td>/wiki/Babylon_(2022_film)</td>\n",
       "      <td>[' epic period black comedy-drama', '$78–80 mi...</td>\n",
       "      <td>2022.0</td>\n",
       "      <td>epic period black comedy-drama</td>\n",
       "      <td>$78-80 million</td>\n",
       "      <td>$63.4 million</td>\n",
       "      <td>79.0</td>\n",
       "    </tr>\n",
       "    <tr>\n",
       "      <th>1030</th>\n",
       "      <td>12</td>\n",
       "      <td>23.0</td>\n",
       "      <td>Whitney Houston: I Wanna Dance with Somebody</td>\n",
       "      <td>/wiki/Whitney_Houston:_I_Wanna_Dance_with_Some...</td>\n",
       "      <td>[' biographical musical drama', '$45 million[1...</td>\n",
       "      <td>2022.0</td>\n",
       "      <td>biographical musical drama</td>\n",
       "      <td>$45 million</td>\n",
       "      <td>$59.8 million</td>\n",
       "      <td>NaN</td>\n",
       "    </tr>\n",
       "    <tr>\n",
       "      <th>1031</th>\n",
       "      <td>12</td>\n",
       "      <td>29.0</td>\n",
       "      <td>A Man Called Otto</td>\n",
       "      <td>/wiki/A_Man_Called_Otto</td>\n",
       "      <td>[' comedy-drama', '$50 million', '$113.2 milli...</td>\n",
       "      <td>2022.0</td>\n",
       "      <td>comedy-drama</td>\n",
       "      <td>$50 million</td>\n",
       "      <td>$113.2 million</td>\n",
       "      <td>NaN</td>\n",
       "    </tr>\n",
       "  </tbody>\n",
       "</table>\n",
       "</div>"
      ],
      "text/plain": [
       "      Month   Day                                         Title  \\\n",
       "1027     12  16.0                      Avatar: The Way of Water   \n",
       "1028     12  21.0                  Puss in Boots: The Last Wish   \n",
       "1029     12  23.0                                       Babylon   \n",
       "1030     12  23.0  Whitney Houston: I Wanna Dance with Somebody   \n",
       "1031     12  29.0                             A Man Called Otto   \n",
       "\n",
       "                                                   Link  \\\n",
       "1027                     /wiki/Avatar:_The_Way_of_Water   \n",
       "1028                 /wiki/Puss_in_Boots:_The_Last_Wish   \n",
       "1029                          /wiki/Babylon_(2022_film)   \n",
       "1030  /wiki/Whitney_Houston:_I_Wanna_Dance_with_Some...   \n",
       "1031                            /wiki/A_Man_Called_Otto   \n",
       "\n",
       "                                                   List    Year  \\\n",
       "1027  [' epic science fiction', '$350–460\\xa0million...  2022.0   \n",
       "1028  [' animated adventure comedy', '$90–110 millio...  2022.0   \n",
       "1029  [' epic period black comedy-drama', '$78–80 mi...  2022.0   \n",
       "1030  [' biographical musical drama', '$45 million[1...  2022.0   \n",
       "1031  [' comedy-drama', '$50 million', '$113.2 milli...  2022.0   \n",
       "\n",
       "                               Genres           Budget2      Box office  \\\n",
       "1027             epic science fiction  $350-460 million   $2.32 billion   \n",
       "1028        animated adventure comedy   $90-110 million  $484.6 million   \n",
       "1029   epic period black comedy-drama    $78-80 million   $63.4 million   \n",
       "1030       biographical musical drama       $45 million   $59.8 million   \n",
       "1031                     comedy-drama       $50 million  $113.2 million   \n",
       "\n",
       "      Budget  \n",
       "1027   405.0  \n",
       "1028   100.0  \n",
       "1029    79.0  \n",
       "1030     NaN  \n",
       "1031     NaN  "
      ]
     },
     "execution_count": 191,
     "metadata": {},
     "output_type": "execute_result"
    }
   ],
   "source": [
    "df.tail()"
   ]
  },
  {
   "cell_type": "code",
   "execution_count": 192,
   "metadata": {},
   "outputs": [
    {
     "data": {
      "text/plain": [
       "0    $15 million\n",
       "1    $48 million\n",
       "2    $70 million\n",
       "3     $4 million\n",
       "4    $23 million\n",
       "Name: Budget2, dtype: object"
      ]
     },
     "execution_count": 192,
     "metadata": {},
     "output_type": "execute_result"
    }
   ],
   "source": [
    "mask2 = (df.loc[mask, 'Budget2'].str.find('million') != -1)\n",
    "df[mask].loc[mask2, 'Budget2'][:5]"
   ]
  },
  {
   "cell_type": "code",
   "execution_count": 193,
   "metadata": {},
   "outputs": [],
   "source": [
    "def millions_budget(x):\n",
    "    pattern = r'[\\$€£](\\d+)'\n",
    "    finds = re.findall(pattern, x)\n",
    "    if len(finds) == 0:\n",
    "        print('Error' + x)\n",
    "    else:\n",
    "        return float(finds[0])\n",
    "\n",
    "df.loc[(mask & mask2), 'Budget'] = df[mask].loc[mask2, 'Budget2'].apply(millions_budget)"
   ]
  },
  {
   "cell_type": "code",
   "execution_count": 194,
   "metadata": {},
   "outputs": [
    {
     "data": {
      "text/html": [
       "<div>\n",
       "<style scoped>\n",
       "    .dataframe tbody tr th:only-of-type {\n",
       "        vertical-align: middle;\n",
       "    }\n",
       "\n",
       "    .dataframe tbody tr th {\n",
       "        vertical-align: top;\n",
       "    }\n",
       "\n",
       "    .dataframe thead th {\n",
       "        text-align: right;\n",
       "    }\n",
       "</style>\n",
       "<table border=\"1\" class=\"dataframe\">\n",
       "  <thead>\n",
       "    <tr style=\"text-align: right;\">\n",
       "      <th></th>\n",
       "      <th>Month</th>\n",
       "      <th>Day</th>\n",
       "      <th>Title</th>\n",
       "      <th>Link</th>\n",
       "      <th>List</th>\n",
       "      <th>Year</th>\n",
       "      <th>Genres</th>\n",
       "      <th>Budget2</th>\n",
       "      <th>Box office</th>\n",
       "      <th>Budget</th>\n",
       "    </tr>\n",
       "  </thead>\n",
       "  <tbody>\n",
       "    <tr>\n",
       "      <th>0</th>\n",
       "      <td>1</td>\n",
       "      <td>2.0</td>\n",
       "      <td>The Woman in Black: Angel of Death</td>\n",
       "      <td>/wiki/The_Woman_in_Black:_Angel_of_Death</td>\n",
       "      <td>['supernatural horror', '$15 million[6]', '$48...</td>\n",
       "      <td>2015.0</td>\n",
       "      <td>supernatural horror</td>\n",
       "      <td>$15 million</td>\n",
       "      <td>$48.9 million</td>\n",
       "      <td>15.0</td>\n",
       "    </tr>\n",
       "    <tr>\n",
       "      <th>1</th>\n",
       "      <td>1</td>\n",
       "      <td>9.0</td>\n",
       "      <td>Taken 3</td>\n",
       "      <td>/wiki/Taken_3</td>\n",
       "      <td>['-language French action-thriller', '$48 mill...</td>\n",
       "      <td>2015.0</td>\n",
       "      <td>-language French action-thriller</td>\n",
       "      <td>$48 million</td>\n",
       "      <td>$326.4 million</td>\n",
       "      <td>48.0</td>\n",
       "    </tr>\n",
       "    <tr>\n",
       "      <th>2</th>\n",
       "      <td>1</td>\n",
       "      <td>16.0</td>\n",
       "      <td>Blackhat</td>\n",
       "      <td>/wiki/Blackhat_(film)</td>\n",
       "      <td>[' action thriller', '$70 million[3]', '$19.7 ...</td>\n",
       "      <td>2015.0</td>\n",
       "      <td>action thriller</td>\n",
       "      <td>$70 million</td>\n",
       "      <td>$19.7 million</td>\n",
       "      <td>70.0</td>\n",
       "    </tr>\n",
       "    <tr>\n",
       "      <th>3</th>\n",
       "      <td>1</td>\n",
       "      <td>16.0</td>\n",
       "      <td>Spare Parts</td>\n",
       "      <td>/wiki/Spare_Parts_(2015_film)</td>\n",
       "      <td>['drama', '$4 million[2]', '$3.6 million[3]']</td>\n",
       "      <td>2015.0</td>\n",
       "      <td>drama</td>\n",
       "      <td>$4 million</td>\n",
       "      <td>$3.6 million</td>\n",
       "      <td>4.0</td>\n",
       "    </tr>\n",
       "    <tr>\n",
       "      <th>4</th>\n",
       "      <td>1</td>\n",
       "      <td>16.0</td>\n",
       "      <td>The Wedding Ringer</td>\n",
       "      <td>/wiki/The_Wedding_Ringer</td>\n",
       "      <td>[' buddy romantic comedy', '$23 million[4]', '...</td>\n",
       "      <td>2015.0</td>\n",
       "      <td>buddy romantic comedy</td>\n",
       "      <td>$23 million</td>\n",
       "      <td>$79.8 million</td>\n",
       "      <td>23.0</td>\n",
       "    </tr>\n",
       "  </tbody>\n",
       "</table>\n",
       "</div>"
      ],
      "text/plain": [
       "   Month   Day                               Title  \\\n",
       "0      1   2.0  The Woman in Black: Angel of Death   \n",
       "1      1   9.0                             Taken 3   \n",
       "2      1  16.0                            Blackhat   \n",
       "3      1  16.0                         Spare Parts   \n",
       "4      1  16.0                  The Wedding Ringer   \n",
       "\n",
       "                                       Link  \\\n",
       "0  /wiki/The_Woman_in_Black:_Angel_of_Death   \n",
       "1                             /wiki/Taken_3   \n",
       "2                     /wiki/Blackhat_(film)   \n",
       "3             /wiki/Spare_Parts_(2015_film)   \n",
       "4                  /wiki/The_Wedding_Ringer   \n",
       "\n",
       "                                                List    Year  \\\n",
       "0  ['supernatural horror', '$15 million[6]', '$48...  2015.0   \n",
       "1  ['-language French action-thriller', '$48 mill...  2015.0   \n",
       "2  [' action thriller', '$70 million[3]', '$19.7 ...  2015.0   \n",
       "3      ['drama', '$4 million[2]', '$3.6 million[3]']  2015.0   \n",
       "4  [' buddy romantic comedy', '$23 million[4]', '...  2015.0   \n",
       "\n",
       "                             Genres      Budget2      Box office  Budget  \n",
       "0               supernatural horror  $15 million   $48.9 million    15.0  \n",
       "1  -language French action-thriller  $48 million  $326.4 million    48.0  \n",
       "2                   action thriller  $70 million   $19.7 million    70.0  \n",
       "3                             drama   $4 million    $3.6 million     4.0  \n",
       "4             buddy romantic comedy  $23 million   $79.8 million    23.0  "
      ]
     },
     "execution_count": 194,
     "metadata": {},
     "output_type": "execute_result"
    }
   ],
   "source": [
    "df.head()"
   ]
  },
  {
   "cell_type": "code",
   "execution_count": 196,
   "metadata": {},
   "outputs": [
    {
     "data": {
      "text/plain": [
       "0"
      ]
     },
     "execution_count": 196,
     "metadata": {},
     "output_type": "execute_result"
    }
   ],
   "source": [
    "df['Budget'].isna().sum()"
   ]
  },
  {
   "cell_type": "code",
   "execution_count": null,
   "metadata": {},
   "outputs": [],
   "source": []
  }
 ],
 "metadata": {
  "kernelspec": {
   "display_name": "base",
   "language": "python",
   "name": "python3"
  },
  "language_info": {
   "codemirror_mode": {
    "name": "ipython",
    "version": 3
   },
   "file_extension": ".py",
   "mimetype": "text/x-python",
   "name": "python",
   "nbconvert_exporter": "python",
   "pygments_lexer": "ipython3",
   "version": "3.11.5"
  }
 },
 "nbformat": 4,
 "nbformat_minor": 2
}
