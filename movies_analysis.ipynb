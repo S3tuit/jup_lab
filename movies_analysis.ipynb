{
 "cells": [
  {
   "cell_type": "code",
   "execution_count": 138,
   "metadata": {},
   "outputs": [],
   "source": [
    "import pandas as pd\n",
    "import numpy as np \n",
    "import seaborn as sns\n",
    "import matplotlib.pyplot as plt"
   ]
  },
  {
   "cell_type": "code",
   "execution_count": 139,
   "metadata": {},
   "outputs": [],
   "source": [
    "df = pd.read_csv(r'C:\\Users\\matte\\OneDrive\\Desktop\\GitHub\\jup_lab\\movies_2004_2023_cleaned.csv')"
   ]
  },
  {
   "cell_type": "markdown",
   "metadata": {},
   "source": [
    "### Low budget"
   ]
  },
  {
   "cell_type": "code",
   "execution_count": 140,
   "metadata": {},
   "outputs": [],
   "source": [
    "genres = ['action','adventure','animated','biographical','black','buddy','comedy',\n",
    " 'comedy-drama','crime','drama','epic','fantasy','fiction','historical','horror','musical',\n",
    " 'psychological','romantic','science','sports','superhero','supernatural','thriller','war']"
   ]
  },
  {
   "cell_type": "code",
   "execution_count": 141,
   "metadata": {},
   "outputs": [],
   "source": [
    "budget_group = df['Budget group']"
   ]
  },
  {
   "cell_type": "code",
   "execution_count": 142,
   "metadata": {},
   "outputs": [
    {
     "data": {
      "text/plain": [
       "<Axes: >"
      ]
     },
     "execution_count": 142,
     "metadata": {},
     "output_type": "execute_result"
    },
    {
     "data": {
      "image/png": "[encoded data removed]",
      "text/plain": [
       "<Figure size 640x480 with 1 Axes>"
      ]
     },
     "metadata": {},
     "output_type": "display_data"
    }
   ],
   "source": [
    "df['Budget'].plot.box()"
   ]
  },
  {
   "cell_type": "markdown",
   "metadata": {},
   "source": [
    "I'll delete the movies with a too high profit perc. Their success is amazing and hard to replicate."
   ]
  },
  {
   "cell_type": "code",
   "execution_count": 143,
   "metadata": {},
   "outputs": [],
   "source": [
    "def get_limits(df):\n",
    "    print('llimit', str(df.quantile(0.25) - 1.5*(df.quantile(0.75) - df.quantile(0.25))))\n",
    "    print('ulimit', str(df.quantile(0.75) + 1.5*(df.quantile(0.75) - df.quantile(0.25))))\n",
    "    print('Extreme llimit', str(df.quantile(0.25) - 3*(df.quantile(0.75) - df.quantile(0.25))))\n",
    "    print('Extreme ulimit', str(df.quantile(0.75) + 3*(df.quantile(0.75) - df.quantile(0.25))))"
   ]
  },
  {
   "cell_type": "markdown",
   "metadata": {},
   "source": [
    "#### Handling the outliers of Profit perc in low df"
   ]
  },
  {
   "cell_type": "code",
   "execution_count": 144,
   "metadata": {},
   "outputs": [
    {
     "name": "stdout",
     "output_type": "stream",
     "text": [
      "llimit -639.947915\n",
      "ulimit 937.468749\n",
      "Extreme llimit -1231.479164\n",
      "Extreme ulimit 1528.999998\n"
     ]
    }
   ],
   "source": [
    "get_limits(df.loc[budget_group == 'low', 'Profit perc'])"
   ]
  },
  {
   "cell_type": "code",
   "execution_count": 145,
   "metadata": {},
   "outputs": [
    {
     "data": {
      "text/plain": [
       "103"
      ]
     },
     "execution_count": 145,
     "metadata": {},
     "output_type": "execute_result"
    }
   ],
   "source": [
    "(df.loc[budget_group == 'low', 'Profit perc'] > 938).sum()"
   ]
  },
  {
   "cell_type": "code",
   "execution_count": 146,
   "metadata": {},
   "outputs": [
    {
     "data": {
      "text/plain": [
       "(1104, 33)"
      ]
     },
     "execution_count": 146,
     "metadata": {},
     "output_type": "execute_result"
    }
   ],
   "source": [
    "low_df = df.loc[(budget_group == 'low') & (df['Profit perc'] < 938)]\n",
    "low_df.shape"
   ]
  },
  {
   "cell_type": "code",
   "execution_count": 147,
   "metadata": {},
   "outputs": [],
   "source": [
    "def profit_genre(df, genres, col):\n",
    "    for i in genres:\n",
    "        if df[i] == 1:\n",
    "            df[i] = df[col]\n",
    "    return df"
   ]
  },
  {
   "cell_type": "markdown",
   "metadata": {},
   "source": [
    "#### I grab the genres that have at least 15 occurrences"
   ]
  },
  {
   "cell_type": "code",
   "execution_count": 148,
   "metadata": {},
   "outputs": [
    {
     "data": {
      "text/plain": [
       "action           72.0000\n",
       "adventure        17.0000\n",
       "animated         12.0000\n",
       "biographical     62.0000\n",
       "black            41.0000\n",
       "buddy            13.0000\n",
       "comedy          256.0000\n",
       "comedy-drama    148.0000\n",
       "crime            63.0000\n",
       "drama           320.0000\n",
       "epic              9.0000\n",
       "fantasy          21.0000\n",
       "fiction          41.0000\n",
       "historical       15.0000\n",
       "horror          139.0000\n",
       "musical          19.0000\n",
       "psychological    53.0000\n",
       "romantic        134.0000\n",
       "science          43.0000\n",
       "sports           24.0000\n",
       "superhero         7.0000\n",
       "supernatural     52.0000\n",
       "thriller        132.0000\n",
       "war              18.0000\n",
       "dtype: float64"
      ]
     },
     "execution_count": 148,
     "metadata": {},
     "output_type": "execute_result"
    }
   ],
   "source": [
    "low_df[genres].sum(axis=0)"
   ]
  },
  {
   "cell_type": "markdown",
   "metadata": {},
   "source": [
    "# Start analysis"
   ]
  },
  {
   "cell_type": "code",
   "execution_count": 149,
   "metadata": {},
   "outputs": [
    {
     "name": "stdout",
     "output_type": "stream",
     "text": [
      "['action', 'adventure', 'biographical', 'black', 'comedy', 'comedy-drama', 'crime', 'drama', 'fantasy', 'fiction', 'horror', 'musical', 'psychological', 'romantic', 'science', 'sports', 'supernatural', 'thriller', 'war']\n"
     ]
    }
   ],
   "source": [
    "low_genres = low_df[genres].sum(axis=0).loc[low_df[genres].sum(axis=0) > 15].index.tolist()\n",
    "print(low_genres)"
   ]
  },
  {
   "cell_type": "code",
   "execution_count": 150,
   "metadata": {},
   "outputs": [],
   "source": [
    "low_df_profit_perc = low_df[low_genres+ ['Profit perc']].apply(profit_genre, genres=low_genres,\n",
    "                                     col='Profit perc', axis=1)\n",
    "\n",
    "low_df_profit_perc[low_df_profit_perc == 0] = np.nan"
   ]
  },
  {
   "cell_type": "code",
   "execution_count": 151,
   "metadata": {},
   "outputs": [
    {
     "data": {
      "image/png": "[encoded data removed]",
      "text/plain": [
       "<Figure size 640x480 with 1 Axes>"
      ]
     },
     "metadata": {},
     "output_type": "display_data"
    }
   ],
   "source": [
    "ax = low_df_profit_perc.drop(columns='Profit perc').median(axis=0).sort_values().plot.bar()\n",
    "ax.hlines(y=low_df_profit_perc['Profit perc'].mean(),\n",
    "          xmin=-1, xmax=70,\n",
    "          linewidth=1, color='r');"
   ]
  },
  {
   "cell_type": "markdown",
   "metadata": {},
   "source": [
    "As we can see some genres have a very different mean from the mean of the whole group. Yet, it's too early to speak. We have to make sure that this is not something produced by chance alone."
   ]
  },
  {
   "cell_type": "code",
   "execution_count": 152,
   "metadata": {},
   "outputs": [
    {
     "data": {
      "text/html": [
       "<div>\n",
       "<style scoped>\n",
       "    .dataframe tbody tr th:only-of-type {\n",
       "        vertical-align: middle;\n",
       "    }\n",
       "\n",
       "    .dataframe tbody tr th {\n",
       "        vertical-align: top;\n",
       "    }\n",
       "\n",
       "    .dataframe thead th {\n",
       "        text-align: right;\n",
       "    }\n",
       "</style>\n",
       "<table border=\"1\" class=\"dataframe\">\n",
       "  <thead>\n",
       "    <tr style=\"text-align: right;\">\n",
       "      <th></th>\n",
       "      <th>Correlation coef.</th>\n",
       "      <th>P-value</th>\n",
       "    </tr>\n",
       "  </thead>\n",
       "  <tbody>\n",
       "    <tr>\n",
       "      <th>supernatural</th>\n",
       "      <td>0.1586</td>\n",
       "      <td>0.0000</td>\n",
       "    </tr>\n",
       "    <tr>\n",
       "      <th>horror</th>\n",
       "      <td>0.1564</td>\n",
       "      <td>0.0000</td>\n",
       "    </tr>\n",
       "    <tr>\n",
       "      <th>psychological</th>\n",
       "      <td>0.0767</td>\n",
       "      <td>0.0108</td>\n",
       "    </tr>\n",
       "    <tr>\n",
       "      <th>drama</th>\n",
       "      <td>-0.0702</td>\n",
       "      <td>0.0196</td>\n",
       "    </tr>\n",
       "    <tr>\n",
       "      <th>sports</th>\n",
       "      <td>-0.0664</td>\n",
       "      <td>0.0275</td>\n",
       "    </tr>\n",
       "    <tr>\n",
       "      <th>biographical</th>\n",
       "      <td>-0.0649</td>\n",
       "      <td>0.0312</td>\n",
       "    </tr>\n",
       "    <tr>\n",
       "      <th>action</th>\n",
       "      <td>-0.0513</td>\n",
       "      <td>0.0883</td>\n",
       "    </tr>\n",
       "    <tr>\n",
       "      <th>musical</th>\n",
       "      <td>-0.0432</td>\n",
       "      <td>0.1512</td>\n",
       "    </tr>\n",
       "    <tr>\n",
       "      <th>romantic</th>\n",
       "      <td>0.0428</td>\n",
       "      <td>0.1551</td>\n",
       "    </tr>\n",
       "    <tr>\n",
       "      <th>thriller</th>\n",
       "      <td>-0.0342</td>\n",
       "      <td>0.2563</td>\n",
       "    </tr>\n",
       "    <tr>\n",
       "      <th>fantasy</th>\n",
       "      <td>0.0270</td>\n",
       "      <td>0.3707</td>\n",
       "    </tr>\n",
       "    <tr>\n",
       "      <th>crime</th>\n",
       "      <td>-0.0266</td>\n",
       "      <td>0.3768</td>\n",
       "    </tr>\n",
       "    <tr>\n",
       "      <th>black</th>\n",
       "      <td>0.0217</td>\n",
       "      <td>0.4717</td>\n",
       "    </tr>\n",
       "    <tr>\n",
       "      <th>comedy-drama</th>\n",
       "      <td>-0.0125</td>\n",
       "      <td>0.6784</td>\n",
       "    </tr>\n",
       "    <tr>\n",
       "      <th>adventure</th>\n",
       "      <td>-0.0124</td>\n",
       "      <td>0.6799</td>\n",
       "    </tr>\n",
       "    <tr>\n",
       "      <th>science</th>\n",
       "      <td>-0.0101</td>\n",
       "      <td>0.7375</td>\n",
       "    </tr>\n",
       "    <tr>\n",
       "      <th>comedy</th>\n",
       "      <td>0.0066</td>\n",
       "      <td>0.8270</td>\n",
       "    </tr>\n",
       "    <tr>\n",
       "      <th>fiction</th>\n",
       "      <td>-0.0064</td>\n",
       "      <td>0.8308</td>\n",
       "    </tr>\n",
       "    <tr>\n",
       "      <th>war</th>\n",
       "      <td>0.0024</td>\n",
       "      <td>0.9369</td>\n",
       "    </tr>\n",
       "  </tbody>\n",
       "</table>\n",
       "</div>"
      ],
      "text/plain": [
       "               Correlation coef.  P-value\n",
       "supernatural              0.1586   0.0000\n",
       "horror                    0.1564   0.0000\n",
       "psychological             0.0767   0.0108\n",
       "drama                    -0.0702   0.0196\n",
       "sports                   -0.0664   0.0275\n",
       "biographical             -0.0649   0.0312\n",
       "action                   -0.0513   0.0883\n",
       "musical                  -0.0432   0.1512\n",
       "romantic                  0.0428   0.1551\n",
       "thriller                 -0.0342   0.2563\n",
       "fantasy                   0.0270   0.3707\n",
       "crime                    -0.0266   0.3768\n",
       "black                     0.0217   0.4717\n",
       "comedy-drama             -0.0125   0.6784\n",
       "adventure                -0.0124   0.6799\n",
       "science                  -0.0101   0.7375\n",
       "comedy                    0.0066   0.8270\n",
       "fiction                  -0.0064   0.8308\n",
       "war                       0.0024   0.9369"
      ]
     },
     "execution_count": 152,
     "metadata": {},
     "output_type": "execute_result"
    }
   ],
   "source": [
    "pd.set_option('display.float_format',  '{:.4f}'.format)\n",
    "\n",
    "from scipy.stats import pearsonr\n",
    "\n",
    "pearsonr_df_stat= []\n",
    "pearsonr_df_pv= []\n",
    "pearsonr_id = []\n",
    "\n",
    "for genre in low_genres:\n",
    "    values = pearsonr(low_df[genre], low_df['Profit perc'])\n",
    "    pearsonr_df_stat.append(values[0])\n",
    "    pearsonr_df_pv.append(values[1])\n",
    "    pearsonr_id.append(genre)\n",
    "\n",
    "\n",
    "pearsonr_df = pd.DataFrame(index=pearsonr_id, data={'Correlation coef.':pearsonr_df_stat,\n",
    "            'P-value':pearsonr_df_pv}).sort_values('P-value')\n",
    "pearsonr_df"
   ]
  },
  {
   "cell_type": "markdown",
   "metadata": {},
   "source": [
    "The only genres we can trust are the ones with a P-value < 0.05"
   ]
  },
  {
   "cell_type": "code",
   "execution_count": 153,
   "metadata": {},
   "outputs": [
    {
     "data": {
      "text/html": [
       "<div>\n",
       "<style scoped>\n",
       "    .dataframe tbody tr th:only-of-type {\n",
       "        vertical-align: middle;\n",
       "    }\n",
       "\n",
       "    .dataframe tbody tr th {\n",
       "        vertical-align: top;\n",
       "    }\n",
       "\n",
       "    .dataframe thead th {\n",
       "        text-align: right;\n",
       "    }\n",
       "</style>\n",
       "<table border=\"1\" class=\"dataframe\">\n",
       "  <thead>\n",
       "    <tr style=\"text-align: right;\">\n",
       "      <th></th>\n",
       "      <th>Correlation coef.</th>\n",
       "      <th>P-value</th>\n",
       "    </tr>\n",
       "  </thead>\n",
       "  <tbody>\n",
       "    <tr>\n",
       "      <th>supernatural</th>\n",
       "      <td>0.1586</td>\n",
       "      <td>0.0000</td>\n",
       "    </tr>\n",
       "    <tr>\n",
       "      <th>horror</th>\n",
       "      <td>0.1564</td>\n",
       "      <td>0.0000</td>\n",
       "    </tr>\n",
       "    <tr>\n",
       "      <th>psychological</th>\n",
       "      <td>0.0767</td>\n",
       "      <td>0.0108</td>\n",
       "    </tr>\n",
       "    <tr>\n",
       "      <th>drama</th>\n",
       "      <td>-0.0702</td>\n",
       "      <td>0.0196</td>\n",
       "    </tr>\n",
       "    <tr>\n",
       "      <th>sports</th>\n",
       "      <td>-0.0664</td>\n",
       "      <td>0.0275</td>\n",
       "    </tr>\n",
       "    <tr>\n",
       "      <th>biographical</th>\n",
       "      <td>-0.0649</td>\n",
       "      <td>0.0312</td>\n",
       "    </tr>\n",
       "  </tbody>\n",
       "</table>\n",
       "</div>"
      ],
      "text/plain": [
       "               Correlation coef.  P-value\n",
       "supernatural              0.1586   0.0000\n",
       "horror                    0.1564   0.0000\n",
       "psychological             0.0767   0.0108\n",
       "drama                    -0.0702   0.0196\n",
       "sports                   -0.0664   0.0275\n",
       "biographical             -0.0649   0.0312"
      ]
     },
     "execution_count": 153,
     "metadata": {},
     "output_type": "execute_result"
    }
   ],
   "source": [
    "pearsonr_df[pearsonr_df['P-value'] < 0.05]"
   ]
  },
  {
   "cell_type": "code",
   "execution_count": 154,
   "metadata": {},
   "outputs": [],
   "source": [
    "low_genres_trust = pearsonr_df[pearsonr_df['P-value'] < 0.05].index.tolist()"
   ]
  },
  {
   "cell_type": "markdown",
   "metadata": {},
   "source": [
    "I take that a step further. I wanna be more confident that these genres do indeed influece that Profit %... and it's not by chance.\n",
    "\n",
    "So I use bootstrapping and confidence intervals."
   ]
  },
  {
   "cell_type": "code",
   "execution_count": 155,
   "metadata": {},
   "outputs": [
    {
     "data": {
      "text/html": [
       "<div>\n",
       "<style scoped>\n",
       "    .dataframe tbody tr th:only-of-type {\n",
       "        vertical-align: middle;\n",
       "    }\n",
       "\n",
       "    .dataframe tbody tr th {\n",
       "        vertical-align: top;\n",
       "    }\n",
       "\n",
       "    .dataframe thead th {\n",
       "        text-align: right;\n",
       "    }\n",
       "</style>\n",
       "<table border=\"1\" class=\"dataframe\">\n",
       "  <thead>\n",
       "    <tr style=\"text-align: right;\">\n",
       "      <th></th>\n",
       "      <th>Low band</th>\n",
       "      <th>High band</th>\n",
       "    </tr>\n",
       "  </thead>\n",
       "  <tbody>\n",
       "    <tr>\n",
       "      <th>Profit perc</th>\n",
       "      <td>30.0000</td>\n",
       "      <td>69.4444</td>\n",
       "    </tr>\n",
       "    <tr>\n",
       "      <th>supernatural</th>\n",
       "      <td>179.5000</td>\n",
       "      <td>385.2365</td>\n",
       "    </tr>\n",
       "    <tr>\n",
       "      <th>horror</th>\n",
       "      <td>118.8235</td>\n",
       "      <td>246.3848</td>\n",
       "    </tr>\n",
       "    <tr>\n",
       "      <th>psychological</th>\n",
       "      <td>54.2857</td>\n",
       "      <td>254.6562</td>\n",
       "    </tr>\n",
       "    <tr>\n",
       "      <th>drama</th>\n",
       "      <td>-1.3204</td>\n",
       "      <td>43.6667</td>\n",
       "    </tr>\n",
       "    <tr>\n",
       "      <th>sports</th>\n",
       "      <td>-55.0000</td>\n",
       "      <td>12.5660</td>\n",
       "    </tr>\n",
       "    <tr>\n",
       "      <th>biographical</th>\n",
       "      <td>-50.0000</td>\n",
       "      <td>50.6250</td>\n",
       "    </tr>\n",
       "  </tbody>\n",
       "</table>\n",
       "</div>"
      ],
      "text/plain": [
       "               Low band  High band\n",
       "Profit perc     30.0000    69.4444\n",
       "supernatural   179.5000   385.2365\n",
       "horror         118.8235   246.3848\n",
       "psychological   54.2857   254.6562\n",
       "drama           -1.3204    43.6667\n",
       "sports         -55.0000    12.5660\n",
       "biographical   -50.0000    50.6250"
      ]
     },
     "execution_count": 155,
     "metadata": {},
     "output_type": "execute_result"
    }
   ],
   "source": [
    "from scipy.stats import bootstrap\n",
    "\n",
    "def get_conf_df(df,genres, my_func):\n",
    "    conf_df_id = []\n",
    "    conf_df_low = []\n",
    "    conf_df_high = []\n",
    "\n",
    "    for genre in genres:\n",
    "        df_to_test = (df[genre].dropna(),)\n",
    "        bootstrap_ci = bootstrap(df_to_test,\n",
    "                                my_func,\n",
    "                                n_resamples=1999,\n",
    "                                confidence_level=0.95,\n",
    "                                random_state=1)\n",
    "\n",
    "        conf_df_id.append(genre)\n",
    "        conf_df_high.append(bootstrap_ci.confidence_interval[1])\n",
    "        conf_df_low.append(bootstrap_ci.confidence_interval[0])\n",
    "    \n",
    "    return conf_df_id, conf_df_low, conf_df_high\n",
    "\n",
    "mean_conf = get_conf_df(low_df_profit_perc,['Profit perc'] +low_genres_trust, np.median)\n",
    "\n",
    "conf_df = pd.DataFrame(index=mean_conf[0], data={'Low band':mean_conf[1],\n",
    "            'High band':mean_conf[2]})\n",
    "conf_df"
   ]
  },
  {
   "cell_type": "markdown",
   "metadata": {},
   "source": [
    "These are the genres that don't overlap at 95% conficende level. We can trust that these genres do actually influence the profit % of a low budget movie."
   ]
  },
  {
   "cell_type": "code",
   "execution_count": 156,
   "metadata": {},
   "outputs": [
    {
     "data": {
      "text/html": [
       "<div>\n",
       "<style scoped>\n",
       "    .dataframe tbody tr th:only-of-type {\n",
       "        vertical-align: middle;\n",
       "    }\n",
       "\n",
       "    .dataframe tbody tr th {\n",
       "        vertical-align: top;\n",
       "    }\n",
       "\n",
       "    .dataframe thead th {\n",
       "        text-align: right;\n",
       "    }\n",
       "</style>\n",
       "<table border=\"1\" class=\"dataframe\">\n",
       "  <thead>\n",
       "    <tr style=\"text-align: right;\">\n",
       "      <th></th>\n",
       "      <th>Low band</th>\n",
       "      <th>High band</th>\n",
       "    </tr>\n",
       "  </thead>\n",
       "  <tbody>\n",
       "    <tr>\n",
       "      <th>supernatural</th>\n",
       "      <td>179.5000</td>\n",
       "      <td>385.2365</td>\n",
       "    </tr>\n",
       "    <tr>\n",
       "      <th>horror</th>\n",
       "      <td>118.8235</td>\n",
       "      <td>246.3848</td>\n",
       "    </tr>\n",
       "    <tr>\n",
       "      <th>sports</th>\n",
       "      <td>-55.0000</td>\n",
       "      <td>12.5660</td>\n",
       "    </tr>\n",
       "  </tbody>\n",
       "</table>\n",
       "</div>"
      ],
      "text/plain": [
       "              Low band  High band\n",
       "supernatural  179.5000   385.2365\n",
       "horror        118.8235   246.3848\n",
       "sports        -55.0000    12.5660"
      ]
     },
     "execution_count": 156,
     "metadata": {},
     "output_type": "execute_result"
    }
   ],
   "source": [
    "mask1 = conf_df.loc[:,'Low band'] > conf_df.loc['Profit perc', 'High band']\n",
    "mask2 = conf_df.loc[:,'High band'] < conf_df.loc['Profit perc', 'Low band']\n",
    "\n",
    "low_genres_trust = conf_df[(mask1 | mask2)].index.tolist()\n",
    "conf_df[(mask1 | mask2)]\n"
   ]
  },
  {
   "cell_type": "code",
   "execution_count": 157,
   "metadata": {},
   "outputs": [
    {
     "name": "stderr",
     "output_type": "stream",
     "text": [
      "c:\\Users\\matte\\anaconda3\\Lib\\site-packages\\seaborn\\_oldcore.py:1498: FutureWarning: is_categorical_dtype is deprecated and will be removed in a future version. Use isinstance(dtype, CategoricalDtype) instead\n",
      "  if pd.api.types.is_categorical_dtype(vector):\n",
      "c:\\Users\\matte\\anaconda3\\Lib\\site-packages\\seaborn\\_oldcore.py:1498: FutureWarning: is_categorical_dtype is deprecated and will be removed in a future version. Use isinstance(dtype, CategoricalDtype) instead\n",
      "  if pd.api.types.is_categorical_dtype(vector):\n",
      "c:\\Users\\matte\\anaconda3\\Lib\\site-packages\\seaborn\\_oldcore.py:1498: FutureWarning: is_categorical_dtype is deprecated and will be removed in a future version. Use isinstance(dtype, CategoricalDtype) instead\n",
      "  if pd.api.types.is_categorical_dtype(vector):\n",
      "c:\\Users\\matte\\anaconda3\\Lib\\site-packages\\seaborn\\_oldcore.py:1498: FutureWarning: is_categorical_dtype is deprecated and will be removed in a future version. Use isinstance(dtype, CategoricalDtype) instead\n",
      "  if pd.api.types.is_categorical_dtype(vector):\n"
     ]
    },
    {
     "data": {
      "text/plain": [
       "<Axes: >"
      ]
     },
     "execution_count": 157,
     "metadata": {},
     "output_type": "execute_result"
    },
    {
     "data": {
      "image/png": "[encoded data removed]",
      "text/plain": [
       "<Figure size 640x480 with 1 Axes>"
      ]
     },
     "metadata": {},
     "output_type": "display_data"
    }
   ],
   "source": [
    "sns.barplot(data=low_df_profit_perc[low_genres_trust + ['Profit perc']], estimator='median',\n",
    "            errorbar='ci')"
   ]
  },
  {
   "cell_type": "code",
   "execution_count": 158,
   "metadata": {},
   "outputs": [],
   "source": [
    "def my_q1(x):\n",
    "    return np.quantile(a=x, q=0.25)\n",
    "\n",
    "q1_conf = get_conf_df(low_df_profit_perc, low_genres_trust + ['Profit perc'], my_q1)"
   ]
  },
  {
   "cell_type": "code",
   "execution_count": 159,
   "metadata": {},
   "outputs": [
    {
     "name": "stderr",
     "output_type": "stream",
     "text": [
      "c:\\Users\\matte\\anaconda3\\Lib\\site-packages\\seaborn\\_oldcore.py:1498: FutureWarning: is_categorical_dtype is deprecated and will be removed in a future version. Use isinstance(dtype, CategoricalDtype) instead\n",
      "  if pd.api.types.is_categorical_dtype(vector):\n",
      "c:\\Users\\matte\\anaconda3\\Lib\\site-packages\\seaborn\\_oldcore.py:1498: FutureWarning: is_categorical_dtype is deprecated and will be removed in a future version. Use isinstance(dtype, CategoricalDtype) instead\n",
      "  if pd.api.types.is_categorical_dtype(vector):\n",
      "c:\\Users\\matte\\anaconda3\\Lib\\site-packages\\seaborn\\_oldcore.py:1498: FutureWarning: is_categorical_dtype is deprecated and will be removed in a future version. Use isinstance(dtype, CategoricalDtype) instead\n",
      "  if pd.api.types.is_categorical_dtype(vector):\n"
     ]
    },
    {
     "data": {
      "image/png": "[encoded data removed]",
      "text/plain": [
       "<Figure size 640x480 with 1 Axes>"
      ]
     },
     "metadata": {},
     "output_type": "display_data"
    }
   ],
   "source": [
    "ax = sns.barplot(data=low_df_profit_perc[low_genres_trust + ['Profit perc']].quantile(0.25).to_frame().reset_index(),\n",
    "            errorbar=None, x='index', y=0.25)\n",
    "\n",
    "for n in range(len(q1_conf[0])):\n",
    "    ax.vlines(x=n,\n",
    "            ymin=q1_conf[1][n], ymax=q1_conf[2][n],\n",
    "            linewidth=2, color='black');"
   ]
  },
  {
   "cell_type": "markdown",
   "metadata": {},
   "source": [
    "#### I check to see if the confidence interval for the q3 overlap. I didn't do this for the q1 because there's a limit to how bad a movie can do."
   ]
  },
  {
   "cell_type": "code",
   "execution_count": 160,
   "metadata": {},
   "outputs": [],
   "source": [
    "#I have to use 0.751 and not 0.75 because 0.75 gives me a Runtime error.\n",
    "\n",
    "def my_q3(x):\n",
    "    return np.quantile(a=x, q=0.751)\n",
    "\n",
    "q3_conf = get_conf_df(low_df_profit_perc, low_genres_trust + ['Profit perc'], my_q3)"
   ]
  },
  {
   "cell_type": "code",
   "execution_count": 161,
   "metadata": {},
   "outputs": [
    {
     "data": {
      "text/html": [
       "<div>\n",
       "<style scoped>\n",
       "    .dataframe tbody tr th:only-of-type {\n",
       "        vertical-align: middle;\n",
       "    }\n",
       "\n",
       "    .dataframe tbody tr th {\n",
       "        vertical-align: top;\n",
       "    }\n",
       "\n",
       "    .dataframe thead th {\n",
       "        text-align: right;\n",
       "    }\n",
       "</style>\n",
       "<table border=\"1\" class=\"dataframe\">\n",
       "  <thead>\n",
       "    <tr style=\"text-align: right;\">\n",
       "      <th></th>\n",
       "      <th>Low band</th>\n",
       "      <th>High band</th>\n",
       "    </tr>\n",
       "  </thead>\n",
       "  <tbody>\n",
       "    <tr>\n",
       "      <th>supernatural</th>\n",
       "      <td>390.1562</td>\n",
       "      <td>678.0952</td>\n",
       "    </tr>\n",
       "    <tr>\n",
       "      <th>horror</th>\n",
       "      <td>327.7778</td>\n",
       "      <td>527.7372</td>\n",
       "    </tr>\n",
       "    <tr>\n",
       "      <th>sports</th>\n",
       "      <td>-28.3007</td>\n",
       "      <td>168.8235</td>\n",
       "    </tr>\n",
       "  </tbody>\n",
       "</table>\n",
       "</div>"
      ],
      "text/plain": [
       "              Low band  High band\n",
       "supernatural  390.1562   678.0952\n",
       "horror        327.7778   527.7372\n",
       "sports        -28.3007   168.8235"
      ]
     },
     "execution_count": 161,
     "metadata": {},
     "output_type": "execute_result"
    }
   ],
   "source": [
    "q3_conf_df = pd.DataFrame(index=q3_conf[0], data={'Low band':q3_conf[1],\n",
    "            'High band':q3_conf[2]})\n",
    "\n",
    "mask1 = q3_conf_df.loc[:,'Low band'] > q3_conf_df.loc['Profit perc', 'High band']\n",
    "mask2 = q3_conf_df.loc[:,'High band'] < q3_conf_df.loc['Profit perc', 'Low band']\n",
    "\n",
    "q3_conf_df[(mask1 | mask2)]"
   ]
  },
  {
   "cell_type": "code",
   "execution_count": 162,
   "metadata": {},
   "outputs": [
    {
     "name": "stderr",
     "output_type": "stream",
     "text": [
      "c:\\Users\\matte\\anaconda3\\Lib\\site-packages\\seaborn\\_oldcore.py:1498: FutureWarning: is_categorical_dtype is deprecated and will be removed in a future version. Use isinstance(dtype, CategoricalDtype) instead\n",
      "  if pd.api.types.is_categorical_dtype(vector):\n",
      "c:\\Users\\matte\\anaconda3\\Lib\\site-packages\\seaborn\\_oldcore.py:1498: FutureWarning: is_categorical_dtype is deprecated and will be removed in a future version. Use isinstance(dtype, CategoricalDtype) instead\n",
      "  if pd.api.types.is_categorical_dtype(vector):\n",
      "c:\\Users\\matte\\anaconda3\\Lib\\site-packages\\seaborn\\_oldcore.py:1498: FutureWarning: is_categorical_dtype is deprecated and will be removed in a future version. Use isinstance(dtype, CategoricalDtype) instead\n",
      "  if pd.api.types.is_categorical_dtype(vector):\n"
     ]
    },
    {
     "data": {
      "image/png": "[encoded data removed]",
      "text/plain": [
       "<Figure size 640x480 with 1 Axes>"
      ]
     },
     "metadata": {},
     "output_type": "display_data"
    }
   ],
   "source": [
    "ax = sns.barplot(data=low_df_profit_perc[low_genres_trust + ['Profit perc']].quantile(0.751).to_frame().reset_index(),\n",
    "            errorbar=None, x='index', y=0.751)\n",
    "\n",
    "for n in range(len(q3_conf[0])):\n",
    "    ax.vlines(x=n,\n",
    "            ymin=q3_conf[1][n], ymax=q3_conf[2][n],\n",
    "            linewidth=2, color='black');"
   ]
  },
  {
   "cell_type": "markdown",
   "metadata": {},
   "source": [
    "## Mid Budget"
   ]
  },
  {
   "cell_type": "markdown",
   "metadata": {},
   "source": [
    "#### Handling the outliers in Profit perc in mid budget"
   ]
  },
  {
   "cell_type": "code",
   "execution_count": 163,
   "metadata": {},
   "outputs": [
    {
     "name": "stdout",
     "output_type": "stream",
     "text": [
      "llimit -335.342105\n",
      "ulimit 539.6052629999999\n",
      "Extreme llimit -663.447368\n",
      "Extreme ulimit 867.710526\n"
     ]
    }
   ],
   "source": [
    "get_limits(df.loc[budget_group == 'mid', 'Profit perc'])"
   ]
  },
  {
   "cell_type": "code",
   "execution_count": 164,
   "metadata": {},
   "outputs": [
    {
     "data": {
      "text/plain": [
       "81"
      ]
     },
     "execution_count": 164,
     "metadata": {},
     "output_type": "execute_result"
    }
   ],
   "source": [
    "(df.loc[budget_group == 'mid', 'Profit perc'] > 539).sum()"
   ]
  },
  {
   "cell_type": "code",
   "execution_count": 165,
   "metadata": {},
   "outputs": [
    {
     "data": {
      "text/plain": [
       "(1192, 33)"
      ]
     },
     "execution_count": 165,
     "metadata": {},
     "output_type": "execute_result"
    }
   ],
   "source": [
    "mid_df = df.loc[(budget_group == 'mid') & (df['Profit perc'] < 539)]\n",
    "mid_df.shape"
   ]
  },
  {
   "cell_type": "markdown",
   "metadata": {},
   "source": [
    "#### Grab the genres with at least 15 occurrences"
   ]
  },
  {
   "cell_type": "code",
   "execution_count": 166,
   "metadata": {},
   "outputs": [
    {
     "name": "stdout",
     "output_type": "stream",
     "text": [
      "['action', 'adventure', 'animated', 'biographical', 'black', 'buddy', 'comedy', 'comedy-drama', 'crime', 'drama', 'epic', 'fantasy', 'fiction', 'historical', 'horror', 'musical', 'psychological', 'romantic', 'science', 'sports', 'superhero', 'supernatural', 'thriller', 'war']\n"
     ]
    }
   ],
   "source": [
    "mid_genres = mid_df[genres].sum(axis=0).loc[mid_df[genres].sum(axis=0) > 15].index.tolist()\n",
    "print(mid_genres)"
   ]
  },
  {
   "cell_type": "code",
   "execution_count": 167,
   "metadata": {},
   "outputs": [],
   "source": [
    "mid_df_profit_perc = mid_df[mid_genres+ ['Profit perc']].apply(profit_genre, genres=mid_genres,\n",
    "                                     col='Profit perc', axis=1)\n",
    "\n",
    "mid_df_profit_perc[mid_df_profit_perc == 0] = np.nan"
   ]
  },
  {
   "cell_type": "code",
   "execution_count": 168,
   "metadata": {},
   "outputs": [
    {
     "data": {
      "image/png": "[encoded data removed]",
      "text/plain": [
       "<Figure size 640x480 with 1 Axes>"
      ]
     },
     "metadata": {},
     "output_type": "display_data"
    }
   ],
   "source": [
    "ax = mid_df_profit_perc.drop(columns='Profit perc').median(axis=0).sort_values().plot.bar()\n",
    "ax.hlines(y=mid_df_profit_perc['Profit perc'].mean(),\n",
    "          xmin=-1, xmax=70,\n",
    "          linewidth=1, color='r');"
   ]
  },
  {
   "cell_type": "markdown",
   "metadata": {},
   "source": [
    "#### P-value and correlation"
   ]
  },
  {
   "cell_type": "code",
   "execution_count": 169,
   "metadata": {},
   "outputs": [
    {
     "data": {
      "text/html": [
       "<div>\n",
       "<style scoped>\n",
       "    .dataframe tbody tr th:only-of-type {\n",
       "        vertical-align: middle;\n",
       "    }\n",
       "\n",
       "    .dataframe tbody tr th {\n",
       "        vertical-align: top;\n",
       "    }\n",
       "\n",
       "    .dataframe thead th {\n",
       "        text-align: right;\n",
       "    }\n",
       "</style>\n",
       "<table border=\"1\" class=\"dataframe\">\n",
       "  <thead>\n",
       "    <tr style=\"text-align: right;\">\n",
       "      <th></th>\n",
       "      <th>Correlation coef.</th>\n",
       "      <th>P-value</th>\n",
       "    </tr>\n",
       "  </thead>\n",
       "  <tbody>\n",
       "    <tr>\n",
       "      <th>comedy</th>\n",
       "      <td>0.1651</td>\n",
       "      <td>0.0000</td>\n",
       "    </tr>\n",
       "    <tr>\n",
       "      <th>drama</th>\n",
       "      <td>-0.1384</td>\n",
       "      <td>0.0000</td>\n",
       "    </tr>\n",
       "    <tr>\n",
       "      <th>buddy</th>\n",
       "      <td>0.1355</td>\n",
       "      <td>0.0000</td>\n",
       "    </tr>\n",
       "    <tr>\n",
       "      <th>supernatural</th>\n",
       "      <td>0.1122</td>\n",
       "      <td>0.0001</td>\n",
       "    </tr>\n",
       "    <tr>\n",
       "      <th>romantic</th>\n",
       "      <td>0.0719</td>\n",
       "      <td>0.0130</td>\n",
       "    </tr>\n",
       "    <tr>\n",
       "      <th>animated</th>\n",
       "      <td>0.0577</td>\n",
       "      <td>0.0465</td>\n",
       "    </tr>\n",
       "    <tr>\n",
       "      <th>horror</th>\n",
       "      <td>0.0534</td>\n",
       "      <td>0.0652</td>\n",
       "    </tr>\n",
       "    <tr>\n",
       "      <th>sports</th>\n",
       "      <td>-0.0526</td>\n",
       "      <td>0.0697</td>\n",
       "    </tr>\n",
       "    <tr>\n",
       "      <th>biographical</th>\n",
       "      <td>-0.0465</td>\n",
       "      <td>0.1083</td>\n",
       "    </tr>\n",
       "    <tr>\n",
       "      <th>musical</th>\n",
       "      <td>0.0462</td>\n",
       "      <td>0.1111</td>\n",
       "    </tr>\n",
       "    <tr>\n",
       "      <th>historical</th>\n",
       "      <td>-0.0451</td>\n",
       "      <td>0.1197</td>\n",
       "    </tr>\n",
       "    <tr>\n",
       "      <th>comedy-drama</th>\n",
       "      <td>-0.0423</td>\n",
       "      <td>0.1447</td>\n",
       "    </tr>\n",
       "    <tr>\n",
       "      <th>crime</th>\n",
       "      <td>-0.0418</td>\n",
       "      <td>0.1493</td>\n",
       "    </tr>\n",
       "    <tr>\n",
       "      <th>thriller</th>\n",
       "      <td>-0.0409</td>\n",
       "      <td>0.1581</td>\n",
       "    </tr>\n",
       "    <tr>\n",
       "      <th>black</th>\n",
       "      <td>0.0393</td>\n",
       "      <td>0.1749</td>\n",
       "    </tr>\n",
       "    <tr>\n",
       "      <th>adventure</th>\n",
       "      <td>-0.0361</td>\n",
       "      <td>0.2127</td>\n",
       "    </tr>\n",
       "    <tr>\n",
       "      <th>war</th>\n",
       "      <td>-0.0306</td>\n",
       "      <td>0.2907</td>\n",
       "    </tr>\n",
       "    <tr>\n",
       "      <th>epic</th>\n",
       "      <td>-0.0304</td>\n",
       "      <td>0.2938</td>\n",
       "    </tr>\n",
       "    <tr>\n",
       "      <th>science</th>\n",
       "      <td>-0.0188</td>\n",
       "      <td>0.5167</td>\n",
       "    </tr>\n",
       "    <tr>\n",
       "      <th>fiction</th>\n",
       "      <td>-0.0106</td>\n",
       "      <td>0.7147</td>\n",
       "    </tr>\n",
       "    <tr>\n",
       "      <th>action</th>\n",
       "      <td>-0.0063</td>\n",
       "      <td>0.8280</td>\n",
       "    </tr>\n",
       "    <tr>\n",
       "      <th>superhero</th>\n",
       "      <td>0.0048</td>\n",
       "      <td>0.8685</td>\n",
       "    </tr>\n",
       "    <tr>\n",
       "      <th>fantasy</th>\n",
       "      <td>-0.0033</td>\n",
       "      <td>0.9102</td>\n",
       "    </tr>\n",
       "    <tr>\n",
       "      <th>psychological</th>\n",
       "      <td>0.0029</td>\n",
       "      <td>0.9193</td>\n",
       "    </tr>\n",
       "  </tbody>\n",
       "</table>\n",
       "</div>"
      ],
      "text/plain": [
       "               Correlation coef.  P-value\n",
       "comedy                    0.1651   0.0000\n",
       "drama                    -0.1384   0.0000\n",
       "buddy                     0.1355   0.0000\n",
       "supernatural              0.1122   0.0001\n",
       "romantic                  0.0719   0.0130\n",
       "animated                  0.0577   0.0465\n",
       "horror                    0.0534   0.0652\n",
       "sports                   -0.0526   0.0697\n",
       "biographical             -0.0465   0.1083\n",
       "musical                   0.0462   0.1111\n",
       "historical               -0.0451   0.1197\n",
       "comedy-drama             -0.0423   0.1447\n",
       "crime                    -0.0418   0.1493\n",
       "thriller                 -0.0409   0.1581\n",
       "black                     0.0393   0.1749\n",
       "adventure                -0.0361   0.2127\n",
       "war                      -0.0306   0.2907\n",
       "epic                     -0.0304   0.2938\n",
       "science                  -0.0188   0.5167\n",
       "fiction                  -0.0106   0.7147\n",
       "action                   -0.0063   0.8280\n",
       "superhero                 0.0048   0.8685\n",
       "fantasy                  -0.0033   0.9102\n",
       "psychological             0.0029   0.9193"
      ]
     },
     "execution_count": 169,
     "metadata": {},
     "output_type": "execute_result"
    }
   ],
   "source": [
    "mid_pearsonr_df_stat= []\n",
    "mid_pearsonr_df_pv= []\n",
    "mid_pearsonr_id = []\n",
    "\n",
    "for genre in mid_genres:\n",
    "    values = pearsonr(mid_df[genre], mid_df['Profit perc'])\n",
    "    mid_pearsonr_df_stat.append(values[0])\n",
    "    mid_pearsonr_df_pv.append(values[1])\n",
    "    mid_pearsonr_id.append(genre)\n",
    "\n",
    "\n",
    "mid_pearsonr_df = pd.DataFrame(index=mid_pearsonr_id, data={'Correlation coef.':mid_pearsonr_df_stat,\n",
    "            'P-value':mid_pearsonr_df_pv}).sort_values('P-value')\n",
    "mid_pearsonr_df"
   ]
  },
  {
   "cell_type": "code",
   "execution_count": 170,
   "metadata": {},
   "outputs": [
    {
     "data": {
      "text/html": [
       "<div>\n",
       "<style scoped>\n",
       "    .dataframe tbody tr th:only-of-type {\n",
       "        vertical-align: middle;\n",
       "    }\n",
       "\n",
       "    .dataframe tbody tr th {\n",
       "        vertical-align: top;\n",
       "    }\n",
       "\n",
       "    .dataframe thead th {\n",
       "        text-align: right;\n",
       "    }\n",
       "</style>\n",
       "<table border=\"1\" class=\"dataframe\">\n",
       "  <thead>\n",
       "    <tr style=\"text-align: right;\">\n",
       "      <th></th>\n",
       "      <th>Correlation coef.</th>\n",
       "      <th>P-value</th>\n",
       "    </tr>\n",
       "  </thead>\n",
       "  <tbody>\n",
       "    <tr>\n",
       "      <th>comedy</th>\n",
       "      <td>0.1651</td>\n",
       "      <td>0.0000</td>\n",
       "    </tr>\n",
       "    <tr>\n",
       "      <th>drama</th>\n",
       "      <td>-0.1384</td>\n",
       "      <td>0.0000</td>\n",
       "    </tr>\n",
       "    <tr>\n",
       "      <th>buddy</th>\n",
       "      <td>0.1355</td>\n",
       "      <td>0.0000</td>\n",
       "    </tr>\n",
       "    <tr>\n",
       "      <th>supernatural</th>\n",
       "      <td>0.1122</td>\n",
       "      <td>0.0001</td>\n",
       "    </tr>\n",
       "    <tr>\n",
       "      <th>romantic</th>\n",
       "      <td>0.0719</td>\n",
       "      <td>0.0130</td>\n",
       "    </tr>\n",
       "    <tr>\n",
       "      <th>animated</th>\n",
       "      <td>0.0577</td>\n",
       "      <td>0.0465</td>\n",
       "    </tr>\n",
       "  </tbody>\n",
       "</table>\n",
       "</div>"
      ],
      "text/plain": [
       "              Correlation coef.  P-value\n",
       "comedy                   0.1651   0.0000\n",
       "drama                   -0.1384   0.0000\n",
       "buddy                    0.1355   0.0000\n",
       "supernatural             0.1122   0.0001\n",
       "romantic                 0.0719   0.0130\n",
       "animated                 0.0577   0.0465"
      ]
     },
     "execution_count": 170,
     "metadata": {},
     "output_type": "execute_result"
    }
   ],
   "source": [
    "mid_pearsonr_df[mid_pearsonr_df['P-value'] < 0.05]"
   ]
  },
  {
   "cell_type": "code",
   "execution_count": 171,
   "metadata": {},
   "outputs": [],
   "source": [
    "mid_genres_trust = mid_pearsonr_df[mid_pearsonr_df['P-value'] < 0.05].index.tolist()"
   ]
  },
  {
   "cell_type": "markdown",
   "metadata": {},
   "source": [
    "#### Confidence interval"
   ]
  },
  {
   "cell_type": "code",
   "execution_count": 172,
   "metadata": {},
   "outputs": [
    {
     "data": {
      "text/html": [
       "<div>\n",
       "<style scoped>\n",
       "    .dataframe tbody tr th:only-of-type {\n",
       "        vertical-align: middle;\n",
       "    }\n",
       "\n",
       "    .dataframe tbody tr th {\n",
       "        vertical-align: top;\n",
       "    }\n",
       "\n",
       "    .dataframe thead th {\n",
       "        text-align: right;\n",
       "    }\n",
       "</style>\n",
       "<table border=\"1\" class=\"dataframe\">\n",
       "  <thead>\n",
       "    <tr style=\"text-align: right;\">\n",
       "      <th></th>\n",
       "      <th>Low band</th>\n",
       "      <th>High band</th>\n",
       "    </tr>\n",
       "  </thead>\n",
       "  <tbody>\n",
       "    <tr>\n",
       "      <th>Profit perc</th>\n",
       "      <td>62.6500</td>\n",
       "      <td>85.2667</td>\n",
       "    </tr>\n",
       "    <tr>\n",
       "      <th>comedy</th>\n",
       "      <td>94.0000</td>\n",
       "      <td>130.7750</td>\n",
       "    </tr>\n",
       "    <tr>\n",
       "      <th>drama</th>\n",
       "      <td>-4.5455</td>\n",
       "      <td>36.7070</td>\n",
       "    </tr>\n",
       "    <tr>\n",
       "      <th>buddy</th>\n",
       "      <td>125.1111</td>\n",
       "      <td>303.3687</td>\n",
       "    </tr>\n",
       "    <tr>\n",
       "      <th>supernatural</th>\n",
       "      <td>128.6225</td>\n",
       "      <td>228.0000</td>\n",
       "    </tr>\n",
       "    <tr>\n",
       "      <th>romantic</th>\n",
       "      <td>71.7143</td>\n",
       "      <td>141.1429</td>\n",
       "    </tr>\n",
       "    <tr>\n",
       "      <th>animated</th>\n",
       "      <td>56.9477</td>\n",
       "      <td>147.0727</td>\n",
       "    </tr>\n",
       "  </tbody>\n",
       "</table>\n",
       "</div>"
      ],
      "text/plain": [
       "              Low band  High band\n",
       "Profit perc    62.6500    85.2667\n",
       "comedy         94.0000   130.7750\n",
       "drama          -4.5455    36.7070\n",
       "buddy         125.1111   303.3687\n",
       "supernatural  128.6225   228.0000\n",
       "romantic       71.7143   141.1429\n",
       "animated       56.9477   147.0727"
      ]
     },
     "execution_count": 172,
     "metadata": {},
     "output_type": "execute_result"
    }
   ],
   "source": [
    "mid_mean_conf = get_conf_df(mid_df_profit_perc,['Profit perc'] +mid_genres_trust, np.median)\n",
    "\n",
    "mid_conf_df = pd.DataFrame(index=mid_mean_conf[0], data={'Low band':mid_mean_conf[1],\n",
    "            'High band':mid_mean_conf[2]})\n",
    "mid_conf_df"
   ]
  },
  {
   "cell_type": "code",
   "execution_count": 173,
   "metadata": {},
   "outputs": [
    {
     "data": {
      "text/html": [
       "<div>\n",
       "<style scoped>\n",
       "    .dataframe tbody tr th:only-of-type {\n",
       "        vertical-align: middle;\n",
       "    }\n",
       "\n",
       "    .dataframe tbody tr th {\n",
       "        vertical-align: top;\n",
       "    }\n",
       "\n",
       "    .dataframe thead th {\n",
       "        text-align: right;\n",
       "    }\n",
       "</style>\n",
       "<table border=\"1\" class=\"dataframe\">\n",
       "  <thead>\n",
       "    <tr style=\"text-align: right;\">\n",
       "      <th></th>\n",
       "      <th>Low band</th>\n",
       "      <th>High band</th>\n",
       "    </tr>\n",
       "  </thead>\n",
       "  <tbody>\n",
       "    <tr>\n",
       "      <th>comedy</th>\n",
       "      <td>94.0000</td>\n",
       "      <td>130.7750</td>\n",
       "    </tr>\n",
       "    <tr>\n",
       "      <th>drama</th>\n",
       "      <td>-4.5455</td>\n",
       "      <td>36.7070</td>\n",
       "    </tr>\n",
       "    <tr>\n",
       "      <th>buddy</th>\n",
       "      <td>125.1111</td>\n",
       "      <td>303.3687</td>\n",
       "    </tr>\n",
       "    <tr>\n",
       "      <th>supernatural</th>\n",
       "      <td>128.6225</td>\n",
       "      <td>228.0000</td>\n",
       "    </tr>\n",
       "  </tbody>\n",
       "</table>\n",
       "</div>"
      ],
      "text/plain": [
       "              Low band  High band\n",
       "comedy         94.0000   130.7750\n",
       "drama          -4.5455    36.7070\n",
       "buddy         125.1111   303.3687\n",
       "supernatural  128.6225   228.0000"
      ]
     },
     "execution_count": 173,
     "metadata": {},
     "output_type": "execute_result"
    }
   ],
   "source": [
    "mask1 = mid_conf_df.loc[:,'Low band'] > mid_conf_df.loc['Profit perc', 'High band']\n",
    "mask2 = mid_conf_df.loc[:,'High band'] < mid_conf_df.loc['Profit perc', 'Low band']\n",
    "\n",
    "mid_genres_trust = mid_conf_df[(mask1 | mask2)].index.tolist()\n",
    "mid_conf_df[(mask1 | mask2)]"
   ]
  },
  {
   "cell_type": "code",
   "execution_count": 174,
   "metadata": {},
   "outputs": [
    {
     "name": "stderr",
     "output_type": "stream",
     "text": [
      "c:\\Users\\matte\\anaconda3\\Lib\\site-packages\\seaborn\\_oldcore.py:1498: FutureWarning: is_categorical_dtype is deprecated and will be removed in a future version. Use isinstance(dtype, CategoricalDtype) instead\n",
      "  if pd.api.types.is_categorical_dtype(vector):\n",
      "c:\\Users\\matte\\anaconda3\\Lib\\site-packages\\seaborn\\_oldcore.py:1498: FutureWarning: is_categorical_dtype is deprecated and will be removed in a future version. Use isinstance(dtype, CategoricalDtype) instead\n",
      "  if pd.api.types.is_categorical_dtype(vector):\n",
      "c:\\Users\\matte\\anaconda3\\Lib\\site-packages\\seaborn\\_oldcore.py:1498: FutureWarning: is_categorical_dtype is deprecated and will be removed in a future version. Use isinstance(dtype, CategoricalDtype) instead\n",
      "  if pd.api.types.is_categorical_dtype(vector):\n",
      "c:\\Users\\matte\\anaconda3\\Lib\\site-packages\\seaborn\\_oldcore.py:1498: FutureWarning: is_categorical_dtype is deprecated and will be removed in a future version. Use isinstance(dtype, CategoricalDtype) instead\n",
      "  if pd.api.types.is_categorical_dtype(vector):\n",
      "c:\\Users\\matte\\anaconda3\\Lib\\site-packages\\seaborn\\_oldcore.py:1498: FutureWarning: is_categorical_dtype is deprecated and will be removed in a future version. Use isinstance(dtype, CategoricalDtype) instead\n",
      "  if pd.api.types.is_categorical_dtype(vector):\n"
     ]
    },
    {
     "data": {
      "text/plain": [
       "<Axes: >"
      ]
     },
     "execution_count": 174,
     "metadata": {},
     "output_type": "execute_result"
    },
    {
     "data": {
      "image/png": "[encoded data removed]",
      "text/plain": [
       "<Figure size 640x480 with 1 Axes>"
      ]
     },
     "metadata": {},
     "output_type": "display_data"
    }
   ],
   "source": [
    "sns.barplot(data=mid_df_profit_perc[mid_genres_trust + ['Profit perc']], estimator='median',\n",
    "            errorbar='ci')"
   ]
  },
  {
   "cell_type": "code",
   "execution_count": 175,
   "metadata": {},
   "outputs": [],
   "source": [
    "mid_q1_conf = get_conf_df(mid_df_profit_perc, mid_genres_trust + ['Profit perc'], my_q1)"
   ]
  },
  {
   "cell_type": "code",
   "execution_count": 176,
   "metadata": {},
   "outputs": [
    {
     "name": "stderr",
     "output_type": "stream",
     "text": [
      "c:\\Users\\matte\\anaconda3\\Lib\\site-packages\\seaborn\\_oldcore.py:1498: FutureWarning: is_categorical_dtype is deprecated and will be removed in a future version. Use isinstance(dtype, CategoricalDtype) instead\n",
      "  if pd.api.types.is_categorical_dtype(vector):\n",
      "c:\\Users\\matte\\anaconda3\\Lib\\site-packages\\seaborn\\_oldcore.py:1498: FutureWarning: is_categorical_dtype is deprecated and will be removed in a future version. Use isinstance(dtype, CategoricalDtype) instead\n",
      "  if pd.api.types.is_categorical_dtype(vector):\n",
      "c:\\Users\\matte\\anaconda3\\Lib\\site-packages\\seaborn\\_oldcore.py:1498: FutureWarning: is_categorical_dtype is deprecated and will be removed in a future version. Use isinstance(dtype, CategoricalDtype) instead\n",
      "  if pd.api.types.is_categorical_dtype(vector):\n"
     ]
    },
    {
     "data": {
      "image/png": "[encoded data removed]",
      "text/plain": [
       "<Figure size 640x480 with 1 Axes>"
      ]
     },
     "metadata": {},
     "output_type": "display_data"
    }
   ],
   "source": [
    "ax = sns.barplot(data=mid_df_profit_perc[mid_genres_trust + ['Profit perc']].quantile(0.25).to_frame().reset_index(),\n",
    "            errorbar=None, x='index', y=0.25)\n",
    "\n",
    "for n in range(len(mid_q1_conf[0])):\n",
    "    ax.vlines(x=n,\n",
    "            ymin=mid_q1_conf[1][n], ymax=mid_q1_conf[2][n],\n",
    "            linewidth=2, color='black');"
   ]
  },
  {
   "cell_type": "code",
   "execution_count": 177,
   "metadata": {},
   "outputs": [],
   "source": [
    "mid_q3_conf = get_conf_df(mid_df_profit_perc, mid_genres_trust + ['Profit perc'], my_q3)"
   ]
  },
  {
   "cell_type": "code",
   "execution_count": 178,
   "metadata": {},
   "outputs": [
    {
     "data": {
      "text/html": [
       "<div>\n",
       "<style scoped>\n",
       "    .dataframe tbody tr th:only-of-type {\n",
       "        vertical-align: middle;\n",
       "    }\n",
       "\n",
       "    .dataframe tbody tr th {\n",
       "        vertical-align: top;\n",
       "    }\n",
       "\n",
       "    .dataframe thead th {\n",
       "        text-align: right;\n",
       "    }\n",
       "</style>\n",
       "<table border=\"1\" class=\"dataframe\">\n",
       "  <thead>\n",
       "    <tr style=\"text-align: right;\">\n",
       "      <th></th>\n",
       "      <th>Low band</th>\n",
       "      <th>High band</th>\n",
       "    </tr>\n",
       "  </thead>\n",
       "  <tbody>\n",
       "    <tr>\n",
       "      <th>drama</th>\n",
       "      <td>90.3333</td>\n",
       "      <td>162.6416</td>\n",
       "    </tr>\n",
       "    <tr>\n",
       "      <th>buddy</th>\n",
       "      <td>251.9359</td>\n",
       "      <td>423.6146</td>\n",
       "    </tr>\n",
       "    <tr>\n",
       "      <th>supernatural</th>\n",
       "      <td>203.4773</td>\n",
       "      <td>421.7391</td>\n",
       "    </tr>\n",
       "  </tbody>\n",
       "</table>\n",
       "</div>"
      ],
      "text/plain": [
       "              Low band  High band\n",
       "drama          90.3333   162.6416\n",
       "buddy         251.9359   423.6146\n",
       "supernatural  203.4773   421.7391"
      ]
     },
     "execution_count": 178,
     "metadata": {},
     "output_type": "execute_result"
    }
   ],
   "source": [
    "mid_q3_conf_df = pd.DataFrame(index=mid_q3_conf[0], data={'Low band':mid_q3_conf[1],\n",
    "            'High band':mid_q3_conf[2]})\n",
    "\n",
    "mask1 = mid_q3_conf_df.loc[:,'Low band'] > mid_q3_conf_df.loc['Profit perc', 'High band']\n",
    "mask2 = mid_q3_conf_df.loc[:,'High band'] < mid_q3_conf_df.loc['Profit perc', 'Low band']\n",
    "\n",
    "mid_q3_conf_df[(mask1 | mask2)]"
   ]
  },
  {
   "cell_type": "markdown",
   "metadata": {},
   "source": [
    "#### In this case, the q3 for comedy genre does overlap the q3 for all the genres. So we can't say that the comedy does influece the profit %"
   ]
  },
  {
   "cell_type": "code",
   "execution_count": 179,
   "metadata": {},
   "outputs": [
    {
     "name": "stderr",
     "output_type": "stream",
     "text": [
      "c:\\Users\\matte\\anaconda3\\Lib\\site-packages\\seaborn\\_oldcore.py:1498: FutureWarning: is_categorical_dtype is deprecated and will be removed in a future version. Use isinstance(dtype, CategoricalDtype) instead\n",
      "  if pd.api.types.is_categorical_dtype(vector):\n",
      "c:\\Users\\matte\\anaconda3\\Lib\\site-packages\\seaborn\\_oldcore.py:1498: FutureWarning: is_categorical_dtype is deprecated and will be removed in a future version. Use isinstance(dtype, CategoricalDtype) instead\n",
      "  if pd.api.types.is_categorical_dtype(vector):\n",
      "c:\\Users\\matte\\anaconda3\\Lib\\site-packages\\seaborn\\_oldcore.py:1498: FutureWarning: is_categorical_dtype is deprecated and will be removed in a future version. Use isinstance(dtype, CategoricalDtype) instead\n",
      "  if pd.api.types.is_categorical_dtype(vector):\n"
     ]
    },
    {
     "data": {
      "image/png": "[encoded data removed]",
      "text/plain": [
       "<Figure size 640x480 with 1 Axes>"
      ]
     },
     "metadata": {},
     "output_type": "display_data"
    }
   ],
   "source": [
    "ax = sns.barplot(data=mid_df_profit_perc[mid_genres_trust + ['Profit perc']].quantile(0.75).to_frame().reset_index(),\n",
    "            errorbar=None, x='index', y=0.75)\n",
    "\n",
    "for n in range(len(mid_q3_conf[0])):\n",
    "    ax.vlines(x=n,\n",
    "            ymin=mid_q3_conf[1][n], ymax=mid_q3_conf[2][n],\n",
    "            linewidth=2, color='black');"
   ]
  },
  {
   "cell_type": "code",
   "execution_count": null,
   "metadata": {},
   "outputs": [],
   "source": []
  }
 ],
 "metadata": {
  "kernelspec": {
   "display_name": "base",
   "language": "python",
   "name": "python3"
  },
  "language_info": {
   "codemirror_mode": {
    "name": "ipython",
    "version": 3
   },
   "file_extension": ".py",
   "mimetype": "text/x-python",
   "name": "python",
   "nbconvert_exporter": "python",
   "pygments_lexer": "ipython3",
   "version": "3.11.5"
  }
 },
 "nbformat": 4,
 "nbformat_minor": 2
}
