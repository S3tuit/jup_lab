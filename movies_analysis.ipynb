{
 "cells": [
  {
   "cell_type": "code",
   "execution_count": 152,
   "metadata": {},
   "outputs": [],
   "source": [
    "import pandas as pd\n",
    "import numpy as np \n",
    "import seaborn as sns\n",
    "import matplotlib.pyplot as plt"
   ]
  },
  {
   "cell_type": "code",
   "execution_count": 2,
   "metadata": {},
   "outputs": [],
   "source": [
    "df = pd.read_csv(r'C:\\Users\\matte\\OneDrive\\Desktop\\GitHub\\jup_lab\\movies_2004_2023_cleaned.csv')"
   ]
  },
  {
   "cell_type": "markdown",
   "metadata": {},
   "source": [
    "### Low budget"
   ]
  },
  {
   "cell_type": "code",
   "execution_count": 3,
   "metadata": {},
   "outputs": [],
   "source": [
    "genres = ['action','adventure','animated','biographical','black','buddy','comedy',\n",
    " 'comedy-drama','crime','drama','epic','fantasy','fiction','historical','horror','musical',\n",
    " 'psychological','romantic','science','sports','superhero','supernatural','thriller','war']"
   ]
  },
  {
   "cell_type": "code",
   "execution_count": 4,
   "metadata": {},
   "outputs": [],
   "source": [
    "budget_group = df['Budget group']"
   ]
  },
  {
   "cell_type": "code",
   "execution_count": 5,
   "metadata": {},
   "outputs": [
    {
     "data": {
      "text/plain": [
       "<Axes: >"
      ]
     },
     "execution_count": 5,
     "metadata": {},
     "output_type": "execute_result"
    },
    {
     "data": {
      "image/png": "[encoded data removed]",
      "text/plain": [
       "<Figure size 640x480 with 1 Axes>"
      ]
     },
     "metadata": {},
     "output_type": "display_data"
    }
   ],
   "source": [
    "df['Budget'].plot.box()"
   ]
  },
  {
   "cell_type": "markdown",
   "metadata": {},
   "source": [
    "I'll delete the movies with a too high profit perc. Their success is amazing and hard to replicate."
   ]
  },
  {
   "cell_type": "code",
   "execution_count": 6,
   "metadata": {},
   "outputs": [],
   "source": [
    "def get_limits(df):\n",
    "    print('llimit', str(df.quantile(0.25) - 1.5*(df.quantile(0.75) - df.quantile(0.25))))\n",
    "    print('ulimit', str(df.quantile(0.75) + 1.5*(df.quantile(0.75) - df.quantile(0.25))))\n",
    "    print('Extreme llimit', str(df.quantile(0.25) - 3*(df.quantile(0.75) - df.quantile(0.25))))\n",
    "    print('Extreme ulimit', str(df.quantile(0.75) + 3*(df.quantile(0.75) - df.quantile(0.25))))"
   ]
  },
  {
   "cell_type": "markdown",
   "metadata": {},
   "source": [
    "#### Handling the outliers of Profit perc in low df"
   ]
  },
  {
   "cell_type": "code",
   "execution_count": 7,
   "metadata": {},
   "outputs": [
    {
     "name": "stdout",
     "output_type": "stream",
     "text": [
      "llimit -639.947915\n",
      "ulimit 937.468749\n",
      "Extreme llimit -1231.479164\n",
      "Extreme ulimit 1528.999998\n"
     ]
    }
   ],
   "source": [
    "get_limits(df.loc[budget_group == 'low', 'Profit perc'])"
   ]
  },
  {
   "cell_type": "code",
   "execution_count": 8,
   "metadata": {},
   "outputs": [
    {
     "data": {
      "text/plain": [
       "103"
      ]
     },
     "execution_count": 8,
     "metadata": {},
     "output_type": "execute_result"
    }
   ],
   "source": [
    "(df.loc[budget_group == 'low', 'Profit perc'] > 938).sum()"
   ]
  },
  {
   "cell_type": "code",
   "execution_count": 9,
   "metadata": {},
   "outputs": [
    {
     "data": {
      "text/plain": [
       "(1104, 33)"
      ]
     },
     "execution_count": 9,
     "metadata": {},
     "output_type": "execute_result"
    }
   ],
   "source": [
    "low_df = df.loc[(budget_group == 'low') & (df['Profit perc'] < 938)]\n",
    "low_df.shape"
   ]
  },
  {
   "cell_type": "code",
   "execution_count": 10,
   "metadata": {},
   "outputs": [],
   "source": [
    "def profit_genre(df, genres, col):\n",
    "    for i in genres:\n",
    "        if df[i] == 1:\n",
    "            df[i] = df[col]\n",
    "    return df"
   ]
  },
  {
   "cell_type": "markdown",
   "metadata": {},
   "source": [
    "#### I grab the genres that have at least 15 occurrences"
   ]
  },
  {
   "cell_type": "code",
   "execution_count": 11,
   "metadata": {},
   "outputs": [
    {
     "data": {
      "text/plain": [
       "action            72.0\n",
       "adventure         17.0\n",
       "animated          12.0\n",
       "biographical      62.0\n",
       "black             41.0\n",
       "buddy             13.0\n",
       "comedy           256.0\n",
       "comedy-drama     148.0\n",
       "crime             63.0\n",
       "drama            320.0\n",
       "epic               9.0\n",
       "fantasy           21.0\n",
       "fiction           41.0\n",
       "historical        15.0\n",
       "horror           139.0\n",
       "musical           19.0\n",
       "psychological     53.0\n",
       "romantic         134.0\n",
       "science           43.0\n",
       "sports            24.0\n",
       "superhero          7.0\n",
       "supernatural      52.0\n",
       "thriller         132.0\n",
       "war               18.0\n",
       "dtype: float64"
      ]
     },
     "execution_count": 11,
     "metadata": {},
     "output_type": "execute_result"
    }
   ],
   "source": [
    "low_df[genres].sum(axis=0)"
   ]
  },
  {
   "cell_type": "markdown",
   "metadata": {},
   "source": [
    "# Start analysis"
   ]
  },
  {
   "cell_type": "code",
   "execution_count": 12,
   "metadata": {},
   "outputs": [
    {
     "name": "stdout",
     "output_type": "stream",
     "text": [
      "['action', 'adventure', 'biographical', 'black', 'comedy', 'comedy-drama', 'crime', 'drama', 'fantasy', 'fiction', 'horror', 'musical', 'psychological', 'romantic', 'science', 'sports', 'supernatural', 'thriller', 'war']\n"
     ]
    }
   ],
   "source": [
    "low_genres = low_df[genres].sum(axis=0).loc[low_df[genres].sum(axis=0) > 15].index.tolist()\n",
    "print(low_genres)"
   ]
  },
  {
   "cell_type": "code",
   "execution_count": 16,
   "metadata": {},
   "outputs": [],
   "source": [
    "low_df_profit_perc = low_df[low_genres+ ['Profit perc']].apply(profit_genre, genres=low_genres,\n",
    "                                     col='Profit perc', axis=1)\n",
    "\n",
    "low_df_profit_perc[low_df_profit_perc == 0] = np.nan"
   ]
  },
  {
   "cell_type": "code",
   "execution_count": 108,
   "metadata": {},
   "outputs": [
    {
     "data": {
      "image/png": "[encoded data removed]",
      "text/plain": [
       "<Figure size 640x480 with 1 Axes>"
      ]
     },
     "metadata": {},
     "output_type": "display_data"
    }
   ],
   "source": [
    "ax = low_df_profit_perc.drop(columns='Profit perc').median(axis=0).sort_values().plot.bar()\n",
    "ax.hlines(y=low_df_profit_perc['Profit perc'].mean(),\n",
    "          xmin=-1, xmax=70,\n",
    "          linewidth=1, color='r');"
   ]
  },
  {
   "cell_type": "markdown",
   "metadata": {},
   "source": [
    "As we can see some genres have a very different mean from the mean of the whole group. Yet, it's too early to speak. We have to make sure that this is not something produced by chance alone."
   ]
  },
  {
   "cell_type": "code",
   "execution_count": 121,
   "metadata": {},
   "outputs": [
    {
     "data": {
      "text/html": [
       "<div>\n",
       "<style scoped>\n",
       "    .dataframe tbody tr th:only-of-type {\n",
       "        vertical-align: middle;\n",
       "    }\n",
       "\n",
       "    .dataframe tbody tr th {\n",
       "        vertical-align: top;\n",
       "    }\n",
       "\n",
       "    .dataframe thead th {\n",
       "        text-align: right;\n",
       "    }\n",
       "</style>\n",
       "<table border=\"1\" class=\"dataframe\">\n",
       "  <thead>\n",
       "    <tr style=\"text-align: right;\">\n",
       "      <th></th>\n",
       "      <th>Correlation coef.</th>\n",
       "      <th>P-value</th>\n",
       "    </tr>\n",
       "  </thead>\n",
       "  <tbody>\n",
       "    <tr>\n",
       "      <th>supernatural</th>\n",
       "      <td>0.1586</td>\n",
       "      <td>0.0000</td>\n",
       "    </tr>\n",
       "    <tr>\n",
       "      <th>horror</th>\n",
       "      <td>0.1564</td>\n",
       "      <td>0.0000</td>\n",
       "    </tr>\n",
       "    <tr>\n",
       "      <th>psychological</th>\n",
       "      <td>0.0767</td>\n",
       "      <td>0.0108</td>\n",
       "    </tr>\n",
       "    <tr>\n",
       "      <th>drama</th>\n",
       "      <td>-0.0702</td>\n",
       "      <td>0.0196</td>\n",
       "    </tr>\n",
       "    <tr>\n",
       "      <th>sports</th>\n",
       "      <td>-0.0664</td>\n",
       "      <td>0.0275</td>\n",
       "    </tr>\n",
       "    <tr>\n",
       "      <th>biographical</th>\n",
       "      <td>-0.0649</td>\n",
       "      <td>0.0312</td>\n",
       "    </tr>\n",
       "    <tr>\n",
       "      <th>action</th>\n",
       "      <td>-0.0513</td>\n",
       "      <td>0.0883</td>\n",
       "    </tr>\n",
       "    <tr>\n",
       "      <th>musical</th>\n",
       "      <td>-0.0432</td>\n",
       "      <td>0.1512</td>\n",
       "    </tr>\n",
       "    <tr>\n",
       "      <th>romantic</th>\n",
       "      <td>0.0428</td>\n",
       "      <td>0.1551</td>\n",
       "    </tr>\n",
       "    <tr>\n",
       "      <th>thriller</th>\n",
       "      <td>-0.0342</td>\n",
       "      <td>0.2563</td>\n",
       "    </tr>\n",
       "    <tr>\n",
       "      <th>fantasy</th>\n",
       "      <td>0.0270</td>\n",
       "      <td>0.3707</td>\n",
       "    </tr>\n",
       "    <tr>\n",
       "      <th>crime</th>\n",
       "      <td>-0.0266</td>\n",
       "      <td>0.3768</td>\n",
       "    </tr>\n",
       "    <tr>\n",
       "      <th>black</th>\n",
       "      <td>0.0217</td>\n",
       "      <td>0.4717</td>\n",
       "    </tr>\n",
       "    <tr>\n",
       "      <th>comedy-drama</th>\n",
       "      <td>-0.0125</td>\n",
       "      <td>0.6784</td>\n",
       "    </tr>\n",
       "    <tr>\n",
       "      <th>adventure</th>\n",
       "      <td>-0.0124</td>\n",
       "      <td>0.6799</td>\n",
       "    </tr>\n",
       "    <tr>\n",
       "      <th>science</th>\n",
       "      <td>-0.0101</td>\n",
       "      <td>0.7375</td>\n",
       "    </tr>\n",
       "    <tr>\n",
       "      <th>comedy</th>\n",
       "      <td>0.0066</td>\n",
       "      <td>0.8270</td>\n",
       "    </tr>\n",
       "    <tr>\n",
       "      <th>fiction</th>\n",
       "      <td>-0.0064</td>\n",
       "      <td>0.8308</td>\n",
       "    </tr>\n",
       "    <tr>\n",
       "      <th>war</th>\n",
       "      <td>0.0024</td>\n",
       "      <td>0.9369</td>\n",
       "    </tr>\n",
       "  </tbody>\n",
       "</table>\n",
       "</div>"
      ],
      "text/plain": [
       "               Correlation coef.  P-value\n",
       "supernatural              0.1586   0.0000\n",
       "horror                    0.1564   0.0000\n",
       "psychological             0.0767   0.0108\n",
       "drama                    -0.0702   0.0196\n",
       "sports                   -0.0664   0.0275\n",
       "biographical             -0.0649   0.0312\n",
       "action                   -0.0513   0.0883\n",
       "musical                  -0.0432   0.1512\n",
       "romantic                  0.0428   0.1551\n",
       "thriller                 -0.0342   0.2563\n",
       "fantasy                   0.0270   0.3707\n",
       "crime                    -0.0266   0.3768\n",
       "black                     0.0217   0.4717\n",
       "comedy-drama             -0.0125   0.6784\n",
       "adventure                -0.0124   0.6799\n",
       "science                  -0.0101   0.7375\n",
       "comedy                    0.0066   0.8270\n",
       "fiction                  -0.0064   0.8308\n",
       "war                       0.0024   0.9369"
      ]
     },
     "execution_count": 121,
     "metadata": {},
     "output_type": "execute_result"
    }
   ],
   "source": [
    "pd.set_option('display.float_format',  '{:.4f}'.format)\n",
    "\n",
    "from scipy.stats import pearsonr\n",
    "\n",
    "pearsonr_df_stat= []\n",
    "pearsonr_df_pv= []\n",
    "pearsonr_id = []\n",
    "\n",
    "for genre in low_genres:\n",
    "    values = pearsonr(low_df[genre], low_df['Profit perc'])\n",
    "    pearsonr_df_stat.append(values[0])\n",
    "    pearsonr_df_pv.append(values[1])\n",
    "    pearsonr_id.append(genre)\n",
    "\n",
    "\n",
    "pearsonr_df = pd.DataFrame(index=pearsonr_id, data={'Correlation coef.':pearsonr_df_stat,\n",
    "            'P-value':pearsonr_df_pv}).sort_values('P-value')\n",
    "pearsonr_df"
   ]
  },
  {
   "cell_type": "markdown",
   "metadata": {},
   "source": [
    "The only genres we can trust are the ones with a P-value < 0.05"
   ]
  },
  {
   "cell_type": "code",
   "execution_count": 122,
   "metadata": {},
   "outputs": [
    {
     "data": {
      "text/html": [
       "<div>\n",
       "<style scoped>\n",
       "    .dataframe tbody tr th:only-of-type {\n",
       "        vertical-align: middle;\n",
       "    }\n",
       "\n",
       "    .dataframe tbody tr th {\n",
       "        vertical-align: top;\n",
       "    }\n",
       "\n",
       "    .dataframe thead th {\n",
       "        text-align: right;\n",
       "    }\n",
       "</style>\n",
       "<table border=\"1\" class=\"dataframe\">\n",
       "  <thead>\n",
       "    <tr style=\"text-align: right;\">\n",
       "      <th></th>\n",
       "      <th>Correlation coef.</th>\n",
       "      <th>P-value</th>\n",
       "    </tr>\n",
       "  </thead>\n",
       "  <tbody>\n",
       "    <tr>\n",
       "      <th>supernatural</th>\n",
       "      <td>0.1586</td>\n",
       "      <td>0.0000</td>\n",
       "    </tr>\n",
       "    <tr>\n",
       "      <th>horror</th>\n",
       "      <td>0.1564</td>\n",
       "      <td>0.0000</td>\n",
       "    </tr>\n",
       "    <tr>\n",
       "      <th>psychological</th>\n",
       "      <td>0.0767</td>\n",
       "      <td>0.0108</td>\n",
       "    </tr>\n",
       "    <tr>\n",
       "      <th>drama</th>\n",
       "      <td>-0.0702</td>\n",
       "      <td>0.0196</td>\n",
       "    </tr>\n",
       "    <tr>\n",
       "      <th>sports</th>\n",
       "      <td>-0.0664</td>\n",
       "      <td>0.0275</td>\n",
       "    </tr>\n",
       "    <tr>\n",
       "      <th>biographical</th>\n",
       "      <td>-0.0649</td>\n",
       "      <td>0.0312</td>\n",
       "    </tr>\n",
       "  </tbody>\n",
       "</table>\n",
       "</div>"
      ],
      "text/plain": [
       "               Correlation coef.  P-value\n",
       "supernatural              0.1586   0.0000\n",
       "horror                    0.1564   0.0000\n",
       "psychological             0.0767   0.0108\n",
       "drama                    -0.0702   0.0196\n",
       "sports                   -0.0664   0.0275\n",
       "biographical             -0.0649   0.0312"
      ]
     },
     "execution_count": 122,
     "metadata": {},
     "output_type": "execute_result"
    }
   ],
   "source": [
    "pearsonr_df[pearsonr_df['P-value'] < 0.05]"
   ]
  },
  {
   "cell_type": "code",
   "execution_count": 124,
   "metadata": {},
   "outputs": [],
   "source": [
    "low_genres_trust = pearsonr_df[pearsonr_df['P-value'] < 0.05].index.tolist()"
   ]
  },
  {
   "cell_type": "markdown",
   "metadata": {},
   "source": [
    "I take that a step further. I wanna be more confident that these genres do indeed influece that Profit %... and it's not by chance.\n",
    "\n",
    "So I use bootstrapping and confidence intervals."
   ]
  },
  {
   "cell_type": "code",
   "execution_count": 130,
   "metadata": {},
   "outputs": [
    {
     "data": {
      "text/html": [
       "<div>\n",
       "<style scoped>\n",
       "    .dataframe tbody tr th:only-of-type {\n",
       "        vertical-align: middle;\n",
       "    }\n",
       "\n",
       "    .dataframe tbody tr th {\n",
       "        vertical-align: top;\n",
       "    }\n",
       "\n",
       "    .dataframe thead th {\n",
       "        text-align: right;\n",
       "    }\n",
       "</style>\n",
       "<table border=\"1\" class=\"dataframe\">\n",
       "  <thead>\n",
       "    <tr style=\"text-align: right;\">\n",
       "      <th></th>\n",
       "      <th>Low band</th>\n",
       "      <th>High band</th>\n",
       "    </tr>\n",
       "  </thead>\n",
       "  <tbody>\n",
       "    <tr>\n",
       "      <th>Profit perc</th>\n",
       "      <td>122.4053</td>\n",
       "      <td>150.7354</td>\n",
       "    </tr>\n",
       "    <tr>\n",
       "      <th>supernatural</th>\n",
       "      <td>241.0351</td>\n",
       "      <td>393.8443</td>\n",
       "    </tr>\n",
       "    <tr>\n",
       "      <th>horror</th>\n",
       "      <td>191.7714</td>\n",
       "      <td>287.9736</td>\n",
       "    </tr>\n",
       "    <tr>\n",
       "      <th>psychological</th>\n",
       "      <td>152.1174</td>\n",
       "      <td>302.0253</td>\n",
       "    </tr>\n",
       "    <tr>\n",
       "      <th>drama</th>\n",
       "      <td>83.9947</td>\n",
       "      <td>134.7785</td>\n",
       "    </tr>\n",
       "    <tr>\n",
       "      <th>sports</th>\n",
       "      <td>-19.1220</td>\n",
       "      <td>121.9025</td>\n",
       "    </tr>\n",
       "    <tr>\n",
       "      <th>biographical</th>\n",
       "      <td>28.8718</td>\n",
       "      <td>126.2642</td>\n",
       "    </tr>\n",
       "  </tbody>\n",
       "</table>\n",
       "</div>"
      ],
      "text/plain": [
       "               Low band  High band\n",
       "Profit perc    122.4053   150.7354\n",
       "supernatural   241.0351   393.8443\n",
       "horror         191.7714   287.9736\n",
       "psychological  152.1174   302.0253\n",
       "drama           83.9947   134.7785\n",
       "sports         -19.1220   121.9025\n",
       "biographical    28.8718   126.2642"
      ]
     },
     "execution_count": 130,
     "metadata": {},
     "output_type": "execute_result"
    }
   ],
   "source": [
    "from scipy.stats import bootstrap\n",
    "\n",
    "conf_df_id = []\n",
    "conf_df_low = []\n",
    "conf_df_high = []\n",
    "\n",
    "for genre in ['Profit perc'] + low_genres_trust:\n",
    "    df_to_test = (low_df_profit_perc[genre].dropna(),)\n",
    "    bootstrap_ci = bootstrap(df_to_test,\n",
    "                            np.mean,\n",
    "                            n_resamples=1999,\n",
    "                            confidence_level=0.95,\n",
    "                            random_state=1)\n",
    "\n",
    "    conf_df_id.append(genre)\n",
    "    conf_df_high.append(bootstrap_ci.confidence_interval[1])\n",
    "    conf_df_low.append(bootstrap_ci.confidence_interval[0])\n",
    "\n",
    "\n",
    "conf_df = pd.DataFrame(index=conf_df_id, data={'Low band':conf_df_low,\n",
    "            'High band':conf_df_high})\n",
    "conf_df"
   ]
  },
  {
   "cell_type": "markdown",
   "metadata": {},
   "source": [
    "These are the genres that don't overlap at 95% conficende level. We can trust that these genres do actually influence the profit % of a low budget movie."
   ]
  },
  {
   "cell_type": "code",
   "execution_count": 149,
   "metadata": {},
   "outputs": [
    {
     "data": {
      "text/html": [
       "<div>\n",
       "<style scoped>\n",
       "    .dataframe tbody tr th:only-of-type {\n",
       "        vertical-align: middle;\n",
       "    }\n",
       "\n",
       "    .dataframe tbody tr th {\n",
       "        vertical-align: top;\n",
       "    }\n",
       "\n",
       "    .dataframe thead th {\n",
       "        text-align: right;\n",
       "    }\n",
       "</style>\n",
       "<table border=\"1\" class=\"dataframe\">\n",
       "  <thead>\n",
       "    <tr style=\"text-align: right;\">\n",
       "      <th></th>\n",
       "      <th>Low band</th>\n",
       "      <th>High band</th>\n",
       "    </tr>\n",
       "  </thead>\n",
       "  <tbody>\n",
       "    <tr>\n",
       "      <th>supernatural</th>\n",
       "      <td>241.0351</td>\n",
       "      <td>393.8443</td>\n",
       "    </tr>\n",
       "    <tr>\n",
       "      <th>horror</th>\n",
       "      <td>191.7714</td>\n",
       "      <td>287.9736</td>\n",
       "    </tr>\n",
       "    <tr>\n",
       "      <th>psychological</th>\n",
       "      <td>152.1174</td>\n",
       "      <td>302.0253</td>\n",
       "    </tr>\n",
       "    <tr>\n",
       "      <th>sports</th>\n",
       "      <td>-19.1220</td>\n",
       "      <td>121.9025</td>\n",
       "    </tr>\n",
       "  </tbody>\n",
       "</table>\n",
       "</div>"
      ],
      "text/plain": [
       "               Low band  High band\n",
       "supernatural   241.0351   393.8443\n",
       "horror         191.7714   287.9736\n",
       "psychological  152.1174   302.0253\n",
       "sports         -19.1220   121.9025"
      ]
     },
     "execution_count": 149,
     "metadata": {},
     "output_type": "execute_result"
    }
   ],
   "source": [
    "mask1 = conf_df.loc[:,'Low band'] > conf_df.loc['Profit perc', 'High band']\n",
    "mask2 = conf_df.loc[:,'High band'] < conf_df.loc['Profit perc', 'Low band']\n",
    "\n",
    "low_genres_trust = conf_df[(mask1 | mask2)].index.tolist()\n",
    "conf_df[(mask1 | mask2)]\n"
   ]
  },
  {
   "cell_type": "code",
   "execution_count": 160,
   "metadata": {},
   "outputs": [
    {
     "name": "stderr",
     "output_type": "stream",
     "text": [
      "c:\\Users\\matte\\anaconda3\\Lib\\site-packages\\seaborn\\_oldcore.py:1498: FutureWarning: is_categorical_dtype is deprecated and will be removed in a future version. Use isinstance(dtype, CategoricalDtype) instead\n",
      "  if pd.api.types.is_categorical_dtype(vector):\n",
      "c:\\Users\\matte\\anaconda3\\Lib\\site-packages\\seaborn\\_oldcore.py:1498: FutureWarning: is_categorical_dtype is deprecated and will be removed in a future version. Use isinstance(dtype, CategoricalDtype) instead\n",
      "  if pd.api.types.is_categorical_dtype(vector):\n",
      "c:\\Users\\matte\\anaconda3\\Lib\\site-packages\\seaborn\\_oldcore.py:1498: FutureWarning: is_categorical_dtype is deprecated and will be removed in a future version. Use isinstance(dtype, CategoricalDtype) instead\n",
      "  if pd.api.types.is_categorical_dtype(vector):\n",
      "c:\\Users\\matte\\anaconda3\\Lib\\site-packages\\seaborn\\_oldcore.py:1498: FutureWarning: is_categorical_dtype is deprecated and will be removed in a future version. Use isinstance(dtype, CategoricalDtype) instead\n",
      "  if pd.api.types.is_categorical_dtype(vector):\n",
      "c:\\Users\\matte\\anaconda3\\Lib\\site-packages\\seaborn\\_oldcore.py:1498: FutureWarning: is_categorical_dtype is deprecated and will be removed in a future version. Use isinstance(dtype, CategoricalDtype) instead\n",
      "  if pd.api.types.is_categorical_dtype(vector):\n"
     ]
    },
    {
     "data": {
      "text/plain": [
       "<Axes: >"
      ]
     },
     "execution_count": 160,
     "metadata": {},
     "output_type": "execute_result"
    },
    {
     "data": {
      "image/png": "[encoded data removed]",
      "text/plain": [
       "<Figure size 640x480 with 1 Axes>"
      ]
     },
     "metadata": {},
     "output_type": "display_data"
    }
   ],
   "source": [
    "sns.barplot(data=low_df_profit_perc[low_genres_trust + ['Profit perc']], estimator='mean',\n",
    "            errorbar='ci')"
   ]
  },
  {
   "cell_type": "code",
   "execution_count": null,
   "metadata": {},
   "outputs": [],
   "source": []
  }
 ],
 "metadata": {
  "kernelspec": {
   "display_name": "base",
   "language": "python",
   "name": "python3"
  },
  "language_info": {
   "codemirror_mode": {
    "name": "ipython",
    "version": 3
   },
   "file_extension": ".py",
   "mimetype": "text/x-python",
   "name": "python",
   "nbconvert_exporter": "python",
   "pygments_lexer": "ipython3",
   "version": "3.11.5"
  }
 },
 "nbformat": 4,
 "nbformat_minor": 2
}
