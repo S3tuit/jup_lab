{
 "cells": [
  {
   "cell_type": "code",
   "execution_count": 132,
   "metadata": {},
   "outputs": [],
   "source": [
    "import numpy as np\n",
    "import pandas as pd"
   ]
  },
  {
   "cell_type": "code",
   "execution_count": 133,
   "metadata": {},
   "outputs": [],
   "source": [
    "from bs4 import BeautifulSoup"
   ]
  },
  {
   "cell_type": "code",
   "execution_count": 134,
   "metadata": {},
   "outputs": [],
   "source": [
    "import requests\n",
    "\n",
    "page = requests.get(r'https://www.espncricinfo.com/records/highest-career-batting-average-282910')\n",
    "\n",
    "soup1 = BeautifulSoup(page.content, 'html.parser')\n",
    "soup2 = BeautifulSoup(soup1.prettify(), 'html.parser')"
   ]
  },
  {
   "cell_type": "code",
   "execution_count": 135,
   "metadata": {},
   "outputs": [
    {
     "data": {
      "text/plain": [
       "1"
      ]
     },
     "execution_count": 135,
     "metadata": {},
     "output_type": "execute_result"
    }
   ],
   "source": [
    "tables = soup2.find_all('table')\n",
    "len(tables)"
   ]
  },
  {
   "cell_type": "code",
   "execution_count": 136,
   "metadata": {},
   "outputs": [],
   "source": [
    "table = tables[0]"
   ]
  },
  {
   "cell_type": "code",
   "execution_count": 137,
   "metadata": {},
   "outputs": [],
   "source": [
    "import io\n",
    "\n",
    "table_io = io.StringIO(str(table))\n",
    "df = pd.read_html(table_io)"
   ]
  },
  {
   "cell_type": "code",
   "execution_count": 138,
   "metadata": {},
   "outputs": [],
   "source": [
    "df = pd.DataFrame(df[0])"
   ]
  },
  {
   "cell_type": "code",
   "execution_count": 139,
   "metadata": {},
   "outputs": [
    {
     "data": {
      "text/html": [
       "<div>\n",
       "<style scoped>\n",
       "    .dataframe tbody tr th:only-of-type {\n",
       "        vertical-align: middle;\n",
       "    }\n",
       "\n",
       "    .dataframe tbody tr th {\n",
       "        vertical-align: top;\n",
       "    }\n",
       "\n",
       "    .dataframe thead th {\n",
       "        text-align: right;\n",
       "    }\n",
       "</style>\n",
       "<table border=\"1\" class=\"dataframe\">\n",
       "  <thead>\n",
       "    <tr style=\"text-align: right;\">\n",
       "      <th></th>\n",
       "      <th>Player</th>\n",
       "      <th>Span</th>\n",
       "      <th>Mat</th>\n",
       "      <th>Inns</th>\n",
       "      <th>NO</th>\n",
       "      <th>Runs</th>\n",
       "      <th>HS</th>\n",
       "      <th>Ave</th>\n",
       "      <th>BF</th>\n",
       "      <th>SR</th>\n",
       "      <th>100</th>\n",
       "      <th>50</th>\n",
       "      <th>0</th>\n",
       "      <th>4s</th>\n",
       "      <th>6s</th>\n",
       "    </tr>\n",
       "  </thead>\n",
       "  <tbody>\n",
       "    <tr>\n",
       "      <th>0</th>\n",
       "      <td>DG Bradman (AUS)</td>\n",
       "      <td>1928-1948</td>\n",
       "      <td>52</td>\n",
       "      <td>80</td>\n",
       "      <td>10</td>\n",
       "      <td>6996</td>\n",
       "      <td>334</td>\n",
       "      <td>99.94</td>\n",
       "      <td>9800+</td>\n",
       "      <td>58.60</td>\n",
       "      <td>29</td>\n",
       "      <td>13</td>\n",
       "      <td>7</td>\n",
       "      <td>626+</td>\n",
       "      <td>6</td>\n",
       "    </tr>\n",
       "    <tr>\n",
       "      <th>1</th>\n",
       "      <td>HC Brook (ENG)</td>\n",
       "      <td>2022-2023</td>\n",
       "      <td>12</td>\n",
       "      <td>20</td>\n",
       "      <td>1</td>\n",
       "      <td>1181</td>\n",
       "      <td>186</td>\n",
       "      <td>62.15</td>\n",
       "      <td>1287</td>\n",
       "      <td>91.76</td>\n",
       "      <td>4</td>\n",
       "      <td>7</td>\n",
       "      <td>1</td>\n",
       "      <td>141</td>\n",
       "      <td>23</td>\n",
       "    </tr>\n",
       "    <tr>\n",
       "      <th>2</th>\n",
       "      <td>AC Voges (AUS)</td>\n",
       "      <td>2015-2016</td>\n",
       "      <td>20</td>\n",
       "      <td>31</td>\n",
       "      <td>7</td>\n",
       "      <td>1485</td>\n",
       "      <td>269*</td>\n",
       "      <td>61.87</td>\n",
       "      <td>2667</td>\n",
       "      <td>55.68</td>\n",
       "      <td>5</td>\n",
       "      <td>4</td>\n",
       "      <td>2</td>\n",
       "      <td>186</td>\n",
       "      <td>5</td>\n",
       "    </tr>\n",
       "    <tr>\n",
       "      <th>3</th>\n",
       "      <td>RG Pollock (SA)</td>\n",
       "      <td>1963-1970</td>\n",
       "      <td>23</td>\n",
       "      <td>41</td>\n",
       "      <td>4</td>\n",
       "      <td>2256</td>\n",
       "      <td>274</td>\n",
       "      <td>60.97</td>\n",
       "      <td>1707+</td>\n",
       "      <td>54.48</td>\n",
       "      <td>7</td>\n",
       "      <td>11</td>\n",
       "      <td>1</td>\n",
       "      <td>246+</td>\n",
       "      <td>11</td>\n",
       "    </tr>\n",
       "    <tr>\n",
       "      <th>4</th>\n",
       "      <td>GA Headley (WI)</td>\n",
       "      <td>1930-1954</td>\n",
       "      <td>22</td>\n",
       "      <td>40</td>\n",
       "      <td>4</td>\n",
       "      <td>2190</td>\n",
       "      <td>270*</td>\n",
       "      <td>60.83</td>\n",
       "      <td>416+</td>\n",
       "      <td>56.00</td>\n",
       "      <td>10</td>\n",
       "      <td>5</td>\n",
       "      <td>2</td>\n",
       "      <td>104+</td>\n",
       "      <td>1</td>\n",
       "    </tr>\n",
       "  </tbody>\n",
       "</table>\n",
       "</div>"
      ],
      "text/plain": [
       "             Player       Span  Mat  Inns  NO  Runs    HS    Ave     BF  \\\n",
       "0  DG Bradman (AUS)  1928-1948   52    80  10  6996   334  99.94  9800+   \n",
       "1    HC Brook (ENG)  2022-2023   12    20   1  1181   186  62.15   1287   \n",
       "2    AC Voges (AUS)  2015-2016   20    31   7  1485  269*  61.87   2667   \n",
       "3   RG Pollock (SA)  1963-1970   23    41   4  2256   274  60.97  1707+   \n",
       "4   GA Headley (WI)  1930-1954   22    40   4  2190  270*  60.83   416+   \n",
       "\n",
       "      SR  100  50  0    4s  6s  \n",
       "0  58.60   29  13  7  626+   6  \n",
       "1  91.76    4   7  1   141  23  \n",
       "2  55.68    5   4  2   186   5  \n",
       "3  54.48    7  11  1  246+  11  \n",
       "4  56.00   10   5  2  104+   1  "
      ]
     },
     "execution_count": 139,
     "metadata": {},
     "output_type": "execute_result"
    }
   ],
   "source": [
    "df.head()"
   ]
  },
  {
   "cell_type": "code",
   "execution_count": 140,
   "metadata": {},
   "outputs": [
    {
     "data": {
      "text/html": [
       "<div>\n",
       "<style scoped>\n",
       "    .dataframe tbody tr th:only-of-type {\n",
       "        vertical-align: middle;\n",
       "    }\n",
       "\n",
       "    .dataframe tbody tr th {\n",
       "        vertical-align: top;\n",
       "    }\n",
       "\n",
       "    .dataframe thead th {\n",
       "        text-align: right;\n",
       "    }\n",
       "</style>\n",
       "<table border=\"1\" class=\"dataframe\">\n",
       "  <thead>\n",
       "    <tr style=\"text-align: right;\">\n",
       "      <th></th>\n",
       "      <th>Player</th>\n",
       "      <th>Span</th>\n",
       "      <th>matches_played</th>\n",
       "      <th>Inns</th>\n",
       "      <th>not_out</th>\n",
       "      <th>runs_scored</th>\n",
       "      <th>highest_inns_score</th>\n",
       "      <th>batting_average</th>\n",
       "      <th>balls_faced</th>\n",
       "      <th>batting_strike_rate</th>\n",
       "      <th>hundreds_scored</th>\n",
       "      <th>fifties_scored</th>\n",
       "      <th>ducks_scored</th>\n",
       "      <th>boundary_fours</th>\n",
       "      <th>boundary_sixes</th>\n",
       "    </tr>\n",
       "  </thead>\n",
       "  <tbody>\n",
       "    <tr>\n",
       "      <th>0</th>\n",
       "      <td>DG Bradman (AUS)</td>\n",
       "      <td>1928-1948</td>\n",
       "      <td>52</td>\n",
       "      <td>80</td>\n",
       "      <td>10</td>\n",
       "      <td>6996</td>\n",
       "      <td>334</td>\n",
       "      <td>99.94</td>\n",
       "      <td>9800+</td>\n",
       "      <td>58.60</td>\n",
       "      <td>29</td>\n",
       "      <td>13</td>\n",
       "      <td>7</td>\n",
       "      <td>626+</td>\n",
       "      <td>6</td>\n",
       "    </tr>\n",
       "    <tr>\n",
       "      <th>1</th>\n",
       "      <td>HC Brook (ENG)</td>\n",
       "      <td>2022-2023</td>\n",
       "      <td>12</td>\n",
       "      <td>20</td>\n",
       "      <td>1</td>\n",
       "      <td>1181</td>\n",
       "      <td>186</td>\n",
       "      <td>62.15</td>\n",
       "      <td>1287</td>\n",
       "      <td>91.76</td>\n",
       "      <td>4</td>\n",
       "      <td>7</td>\n",
       "      <td>1</td>\n",
       "      <td>141</td>\n",
       "      <td>23</td>\n",
       "    </tr>\n",
       "    <tr>\n",
       "      <th>2</th>\n",
       "      <td>AC Voges (AUS)</td>\n",
       "      <td>2015-2016</td>\n",
       "      <td>20</td>\n",
       "      <td>31</td>\n",
       "      <td>7</td>\n",
       "      <td>1485</td>\n",
       "      <td>269*</td>\n",
       "      <td>61.87</td>\n",
       "      <td>2667</td>\n",
       "      <td>55.68</td>\n",
       "      <td>5</td>\n",
       "      <td>4</td>\n",
       "      <td>2</td>\n",
       "      <td>186</td>\n",
       "      <td>5</td>\n",
       "    </tr>\n",
       "    <tr>\n",
       "      <th>3</th>\n",
       "      <td>RG Pollock (SA)</td>\n",
       "      <td>1963-1970</td>\n",
       "      <td>23</td>\n",
       "      <td>41</td>\n",
       "      <td>4</td>\n",
       "      <td>2256</td>\n",
       "      <td>274</td>\n",
       "      <td>60.97</td>\n",
       "      <td>1707+</td>\n",
       "      <td>54.48</td>\n",
       "      <td>7</td>\n",
       "      <td>11</td>\n",
       "      <td>1</td>\n",
       "      <td>246+</td>\n",
       "      <td>11</td>\n",
       "    </tr>\n",
       "    <tr>\n",
       "      <th>4</th>\n",
       "      <td>GA Headley (WI)</td>\n",
       "      <td>1930-1954</td>\n",
       "      <td>22</td>\n",
       "      <td>40</td>\n",
       "      <td>4</td>\n",
       "      <td>2190</td>\n",
       "      <td>270*</td>\n",
       "      <td>60.83</td>\n",
       "      <td>416+</td>\n",
       "      <td>56.00</td>\n",
       "      <td>10</td>\n",
       "      <td>5</td>\n",
       "      <td>2</td>\n",
       "      <td>104+</td>\n",
       "      <td>1</td>\n",
       "    </tr>\n",
       "  </tbody>\n",
       "</table>\n",
       "</div>"
      ],
      "text/plain": [
       "             Player       Span  matches_played  Inns  not_out  runs_scored  \\\n",
       "0  DG Bradman (AUS)  1928-1948              52    80       10         6996   \n",
       "1    HC Brook (ENG)  2022-2023              12    20        1         1181   \n",
       "2    AC Voges (AUS)  2015-2016              20    31        7         1485   \n",
       "3   RG Pollock (SA)  1963-1970              23    41        4         2256   \n",
       "4   GA Headley (WI)  1930-1954              22    40        4         2190   \n",
       "\n",
       "  highest_inns_score  batting_average balls_faced batting_strike_rate  \\\n",
       "0                334            99.94       9800+               58.60   \n",
       "1                186            62.15        1287               91.76   \n",
       "2               269*            61.87        2667               55.68   \n",
       "3                274            60.97       1707+               54.48   \n",
       "4               270*            60.83        416+               56.00   \n",
       "\n",
       "   hundreds_scored  fifties_scored  ducks_scored boundary_fours boundary_sixes  \n",
       "0               29              13             7           626+              6  \n",
       "1                4               7             1            141             23  \n",
       "2                5               4             2            186              5  \n",
       "3                7              11             1           246+             11  \n",
       "4               10               5             2           104+              1  "
      ]
     },
     "execution_count": 140,
     "metadata": {},
     "output_type": "execute_result"
    }
   ],
   "source": [
    "df = df.rename(columns={'NO':'not_out', 'HS':'highest_inns_score',\n",
    "                         'Mat':'matches_played', 'Ave':'batting_average',\n",
    "                         'Runs':'runs_scored', 'SR':'batting_strike_rate',\n",
    "                         '100':'hundreds_scored', '50':'fifties_scored',\n",
    "                         '0':'ducks_scored', '4s':'boundary_fours',\n",
    "                         '6s':'boundary_sixes', 'BF':'balls_faced'\n",
    "                         })\n",
    "\n",
    "df.head()"
   ]
  },
  {
   "cell_type": "code",
   "execution_count": 141,
   "metadata": {},
   "outputs": [
    {
     "data": {
      "text/plain": [
       "Player                 0\n",
       "Span                   0\n",
       "matches_played         0\n",
       "Inns                   0\n",
       "not_out                0\n",
       "runs_scored            0\n",
       "highest_inns_score     0\n",
       "batting_average        0\n",
       "balls_faced            0\n",
       "batting_strike_rate    0\n",
       "hundreds_scored        0\n",
       "fifties_scored         0\n",
       "ducks_scored           0\n",
       "boundary_fours         0\n",
       "boundary_sixes         0\n",
       "dtype: int64"
      ]
     },
     "execution_count": 141,
     "metadata": {},
     "output_type": "execute_result"
    }
   ],
   "source": [
    "df.isna().sum()"
   ]
  },
  {
   "cell_type": "code",
   "execution_count": 142,
   "metadata": {},
   "outputs": [
    {
     "data": {
      "text/plain": [
       "False"
      ]
     },
     "execution_count": 142,
     "metadata": {},
     "output_type": "execute_result"
    }
   ],
   "source": [
    "df['Player'].duplicated().any()"
   ]
  },
  {
   "cell_type": "code",
   "execution_count": 143,
   "metadata": {},
   "outputs": [
    {
     "data": {
      "text/plain": [
       "Span\n",
       "9    63\n",
       "Name: count, dtype: int64"
      ]
     },
     "execution_count": 143,
     "metadata": {},
     "output_type": "execute_result"
    }
   ],
   "source": [
    "df['Span'].str.len().value_counts()"
   ]
  },
  {
   "cell_type": "code",
   "execution_count": 144,
   "metadata": {},
   "outputs": [
    {
     "data": {
      "text/plain": [
       "0    [1928, 1948]\n",
       "1    [2022, 2023]\n",
       "2    [2015, 2016]\n",
       "3    [1963, 1970]\n",
       "4    [1930, 1954]\n",
       "Name: Span, dtype: object"
      ]
     },
     "execution_count": 144,
     "metadata": {},
     "output_type": "execute_result"
    }
   ],
   "source": [
    "span_series = df['Span'].str.split('-')\n",
    "span_series[:5]"
   ]
  },
  {
   "cell_type": "code",
   "execution_count": 145,
   "metadata": {},
   "outputs": [
    {
     "data": {
      "text/html": [
       "<div>\n",
       "<style scoped>\n",
       "    .dataframe tbody tr th:only-of-type {\n",
       "        vertical-align: middle;\n",
       "    }\n",
       "\n",
       "    .dataframe tbody tr th {\n",
       "        vertical-align: top;\n",
       "    }\n",
       "\n",
       "    .dataframe thead th {\n",
       "        text-align: right;\n",
       "    }\n",
       "</style>\n",
       "<table border=\"1\" class=\"dataframe\">\n",
       "  <thead>\n",
       "    <tr style=\"text-align: right;\">\n",
       "      <th></th>\n",
       "      <th>Player</th>\n",
       "      <th>Span</th>\n",
       "      <th>matches_played</th>\n",
       "      <th>Inns</th>\n",
       "      <th>not_out</th>\n",
       "      <th>runs_scored</th>\n",
       "      <th>highest_inns_score</th>\n",
       "      <th>batting_average</th>\n",
       "      <th>balls_faced</th>\n",
       "      <th>batting_strike_rate</th>\n",
       "      <th>hundreds_scored</th>\n",
       "      <th>fifties_scored</th>\n",
       "      <th>ducks_scored</th>\n",
       "      <th>boundary_fours</th>\n",
       "      <th>boundary_sixes</th>\n",
       "      <th>start_career</th>\n",
       "      <th>end_career</th>\n",
       "    </tr>\n",
       "  </thead>\n",
       "  <tbody>\n",
       "    <tr>\n",
       "      <th>0</th>\n",
       "      <td>DG Bradman (AUS)</td>\n",
       "      <td>1928-1948</td>\n",
       "      <td>52</td>\n",
       "      <td>80</td>\n",
       "      <td>10</td>\n",
       "      <td>6996</td>\n",
       "      <td>334</td>\n",
       "      <td>99.94</td>\n",
       "      <td>9800+</td>\n",
       "      <td>58.60</td>\n",
       "      <td>29</td>\n",
       "      <td>13</td>\n",
       "      <td>7</td>\n",
       "      <td>626+</td>\n",
       "      <td>6</td>\n",
       "      <td>1928</td>\n",
       "      <td>1948</td>\n",
       "    </tr>\n",
       "    <tr>\n",
       "      <th>1</th>\n",
       "      <td>HC Brook (ENG)</td>\n",
       "      <td>2022-2023</td>\n",
       "      <td>12</td>\n",
       "      <td>20</td>\n",
       "      <td>1</td>\n",
       "      <td>1181</td>\n",
       "      <td>186</td>\n",
       "      <td>62.15</td>\n",
       "      <td>1287</td>\n",
       "      <td>91.76</td>\n",
       "      <td>4</td>\n",
       "      <td>7</td>\n",
       "      <td>1</td>\n",
       "      <td>141</td>\n",
       "      <td>23</td>\n",
       "      <td>2022</td>\n",
       "      <td>2023</td>\n",
       "    </tr>\n",
       "    <tr>\n",
       "      <th>2</th>\n",
       "      <td>AC Voges (AUS)</td>\n",
       "      <td>2015-2016</td>\n",
       "      <td>20</td>\n",
       "      <td>31</td>\n",
       "      <td>7</td>\n",
       "      <td>1485</td>\n",
       "      <td>269*</td>\n",
       "      <td>61.87</td>\n",
       "      <td>2667</td>\n",
       "      <td>55.68</td>\n",
       "      <td>5</td>\n",
       "      <td>4</td>\n",
       "      <td>2</td>\n",
       "      <td>186</td>\n",
       "      <td>5</td>\n",
       "      <td>2015</td>\n",
       "      <td>2016</td>\n",
       "    </tr>\n",
       "    <tr>\n",
       "      <th>3</th>\n",
       "      <td>RG Pollock (SA)</td>\n",
       "      <td>1963-1970</td>\n",
       "      <td>23</td>\n",
       "      <td>41</td>\n",
       "      <td>4</td>\n",
       "      <td>2256</td>\n",
       "      <td>274</td>\n",
       "      <td>60.97</td>\n",
       "      <td>1707+</td>\n",
       "      <td>54.48</td>\n",
       "      <td>7</td>\n",
       "      <td>11</td>\n",
       "      <td>1</td>\n",
       "      <td>246+</td>\n",
       "      <td>11</td>\n",
       "      <td>1963</td>\n",
       "      <td>1970</td>\n",
       "    </tr>\n",
       "    <tr>\n",
       "      <th>4</th>\n",
       "      <td>GA Headley (WI)</td>\n",
       "      <td>1930-1954</td>\n",
       "      <td>22</td>\n",
       "      <td>40</td>\n",
       "      <td>4</td>\n",
       "      <td>2190</td>\n",
       "      <td>270*</td>\n",
       "      <td>60.83</td>\n",
       "      <td>416+</td>\n",
       "      <td>56.00</td>\n",
       "      <td>10</td>\n",
       "      <td>5</td>\n",
       "      <td>2</td>\n",
       "      <td>104+</td>\n",
       "      <td>1</td>\n",
       "      <td>1930</td>\n",
       "      <td>1954</td>\n",
       "    </tr>\n",
       "  </tbody>\n",
       "</table>\n",
       "</div>"
      ],
      "text/plain": [
       "             Player       Span  matches_played  Inns  not_out  runs_scored  \\\n",
       "0  DG Bradman (AUS)  1928-1948              52    80       10         6996   \n",
       "1    HC Brook (ENG)  2022-2023              12    20        1         1181   \n",
       "2    AC Voges (AUS)  2015-2016              20    31        7         1485   \n",
       "3   RG Pollock (SA)  1963-1970              23    41        4         2256   \n",
       "4   GA Headley (WI)  1930-1954              22    40        4         2190   \n",
       "\n",
       "  highest_inns_score  batting_average balls_faced batting_strike_rate  \\\n",
       "0                334            99.94       9800+               58.60   \n",
       "1                186            62.15        1287               91.76   \n",
       "2               269*            61.87        2667               55.68   \n",
       "3                274            60.97       1707+               54.48   \n",
       "4               270*            60.83        416+               56.00   \n",
       "\n",
       "   hundreds_scored  fifties_scored  ducks_scored boundary_fours  \\\n",
       "0               29              13             7           626+   \n",
       "1                4               7             1            141   \n",
       "2                5               4             2            186   \n",
       "3                7              11             1           246+   \n",
       "4               10               5             2           104+   \n",
       "\n",
       "  boundary_sixes start_career end_career  \n",
       "0              6         1928       1948  \n",
       "1             23         2022       2023  \n",
       "2              5         2015       2016  \n",
       "3             11         1963       1970  \n",
       "4              1         1930       1954  "
      ]
     },
     "execution_count": 145,
     "metadata": {},
     "output_type": "execute_result"
    }
   ],
   "source": [
    "def get_start(x):\n",
    "    return x[0]\n",
    "\n",
    "def get_end(x):\n",
    "    return x[1]\n",
    "\n",
    "df['start_career'] = span_series.apply(get_start)\n",
    "df['end_career'] = span_series.apply(get_end)\n",
    "df.head()"
   ]
  },
  {
   "cell_type": "code",
   "execution_count": 146,
   "metadata": {},
   "outputs": [],
   "source": [
    "df.drop(columns='Span', inplace=True)"
   ]
  },
  {
   "cell_type": "code",
   "execution_count": 147,
   "metadata": {},
   "outputs": [
    {
     "data": {
      "text/plain": [
       "Player\n",
       "False    63\n",
       "Name: count, dtype: int64"
      ]
     },
     "execution_count": 147,
     "metadata": {},
     "output_type": "execute_result"
    }
   ],
   "source": [
    "(df['Player'].str.find('(') == -1).value_counts()"
   ]
  },
  {
   "cell_type": "code",
   "execution_count": 148,
   "metadata": {},
   "outputs": [
    {
     "data": {
      "text/html": [
       "<div>\n",
       "<style scoped>\n",
       "    .dataframe tbody tr th:only-of-type {\n",
       "        vertical-align: middle;\n",
       "    }\n",
       "\n",
       "    .dataframe tbody tr th {\n",
       "        vertical-align: top;\n",
       "    }\n",
       "\n",
       "    .dataframe thead th {\n",
       "        text-align: right;\n",
       "    }\n",
       "</style>\n",
       "<table border=\"1\" class=\"dataframe\">\n",
       "  <thead>\n",
       "    <tr style=\"text-align: right;\">\n",
       "      <th></th>\n",
       "      <th>Player</th>\n",
       "      <th>matches_played</th>\n",
       "      <th>Inns</th>\n",
       "      <th>not_out</th>\n",
       "      <th>runs_scored</th>\n",
       "      <th>highest_inns_score</th>\n",
       "      <th>batting_average</th>\n",
       "      <th>balls_faced</th>\n",
       "      <th>batting_strike_rate</th>\n",
       "      <th>hundreds_scored</th>\n",
       "      <th>fifties_scored</th>\n",
       "      <th>ducks_scored</th>\n",
       "      <th>boundary_fours</th>\n",
       "      <th>boundary_sixes</th>\n",
       "      <th>start_career</th>\n",
       "      <th>end_career</th>\n",
       "      <th>nation</th>\n",
       "    </tr>\n",
       "  </thead>\n",
       "  <tbody>\n",
       "    <tr>\n",
       "      <th>0</th>\n",
       "      <td>DG Bradman (AUS)</td>\n",
       "      <td>52</td>\n",
       "      <td>80</td>\n",
       "      <td>10</td>\n",
       "      <td>6996</td>\n",
       "      <td>334</td>\n",
       "      <td>99.94</td>\n",
       "      <td>9800+</td>\n",
       "      <td>58.60</td>\n",
       "      <td>29</td>\n",
       "      <td>13</td>\n",
       "      <td>7</td>\n",
       "      <td>626+</td>\n",
       "      <td>6</td>\n",
       "      <td>1928</td>\n",
       "      <td>1948</td>\n",
       "      <td>AUS</td>\n",
       "    </tr>\n",
       "    <tr>\n",
       "      <th>1</th>\n",
       "      <td>HC Brook (ENG)</td>\n",
       "      <td>12</td>\n",
       "      <td>20</td>\n",
       "      <td>1</td>\n",
       "      <td>1181</td>\n",
       "      <td>186</td>\n",
       "      <td>62.15</td>\n",
       "      <td>1287</td>\n",
       "      <td>91.76</td>\n",
       "      <td>4</td>\n",
       "      <td>7</td>\n",
       "      <td>1</td>\n",
       "      <td>141</td>\n",
       "      <td>23</td>\n",
       "      <td>2022</td>\n",
       "      <td>2023</td>\n",
       "      <td>ENG</td>\n",
       "    </tr>\n",
       "    <tr>\n",
       "      <th>2</th>\n",
       "      <td>AC Voges (AUS)</td>\n",
       "      <td>20</td>\n",
       "      <td>31</td>\n",
       "      <td>7</td>\n",
       "      <td>1485</td>\n",
       "      <td>269*</td>\n",
       "      <td>61.87</td>\n",
       "      <td>2667</td>\n",
       "      <td>55.68</td>\n",
       "      <td>5</td>\n",
       "      <td>4</td>\n",
       "      <td>2</td>\n",
       "      <td>186</td>\n",
       "      <td>5</td>\n",
       "      <td>2015</td>\n",
       "      <td>2016</td>\n",
       "      <td>AUS</td>\n",
       "    </tr>\n",
       "    <tr>\n",
       "      <th>3</th>\n",
       "      <td>RG Pollock (SA)</td>\n",
       "      <td>23</td>\n",
       "      <td>41</td>\n",
       "      <td>4</td>\n",
       "      <td>2256</td>\n",
       "      <td>274</td>\n",
       "      <td>60.97</td>\n",
       "      <td>1707+</td>\n",
       "      <td>54.48</td>\n",
       "      <td>7</td>\n",
       "      <td>11</td>\n",
       "      <td>1</td>\n",
       "      <td>246+</td>\n",
       "      <td>11</td>\n",
       "      <td>1963</td>\n",
       "      <td>1970</td>\n",
       "      <td>SA</td>\n",
       "    </tr>\n",
       "    <tr>\n",
       "      <th>4</th>\n",
       "      <td>GA Headley (WI)</td>\n",
       "      <td>22</td>\n",
       "      <td>40</td>\n",
       "      <td>4</td>\n",
       "      <td>2190</td>\n",
       "      <td>270*</td>\n",
       "      <td>60.83</td>\n",
       "      <td>416+</td>\n",
       "      <td>56.00</td>\n",
       "      <td>10</td>\n",
       "      <td>5</td>\n",
       "      <td>2</td>\n",
       "      <td>104+</td>\n",
       "      <td>1</td>\n",
       "      <td>1930</td>\n",
       "      <td>1954</td>\n",
       "      <td>WI</td>\n",
       "    </tr>\n",
       "  </tbody>\n",
       "</table>\n",
       "</div>"
      ],
      "text/plain": [
       "             Player  matches_played  Inns  not_out  runs_scored  \\\n",
       "0  DG Bradman (AUS)              52    80       10         6996   \n",
       "1    HC Brook (ENG)              12    20        1         1181   \n",
       "2    AC Voges (AUS)              20    31        7         1485   \n",
       "3   RG Pollock (SA)              23    41        4         2256   \n",
       "4   GA Headley (WI)              22    40        4         2190   \n",
       "\n",
       "  highest_inns_score  batting_average balls_faced batting_strike_rate  \\\n",
       "0                334            99.94       9800+               58.60   \n",
       "1                186            62.15        1287               91.76   \n",
       "2               269*            61.87        2667               55.68   \n",
       "3                274            60.97       1707+               54.48   \n",
       "4               270*            60.83        416+               56.00   \n",
       "\n",
       "   hundreds_scored  fifties_scored  ducks_scored boundary_fours  \\\n",
       "0               29              13             7           626+   \n",
       "1                4               7             1            141   \n",
       "2                5               4             2            186   \n",
       "3                7              11             1           246+   \n",
       "4               10               5             2           104+   \n",
       "\n",
       "  boundary_sixes start_career end_career nation  \n",
       "0              6         1928       1948    AUS  \n",
       "1             23         2022       2023    ENG  \n",
       "2              5         2015       2016    AUS  \n",
       "3             11         1963       1970     SA  \n",
       "4              1         1930       1954     WI  "
      ]
     },
     "execution_count": 148,
     "metadata": {},
     "output_type": "execute_result"
    }
   ],
   "source": [
    "import re\n",
    "\n",
    "pattern = r'\\((.+)\\)'\n",
    "\n",
    "df['nation'] = df['Player'].str.findall(pattern, flags=re.IGNORECASE).str.get(0)\n",
    "df.head()"
   ]
  },
  {
   "cell_type": "code",
   "execution_count": 149,
   "metadata": {},
   "outputs": [
    {
     "data": {
      "text/html": [
       "<div>\n",
       "<style scoped>\n",
       "    .dataframe tbody tr th:only-of-type {\n",
       "        vertical-align: middle;\n",
       "    }\n",
       "\n",
       "    .dataframe tbody tr th {\n",
       "        vertical-align: top;\n",
       "    }\n",
       "\n",
       "    .dataframe thead th {\n",
       "        text-align: right;\n",
       "    }\n",
       "</style>\n",
       "<table border=\"1\" class=\"dataframe\">\n",
       "  <thead>\n",
       "    <tr style=\"text-align: right;\">\n",
       "      <th></th>\n",
       "      <th>Player</th>\n",
       "      <th>matches_played</th>\n",
       "      <th>Inns</th>\n",
       "      <th>not_out</th>\n",
       "      <th>runs_scored</th>\n",
       "      <th>highest_inns_score</th>\n",
       "      <th>batting_average</th>\n",
       "      <th>balls_faced</th>\n",
       "      <th>batting_strike_rate</th>\n",
       "      <th>hundreds_scored</th>\n",
       "      <th>fifties_scored</th>\n",
       "      <th>ducks_scored</th>\n",
       "      <th>boundary_fours</th>\n",
       "      <th>boundary_sixes</th>\n",
       "      <th>start_career</th>\n",
       "      <th>end_career</th>\n",
       "      <th>nation</th>\n",
       "    </tr>\n",
       "  </thead>\n",
       "  <tbody>\n",
       "    <tr>\n",
       "      <th>60</th>\n",
       "      <td>WH Ponsford</td>\n",
       "      <td>29</td>\n",
       "      <td>48</td>\n",
       "      <td>4</td>\n",
       "      <td>2122</td>\n",
       "      <td>266</td>\n",
       "      <td>48.22</td>\n",
       "      <td>3118+</td>\n",
       "      <td>44.77</td>\n",
       "      <td>7</td>\n",
       "      <td>6</td>\n",
       "      <td>1</td>\n",
       "      <td>119+</td>\n",
       "      <td>0</td>\n",
       "      <td>1924</td>\n",
       "      <td>1934</td>\n",
       "      <td>AUS</td>\n",
       "    </tr>\n",
       "    <tr>\n",
       "      <th>61</th>\n",
       "      <td>SJ McCabe</td>\n",
       "      <td>39</td>\n",
       "      <td>62</td>\n",
       "      <td>5</td>\n",
       "      <td>2748</td>\n",
       "      <td>232</td>\n",
       "      <td>48.21</td>\n",
       "      <td>3217+</td>\n",
       "      <td>60.02</td>\n",
       "      <td>6</td>\n",
       "      <td>13</td>\n",
       "      <td>4</td>\n",
       "      <td>241+</td>\n",
       "      <td>5+</td>\n",
       "      <td>1930</td>\n",
       "      <td>1938</td>\n",
       "      <td>AUS</td>\n",
       "    </tr>\n",
       "    <tr>\n",
       "      <th>62</th>\n",
       "      <td>DR Jardine</td>\n",
       "      <td>22</td>\n",
       "      <td>33</td>\n",
       "      <td>6</td>\n",
       "      <td>1296</td>\n",
       "      <td>127</td>\n",
       "      <td>48.00</td>\n",
       "      <td>2110+</td>\n",
       "      <td>25.59</td>\n",
       "      <td>1</td>\n",
       "      <td>10</td>\n",
       "      <td>2</td>\n",
       "      <td>53+</td>\n",
       "      <td>0</td>\n",
       "      <td>1928</td>\n",
       "      <td>1934</td>\n",
       "      <td>ENG</td>\n",
       "    </tr>\n",
       "  </tbody>\n",
       "</table>\n",
       "</div>"
      ],
      "text/plain": [
       "         Player  matches_played  Inns  not_out  runs_scored  \\\n",
       "60  WH Ponsford              29    48        4         2122   \n",
       "61    SJ McCabe              39    62        5         2748   \n",
       "62   DR Jardine              22    33        6         1296   \n",
       "\n",
       "   highest_inns_score  batting_average balls_faced batting_strike_rate  \\\n",
       "60                266            48.22       3118+               44.77   \n",
       "61                232            48.21       3217+               60.02   \n",
       "62                127            48.00       2110+               25.59   \n",
       "\n",
       "    hundreds_scored  fifties_scored  ducks_scored boundary_fours  \\\n",
       "60                7               6             1           119+   \n",
       "61                6              13             4           241+   \n",
       "62                1              10             2            53+   \n",
       "\n",
       "   boundary_sixes start_career end_career nation  \n",
       "60              0         1924       1934    AUS  \n",
       "61             5+         1930       1938    AUS  \n",
       "62              0         1928       1934    ENG  "
      ]
     },
     "execution_count": 149,
     "metadata": {},
     "output_type": "execute_result"
    }
   ],
   "source": [
    "pattern2 = r'(\\w*\\s\\w+)\\s'\n",
    "\n",
    "df['Player'] = df['Player'].str.findall(pattern2, flags=re.IGNORECASE).str.get(0)\n",
    "df.tail(3)"
   ]
  },
  {
   "cell_type": "code",
   "execution_count": 150,
   "metadata": {},
   "outputs": [
    {
     "data": {
      "text/plain": [
       "Player                  object\n",
       "matches_played           int64\n",
       "Inns                     int64\n",
       "not_out                  int64\n",
       "runs_scored              int64\n",
       "highest_inns_score      object\n",
       "batting_average        float64\n",
       "balls_faced             object\n",
       "batting_strike_rate     object\n",
       "hundreds_scored          int64\n",
       "fifties_scored           int64\n",
       "ducks_scored             int64\n",
       "boundary_fours          object\n",
       "boundary_sixes          object\n",
       "start_career            object\n",
       "end_career              object\n",
       "nation                  object\n",
       "dtype: object"
      ]
     },
     "execution_count": 150,
     "metadata": {},
     "output_type": "execute_result"
    }
   ],
   "source": [
    "df.dtypes"
   ]
  },
  {
   "cell_type": "code",
   "execution_count": 151,
   "metadata": {},
   "outputs": [
    {
     "data": {
      "text/plain": [
       "highest_inns_score\n",
       "True     43\n",
       "False    20\n",
       "Name: count, dtype: int64"
      ]
     },
     "execution_count": 151,
     "metadata": {},
     "output_type": "execute_result"
    }
   ],
   "source": [
    "def is_num(x):\n",
    "    return x.isnumeric()\n",
    "\n",
    "df['highest_inns_score'].apply(is_num).value_counts()"
   ]
  },
  {
   "cell_type": "code",
   "execution_count": 152,
   "metadata": {},
   "outputs": [
    {
     "data": {
      "text/plain": [
       "2     269*\n",
       "4     270*\n",
       "9     336*\n",
       "11    365*\n",
       "21    247*\n",
       "23    248*\n",
       "25    400*\n",
       "26    280*\n",
       "32    201*\n",
       "33    232*\n",
       "35    203*\n",
       "36    236*\n",
       "39    278*\n",
       "47    182*\n",
       "49    254*\n",
       "50    215*\n",
       "51    329*\n",
       "52    144*\n",
       "53    189*\n",
       "54    144*\n",
       "Name: highest_inns_score, dtype: object"
      ]
     },
     "execution_count": 152,
     "metadata": {},
     "output_type": "execute_result"
    }
   ],
   "source": [
    "mask = df['highest_inns_score'].apply(is_num)\n",
    "\n",
    "df.loc[~mask, 'highest_inns_score']"
   ]
  },
  {
   "cell_type": "code",
   "execution_count": 153,
   "metadata": {},
   "outputs": [
    {
     "data": {
      "text/plain": [
       "0    334\n",
       "1    186\n",
       "2    269\n",
       "3    274\n",
       "4    270\n",
       "Name: max_inns_score, dtype: int32"
      ]
     },
     "execution_count": 153,
     "metadata": {},
     "output_type": "execute_result"
    }
   ],
   "source": [
    "pattern = '\\d+'\n",
    "\n",
    "df['max_inns_score'] = df['highest_inns_score'].str.findall(pattern).str.get(0)\n",
    "df['max_inns_score'] = df['max_inns_score'].astype('int')\n",
    "df['max_inns_score'][:5]"
   ]
  },
  {
   "cell_type": "code",
   "execution_count": 154,
   "metadata": {},
   "outputs": [],
   "source": [
    "df.drop(columns='highest_inns_score', inplace=True)"
   ]
  },
  {
   "cell_type": "markdown",
   "metadata": {},
   "source": [
    "## balls_faced"
   ]
  },
  {
   "cell_type": "code",
   "execution_count": 155,
   "metadata": {},
   "outputs": [
    {
     "data": {
      "text/plain": [
       "balls_faced\n",
       "False    33\n",
       "True     30\n",
       "Name: count, dtype: int64"
      ]
     },
     "execution_count": 155,
     "metadata": {},
     "output_type": "execute_result"
    }
   ],
   "source": [
    "df['balls_faced'].apply(is_num).value_counts()"
   ]
  },
  {
   "cell_type": "code",
   "execution_count": 156,
   "metadata": {},
   "outputs": [
    {
     "data": {
      "text/plain": [
       "0    9800+\n",
       "3    1707+\n",
       "4     416+\n",
       "5    6558+\n",
       "6    1288+\n",
       "Name: balls_faced, dtype: object"
      ]
     },
     "execution_count": 156,
     "metadata": {},
     "output_type": "execute_result"
    }
   ],
   "source": [
    "mask = df['balls_faced'].apply(is_num)\n",
    "\n",
    "df.loc[~mask, 'balls_faced'][:5]"
   ]
  },
  {
   "cell_type": "code",
   "execution_count": 157,
   "metadata": {},
   "outputs": [
    {
     "data": {
      "text/plain": [
       "balls_faced\n",
       "5    40\n",
       "4    15\n",
       "6     5\n",
       "1     3\n",
       "Name: count, dtype: int64"
      ]
     },
     "execution_count": 157,
     "metadata": {},
     "output_type": "execute_result"
    }
   ],
   "source": [
    "df['balls_faced'].str.len().value_counts()"
   ]
  },
  {
   "cell_type": "code",
   "execution_count": 158,
   "metadata": {},
   "outputs": [
    {
     "data": {
      "text/plain": [
       "8     -\n",
       "14    -\n",
       "54    -\n",
       "Name: balls_faced, dtype: object"
      ]
     },
     "execution_count": 158,
     "metadata": {},
     "output_type": "execute_result"
    }
   ],
   "source": [
    "mask2 = (df['balls_faced'].str.len() == 1)\n",
    "\n",
    "df.loc[mask2, 'balls_faced']"
   ]
  },
  {
   "cell_type": "code",
   "execution_count": 159,
   "metadata": {},
   "outputs": [
    {
     "data": {
      "text/plain": [
       "0    9800\n",
       "1    1287\n",
       "2    2667\n",
       "3    1707\n",
       "4     416\n",
       "5    6558\n",
       "6    1288\n",
       "7    4957\n",
       "8     NaN\n",
       "Name: balls_faced, dtype: object"
      ]
     },
     "execution_count": 159,
     "metadata": {},
     "output_type": "execute_result"
    }
   ],
   "source": [
    "pattern = r'\\d+'\n",
    "\n",
    "df = df.rename(columns={'balls_faced':'balls_faced2'})\n",
    "df['balls_faced'] = df['balls_faced2'].str.findall(pattern).str.get(0)\n",
    "df['balls_faced'][:9]"
   ]
  },
  {
   "cell_type": "code",
   "execution_count": 160,
   "metadata": {},
   "outputs": [
    {
     "data": {
      "text/plain": [
       "0    9800\n",
       "1    1287\n",
       "2    2667\n",
       "3    1707\n",
       "4     416\n",
       "5    6558\n",
       "6    1288\n",
       "7    4957\n",
       "8    <NA>\n",
       "Name: balls_faced, dtype: Int32"
      ]
     },
     "execution_count": 160,
     "metadata": {},
     "output_type": "execute_result"
    }
   ],
   "source": [
    "df['balls_faced'] = df['balls_faced'].astype('Int32')\n",
    "df['balls_faced'][:9]"
   ]
  },
  {
   "cell_type": "code",
   "execution_count": 161,
   "metadata": {},
   "outputs": [
    {
     "data": {
      "text/plain": [
       "Player                  object\n",
       "matches_played           int64\n",
       "Inns                     int64\n",
       "not_out                  int64\n",
       "runs_scored              int64\n",
       "batting_average        float64\n",
       "batting_strike_rate     object\n",
       "hundreds_scored          int64\n",
       "fifties_scored           int64\n",
       "ducks_scored             int64\n",
       "boundary_fours          object\n",
       "boundary_sixes          object\n",
       "start_career            object\n",
       "end_career              object\n",
       "nation                  object\n",
       "max_inns_score           int32\n",
       "balls_faced              Int32\n",
       "dtype: object"
      ]
     },
     "execution_count": 161,
     "metadata": {},
     "output_type": "execute_result"
    }
   ],
   "source": [
    "df.drop(columns='balls_faced2',inplace=True)\n",
    "df.dtypes"
   ]
  },
  {
   "cell_type": "markdown",
   "metadata": {},
   "source": [
    "## batting_strike_rate"
   ]
  },
  {
   "cell_type": "code",
   "execution_count": 162,
   "metadata": {},
   "outputs": [
    {
     "data": {
      "text/plain": [
       "batting_strike_rate\n",
       "False    63\n",
       "Name: count, dtype: int64"
      ]
     },
     "execution_count": 162,
     "metadata": {},
     "output_type": "execute_result"
    }
   ],
   "source": [
    "df['batting_strike_rate'].apply(is_num).value_counts()"
   ]
  },
  {
   "cell_type": "code",
   "execution_count": 163,
   "metadata": {},
   "outputs": [
    {
     "data": {
      "text/plain": [
       "0    58.60\n",
       "1    91.76\n",
       "2    55.68\n",
       "3    54.48\n",
       "4    56.00\n",
       "Name: batting_strike_rate, dtype: object"
      ]
     },
     "execution_count": 163,
     "metadata": {},
     "output_type": "execute_result"
    }
   ],
   "source": [
    "df['batting_strike_rate'][0:5]"
   ]
  },
  {
   "cell_type": "code",
   "execution_count": 164,
   "metadata": {},
   "outputs": [
    {
     "data": {
      "text/plain": [
       "batting_strike_rate\n",
       "5    60\n",
       "1     3\n",
       "Name: count, dtype: int64"
      ]
     },
     "execution_count": 164,
     "metadata": {},
     "output_type": "execute_result"
    }
   ],
   "source": [
    "df['batting_strike_rate'].str.len().value_counts()"
   ]
  },
  {
   "cell_type": "code",
   "execution_count": 165,
   "metadata": {},
   "outputs": [
    {
     "data": {
      "text/plain": [
       "8     -\n",
       "14    -\n",
       "54    -\n",
       "Name: batting_strike_rate, dtype: object"
      ]
     },
     "execution_count": 165,
     "metadata": {},
     "output_type": "execute_result"
    }
   ],
   "source": [
    "mask = (df['batting_strike_rate'].str.len() == 1)\n",
    "df.loc[mask, 'batting_strike_rate']"
   ]
  },
  {
   "cell_type": "code",
   "execution_count": 166,
   "metadata": {},
   "outputs": [],
   "source": [
    "df.loc[mask, 'batting_strike_rate'] = np.nan\n",
    "df['batting_strike_rate'] = df['batting_strike_rate'].astype('float32')"
   ]
  },
  {
   "cell_type": "markdown",
   "metadata": {},
   "source": [
    "## boundary_fours"
   ]
  },
  {
   "cell_type": "code",
   "execution_count": 167,
   "metadata": {},
   "outputs": [
    {
     "data": {
      "text/plain": [
       "boundary_fours\n",
       "4    41\n",
       "3    21\n",
       "5     1\n",
       "Name: count, dtype: int64"
      ]
     },
     "execution_count": 167,
     "metadata": {},
     "output_type": "execute_result"
    }
   ],
   "source": [
    "df['boundary_fours'].str.len().value_counts()"
   ]
  },
  {
   "cell_type": "code",
   "execution_count": 168,
   "metadata": {},
   "outputs": [
    {
     "data": {
      "text/plain": [
       "0    626+\n",
       "1     141\n",
       "2     186\n",
       "3    246+\n",
       "4    104+\n",
       "Name: boundary_fours, dtype: object"
      ]
     },
     "execution_count": 168,
     "metadata": {},
     "output_type": "execute_result"
    }
   ],
   "source": [
    "df['boundary_fours'][0:5]"
   ]
  },
  {
   "cell_type": "code",
   "execution_count": 169,
   "metadata": {},
   "outputs": [
    {
     "data": {
      "text/plain": [
       "0    626\n",
       "1    141\n",
       "2    186\n",
       "3    246\n",
       "4    104\n",
       "Name: boundary_fours, dtype: int32"
      ]
     },
     "execution_count": 169,
     "metadata": {},
     "output_type": "execute_result"
    }
   ],
   "source": [
    "pattern = '\\d+'\n",
    "\n",
    "df['boundary_fours'] = df['boundary_fours'].str.findall(pattern).str.get(0)\n",
    "df['boundary_fours'] = df['boundary_fours'].astype(int)\n",
    "df['boundary_fours'][0:5]"
   ]
  },
  {
   "cell_type": "markdown",
   "metadata": {},
   "source": [
    "## boundary_sixes"
   ]
  },
  {
   "cell_type": "code",
   "execution_count": 171,
   "metadata": {},
   "outputs": [
    {
     "data": {
      "text/plain": [
       "boundary_sixes\n",
       "2    40\n",
       "1    22\n",
       "3     1\n",
       "Name: count, dtype: int64"
      ]
     },
     "execution_count": 171,
     "metadata": {},
     "output_type": "execute_result"
    }
   ],
   "source": [
    "df['boundary_sixes'].str.len().value_counts()"
   ]
  },
  {
   "cell_type": "code",
   "execution_count": 172,
   "metadata": {},
   "outputs": [
    {
     "data": {
      "text/plain": [
       "0     6\n",
       "1    23\n",
       "2     5\n",
       "3    11\n",
       "4     1\n",
       "Name: boundary_sixes, dtype: object"
      ]
     },
     "execution_count": 172,
     "metadata": {},
     "output_type": "execute_result"
    }
   ],
   "source": [
    "df['boundary_sixes'][:5]"
   ]
  },
  {
   "cell_type": "code",
   "execution_count": 174,
   "metadata": {},
   "outputs": [
    {
     "data": {
      "text/plain": [
       "0     6\n",
       "1    23\n",
       "2     5\n",
       "3    11\n",
       "4     1\n",
       "Name: boundary_sixes, dtype: int32"
      ]
     },
     "execution_count": 174,
     "metadata": {},
     "output_type": "execute_result"
    }
   ],
   "source": [
    "df = df.rename(columns={'boundary_sixes':'boundary_sixes2'})\n",
    "\n",
    "pattern = '\\d+'\n",
    "\n",
    "df['boundary_sixes'] = df['boundary_sixes2'].str.findall(pattern).str.get(0)\n",
    "df['boundary_sixes'] = df['boundary_sixes'].astype(int)\n",
    "df['boundary_sixes'][0:5]"
   ]
  },
  {
   "cell_type": "code",
   "execution_count": 176,
   "metadata": {},
   "outputs": [
    {
     "data": {
      "text/plain": [
       "False"
      ]
     },
     "execution_count": 176,
     "metadata": {},
     "output_type": "execute_result"
    }
   ],
   "source": [
    "df['boundary_sixes'].isnull().any()"
   ]
  },
  {
   "cell_type": "code",
   "execution_count": 177,
   "metadata": {},
   "outputs": [],
   "source": [
    "df.drop(columns='boundary_sixes2', inplace=True)"
   ]
  },
  {
   "cell_type": "code",
   "execution_count": 179,
   "metadata": {},
   "outputs": [],
   "source": [
    "df['start_career'] = df['start_career'].astype(int)\n",
    "df['end_career'] = df['end_career'].astype(int)"
   ]
  },
  {
   "cell_type": "code",
   "execution_count": 180,
   "metadata": {},
   "outputs": [
    {
     "data": {
      "text/plain": [
       "Player                  object\n",
       "matches_played           int64\n",
       "Inns                     int64\n",
       "not_out                  int64\n",
       "runs_scored              int64\n",
       "batting_average        float64\n",
       "batting_strike_rate    float32\n",
       "hundreds_scored          int64\n",
       "fifties_scored           int64\n",
       "ducks_scored             int64\n",
       "boundary_fours           int32\n",
       "start_career             int32\n",
       "end_career               int32\n",
       "nation                  object\n",
       "max_inns_score           int32\n",
       "balls_faced              Int32\n",
       "boundary_sixes           int32\n",
       "dtype: object"
      ]
     },
     "execution_count": 180,
     "metadata": {},
     "output_type": "execute_result"
    }
   ],
   "source": [
    "df.dtypes"
   ]
  },
  {
   "cell_type": "code",
   "execution_count": 181,
   "metadata": {},
   "outputs": [
    {
     "data": {
      "text/html": [
       "<div>\n",
       "<style scoped>\n",
       "    .dataframe tbody tr th:only-of-type {\n",
       "        vertical-align: middle;\n",
       "    }\n",
       "\n",
       "    .dataframe tbody tr th {\n",
       "        vertical-align: top;\n",
       "    }\n",
       "\n",
       "    .dataframe thead th {\n",
       "        text-align: right;\n",
       "    }\n",
       "</style>\n",
       "<table border=\"1\" class=\"dataframe\">\n",
       "  <thead>\n",
       "    <tr style=\"text-align: right;\">\n",
       "      <th></th>\n",
       "      <th>Player</th>\n",
       "      <th>matches_played</th>\n",
       "      <th>Inns</th>\n",
       "      <th>not_out</th>\n",
       "      <th>runs_scored</th>\n",
       "      <th>batting_average</th>\n",
       "      <th>batting_strike_rate</th>\n",
       "      <th>hundreds_scored</th>\n",
       "      <th>fifties_scored</th>\n",
       "      <th>ducks_scored</th>\n",
       "      <th>boundary_fours</th>\n",
       "      <th>start_career</th>\n",
       "      <th>end_career</th>\n",
       "      <th>nation</th>\n",
       "      <th>max_inns_score</th>\n",
       "      <th>balls_faced</th>\n",
       "      <th>boundary_sixes</th>\n",
       "      <th>career_length</th>\n",
       "    </tr>\n",
       "  </thead>\n",
       "  <tbody>\n",
       "    <tr>\n",
       "      <th>0</th>\n",
       "      <td>DG Bradman</td>\n",
       "      <td>52</td>\n",
       "      <td>80</td>\n",
       "      <td>10</td>\n",
       "      <td>6996</td>\n",
       "      <td>99.94</td>\n",
       "      <td>58.599998</td>\n",
       "      <td>29</td>\n",
       "      <td>13</td>\n",
       "      <td>7</td>\n",
       "      <td>626</td>\n",
       "      <td>1928</td>\n",
       "      <td>1948</td>\n",
       "      <td>AUS</td>\n",
       "      <td>334</td>\n",
       "      <td>9800</td>\n",
       "      <td>6</td>\n",
       "      <td>20</td>\n",
       "    </tr>\n",
       "    <tr>\n",
       "      <th>1</th>\n",
       "      <td>HC Brook</td>\n",
       "      <td>12</td>\n",
       "      <td>20</td>\n",
       "      <td>1</td>\n",
       "      <td>1181</td>\n",
       "      <td>62.15</td>\n",
       "      <td>91.760002</td>\n",
       "      <td>4</td>\n",
       "      <td>7</td>\n",
       "      <td>1</td>\n",
       "      <td>141</td>\n",
       "      <td>2022</td>\n",
       "      <td>2023</td>\n",
       "      <td>ENG</td>\n",
       "      <td>186</td>\n",
       "      <td>1287</td>\n",
       "      <td>23</td>\n",
       "      <td>1</td>\n",
       "    </tr>\n",
       "    <tr>\n",
       "      <th>2</th>\n",
       "      <td>AC Voges</td>\n",
       "      <td>20</td>\n",
       "      <td>31</td>\n",
       "      <td>7</td>\n",
       "      <td>1485</td>\n",
       "      <td>61.87</td>\n",
       "      <td>55.680000</td>\n",
       "      <td>5</td>\n",
       "      <td>4</td>\n",
       "      <td>2</td>\n",
       "      <td>186</td>\n",
       "      <td>2015</td>\n",
       "      <td>2016</td>\n",
       "      <td>AUS</td>\n",
       "      <td>269</td>\n",
       "      <td>2667</td>\n",
       "      <td>5</td>\n",
       "      <td>1</td>\n",
       "    </tr>\n",
       "  </tbody>\n",
       "</table>\n",
       "</div>"
      ],
      "text/plain": [
       "       Player  matches_played  Inns  not_out  runs_scored  batting_average  \\\n",
       "0  DG Bradman              52    80       10         6996            99.94   \n",
       "1    HC Brook              12    20        1         1181            62.15   \n",
       "2    AC Voges              20    31        7         1485            61.87   \n",
       "\n",
       "   batting_strike_rate  hundreds_scored  fifties_scored  ducks_scored  \\\n",
       "0            58.599998               29              13             7   \n",
       "1            91.760002                4               7             1   \n",
       "2            55.680000                5               4             2   \n",
       "\n",
       "   boundary_fours  start_career  end_career nation  max_inns_score  \\\n",
       "0             626          1928        1948    AUS             334   \n",
       "1             141          2022        2023    ENG             186   \n",
       "2             186          2015        2016    AUS             269   \n",
       "\n",
       "   balls_faced  boundary_sixes  career_length  \n",
       "0         9800               6             20  \n",
       "1         1287              23              1  \n",
       "2         2667               5              1  "
      ]
     },
     "execution_count": 181,
     "metadata": {},
     "output_type": "execute_result"
    }
   ],
   "source": [
    "df['career_length'] = df['end_career'] - df['start_career']\n",
    "df.head(3)"
   ]
  },
  {
   "cell_type": "code",
   "execution_count": 183,
   "metadata": {},
   "outputs": [
    {
     "data": {
      "text/plain": [
       "['Player',\n",
       " 'matches_played',\n",
       " 'Inns',\n",
       " 'not_out',\n",
       " 'runs_scored',\n",
       " 'batting_average',\n",
       " 'batting_strike_rate',\n",
       " 'hundreds_scored',\n",
       " 'fifties_scored',\n",
       " 'ducks_scored',\n",
       " 'boundary_fours',\n",
       " 'start_career',\n",
       " 'end_career',\n",
       " 'nation',\n",
       " 'max_inns_score',\n",
       " 'balls_faced',\n",
       " 'boundary_sixes',\n",
       " 'career_length']"
      ]
     },
     "execution_count": 183,
     "metadata": {},
     "output_type": "execute_result"
    }
   ],
   "source": [
    "df.columns.to_list()"
   ]
  },
  {
   "cell_type": "code",
   "execution_count": 187,
   "metadata": {},
   "outputs": [],
   "source": [
    "sorted_col = [\n",
    "    'Player',\n",
    "    'nation',\n",
    "    'start_career',\n",
    "    'end_career',\n",
    "    'career_length',\n",
    "    'matches_played',\n",
    "    'Inns',\n",
    "    'max_inns_score',\n",
    "    'balls_faced',\n",
    "    'boundary_sixes',\n",
    "    'not_out',\n",
    "    'runs_scored',\n",
    "    'batting_average',\n",
    "    'batting_strike_rate',\n",
    "    'hundreds_scored',\n",
    "    'fifties_scored',\n",
    "    'ducks_scored',\n",
    "    'boundary_fours',\n",
    "]\n",
    "\n",
    "df = df[sorted_col]"
   ]
  },
  {
   "cell_type": "code",
   "execution_count": 188,
   "metadata": {},
   "outputs": [
    {
     "data": {
      "text/html": [
       "<div>\n",
       "<style scoped>\n",
       "    .dataframe tbody tr th:only-of-type {\n",
       "        vertical-align: middle;\n",
       "    }\n",
       "\n",
       "    .dataframe tbody tr th {\n",
       "        vertical-align: top;\n",
       "    }\n",
       "\n",
       "    .dataframe thead th {\n",
       "        text-align: right;\n",
       "    }\n",
       "</style>\n",
       "<table border=\"1\" class=\"dataframe\">\n",
       "  <thead>\n",
       "    <tr style=\"text-align: right;\">\n",
       "      <th></th>\n",
       "      <th>Player</th>\n",
       "      <th>nation</th>\n",
       "      <th>start_career</th>\n",
       "      <th>end_career</th>\n",
       "      <th>career_length</th>\n",
       "      <th>matches_played</th>\n",
       "      <th>Inns</th>\n",
       "      <th>max_inns_score</th>\n",
       "      <th>balls_faced</th>\n",
       "      <th>boundary_sixes</th>\n",
       "      <th>not_out</th>\n",
       "      <th>runs_scored</th>\n",
       "      <th>batting_average</th>\n",
       "      <th>batting_strike_rate</th>\n",
       "      <th>hundreds_scored</th>\n",
       "      <th>fifties_scored</th>\n",
       "      <th>ducks_scored</th>\n",
       "      <th>boundary_fours</th>\n",
       "    </tr>\n",
       "  </thead>\n",
       "  <tbody>\n",
       "    <tr>\n",
       "      <th>0</th>\n",
       "      <td>DG Bradman</td>\n",
       "      <td>AUS</td>\n",
       "      <td>1928</td>\n",
       "      <td>1948</td>\n",
       "      <td>20</td>\n",
       "      <td>52</td>\n",
       "      <td>80</td>\n",
       "      <td>334</td>\n",
       "      <td>9800</td>\n",
       "      <td>6</td>\n",
       "      <td>10</td>\n",
       "      <td>6996</td>\n",
       "      <td>99.94</td>\n",
       "      <td>58.599998</td>\n",
       "      <td>29</td>\n",
       "      <td>13</td>\n",
       "      <td>7</td>\n",
       "      <td>626</td>\n",
       "    </tr>\n",
       "    <tr>\n",
       "      <th>1</th>\n",
       "      <td>HC Brook</td>\n",
       "      <td>ENG</td>\n",
       "      <td>2022</td>\n",
       "      <td>2023</td>\n",
       "      <td>1</td>\n",
       "      <td>12</td>\n",
       "      <td>20</td>\n",
       "      <td>186</td>\n",
       "      <td>1287</td>\n",
       "      <td>23</td>\n",
       "      <td>1</td>\n",
       "      <td>1181</td>\n",
       "      <td>62.15</td>\n",
       "      <td>91.760002</td>\n",
       "      <td>4</td>\n",
       "      <td>7</td>\n",
       "      <td>1</td>\n",
       "      <td>141</td>\n",
       "    </tr>\n",
       "    <tr>\n",
       "      <th>2</th>\n",
       "      <td>AC Voges</td>\n",
       "      <td>AUS</td>\n",
       "      <td>2015</td>\n",
       "      <td>2016</td>\n",
       "      <td>1</td>\n",
       "      <td>20</td>\n",
       "      <td>31</td>\n",
       "      <td>269</td>\n",
       "      <td>2667</td>\n",
       "      <td>5</td>\n",
       "      <td>7</td>\n",
       "      <td>1485</td>\n",
       "      <td>61.87</td>\n",
       "      <td>55.680000</td>\n",
       "      <td>5</td>\n",
       "      <td>4</td>\n",
       "      <td>2</td>\n",
       "      <td>186</td>\n",
       "    </tr>\n",
       "    <tr>\n",
       "      <th>3</th>\n",
       "      <td>RG Pollock</td>\n",
       "      <td>SA</td>\n",
       "      <td>1963</td>\n",
       "      <td>1970</td>\n",
       "      <td>7</td>\n",
       "      <td>23</td>\n",
       "      <td>41</td>\n",
       "      <td>274</td>\n",
       "      <td>1707</td>\n",
       "      <td>11</td>\n",
       "      <td>4</td>\n",
       "      <td>2256</td>\n",
       "      <td>60.97</td>\n",
       "      <td>54.480000</td>\n",
       "      <td>7</td>\n",
       "      <td>11</td>\n",
       "      <td>1</td>\n",
       "      <td>246</td>\n",
       "    </tr>\n",
       "    <tr>\n",
       "      <th>4</th>\n",
       "      <td>GA Headley</td>\n",
       "      <td>WI</td>\n",
       "      <td>1930</td>\n",
       "      <td>1954</td>\n",
       "      <td>24</td>\n",
       "      <td>22</td>\n",
       "      <td>40</td>\n",
       "      <td>270</td>\n",
       "      <td>416</td>\n",
       "      <td>1</td>\n",
       "      <td>4</td>\n",
       "      <td>2190</td>\n",
       "      <td>60.83</td>\n",
       "      <td>56.000000</td>\n",
       "      <td>10</td>\n",
       "      <td>5</td>\n",
       "      <td>2</td>\n",
       "      <td>104</td>\n",
       "    </tr>\n",
       "  </tbody>\n",
       "</table>\n",
       "</div>"
      ],
      "text/plain": [
       "       Player nation  start_career  end_career  career_length  matches_played  \\\n",
       "0  DG Bradman    AUS          1928        1948             20              52   \n",
       "1    HC Brook    ENG          2022        2023              1              12   \n",
       "2    AC Voges    AUS          2015        2016              1              20   \n",
       "3  RG Pollock     SA          1963        1970              7              23   \n",
       "4  GA Headley     WI          1930        1954             24              22   \n",
       "\n",
       "   Inns  max_inns_score  balls_faced  boundary_sixes  not_out  runs_scored  \\\n",
       "0    80             334         9800               6       10         6996   \n",
       "1    20             186         1287              23        1         1181   \n",
       "2    31             269         2667               5        7         1485   \n",
       "3    41             274         1707              11        4         2256   \n",
       "4    40             270          416               1        4         2190   \n",
       "\n",
       "   batting_average  batting_strike_rate  hundreds_scored  fifties_scored  \\\n",
       "0            99.94            58.599998               29              13   \n",
       "1            62.15            91.760002                4               7   \n",
       "2            61.87            55.680000                5               4   \n",
       "3            60.97            54.480000                7              11   \n",
       "4            60.83            56.000000               10               5   \n",
       "\n",
       "   ducks_scored  boundary_fours  \n",
       "0             7             626  \n",
       "1             1             141  \n",
       "2             2             186  \n",
       "3             1             246  \n",
       "4             2             104  "
      ]
     },
     "execution_count": 188,
     "metadata": {},
     "output_type": "execute_result"
    }
   ],
   "source": [
    "df.head()"
   ]
  },
  {
   "cell_type": "code",
   "execution_count": null,
   "metadata": {},
   "outputs": [],
   "source": []
  }
 ],
 "metadata": {
  "kernelspec": {
   "display_name": "base",
   "language": "python",
   "name": "python3"
  },
  "language_info": {
   "codemirror_mode": {
    "name": "ipython",
    "version": 3
   },
   "file_extension": ".py",
   "mimetype": "text/x-python",
   "name": "python",
   "nbconvert_exporter": "python",
   "pygments_lexer": "ipython3",
   "version": "3.11.5"
  }
 },
 "nbformat": 4,
 "nbformat_minor": 2
}
