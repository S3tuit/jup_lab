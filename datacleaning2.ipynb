{
 "cells": [
  {
   "cell_type": "code",
   "execution_count": 1,
   "metadata": {},
   "outputs": [],
   "source": [
    "import numpy as np\n",
    "import pandas as pd"
   ]
  },
  {
   "cell_type": "code",
   "execution_count": 3,
   "metadata": {},
   "outputs": [],
   "source": [
    "from bs4 import BeautifulSoup"
   ]
  },
  {
   "cell_type": "code",
   "execution_count": 4,
   "metadata": {},
   "outputs": [],
   "source": [
    "import requests\n",
    "\n",
    "page = requests.get(r'https://www.espncricinfo.com/records/highest-career-batting-average-282910')\n",
    "\n",
    "soup1 = BeautifulSoup(page.content, 'html.parser')\n",
    "soup2 = BeautifulSoup(soup1.prettify(), 'html.parser')"
   ]
  },
  {
   "cell_type": "code",
   "execution_count": 6,
   "metadata": {},
   "outputs": [
    {
     "data": {
      "text/plain": [
       "1"
      ]
     },
     "execution_count": 6,
     "metadata": {},
     "output_type": "execute_result"
    }
   ],
   "source": [
    "tables = soup2.find_all('table')\n",
    "len(tables)"
   ]
  },
  {
   "cell_type": "code",
   "execution_count": 7,
   "metadata": {},
   "outputs": [],
   "source": [
    "table = tables[0]"
   ]
  },
  {
   "cell_type": "code",
   "execution_count": 12,
   "metadata": {},
   "outputs": [],
   "source": [
    "import io\n",
    "\n",
    "table_io = io.StringIO(str(table))\n",
    "df = pd.read_html(table_io)"
   ]
  },
  {
   "cell_type": "code",
   "execution_count": 19,
   "metadata": {},
   "outputs": [],
   "source": [
    "df = pd.DataFrame(df[0])"
   ]
  },
  {
   "cell_type": "code",
   "execution_count": 20,
   "metadata": {},
   "outputs": [
    {
     "data": {
      "text/html": [
       "<div>\n",
       "<style scoped>\n",
       "    .dataframe tbody tr th:only-of-type {\n",
       "        vertical-align: middle;\n",
       "    }\n",
       "\n",
       "    .dataframe tbody tr th {\n",
       "        vertical-align: top;\n",
       "    }\n",
       "\n",
       "    .dataframe thead th {\n",
       "        text-align: right;\n",
       "    }\n",
       "</style>\n",
       "<table border=\"1\" class=\"dataframe\">\n",
       "  <thead>\n",
       "    <tr style=\"text-align: right;\">\n",
       "      <th></th>\n",
       "      <th>Player</th>\n",
       "      <th>Span</th>\n",
       "      <th>Mat</th>\n",
       "      <th>Inns</th>\n",
       "      <th>NO</th>\n",
       "      <th>Runs</th>\n",
       "      <th>HS</th>\n",
       "      <th>Ave</th>\n",
       "      <th>BF</th>\n",
       "      <th>SR</th>\n",
       "      <th>100</th>\n",
       "      <th>50</th>\n",
       "      <th>0</th>\n",
       "      <th>4s</th>\n",
       "      <th>6s</th>\n",
       "    </tr>\n",
       "  </thead>\n",
       "  <tbody>\n",
       "    <tr>\n",
       "      <th>0</th>\n",
       "      <td>DG Bradman (AUS)</td>\n",
       "      <td>1928-1948</td>\n",
       "      <td>52</td>\n",
       "      <td>80</td>\n",
       "      <td>10</td>\n",
       "      <td>6996</td>\n",
       "      <td>334</td>\n",
       "      <td>99.94</td>\n",
       "      <td>9800+</td>\n",
       "      <td>58.60</td>\n",
       "      <td>29</td>\n",
       "      <td>13</td>\n",
       "      <td>7</td>\n",
       "      <td>626+</td>\n",
       "      <td>6</td>\n",
       "    </tr>\n",
       "    <tr>\n",
       "      <th>1</th>\n",
       "      <td>HC Brook (ENG)</td>\n",
       "      <td>2022-2023</td>\n",
       "      <td>12</td>\n",
       "      <td>20</td>\n",
       "      <td>1</td>\n",
       "      <td>1181</td>\n",
       "      <td>186</td>\n",
       "      <td>62.15</td>\n",
       "      <td>1287</td>\n",
       "      <td>91.76</td>\n",
       "      <td>4</td>\n",
       "      <td>7</td>\n",
       "      <td>1</td>\n",
       "      <td>141</td>\n",
       "      <td>23</td>\n",
       "    </tr>\n",
       "    <tr>\n",
       "      <th>2</th>\n",
       "      <td>AC Voges (AUS)</td>\n",
       "      <td>2015-2016</td>\n",
       "      <td>20</td>\n",
       "      <td>31</td>\n",
       "      <td>7</td>\n",
       "      <td>1485</td>\n",
       "      <td>269*</td>\n",
       "      <td>61.87</td>\n",
       "      <td>2667</td>\n",
       "      <td>55.68</td>\n",
       "      <td>5</td>\n",
       "      <td>4</td>\n",
       "      <td>2</td>\n",
       "      <td>186</td>\n",
       "      <td>5</td>\n",
       "    </tr>\n",
       "    <tr>\n",
       "      <th>3</th>\n",
       "      <td>RG Pollock (SA)</td>\n",
       "      <td>1963-1970</td>\n",
       "      <td>23</td>\n",
       "      <td>41</td>\n",
       "      <td>4</td>\n",
       "      <td>2256</td>\n",
       "      <td>274</td>\n",
       "      <td>60.97</td>\n",
       "      <td>1707+</td>\n",
       "      <td>54.48</td>\n",
       "      <td>7</td>\n",
       "      <td>11</td>\n",
       "      <td>1</td>\n",
       "      <td>246+</td>\n",
       "      <td>11</td>\n",
       "    </tr>\n",
       "    <tr>\n",
       "      <th>4</th>\n",
       "      <td>GA Headley (WI)</td>\n",
       "      <td>1930-1954</td>\n",
       "      <td>22</td>\n",
       "      <td>40</td>\n",
       "      <td>4</td>\n",
       "      <td>2190</td>\n",
       "      <td>270*</td>\n",
       "      <td>60.83</td>\n",
       "      <td>416+</td>\n",
       "      <td>56.00</td>\n",
       "      <td>10</td>\n",
       "      <td>5</td>\n",
       "      <td>2</td>\n",
       "      <td>104+</td>\n",
       "      <td>1</td>\n",
       "    </tr>\n",
       "  </tbody>\n",
       "</table>\n",
       "</div>"
      ],
      "text/plain": [
       "             Player       Span  Mat  Inns  NO  Runs    HS    Ave     BF  \\\n",
       "0  DG Bradman (AUS)  1928-1948   52    80  10  6996   334  99.94  9800+   \n",
       "1    HC Brook (ENG)  2022-2023   12    20   1  1181   186  62.15   1287   \n",
       "2    AC Voges (AUS)  2015-2016   20    31   7  1485  269*  61.87   2667   \n",
       "3   RG Pollock (SA)  1963-1970   23    41   4  2256   274  60.97  1707+   \n",
       "4   GA Headley (WI)  1930-1954   22    40   4  2190  270*  60.83   416+   \n",
       "\n",
       "      SR  100  50  0    4s  6s  \n",
       "0  58.60   29  13  7  626+   6  \n",
       "1  91.76    4   7  1   141  23  \n",
       "2  55.68    5   4  2   186   5  \n",
       "3  54.48    7  11  1  246+  11  \n",
       "4  56.00   10   5  2  104+   1  "
      ]
     },
     "execution_count": 20,
     "metadata": {},
     "output_type": "execute_result"
    }
   ],
   "source": [
    "df.head()"
   ]
  },
  {
   "cell_type": "code",
   "execution_count": 25,
   "metadata": {},
   "outputs": [
    {
     "data": {
      "text/html": [
       "<div>\n",
       "<style scoped>\n",
       "    .dataframe tbody tr th:only-of-type {\n",
       "        vertical-align: middle;\n",
       "    }\n",
       "\n",
       "    .dataframe tbody tr th {\n",
       "        vertical-align: top;\n",
       "    }\n",
       "\n",
       "    .dataframe thead th {\n",
       "        text-align: right;\n",
       "    }\n",
       "</style>\n",
       "<table border=\"1\" class=\"dataframe\">\n",
       "  <thead>\n",
       "    <tr style=\"text-align: right;\">\n",
       "      <th></th>\n",
       "      <th>Player</th>\n",
       "      <th>Span</th>\n",
       "      <th>matches_played</th>\n",
       "      <th>Inns</th>\n",
       "      <th>not_out</th>\n",
       "      <th>runs_scored</th>\n",
       "      <th>highest_inns_score</th>\n",
       "      <th>batting_average</th>\n",
       "      <th>balls_faced</th>\n",
       "      <th>batting_strike_rate</th>\n",
       "      <th>hundreds_scored</th>\n",
       "      <th>fifties_scored</th>\n",
       "      <th>ducks_scored</th>\n",
       "      <th>boundary_fours</th>\n",
       "      <th>boundary_sixes</th>\n",
       "    </tr>\n",
       "  </thead>\n",
       "  <tbody>\n",
       "    <tr>\n",
       "      <th>0</th>\n",
       "      <td>DG Bradman (AUS)</td>\n",
       "      <td>1928-1948</td>\n",
       "      <td>52</td>\n",
       "      <td>80</td>\n",
       "      <td>10</td>\n",
       "      <td>6996</td>\n",
       "      <td>334</td>\n",
       "      <td>99.94</td>\n",
       "      <td>9800+</td>\n",
       "      <td>58.60</td>\n",
       "      <td>29</td>\n",
       "      <td>13</td>\n",
       "      <td>7</td>\n",
       "      <td>626+</td>\n",
       "      <td>6</td>\n",
       "    </tr>\n",
       "    <tr>\n",
       "      <th>1</th>\n",
       "      <td>HC Brook (ENG)</td>\n",
       "      <td>2022-2023</td>\n",
       "      <td>12</td>\n",
       "      <td>20</td>\n",
       "      <td>1</td>\n",
       "      <td>1181</td>\n",
       "      <td>186</td>\n",
       "      <td>62.15</td>\n",
       "      <td>1287</td>\n",
       "      <td>91.76</td>\n",
       "      <td>4</td>\n",
       "      <td>7</td>\n",
       "      <td>1</td>\n",
       "      <td>141</td>\n",
       "      <td>23</td>\n",
       "    </tr>\n",
       "    <tr>\n",
       "      <th>2</th>\n",
       "      <td>AC Voges (AUS)</td>\n",
       "      <td>2015-2016</td>\n",
       "      <td>20</td>\n",
       "      <td>31</td>\n",
       "      <td>7</td>\n",
       "      <td>1485</td>\n",
       "      <td>269*</td>\n",
       "      <td>61.87</td>\n",
       "      <td>2667</td>\n",
       "      <td>55.68</td>\n",
       "      <td>5</td>\n",
       "      <td>4</td>\n",
       "      <td>2</td>\n",
       "      <td>186</td>\n",
       "      <td>5</td>\n",
       "    </tr>\n",
       "    <tr>\n",
       "      <th>3</th>\n",
       "      <td>RG Pollock (SA)</td>\n",
       "      <td>1963-1970</td>\n",
       "      <td>23</td>\n",
       "      <td>41</td>\n",
       "      <td>4</td>\n",
       "      <td>2256</td>\n",
       "      <td>274</td>\n",
       "      <td>60.97</td>\n",
       "      <td>1707+</td>\n",
       "      <td>54.48</td>\n",
       "      <td>7</td>\n",
       "      <td>11</td>\n",
       "      <td>1</td>\n",
       "      <td>246+</td>\n",
       "      <td>11</td>\n",
       "    </tr>\n",
       "    <tr>\n",
       "      <th>4</th>\n",
       "      <td>GA Headley (WI)</td>\n",
       "      <td>1930-1954</td>\n",
       "      <td>22</td>\n",
       "      <td>40</td>\n",
       "      <td>4</td>\n",
       "      <td>2190</td>\n",
       "      <td>270*</td>\n",
       "      <td>60.83</td>\n",
       "      <td>416+</td>\n",
       "      <td>56.00</td>\n",
       "      <td>10</td>\n",
       "      <td>5</td>\n",
       "      <td>2</td>\n",
       "      <td>104+</td>\n",
       "      <td>1</td>\n",
       "    </tr>\n",
       "  </tbody>\n",
       "</table>\n",
       "</div>"
      ],
      "text/plain": [
       "             Player       Span  matches_played  Inns  not_out  runs_scored  \\\n",
       "0  DG Bradman (AUS)  1928-1948              52    80       10         6996   \n",
       "1    HC Brook (ENG)  2022-2023              12    20        1         1181   \n",
       "2    AC Voges (AUS)  2015-2016              20    31        7         1485   \n",
       "3   RG Pollock (SA)  1963-1970              23    41        4         2256   \n",
       "4   GA Headley (WI)  1930-1954              22    40        4         2190   \n",
       "\n",
       "  highest_inns_score  batting_average balls_faced batting_strike_rate  \\\n",
       "0                334            99.94       9800+               58.60   \n",
       "1                186            62.15        1287               91.76   \n",
       "2               269*            61.87        2667               55.68   \n",
       "3                274            60.97       1707+               54.48   \n",
       "4               270*            60.83        416+               56.00   \n",
       "\n",
       "   hundreds_scored  fifties_scored  ducks_scored boundary_fours boundary_sixes  \n",
       "0               29              13             7           626+              6  \n",
       "1                4               7             1            141             23  \n",
       "2                5               4             2            186              5  \n",
       "3                7              11             1           246+             11  \n",
       "4               10               5             2           104+              1  "
      ]
     },
     "execution_count": 25,
     "metadata": {},
     "output_type": "execute_result"
    }
   ],
   "source": [
    "df = df.rename(columns={'NO':'not_out', 'HS':'highest_inns_score',\n",
    "                         'Mat':'matches_played', 'Ave':'batting_average',\n",
    "                         'Runs':'runs_scored', 'SR':'batting_strike_rate',\n",
    "                         '100':'hundreds_scored', '50':'fifties_scored',\n",
    "                         '0':'ducks_scored', '4s':'boundary_fours',\n",
    "                         '6s':'boundary_sixes', 'BF':'balls_faced'\n",
    "                         })\n",
    "\n",
    "df.head()"
   ]
  },
  {
   "cell_type": "code",
   "execution_count": 30,
   "metadata": {},
   "outputs": [
    {
     "data": {
      "text/plain": [
       "Player                 0\n",
       "Span                   0\n",
       "matches_played         0\n",
       "Inns                   0\n",
       "not_out                0\n",
       "runs_scored            0\n",
       "highest_inns_score     0\n",
       "batting_average        0\n",
       "balls_faced            0\n",
       "batting_strike_rate    0\n",
       "hundreds_scored        0\n",
       "fifties_scored         0\n",
       "ducks_scored           0\n",
       "boundary_fours         0\n",
       "boundary_sixes         0\n",
       "dtype: int64"
      ]
     },
     "execution_count": 30,
     "metadata": {},
     "output_type": "execute_result"
    }
   ],
   "source": [
    "df.isna().sum()"
   ]
  },
  {
   "cell_type": "code",
   "execution_count": 32,
   "metadata": {},
   "outputs": [
    {
     "data": {
      "text/plain": [
       "False"
      ]
     },
     "execution_count": 32,
     "metadata": {},
     "output_type": "execute_result"
    }
   ],
   "source": [
    "df['Player'].duplicated().any()"
   ]
  },
  {
   "cell_type": "code",
   "execution_count": null,
   "metadata": {},
   "outputs": [],
   "source": []
  }
 ],
 "metadata": {
  "kernelspec": {
   "display_name": "base",
   "language": "python",
   "name": "python3"
  },
  "language_info": {
   "codemirror_mode": {
    "name": "ipython",
    "version": 3
   },
   "file_extension": ".py",
   "mimetype": "text/x-python",
   "name": "python",
   "nbconvert_exporter": "python",
   "pygments_lexer": "ipython3",
   "version": "3.11.5"
  }
 },
 "nbformat": 4,
 "nbformat_minor": 2
}
