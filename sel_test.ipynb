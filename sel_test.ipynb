{
 "cells": [
  {
   "cell_type": "code",
   "execution_count": 1,
   "metadata": {},
   "outputs": [],
   "source": [
    "from selenium import webdriver\n",
    "from selenium.webdriver.common.keys import Keys\n",
    "import time\n",
    "\n",
    "from selenium.webdriver.common.action_chains import ActionChains \n",
    "from selenium.webdriver.support.ui import Select\n",
    "from selenium.webdriver.common.by import By\n",
    "from selenium.webdriver.support.wait import WebDriverWait\n",
    "from selenium.webdriver.support import expected_conditions as EC"
   ]
  },
  {
   "cell_type": "code",
   "execution_count": 2,
   "metadata": {},
   "outputs": [],
   "source": [
    "PATH = r'C:\\Program Files (x86)\\chromedriver.exe'\n",
    "url = r'https://www.udemy.com/course/learn-how-to-work-with-interior-design-styles-like-a-pro/'\n",
    "driver = webdriver.Chrome(PATH)\n",
    "driver.get(url)\n",
    "\n",
    "driver.implicitly_wait(3)\n",
    "\n",
    "cookies_banner = driver.find_element(By.ID, 'onetrust-banner-sdk')\n",
    "if cookies_banner:\n",
    "    ok_cookies = driver.find_element(By.ID, 'onetrust-accept-btn-handler')\n",
    "    ok_cookies.click()"
   ]
  },
  {
   "cell_type": "code",
   "execution_count": 40,
   "metadata": {},
   "outputs": [],
   "source": [
    "PATH = r'C:\\Program Files (x86)\\chromedriver.exe'\n",
    "driver = webdriver.Chrome(PATH)\n",
    "\n",
    "driver.get(r'https://orteil.dashnet.org/cookieclicker/')\n",
    "\n",
    "# Accept cookies\n",
    "banner = WebDriverWait(driver, 20).until(\n",
    "    EC.presence_of_element_located((By.CLASS_NAME, 'fc-dialog-container'))\n",
    ")\n",
    "\n",
    "if banner:\n",
    "    button = WebDriverWait(driver, 17).until(\n",
    "            EC.presence_of_element_located((By.CSS_SELECTOR,\n",
    "                                            'button.fc-button.fc-cta-consent.fc-primary-button'))\n",
    "    )\n",
    "    button.click()\n",
    "else:\n",
    "    print('No Consent')\n",
    "\n",
    "# Put language to en\n",
    "languages = WebDriverWait(driver, 10).until(\n",
    "    EC.presence_of_element_located((By.ID, \"promptContentChangeLanguage\")))\n",
    "\n",
    "if languages:\n",
    "    en_language = WebDriverWait(driver, 10).until(\n",
    "            EC.presence_of_element_located((By.CSS_SELECTOR, 'div#langSelect-EN.langSelectButton'))\n",
    "    )\n",
    "    en_language.click()\n",
    "else:\n",
    "    print('No languages')\n",
    "\n",
    "time.sleep(2)\n",
    "\n",
    "# Start the game\n",
    "cookie = WebDriverWait(driver, 10).until(\n",
    "    EC.presence_of_element_located((By.ID, \"bigCookie\")))\n",
    "\n",
    "score = driver.find_element(By.ID, 'cookies')\n",
    "products = [driver.find_element(By.ID,\n",
    "                                f'productPrice{i}') for i in range(1,-1,-1)]\n",
    "\n",
    "actions = ActionChains(driver)\n",
    "actions.click(cookie)\n",
    "\n",
    "for i in range(250):\n",
    "    actions.perform()\n",
    "    score_num = int(score.text.split(' ')[0])\n",
    "\n",
    "    for product in products:\n",
    "        price = int(product.text)\n",
    "        if score_num >= price:\n",
    "            upgrade_actions = ActionChains(driver)\n",
    "            upgrade_actions.move_to_element(product)\n",
    "            upgrade_actions.click()\n",
    "            upgrade_actions.perform()"
   ]
  },
  {
   "cell_type": "code",
   "execution_count": 27,
   "metadata": {},
   "outputs": [
    {
     "data": {
      "text/plain": [
       "0"
      ]
     },
     "execution_count": 27,
     "metadata": {},
     "output_type": "execute_result"
    }
   ],
   "source": [
    "score = '0 cookies pe w'\n",
    "score_num = int(score.split(' ')[0])\n",
    "score_num"
   ]
  },
  {
   "cell_type": "code",
   "execution_count": null,
   "metadata": {},
   "outputs": [],
   "source": [
    "PATH = r'C:\\Program Files (x86)\\chromedriver.exe'\n",
    "driver = webdriver.Chrome(PATH)\n",
    "\n",
    "driver.get(r'https://www.wikipedia.org/')\n",
    "\n",
    "# Put language to en\n",
    "languages = driver.find_element_by_id('searchLanguage')\n",
    "select = Select(languages)\n",
    "select.select_by_value(\"en\")\n",
    "\n",
    "# Writes 'Peppa pig'\n",
    "search = driver.find_element_by_id('searchInput')\n",
    "search.clear()\n",
    "search.send_keys('Peppa pig')\n",
    "search.send_keys(Keys.RETURN)\n",
    "\n",
    "\n",
    "try:\n",
    "    tool_box = WebDriverWait(driver, 10).until(\n",
    "        EC.presence_of_element_located((By.LINK_TEXT,\n",
    "                                        \"Hasbro Entertainment\"))\n",
    "    )\n",
    "\n",
    "    tool_box.click()\n",
    "\n",
    "\n",
    "finally:\n",
    "    driver.quit()\n"
   ]
  }
 ],
 "metadata": {
  "kernelspec": {
   "display_name": "base",
   "language": "python",
   "name": "python3"
  },
  "language_info": {
   "codemirror_mode": {
    "name": "ipython",
    "version": 3
   },
   "file_extension": ".py",
   "mimetype": "text/x-python",
   "name": "python",
   "nbconvert_exporter": "python",
   "pygments_lexer": "ipython3",
   "version": "3.11.5"
  }
 },
 "nbformat": 4,
 "nbformat_minor": 2
}
