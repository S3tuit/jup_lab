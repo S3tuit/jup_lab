{
 "cells": [
  {
   "cell_type": "code",
   "execution_count": 17,
   "metadata": {},
   "outputs": [],
   "source": [
    "from selenium import webdriver\n",
    "from selenium.webdriver.common.keys import Keys\n",
    "import time\n",
    "\n",
    "from selenium.webdriver.support.ui import Select\n",
    "from selenium.webdriver.common.by import By\n",
    "from selenium.webdriver.support.wait import WebDriverWait\n",
    "from selenium.webdriver.support import expected_conditions as EC"
   ]
  },
  {
   "cell_type": "code",
   "execution_count": 31,
   "metadata": {},
   "outputs": [],
   "source": [
    "PATH = r'C:\\Program Files (x86)\\chromedriver.exe'\n",
    "driver = webdriver.Chrome(PATH)\n",
    "\n",
    "driver.get(r'https://www.wikipedia.org/')\n",
    "\n",
    "# Put language to en\n",
    "languages = driver.find_element_by_id('searchLanguage')\n",
    "select = Select(languages)\n",
    "select.select_by_value(\"en\")\n",
    "\n",
    "# Writes 'Peppa pig'\n",
    "search = driver.find_element_by_id('searchInput')\n",
    "search.clear()\n",
    "search.send_keys('Peppa pig')\n",
    "search.send_keys(Keys.RETURN)\n",
    "\n",
    "\n",
    "try:\n",
    "    tool_box = WebDriverWait(driver, 10).until(\n",
    "        EC.presence_of_element_located((By.LINK_TEXT,\n",
    "                                        \"Hasbro Entertainment\"))\n",
    "    )\n",
    "\n",
    "    tool_box.click()\n",
    "\n",
    "\n",
    "finally:\n",
    "    driver.quit()\n"
   ]
  },
  {
   "cell_type": "code",
   "execution_count": 23,
   "metadata": {},
   "outputs": [],
   "source": [
    "PATH = r'C:\\Program Files (x86)\\chromedriver.exe'\n",
    "driver = webdriver.Chrome(PATH)\n",
    "\n",
    "driver.get(r'https://www.wikipedia.org/')\n",
    "\n",
    "languages = driver.find_element_by_id('searchLanguage')\n",
    "\n",
    "select = Select(languages)\n",
    "\n",
    "time.sleep(4)\n",
    "\n",
    "select.select_by_value(\"en\")\n",
    "\n",
    "time.sleep(4)\n",
    "\n",
    "driver.quit()"
   ]
  }
 ],
 "metadata": {
  "kernelspec": {
   "display_name": "base",
   "language": "python",
   "name": "python3"
  },
  "language_info": {
   "codemirror_mode": {
    "name": "ipython",
    "version": 3
   },
   "file_extension": ".py",
   "mimetype": "text/x-python",
   "name": "python",
   "nbconvert_exporter": "python",
   "pygments_lexer": "ipython3",
   "version": "3.11.5"
  }
 },
 "nbformat": 4,
 "nbformat_minor": 2
}
