{
 "cells": [
  {
   "cell_type": "code",
   "execution_count": 2,
   "metadata": {},
   "outputs": [],
   "source": [
    "import pandas as pd\n",
    "import numpy as np\n",
    "from scipy import stats"
   ]
  },
  {
   "cell_type": "markdown",
   "metadata": {},
   "source": [
    "### Change the currency\n",
    "\n",
    "UPDATE order_payments\n",
    "SET payment_value = payment_value / 535;\n",
    "\n",
    "UPDATE order_items\n",
    "SET price = price / 535,\n",
    "\tfreight_value = freight_value / 535;\n"
   ]
  },
  {
   "cell_type": "markdown",
   "metadata": {},
   "source": [
    "## The payment method that spend the most"
   ]
  },
  {
   "cell_type": "markdown",
   "metadata": {},
   "source": [
    "SELECT SUM(payment_value)/COUNT(*) AS avg_order_value,\n",
    "\tCOUNT(*) AS num_transactions,\n",
    "\tSTDDEV(payment_value::numeric) AS std,\n",
    "\tpayment_type\n",
    "FROM order_payments\n",
    "GROUP BY payment_type;"
   ]
  },
  {
   "cell_type": "code",
   "execution_count": 19,
   "metadata": {},
   "outputs": [
    {
     "name": "stdout",
     "output_type": "stream",
     "text": [
      "Mean of boleto: 26.544 — 27.1 — 27.656\n",
      "Mean of credit card: 30.226 — 30.52 — 30.814\n",
      "Mean of debit card: 24.337 — 26.64 — 28.943\n",
      "Mean of voucher: 11.713 — 12.27 — 12.827\n"
     ]
    }
   ],
   "source": [
    "#Th:\n",
    "mean_bol = 27.10\n",
    "n_bol = 19784\n",
    "std_bol = 39.92\n",
    "\n",
    "mean_cc = 30.52\n",
    "n_cc = 76795\n",
    "std_cc = 41.52\n",
    "\n",
    "mean_dc = 26.64\n",
    "n_dc = 1529\n",
    "std_dc = 45.94\n",
    "\n",
    "mean_vc = 12.27\n",
    "n_vc = 5775\n",
    "std_vc = 21.59\n",
    "\n",
    "alpha = 0.05\n",
    "\n",
    "#Calculations\n",
    "st_err_bol = std_bol / np.sqrt(n_bol)\n",
    "st_err_cc = std_cc / np.sqrt(n_cc)\n",
    "st_err_dc = std_dc / np.sqrt(n_dc)\n",
    "st_err_vc = std_vc / np.sqrt(n_vc)\n",
    "z_crit = stats.norm.ppf(1 - alpha / 2)\n",
    "\n",
    "print(f'Mean of boleto: {round(mean_bol - st_err_bol*z_crit, 3)} — {round(mean_bol, 3)} — {round(mean_bol + st_err_bol*z_crit, 3)}')\n",
    "print(f'Mean of credit card: {round(mean_cc - st_err_cc*z_crit, 3)} — {round(mean_cc, 3)} — {round(mean_cc + st_err_cc*z_crit, 3)}')\n",
    "print(f'Mean of debit card: {round(mean_dc - st_err_dc*z_crit, 3)} — {round(mean_dc, 3)} — {round(mean_dc + st_err_dc*z_crit, 3)}')\n",
    "print(f'Mean of voucher: {round(mean_vc - st_err_vc*z_crit, 3)} — {round(mean_vc, 3)} — {round(mean_vc + st_err_vc*z_crit, 3)}')\n"
   ]
  },
  {
   "cell_type": "code",
   "execution_count": 22,
   "metadata": {},
   "outputs": [
    {
     "name": "stdout",
     "output_type": "stream",
     "text": [
      "Credit c. is 9.3% more than boleto\n",
      "Credit c. is 135.6% more than voucher\n"
     ]
    }
   ],
   "source": [
    "print(f'Credit c. is {round(100*(30.226 - 27.656)/27.656, 1)}% more than boleto')\n",
    "print(f'Credit c. is {round(100*(30.226 - 12.827)/12.827, 1)}% more than voucher')"
   ]
  },
  {
   "cell_type": "markdown",
   "metadata": {},
   "source": [
    "### Findings:\n",
    "\n",
    "Customers that use credit card spend 9,3% more than customers that use boleto... and 135.6% more than customers who use voucher."
   ]
  },
  {
   "cell_type": "markdown",
   "metadata": {},
   "source": [
    "## Brazilian state more prone to credit_card"
   ]
  },
  {
   "cell_type": "markdown",
   "metadata": {},
   "source": [
    "WITH freq_table_all_cities AS (\n",
    "\tSELECT COUNT(*) AS frequency,\n",
    "\t\tcustomers.customer_state,\n",
    "\t\tpayments.payment_type\n",
    "\tFROM orders\n",
    "\tLEFT JOIN customers ON orders.customer_id = customers.customer_id\n",
    "\tLEFT JOIN order_payments as payments ON payments.order_id = orders.order_id\n",
    "\tWHERE orders.order_status = 'delivered'\n",
    "\t\tAND payments.payment_type IN ('credit_card', 'boleto')\n",
    "\tGROUP BY customers.customer_state, payments.payment_type\n",
    "\tORDER BY customers.customer_state\n",
    "),\n",
    "\n",
    "freq_table AS(\n",
    "\tSELECT *,\n",
    "\t\tSUM(frequency) OVER (PARTITION BY customer_state) AS tot_transactions\n",
    "\tFROM freq_table_all_cities\n",
    ")\n",
    "\n",
    "SELECT *\n",
    "FROM freq_table\n",
    "WHERE tot_transactions > 200;"
   ]
  },
  {
   "cell_type": "code",
   "execution_count": null,
   "metadata": {},
   "outputs": [],
   "source": []
  },
  {
   "cell_type": "code",
   "execution_count": null,
   "metadata": {},
   "outputs": [],
   "source": []
  }
 ],
 "metadata": {
  "kernelspec": {
   "display_name": "base",
   "language": "python",
   "name": "python3"
  },
  "language_info": {
   "codemirror_mode": {
    "name": "ipython",
    "version": 3
   },
   "file_extension": ".py",
   "mimetype": "text/x-python",
   "name": "python",
   "nbconvert_exporter": "python",
   "pygments_lexer": "ipython3",
   "version": "3.11.5"
  }
 },
 "nbformat": 4,
 "nbformat_minor": 2
}
