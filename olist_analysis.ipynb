{
 "cells": [
  {
   "cell_type": "code",
   "execution_count": 31,
   "metadata": {},
   "outputs": [],
   "source": [
    "import pandas as pd\n",
    "import numpy as np\n",
    "from scipy import stats\n",
    "import matplotlib.pyplot as plt"
   ]
  },
  {
   "cell_type": "markdown",
   "metadata": {},
   "source": [
    "### Change the currency\n",
    "\n",
    "UPDATE order_payments\n",
    "SET payment_value = payment_value / 535;\n",
    "\n",
    "UPDATE order_items\n",
    "SET price = price / 535,\n",
    "\tfreight_value = freight_value / 535;\n"
   ]
  },
  {
   "cell_type": "markdown",
   "metadata": {},
   "source": [
    "## The payment method that spend the most"
   ]
  },
  {
   "cell_type": "markdown",
   "metadata": {},
   "source": [
    "SELECT SUM(payment_value)/COUNT(*) AS avg_order_value,\n",
    "\tCOUNT(*) AS num_transactions,\n",
    "\tSTDDEV(payment_value::numeric) AS std,\n",
    "\tpayment_type\n",
    "FROM order_payments\n",
    "GROUP BY payment_type;"
   ]
  },
  {
   "cell_type": "code",
   "execution_count": 23,
   "metadata": {},
   "outputs": [],
   "source": [
    "def mean_ci(mean, n_sample, std, name,alpha=0.05):\n",
    "    st_err = std / np.sqrt(n_sample)\n",
    "    z_crit = stats.norm.ppf(1 - alpha / 2)\n",
    "    print(f'Mean of {name}: {round(mean - st_err*z_crit, 3)} — {round(mean, 3)} — {round(mean + st_err*z_crit, 3)}')\n"
   ]
  },
  {
   "cell_type": "code",
   "execution_count": 24,
   "metadata": {},
   "outputs": [
    {
     "name": "stdout",
     "output_type": "stream",
     "text": [
      "Mean of Boleto: 26.544 — 27.1 — 27.656\n",
      "Mean of Credit C.: 30.226 — 30.52 — 30.814\n",
      "Mean of Debit C.: 24.337 — 26.64 — 28.943\n",
      "Mean of Voucher: 11.713 — 12.27 — 12.827\n"
     ]
    }
   ],
   "source": [
    "#Th:\n",
    "mean_bol = 27.10\n",
    "n_bol = 19784\n",
    "std_bol = 39.92\n",
    "\n",
    "mean_cc = 30.52\n",
    "n_cc = 76795\n",
    "std_cc = 41.52\n",
    "\n",
    "mean_dc = 26.64\n",
    "n_dc = 1529\n",
    "std_dc = 45.94\n",
    "\n",
    "mean_vc = 12.27\n",
    "n_vc = 5775\n",
    "std_vc = 21.59\n",
    "\n",
    "#Calculations\n",
    "mean_ci(mean_bol, n_bol, std_bol, name='Boleto',alpha=0.05)\n",
    "mean_ci(mean_cc, n_cc, std_cc, name='Credit C.',alpha=0.05)\n",
    "mean_ci(mean_dc, n_dc, std_dc, name='Debit C.',alpha=0.05)\n",
    "mean_ci(mean_vc, n_vc, std_vc, name='Voucher',alpha=0.05)"
   ]
  },
  {
   "cell_type": "code",
   "execution_count": 25,
   "metadata": {},
   "outputs": [
    {
     "name": "stdout",
     "output_type": "stream",
     "text": [
      "Credit c. is 9.3% more than boleto\n",
      "Credit c. is 135.6% more than voucher\n"
     ]
    }
   ],
   "source": [
    "print(f'Credit c. is {round(100*(30.226 - 27.656)/27.656, 1)}% more than boleto')\n",
    "print(f'Credit c. is {round(100*(30.226 - 12.827)/12.827, 1)}% more than voucher')"
   ]
  },
  {
   "cell_type": "markdown",
   "metadata": {},
   "source": [
    "### Findings:\n",
    "\n",
    "Customers that use credit card spend 9,3% more than customers that use boleto... and 135.6% more than customers who use voucher."
   ]
  },
  {
   "cell_type": "markdown",
   "metadata": {},
   "source": [
    "## Brazilian state more prone to credit_card"
   ]
  },
  {
   "cell_type": "markdown",
   "metadata": {},
   "source": [
    "WITH freq_table_all_cities AS (\n",
    "\tSELECT COUNT(*) AS frequency,\n",
    "\t\tcustomers.customer_state,\n",
    "\t\tpayments.payment_type\n",
    "\tFROM orders\n",
    "\tLEFT JOIN customers ON orders.customer_id = customers.customer_id\n",
    "\tLEFT JOIN order_payments as payments ON payments.order_id = orders.order_id\n",
    "\tWHERE orders.order_status = 'delivered'\n",
    "\t\tAND payments.payment_type IN ('credit_card', 'boleto')\n",
    "\tGROUP BY customers.customer_state, payments.payment_type\n",
    "\tORDER BY customers.customer_state\n",
    "),\n",
    "\n",
    "freq_table AS(\n",
    "\tSELECT *,\n",
    "\t\tSUM(frequency) OVER (PARTITION BY customer_state) AS tot_transactions\n",
    "\tFROM freq_table_all_cities\n",
    ")\n",
    "\n",
    "SELECT *\n",
    "FROM freq_table\n",
    "WHERE tot_transactions > 200;"
   ]
  },
  {
   "cell_type": "markdown",
   "metadata": {},
   "source": [
    "## Satisfaction vs Delay delivery"
   ]
  },
  {
   "cell_type": "markdown",
   "metadata": {},
   "source": [
    "WITH review_vs_delivery AS(\n",
    "\tSELECT\n",
    "\t\tEXTRACT(DAY FROM orders.order_estimated_delivery_date - orders.order_delivered_customer_date) AS days_in_advance,\n",
    "\t\treviews.review_score\n",
    "\tFROM orders\n",
    "\tJOIN order_reviews AS reviews ON reviews.order_id = orders.order_id\n",
    "\tWHERE (orders.order_estimated_delivery_date - orders.order_delivered_customer_date) IS NOT NULL\n",
    ")\n",
    "\n",
    "SELECT\n",
    "    CASE\n",
    "        WHEN days_in_advance > 0 THEN 'early'\n",
    "        WHEN days_in_advance = 0 THEN 'on_time'\n",
    "        ELSE 'delay'\n",
    "    END AS delivery_status,\n",
    "\tSTDDEV(review_score) as std,\n",
    "\tCOUNT(*) AS frequency,\n",
    "    ROUND(AVG(review_score),2) AS average_review_score\n",
    "FROM \n",
    "    review_vs_delivery\n",
    "GROUP BY \n",
    "    CASE\n",
    "        WHEN days_in_advance > 0 THEN 'early'\n",
    "        WHEN days_in_advance = 0 THEN 'on_time'\n",
    "        ELSE 'delay'\n",
    "    END;"
   ]
  },
  {
   "cell_type": "code",
   "execution_count": 26,
   "metadata": {},
   "outputs": [
    {
     "name": "stdout",
     "output_type": "stream",
     "text": [
      "Mean of ON TIME: 4.064 — 4.11 — 4.156\n",
      "Mean of EARLY: 4.292 — 4.3 — 4.308\n",
      "Mean of DELAY: 2.231 — 2.27 — 2.309\n"
     ]
    }
   ],
   "source": [
    "n_on_time = 2718\n",
    "mean_on_time = 4.11\n",
    "std_on_time = 1.2229379667062870\n",
    "\n",
    "n_early = 86527\n",
    "mean_early = 4.30\n",
    "std_early = 1.1443707624508323\n",
    "\n",
    "n_delay = 6362\n",
    "mean_delay = 2.27\n",
    "std_delay = 1.5708429336836291\n",
    "\n",
    "mean_ci(mean_on_time, n_on_time, std_on_time, 'ON TIME')\n",
    "mean_ci(mean_early, n_early, std_early, 'EARLY')\n",
    "mean_ci(mean_delay, n_delay, std_delay, 'DELAY')"
   ]
  },
  {
   "cell_type": "code",
   "execution_count": 29,
   "metadata": {},
   "outputs": [
    {
     "name": "stdout",
     "output_type": "stream",
     "text": [
      "Early vs. On time: +3.2% satisfaction\n",
      "Early vs. Delay: +85.9% satisfaction\n",
      "On time vs. Delay: +76.0% satisfaction\n"
     ]
    }
   ],
   "source": [
    "print(f'Early vs. On time: +{round(100* (4.29-4.156)/4.156,1)}% satisfaction')\n",
    "print(f'Early vs. Delay: +{round(100* (4.292-2.309)/2.309, 1)}% satisfaction')\n",
    "print(f'On time vs. Delay: +{round(100* (4.064-2.309)/2.309, 1)}% satisfaction')"
   ]
  },
  {
   "cell_type": "markdown",
   "metadata": {},
   "source": [
    "WITH review_vs_delivery AS(\n",
    "\tSELECT\n",
    "\t\tEXTRACT(DAY FROM orders.order_estimated_delivery_date - orders.order_delivered_customer_date) AS days_in_advance,\n",
    "\t\treviews.review_score\n",
    "\tFROM orders\n",
    "\tJOIN order_reviews AS reviews ON reviews.order_id = orders.order_id\n",
    "\tWHERE (orders.order_estimated_delivery_date - orders.order_delivered_customer_date) IS NOT NULL\n",
    "),\n",
    "\n",
    "reviews_delivery_bin AS(\n",
    "\tSELECT\n",
    "\t\t*,\n",
    "\t\twidth_bucket(days_in_advance, -20, 20, 20) AS bin\n",
    "\tFROM review_vs_delivery\n",
    ")\n",
    "\n",
    "SELECT\n",
    "\tbin,\n",
    "\tMAX(days_in_advance) AS high_bound,\n",
    "\tMIN(days_in_advance) AS low_bound,\n",
    "\tAVG(review_score) AS avg_stars\n",
    "FROM reviews_delivery_bin\n",
    "GROUP BY bin\n",
    "ORDER BY bin;"
   ]
  },
  {
   "cell_type": "code",
   "execution_count": 30,
   "metadata": {},
   "outputs": [
    {
     "data": {
      "text/html": [
       "<div>\n",
       "<style scoped>\n",
       "    .dataframe tbody tr th:only-of-type {\n",
       "        vertical-align: middle;\n",
       "    }\n",
       "\n",
       "    .dataframe tbody tr th {\n",
       "        vertical-align: top;\n",
       "    }\n",
       "\n",
       "    .dataframe thead th {\n",
       "        text-align: right;\n",
       "    }\n",
       "</style>\n",
       "<table border=\"1\" class=\"dataframe\">\n",
       "  <thead>\n",
       "    <tr style=\"text-align: right;\">\n",
       "      <th></th>\n",
       "      <th>bin</th>\n",
       "      <th>high_bound</th>\n",
       "      <th>low_bound</th>\n",
       "      <th>avg_stars</th>\n",
       "    </tr>\n",
       "  </thead>\n",
       "  <tbody>\n",
       "    <tr>\n",
       "      <th>0</th>\n",
       "      <td>0</td>\n",
       "      <td>-21</td>\n",
       "      <td>-188</td>\n",
       "      <td>1.768725</td>\n",
       "    </tr>\n",
       "    <tr>\n",
       "      <th>1</th>\n",
       "      <td>1</td>\n",
       "      <td>-19</td>\n",
       "      <td>-20</td>\n",
       "      <td>1.587500</td>\n",
       "    </tr>\n",
       "    <tr>\n",
       "      <th>2</th>\n",
       "      <td>2</td>\n",
       "      <td>-17</td>\n",
       "      <td>-18</td>\n",
       "      <td>1.672840</td>\n",
       "    </tr>\n",
       "    <tr>\n",
       "      <th>3</th>\n",
       "      <td>3</td>\n",
       "      <td>-15</td>\n",
       "      <td>-16</td>\n",
       "      <td>1.696000</td>\n",
       "    </tr>\n",
       "    <tr>\n",
       "      <th>4</th>\n",
       "      <td>4</td>\n",
       "      <td>-13</td>\n",
       "      <td>-14</td>\n",
       "      <td>1.654494</td>\n",
       "    </tr>\n",
       "  </tbody>\n",
       "</table>\n",
       "</div>"
      ],
      "text/plain": [
       "   bin  high_bound  low_bound  avg_stars\n",
       "0    0         -21       -188   1.768725\n",
       "1    1         -19        -20   1.587500\n",
       "2    2         -17        -18   1.672840\n",
       "3    3         -15        -16   1.696000\n",
       "4    4         -13        -14   1.654494"
      ]
     },
     "execution_count": 30,
     "metadata": {},
     "output_type": "execute_result"
    }
   ],
   "source": [
    "df = pd.read_csv(r'C:\\Users\\matte\\OneDrive\\Desktop\\GitHub\\data\\ecom_brazil\\4 tableau\\review_score_vs_delivery.csv')\n",
    "df.head()"
   ]
  },
  {
   "cell_type": "code",
   "execution_count": 32,
   "metadata": {},
   "outputs": [
    {
     "data": {
      "text/plain": [
       "[<matplotlib.lines.Line2D at 0x23e0b63d690>]"
      ]
     },
     "execution_count": 32,
     "metadata": {},
     "output_type": "execute_result"
    },
    {
     "data": {
      "image/png": "[encoded data removed]",
      "text/plain": [
       "<Figure size 640x480 with 1 Axes>"
      ]
     },
     "metadata": {},
     "output_type": "display_data"
    }
   ],
   "source": [
    "plt.plot(df['bin'], df['avg_stars'])"
   ]
  },
  {
   "cell_type": "markdown",
   "metadata": {},
   "source": [
    "## Brazil and the tendency to buy locally"
   ]
  },
  {
   "cell_type": "markdown",
   "metadata": {},
   "source": [
    "SELECT\n",
    "\tCASE\n",
    "\t\t WHEN sellers.seller_city = customers.customer_city THEN 'km 0'\n",
    "\t\t WHEN sellers.seller_state = customers.customer_state THEN 'local'\n",
    "\t\t ELSE 'not local'\n",
    "\tEND,\n",
    "\tCOUNT(CASE\n",
    "\t\t \tWHEN sellers.seller_city = customers.customer_city THEN 'km 0'\n",
    "\t\t  \tWHEN sellers.seller_state = customers.customer_state THEN 'local'\n",
    "\t\t \tELSE 'not local'\n",
    "\t\t END) AS frequency\n",
    "FROM orders\n",
    "LEFT JOIN order_items AS items ON items.order_id = orders.order_id\n",
    "JOIN customers ON customers.customer_id = orders.customer_id\n",
    "JOIN sellers ON sellers.seller_id = items.seller_id\n",
    "GROUP BY CASE\n",
    "\t\t \tWHEN sellers.seller_city = customers.customer_city THEN 'km 0'\n",
    "\t\t\tWHEN sellers.seller_state = customers.customer_state THEN 'local'\n",
    "\t\t \tELSE 'not local'\n",
    "\t\t END;"
   ]
  }
 ],
 "metadata": {
  "kernelspec": {
   "display_name": "base",
   "language": "python",
   "name": "python3"
  },
  "language_info": {
   "codemirror_mode": {
    "name": "ipython",
    "version": 3
   },
   "file_extension": ".py",
   "mimetype": "text/x-python",
   "name": "python",
   "nbconvert_exporter": "python",
   "pygments_lexer": "ipython3",
   "version": "3.11.5"
  }
 },
 "nbformat": 4,
 "nbformat_minor": 2
}
