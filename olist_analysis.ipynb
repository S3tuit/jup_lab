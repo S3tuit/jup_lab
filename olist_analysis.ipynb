{
 "cells": [
  {
   "cell_type": "code",
   "execution_count": 3,
   "metadata": {},
   "outputs": [],
   "source": [
    "import pandas as pd\n",
    "import numpy as np\n",
    "from scipy import stats\n",
    "import matplotlib.pyplot as plt"
   ]
  },
  {
   "cell_type": "markdown",
   "metadata": {},
   "source": [
    "### Change the currency\n",
    "\n",
    "UPDATE order_payments\n",
    "SET payment_value = payment_value / 535;\n",
    "\n",
    "UPDATE order_items\n",
    "SET price = price / 535,\n",
    "\tfreight_value = freight_value / 535;\n"
   ]
  },
  {
   "cell_type": "markdown",
   "metadata": {},
   "source": [
    "## The payment method that spend the most"
   ]
  },
  {
   "cell_type": "markdown",
   "metadata": {},
   "source": [
    "SELECT SUM(payment_value)/COUNT(*) AS avg_order_value,\n",
    "\tCOUNT(*) AS num_transactions,\n",
    "\tSTDDEV(payment_value::numeric) AS std,\n",
    "\tpayment_type\n",
    "FROM order_payments\n",
    "GROUP BY payment_type;"
   ]
  },
  {
   "cell_type": "code",
   "execution_count": 4,
   "metadata": {},
   "outputs": [],
   "source": [
    "def mean_ci(mean, n_sample, std, name, do_return = False, alpha=0.05):\n",
    "    st_err = std / np.sqrt(n_sample)\n",
    "    z_crit = stats.norm.ppf(1 - alpha / 2)\n",
    "    low_bound = round(mean - st_err*z_crit, 3)\n",
    "    high_bound = round(mean + st_err*z_crit, 3)\n",
    "\n",
    "    if do_return:\n",
    "        return low_bound, high_bound\n",
    "    else:\n",
    "        print(f'Mean of {name}: {low_bound} — {round(mean, 3)} — {high_bound}')\n"
   ]
  },
  {
   "cell_type": "code",
   "execution_count": 5,
   "metadata": {},
   "outputs": [
    {
     "name": "stdout",
     "output_type": "stream",
     "text": [
      "Mean of Boleto: 26.544 — 27.1 — 27.656\n",
      "Mean of Credit C.: 30.226 — 30.52 — 30.814\n",
      "Mean of Debit C.: 24.337 — 26.64 — 28.943\n",
      "Mean of Voucher: 11.713 — 12.27 — 12.827\n"
     ]
    }
   ],
   "source": [
    "#Th:\n",
    "mean_bol = 27.10\n",
    "n_bol = 19784\n",
    "std_bol = 39.92\n",
    "\n",
    "mean_cc = 30.52\n",
    "n_cc = 76795\n",
    "std_cc = 41.52\n",
    "\n",
    "mean_dc = 26.64\n",
    "n_dc = 1529\n",
    "std_dc = 45.94\n",
    "\n",
    "mean_vc = 12.27\n",
    "n_vc = 5775\n",
    "std_vc = 21.59\n",
    "\n",
    "#Calculations\n",
    "mean_ci(mean_bol, n_bol, std_bol, name='Boleto',alpha=0.05)\n",
    "mean_ci(mean_cc, n_cc, std_cc, name='Credit C.',alpha=0.05)\n",
    "mean_ci(mean_dc, n_dc, std_dc, name='Debit C.',alpha=0.05)\n",
    "mean_ci(mean_vc, n_vc, std_vc, name='Voucher',alpha=0.05)"
   ]
  },
  {
   "cell_type": "code",
   "execution_count": 6,
   "metadata": {},
   "outputs": [
    {
     "name": "stdout",
     "output_type": "stream",
     "text": [
      "Credit c. is 9.3% more than boleto\n",
      "Credit c. is 135.6% more than voucher\n"
     ]
    }
   ],
   "source": [
    "print(f'Credit c. is {round(100*(30.226 - 27.656)/27.656, 1)}% more than boleto')\n",
    "print(f'Credit c. is {round(100*(30.226 - 12.827)/12.827, 1)}% more than voucher')"
   ]
  },
  {
   "cell_type": "markdown",
   "metadata": {},
   "source": [
    "### Findings:\n",
    "\n",
    "Customers that use credit card spend 9,3% more than customers that use boleto... and 135.6% more than customers who use voucher."
   ]
  },
  {
   "cell_type": "markdown",
   "metadata": {},
   "source": [
    "## Brazilian state more prone to credit_card"
   ]
  },
  {
   "cell_type": "markdown",
   "metadata": {},
   "source": [
    "WITH freq_table_all_cities AS (\n",
    "\tSELECT COUNT(*) AS frequency,\n",
    "\t\tcustomers.customer_state,\n",
    "\t\tpayments.payment_type\n",
    "\tFROM orders\n",
    "\tLEFT JOIN customers ON orders.customer_id = customers.customer_id\n",
    "\tLEFT JOIN order_payments as payments ON payments.order_id = orders.order_id\n",
    "\tWHERE orders.order_status = 'delivered'\n",
    "\t\tAND payments.payment_type IN ('credit_card', 'boleto')\n",
    "\tGROUP BY customers.customer_state, payments.payment_type\n",
    "\tORDER BY customers.customer_state\n",
    "),\n",
    "\n",
    "freq_table AS(\n",
    "\tSELECT *,\n",
    "\t\tSUM(frequency) OVER (PARTITION BY customer_state) AS tot_transactions\n",
    "\tFROM freq_table_all_cities\n",
    ")\n",
    "\n",
    "SELECT *\n",
    "FROM freq_table\n",
    "WHERE tot_transactions > 200;"
   ]
  },
  {
   "cell_type": "markdown",
   "metadata": {},
   "source": [
    "## Satisfaction vs Delay delivery"
   ]
  },
  {
   "cell_type": "markdown",
   "metadata": {},
   "source": [
    "WITH review_vs_delivery AS(\n",
    "\tSELECT\n",
    "\t\tEXTRACT(DAY FROM orders.order_estimated_delivery_date - orders.order_delivered_customer_date) AS days_in_advance,\n",
    "\t\treviews.review_score\n",
    "\tFROM orders\n",
    "\tJOIN order_reviews AS reviews ON reviews.order_id = orders.order_id\n",
    "\tWHERE (orders.order_estimated_delivery_date - orders.order_delivered_customer_date) IS NOT NULL\n",
    ")\n",
    "\n",
    "SELECT\n",
    "    CASE\n",
    "        WHEN days_in_advance > 0 THEN 'early'\n",
    "        WHEN days_in_advance = 0 THEN 'on_time'\n",
    "        ELSE 'delay'\n",
    "    END AS delivery_status,\n",
    "\tSTDDEV(review_score) as std,\n",
    "\tCOUNT(*) AS frequency,\n",
    "    ROUND(AVG(review_score),2) AS average_review_score\n",
    "FROM \n",
    "    review_vs_delivery\n",
    "GROUP BY \n",
    "    CASE\n",
    "        WHEN days_in_advance > 0 THEN 'early'\n",
    "        WHEN days_in_advance = 0 THEN 'on_time'\n",
    "        ELSE 'delay'\n",
    "    END;"
   ]
  },
  {
   "cell_type": "code",
   "execution_count": 7,
   "metadata": {},
   "outputs": [
    {
     "name": "stdout",
     "output_type": "stream",
     "text": [
      "Mean of ON TIME: 4.064 — 4.11 — 4.156\n",
      "Mean of EARLY: 4.292 — 4.3 — 4.308\n",
      "Mean of DELAY: 2.231 — 2.27 — 2.309\n"
     ]
    }
   ],
   "source": [
    "n_on_time = 2718\n",
    "mean_on_time = 4.11\n",
    "std_on_time = 1.2229379667062870\n",
    "\n",
    "n_early = 86527\n",
    "mean_early = 4.30\n",
    "std_early = 1.1443707624508323\n",
    "\n",
    "n_delay = 6362\n",
    "mean_delay = 2.27\n",
    "std_delay = 1.5708429336836291\n",
    "\n",
    "mean_ci(mean_on_time, n_on_time, std_on_time, 'ON TIME')\n",
    "mean_ci(mean_early, n_early, std_early, 'EARLY')\n",
    "mean_ci(mean_delay, n_delay, std_delay, 'DELAY')"
   ]
  },
  {
   "cell_type": "code",
   "execution_count": 8,
   "metadata": {},
   "outputs": [
    {
     "name": "stdout",
     "output_type": "stream",
     "text": [
      "Early vs. On time: +3.2% satisfaction\n",
      "Early vs. Delay: +85.9% satisfaction\n",
      "On time vs. Delay: +76.0% satisfaction\n"
     ]
    }
   ],
   "source": [
    "print(f'Early vs. On time: +{round(100* (4.29-4.156)/4.156,1)}% satisfaction')\n",
    "print(f'Early vs. Delay: +{round(100* (4.292-2.309)/2.309, 1)}% satisfaction')\n",
    "print(f'On time vs. Delay: +{round(100* (4.064-2.309)/2.309, 1)}% satisfaction')"
   ]
  },
  {
   "cell_type": "markdown",
   "metadata": {},
   "source": [
    "WITH review_vs_delivery AS(\n",
    "\tSELECT\n",
    "\t\tEXTRACT(DAY FROM orders.order_estimated_delivery_date - orders.order_delivered_customer_date) AS days_in_advance,\n",
    "\t\treviews.review_score\n",
    "\tFROM orders\n",
    "\tJOIN order_reviews AS reviews ON reviews.order_id = orders.order_id\n",
    "\tWHERE (orders.order_estimated_delivery_date - orders.order_delivered_customer_date) IS NOT NULL\n",
    "),\n",
    "\n",
    "reviews_delivery_bin AS(\n",
    "\tSELECT\n",
    "\t\t*,\n",
    "\t\twidth_bucket(days_in_advance, -20, 20, 20) AS bin\n",
    "\tFROM review_vs_delivery\n",
    ")\n",
    "\n",
    "SELECT\n",
    "\tbin,\n",
    "\tMAX(days_in_advance) AS high_bound,\n",
    "\tMIN(days_in_advance) AS low_bound,\n",
    "\tAVG(review_score) AS avg_stars\n",
    "FROM reviews_delivery_bin\n",
    "GROUP BY bin\n",
    "ORDER BY bin;"
   ]
  },
  {
   "cell_type": "code",
   "execution_count": 9,
   "metadata": {},
   "outputs": [
    {
     "data": {
      "text/html": [
       "<div>\n",
       "<style scoped>\n",
       "    .dataframe tbody tr th:only-of-type {\n",
       "        vertical-align: middle;\n",
       "    }\n",
       "\n",
       "    .dataframe tbody tr th {\n",
       "        vertical-align: top;\n",
       "    }\n",
       "\n",
       "    .dataframe thead th {\n",
       "        text-align: right;\n",
       "    }\n",
       "</style>\n",
       "<table border=\"1\" class=\"dataframe\">\n",
       "  <thead>\n",
       "    <tr style=\"text-align: right;\">\n",
       "      <th></th>\n",
       "      <th>bin</th>\n",
       "      <th>high_bound</th>\n",
       "      <th>low_bound</th>\n",
       "      <th>avg_stars</th>\n",
       "    </tr>\n",
       "  </thead>\n",
       "  <tbody>\n",
       "    <tr>\n",
       "      <th>0</th>\n",
       "      <td>0</td>\n",
       "      <td>-21</td>\n",
       "      <td>-188</td>\n",
       "      <td>1.768725</td>\n",
       "    </tr>\n",
       "    <tr>\n",
       "      <th>1</th>\n",
       "      <td>1</td>\n",
       "      <td>-19</td>\n",
       "      <td>-20</td>\n",
       "      <td>1.587500</td>\n",
       "    </tr>\n",
       "    <tr>\n",
       "      <th>2</th>\n",
       "      <td>2</td>\n",
       "      <td>-17</td>\n",
       "      <td>-18</td>\n",
       "      <td>1.672840</td>\n",
       "    </tr>\n",
       "    <tr>\n",
       "      <th>3</th>\n",
       "      <td>3</td>\n",
       "      <td>-15</td>\n",
       "      <td>-16</td>\n",
       "      <td>1.696000</td>\n",
       "    </tr>\n",
       "    <tr>\n",
       "      <th>4</th>\n",
       "      <td>4</td>\n",
       "      <td>-13</td>\n",
       "      <td>-14</td>\n",
       "      <td>1.654494</td>\n",
       "    </tr>\n",
       "  </tbody>\n",
       "</table>\n",
       "</div>"
      ],
      "text/plain": [
       "   bin  high_bound  low_bound  avg_stars\n",
       "0    0         -21       -188   1.768725\n",
       "1    1         -19        -20   1.587500\n",
       "2    2         -17        -18   1.672840\n",
       "3    3         -15        -16   1.696000\n",
       "4    4         -13        -14   1.654494"
      ]
     },
     "execution_count": 9,
     "metadata": {},
     "output_type": "execute_result"
    }
   ],
   "source": [
    "df = pd.read_csv(r'C:\\Users\\matte\\OneDrive\\Desktop\\GitHub\\data\\ecom_brazil\\4 tableau\\review_score_vs_delivery.csv')\n",
    "df.head()"
   ]
  },
  {
   "cell_type": "code",
   "execution_count": 10,
   "metadata": {},
   "outputs": [
    {
     "data": {
      "text/plain": [
       "[<matplotlib.lines.Line2D at 0x132b6ca3ed0>]"
      ]
     },
     "execution_count": 10,
     "metadata": {},
     "output_type": "execute_result"
    },
    {
     "data": {
      "image/png": "[encoded data removed]",
      "text/plain": [
       "<Figure size 640x480 with 1 Axes>"
      ]
     },
     "metadata": {},
     "output_type": "display_data"
    }
   ],
   "source": [
    "plt.plot(df['bin'], df['avg_stars'])"
   ]
  },
  {
   "cell_type": "markdown",
   "metadata": {},
   "source": [
    "## Brazil and the tendency to buy locally"
   ]
  },
  {
   "cell_type": "markdown",
   "metadata": {},
   "source": [
    "SELECT\n",
    "\tCASE\n",
    "\t\t WHEN sellers.seller_city = customers.customer_city THEN 'km 0'\n",
    "\t\t WHEN sellers.seller_state = customers.customer_state THEN 'local'\n",
    "\t\t ELSE 'not local'\n",
    "\tEND,\n",
    "\tCOUNT(*) AS frequency\n",
    "FROM orders\n",
    "LEFT JOIN order_items AS items ON items.order_id = orders.order_id\n",
    "JOIN customers ON customers.customer_id = orders.customer_id\n",
    "JOIN sellers ON sellers.seller_id = items.seller_id\n",
    "GROUP BY CASE\n",
    "\t\t \tWHEN sellers.seller_city = customers.customer_city THEN 'km 0'\n",
    "\t\t\tWHEN sellers.seller_state = customers.customer_state THEN 'local'\n",
    "\t\t \tELSE 'not local'\n",
    "\t\t END;"
   ]
  },
  {
   "cell_type": "markdown",
   "metadata": {},
   "source": [
    "WITH distances AS(\n",
    "    SELECT\n",
    "        ACOS(\n",
    "            GREATEST(\n",
    "                LEAST(\n",
    "                    SIN(RADIANS(geo_sellers.geolocation_lat)) * SIN(RADIANS(geo_cust.geolocation_lat)) +\n",
    "                    COS(RADIANS(geo_sellers.geolocation_lat)) * COS(RADIANS(geo_cust.geolocation_lat)) *\n",
    "                    COS(RADIANS(geo_cust.geolocation_lng) - RADIANS(geo_sellers.geolocation_lng)),\n",
    "                    1\n",
    "                ),\n",
    "                -1\n",
    "            )\n",
    "        ) * 6371 AS distance\n",
    "    FROM orders\n",
    "    LEFT JOIN order_items AS items ON items.order_id = orders.order_id\n",
    "    JOIN customers ON customers.customer_id = orders.customer_id\n",
    "    JOIN sellers ON sellers.seller_id = items.seller_id\n",
    "    JOIN geolocation as geo_sellers ON geo_sellers.geolocation_zip_code_prefix = sellers.seller_zip_code_prefix\n",
    "    JOIN geolocation as geo_cust ON geo_cust.geolocation_zip_code_prefix = customers.customer_zip_code_prefix\n",
    ")\n",
    "\n",
    "SELECT\n",
    "    AVG(distance) AS avg_distance,\n",
    "    PERCENTILE_CONT(0.5) WITHIN GROUP(ORDER BY distance) AS median_distance\n",
    "FROM distances;"
   ]
  },
  {
   "cell_type": "markdown",
   "metadata": {},
   "source": [
    "## State with the highest order value"
   ]
  },
  {
   "cell_type": "markdown",
   "metadata": {},
   "source": [
    "SELECT\n",
    "\tcustomers.customer_state AS state,\n",
    "\tROUND(AVG(payment.payment_value::NUMERIC), 2) AS avg_order_value,\n",
    "\tROUND(PERCENTILE_CONT(0.5) WITHIN GROUP(ORDER BY payment.payment_value::NUMERIC)::NUMERIC, 2) AS median_order_value,\n",
    "\tROUND(STDDEV(payment.payment_value::NUMERIC), 3) AS std,\n",
    "\tCOUNT(*)\n",
    "FROM orders\n",
    "JOIN customers ON customers.customer_id = orders.customer_id\n",
    "JOIN order_payments AS payment ON payment.order_id = orders.order_id\n",
    "WHERE payment.payment_sequential = 1\n",
    "GROUP BY customers.customer_state\n",
    "ORDER BY AVG(payment.payment_value::NUMERIC) DESC;"
   ]
  },
  {
   "cell_type": "code",
   "execution_count": 11,
   "metadata": {},
   "outputs": [
    {
     "data": {
      "text/html": [
       "<div>\n",
       "<style scoped>\n",
       "    .dataframe tbody tr th:only-of-type {\n",
       "        vertical-align: middle;\n",
       "    }\n",
       "\n",
       "    .dataframe tbody tr th {\n",
       "        vertical-align: top;\n",
       "    }\n",
       "\n",
       "    .dataframe thead th {\n",
       "        text-align: right;\n",
       "    }\n",
       "</style>\n",
       "<table border=\"1\" class=\"dataframe\">\n",
       "  <thead>\n",
       "    <tr style=\"text-align: right;\">\n",
       "      <th></th>\n",
       "      <th>state</th>\n",
       "      <th>avg_order_value</th>\n",
       "      <th>median_order_value</th>\n",
       "      <th>std</th>\n",
       "      <th>count</th>\n",
       "    </tr>\n",
       "  </thead>\n",
       "  <tbody>\n",
       "    <tr>\n",
       "      <th>0</th>\n",
       "      <td>PB</td>\n",
       "      <td>47.72</td>\n",
       "      <td>28.46</td>\n",
       "      <td>72.114</td>\n",
       "      <td>536</td>\n",
       "    </tr>\n",
       "    <tr>\n",
       "      <th>1</th>\n",
       "      <td>RO</td>\n",
       "      <td>44.55</td>\n",
       "      <td>29.39</td>\n",
       "      <td>57.684</td>\n",
       "      <td>253</td>\n",
       "    </tr>\n",
       "    <tr>\n",
       "      <th>2</th>\n",
       "      <td>AP</td>\n",
       "      <td>44.24</td>\n",
       "      <td>27.13</td>\n",
       "      <td>52.143</td>\n",
       "      <td>68</td>\n",
       "    </tr>\n",
       "    <tr>\n",
       "      <th>3</th>\n",
       "      <td>AC</td>\n",
       "      <td>44.00</td>\n",
       "      <td>29.58</td>\n",
       "      <td>40.506</td>\n",
       "      <td>81</td>\n",
       "    </tr>\n",
       "    <tr>\n",
       "      <th>4</th>\n",
       "      <td>AL</td>\n",
       "      <td>43.05</td>\n",
       "      <td>25.65</td>\n",
       "      <td>51.655</td>\n",
       "      <td>413</td>\n",
       "    </tr>\n",
       "  </tbody>\n",
       "</table>\n",
       "</div>"
      ],
      "text/plain": [
       "  state  avg_order_value  median_order_value     std  count\n",
       "0    PB            47.72               28.46  72.114    536\n",
       "1    RO            44.55               29.39  57.684    253\n",
       "2    AP            44.24               27.13  52.143     68\n",
       "3    AC            44.00               29.58  40.506     81\n",
       "4    AL            43.05               25.65  51.655    413"
      ]
     },
     "execution_count": 11,
     "metadata": {},
     "output_type": "execute_result"
    }
   ],
   "source": [
    "df_states = pd.read_csv(r'C:\\Users\\matte\\OneDrive\\Desktop\\GitHub\\data\\ecom_brazil\\4 tableau\\order_value_vs_state.csv')\n",
    "df_states.head()"
   ]
  },
  {
   "cell_type": "code",
   "execution_count": 12,
   "metadata": {},
   "outputs": [
    {
     "data": {
      "text/html": [
       "<div>\n",
       "<style scoped>\n",
       "    .dataframe tbody tr th:only-of-type {\n",
       "        vertical-align: middle;\n",
       "    }\n",
       "\n",
       "    .dataframe tbody tr th {\n",
       "        vertical-align: top;\n",
       "    }\n",
       "\n",
       "    .dataframe thead th {\n",
       "        text-align: right;\n",
       "    }\n",
       "</style>\n",
       "<table border=\"1\" class=\"dataframe\">\n",
       "  <thead>\n",
       "    <tr style=\"text-align: right;\">\n",
       "      <th></th>\n",
       "      <th>state</th>\n",
       "      <th>avg_order_value</th>\n",
       "      <th>median_order_value</th>\n",
       "      <th>std</th>\n",
       "      <th>count</th>\n",
       "    </tr>\n",
       "  </thead>\n",
       "  <tbody>\n",
       "    <tr>\n",
       "      <th>0</th>\n",
       "      <td>PB</td>\n",
       "      <td>47.72</td>\n",
       "      <td>28.46</td>\n",
       "      <td>72.114</td>\n",
       "      <td>536</td>\n",
       "    </tr>\n",
       "    <tr>\n",
       "      <th>1</th>\n",
       "      <td>RO</td>\n",
       "      <td>44.55</td>\n",
       "      <td>29.39</td>\n",
       "      <td>57.684</td>\n",
       "      <td>253</td>\n",
       "    </tr>\n",
       "    <tr>\n",
       "      <th>2</th>\n",
       "      <td>AP</td>\n",
       "      <td>44.24</td>\n",
       "      <td>27.13</td>\n",
       "      <td>52.143</td>\n",
       "      <td>68</td>\n",
       "    </tr>\n",
       "    <tr>\n",
       "      <th>3</th>\n",
       "      <td>AC</td>\n",
       "      <td>44.00</td>\n",
       "      <td>29.58</td>\n",
       "      <td>40.506</td>\n",
       "      <td>81</td>\n",
       "    </tr>\n",
       "    <tr>\n",
       "      <th>4</th>\n",
       "      <td>AL</td>\n",
       "      <td>43.05</td>\n",
       "      <td>25.65</td>\n",
       "      <td>51.655</td>\n",
       "      <td>413</td>\n",
       "    </tr>\n",
       "  </tbody>\n",
       "</table>\n",
       "</div>"
      ],
      "text/plain": [
       "  state  avg_order_value  median_order_value     std  count\n",
       "0    PB            47.72               28.46  72.114    536\n",
       "1    RO            44.55               29.39  57.684    253\n",
       "2    AP            44.24               27.13  52.143     68\n",
       "3    AC            44.00               29.58  40.506     81\n",
       "4    AL            43.05               25.65  51.655    413"
      ]
     },
     "execution_count": 12,
     "metadata": {},
     "output_type": "execute_result"
    }
   ],
   "source": [
    "df_states.head()"
   ]
  },
  {
   "cell_type": "code",
   "execution_count": 13,
   "metadata": {},
   "outputs": [],
   "source": [
    "df_states['bounds'] = df_states.apply(\n",
    "    lambda row: mean_ci(row['avg_order_value'], row['count'], row['std'], row['state'], do_return=True),\n",
    "    axis=1\n",
    ")\n",
    "\n",
    "df_states['low_bound'] = df_states['bounds'].str[0]\n",
    "df_states['high_bound'] = df_states['bounds'].str[1]"
   ]
  },
  {
   "cell_type": "code",
   "execution_count": 14,
   "metadata": {},
   "outputs": [
    {
     "data": {
      "image/png": "[encoded data removed]",
      "text/plain": [
       "<Figure size 640x480 with 1 Axes>"
      ]
     },
     "metadata": {},
     "output_type": "display_data"
    }
   ],
   "source": [
    "plt.barh(df_states['state'], df_states['high_bound'], left=df_states['low_bound'])\n",
    "plt.show()"
   ]
  },
  {
   "cell_type": "markdown",
   "metadata": {},
   "source": [
    "There's not enough statistical evidence that the avg order value of a state is higher\n",
    "than the one of the other states.\n",
    "Probably, it's better to invest in the state with the cheapest conversion\n",
    "rather than the state with the highest avg order value."
   ]
  },
  {
   "cell_type": "markdown",
   "metadata": {},
   "source": [
    "## State with the most recurring customers"
   ]
  },
  {
   "cell_type": "markdown",
   "metadata": {},
   "source": [
    "**Yealy value by state**\n",
    "\n",
    "WITH life_time_table AS(\n",
    "\tSELECT\n",
    "\t\tEXTRACT(DAYS FROM (SELECT MAX(order_purchase_timestamp) FROM orders) - MIN(orders.order_purchase_timestamp)) AS lt_days,\n",
    "\t\tcustomers.customer_unique_id AS id,\n",
    "\t\tcustomers.customer_state AS state,\n",
    "\t\tSUM(payments.payment_value) AS lt_spent\n",
    "\tFROM orders\n",
    "\tJOIN customers ON customers.customer_id = orders.customer_id\n",
    "\tJOIN order_payments AS payments ON payments.order_id = orders.order_id\n",
    "\tWHERE payments.payment_sequential = 1\n",
    "\tGROUP BY customers.customer_unique_id, customers.customer_state\n",
    ")\n",
    "\n",
    "SELECT\n",
    "\tstate,\n",
    "\tROUND(STDDEV(lt_spent::NUMERIC * 365 / (CASE\n",
    "\t\tWHEN lt_days < 365 THEN 365\n",
    "\t\tELSE lt_days END)),2) as std,\n",
    "\tROUND(AVG(lt_spent::NUMERIC * 365 / (CASE\n",
    "\t\tWHEN lt_days < 365 THEN 365\n",
    "\t\tELSE lt_days END)),2) as yearly_value,\n",
    "\tCOUNT(*) AS size\n",
    "FROM life_time_table\n",
    "GROUP BY state;"
   ]
  },
  {
   "cell_type": "markdown",
   "metadata": {},
   "source": [
    "**Proportion of recurring customers by state**\n",
    "\n",
    "WITH recurring_tab AS(\n",
    "\tSELECT\n",
    "\t\tcustomers.customer_state AS state,\n",
    "\t\tCOUNT(*) AS num_orders,\n",
    "\t\tCASE\n",
    "\t\t\tWHEN COUNT(*)>1 THEN 1\n",
    "\t\t\tELSE 0\n",
    "\t\tEND AS is_recurring\n",
    "\tFROM orders\n",
    "\tJOIN customers ON customers.customer_id = orders.customer_id\n",
    "\tGROUP BY customers.customer_state, customers.customer_unique_id\n",
    ")\n",
    "\n",
    "SELECT\n",
    "\tstate,\n",
    "\tCOUNT(*) AS size,\n",
    "\tSUM(is_recurring) AS recurring_size,\n",
    "\tROUND(SUM(is_recurring)::NUMERIC/COUNT(*)::NUMERIC, 4) AS pi\n",
    "FROM recurring_tab\n",
    "GROUP BY state;"
   ]
  },
  {
   "cell_type": "code",
   "execution_count": 15,
   "metadata": {},
   "outputs": [],
   "source": [
    "def proportion_ci(sample_pi, sample_size, name, alpha=0.05, do_return=False):\n",
    "    st_err = np.sqrt(sample_pi*(1-sample_pi)/sample_size)\n",
    "    z_crit = stats.norm.ppf(1 - alpha / 2)\n",
    "    low_bound = round(sample_pi - st_err*z_crit, 3)\n",
    "    high_bound = round(sample_pi + st_err*z_crit, 3)\n",
    "\n",
    "    if do_return:\n",
    "        return low_bound, high_bound\n",
    "    else:\n",
    "        print(f'Mean of {name}: {low_bound} — {round(sample_pi, 3)} — {high_bound}')\n"
   ]
  },
  {
   "cell_type": "code",
   "execution_count": 17,
   "metadata": {},
   "outputs": [
    {
     "data": {
      "text/html": [
       "<div>\n",
       "<style scoped>\n",
       "    .dataframe tbody tr th:only-of-type {\n",
       "        vertical-align: middle;\n",
       "    }\n",
       "\n",
       "    .dataframe tbody tr th {\n",
       "        vertical-align: top;\n",
       "    }\n",
       "\n",
       "    .dataframe thead th {\n",
       "        text-align: right;\n",
       "    }\n",
       "</style>\n",
       "<table border=\"1\" class=\"dataframe\">\n",
       "  <thead>\n",
       "    <tr style=\"text-align: right;\">\n",
       "      <th></th>\n",
       "      <th>state</th>\n",
       "      <th>size</th>\n",
       "      <th>recurring_size</th>\n",
       "      <th>pi</th>\n",
       "    </tr>\n",
       "  </thead>\n",
       "  <tbody>\n",
       "    <tr>\n",
       "      <th>0</th>\n",
       "      <td>RR</td>\n",
       "      <td>45</td>\n",
       "      <td>1</td>\n",
       "      <td>0.0222</td>\n",
       "    </tr>\n",
       "    <tr>\n",
       "      <th>1</th>\n",
       "      <td>MG</td>\n",
       "      <td>11259</td>\n",
       "      <td>338</td>\n",
       "      <td>0.0300</td>\n",
       "    </tr>\n",
       "    <tr>\n",
       "      <th>2</th>\n",
       "      <td>MT</td>\n",
       "      <td>876</td>\n",
       "      <td>29</td>\n",
       "      <td>0.0331</td>\n",
       "    </tr>\n",
       "    <tr>\n",
       "      <th>3</th>\n",
       "      <td>CE</td>\n",
       "      <td>1313</td>\n",
       "      <td>22</td>\n",
       "      <td>0.0168</td>\n",
       "    </tr>\n",
       "    <tr>\n",
       "      <th>4</th>\n",
       "      <td>AC</td>\n",
       "      <td>77</td>\n",
       "      <td>4</td>\n",
       "      <td>0.0519</td>\n",
       "    </tr>\n",
       "  </tbody>\n",
       "</table>\n",
       "</div>"
      ],
      "text/plain": [
       "  state   size  recurring_size      pi\n",
       "0    RR     45               1  0.0222\n",
       "1    MG  11259             338  0.0300\n",
       "2    MT    876              29  0.0331\n",
       "3    CE   1313              22  0.0168\n",
       "4    AC     77               4  0.0519"
      ]
     },
     "execution_count": 17,
     "metadata": {},
     "output_type": "execute_result"
    }
   ],
   "source": [
    "df_yearly_value = pd.read_csv(r'C:\\Users\\matte\\OneDrive\\Desktop\\GitHub\\data\\ecom_brazil\\4 tableau\\recurring_pi_by_state.csv')\n",
    "df_yearly_value.head()"
   ]
  },
  {
   "cell_type": "code",
   "execution_count": 20,
   "metadata": {},
   "outputs": [],
   "source": [
    "df_yearly_value['low_bound'] = df_yearly_value.apply(\n",
    "        lambda x: proportion_ci(x['pi'], x['size'], x['state'], do_return=True), axis=1\n",
    "    ).str[0]\n",
    "df_yearly_value['high_bound'] = df_yearly_value.apply(\n",
    "        lambda x: proportion_ci(x['pi'], x['size'], x['state'], do_return=True), axis=1\n",
    "    ).str[1]"
   ]
  },
  {
   "cell_type": "code",
   "execution_count": 22,
   "metadata": {},
   "outputs": [],
   "source": [
    "mask = df_yearly_value['low_bound'] < 0\n",
    "df_yearly_value.loc[mask, 'low_bound'] = 0"
   ]
  },
  {
   "cell_type": "code",
   "execution_count": 23,
   "metadata": {},
   "outputs": [
    {
     "data": {
      "image/png": "[encoded data removed]",
      "text/plain": [
       "<Figure size 640x480 with 1 Axes>"
      ]
     },
     "metadata": {},
     "output_type": "display_data"
    }
   ],
   "source": [
    "plt.barh(df_yearly_value['state'], df_yearly_value['high_bound'], left=df_yearly_value['low_bound'])\n",
    "plt.show()"
   ]
  },
  {
   "cell_type": "markdown",
   "metadata": {},
   "source": [
    "There's no statistical evidence to say that a state has a higher proportion of recurring customers than other states. Hence, the best thing to do in this case is to go for the state with the most current customer or with the state with the cheapest conversion rate."
   ]
  },
  {
   "cell_type": "markdown",
   "metadata": {},
   "source": [
    "## Most sold categories"
   ]
  },
  {
   "cell_type": "markdown",
   "metadata": {},
   "source": [
    "SELECT\n",
    "\ttranslat.product_category_name_english AS category,\n",
    "\tCOUNT(*) AS frequency\n",
    "FROM products\n",
    "JOIN product_category_name_translation AS translat ON translat.product_category_name = products.product_category_name\n",
    "JOIN order_items AS items ON items.product_id = products.product_id\n",
    "GROUP BY translat.product_category_name_english\n",
    "ORDER BY COUNT(*) DESC;"
   ]
  },
  {
   "cell_type": "markdown",
   "metadata": {},
   "source": [
    "## Orders with just one category"
   ]
  },
  {
   "cell_type": "markdown",
   "metadata": {},
   "source": [
    "WITH sold_togheter AS(\n",
    "\tSELECT\n",
    "\t\ttranslat.product_category_name_english AS category,\n",
    "\t\titems.product_id AS product_id,\n",
    "\t\titems.order_id AS order_id,\n",
    "\t\tMAX(items.order_item_id) OVER (PARTITION BY items.order_id) AS num_items\n",
    "\tFROM products\n",
    "\tJOIN product_category_name_translation AS translat ON translat.product_category_name = products.product_category_name\n",
    "\tJOIN order_items AS items ON items.product_id = products.product_id\n",
    "\tORDER BY items.order_item_id DESC\n",
    "),\n",
    "\n",
    "categories_sold_togheter AS(\n",
    "\tSELECT\n",
    "\t\torder_id,\n",
    "\t\tcategory,\n",
    "\t\tnum_items,\n",
    "\t\tCOUNT(*) AS num_category\n",
    "\tFROM sold_togheter\n",
    "\tWHERE num_items > 1\n",
    "\tGROUP BY order_id, category, num_items\n",
    "\tORDER BY num_items DESC\n",
    ")\n",
    "\n",
    "SELECT\n",
    "\tSUM(CASE WHEN num_items=num_category THEN 1 ELSE 0 END) AS one_cat_orders,\n",
    "\tCOUNT(DISTINCT order_id) as tot_orders\n",
    "FROM categories_sold_togheter;"
   ]
  },
  {
   "cell_type": "markdown",
   "metadata": {},
   "source": [
    "**Findings:**\n",
    "The vast majority of orders (with more than 1 product) in Brazil are within the same product category."
   ]
  },
  {
   "cell_type": "markdown",
   "metadata": {},
   "source": [
    "## Most sold togheter products"
   ]
  },
  {
   "cell_type": "code",
   "execution_count": null,
   "metadata": {},
   "outputs": [],
   "source": []
  }
 ],
 "metadata": {
  "kernelspec": {
   "display_name": "base",
   "language": "python",
   "name": "python3"
  },
  "language_info": {
   "codemirror_mode": {
    "name": "ipython",
    "version": 3
   },
   "file_extension": ".py",
   "mimetype": "text/x-python",
   "name": "python",
   "nbconvert_exporter": "python",
   "pygments_lexer": "ipython3",
   "version": "3.11.5"
  }
 },
 "nbformat": 4,
 "nbformat_minor": 2
}
