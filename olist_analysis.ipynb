{
 "cells": [
  {
   "cell_type": "code",
   "execution_count": 100,
   "metadata": {},
   "outputs": [],
   "source": [
    "import pandas as pd\n",
    "import numpy as np\n",
    "from scipy import stats\n",
    "import matplotlib.pyplot as plt"
   ]
  },
  {
   "cell_type": "markdown",
   "metadata": {},
   "source": [
    "### Change the currency\n",
    "\n",
    "UPDATE order_payments\n",
    "SET payment_value = payment_value / 535;\n",
    "\n",
    "UPDATE order_items\n",
    "SET price = price / 535,\n",
    "\tfreight_value = freight_value / 535;\n"
   ]
  },
  {
   "cell_type": "markdown",
   "metadata": {},
   "source": [
    "## Payment method with the highest average order value"
   ]
  },
  {
   "cell_type": "markdown",
   "metadata": {},
   "source": [
    "SELECT SUM(payment_value)/COUNT(*) AS avg_order_value,\n",
    "\tCOUNT(*) AS num_transactions,\n",
    "\tSTDDEV(payment_value::numeric) AS std,\n",
    "\tpayment_type\n",
    "FROM order_payments\n",
    "WHERE payment_value > '0€'\n",
    "GROUP BY payment_type;"
   ]
  },
  {
   "cell_type": "code",
   "execution_count": 5,
   "metadata": {},
   "outputs": [
    {
     "data": {
      "text/html": [
       "<div>\n",
       "<style scoped>\n",
       "    .dataframe tbody tr th:only-of-type {\n",
       "        vertical-align: middle;\n",
       "    }\n",
       "\n",
       "    .dataframe tbody tr th {\n",
       "        vertical-align: top;\n",
       "    }\n",
       "\n",
       "    .dataframe thead th {\n",
       "        text-align: right;\n",
       "    }\n",
       "</style>\n",
       "<table border=\"1\" class=\"dataframe\">\n",
       "  <thead>\n",
       "    <tr style=\"text-align: right;\">\n",
       "      <th></th>\n",
       "      <th>avg_order_value</th>\n",
       "      <th>num_transactions</th>\n",
       "      <th>std</th>\n",
       "      <th>payment_type</th>\n",
       "    </tr>\n",
       "  </thead>\n",
       "  <tbody>\n",
       "    <tr>\n",
       "      <th>0</th>\n",
       "      <td>27.10</td>\n",
       "      <td>19784</td>\n",
       "      <td>39.921687</td>\n",
       "      <td>boleto</td>\n",
       "    </tr>\n",
       "    <tr>\n",
       "      <th>1</th>\n",
       "      <td>30.52</td>\n",
       "      <td>76788</td>\n",
       "      <td>41.518498</td>\n",
       "      <td>credit_card</td>\n",
       "    </tr>\n",
       "    <tr>\n",
       "      <th>2</th>\n",
       "      <td>26.64</td>\n",
       "      <td>1529</td>\n",
       "      <td>45.942693</td>\n",
       "      <td>debit_card</td>\n",
       "    </tr>\n",
       "    <tr>\n",
       "      <th>3</th>\n",
       "      <td>12.29</td>\n",
       "      <td>5766</td>\n",
       "      <td>21.603851</td>\n",
       "      <td>voucher</td>\n",
       "    </tr>\n",
       "  </tbody>\n",
       "</table>\n",
       "</div>"
      ],
      "text/plain": [
       "   avg_order_value  num_transactions        std payment_type\n",
       "0            27.10             19784  39.921687       boleto\n",
       "1            30.52             76788  41.518498  credit_card\n",
       "2            26.64              1529  45.942693   debit_card\n",
       "3            12.29              5766  21.603851      voucher"
      ]
     },
     "execution_count": 5,
     "metadata": {},
     "output_type": "execute_result"
    }
   ],
   "source": [
    "df_pay_types = pd.read_csv(r'C:\\Users\\matte\\OneDrive\\Desktop\\GitHub\\data\\ecom_brazil\\4 tableau\\order_value_vs_payment_types.csv')\n",
    "\n",
    "# Converting to float from money (sql dtype)\n",
    "df_pay_types['avg_order_value'] = df_pay_types['avg_order_value'].str.replace(',','.').str.replace('€','').astype('float')\n",
    "df_pay_types"
   ]
  },
  {
   "cell_type": "code",
   "execution_count": 3,
   "metadata": {},
   "outputs": [],
   "source": [
    "def mean_ci(mean, n_sample, std, name, do_return = False, alpha=0.05):\n",
    "    st_err = std / np.sqrt(n_sample)\n",
    "    z_crit = stats.norm.ppf(1 - alpha / 2)\n",
    "    low_bound = round(mean - st_err*z_crit, 3)\n",
    "    high_bound = round(mean + st_err*z_crit, 3)\n",
    "\n",
    "    if do_return:\n",
    "        return low_bound, high_bound\n",
    "    else:\n",
    "        print(f'Mean of {name}: {low_bound} — {round(mean, 3)} — {high_bound}')\n"
   ]
  },
  {
   "cell_type": "code",
   "execution_count": 7,
   "metadata": {},
   "outputs": [
    {
     "name": "stdout",
     "output_type": "stream",
     "text": [
      "Mean of boleto: 26.544 — 27.1 — 27.656\n",
      "Mean of credit_card: 30.226 — 30.52 — 30.814\n",
      "Mean of debit_card: 24.337 — 26.64 — 28.943\n",
      "Mean of voucher: 11.732 — 12.29 — 12.848\n"
     ]
    },
    {
     "data": {
      "text/plain": [
       "0    None\n",
       "1    None\n",
       "2    None\n",
       "3    None\n",
       "dtype: object"
      ]
     },
     "execution_count": 7,
     "metadata": {},
     "output_type": "execute_result"
    }
   ],
   "source": [
    "df_pay_types.apply(lambda x: mean_ci(x['avg_order_value'], x['num_transactions'],\n",
    "                                     x['std'], x['payment_type']), axis=1)"
   ]
  },
  {
   "cell_type": "code",
   "execution_count": 11,
   "metadata": {},
   "outputs": [
    {
     "data": {
      "text/html": [
       "<div>\n",
       "<style scoped>\n",
       "    .dataframe tbody tr th:only-of-type {\n",
       "        vertical-align: middle;\n",
       "    }\n",
       "\n",
       "    .dataframe tbody tr th {\n",
       "        vertical-align: top;\n",
       "    }\n",
       "\n",
       "    .dataframe thead th {\n",
       "        text-align: right;\n",
       "    }\n",
       "</style>\n",
       "<table border=\"1\" class=\"dataframe\">\n",
       "  <thead>\n",
       "    <tr style=\"text-align: right;\">\n",
       "      <th></th>\n",
       "      <th>avg_order_value</th>\n",
       "      <th>num_transactions</th>\n",
       "      <th>std</th>\n",
       "      <th>payment_type</th>\n",
       "      <th>low_bound</th>\n",
       "      <th>high_bound</th>\n",
       "    </tr>\n",
       "  </thead>\n",
       "  <tbody>\n",
       "    <tr>\n",
       "      <th>0</th>\n",
       "      <td>27.10</td>\n",
       "      <td>19784</td>\n",
       "      <td>39.921687</td>\n",
       "      <td>boleto</td>\n",
       "      <td>26.544</td>\n",
       "      <td>27.656</td>\n",
       "    </tr>\n",
       "    <tr>\n",
       "      <th>1</th>\n",
       "      <td>30.52</td>\n",
       "      <td>76788</td>\n",
       "      <td>41.518498</td>\n",
       "      <td>credit_card</td>\n",
       "      <td>30.226</td>\n",
       "      <td>30.814</td>\n",
       "    </tr>\n",
       "    <tr>\n",
       "      <th>2</th>\n",
       "      <td>26.64</td>\n",
       "      <td>1529</td>\n",
       "      <td>45.942693</td>\n",
       "      <td>debit_card</td>\n",
       "      <td>24.337</td>\n",
       "      <td>28.943</td>\n",
       "    </tr>\n",
       "    <tr>\n",
       "      <th>3</th>\n",
       "      <td>12.29</td>\n",
       "      <td>5766</td>\n",
       "      <td>21.603851</td>\n",
       "      <td>voucher</td>\n",
       "      <td>11.732</td>\n",
       "      <td>12.848</td>\n",
       "    </tr>\n",
       "  </tbody>\n",
       "</table>\n",
       "</div>"
      ],
      "text/plain": [
       "   avg_order_value  num_transactions        std payment_type  low_bound  \\\n",
       "0            27.10             19784  39.921687       boleto     26.544   \n",
       "1            30.52             76788  41.518498  credit_card     30.226   \n",
       "2            26.64              1529  45.942693   debit_card     24.337   \n",
       "3            12.29              5766  21.603851      voucher     11.732   \n",
       "\n",
       "   high_bound  \n",
       "0      27.656  \n",
       "1      30.814  \n",
       "2      28.943  \n",
       "3      12.848  "
      ]
     },
     "execution_count": 11,
     "metadata": {},
     "output_type": "execute_result"
    }
   ],
   "source": [
    "df_pay_types['low_bound'] = df_pay_types.apply(lambda x: mean_ci(x['avg_order_value'], x['num_transactions'],\n",
    "                                     x['std'], x['payment_type'], do_return=True), axis=1).str[0]\n",
    "df_pay_types['high_bound'] = df_pay_types.apply(lambda x: mean_ci(x['avg_order_value'], x['num_transactions'],\n",
    "                                     x['std'], x['payment_type'], do_return=True), axis=1).str[1]\n",
    "\n",
    "df_pay_types"
   ]
  },
  {
   "cell_type": "code",
   "execution_count": 12,
   "metadata": {},
   "outputs": [
    {
     "name": "stdout",
     "output_type": "stream",
     "text": [
      "Credit c. is 9.3% more than boleto\n",
      "Credit c. is 135.6% more than voucher\n"
     ]
    }
   ],
   "source": [
    "print(f'Credit c. is {round(100*(30.226 - 27.656)/27.656, 1)}% more than boleto')\n",
    "print(f'Credit c. is {round(100*(30.226 - 12.827)/12.827, 1)}% more than voucher')"
   ]
  },
  {
   "cell_type": "code",
   "execution_count": 20,
   "metadata": {},
   "outputs": [
    {
     "data": {
      "image/png": "[encoded data removed]",
      "text/plain": [
       "<Figure size 640x480 with 1 Axes>"
      ]
     },
     "metadata": {},
     "output_type": "display_data"
    }
   ],
   "source": [
    "plt.barh(df_pay_types['payment_type'], df_pay_types['high_bound']-df_pay_types['low_bound'], left=df_pay_types['low_bound'])\n",
    "plt.title('Confid. Int. Avg Order Value by Payment Type')\n",
    "plt.show()"
   ]
  },
  {
   "cell_type": "code",
   "execution_count": 22,
   "metadata": {},
   "outputs": [],
   "source": [
    "df_pay_types.to_csv((r'C:\\Users\\matte\\OneDrive\\Desktop\\GitHub\\data\\ecom_brazil\\tableau_good\\order_value_vs_payment_types.csv'), index=False)"
   ]
  },
  {
   "cell_type": "markdown",
   "metadata": {},
   "source": [
    "### Findings:\n",
    "\n",
    "Customers that use credit card spend 9,3% more than customers that use boleto... and 135.6% more than customers who use voucher."
   ]
  },
  {
   "cell_type": "markdown",
   "metadata": {},
   "source": [
    "## boleto vs. credit_card by state"
   ]
  },
  {
   "cell_type": "markdown",
   "metadata": {},
   "source": [
    "WITH freq_table_all_cities AS (\n",
    "\tSELECT COUNT(*) AS frequency,\n",
    "\t\tcustomers.customer_state,\n",
    "\t\tpayments.payment_type\n",
    "\tFROM orders\n",
    "\tLEFT JOIN customers ON orders.customer_id = customers.customer_id\n",
    "\tLEFT JOIN order_payments as payments ON payments.order_id = orders.order_id\n",
    "\tWHERE orders.order_status = 'delivered'\n",
    "\t\tAND payments.payment_type IN ('credit_card', 'boleto')\n",
    "\tGROUP BY customers.customer_state, payments.payment_type\n",
    "\tORDER BY customers.customer_state\n",
    "),\n",
    "\n",
    "freq_table AS(\n",
    "\tSELECT *,\n",
    "\t\tSUM(frequency) OVER (PARTITION BY customer_state) AS tot_transactions\n",
    "\tFROM freq_table_all_cities\n",
    ")\n",
    "\n",
    "SELECT *\n",
    "FROM freq_table\n",
    "WHERE tot_transactions > 200;"
   ]
  },
  {
   "cell_type": "code",
   "execution_count": 56,
   "metadata": {},
   "outputs": [
    {
     "data": {
      "text/html": [
       "<div>\n",
       "<style scoped>\n",
       "    .dataframe tbody tr th:only-of-type {\n",
       "        vertical-align: middle;\n",
       "    }\n",
       "\n",
       "    .dataframe tbody tr th {\n",
       "        vertical-align: top;\n",
       "    }\n",
       "\n",
       "    .dataframe thead th {\n",
       "        text-align: right;\n",
       "    }\n",
       "</style>\n",
       "<table border=\"1\" class=\"dataframe\">\n",
       "  <thead>\n",
       "    <tr style=\"text-align: right;\">\n",
       "      <th></th>\n",
       "      <th>frequency</th>\n",
       "      <th>customer_state</th>\n",
       "      <th>payment_type</th>\n",
       "      <th>tot_transactions</th>\n",
       "    </tr>\n",
       "  </thead>\n",
       "  <tbody>\n",
       "    <tr>\n",
       "      <th>0</th>\n",
       "      <td>64</td>\n",
       "      <td>AL</td>\n",
       "      <td>boleto</td>\n",
       "      <td>395</td>\n",
       "    </tr>\n",
       "    <tr>\n",
       "      <th>1</th>\n",
       "      <td>331</td>\n",
       "      <td>AL</td>\n",
       "      <td>credit_card</td>\n",
       "      <td>395</td>\n",
       "    </tr>\n",
       "    <tr>\n",
       "      <th>2</th>\n",
       "      <td>590</td>\n",
       "      <td>BA</td>\n",
       "      <td>boleto</td>\n",
       "      <td>3159</td>\n",
       "    </tr>\n",
       "    <tr>\n",
       "      <th>3</th>\n",
       "      <td>2569</td>\n",
       "      <td>BA</td>\n",
       "      <td>credit_card</td>\n",
       "      <td>3159</td>\n",
       "    </tr>\n",
       "    <tr>\n",
       "      <th>4</th>\n",
       "      <td>195</td>\n",
       "      <td>CE</td>\n",
       "      <td>boleto</td>\n",
       "      <td>1243</td>\n",
       "    </tr>\n",
       "  </tbody>\n",
       "</table>\n",
       "</div>"
      ],
      "text/plain": [
       "   frequency customer_state payment_type  tot_transactions\n",
       "0         64             AL       boleto               395\n",
       "1        331             AL  credit_card               395\n",
       "2        590             BA       boleto              3159\n",
       "3       2569             BA  credit_card              3159\n",
       "4        195             CE       boleto              1243"
      ]
     },
     "execution_count": 56,
     "metadata": {},
     "output_type": "execute_result"
    }
   ],
   "source": [
    "df_payt_states = pd.read_csv(r'C:\\Users\\matte\\OneDrive\\Desktop\\GitHub\\data\\ecom_brazil\\4 tableau\\payment_method_vs_state.csv')\n",
    "df_payt_states.head()"
   ]
  },
  {
   "cell_type": "code",
   "execution_count": 57,
   "metadata": {},
   "outputs": [
    {
     "data": {
      "text/html": [
       "<div>\n",
       "<style scoped>\n",
       "    .dataframe tbody tr th:only-of-type {\n",
       "        vertical-align: middle;\n",
       "    }\n",
       "\n",
       "    .dataframe tbody tr th {\n",
       "        vertical-align: top;\n",
       "    }\n",
       "\n",
       "    .dataframe thead th {\n",
       "        text-align: right;\n",
       "    }\n",
       "</style>\n",
       "<table border=\"1\" class=\"dataframe\">\n",
       "  <thead>\n",
       "    <tr style=\"text-align: right;\">\n",
       "      <th></th>\n",
       "      <th>state</th>\n",
       "      <th>n_boleto</th>\n",
       "      <th>n_creditc</th>\n",
       "      <th>tot_transactions</th>\n",
       "    </tr>\n",
       "  </thead>\n",
       "  <tbody>\n",
       "    <tr>\n",
       "      <th>0</th>\n",
       "      <td>AL</td>\n",
       "      <td>64</td>\n",
       "      <td>331</td>\n",
       "      <td>395</td>\n",
       "    </tr>\n",
       "    <tr>\n",
       "      <th>1</th>\n",
       "      <td>BA</td>\n",
       "      <td>590</td>\n",
       "      <td>2569</td>\n",
       "      <td>3159</td>\n",
       "    </tr>\n",
       "    <tr>\n",
       "      <th>2</th>\n",
       "      <td>CE</td>\n",
       "      <td>195</td>\n",
       "      <td>1048</td>\n",
       "      <td>1243</td>\n",
       "    </tr>\n",
       "    <tr>\n",
       "      <th>3</th>\n",
       "      <td>DF</td>\n",
       "      <td>376</td>\n",
       "      <td>1661</td>\n",
       "      <td>2037</td>\n",
       "    </tr>\n",
       "    <tr>\n",
       "      <th>4</th>\n",
       "      <td>ES</td>\n",
       "      <td>399</td>\n",
       "      <td>1540</td>\n",
       "      <td>1939</td>\n",
       "    </tr>\n",
       "  </tbody>\n",
       "</table>\n",
       "</div>"
      ],
      "text/plain": [
       "  state  n_boleto  n_creditc  tot_transactions\n",
       "0    AL        64        331               395\n",
       "1    BA       590       2569              3159\n",
       "2    CE       195       1048              1243\n",
       "3    DF       376       1661              2037\n",
       "4    ES       399       1540              1939"
      ]
     },
     "execution_count": 57,
     "metadata": {},
     "output_type": "execute_result"
    }
   ],
   "source": [
    "# Turning the table from long to wide for easier visualization\n",
    "\n",
    "df_payt_states = df_payt_states.set_index(['customer_state', 'payment_type']).unstack(level=1).reset_index()\n",
    "df_payt_states.columns = ['state', 'n_boleto', 'n_creditc', 'tot_transactions', 'bin']\n",
    "df_payt_states = df_payt_states.drop(columns='bin')\n",
    "df_payt_states.head()"
   ]
  },
  {
   "cell_type": "code",
   "execution_count": 58,
   "metadata": {},
   "outputs": [],
   "source": [
    "df_payt_states.to_csv(r'C:\\Users\\matte\\OneDrive\\Desktop\\GitHub\\data\\ecom_brazil\\tableau_good\\payment_method_vs_state.csv',\n",
    "                      index = False)"
   ]
  },
  {
   "cell_type": "markdown",
   "metadata": {},
   "source": [
    "## Satisfaction vs Delay delivery"
   ]
  },
  {
   "cell_type": "markdown",
   "metadata": {},
   "source": [
    "WITH review_vs_delivery AS(\n",
    "\tSELECT\n",
    "\t\tEXTRACT(DAY FROM orders.order_estimated_delivery_date - orders.order_delivered_customer_date) AS days_in_advance,\n",
    "\t\treviews.review_score\n",
    "\tFROM orders\n",
    "\tJOIN order_reviews AS reviews ON reviews.order_id = orders.order_id\n",
    "\tWHERE (orders.order_estimated_delivery_date - orders.order_delivered_customer_date) IS NOT NULL\n",
    ")\n",
    "\n",
    "SELECT\n",
    "    CASE\n",
    "        WHEN days_in_advance > 0 THEN 'early'\n",
    "        WHEN days_in_advance = 0 THEN 'on_time'\n",
    "        ELSE 'delay'\n",
    "    END AS delivery_status,\n",
    "\tSTDDEV(review_score) as std,\n",
    "\tCOUNT(*) AS frequency,\n",
    "    ROUND(AVG(review_score),2) AS average_review_score\n",
    "FROM \n",
    "    review_vs_delivery\n",
    "GROUP BY \n",
    "    CASE\n",
    "        WHEN days_in_advance > 0 THEN 'early'\n",
    "        WHEN days_in_advance = 0 THEN 'on_time'\n",
    "        ELSE 'delay'\n",
    "    END;"
   ]
  },
  {
   "cell_type": "code",
   "execution_count": 59,
   "metadata": {},
   "outputs": [
    {
     "data": {
      "text/html": [
       "<div>\n",
       "<style scoped>\n",
       "    .dataframe tbody tr th:only-of-type {\n",
       "        vertical-align: middle;\n",
       "    }\n",
       "\n",
       "    .dataframe tbody tr th {\n",
       "        vertical-align: top;\n",
       "    }\n",
       "\n",
       "    .dataframe thead th {\n",
       "        text-align: right;\n",
       "    }\n",
       "</style>\n",
       "<table border=\"1\" class=\"dataframe\">\n",
       "  <thead>\n",
       "    <tr style=\"text-align: right;\">\n",
       "      <th></th>\n",
       "      <th>delivery_status</th>\n",
       "      <th>std</th>\n",
       "      <th>frequency</th>\n",
       "      <th>average_review_score</th>\n",
       "    </tr>\n",
       "  </thead>\n",
       "  <tbody>\n",
       "    <tr>\n",
       "      <th>0</th>\n",
       "      <td>on_time</td>\n",
       "      <td>1.222938</td>\n",
       "      <td>2718</td>\n",
       "      <td>4.11</td>\n",
       "    </tr>\n",
       "    <tr>\n",
       "      <th>1</th>\n",
       "      <td>early</td>\n",
       "      <td>1.144371</td>\n",
       "      <td>86527</td>\n",
       "      <td>4.30</td>\n",
       "    </tr>\n",
       "    <tr>\n",
       "      <th>2</th>\n",
       "      <td>delay</td>\n",
       "      <td>1.570843</td>\n",
       "      <td>6362</td>\n",
       "      <td>2.27</td>\n",
       "    </tr>\n",
       "  </tbody>\n",
       "</table>\n",
       "</div>"
      ],
      "text/plain": [
       "  delivery_status       std  frequency  average_review_score\n",
       "0         on_time  1.222938       2718                  4.11\n",
       "1           early  1.144371      86527                  4.30\n",
       "2           delay  1.570843       6362                  2.27"
      ]
     },
     "execution_count": 59,
     "metadata": {},
     "output_type": "execute_result"
    }
   ],
   "source": [
    "df_satisf = pd.read_csv(r'C:\\Users\\matte\\OneDrive\\Desktop\\GitHub\\data\\ecom_brazil\\4 tableau\\satisfac_vs_delay.csv')\n",
    "df_satisf"
   ]
  },
  {
   "cell_type": "code",
   "execution_count": 63,
   "metadata": {},
   "outputs": [
    {
     "name": "stdout",
     "output_type": "stream",
     "text": [
      "Mean of on_time: 4.064 — 4.11 — 4.156\n",
      "Mean of early: 4.292 — 4.3 — 4.308\n",
      "Mean of delay: 2.231 — 2.27 — 2.309\n"
     ]
    },
    {
     "data": {
      "text/plain": [
       "0    None\n",
       "1    None\n",
       "2    None\n",
       "dtype: object"
      ]
     },
     "execution_count": 63,
     "metadata": {},
     "output_type": "execute_result"
    }
   ],
   "source": [
    "df_satisf.apply(lambda x: mean_ci(x['average_review_score'], x['frequency'],\n",
    "                                  x['std'], x['delivery_status']), axis=1)"
   ]
  },
  {
   "cell_type": "code",
   "execution_count": 64,
   "metadata": {},
   "outputs": [],
   "source": [
    "df_satisf['low_bound'] = df_satisf.apply(lambda x: mean_ci(x['average_review_score'], x['frequency'],\n",
    "                                  x['std'], x['delivery_status'], do_return=True), axis=1).str[0]\n",
    "df_satisf['high_bound'] = df_satisf.apply(lambda x: mean_ci(x['average_review_score'], x['frequency'],\n",
    "                                  x['std'], x['delivery_status'], do_return=True), axis=1).str[1]"
   ]
  },
  {
   "cell_type": "code",
   "execution_count": 8,
   "metadata": {},
   "outputs": [
    {
     "name": "stdout",
     "output_type": "stream",
     "text": [
      "Early vs. On time: +3.2% satisfaction\n",
      "Early vs. Delay: +85.9% satisfaction\n",
      "On time vs. Delay: +76.0% satisfaction\n"
     ]
    }
   ],
   "source": [
    "print(f'Early vs. On time: +{round(100* (4.29-4.156)/4.156,1)}% satisfaction')\n",
    "print(f'Early vs. Delay: +{round(100* (4.292-2.309)/2.309, 1)}% satisfaction')\n",
    "print(f'On time vs. Delay: +{round(100* (4.064-2.309)/2.309, 1)}% satisfaction')"
   ]
  },
  {
   "cell_type": "code",
   "execution_count": 102,
   "metadata": {},
   "outputs": [
    {
     "ename": "AttributeError",
     "evalue": "module 'matplotlib.pyplot' has no attribute 'title'",
     "output_type": "error",
     "traceback": [
      "\u001b[1;31m---------------------------------------------------------------------------\u001b[0m",
      "\u001b[1;31mAttributeError\u001b[0m                            Traceback (most recent call last)",
      "Cell \u001b[1;32mIn[102], line 2\u001b[0m\n\u001b[0;32m      1\u001b[0m plt\u001b[38;5;241m.\u001b[39mbarh(df_satisf[\u001b[38;5;124m'\u001b[39m\u001b[38;5;124mdelivery_status\u001b[39m\u001b[38;5;124m'\u001b[39m], df_satisf[\u001b[38;5;124m'\u001b[39m\u001b[38;5;124mhigh_bound\u001b[39m\u001b[38;5;124m'\u001b[39m]\u001b[38;5;241m-\u001b[39mdf_satisf[\u001b[38;5;124m'\u001b[39m\u001b[38;5;124mlow_bound\u001b[39m\u001b[38;5;124m'\u001b[39m], left\u001b[38;5;241m=\u001b[39mdf_satisf[\u001b[38;5;124m'\u001b[39m\u001b[38;5;124mlow_bound\u001b[39m\u001b[38;5;124m'\u001b[39m])\n\u001b[1;32m----> 2\u001b[0m plt\u001b[38;5;241m.\u001b[39mtitle(\u001b[38;5;124m'\u001b[39m\u001b[38;5;124mConfid. Int. Avg Review Scores by Delivery\u001b[39m\u001b[38;5;124m'\u001b[39m)\n\u001b[0;32m      3\u001b[0m plt\u001b[38;5;241m.\u001b[39mshow()\n",
      "\u001b[1;31mAttributeError\u001b[0m: module 'matplotlib.pyplot' has no attribute 'title'"
     ]
    },
    {
     "data": {
      "image/png": "[encoded data removed]",
      "text/plain": [
       "<Figure size 640x480 with 1 Axes>"
      ]
     },
     "metadata": {},
     "output_type": "display_data"
    }
   ],
   "source": [
    "plt.barh(df_satisf['delivery_status'], df_satisf['high_bound']-df_satisf['low_bound'], left=df_satisf['low_bound'])\n",
    "plt.title('Confid. Int. Avg Review Scores by Delivery')\n",
    "plt.show()"
   ]
  },
  {
   "cell_type": "code",
   "execution_count": 66,
   "metadata": {},
   "outputs": [],
   "source": [
    "df_satisf.to_csv(r'C:\\Users\\matte\\OneDrive\\Desktop\\GitHub\\data\\ecom_brazil\\tableau_good\\satisfac_vs_delay.csv',\n",
    "                 index=False)"
   ]
  },
  {
   "cell_type": "markdown",
   "metadata": {},
   "source": [
    "## Satisfaction Trend vs. Delivery Time"
   ]
  },
  {
   "cell_type": "markdown",
   "metadata": {},
   "source": [
    "WITH review_vs_delivery AS(\n",
    "\tSELECT\n",
    "\t\tEXTRACT(DAY FROM orders.order_estimated_delivery_date - orders.order_delivered_customer_date) AS days_in_advance,\n",
    "\t\treviews.review_score\n",
    "\tFROM orders\n",
    "\tJOIN order_reviews AS reviews ON reviews.order_id = orders.order_id\n",
    "\tWHERE (orders.order_estimated_delivery_date - orders.order_delivered_customer_date) IS NOT NULL\n",
    "),\n",
    "\n",
    "reviews_delivery_bin AS(\n",
    "\tSELECT\n",
    "\t\t*,\n",
    "\t\twidth_bucket(days_in_advance, -20, 20, 20) AS bin\n",
    "\tFROM review_vs_delivery\n",
    ")\n",
    "\n",
    "SELECT\n",
    "\tbin,\n",
    "\tMAX(days_in_advance) AS high_bound,\n",
    "\tMIN(days_in_advance) AS low_bound,\n",
    "\tAVG(review_score) AS avg_stars\n",
    "FROM reviews_delivery_bin\n",
    "GROUP BY bin\n",
    "ORDER BY bin;"
   ]
  },
  {
   "cell_type": "code",
   "execution_count": 72,
   "metadata": {},
   "outputs": [
    {
     "data": {
      "text/html": [
       "<div>\n",
       "<style scoped>\n",
       "    .dataframe tbody tr th:only-of-type {\n",
       "        vertical-align: middle;\n",
       "    }\n",
       "\n",
       "    .dataframe tbody tr th {\n",
       "        vertical-align: top;\n",
       "    }\n",
       "\n",
       "    .dataframe thead th {\n",
       "        text-align: right;\n",
       "    }\n",
       "</style>\n",
       "<table border=\"1\" class=\"dataframe\">\n",
       "  <thead>\n",
       "    <tr style=\"text-align: right;\">\n",
       "      <th></th>\n",
       "      <th>bin</th>\n",
       "      <th>high_bound</th>\n",
       "      <th>low_bound</th>\n",
       "      <th>avg_stars</th>\n",
       "    </tr>\n",
       "  </thead>\n",
       "  <tbody>\n",
       "    <tr>\n",
       "      <th>0</th>\n",
       "      <td>0</td>\n",
       "      <td>-21</td>\n",
       "      <td>-188</td>\n",
       "      <td>1.768725</td>\n",
       "    </tr>\n",
       "    <tr>\n",
       "      <th>1</th>\n",
       "      <td>1</td>\n",
       "      <td>-19</td>\n",
       "      <td>-20</td>\n",
       "      <td>1.587500</td>\n",
       "    </tr>\n",
       "    <tr>\n",
       "      <th>20</th>\n",
       "      <td>20</td>\n",
       "      <td>19</td>\n",
       "      <td>18</td>\n",
       "      <td>4.364589</td>\n",
       "    </tr>\n",
       "    <tr>\n",
       "      <th>21</th>\n",
       "      <td>21</td>\n",
       "      <td>146</td>\n",
       "      <td>20</td>\n",
       "      <td>4.289326</td>\n",
       "    </tr>\n",
       "  </tbody>\n",
       "</table>\n",
       "</div>"
      ],
      "text/plain": [
       "    bin  high_bound  low_bound  avg_stars\n",
       "0     0         -21       -188   1.768725\n",
       "1     1         -19        -20   1.587500\n",
       "20   20          19         18   4.364589\n",
       "21   21         146         20   4.289326"
      ]
     },
     "execution_count": 72,
     "metadata": {},
     "output_type": "execute_result"
    }
   ],
   "source": [
    "df = pd.read_csv(r'C:\\Users\\matte\\OneDrive\\Desktop\\GitHub\\data\\ecom_brazil\\4 tableau\\review_score_vs_delivery.csv')\n",
    "df.iloc[[0,1,20,21]]"
   ]
  },
  {
   "cell_type": "code",
   "execution_count": 76,
   "metadata": {},
   "outputs": [],
   "source": [
    "df.loc[0, 'low_bound'] = -22\n",
    "df.loc[21, 'high_bound'] = 21"
   ]
  },
  {
   "cell_type": "code",
   "execution_count": 101,
   "metadata": {},
   "outputs": [
    {
     "ename": "AttributeError",
     "evalue": "module 'matplotlib.pyplot' has no attribute 'title'",
     "output_type": "error",
     "traceback": [
      "\u001b[1;31m---------------------------------------------------------------------------\u001b[0m",
      "\u001b[1;31mAttributeError\u001b[0m                            Traceback (most recent call last)",
      "Cell \u001b[1;32mIn[101], line 2\u001b[0m\n\u001b[0;32m      1\u001b[0m plt\u001b[38;5;241m.\u001b[39mplot(df[\u001b[38;5;124m'\u001b[39m\u001b[38;5;124mlow_bound\u001b[39m\u001b[38;5;124m'\u001b[39m], df[\u001b[38;5;124m'\u001b[39m\u001b[38;5;124mavg_stars\u001b[39m\u001b[38;5;124m'\u001b[39m])\n\u001b[1;32m----> 2\u001b[0m plt\u001b[38;5;241m.\u001b[39mtitle(\u001b[38;5;124m'\u001b[39m\u001b[38;5;124mSatisfaction Trend vs. Delivery Time\u001b[39m\u001b[38;5;124m'\u001b[39m)\n\u001b[0;32m      3\u001b[0m plt\u001b[38;5;241m.\u001b[39mshow()\n",
      "\u001b[1;31mAttributeError\u001b[0m: module 'matplotlib.pyplot' has no attribute 'title'"
     ]
    },
    {
     "data": {
      "image/png": "[encoded data removed]",
      "text/plain": [
       "<Figure size 640x480 with 1 Axes>"
      ]
     },
     "metadata": {},
     "output_type": "display_data"
    }
   ],
   "source": [
    "plt.plot(df['low_bound'], df['avg_stars'])\n",
    "plt.title('Satisfaction Trend vs. Delivery Time')\n",
    "plt.show()"
   ]
  },
  {
   "cell_type": "code",
   "execution_count": 78,
   "metadata": {},
   "outputs": [],
   "source": [
    "df.to_csv(r'C:\\Users\\matte\\OneDrive\\Desktop\\GitHub\\data\\ecom_brazil\\tableau_good\\review_score_vs_delivery.csv',\n",
    "          index=False)"
   ]
  },
  {
   "cell_type": "markdown",
   "metadata": {},
   "source": [
    "## Brazil and the tendency to buy locally"
   ]
  },
  {
   "cell_type": "markdown",
   "metadata": {},
   "source": [
    "SELECT\n",
    "\tCASE\n",
    "\t\t WHEN sellers.seller_city = customers.customer_city THEN 'km 0'\n",
    "\t\t WHEN sellers.seller_state = customers.customer_state THEN 'local'\n",
    "\t\t ELSE 'not local'\n",
    "\tEND,\n",
    "\tCOUNT(*) AS frequency\n",
    "FROM orders\n",
    "LEFT JOIN order_items AS items ON items.order_id = orders.order_id\n",
    "JOIN customers ON customers.customer_id = orders.customer_id\n",
    "JOIN sellers ON sellers.seller_id = items.seller_id\n",
    "GROUP BY CASE\n",
    "\t\t \tWHEN sellers.seller_city = customers.customer_city THEN 'km 0'\n",
    "\t\t\tWHEN sellers.seller_state = customers.customer_state THEN 'local'\n",
    "\t\t \tELSE 'not local'\n",
    "\t\t END;"
   ]
  },
  {
   "cell_type": "code",
   "execution_count": 79,
   "metadata": {},
   "outputs": [
    {
     "data": {
      "text/html": [
       "<div>\n",
       "<style scoped>\n",
       "    .dataframe tbody tr th:only-of-type {\n",
       "        vertical-align: middle;\n",
       "    }\n",
       "\n",
       "    .dataframe tbody tr th {\n",
       "        vertical-align: top;\n",
       "    }\n",
       "\n",
       "    .dataframe thead th {\n",
       "        text-align: right;\n",
       "    }\n",
       "</style>\n",
       "<table border=\"1\" class=\"dataframe\">\n",
       "  <thead>\n",
       "    <tr style=\"text-align: right;\">\n",
       "      <th></th>\n",
       "      <th>case</th>\n",
       "      <th>frequency</th>\n",
       "    </tr>\n",
       "  </thead>\n",
       "  <tbody>\n",
       "    <tr>\n",
       "      <th>0</th>\n",
       "      <td>km 0</td>\n",
       "      <td>5863</td>\n",
       "    </tr>\n",
       "    <tr>\n",
       "      <th>1</th>\n",
       "      <td>local</td>\n",
       "      <td>34908</td>\n",
       "    </tr>\n",
       "    <tr>\n",
       "      <th>2</th>\n",
       "      <td>not local</td>\n",
       "      <td>71879</td>\n",
       "    </tr>\n",
       "  </tbody>\n",
       "</table>\n",
       "</div>"
      ],
      "text/plain": [
       "        case  frequency\n",
       "0       km 0       5863\n",
       "1      local      34908\n",
       "2  not local      71879"
      ]
     },
     "execution_count": 79,
     "metadata": {},
     "output_type": "execute_result"
    }
   ],
   "source": [
    "pd.read_csv(r'C:\\Users\\matte\\OneDrive\\Desktop\\GitHub\\data\\ecom_brazil\\tableau_good\\local_orders.csv')"
   ]
  },
  {
   "cell_type": "markdown",
   "metadata": {},
   "source": [
    "WITH distances AS(\n",
    "    SELECT\n",
    "        ACOS(\n",
    "            GREATEST(\n",
    "                LEAST(\n",
    "                    SIN(RADIANS(geo_sellers.geolocation_lat)) * SIN(RADIANS(geo_cust.geolocation_lat)) +\n",
    "                    COS(RADIANS(geo_sellers.geolocation_lat)) * COS(RADIANS(geo_cust.geolocation_lat)) *\n",
    "                    COS(RADIANS(geo_cust.geolocation_lng) - RADIANS(geo_sellers.geolocation_lng)),\n",
    "                    1\n",
    "                ),\n",
    "                -1\n",
    "            )\n",
    "        ) * 6371 AS distance\n",
    "    FROM orders\n",
    "    LEFT JOIN order_items AS items ON items.order_id = orders.order_id\n",
    "    JOIN customers ON customers.customer_id = orders.customer_id\n",
    "    JOIN sellers ON sellers.seller_id = items.seller_id\n",
    "    JOIN geolocation as geo_sellers ON geo_sellers.geolocation_zip_code_prefix = sellers.seller_zip_code_prefix\n",
    "    JOIN geolocation as geo_cust ON geo_cust.geolocation_zip_code_prefix = customers.customer_zip_code_prefix\n",
    ")\n",
    "\n",
    "SELECT\n",
    "    AVG(distance) AS avg_distance,\n",
    "    PERCENTILE_CONT(0.5) WITHIN GROUP(ORDER BY distance) AS median_distance\n",
    "FROM distances;"
   ]
  },
  {
   "cell_type": "code",
   "execution_count": 80,
   "metadata": {},
   "outputs": [
    {
     "data": {
      "text/html": [
       "<div>\n",
       "<style scoped>\n",
       "    .dataframe tbody tr th:only-of-type {\n",
       "        vertical-align: middle;\n",
       "    }\n",
       "\n",
       "    .dataframe tbody tr th {\n",
       "        vertical-align: top;\n",
       "    }\n",
       "\n",
       "    .dataframe thead th {\n",
       "        text-align: right;\n",
       "    }\n",
       "</style>\n",
       "<table border=\"1\" class=\"dataframe\">\n",
       "  <thead>\n",
       "    <tr style=\"text-align: right;\">\n",
       "      <th></th>\n",
       "      <th>avg_distance</th>\n",
       "      <th>median_distance</th>\n",
       "    </tr>\n",
       "  </thead>\n",
       "  <tbody>\n",
       "    <tr>\n",
       "      <th>0</th>\n",
       "      <td>597.187869</td>\n",
       "      <td>431.753988</td>\n",
       "    </tr>\n",
       "  </tbody>\n",
       "</table>\n",
       "</div>"
      ],
      "text/plain": [
       "   avg_distance  median_distance\n",
       "0    597.187869       431.753988"
      ]
     },
     "execution_count": 80,
     "metadata": {},
     "output_type": "execute_result"
    }
   ],
   "source": [
    "pd.read_csv(r'C:\\Users\\matte\\OneDrive\\Desktop\\GitHub\\data\\ecom_brazil\\tableau_good\\avg_order_distance.csv')"
   ]
  },
  {
   "cell_type": "markdown",
   "metadata": {},
   "source": [
    "## State with the highest order value"
   ]
  },
  {
   "cell_type": "markdown",
   "metadata": {},
   "source": [
    "SELECT\n",
    "\tcustomers.customer_state AS state,\n",
    "\tROUND(AVG(payment.payment_value::NUMERIC), 2) AS avg_order_value,\n",
    "\tROUND(PERCENTILE_CONT(0.5) WITHIN GROUP(ORDER BY payment.payment_value::NUMERIC)::NUMERIC, 2) AS median_order_value,\n",
    "\tROUND(STDDEV(payment.payment_value::NUMERIC), 3) AS std,\n",
    "\tCOUNT(*)\n",
    "FROM orders\n",
    "JOIN customers ON customers.customer_id = orders.customer_id\n",
    "JOIN order_payments AS payment ON payment.order_id = orders.order_id\n",
    "WHERE payment.payment_sequential = 1\n",
    "GROUP BY customers.customer_state\n",
    "ORDER BY AVG(payment.payment_value::NUMERIC) DESC;"
   ]
  },
  {
   "cell_type": "code",
   "execution_count": 81,
   "metadata": {},
   "outputs": [
    {
     "data": {
      "text/html": [
       "<div>\n",
       "<style scoped>\n",
       "    .dataframe tbody tr th:only-of-type {\n",
       "        vertical-align: middle;\n",
       "    }\n",
       "\n",
       "    .dataframe tbody tr th {\n",
       "        vertical-align: top;\n",
       "    }\n",
       "\n",
       "    .dataframe thead th {\n",
       "        text-align: right;\n",
       "    }\n",
       "</style>\n",
       "<table border=\"1\" class=\"dataframe\">\n",
       "  <thead>\n",
       "    <tr style=\"text-align: right;\">\n",
       "      <th></th>\n",
       "      <th>state</th>\n",
       "      <th>avg_order_value</th>\n",
       "      <th>median_order_value</th>\n",
       "      <th>std</th>\n",
       "      <th>count</th>\n",
       "    </tr>\n",
       "  </thead>\n",
       "  <tbody>\n",
       "    <tr>\n",
       "      <th>0</th>\n",
       "      <td>PB</td>\n",
       "      <td>47.72</td>\n",
       "      <td>28.46</td>\n",
       "      <td>72.114</td>\n",
       "      <td>536</td>\n",
       "    </tr>\n",
       "    <tr>\n",
       "      <th>1</th>\n",
       "      <td>RO</td>\n",
       "      <td>44.55</td>\n",
       "      <td>29.39</td>\n",
       "      <td>57.684</td>\n",
       "      <td>253</td>\n",
       "    </tr>\n",
       "    <tr>\n",
       "      <th>2</th>\n",
       "      <td>AP</td>\n",
       "      <td>44.24</td>\n",
       "      <td>27.13</td>\n",
       "      <td>52.143</td>\n",
       "      <td>68</td>\n",
       "    </tr>\n",
       "    <tr>\n",
       "      <th>3</th>\n",
       "      <td>AC</td>\n",
       "      <td>44.00</td>\n",
       "      <td>29.58</td>\n",
       "      <td>40.506</td>\n",
       "      <td>81</td>\n",
       "    </tr>\n",
       "    <tr>\n",
       "      <th>4</th>\n",
       "      <td>AL</td>\n",
       "      <td>43.05</td>\n",
       "      <td>25.65</td>\n",
       "      <td>51.655</td>\n",
       "      <td>413</td>\n",
       "    </tr>\n",
       "  </tbody>\n",
       "</table>\n",
       "</div>"
      ],
      "text/plain": [
       "  state  avg_order_value  median_order_value     std  count\n",
       "0    PB            47.72               28.46  72.114    536\n",
       "1    RO            44.55               29.39  57.684    253\n",
       "2    AP            44.24               27.13  52.143     68\n",
       "3    AC            44.00               29.58  40.506     81\n",
       "4    AL            43.05               25.65  51.655    413"
      ]
     },
     "execution_count": 81,
     "metadata": {},
     "output_type": "execute_result"
    }
   ],
   "source": [
    "df_states = pd.read_csv(r'C:\\Users\\matte\\OneDrive\\Desktop\\GitHub\\data\\ecom_brazil\\4 tableau\\order_value_vs_state.csv')\n",
    "df_states.head()"
   ]
  },
  {
   "cell_type": "code",
   "execution_count": 82,
   "metadata": {},
   "outputs": [
    {
     "data": {
      "text/html": [
       "<div>\n",
       "<style scoped>\n",
       "    .dataframe tbody tr th:only-of-type {\n",
       "        vertical-align: middle;\n",
       "    }\n",
       "\n",
       "    .dataframe tbody tr th {\n",
       "        vertical-align: top;\n",
       "    }\n",
       "\n",
       "    .dataframe thead th {\n",
       "        text-align: right;\n",
       "    }\n",
       "</style>\n",
       "<table border=\"1\" class=\"dataframe\">\n",
       "  <thead>\n",
       "    <tr style=\"text-align: right;\">\n",
       "      <th></th>\n",
       "      <th>state</th>\n",
       "      <th>avg_order_value</th>\n",
       "      <th>median_order_value</th>\n",
       "      <th>std</th>\n",
       "      <th>count</th>\n",
       "    </tr>\n",
       "  </thead>\n",
       "  <tbody>\n",
       "    <tr>\n",
       "      <th>0</th>\n",
       "      <td>PB</td>\n",
       "      <td>47.72</td>\n",
       "      <td>28.46</td>\n",
       "      <td>72.114</td>\n",
       "      <td>536</td>\n",
       "    </tr>\n",
       "    <tr>\n",
       "      <th>1</th>\n",
       "      <td>RO</td>\n",
       "      <td>44.55</td>\n",
       "      <td>29.39</td>\n",
       "      <td>57.684</td>\n",
       "      <td>253</td>\n",
       "    </tr>\n",
       "    <tr>\n",
       "      <th>2</th>\n",
       "      <td>AP</td>\n",
       "      <td>44.24</td>\n",
       "      <td>27.13</td>\n",
       "      <td>52.143</td>\n",
       "      <td>68</td>\n",
       "    </tr>\n",
       "    <tr>\n",
       "      <th>3</th>\n",
       "      <td>AC</td>\n",
       "      <td>44.00</td>\n",
       "      <td>29.58</td>\n",
       "      <td>40.506</td>\n",
       "      <td>81</td>\n",
       "    </tr>\n",
       "    <tr>\n",
       "      <th>4</th>\n",
       "      <td>AL</td>\n",
       "      <td>43.05</td>\n",
       "      <td>25.65</td>\n",
       "      <td>51.655</td>\n",
       "      <td>413</td>\n",
       "    </tr>\n",
       "  </tbody>\n",
       "</table>\n",
       "</div>"
      ],
      "text/plain": [
       "  state  avg_order_value  median_order_value     std  count\n",
       "0    PB            47.72               28.46  72.114    536\n",
       "1    RO            44.55               29.39  57.684    253\n",
       "2    AP            44.24               27.13  52.143     68\n",
       "3    AC            44.00               29.58  40.506     81\n",
       "4    AL            43.05               25.65  51.655    413"
      ]
     },
     "execution_count": 82,
     "metadata": {},
     "output_type": "execute_result"
    }
   ],
   "source": [
    "df_states.head()"
   ]
  },
  {
   "cell_type": "code",
   "execution_count": 83,
   "metadata": {},
   "outputs": [],
   "source": [
    "df_states['bounds'] = df_states.apply(\n",
    "    lambda row: mean_ci(row['avg_order_value'], row['count'], row['std'], row['state'], do_return=True),\n",
    "    axis=1\n",
    ")\n",
    "\n",
    "df_states['low_bound'] = df_states['bounds'].str[0]\n",
    "df_states['high_bound'] = df_states['bounds'].str[1]"
   ]
  },
  {
   "cell_type": "code",
   "execution_count": 103,
   "metadata": {},
   "outputs": [
    {
     "ename": "AttributeError",
     "evalue": "module 'matplotlib.pyplot' has no attribute 'title'",
     "output_type": "error",
     "traceback": [
      "\u001b[1;31m---------------------------------------------------------------------------\u001b[0m",
      "\u001b[1;31mAttributeError\u001b[0m                            Traceback (most recent call last)",
      "Cell \u001b[1;32mIn[103], line 2\u001b[0m\n\u001b[0;32m      1\u001b[0m plt\u001b[38;5;241m.\u001b[39mbarh(df_states[\u001b[38;5;124m'\u001b[39m\u001b[38;5;124mstate\u001b[39m\u001b[38;5;124m'\u001b[39m], df_states[\u001b[38;5;124m'\u001b[39m\u001b[38;5;124mhigh_bound\u001b[39m\u001b[38;5;124m'\u001b[39m]\u001b[38;5;241m-\u001b[39mdf_states[\u001b[38;5;124m'\u001b[39m\u001b[38;5;124mlow_bound\u001b[39m\u001b[38;5;124m'\u001b[39m], left\u001b[38;5;241m=\u001b[39mdf_states[\u001b[38;5;124m'\u001b[39m\u001b[38;5;124mlow_bound\u001b[39m\u001b[38;5;124m'\u001b[39m])\n\u001b[1;32m----> 2\u001b[0m plt\u001b[38;5;241m.\u001b[39mtitle(\u001b[38;5;124m'\u001b[39m\u001b[38;5;124mConf. Int. Avg Order Value by State\u001b[39m\u001b[38;5;124m'\u001b[39m)\n\u001b[0;32m      3\u001b[0m plt\u001b[38;5;241m.\u001b[39mshow()\n",
      "\u001b[1;31mAttributeError\u001b[0m: module 'matplotlib.pyplot' has no attribute 'title'"
     ]
    },
    {
     "data": {
      "image/png": "[encoded data removed]",
      "text/plain": [
       "<Figure size 640x480 with 1 Axes>"
      ]
     },
     "metadata": {},
     "output_type": "display_data"
    }
   ],
   "source": [
    "plt.barh(df_states['state'], df_states['high_bound']-df_states['low_bound'], left=df_states['low_bound'])\n",
    "plt.title('Conf. Int. Avg Order Value by State')\n",
    "plt.show()"
   ]
  },
  {
   "cell_type": "code",
   "execution_count": 85,
   "metadata": {},
   "outputs": [],
   "source": [
    "df_states.to_csv(r'C:\\Users\\matte\\OneDrive\\Desktop\\GitHub\\data\\ecom_brazil\\tableau_good\\order_value_vs_state.csv',\n",
    "                 index=False)"
   ]
  },
  {
   "cell_type": "markdown",
   "metadata": {},
   "source": [
    "## State with the most recurring customers"
   ]
  },
  {
   "cell_type": "markdown",
   "metadata": {},
   "source": [
    "**Yealy value by state**\n",
    "\n",
    "WITH life_time_table AS(\n",
    "\tSELECT\n",
    "\t\tEXTRACT(DAYS FROM (SELECT MAX(order_purchase_timestamp) FROM orders) - MIN(orders.order_purchase_timestamp)) AS lt_days,\n",
    "\t\tcustomers.customer_unique_id AS id,\n",
    "\t\tcustomers.customer_state AS state,\n",
    "\t\tSUM(payments.payment_value) AS lt_spent\n",
    "\tFROM orders\n",
    "\tJOIN customers ON customers.customer_id = orders.customer_id\n",
    "\tJOIN order_payments AS payments ON payments.order_id = orders.order_id\n",
    "\tWHERE payments.payment_sequential = 1\n",
    "\tGROUP BY customers.customer_unique_id, customers.customer_state\n",
    ")\n",
    "\n",
    "SELECT\n",
    "\tstate,\n",
    "\tROUND(STDDEV(lt_spent::NUMERIC * 365 / (CASE\n",
    "\t\tWHEN lt_days < 365 THEN 365\n",
    "\t\tELSE lt_days END)),2) as std,\n",
    "\tROUND(AVG(lt_spent::NUMERIC * 365 / (CASE\n",
    "\t\tWHEN lt_days < 365 THEN 365\n",
    "\t\tELSE lt_days END)),2) as yearly_value,\n",
    "\tCOUNT(*) AS size\n",
    "FROM life_time_table\n",
    "GROUP BY state;"
   ]
  },
  {
   "cell_type": "markdown",
   "metadata": {},
   "source": [
    "**Proportion of recurring customers by state**\n",
    "\n",
    "WITH recurring_tab AS(\n",
    "\tSELECT\n",
    "\t\tcustomers.customer_state AS state,\n",
    "\t\tCOUNT(*) AS num_orders,\n",
    "\t\tCASE\n",
    "\t\t\tWHEN COUNT(*)>1 THEN 1\n",
    "\t\t\tELSE 0\n",
    "\t\tEND AS is_recurring\n",
    "\tFROM orders\n",
    "\tJOIN customers ON customers.customer_id = orders.customer_id\n",
    "\tGROUP BY customers.customer_state, customers.customer_unique_id\n",
    ")\n",
    "\n",
    "SELECT\n",
    "\tstate,\n",
    "\tCOUNT(*) AS size,\n",
    "\tSUM(is_recurring) AS recurring_size,\n",
    "\tROUND(SUM(is_recurring)::NUMERIC/COUNT(*)::NUMERIC, 4) AS pi\n",
    "FROM recurring_tab\n",
    "GROUP BY state;"
   ]
  },
  {
   "cell_type": "code",
   "execution_count": 86,
   "metadata": {},
   "outputs": [],
   "source": [
    "def proportion_ci(sample_pi, sample_size, name, alpha=0.05, do_return=False):\n",
    "    st_err = np.sqrt(sample_pi*(1-sample_pi)/sample_size)\n",
    "    z_crit = stats.norm.ppf(1 - alpha / 2)\n",
    "    low_bound = round(sample_pi - st_err*z_crit, 3)\n",
    "    high_bound = round(sample_pi + st_err*z_crit, 3)\n",
    "\n",
    "    if do_return:\n",
    "        return low_bound, high_bound\n",
    "    else:\n",
    "        print(f'Mean of {name}: {low_bound} — {round(sample_pi, 3)} — {high_bound}')\n"
   ]
  },
  {
   "cell_type": "code",
   "execution_count": 87,
   "metadata": {},
   "outputs": [
    {
     "data": {
      "text/html": [
       "<div>\n",
       "<style scoped>\n",
       "    .dataframe tbody tr th:only-of-type {\n",
       "        vertical-align: middle;\n",
       "    }\n",
       "\n",
       "    .dataframe tbody tr th {\n",
       "        vertical-align: top;\n",
       "    }\n",
       "\n",
       "    .dataframe thead th {\n",
       "        text-align: right;\n",
       "    }\n",
       "</style>\n",
       "<table border=\"1\" class=\"dataframe\">\n",
       "  <thead>\n",
       "    <tr style=\"text-align: right;\">\n",
       "      <th></th>\n",
       "      <th>state</th>\n",
       "      <th>size</th>\n",
       "      <th>recurring_size</th>\n",
       "      <th>pi</th>\n",
       "    </tr>\n",
       "  </thead>\n",
       "  <tbody>\n",
       "    <tr>\n",
       "      <th>0</th>\n",
       "      <td>RR</td>\n",
       "      <td>45</td>\n",
       "      <td>1</td>\n",
       "      <td>0.0222</td>\n",
       "    </tr>\n",
       "    <tr>\n",
       "      <th>1</th>\n",
       "      <td>MG</td>\n",
       "      <td>11259</td>\n",
       "      <td>338</td>\n",
       "      <td>0.0300</td>\n",
       "    </tr>\n",
       "    <tr>\n",
       "      <th>2</th>\n",
       "      <td>MT</td>\n",
       "      <td>876</td>\n",
       "      <td>29</td>\n",
       "      <td>0.0331</td>\n",
       "    </tr>\n",
       "    <tr>\n",
       "      <th>3</th>\n",
       "      <td>CE</td>\n",
       "      <td>1313</td>\n",
       "      <td>22</td>\n",
       "      <td>0.0168</td>\n",
       "    </tr>\n",
       "    <tr>\n",
       "      <th>4</th>\n",
       "      <td>AC</td>\n",
       "      <td>77</td>\n",
       "      <td>4</td>\n",
       "      <td>0.0519</td>\n",
       "    </tr>\n",
       "  </tbody>\n",
       "</table>\n",
       "</div>"
      ],
      "text/plain": [
       "  state   size  recurring_size      pi\n",
       "0    RR     45               1  0.0222\n",
       "1    MG  11259             338  0.0300\n",
       "2    MT    876              29  0.0331\n",
       "3    CE   1313              22  0.0168\n",
       "4    AC     77               4  0.0519"
      ]
     },
     "execution_count": 87,
     "metadata": {},
     "output_type": "execute_result"
    }
   ],
   "source": [
    "df_yearly_value = pd.read_csv(r'C:\\Users\\matte\\OneDrive\\Desktop\\GitHub\\data\\ecom_brazil\\4 tableau\\recurring_pi_by_state.csv')\n",
    "df_yearly_value.head()"
   ]
  },
  {
   "cell_type": "code",
   "execution_count": 88,
   "metadata": {},
   "outputs": [],
   "source": [
    "df_yearly_value['low_bound'] = df_yearly_value.apply(\n",
    "        lambda x: proportion_ci(x['pi'], x['size'], x['state'], do_return=True), axis=1\n",
    "    ).str[0]\n",
    "df_yearly_value['high_bound'] = df_yearly_value.apply(\n",
    "        lambda x: proportion_ci(x['pi'], x['size'], x['state'], do_return=True), axis=1\n",
    "    ).str[1]"
   ]
  },
  {
   "cell_type": "code",
   "execution_count": 90,
   "metadata": {},
   "outputs": [],
   "source": [
    "# Some confidence intervals are lower than 0. It can't be for a proportion.\n",
    "\n",
    "mask = df_yearly_value['low_bound'] < 0\n",
    "df_yearly_value.loc[mask, 'low_bound'] = 0"
   ]
  },
  {
   "cell_type": "code",
   "execution_count": 95,
   "metadata": {},
   "outputs": [
    {
     "data": {
      "image/png": "[encoded data removed]",
      "text/plain": [
       "<Figure size 640x480 with 1 Axes>"
      ]
     },
     "metadata": {},
     "output_type": "display_data"
    }
   ],
   "source": [
    "plt.barh(df_yearly_value['state'], df_yearly_value['high_bound']-df_yearly_value['low_bound'], left=df_yearly_value['low_bound'])\n",
    "plt.title('Conf. Int. Recurring Customers Proportion by State')\n",
    "plt.show()"
   ]
  },
  {
   "cell_type": "code",
   "execution_count": 104,
   "metadata": {},
   "outputs": [],
   "source": [
    "df_yearly_value.to_csv(r'C:\\Users\\matte\\OneDrive\\Desktop\\GitHub\\data\\ecom_brazil\\tableau_good\\recurring_pi_by_state.csv',\n",
    "                index=False)"
   ]
  },
  {
   "cell_type": "markdown",
   "metadata": {},
   "source": [
    "## Most sold categories"
   ]
  },
  {
   "cell_type": "markdown",
   "metadata": {},
   "source": [
    "SELECT\n",
    "\ttranslat.product_category_name_english AS category,\n",
    "\tCOUNT(*) AS frequency\n",
    "FROM products\n",
    "JOIN product_category_name_translation AS translat ON translat.product_category_name = products.product_category_name\n",
    "JOIN order_items AS items ON items.product_id = products.product_id\n",
    "GROUP BY translat.product_category_name_english\n",
    "ORDER BY COUNT(*) DESC;"
   ]
  },
  {
   "cell_type": "code",
   "execution_count": 105,
   "metadata": {},
   "outputs": [
    {
     "data": {
      "text/html": [
       "<div>\n",
       "<style scoped>\n",
       "    .dataframe tbody tr th:only-of-type {\n",
       "        vertical-align: middle;\n",
       "    }\n",
       "\n",
       "    .dataframe tbody tr th {\n",
       "        vertical-align: top;\n",
       "    }\n",
       "\n",
       "    .dataframe thead th {\n",
       "        text-align: right;\n",
       "    }\n",
       "</style>\n",
       "<table border=\"1\" class=\"dataframe\">\n",
       "  <thead>\n",
       "    <tr style=\"text-align: right;\">\n",
       "      <th></th>\n",
       "      <th>category</th>\n",
       "      <th>frequency</th>\n",
       "    </tr>\n",
       "  </thead>\n",
       "  <tbody>\n",
       "    <tr>\n",
       "      <th>0</th>\n",
       "      <td>bed_bath_table</td>\n",
       "      <td>11115</td>\n",
       "    </tr>\n",
       "    <tr>\n",
       "      <th>1</th>\n",
       "      <td>health_beauty</td>\n",
       "      <td>9670</td>\n",
       "    </tr>\n",
       "    <tr>\n",
       "      <th>2</th>\n",
       "      <td>sports_leisure</td>\n",
       "      <td>8641</td>\n",
       "    </tr>\n",
       "    <tr>\n",
       "      <th>3</th>\n",
       "      <td>furniture_decor</td>\n",
       "      <td>8334</td>\n",
       "    </tr>\n",
       "    <tr>\n",
       "      <th>4</th>\n",
       "      <td>computers_accessories</td>\n",
       "      <td>7827</td>\n",
       "    </tr>\n",
       "  </tbody>\n",
       "</table>\n",
       "</div>"
      ],
      "text/plain": [
       "                category  frequency\n",
       "0         bed_bath_table      11115\n",
       "1          health_beauty       9670\n",
       "2         sports_leisure       8641\n",
       "3        furniture_decor       8334\n",
       "4  computers_accessories       7827"
      ]
     },
     "execution_count": 105,
     "metadata": {},
     "output_type": "execute_result"
    }
   ],
   "source": [
    "pd.read_csv(r'C:\\Users\\matte\\OneDrive\\Desktop\\GitHub\\data\\ecom_brazil\\tableau_good\\most_sold_categories.csv').head()"
   ]
  },
  {
   "cell_type": "markdown",
   "metadata": {},
   "source": [
    "## Orders with just one category"
   ]
  },
  {
   "cell_type": "markdown",
   "metadata": {},
   "source": [
    "WITH sold_togheter AS(\n",
    "\tSELECT\n",
    "\t\ttranslat.product_category_name_english AS category,\n",
    "\t\titems.product_id AS product_id,\n",
    "\t\titems.order_id AS order_id,\n",
    "\t\tMAX(items.order_item_id) OVER (PARTITION BY items.order_id) AS num_items\n",
    "\tFROM products\n",
    "\tJOIN product_category_name_translation AS translat ON translat.product_category_name = products.product_category_name\n",
    "\tJOIN order_items AS items ON items.product_id = products.product_id\n",
    "\tORDER BY items.order_item_id DESC\n",
    "),\n",
    "\n",
    "categories_sold_togheter AS(\n",
    "\tSELECT\n",
    "\t\torder_id,\n",
    "\t\tcategory,\n",
    "\t\tnum_items,\n",
    "\t\tCOUNT(*) AS num_category\n",
    "\tFROM sold_togheter\n",
    "\tWHERE num_items > 1\n",
    "\tGROUP BY order_id, category, num_items\n",
    "\tORDER BY num_items DESC\n",
    ")\n",
    "\n",
    "SELECT\n",
    "\tSUM(CASE WHEN num_items=num_category THEN 1 ELSE 0 END) AS one_cat_orders,\n",
    "\tCOUNT(DISTINCT order_id) as tot_orders\n",
    "FROM categories_sold_togheter;"
   ]
  },
  {
   "cell_type": "code",
   "execution_count": 106,
   "metadata": {},
   "outputs": [
    {
     "data": {
      "text/html": [
       "<div>\n",
       "<style scoped>\n",
       "    .dataframe tbody tr th:only-of-type {\n",
       "        vertical-align: middle;\n",
       "    }\n",
       "\n",
       "    .dataframe tbody tr th {\n",
       "        vertical-align: top;\n",
       "    }\n",
       "\n",
       "    .dataframe thead th {\n",
       "        text-align: right;\n",
       "    }\n",
       "</style>\n",
       "<table border=\"1\" class=\"dataframe\">\n",
       "  <thead>\n",
       "    <tr style=\"text-align: right;\">\n",
       "      <th></th>\n",
       "      <th>one_cat_orders</th>\n",
       "      <th>tot_orders</th>\n",
       "    </tr>\n",
       "  </thead>\n",
       "  <tbody>\n",
       "    <tr>\n",
       "      <th>0</th>\n",
       "      <td>8914</td>\n",
       "      <td>9673</td>\n",
       "    </tr>\n",
       "  </tbody>\n",
       "</table>\n",
       "</div>"
      ],
      "text/plain": [
       "   one_cat_orders  tot_orders\n",
       "0            8914        9673"
      ]
     },
     "execution_count": 106,
     "metadata": {},
     "output_type": "execute_result"
    }
   ],
   "source": [
    "pd.read_csv(r'C:\\Users\\matte\\OneDrive\\Desktop\\GitHub\\data\\ecom_brazil\\tableau_good\\one_category_orders.csv')"
   ]
  },
  {
   "cell_type": "markdown",
   "metadata": {},
   "source": [
    "**Findings:**\n",
    "The vast majority of orders (with more than 1 product) in Brazil are within the same product category."
   ]
  }
 ],
 "metadata": {
  "kernelspec": {
   "display_name": "base",
   "language": "python",
   "name": "python3"
  },
  "language_info": {
   "codemirror_mode": {
    "name": "ipython",
    "version": 3
   },
   "file_extension": ".py",
   "mimetype": "text/x-python",
   "name": "python",
   "nbconvert_exporter": "python",
   "pygments_lexer": "ipython3",
   "version": "3.11.5"
  }
 },
 "nbformat": 4,
 "nbformat_minor": 2
}
