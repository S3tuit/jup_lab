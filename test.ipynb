{
 "cells": [
  {
   "cell_type": "code",
   "execution_count": 92,
   "metadata": {},
   "outputs": [],
   "source": [
    "class HashTable:\n",
    "\n",
    "    def __init__(self, max_size):\n",
    "        '''Create a list with length max_size and all None values'''\n",
    "\n",
    "        self.data_list = [None for i in range(max_size)]\n",
    "        self.max_size = max_size\n",
    "\n",
    "\n",
    "    def get_index(self, name):\n",
    "        '''Retrive the hash index of a string'''\n",
    "\n",
    "        result = sum((ord(i)) for i in name)\n",
    "        return result % len(self.data_list)\n",
    "\n",
    "\n",
    "    def insert(self, key, new_value, offset=0):\n",
    "        '''Insert a new key-value pair'''\n",
    "\n",
    "        idx = self.get_index(key) + offset\n",
    "        if self.data_list[idx] is not None:\n",
    "            if self.data_list[idx][0] == key:\n",
    "                print('There already is such key!')\n",
    "                return None\n",
    "            elif idx == self.max_size:\n",
    "                offset = -idx\n",
    "                self.insert(key, new_value, offset)\n",
    "            else:\n",
    "                offset += 1\n",
    "                self.insert(key, new_value, offset)\n",
    "        else:\n",
    "            self.data_list[idx] = (key, new_value)\n",
    "\n",
    "\n",
    "    def find(self, key, offset=0):\n",
    "        '''Given a key, it returns the value associated with it'''\n",
    "\n",
    "        idx = self.get_index(key) + offset\n",
    "        if self.data_list[idx] is None:\n",
    "            print('No such key found! :(')\n",
    "            return None\n",
    "\n",
    "        elif self.data_list[idx][0] != key:\n",
    "            offset += 1\n",
    "            return self.find(key, offset)\n",
    "        else:\n",
    "            return self.data_list[idx][1]\n",
    "\n",
    "\n",
    "    def update(self, key, new_value):\n",
    "        '''Uptade the value of a given key'''\n",
    "\n",
    "        idx = self.get_index(key)\n",
    "        if self.data_list[idx] is None:\n",
    "            print('No such key found! :(')\n",
    "            return None\n",
    "        self.data_list[idx] = (key, new_value)\n",
    "\n",
    "\n",
    "    def list_all(self, keys=True, values=True):\n",
    "        '''List all keys store in the hash table'''\n",
    "        if keys == True and values == True:\n",
    "            return [x for x in self.data_list if x is not None]\n",
    "        \n",
    "        elif keys == True and values == False:\n",
    "            return [x[0] for x in self.data_list if x is not None]\n",
    "\n",
    "        elif keys == False and values == True:\n",
    "            return [x[1] for x in self.data_list if x is not None]\n",
    "\n",
    "        else:\n",
    "            return None\n",
    "    \n",
    "    def get_valid_key(self, idx):\n",
    "        if self.data_list[idx] is not None:\n",
    "            return self.get_valid_key(idx+1)\n",
    "        \n",
    "        else:\n",
    "            return idx"
   ]
  },
  {
   "cell_type": "code",
   "execution_count": 93,
   "metadata": {},
   "outputs": [],
   "source": [
    "htable = HashTable(133)"
   ]
  },
  {
   "cell_type": "code",
   "execution_count": 94,
   "metadata": {},
   "outputs": [],
   "source": [
    "htable.insert('matteo', 83)\n",
    "htable.insert('oettam', 830)"
   ]
  },
  {
   "cell_type": "code",
   "execution_count": 96,
   "metadata": {},
   "outputs": [
    {
     "name": "stdout",
     "output_type": "stream",
     "text": [
      "No such key found! :(\n"
     ]
    }
   ],
   "source": [
    "htable.find('mattoe')"
   ]
  },
  {
   "cell_type": "code",
   "execution_count": 82,
   "metadata": {},
   "outputs": [
    {
     "data": {
      "text/plain": [
       "119"
      ]
     },
     "execution_count": 82,
     "metadata": {},
     "output_type": "execute_result"
    }
   ],
   "source": [
    "htable.get_valid_key(118)"
   ]
  },
  {
   "cell_type": "code",
   "execution_count": null,
   "metadata": {},
   "outputs": [],
   "source": []
  }
 ],
 "metadata": {
  "kernelspec": {
   "display_name": "base",
   "language": "python",
   "name": "python3"
  },
  "language_info": {
   "codemirror_mode": {
    "name": "ipython",
    "version": 3
   },
   "file_extension": ".py",
   "mimetype": "text/x-python",
   "name": "python",
   "nbconvert_exporter": "python",
   "pygments_lexer": "ipython3",
   "version": "3.11.5"
  }
 },
 "nbformat": 4,
 "nbformat_minor": 2
}
