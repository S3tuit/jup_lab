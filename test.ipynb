{
 "cells": [
  {
   "cell_type": "code",
   "execution_count": 1,
   "metadata": {},
   "outputs": [],
   "source": [
    "import networkx as nx\n",
    "\n",
    "model = nx.DiGraph([\n",
    "            (\"C\", \"A\"),\n",
    "            (\"C\", \"B\"),\n",
    "            (\"D\", \"A\"),\n",
    "            (\"B\", \"E\"),\n",
    "            (\"F\", \"E\"),\n",
    "            (\"A\", \"G\"),\n",
    "        ])"
   ]
  },
  {
   "cell_type": "markdown",
   "metadata": {},
   "source": [
    "[ee](https://learning.oreilly.com/api/v2/epubs/urn:orm:book:9781098140243/files/assets/ciip_03in11.png )"
   ]
  },
  {
   "cell_type": "code",
   "execution_count": 8,
   "metadata": {},
   "outputs": [
    {
     "name": "stdout",
     "output_type": "stream",
     "text": [
      "Are G and F dependent?\n",
      "False\n"
     ]
    }
   ],
   "source": [
    "print(\"Are G and F dependent?\")\n",
    "print(not(nx.d_separated(model, {\"G\"}, {\"F\"}, {})))"
   ]
  }
 ],
 "metadata": {
  "kernelspec": {
   "display_name": "py_env",
   "language": "python",
   "name": "python3"
  },
  "language_info": {
   "codemirror_mode": {
    "name": "ipython",
    "version": 3
   },
   "file_extension": ".py",
   "mimetype": "text/x-python",
   "name": "python",
   "nbconvert_exporter": "python",
   "pygments_lexer": "ipython3",
   "version": "3.11.7"
  }
 },
 "nbformat": 4,
 "nbformat_minor": 2
}
