{
 "cells": [
  {
   "cell_type": "code",
   "execution_count": 1,
   "metadata": {},
   "outputs": [],
   "source": [
    "import numpy as np"
   ]
  },
  {
   "cell_type": "code",
   "execution_count": 41,
   "metadata": {},
   "outputs": [],
   "source": [
    "def clean_str(str1):\n",
    "    stack = []\n",
    "    res = [''] * len(str1)\n",
    "\n",
    "    for idx, val in enumerate(str1):\n",
    "        if val == '(':\n",
    "            stack.append(idx)\n",
    "        elif val == ')':\n",
    "            if len(stack) >0:\n",
    "                latest = stack.pop()\n",
    "                res[latest] = str1[latest]\n",
    "                res[idx] = val\n",
    "        else:\n",
    "            res[idx] = val\n",
    "    \n",
    "    return ''.join(res)"
   ]
  },
  {
   "cell_type": "code",
   "execution_count": 42,
   "metadata": {},
   "outputs": [
    {
     "data": {
      "text/plain": [
       "'ab((cd)e(f)g)'"
      ]
     },
     "execution_count": 42,
     "metadata": {},
     "output_type": "execute_result"
    }
   ],
   "source": [
    "clean_str(')a(b((cd)e(f)g)')"
   ]
  }
 ],
 "metadata": {
  "kernelspec": {
   "display_name": "base",
   "language": "python",
   "name": "python3"
  },
  "language_info": {
   "codemirror_mode": {
    "name": "ipython",
    "version": 3
   },
   "file_extension": ".py",
   "mimetype": "text/x-python",
   "name": "python",
   "nbconvert_exporter": "python",
   "pygments_lexer": "ipython3",
   "version": "3.11.5"
  }
 },
 "nbformat": 4,
 "nbformat_minor": 2
}
