{
 "cells": [
  {
   "cell_type": "code",
   "execution_count": 1,
   "metadata": {},
   "outputs": [],
   "source": [
    "import numpy as np"
   ]
  },
  {
   "cell_type": "code",
   "execution_count": 24,
   "metadata": {},
   "outputs": [],
   "source": [
    "class TreeNode:\n",
    "    def __init__(self, key):\n",
    "        self.key = key\n",
    "        self.left = None\n",
    "        self.right = None"
   ]
  },
  {
   "cell_type": "code",
   "execution_count": 25,
   "metadata": {},
   "outputs": [],
   "source": [
    "tree_tuple = ((1,3,None), 2, ((None, 3, 4), 5, (6,7,8)))"
   ]
  },
  {
   "cell_type": "code",
   "execution_count": 26,
   "metadata": {},
   "outputs": [],
   "source": [
    "def parse_tuple(data):\n",
    "    if isinstance(data, tuple) and len(data) == 3:\n",
    "        node = TreeNode(data[1])\n",
    "        node.left = parse_tuple(data[0])\n",
    "        node.right = parse_tuple(data[2])\n",
    "    elif data is None:\n",
    "        node = None\n",
    "    else:\n",
    "        node = TreeNode(data)\n",
    "    return node"
   ]
  },
  {
   "cell_type": "code",
   "execution_count": 31,
   "metadata": {},
   "outputs": [],
   "source": [
    "tree2 = parse_tuple(tree_tuple)"
   ]
  },
  {
   "cell_type": "code",
   "execution_count": 32,
   "metadata": {},
   "outputs": [
    {
     "data": {
      "text/plain": [
       "<__main__.TreeNode at 0x29503916650>"
      ]
     },
     "execution_count": 32,
     "metadata": {},
     "output_type": "execute_result"
    }
   ],
   "source": [
    "tree2"
   ]
  },
  {
   "cell_type": "code",
   "execution_count": 37,
   "metadata": {},
   "outputs": [],
   "source": [
    "tree2.left.right"
   ]
  },
  {
   "cell_type": "code",
   "execution_count": 38,
   "metadata": {},
   "outputs": [],
   "source": [
    "def display_keys(node, space='\\t', level=0):\n",
    "\n",
    "    if node is None:\n",
    "        print(space*level + '@')\n",
    "        return None\n",
    "    \n",
    "    if node.left is None and node.right is None:\n",
    "        print(space*level + str(node.key))\n",
    "        return\n",
    "    \n",
    "    display_keys(node.right, space, level+1)\n",
    "    print(space*level + str(node.key))\n",
    "    display_keys(node.left, space, level+1)"
   ]
  },
  {
   "cell_type": "code",
   "execution_count": 39,
   "metadata": {},
   "outputs": [
    {
     "name": "stdout",
     "output_type": "stream",
     "text": [
      "\t\t\t8\n",
      "\t\t7\n",
      "\t\t\t6\n",
      "\t5\n",
      "\t\t\t4\n",
      "\t\t3\n",
      "\t\t\t@\n",
      "2\n",
      "\t\t@\n",
      "\t3\n",
      "\t\t1\n"
     ]
    }
   ],
   "source": [
    "display_keys(tree2)"
   ]
  },
  {
   "cell_type": "code",
   "execution_count": 43,
   "metadata": {},
   "outputs": [
    {
     "name": "stdout",
     "output_type": "stream",
     "text": [
      "\t\t\t\t3\n",
      "\t\t\t0\n",
      "\t\t\t\t14\n",
      "\t\t8\n",
      "\t\t\t\t3\n",
      "\t\t\tNone\n",
      "\t\t\t\t3\n",
      "\tNone\n",
      "\t\t12\n",
      "7\n",
      "\t\t\t3\n",
      "\t\t0\n",
      "\t\t\t14\n",
      "\t3\n",
      "\t\t0\n"
     ]
    }
   ],
   "source": [
    "tuple3 = ((0,3,(14,0,3)), 7, (12,None,((3,None,3),8, (14,0,3))))\n",
    "tree3 = parse_tuple(tuple3)\n",
    "\n",
    "display_keys(tree3)"
   ]
  },
  {
   "cell_type": "code",
   "execution_count": 44,
   "metadata": {},
   "outputs": [],
   "source": [
    "def traverse_in_order(node):\n",
    "    if node is None:\n",
    "        return []\n",
    "    \n",
    "    return(traverse_in_order(node.left)+\n",
    "           [node.key]+\n",
    "           traverse_in_order(node.right))"
   ]
  },
  {
   "cell_type": "code",
   "execution_count": 45,
   "metadata": {},
   "outputs": [
    {
     "data": {
      "text/plain": [
       "[0, 3, 14, 0, 3, 7, 12, None, 3, None, 3, 8, 14, 0, 3]"
      ]
     },
     "execution_count": 45,
     "metadata": {},
     "output_type": "execute_result"
    }
   ],
   "source": [
    "traverse_in_order(tree3)"
   ]
  },
  {
   "cell_type": "code",
   "execution_count": null,
   "metadata": {},
   "outputs": [],
   "source": [
    "def traverse_post_order(node):\n",
    "    if node is None:\n",
    "        return []"
   ]
  },
  {
   "cell_type": "code",
   "execution_count": null,
   "metadata": {},
   "outputs": [],
   "source": [
    "traverse_post_order(tree3)"
   ]
  },
  {
   "cell_type": "code",
   "execution_count": 46,
   "metadata": {},
   "outputs": [],
   "source": [
    "def traverse_pre_order(node):\n",
    "    if node is None:\n",
    "        return []\n",
    "\n",
    "    return([node.key]+\n",
    "           traverse_pre_order(node.left)+\n",
    "           traverse_pre_order(node.right))"
   ]
  },
  {
   "cell_type": "code",
   "execution_count": 47,
   "metadata": {},
   "outputs": [
    {
     "data": {
      "text/plain": [
       "[7, 3, 0, 0, 14, 3, None, 12, 8, None, 3, 3, 0, 14, 3]"
      ]
     },
     "execution_count": 47,
     "metadata": {},
     "output_type": "execute_result"
    }
   ],
   "source": [
    "traverse_pre_order(tree3)"
   ]
  }
 ],
 "metadata": {
  "kernelspec": {
   "display_name": "base",
   "language": "python",
   "name": "python3"
  },
  "language_info": {
   "codemirror_mode": {
    "name": "ipython",
    "version": 3
   },
   "file_extension": ".py",
   "mimetype": "text/x-python",
   "name": "python",
   "nbconvert_exporter": "python",
   "pygments_lexer": "ipython3",
   "version": "3.11.5"
  }
 },
 "nbformat": 4,
 "nbformat_minor": 2
}
