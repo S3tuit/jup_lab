{
 "cells": [
  {
   "cell_type": "code",
   "execution_count": 1,
   "metadata": {},
   "outputs": [
    {
     "data": {
      "text/html": [
       "<div>\n",
       "<style scoped>\n",
       "    .dataframe tbody tr th:only-of-type {\n",
       "        vertical-align: middle;\n",
       "    }\n",
       "\n",
       "    .dataframe tbody tr th {\n",
       "        vertical-align: top;\n",
       "    }\n",
       "\n",
       "    .dataframe thead th {\n",
       "        text-align: right;\n",
       "    }\n",
       "</style>\n",
       "<table border=\"1\" class=\"dataframe\">\n",
       "  <thead>\n",
       "    <tr style=\"text-align: right;\">\n",
       "      <th></th>\n",
       "      <th>d</th>\n",
       "      <th>delivery_time</th>\n",
       "      <th>delivery_time_1</th>\n",
       "      <th>delivery_time_0</th>\n",
       "      <th>tau</th>\n",
       "    </tr>\n",
       "  </thead>\n",
       "  <tbody>\n",
       "    <tr>\n",
       "      <th>0</th>\n",
       "      <td>1</td>\n",
       "      <td>2.84</td>\n",
       "      <td>2.84</td>\n",
       "      <td>5.84</td>\n",
       "      <td>-3.0</td>\n",
       "    </tr>\n",
       "    <tr>\n",
       "      <th>1</th>\n",
       "      <td>0</td>\n",
       "      <td>4.49</td>\n",
       "      <td>1.49</td>\n",
       "      <td>6.49</td>\n",
       "      <td>-5.0</td>\n",
       "    </tr>\n",
       "    <tr>\n",
       "      <th>2</th>\n",
       "      <td>0</td>\n",
       "      <td>7.27</td>\n",
       "      <td>2.27</td>\n",
       "      <td>8.27</td>\n",
       "      <td>-6.0</td>\n",
       "    </tr>\n",
       "    <tr>\n",
       "      <th>3</th>\n",
       "      <td>1</td>\n",
       "      <td>5.27</td>\n",
       "      <td>2.27</td>\n",
       "      <td>8.27</td>\n",
       "      <td>-6.0</td>\n",
       "    </tr>\n",
       "    <tr>\n",
       "      <th>4</th>\n",
       "      <td>1</td>\n",
       "      <td>5.59</td>\n",
       "      <td>4.59</td>\n",
       "      <td>10.59</td>\n",
       "      <td>-6.0</td>\n",
       "    </tr>\n",
       "  </tbody>\n",
       "</table>\n",
       "</div>"
      ],
      "text/plain": [
       "   d  delivery_time  delivery_time_1  delivery_time_0  tau\n",
       "0  1           2.84             2.84             5.84 -3.0\n",
       "1  0           4.49             1.49             6.49 -5.0\n",
       "2  0           7.27             2.27             8.27 -6.0\n",
       "3  1           5.27             2.27             8.27 -6.0\n",
       "4  1           5.59             4.59            10.59 -6.0"
      ]
     },
     "execution_count": 1,
     "metadata": {},
     "output_type": "execute_result"
    }
   ],
   "source": [
    "import pandas as pd\n",
    "import numpy as np\n",
    "\n",
    "df = pd.read_csv(r\"C:\\Users\\matte\\OneDrive\\Desktop\\GitHub\\data\\causal\\sb_exp_every.csv\")\n",
    "\n",
    "df.head()"
   ]
  },
  {
   "cell_type": "code",
   "execution_count": 2,
   "metadata": {},
   "outputs": [
    {
     "data": {
      "text/html": [
       "<div>\n",
       "<style scoped>\n",
       "    .dataframe tbody tr th:only-of-type {\n",
       "        vertical-align: middle;\n",
       "    }\n",
       "\n",
       "    .dataframe tbody tr th {\n",
       "        vertical-align: top;\n",
       "    }\n",
       "\n",
       "    .dataframe thead th {\n",
       "        text-align: right;\n",
       "    }\n",
       "</style>\n",
       "<table border=\"1\" class=\"dataframe\">\n",
       "  <thead>\n",
       "    <tr style=\"text-align: right;\">\n",
       "      <th></th>\n",
       "      <th>d_l0</th>\n",
       "      <th>d_l1</th>\n",
       "      <th>d_l2</th>\n",
       "      <th>d_l3</th>\n",
       "      <th>d_l4</th>\n",
       "      <th>d_l5</th>\n",
       "      <th>d_l6</th>\n",
       "    </tr>\n",
       "  </thead>\n",
       "  <tbody>\n",
       "    <tr>\n",
       "      <th>0</th>\n",
       "      <td>1</td>\n",
       "      <td>NaN</td>\n",
       "      <td>NaN</td>\n",
       "      <td>NaN</td>\n",
       "      <td>NaN</td>\n",
       "      <td>NaN</td>\n",
       "      <td>NaN</td>\n",
       "    </tr>\n",
       "    <tr>\n",
       "      <th>1</th>\n",
       "      <td>0</td>\n",
       "      <td>1.0</td>\n",
       "      <td>NaN</td>\n",
       "      <td>NaN</td>\n",
       "      <td>NaN</td>\n",
       "      <td>NaN</td>\n",
       "      <td>NaN</td>\n",
       "    </tr>\n",
       "    <tr>\n",
       "      <th>2</th>\n",
       "      <td>0</td>\n",
       "      <td>0.0</td>\n",
       "      <td>1.0</td>\n",
       "      <td>NaN</td>\n",
       "      <td>NaN</td>\n",
       "      <td>NaN</td>\n",
       "      <td>NaN</td>\n",
       "    </tr>\n",
       "    <tr>\n",
       "      <th>3</th>\n",
       "      <td>1</td>\n",
       "      <td>0.0</td>\n",
       "      <td>0.0</td>\n",
       "      <td>1.0</td>\n",
       "      <td>NaN</td>\n",
       "      <td>NaN</td>\n",
       "      <td>NaN</td>\n",
       "    </tr>\n",
       "    <tr>\n",
       "      <th>4</th>\n",
       "      <td>1</td>\n",
       "      <td>1.0</td>\n",
       "      <td>0.0</td>\n",
       "      <td>0.0</td>\n",
       "      <td>1.0</td>\n",
       "      <td>NaN</td>\n",
       "      <td>NaN</td>\n",
       "    </tr>\n",
       "    <tr>\n",
       "      <th>5</th>\n",
       "      <td>0</td>\n",
       "      <td>1.0</td>\n",
       "      <td>1.0</td>\n",
       "      <td>0.0</td>\n",
       "      <td>0.0</td>\n",
       "      <td>1.0</td>\n",
       "      <td>NaN</td>\n",
       "    </tr>\n",
       "    <tr>\n",
       "      <th>6</th>\n",
       "      <td>1</td>\n",
       "      <td>0.0</td>\n",
       "      <td>1.0</td>\n",
       "      <td>1.0</td>\n",
       "      <td>0.0</td>\n",
       "      <td>0.0</td>\n",
       "      <td>1.0</td>\n",
       "    </tr>\n",
       "    <tr>\n",
       "      <th>7</th>\n",
       "      <td>1</td>\n",
       "      <td>1.0</td>\n",
       "      <td>0.0</td>\n",
       "      <td>1.0</td>\n",
       "      <td>1.0</td>\n",
       "      <td>0.0</td>\n",
       "      <td>0.0</td>\n",
       "    </tr>\n",
       "    <tr>\n",
       "      <th>8</th>\n",
       "      <td>0</td>\n",
       "      <td>1.0</td>\n",
       "      <td>1.0</td>\n",
       "      <td>0.0</td>\n",
       "      <td>1.0</td>\n",
       "      <td>1.0</td>\n",
       "      <td>0.0</td>\n",
       "    </tr>\n",
       "    <tr>\n",
       "      <th>9</th>\n",
       "      <td>0</td>\n",
       "      <td>0.0</td>\n",
       "      <td>1.0</td>\n",
       "      <td>1.0</td>\n",
       "      <td>0.0</td>\n",
       "      <td>1.0</td>\n",
       "      <td>1.0</td>\n",
       "    </tr>\n",
       "  </tbody>\n",
       "</table>\n",
       "</div>"
      ],
      "text/plain": [
       "   d_l0  d_l1  d_l2  d_l3  d_l4  d_l5  d_l6\n",
       "0     1   NaN   NaN   NaN   NaN   NaN   NaN\n",
       "1     0   1.0   NaN   NaN   NaN   NaN   NaN\n",
       "2     0   0.0   1.0   NaN   NaN   NaN   NaN\n",
       "3     1   0.0   0.0   1.0   NaN   NaN   NaN\n",
       "4     1   1.0   0.0   0.0   1.0   NaN   NaN\n",
       "5     0   1.0   1.0   0.0   0.0   1.0   NaN\n",
       "6     1   0.0   1.0   1.0   0.0   0.0   1.0\n",
       "7     1   1.0   0.0   1.0   1.0   0.0   0.0\n",
       "8     0   1.0   1.0   0.0   1.0   1.0   0.0\n",
       "9     0   0.0   1.0   1.0   0.0   1.0   1.0"
      ]
     },
     "execution_count": 2,
     "metadata": {},
     "output_type": "execute_result"
    }
   ],
   "source": [
    "df_lags = df.assign(**{\n",
    "             f\"d_l{l}\" : df[\"d\"].shift(l) for l in range(7)\n",
    "         })\n",
    "\n",
    "df_lags[[f\"d_l{l}\" for l in range(7)]].head(10)"
   ]
  },
  {
   "cell_type": "code",
   "execution_count": 3,
   "metadata": {},
   "outputs": [
    {
     "data": {
      "text/html": [
       "<table class=\"simpletable\">\n",
       "<tr>\n",
       "      <td></td>         <th>coef</th>     <th>std err</th>      <th>t</th>      <th>P>|t|</th>  <th>[0.025</th>    <th>0.975]</th>  \n",
       "</tr>\n",
       "<tr>\n",
       "  <th>Intercept</th> <td>    9.3270</td> <td>    0.461</td> <td>   20.246</td> <td> 0.000</td> <td>    8.414</td> <td>   10.240</td>\n",
       "</tr>\n",
       "<tr>\n",
       "  <th>d_l0</th>      <td>   -2.9645</td> <td>    0.335</td> <td>   -8.843</td> <td> 0.000</td> <td>   -3.629</td> <td>   -2.300</td>\n",
       "</tr>\n",
       "<tr>\n",
       "  <th>d_l1</th>      <td>   -1.8861</td> <td>    0.339</td> <td>   -5.560</td> <td> 0.000</td> <td>   -2.559</td> <td>   -1.213</td>\n",
       "</tr>\n",
       "<tr>\n",
       "  <th>d_l2</th>      <td>   -1.0013</td> <td>    0.340</td> <td>   -2.943</td> <td> 0.004</td> <td>   -1.676</td> <td>   -0.327</td>\n",
       "</tr>\n",
       "<tr>\n",
       "  <th>d_l3</th>      <td>    0.2594</td> <td>    0.341</td> <td>    0.762</td> <td> 0.448</td> <td>   -0.416</td> <td>    0.935</td>\n",
       "</tr>\n",
       "<tr>\n",
       "  <th>d_l4</th>      <td>    0.1431</td> <td>    0.340</td> <td>    0.421</td> <td> 0.675</td> <td>   -0.531</td> <td>    0.817</td>\n",
       "</tr>\n",
       "<tr>\n",
       "  <th>d_l5</th>      <td>    0.1388</td> <td>    0.340</td> <td>    0.408</td> <td> 0.684</td> <td>   -0.536</td> <td>    0.813</td>\n",
       "</tr>\n",
       "<tr>\n",
       "  <th>d_l6</th>      <td>    0.5588</td> <td>    0.336</td> <td>    1.662</td> <td> 0.099</td> <td>   -0.108</td> <td>    1.225</td>\n",
       "</tr>\n",
       "</table>"
      ],
      "text/latex": [
       "\\begin{center}\n",
       "\\begin{tabular}{lcccccc}\n",
       "\\toprule\n",
       "                   & \\textbf{coef} & \\textbf{std err} & \\textbf{t} & \\textbf{P$> |$t$|$} & \\textbf{[0.025} & \\textbf{0.975]}  \\\\\n",
       "\\midrule\n",
       "\\textbf{Intercept} &       9.3270  &        0.461     &    20.246  &         0.000        &        8.414    &       10.240     \\\\\n",
       "\\textbf{d\\_l0}     &      -2.9645  &        0.335     &    -8.843  &         0.000        &       -3.629    &       -2.300     \\\\\n",
       "\\textbf{d\\_l1}     &      -1.8861  &        0.339     &    -5.560  &         0.000        &       -2.559    &       -1.213     \\\\\n",
       "\\textbf{d\\_l2}     &      -1.0013  &        0.340     &    -2.943  &         0.004        &       -1.676    &       -0.327     \\\\\n",
       "\\textbf{d\\_l3}     &       0.2594  &        0.341     &     0.762  &         0.448        &       -0.416    &        0.935     \\\\\n",
       "\\textbf{d\\_l4}     &       0.1431  &        0.340     &     0.421  &         0.675        &       -0.531    &        0.817     \\\\\n",
       "\\textbf{d\\_l5}     &       0.1388  &        0.340     &     0.408  &         0.684        &       -0.536    &        0.813     \\\\\n",
       "\\textbf{d\\_l6}     &       0.5588  &        0.336     &     1.662  &         0.099        &       -0.108    &        1.225     \\\\\n",
       "\\bottomrule\n",
       "\\end{tabular}\n",
       "\\end{center}"
      ],
      "text/plain": [
       "<class 'statsmodels.iolib.table.SimpleTable'>"
      ]
     },
     "execution_count": 3,
     "metadata": {},
     "output_type": "execute_result"
    }
   ],
   "source": [
    "import statsmodels.formula.api as smf\n",
    "\n",
    "model = smf.ols(\"delivery_time ~\" + \"+\".join([f\"d_l{l}\"\n",
    "                                                       for l in range(7)]),\n",
    "                         data=df_lags).fit()\n",
    "\n",
    "model.summary().tables[1]"
   ]
  },
  {
   "cell_type": "code",
   "execution_count": 4,
   "metadata": {},
   "outputs": [
    {
     "name": "stdout",
     "output_type": "stream",
     "text": [
      "tau_m: -5.8518568954422925\n",
      "95% CI: [-7.000105171362163, -4.703608619522422]\n"
     ]
    }
   ],
   "source": [
    "tau_m_hat = model.params[1:4].sum() \n",
    "se_tau_m_hat = np.sqrt((model.bse[1:4]**2).sum()) \n",
    "print(\"tau_m:\", tau_m_hat)\n",
    "print(\"95% CI:\", [tau_m_hat -1.96*se_tau_m_hat,\n",
    "                           tau_m_hat +1.96*se_tau_m_hat])"
   ]
  },
  {
   "cell_type": "code",
   "execution_count": 5,
   "metadata": {},
   "outputs": [
    {
     "data": {
      "text/plain": [
       "array([ True, False, False,  True, False, False])"
      ]
     },
     "execution_count": 5,
     "metadata": {},
     "output_type": "execute_result"
    }
   ],
   "source": [
    "rad_points_3 = np.array([True, False, False]*(2))\n",
    "rad_points_3"
   ]
  },
  {
   "cell_type": "code",
   "execution_count": 6,
   "metadata": {},
   "outputs": [
    {
     "data": {
      "text/plain": [
       "array([1, 1, 1, 2, 2, 2])"
      ]
     },
     "execution_count": 6,
     "metadata": {},
     "output_type": "execute_result"
    }
   ],
   "source": [
    "rad_points_3.cumsum()"
   ]
  },
  {
   "cell_type": "code",
   "execution_count": 7,
   "metadata": {},
   "outputs": [
    {
     "data": {
      "text/plain": [
       "array([[1, 1, 1],\n",
       "       [1, 1, 2],\n",
       "       [1, 2, 2],\n",
       "       [2, 2, 2]])"
      ]
     },
     "execution_count": 7,
     "metadata": {},
     "output_type": "execute_result"
    }
   ],
   "source": [
    "from numpy.lib.stride_tricks import sliding_window_view\n",
    "\n",
    "m = 2\n",
    "sliding_window_view(rad_points_3.cumsum(), window_shape=m+1)"
   ]
  },
  {
   "cell_type": "code",
   "execution_count": 8,
   "metadata": {},
   "outputs": [
    {
     "data": {
      "text/plain": [
       "array([[0, 0],\n",
       "       [0, 1],\n",
       "       [1, 0],\n",
       "       [0, 0]])"
      ]
     },
     "execution_count": 8,
     "metadata": {},
     "output_type": "execute_result"
    }
   ],
   "source": [
    "np.diff(sliding_window_view(rad_points_3.cumsum(), 3), axis=1)"
   ]
  },
  {
   "cell_type": "code",
   "execution_count": 10,
   "metadata": {},
   "outputs": [
    {
     "data": {
      "text/plain": [
       "array([nan, nan,  1.,  2.,  2.,  1.])"
      ]
     },
     "execution_count": 10,
     "metadata": {},
     "output_type": "execute_result"
    }
   ],
   "source": [
    "n_rand_windows = np.concatenate([\n",
    "             [np.nan]*m,\n",
    "             np.diff(sliding_window_view(rad_points_3.cumsum(), 3),\n",
    "                     axis=1).sum(axis=1)+1\n",
    "         ])\n",
    "\n",
    "n_rand_windows"
   ]
  },
  {
   "cell_type": "code",
   "execution_count": 11,
   "metadata": {},
   "outputs": [
    {
     "data": {
      "text/plain": [
       "array([ nan,  nan, 0.5 , 0.25, 0.25, 0.5 ])"
      ]
     },
     "execution_count": 11,
     "metadata": {},
     "output_type": "execute_result"
    }
   ],
   "source": [
    "p=0.5\n",
    "p**n_rand_windows"
   ]
  },
  {
   "cell_type": "code",
   "execution_count": 13,
   "metadata": {},
   "outputs": [
    {
     "data": {
      "text/plain": [
       "array([  nan,   nan, 0.125, 0.125, 0.125, 0.125])"
      ]
     },
     "execution_count": 13,
     "metadata": {},
     "output_type": "execute_result"
    }
   ],
   "source": [
    "def compute_p(rand_points, m, p=0.5):\n",
    "             n_windows_last_m = np.concatenate([\n",
    "                 [np.nan]*m,\n",
    "                 np.diff(sliding_window_view(rand_points.cumsum(), m+1),\n",
    "                         axis=1).sum(axis=1)+1\n",
    "             ])\n",
    "             return p**n_windows_last_m\n",
    "\n",
    "compute_p(np.ones(6)==1, 2, 0.5)"
   ]
  },
  {
   "cell_type": "code",
   "execution_count": null,
   "metadata": {},
   "outputs": [],
   "source": []
  },
  {
   "cell_type": "code",
   "execution_count": null,
   "metadata": {},
   "outputs": [],
   "source": []
  },
  {
   "cell_type": "code",
   "execution_count": null,
   "metadata": {},
   "outputs": [],
   "source": []
  }
 ],
 "metadata": {
  "kernelspec": {
   "display_name": "py_env",
   "language": "python",
   "name": "python3"
  },
  "language_info": {
   "codemirror_mode": {
    "name": "ipython",
    "version": 3
   },
   "file_extension": ".py",
   "mimetype": "text/x-python",
   "name": "python",
   "nbconvert_exporter": "python",
   "pygments_lexer": "ipython3",
   "version": "3.11.7"
  }
 },
 "nbformat": 4,
 "nbformat_minor": 2
}
