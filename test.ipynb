{
 "cells": [
  {
   "cell_type": "code",
   "execution_count": 1,
   "metadata": {},
   "outputs": [
    {
     "data": {
      "text/html": [
       "<div>\n",
       "<style scoped>\n",
       "    .dataframe tbody tr th:only-of-type {\n",
       "        vertical-align: middle;\n",
       "    }\n",
       "\n",
       "    .dataframe tbody tr th {\n",
       "        vertical-align: top;\n",
       "    }\n",
       "\n",
       "    .dataframe thead th {\n",
       "        text-align: right;\n",
       "    }\n",
       "</style>\n",
       "<table border=\"1\" class=\"dataframe\">\n",
       "  <thead>\n",
       "    <tr style=\"text-align: right;\">\n",
       "      <th></th>\n",
       "      <th>rest_id</th>\n",
       "      <th>day</th>\n",
       "      <th>month</th>\n",
       "      <th>weekday</th>\n",
       "      <th>weekend</th>\n",
       "      <th>is_holiday</th>\n",
       "      <th>is_dec</th>\n",
       "      <th>is_nov</th>\n",
       "      <th>competitors_price</th>\n",
       "      <th>discounts</th>\n",
       "      <th>sales</th>\n",
       "    </tr>\n",
       "  </thead>\n",
       "  <tbody>\n",
       "    <tr>\n",
       "      <th>0</th>\n",
       "      <td>0</td>\n",
       "      <td>2016-01-01</td>\n",
       "      <td>1</td>\n",
       "      <td>4</td>\n",
       "      <td>False</td>\n",
       "      <td>True</td>\n",
       "      <td>False</td>\n",
       "      <td>False</td>\n",
       "      <td>2.88</td>\n",
       "      <td>0</td>\n",
       "      <td>79.0</td>\n",
       "    </tr>\n",
       "    <tr>\n",
       "      <th>1</th>\n",
       "      <td>0</td>\n",
       "      <td>2016-01-02</td>\n",
       "      <td>1</td>\n",
       "      <td>5</td>\n",
       "      <td>True</td>\n",
       "      <td>False</td>\n",
       "      <td>False</td>\n",
       "      <td>False</td>\n",
       "      <td>2.64</td>\n",
       "      <td>0</td>\n",
       "      <td>57.0</td>\n",
       "    </tr>\n",
       "    <tr>\n",
       "      <th>2</th>\n",
       "      <td>0</td>\n",
       "      <td>2016-01-03</td>\n",
       "      <td>1</td>\n",
       "      <td>6</td>\n",
       "      <td>True</td>\n",
       "      <td>False</td>\n",
       "      <td>False</td>\n",
       "      <td>False</td>\n",
       "      <td>2.08</td>\n",
       "      <td>5</td>\n",
       "      <td>294.0</td>\n",
       "    </tr>\n",
       "    <tr>\n",
       "      <th>3</th>\n",
       "      <td>0</td>\n",
       "      <td>2016-01-04</td>\n",
       "      <td>1</td>\n",
       "      <td>0</td>\n",
       "      <td>False</td>\n",
       "      <td>False</td>\n",
       "      <td>False</td>\n",
       "      <td>False</td>\n",
       "      <td>3.37</td>\n",
       "      <td>15</td>\n",
       "      <td>676.5</td>\n",
       "    </tr>\n",
       "    <tr>\n",
       "      <th>4</th>\n",
       "      <td>0</td>\n",
       "      <td>2016-01-05</td>\n",
       "      <td>1</td>\n",
       "      <td>1</td>\n",
       "      <td>False</td>\n",
       "      <td>False</td>\n",
       "      <td>False</td>\n",
       "      <td>False</td>\n",
       "      <td>3.79</td>\n",
       "      <td>0</td>\n",
       "      <td>66.0</td>\n",
       "    </tr>\n",
       "  </tbody>\n",
       "</table>\n",
       "</div>"
      ],
      "text/plain": [
       "   rest_id         day  month  weekday  weekend  is_holiday  is_dec  is_nov  \\\n",
       "0        0  2016-01-01      1        4    False        True   False   False   \n",
       "1        0  2016-01-02      1        5     True       False   False   False   \n",
       "2        0  2016-01-03      1        6     True       False   False   False   \n",
       "3        0  2016-01-04      1        0    False       False   False   False   \n",
       "4        0  2016-01-05      1        1    False       False   False   False   \n",
       "\n",
       "   competitors_price  discounts  sales  \n",
       "0               2.88          0   79.0  \n",
       "1               2.64          0   57.0  \n",
       "2               2.08          5  294.0  \n",
       "3               3.37         15  676.5  \n",
       "4               3.79          0   66.0  "
      ]
     },
     "execution_count": 1,
     "metadata": {},
     "output_type": "execute_result"
    }
   ],
   "source": [
    "import pandas as pd\n",
    "import numpy as np\n",
    "\n",
    "data = pd.read_csv(r'C:\\Users\\matte\\OneDrive\\Desktop\\GitHub\\data\\causal\\daily_restaurant_sales.csv')\n",
    "data.head()"
   ]
  },
  {
   "cell_type": "code",
   "execution_count": 2,
   "metadata": {},
   "outputs": [],
   "source": [
    "import statsmodels.formula.api as smf\n",
    "\n",
    "X = [\"C(month)\", \"C(weekday)\", \"is_holiday\", \"competitors_price\"]\n",
    "regr_cate = smf.ols(f\"sales ~ discounts*({'+'.join(X)})\",\n",
    "                            data=data).fit()"
   ]
  },
  {
   "cell_type": "code",
   "execution_count": 3,
   "metadata": {},
   "outputs": [],
   "source": [
    "ols_cate_pred = (\n",
    "            regr_cate.predict(data.assign(discounts=data[\"discounts\"]+1)) \n",
    "            -regr_cate.predict(data)\n",
    "        )"
   ]
  },
  {
   "cell_type": "code",
   "execution_count": 4,
   "metadata": {},
   "outputs": [],
   "source": [
    "train = data.query(\"day<'2018-01-01'\")\n",
    "test = data.query(\"day>='2018-01-01'\")"
   ]
  },
  {
   "cell_type": "code",
   "execution_count": 5,
   "metadata": {},
   "outputs": [],
   "source": [
    "X = [\"C(month)\", \"C(weekday)\", \"is_holiday\", \"competitors_price\"]\n",
    "regr_model = smf.ols(f\"sales ~ discounts*({'+'.join(X)})\",\n",
    "                             data=train).fit()\n",
    "\n",
    "cate_pred = (\n",
    "            regr_model.predict(test.assign(discounts=test[\"discounts\"]+1)) \n",
    "            -regr_model.predict(test)\n",
    "        )"
   ]
  },
  {
   "cell_type": "code",
   "execution_count": 6,
   "metadata": {},
   "outputs": [],
   "source": [
    "from sklearn.ensemble import GradientBoostingRegressor\n",
    "\n",
    "X = [\"month\", \"weekday\", \"is_holiday\", \"competitors_price\", \"discounts\"]\n",
    "y = \"sales\"\n",
    "\n",
    "np.random.seed(1)\n",
    "ml_model = GradientBoostingRegressor(n_estimators=50).fit(train[X],\n",
    "                                                                  train[y])\n",
    "\n",
    "ml_pred = ml_model.predict(test[X])"
   ]
  },
  {
   "cell_type": "code",
   "execution_count": 7,
   "metadata": {},
   "outputs": [],
   "source": [
    "test_pred = test.assign(\n",
    "            ml_pred=ml_pred,\n",
    "            cate_pred=cate_pred,\n",
    "            rand_m_pred=np.random.uniform(-1, 1, len(test)),\n",
    "        )"
   ]
  },
  {
   "cell_type": "code",
   "execution_count": 11,
   "metadata": {},
   "outputs": [
    {
     "data": {
      "text/plain": [
       "32.16196368039627"
      ]
     },
     "execution_count": 11,
     "metadata": {},
     "output_type": "execute_result"
    }
   ],
   "source": [
    "from toolz import curry\n",
    "\n",
    "@curry\n",
    "def reg_cate(data, y, t):\n",
    "    formula = f'{y} ~ {t}'\n",
    "    model = smf.ols(formula,\n",
    "                             data=data).fit()\n",
    "    return model.params[t]\n",
    "\n",
    "reg_cate(test, 'sales', 'discounts')"
   ]
  },
  {
   "cell_type": "code",
   "execution_count": null,
   "metadata": {},
   "outputs": [],
   "source": [
    "reg_cate(test, 'sales', 'discounts')"
   ]
  },
  {
   "cell_type": "code",
   "execution_count": 15,
   "metadata": {},
   "outputs": [
    {
     "data": {
      "text/plain": [
       "cate_pred_quantile\n",
       "18.0    20.494153\n",
       "24.0    24.782101\n",
       "27.0    27.494156\n",
       "29.0    28.833993\n",
       "31.0    29.604257\n",
       "33.0    32.216500\n",
       "35.0    35.889459\n",
       "37.0    36.846889\n",
       "39.0    39.125449\n",
       "47.0    44.272549\n",
       "dtype: float64"
      ]
     },
     "execution_count": 15,
     "metadata": {},
     "output_type": "execute_result"
    }
   ],
   "source": [
    "def effect_by_quantile(df, pred, y, t, q=10):\n",
    "             \n",
    "             # makes quantile partitions\n",
    "             groups = np.round(pd.IntervalIndex(pd.qcut(df[pred], q=q)).mid, 0) \n",
    "             \n",
    "             return (df\n",
    "                     .assign(**{f\"{pred}_quantile\": groups})\n",
    "                     .groupby(f\"{pred}_quantile\")\n",
    "                     # estimate the effect on each quantile\n",
    "                     .apply(reg_cate(y=y, t=t))) \n",
    "\n",
    "         \n",
    "effect_by_quantile(test_pred, \"cate_pred\", y=\"sales\", t=\"discounts\")"
   ]
  },
  {
   "cell_type": "code",
   "execution_count": 20,
   "metadata": {},
   "outputs": [
    {
     "data": {
      "text/plain": [
       "array([ 0.        ,  0.50387597,  0.982917  ,  1.38863289,  1.83046877,\n",
       "        2.26408709,  2.71880783,  3.13779256,  3.58003148,  4.01798404,\n",
       "        4.42379877,  4.83861979,  5.23242282,  5.62890903,  5.98551452,\n",
       "        6.38159081,  6.74402024,  7.13257317,  7.5088165 ,  7.9068624 ,\n",
       "        8.26968674,  8.63441305,  9.03646968,  9.41649072,  9.76869065,\n",
       "       10.13172457, 10.48178647, 10.85654343, 11.20031099, 11.57715392,\n",
       "       11.88179285, 12.22484979, 12.65329367, 13.00147394, 13.35835129,\n",
       "       13.75177168, 14.08571614, 14.44720258, 14.8206963 , 15.16915263,\n",
       "       15.48942971, 15.87058782, 16.18483861, 16.5889676 , 16.87711862,\n",
       "       17.226077  , 17.51523959, 17.85547549, 18.1943502 , 18.48062947,\n",
       "       18.77790182, 19.05825319, 19.38214231, 19.7240743 , 20.00659491,\n",
       "       20.35269886, 20.65268403, 20.93862963, 21.18225404, 21.53351325,\n",
       "       21.82793867, 22.09450014, 22.38142964, 22.62161465, 22.87752468,\n",
       "       23.11063608, 23.3799479 , 23.70688475, 23.97456335, 24.32208947,\n",
       "       24.59360922, 24.91557817, 25.20590966, 25.51965521, 25.81042645,\n",
       "       26.10331578, 26.33901594, 26.6396965 , 26.89011363, 27.16213357,\n",
       "       27.44788562, 27.60976683, 27.92564404, 28.15503057, 28.47433643,\n",
       "       28.68239331, 28.91615935, 29.12294194, 29.39723028, 29.59660012,\n",
       "       29.8672981 , 30.10511301, 30.40516978, 30.69778369, 30.9021028 ,\n",
       "       31.17575982, 31.43719771, 31.66657828, 31.82346463, 32.00615008,\n",
       "       32.16196368])"
      ]
     },
     "execution_count": 20,
     "metadata": {},
     "output_type": "execute_result"
    }
   ],
   "source": [
    "def cumulative_gain_curve(df, prediction, y, t,\n",
    "                                   ascending=False, normalize=False, steps=100):\n",
    "             \n",
    "             effect_fn = reg_cate(t=t, y=y)\n",
    "             normalizer = effect_fn(df) if normalize else 0\n",
    "             \n",
    "             size = len(df)\n",
    "             ordered_df = (df\n",
    "                           .sort_values(prediction, ascending=ascending)\n",
    "                           .reset_index(drop=True))\n",
    "             \n",
    "             steps = np.linspace(size/steps, size, steps).round(0)\n",
    "             effects = [(effect_fn(ordered_df.query(f\"index<={row}\"))\n",
    "                         -normalizer)*(row/size) \n",
    "                        for row in steps]\n",
    "\n",
    "             return np.array([0] + effects)\n",
    "\n",
    "         \n",
    "cumulative_gain_curve(test_pred, \"cate_pred\", \"sales\", \"discounts\")"
   ]
  },
  {
   "cell_type": "code",
   "execution_count": null,
   "metadata": {},
   "outputs": [],
   "source": []
  },
  {
   "cell_type": "code",
   "execution_count": 25,
   "metadata": {},
   "outputs": [],
   "source": [
    "def maxOperations(nums, k):\n",
    "        \"\"\"\n",
    "        :type nums: List[int]\n",
    "        :type k: int\n",
    "        :rtype: int\n",
    "        \"\"\"\n",
    "        c = Counter(nums)\n",
    "        output = 0\n",
    "        seen = set()\n",
    "\n",
    "        for x in c:\n",
    "            if x not in seen and (k-x) in c:\n",
    "                if x == (k-x):\n",
    "                    output += c[x]//2\n",
    "                else:\n",
    "                    output += min(c[x],c[k-x])\n",
    "                seen.add(x)\n",
    "                seen.add(k-x)\n",
    "        \n",
    "        return output"
   ]
  },
  {
   "cell_type": "code",
   "execution_count": 26,
   "metadata": {},
   "outputs": [
    {
     "data": {
      "text/plain": [
       "[[None, 3, 4, 5], [3, None, 5, 6], [4, 5, None, 7], [5, 6, 7, None]]"
      ]
     },
     "execution_count": 26,
     "metadata": {},
     "output_type": "execute_result"
    }
   ],
   "source": [
    "maxOperations([1,2,3,4], 3)"
   ]
  },
  {
   "cell_type": "code",
   "execution_count": 51,
   "metadata": {},
   "outputs": [],
   "source": [
    "def maxVowels(s, k):\n",
    "        \"\"\"\n",
    "        :type s: str\n",
    "        :type k: int\n",
    "        :rtype: int\n",
    "        \"\"\"\n",
    "        vowels = set(('a','e','i','o','u'))\n",
    "        curr_vow = sum([1 for i in s[:k] if i in vowels])\n",
    "        max_vow = curr_vow\n",
    "\n",
    "        for idx in range(1, len(s)-k+1):\n",
    "                if s[idx-1] in vowels:\n",
    "                    curr_vow -= 1\n",
    "                if s[idx+k-1] in vowels:\n",
    "                    curr_vow += 1\n",
    "                max_vow = max(max_vow, curr_vow)\n",
    "        return max_vow"
   ]
  },
  {
   "cell_type": "code",
   "execution_count": 53,
   "metadata": {},
   "outputs": [
    {
     "data": {
      "text/plain": [
       "3"
      ]
     },
     "execution_count": 53,
     "metadata": {},
     "output_type": "execute_result"
    }
   ],
   "source": [
    "maxVowels(\"abciiidef\", 3)"
   ]
  }
 ],
 "metadata": {
  "kernelspec": {
   "display_name": "py_env",
   "language": "python",
   "name": "python3"
  },
  "language_info": {
   "codemirror_mode": {
    "name": "ipython",
    "version": 3
   },
   "file_extension": ".py",
   "mimetype": "text/x-python",
   "name": "python",
   "nbconvert_exporter": "python",
   "pygments_lexer": "ipython3",
   "version": "3.11.7"
  }
 },
 "nbformat": 4,
 "nbformat_minor": 2
}
