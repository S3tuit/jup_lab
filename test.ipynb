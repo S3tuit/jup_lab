{
 "cells": [
  {
   "cell_type": "code",
   "execution_count": 1,
   "metadata": {},
   "outputs": [
    {
     "data": {
      "text/html": [
       "<div>\n",
       "<style scoped>\n",
       "    .dataframe tbody tr th:only-of-type {\n",
       "        vertical-align: middle;\n",
       "    }\n",
       "\n",
       "    .dataframe tbody tr th {\n",
       "        vertical-align: top;\n",
       "    }\n",
       "\n",
       "    .dataframe thead th {\n",
       "        text-align: right;\n",
       "    }\n",
       "</style>\n",
       "<table border=\"1\" class=\"dataframe\">\n",
       "  <thead>\n",
       "    <tr style=\"text-align: right;\">\n",
       "      <th></th>\n",
       "      <th>app_download</th>\n",
       "      <th>population</th>\n",
       "      <th>city</th>\n",
       "      <th>state</th>\n",
       "      <th>date</th>\n",
       "      <th>post</th>\n",
       "      <th>treated</th>\n",
       "    </tr>\n",
       "  </thead>\n",
       "  <tbody>\n",
       "    <tr>\n",
       "      <th>0</th>\n",
       "      <td>3066.0</td>\n",
       "      <td>12396372</td>\n",
       "      <td>sao_paulo</td>\n",
       "      <td>sao_paulo</td>\n",
       "      <td>2022-03-01</td>\n",
       "      <td>0</td>\n",
       "      <td>1</td>\n",
       "    </tr>\n",
       "    <tr>\n",
       "      <th>1</th>\n",
       "      <td>2701.0</td>\n",
       "      <td>12396372</td>\n",
       "      <td>sao_paulo</td>\n",
       "      <td>sao_paulo</td>\n",
       "      <td>2022-03-02</td>\n",
       "      <td>0</td>\n",
       "      <td>1</td>\n",
       "    </tr>\n",
       "    <tr>\n",
       "      <th>2</th>\n",
       "      <td>1927.0</td>\n",
       "      <td>12396372</td>\n",
       "      <td>sao_paulo</td>\n",
       "      <td>sao_paulo</td>\n",
       "      <td>2022-03-03</td>\n",
       "      <td>0</td>\n",
       "      <td>1</td>\n",
       "    </tr>\n",
       "    <tr>\n",
       "      <th>3</th>\n",
       "      <td>1451.0</td>\n",
       "      <td>12396372</td>\n",
       "      <td>sao_paulo</td>\n",
       "      <td>sao_paulo</td>\n",
       "      <td>2022-03-04</td>\n",
       "      <td>0</td>\n",
       "      <td>1</td>\n",
       "    </tr>\n",
       "    <tr>\n",
       "      <th>4</th>\n",
       "      <td>1248.0</td>\n",
       "      <td>12396372</td>\n",
       "      <td>sao_paulo</td>\n",
       "      <td>sao_paulo</td>\n",
       "      <td>2022-03-05</td>\n",
       "      <td>0</td>\n",
       "      <td>1</td>\n",
       "    </tr>\n",
       "  </tbody>\n",
       "</table>\n",
       "</div>"
      ],
      "text/plain": [
       "   app_download  population       city      state       date  post  treated\n",
       "0        3066.0    12396372  sao_paulo  sao_paulo 2022-03-01     0        1\n",
       "1        2701.0    12396372  sao_paulo  sao_paulo 2022-03-02     0        1\n",
       "2        1927.0    12396372  sao_paulo  sao_paulo 2022-03-03     0        1\n",
       "3        1451.0    12396372  sao_paulo  sao_paulo 2022-03-04     0        1\n",
       "4        1248.0    12396372  sao_paulo  sao_paulo 2022-03-05     0        1"
      ]
     },
     "execution_count": 1,
     "metadata": {},
     "output_type": "execute_result"
    }
   ],
   "source": [
    "import pandas as pd\n",
    "import numpy as np\n",
    "\n",
    "df = (pd.read_csv(r\"C:\\Users\\matte\\OneDrive\\Desktop\\GitHub\\data\\causal\\online_mkt.csv\")\n",
    "              .astype({\"date\":\"datetime64[ns]\"}))\n",
    "\n",
    "df.head()"
   ]
  },
  {
   "cell_type": "code",
   "execution_count": 2,
   "metadata": {},
   "outputs": [
    {
     "data": {
      "text/plain": [
       "['sao_paulo', 'porto_alegre', 'joao_pessoa']"
      ]
     },
     "execution_count": 2,
     "metadata": {},
     "output_type": "execute_result"
    }
   ],
   "source": [
    "treated = list(df.query(\"treated==1\")[\"city\"].unique())\n",
    "treated"
   ]
  },
  {
   "cell_type": "code",
   "execution_count": 3,
   "metadata": {},
   "outputs": [
    {
     "data": {
      "text/html": [
       "<div>\n",
       "<style scoped>\n",
       "    .dataframe tbody tr th:only-of-type {\n",
       "        vertical-align: middle;\n",
       "    }\n",
       "\n",
       "    .dataframe tbody tr th {\n",
       "        vertical-align: top;\n",
       "    }\n",
       "\n",
       "    .dataframe thead th {\n",
       "        text-align: right;\n",
       "    }\n",
       "</style>\n",
       "<table border=\"1\" class=\"dataframe\">\n",
       "  <thead>\n",
       "    <tr style=\"text-align: right;\">\n",
       "      <th></th>\n",
       "      <th>app_download</th>\n",
       "      <th>population</th>\n",
       "      <th>city</th>\n",
       "      <th>state</th>\n",
       "      <th>date</th>\n",
       "      <th>post</th>\n",
       "      <th>treated</th>\n",
       "      <th>app_download_pct</th>\n",
       "    </tr>\n",
       "  </thead>\n",
       "  <tbody>\n",
       "    <tr>\n",
       "      <th>0</th>\n",
       "      <td>3066.0</td>\n",
       "      <td>12396372</td>\n",
       "      <td>sao_paulo</td>\n",
       "      <td>sao_paulo</td>\n",
       "      <td>2022-03-01</td>\n",
       "      <td>0</td>\n",
       "      <td>1</td>\n",
       "      <td>0.024733</td>\n",
       "    </tr>\n",
       "    <tr>\n",
       "      <th>1</th>\n",
       "      <td>2701.0</td>\n",
       "      <td>12396372</td>\n",
       "      <td>sao_paulo</td>\n",
       "      <td>sao_paulo</td>\n",
       "      <td>2022-03-02</td>\n",
       "      <td>0</td>\n",
       "      <td>1</td>\n",
       "      <td>0.021789</td>\n",
       "    </tr>\n",
       "    <tr>\n",
       "      <th>2</th>\n",
       "      <td>1927.0</td>\n",
       "      <td>12396372</td>\n",
       "      <td>sao_paulo</td>\n",
       "      <td>sao_paulo</td>\n",
       "      <td>2022-03-03</td>\n",
       "      <td>0</td>\n",
       "      <td>1</td>\n",
       "      <td>0.015545</td>\n",
       "    </tr>\n",
       "    <tr>\n",
       "      <th>3</th>\n",
       "      <td>1451.0</td>\n",
       "      <td>12396372</td>\n",
       "      <td>sao_paulo</td>\n",
       "      <td>sao_paulo</td>\n",
       "      <td>2022-03-04</td>\n",
       "      <td>0</td>\n",
       "      <td>1</td>\n",
       "      <td>0.011705</td>\n",
       "    </tr>\n",
       "    <tr>\n",
       "      <th>4</th>\n",
       "      <td>1248.0</td>\n",
       "      <td>12396372</td>\n",
       "      <td>sao_paulo</td>\n",
       "      <td>sao_paulo</td>\n",
       "      <td>2022-03-05</td>\n",
       "      <td>0</td>\n",
       "      <td>1</td>\n",
       "      <td>0.010067</td>\n",
       "    </tr>\n",
       "  </tbody>\n",
       "</table>\n",
       "</div>"
      ],
      "text/plain": [
       "   app_download  population       city      state       date  post  treated  \\\n",
       "0        3066.0    12396372  sao_paulo  sao_paulo 2022-03-01     0        1   \n",
       "1        2701.0    12396372  sao_paulo  sao_paulo 2022-03-02     0        1   \n",
       "2        1927.0    12396372  sao_paulo  sao_paulo 2022-03-03     0        1   \n",
       "3        1451.0    12396372  sao_paulo  sao_paulo 2022-03-04     0        1   \n",
       "4        1248.0    12396372  sao_paulo  sao_paulo 2022-03-05     0        1   \n",
       "\n",
       "   app_download_pct  \n",
       "0          0.024733  \n",
       "1          0.021789  \n",
       "2          0.015545  \n",
       "3          0.011705  \n",
       "4          0.010067  "
      ]
     },
     "execution_count": 3,
     "metadata": {},
     "output_type": "execute_result"
    }
   ],
   "source": [
    "df_norm = df.assign(\n",
    "            app_download_pct = 100*df[\"app_download\"]/df[\"population\"]\n",
    "        )\n",
    "\n",
    "df_norm.head()"
   ]
  },
  {
   "cell_type": "code",
   "execution_count": 4,
   "metadata": {},
   "outputs": [
    {
     "data": {
      "text/plain": [
       "Timestamp('2022-05-01 00:00:00')"
      ]
     },
     "execution_count": 4,
     "metadata": {},
     "output_type": "execute_result"
    }
   ],
   "source": [
    "tr_period = df_norm.query(\"post==1\")[\"date\"].min()\n",
    "tr_period"
   ]
  },
  {
   "cell_type": "code",
   "execution_count": 7,
   "metadata": {},
   "outputs": [],
   "source": [
    "def reshape_sc_data(df,\n",
    "                            geo_col, \n",
    "                            time_col,\n",
    "                            y_col,\n",
    "                            tr_geos,\n",
    "                            tr_start):\n",
    "            \n",
    "            df_pivot = df.pivot(index=time_col, columns=geo_col, values=y_col)\n",
    "            \n",
    "            y_co = df_pivot.drop(columns=tr_geos)\n",
    "            y_tr = df_pivot[tr_geos]\n",
    "            \n",
    "            y_pre_co = y_co[df_pivot.index < tr_start]\n",
    "            y_pre_tr = y_tr[df_pivot.index < tr_start]\n",
    "            \n",
    "            y_post_co = y_co[df_pivot.index >= tr_start]\n",
    "            y_post_tr = y_tr[df_pivot.index >= tr_start]\n",
    "            \n",
    "            return y_pre_co, y_pre_tr, y_post_co, y_post_tr"
   ]
  },
  {
   "cell_type": "code",
   "execution_count": 8,
   "metadata": {},
   "outputs": [
    {
     "data": {
      "text/html": [
       "<div>\n",
       "<style scoped>\n",
       "    .dataframe tbody tr th:only-of-type {\n",
       "        vertical-align: middle;\n",
       "    }\n",
       "\n",
       "    .dataframe tbody tr th {\n",
       "        vertical-align: top;\n",
       "    }\n",
       "\n",
       "    .dataframe thead th {\n",
       "        text-align: right;\n",
       "    }\n",
       "</style>\n",
       "<table border=\"1\" class=\"dataframe\">\n",
       "  <thead>\n",
       "    <tr style=\"text-align: right;\">\n",
       "      <th>city</th>\n",
       "      <th>sao_paulo</th>\n",
       "      <th>porto_alegre</th>\n",
       "      <th>joao_pessoa</th>\n",
       "    </tr>\n",
       "    <tr>\n",
       "      <th>date</th>\n",
       "      <th></th>\n",
       "      <th></th>\n",
       "      <th></th>\n",
       "    </tr>\n",
       "  </thead>\n",
       "  <tbody>\n",
       "    <tr>\n",
       "      <th>2022-03-01</th>\n",
       "      <td>0.024733</td>\n",
       "      <td>0.004288</td>\n",
       "      <td>0.022039</td>\n",
       "    </tr>\n",
       "    <tr>\n",
       "      <th>2022-03-02</th>\n",
       "      <td>0.021789</td>\n",
       "      <td>0.008107</td>\n",
       "      <td>0.020344</td>\n",
       "    </tr>\n",
       "    <tr>\n",
       "      <th>2022-03-03</th>\n",
       "      <td>0.015545</td>\n",
       "      <td>0.004891</td>\n",
       "      <td>0.012352</td>\n",
       "    </tr>\n",
       "    <tr>\n",
       "      <th>2022-03-04</th>\n",
       "      <td>0.011705</td>\n",
       "      <td>0.002948</td>\n",
       "      <td>0.018285</td>\n",
       "    </tr>\n",
       "    <tr>\n",
       "      <th>2022-03-05</th>\n",
       "      <td>0.010067</td>\n",
       "      <td>0.006767</td>\n",
       "      <td>0.000000</td>\n",
       "    </tr>\n",
       "  </tbody>\n",
       "</table>\n",
       "</div>"
      ],
      "text/plain": [
       "city        sao_paulo  porto_alegre  joao_pessoa\n",
       "date                                            \n",
       "2022-03-01   0.024733      0.004288     0.022039\n",
       "2022-03-02   0.021789      0.008107     0.020344\n",
       "2022-03-03   0.015545      0.004891     0.012352\n",
       "2022-03-04   0.011705      0.002948     0.018285\n",
       "2022-03-05   0.010067      0.006767     0.000000"
      ]
     },
     "execution_count": 8,
     "metadata": {},
     "output_type": "execute_result"
    }
   ],
   "source": [
    "y_pre_co, y_pre_tr, y_post_co, y_post_tr = reshape_sc_data(\n",
    "            df_norm,\n",
    "            geo_col=\"city\",\n",
    "            time_col=\"date\",\n",
    "            y_col=\"app_download_pct\",\n",
    "            tr_geos=treated,\n",
    "            tr_start=str(tr_period)\n",
    "        )\n",
    "\n",
    "y_pre_tr.head()"
   ]
  },
  {
   "cell_type": "code",
   "execution_count": 12,
   "metadata": {},
   "outputs": [
    {
     "data": {
      "text/plain": [
       "array([-0.65 , -0.058, -0.239,  0.971,  0.03 , -0.204,  0.007,  0.095,\n",
       "        0.102,  0.106,  0.074,  0.079,  0.032, -0.5  , -0.041, -0.154,\n",
       "       -0.014,  0.132,  0.115,  0.094,  0.151, -0.058, -0.353,  0.049,\n",
       "       -0.476, -0.11 ,  0.158, -0.002,  0.036, -0.129, -0.066,  0.024,\n",
       "       -0.047,  0.089, -0.057,  0.429,  0.23 , -0.086,  0.098,  0.351,\n",
       "       -0.128,  0.128, -0.205,  0.088,  0.147,  0.555,  0.229])"
      ]
     },
     "execution_count": 12,
     "metadata": {},
     "output_type": "execute_result"
    }
   ],
   "source": [
    "from sklearn.linear_model import LinearRegression\n",
    "\n",
    "model = LinearRegression(fit_intercept=False)\n",
    "model.fit(y_pre_co, y_pre_tr.mean(axis=1))\n",
    "\n",
    "# extract the weights\n",
    "weights_lr = model.coef_\n",
    "weights_lr.round(3)"
   ]
  },
  {
   "cell_type": "code",
   "execution_count": 13,
   "metadata": {},
   "outputs": [],
   "source": [
    "y0_tr_hat = y_post_co.dot(weights_lr)"
   ]
  },
  {
   "cell_type": "code",
   "execution_count": 14,
   "metadata": {},
   "outputs": [
    {
     "name": "stdout",
     "output_type": "stream",
     "text": [
      "(CVXPY) Mar 21 06:54:14 PM: Encountered unexpected exception importing solver OSQP:\n",
      "ImportError('DLL load failed while importing qdldl: Impossibile trovare il modulo specificato.')\n"
     ]
    }
   ],
   "source": [
    "from sklearn.base import BaseEstimator, RegressorMixin\n",
    "from sklearn.utils.validation import (check_X_y, check_array,\n",
    "                                               check_is_fitted)\n",
    "import cvxpy as cp\n",
    "\n",
    "class SyntheticControl(BaseEstimator, RegressorMixin):\n",
    "\n",
    "             def __init__(self,):\n",
    "                 pass\n",
    "\n",
    "             def fit(self, y_pre_co, y_pre_tr):\n",
    "\n",
    "                 y_pre_co, y_pre_tr = check_X_y(y_pre_co, y_pre_tr)\n",
    "             \n",
    "                 w = cp.Variable(y_pre_co.shape[1])\n",
    "                 \n",
    "                 objective = cp.Minimize(cp.sum_squares(y_pre_co@w - y_pre_tr))\n",
    "                 constraints = [cp.sum(w) == 1, w >= 0]\n",
    "                 \n",
    "                 problem = cp.Problem(objective, constraints)\n",
    "                 \n",
    "                 self.loss_ = problem.solve(verbose=False)\n",
    "                 self.w_ = w.value\n",
    "                 \n",
    "                 self.is_fitted_ = True\n",
    "                 return self\n",
    "                 \n",
    "                 \n",
    "             def predict(self, y_co):\n",
    "\n",
    "                 check_is_fitted(self)\n",
    "                 y_co = check_array(y_co)\n",
    "                 \n",
    "                 return y_co @ self.w_"
   ]
  },
  {
   "cell_type": "code",
   "execution_count": 16,
   "metadata": {},
   "outputs": [
    {
     "name": "stderr",
     "output_type": "stream",
     "text": [
      "c:\\Users\\matte\\anaconda3\\envs\\py_env\\Lib\\site-packages\\cvxpy\\reductions\\solvers\\solving_chain.py:336: FutureWarning: \n",
      "    Your problem is being solved with the ECOS solver by default. Starting in \n",
      "    CVXPY 1.5.0, Clarabel will be used as the default solver instead. To continue \n",
      "    using ECOS, specify the ECOS solver explicitly using the ``solver=cp.ECOS`` \n",
      "    argument to the ``problem.solve`` method.\n",
      "    \n",
      "  warnings.warn(ECOS_DEPRECATION_MSG, FutureWarning)\n"
     ]
    },
    {
     "data": {
      "text/plain": [
       "array([0.   , 0.   , 0.   , 0.   , 0.   , 0.   , 0.084, 0.039, 0.085,\n",
       "       0.003, 0.   , 0.   , 0.   , 0.   , 0.   , 0.   , 0.062, 0.121,\n",
       "       0.   , 0.072, 0.   , 0.   , 0.   , 0.   , 0.   , 0.   , 0.   ,\n",
       "       0.   , 0.   , 0.   , 0.   , 0.095, 0.   , 0.   , 0.   , 0.022,\n",
       "       0.116, 0.   , 0.068, 0.046, 0.   , 0.   , 0.   , 0.088, 0.   ,\n",
       "       0.098, 0.   ])"
      ]
     },
     "execution_count": 16,
     "metadata": {},
     "output_type": "execute_result"
    }
   ],
   "source": [
    "model = SyntheticControl()\n",
    "model.fit(y_pre_co, y_pre_tr.mean(axis=1))\n",
    "\n",
    "         # extrac the weights\n",
    "model.w_.round(3)"
   ]
  },
  {
   "cell_type": "code",
   "execution_count": 18,
   "metadata": {},
   "outputs": [
    {
     "data": {
      "text/html": [
       "<div>\n",
       "<style scoped>\n",
       "    .dataframe tbody tr th:only-of-type {\n",
       "        vertical-align: middle;\n",
       "    }\n",
       "\n",
       "    .dataframe tbody tr th {\n",
       "        vertical-align: top;\n",
       "    }\n",
       "\n",
       "    .dataframe thead th {\n",
       "        text-align: right;\n",
       "    }\n",
       "</style>\n",
       "<table border=\"1\" class=\"dataframe\">\n",
       "  <thead>\n",
       "    <tr style=\"text-align: right;\">\n",
       "      <th></th>\n",
       "      <th>app_download</th>\n",
       "      <th>population</th>\n",
       "      <th>city</th>\n",
       "      <th>state</th>\n",
       "      <th>date</th>\n",
       "      <th>post</th>\n",
       "      <th>treated</th>\n",
       "      <th>app_download_pct</th>\n",
       "      <th>comp_download_pct</th>\n",
       "    </tr>\n",
       "  </thead>\n",
       "  <tbody>\n",
       "    <tr>\n",
       "      <th>0</th>\n",
       "      <td>3066.0</td>\n",
       "      <td>12396372</td>\n",
       "      <td>sao_paulo</td>\n",
       "      <td>sao_paulo</td>\n",
       "      <td>2022-03-01</td>\n",
       "      <td>0</td>\n",
       "      <td>1</td>\n",
       "      <td>0.024733</td>\n",
       "      <td>0.026280</td>\n",
       "    </tr>\n",
       "    <tr>\n",
       "      <th>1</th>\n",
       "      <td>2701.0</td>\n",
       "      <td>12396372</td>\n",
       "      <td>sao_paulo</td>\n",
       "      <td>sao_paulo</td>\n",
       "      <td>2022-03-02</td>\n",
       "      <td>0</td>\n",
       "      <td>1</td>\n",
       "      <td>0.021789</td>\n",
       "      <td>0.023925</td>\n",
       "    </tr>\n",
       "    <tr>\n",
       "      <th>2</th>\n",
       "      <td>1927.0</td>\n",
       "      <td>12396372</td>\n",
       "      <td>sao_paulo</td>\n",
       "      <td>sao_paulo</td>\n",
       "      <td>2022-03-03</td>\n",
       "      <td>0</td>\n",
       "      <td>1</td>\n",
       "      <td>0.015545</td>\n",
       "      <td>0.018930</td>\n",
       "    </tr>\n",
       "    <tr>\n",
       "      <th>3</th>\n",
       "      <td>1451.0</td>\n",
       "      <td>12396372</td>\n",
       "      <td>sao_paulo</td>\n",
       "      <td>sao_paulo</td>\n",
       "      <td>2022-03-04</td>\n",
       "      <td>0</td>\n",
       "      <td>1</td>\n",
       "      <td>0.011705</td>\n",
       "      <td>0.015858</td>\n",
       "    </tr>\n",
       "    <tr>\n",
       "      <th>4</th>\n",
       "      <td>1248.0</td>\n",
       "      <td>12396372</td>\n",
       "      <td>sao_paulo</td>\n",
       "      <td>sao_paulo</td>\n",
       "      <td>2022-03-05</td>\n",
       "      <td>0</td>\n",
       "      <td>1</td>\n",
       "      <td>0.010067</td>\n",
       "      <td>0.014548</td>\n",
       "    </tr>\n",
       "  </tbody>\n",
       "</table>\n",
       "</div>"
      ],
      "text/plain": [
       "   app_download  population       city      state       date  post  treated  \\\n",
       "0        3066.0    12396372  sao_paulo  sao_paulo 2022-03-01     0        1   \n",
       "1        2701.0    12396372  sao_paulo  sao_paulo 2022-03-02     0        1   \n",
       "2        1927.0    12396372  sao_paulo  sao_paulo 2022-03-03     0        1   \n",
       "3        1451.0    12396372  sao_paulo  sao_paulo 2022-03-04     0        1   \n",
       "4        1248.0    12396372  sao_paulo  sao_paulo 2022-03-05     0        1   \n",
       "\n",
       "   app_download_pct  comp_download_pct  \n",
       "0          0.024733           0.026280  \n",
       "1          0.021789           0.023925  \n",
       "2          0.015545           0.018930  \n",
       "3          0.011705           0.015858  \n",
       "4          0.010067           0.014548  "
      ]
     },
     "execution_count": 18,
     "metadata": {},
     "output_type": "execute_result"
    }
   ],
   "source": [
    "df_norm_cov = (pd.read_csv(r\"C:\\Users\\matte\\OneDrive\\Desktop\\GitHub\\data\\causal\\online_mkt_cov.csv\")\n",
    "                        .astype({\"date\":\"datetime64[ns]\"}))\n",
    "\n",
    "df_norm_cov.head()"
   ]
  },
  {
   "cell_type": "code",
   "execution_count": null,
   "metadata": {},
   "outputs": [],
   "source": []
  },
  {
   "cell_type": "code",
   "execution_count": null,
   "metadata": {},
   "outputs": [],
   "source": []
  },
  {
   "cell_type": "code",
   "execution_count": null,
   "metadata": {},
   "outputs": [],
   "source": []
  }
 ],
 "metadata": {
  "kernelspec": {
   "display_name": "py_env",
   "language": "python",
   "name": "python3"
  },
  "language_info": {
   "codemirror_mode": {
    "name": "ipython",
    "version": 3
   },
   "file_extension": ".py",
   "mimetype": "text/x-python",
   "name": "python",
   "nbconvert_exporter": "python",
   "pygments_lexer": "ipython3",
   "version": "3.11.7"
  }
 },
 "nbformat": 4,
 "nbformat_minor": 2
}
