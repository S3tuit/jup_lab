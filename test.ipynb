{
 "cells": [
  {
   "cell_type": "code",
   "execution_count": 18,
   "metadata": {},
   "outputs": [],
   "source": [
    "import heapq\n",
    "import numpy as np"
   ]
  },
  {
   "cell_type": "code",
   "execution_count": null,
   "metadata": {},
   "outputs": [],
   "source": []
  },
  {
   "cell_type": "code",
   "execution_count": 20,
   "metadata": {},
   "outputs": [],
   "source": [
    "def corr(arr1, arr2):\n",
    "    leng = len(arr1)\n",
    "    mean1 = sum(arr1) / leng\n",
    "    mean2 = sum(arr2) / leng\n",
    "    var1, var2, covar = 0, 0, 0\n",
    "\n",
    "    for idx in range(leng):\n",
    "        var1 += (arr1[idx] - mean1)**2\n",
    "        var2 += (arr2[idx] - mean2)**2\n",
    "        covar = (arr1[idx] - mean1)*(arr2[idx] - mean2)\n",
    "    \n",
    "    var1 = var1 / (leng-1)\n",
    "    var2 = var2 / (leng-1)\n",
    "    covar = covar / (leng-1)\n",
    "\n",
    "    return covar / np.sqrt(var1*var2)"
   ]
  },
  {
   "cell_type": "code",
   "execution_count": 21,
   "metadata": {},
   "outputs": [
    {
     "data": {
      "text/plain": [
       "0.29777500019127906"
      ]
     },
     "execution_count": 21,
     "metadata": {},
     "output_type": "execute_result"
    }
   ],
   "source": [
    "corr([1,2,3,4,5,6,7], [2,3,4,6,8,9,10])"
   ]
  }
 ],
 "metadata": {
  "kernelspec": {
   "display_name": "base",
   "language": "python",
   "name": "python3"
  },
  "language_info": {
   "codemirror_mode": {
    "name": "ipython",
    "version": 3
   },
   "file_extension": ".py",
   "mimetype": "text/x-python",
   "name": "python",
   "nbconvert_exporter": "python",
   "pygments_lexer": "ipython3",
   "version": "3.11.5"
  }
 },
 "nbformat": 4,
 "nbformat_minor": 2
}
