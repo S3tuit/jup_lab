{
 "cells": [
  {
   "cell_type": "code",
   "execution_count": 1,
   "metadata": {},
   "outputs": [],
   "source": [
    "import numpy as np"
   ]
  },
  {
   "cell_type": "code",
   "execution_count": 126,
   "metadata": {},
   "outputs": [],
   "source": [
    "num_nodes = 5\n",
    "edges = [(0,1), (0,4), (1,2), (1,3), (1,4), (2,3), (3,4)]"
   ]
  },
  {
   "cell_type": "code",
   "execution_count": 136,
   "metadata": {},
   "outputs": [],
   "source": [
    "class Graph:\n",
    "\n",
    "    def __init__(self, num_nodes, edges):\n",
    "        self.num_nodes = num_nodes\n",
    "        self.data = [[] for _ in range(num_nodes)]\n",
    "        for n1, n2 in edges:\n",
    "            self.data[n1].append(n2)\n",
    "            self.data[n2].append(n1)\n",
    "    \n",
    "    def __repr__(self):\n",
    "        return '\\n'.join([f'{node}: {neighbors}' for node, neighbors in enumerate(self.data)])\n",
    "    \n",
    "    def __str__(self):\n",
    "        return self.__repr__()\n",
    "    \n",
    "    def adj_matrix(self):\n",
    "        grid = [[0 for _ in range(self.num_nodes)] for _ in range(self.num_nodes)]\n",
    "\n",
    "        for idx in range(self.num_nodes):\n",
    "            for n in range(len(grid[idx])):\n",
    "                if n in self.data[idx]:\n",
    "                    grid[idx][n]=1\n",
    "        \n",
    "        return grid\n"
   ]
  },
  {
   "cell_type": "code",
   "execution_count": 137,
   "metadata": {},
   "outputs": [],
   "source": [
    "graph1 = Graph(num_nodes, edges)"
   ]
  },
  {
   "cell_type": "code",
   "execution_count": 140,
   "metadata": {},
   "outputs": [],
   "source": [
    "def bfs(graph, root):\n",
    "    queue = []\n",
    "    discovered = [False] * len(graph.data)\n",
    "\n",
    "    discovered[root] = True\n",
    "    queue.append(root)\n",
    "    idx = 0\n",
    "\n",
    "    while idx < len(queue):\n",
    "        current = queue[idx]\n",
    "        idx += 1\n",
    "\n",
    "        for node in graph.data[current]:\n",
    "            if not discovered[node]:\n",
    "                discovered[node] = True\n",
    "                queue.append(node)\n",
    "            \n",
    "    return queue"
   ]
  },
  {
   "cell_type": "code",
   "execution_count": 153,
   "metadata": {},
   "outputs": [
    {
     "data": {
      "text/plain": [
       "(0: [1, 4]\n",
       " 1: [0, 2, 3, 4]\n",
       " 2: [1, 3]\n",
       " 3: [1, 2, 4]\n",
       " 4: [0, 1, 3],\n",
       " [[1, 4], [0, 2, 3, 4], [1, 3], [1, 2, 4], [0, 1, 3]])"
      ]
     },
     "execution_count": 153,
     "metadata": {},
     "output_type": "execute_result"
    }
   ],
   "source": [
    "graph1, graph1.data"
   ]
  },
  {
   "cell_type": "code",
   "execution_count": 152,
   "metadata": {},
   "outputs": [
    {
     "name": "stdout",
     "output_type": "stream",
     "text": [
      "Visited: 0\n",
      "Visited: 1\n",
      "Visited: 2\n",
      "Visited: 3\n",
      "Visited: 4\n"
     ]
    }
   ],
   "source": [
    "def dfs(graph, v, visited = set()):\n",
    "    visited.add(v)\n",
    "    print(\"Visited:\", v)\n",
    "\n",
    "    for w in graph.data[v]:\n",
    "        if w not in visited:\n",
    "            dfs(graph, w, visited)\n",
    "\n",
    "dfs(graph1, 0)"
   ]
  },
  {
   "cell_type": "code",
   "execution_count": null,
   "metadata": {},
   "outputs": [],
   "source": []
  },
  {
   "cell_type": "code",
   "execution_count": null,
   "metadata": {},
   "outputs": [],
   "source": []
  },
  {
   "cell_type": "code",
   "execution_count": null,
   "metadata": {},
   "outputs": [],
   "source": []
  }
 ],
 "metadata": {
  "kernelspec": {
   "display_name": "base",
   "language": "python",
   "name": "python3"
  },
  "language_info": {
   "codemirror_mode": {
    "name": "ipython",
    "version": 3
   },
   "file_extension": ".py",
   "mimetype": "text/x-python",
   "name": "python",
   "nbconvert_exporter": "python",
   "pygments_lexer": "ipython3",
   "version": "3.11.5"
  }
 },
 "nbformat": 4,
 "nbformat_minor": 2
}
