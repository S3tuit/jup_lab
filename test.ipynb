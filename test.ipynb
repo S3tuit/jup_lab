{
 "cells": [
  {
   "cell_type": "code",
   "execution_count": 1,
   "metadata": {},
   "outputs": [],
   "source": [
    "import numpy as np"
   ]
  },
  {
   "cell_type": "code",
   "execution_count": 1,
   "metadata": {},
   "outputs": [],
   "source": [
    "import pandas as pd"
   ]
  },
  {
   "cell_type": "code",
   "execution_count": 21,
   "metadata": {},
   "outputs": [
    {
     "data": {
      "text/html": [
       "<div>\n",
       "<style scoped>\n",
       "    .dataframe tbody tr th:only-of-type {\n",
       "        vertical-align: middle;\n",
       "    }\n",
       "\n",
       "    .dataframe tbody tr th {\n",
       "        vertical-align: top;\n",
       "    }\n",
       "\n",
       "    .dataframe thead th {\n",
       "        text-align: right;\n",
       "    }\n",
       "</style>\n",
       "<table border=\"1\" class=\"dataframe\">\n",
       "  <thead>\n",
       "    <tr style=\"text-align: right;\">\n",
       "      <th></th>\n",
       "      <th>iso_code</th>\n",
       "      <th>continent</th>\n",
       "      <th>location</th>\n",
       "      <th>date</th>\n",
       "    </tr>\n",
       "  </thead>\n",
       "  <tbody>\n",
       "    <tr>\n",
       "      <th>0</th>\n",
       "      <td>AFG</td>\n",
       "      <td>Asia</td>\n",
       "      <td>Afghanistan</td>\n",
       "      <td>2020-01-05</td>\n",
       "    </tr>\n",
       "    <tr>\n",
       "      <th>1</th>\n",
       "      <td>AFG</td>\n",
       "      <td>Asia</td>\n",
       "      <td>Afghanistan</td>\n",
       "      <td>2020-01-06</td>\n",
       "    </tr>\n",
       "    <tr>\n",
       "      <th>2</th>\n",
       "      <td>AFG</td>\n",
       "      <td>Asia</td>\n",
       "      <td>Afghanistan</td>\n",
       "      <td>2020-01-07</td>\n",
       "    </tr>\n",
       "    <tr>\n",
       "      <th>3</th>\n",
       "      <td>AFG</td>\n",
       "      <td>Asia</td>\n",
       "      <td>Afghanistan</td>\n",
       "      <td>2020-01-08</td>\n",
       "    </tr>\n",
       "    <tr>\n",
       "      <th>4</th>\n",
       "      <td>AFG</td>\n",
       "      <td>Asia</td>\n",
       "      <td>Afghanistan</td>\n",
       "      <td>2020-01-09</td>\n",
       "    </tr>\n",
       "  </tbody>\n",
       "</table>\n",
       "</div>"
      ],
      "text/plain": [
       "  iso_code continent     location        date\n",
       "0      AFG      Asia  Afghanistan  2020-01-05\n",
       "1      AFG      Asia  Afghanistan  2020-01-06\n",
       "2      AFG      Asia  Afghanistan  2020-01-07\n",
       "3      AFG      Asia  Afghanistan  2020-01-08\n",
       "4      AFG      Asia  Afghanistan  2020-01-09"
      ]
     },
     "execution_count": 21,
     "metadata": {},
     "output_type": "execute_result"
    }
   ],
   "source": [
    "df = pd.read_csv(r'C:\\Users\\matte\\OneDrive\\Desktop\\GitHub\\data\\COVID\\covid_vacc.csv')\n",
    "df.head()"
   ]
  },
  {
   "cell_type": "code",
   "execution_count": 9,
   "metadata": {},
   "outputs": [],
   "source": [
    "pd.set_option('display.max_columns', None)\n",
    "pd.set_option('display.max_rows', None)"
   ]
  },
  {
   "cell_type": "code",
   "execution_count": 22,
   "metadata": {},
   "outputs": [
    {
     "data": {
      "text/html": [
       "<div>\n",
       "<style scoped>\n",
       "    .dataframe tbody tr th:only-of-type {\n",
       "        vertical-align: middle;\n",
       "    }\n",
       "\n",
       "    .dataframe tbody tr th {\n",
       "        vertical-align: top;\n",
       "    }\n",
       "\n",
       "    .dataframe thead th {\n",
       "        text-align: right;\n",
       "    }\n",
       "</style>\n",
       "<table border=\"1\" class=\"dataframe\">\n",
       "  <thead>\n",
       "    <tr style=\"text-align: right;\">\n",
       "      <th></th>\n",
       "      <th>iso_code</th>\n",
       "      <th>continent</th>\n",
       "      <th>location</th>\n",
       "      <th>date</th>\n",
       "    </tr>\n",
       "  </thead>\n",
       "  <tbody>\n",
       "    <tr>\n",
       "      <th>0</th>\n",
       "      <td>AFG</td>\n",
       "      <td>Asia</td>\n",
       "      <td>Afghanistan</td>\n",
       "      <td>2020-01-05</td>\n",
       "    </tr>\n",
       "    <tr>\n",
       "      <th>1</th>\n",
       "      <td>AFG</td>\n",
       "      <td>Asia</td>\n",
       "      <td>Afghanistan</td>\n",
       "      <td>2020-01-06</td>\n",
       "    </tr>\n",
       "    <tr>\n",
       "      <th>2</th>\n",
       "      <td>AFG</td>\n",
       "      <td>Asia</td>\n",
       "      <td>Afghanistan</td>\n",
       "      <td>2020-01-07</td>\n",
       "    </tr>\n",
       "    <tr>\n",
       "      <th>3</th>\n",
       "      <td>AFG</td>\n",
       "      <td>Asia</td>\n",
       "      <td>Afghanistan</td>\n",
       "      <td>2020-01-08</td>\n",
       "    </tr>\n",
       "    <tr>\n",
       "      <th>4</th>\n",
       "      <td>AFG</td>\n",
       "      <td>Asia</td>\n",
       "      <td>Afghanistan</td>\n",
       "      <td>2020-01-09</td>\n",
       "    </tr>\n",
       "  </tbody>\n",
       "</table>\n",
       "</div>"
      ],
      "text/plain": [
       "  iso_code continent     location        date\n",
       "0      AFG      Asia  Afghanistan  2020-01-05\n",
       "1      AFG      Asia  Afghanistan  2020-01-06\n",
       "2      AFG      Asia  Afghanistan  2020-01-07\n",
       "3      AFG      Asia  Afghanistan  2020-01-08\n",
       "4      AFG      Asia  Afghanistan  2020-01-09"
      ]
     },
     "execution_count": 22,
     "metadata": {},
     "output_type": "execute_result"
    }
   ],
   "source": [
    "df.head()"
   ]
  },
  {
   "cell_type": "code",
   "execution_count": 11,
   "metadata": {},
   "outputs": [
    {
     "name": "stdout",
     "output_type": "stream",
     "text": [
      "<class 'pandas.core.frame.DataFrame'>\n",
      "RangeIndex: 376818 entries, 0 to 376817\n",
      "Data columns (total 26 columns):\n",
      " #   Column                              Non-Null Count   Dtype  \n",
      "---  ------                              --------------   -----  \n",
      " 0   iso_code                            376818 non-null  object \n",
      " 1   continent                           358816 non-null  object \n",
      " 2   location                            376818 non-null  object \n",
      " 3   date                                376818 non-null  object \n",
      " 4   population                          376818 non-null  float64\n",
      " 5   total_cases                         338085 non-null  float64\n",
      " 6   new_cases                           366116 non-null  float64\n",
      " 7   new_cases_smoothed                  364886 non-null  float64\n",
      " 8   total_deaths                        316113 non-null  float64\n",
      " 9   new_deaths                          366124 non-null  float64\n",
      " 10  new_deaths_smoothed                 364894 non-null  float64\n",
      " 11  total_cases_per_million             338085 non-null  float64\n",
      " 12  new_cases_per_million               366116 non-null  float64\n",
      " 13  new_cases_smoothed_per_million      364886 non-null  float64\n",
      " 14  total_deaths_per_million            316113 non-null  float64\n",
      " 15  new_deaths_per_million              366124 non-null  float64\n",
      " 16  new_deaths_smoothed_per_million     364894 non-null  float64\n",
      " 17  reproduction_rate                   184817 non-null  float64\n",
      " 18  icu_patients                        38394 non-null   float64\n",
      " 19  icu_patients_per_million            38394 non-null   float64\n",
      " 20  hosp_patients                       39885 non-null   float64\n",
      " 21  hosp_patients_per_million           39885 non-null   float64\n",
      " 22  weekly_icu_admissions               10569 non-null   float64\n",
      " 23  weekly_icu_admissions_per_million   10569 non-null   float64\n",
      " 24  weekly_hosp_admissions              23950 non-null   float64\n",
      " 25  weekly_hosp_admissions_per_million  23950 non-null   float64\n",
      "dtypes: float64(22), object(4)\n",
      "memory usage: 74.7+ MB\n"
     ]
    }
   ],
   "source": [
    "df.info(\n",
    ")"
   ]
  },
  {
   "cell_type": "code",
   "execution_count": 19,
   "metadata": {},
   "outputs": [
    {
     "name": "stdout",
     "output_type": "stream",
     "text": [
      "'iso_code' INT,\n",
      "'continent' INT,\n",
      "'location' INT,\n",
      "'date' INT,\n",
      "'population' INT,\n",
      "'total_cases' INT,\n",
      "'new_cases' INT,\n",
      "'new_cases_smoothed' INT,\n",
      "'total_deaths' INT,\n",
      "'new_deaths' INT,\n",
      "'new_deaths_smoothed' INT,\n",
      "'total_cases_per_million' INT,\n",
      "'new_cases_per_million' INT,\n",
      "'new_cases_smoothed_per_million' INT,\n",
      "'total_deaths_per_million' INT,\n",
      "'new_deaths_per_million' INT,\n",
      "'new_deaths_smoothed_per_million' INT,\n",
      "'reproduction_rate' INT,\n",
      "'icu_patients' INT,\n",
      "'icu_patients_per_million' INT,\n",
      "'hosp_patients' INT,\n",
      "'hosp_patients_per_million' INT,\n",
      "'weekly_icu_admissions' INT,\n",
      "'weekly_icu_admissions_per_million' INT,\n",
      "'weekly_hosp_admissions' INT,\n",
      "'weekly_hosp_admissions_per_million' INT,\n"
     ]
    }
   ],
   "source": [
    "for i in df.columns.to_list():\n",
    "    print(f\"'{i}' INT,\")"
   ]
  },
  {
   "cell_type": "code",
   "execution_count": 13,
   "metadata": {},
   "outputs": [
    {
     "data": {
      "text/plain": [
       "False    376818\n",
       "Name: count, dtype: int64"
      ]
     },
     "execution_count": 13,
     "metadata": {},
     "output_type": "execute_result"
    }
   ],
   "source": [
    "df[['iso_code','date']].duplicated().value_counts()"
   ]
  }
 ],
 "metadata": {
  "kernelspec": {
   "display_name": "base",
   "language": "python",
   "name": "python3"
  },
  "language_info": {
   "codemirror_mode": {
    "name": "ipython",
    "version": 3
   },
   "file_extension": ".py",
   "mimetype": "text/x-python",
   "name": "python",
   "nbconvert_exporter": "python",
   "pygments_lexer": "ipython3",
   "version": "3.11.5"
  }
 },
 "nbformat": 4,
 "nbformat_minor": 2
}
