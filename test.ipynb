{
 "cells": [
  {
   "cell_type": "code",
   "execution_count": 1,
   "metadata": {},
   "outputs": [],
   "source": [
    "import numpy as np"
   ]
  },
  {
   "cell_type": "code",
   "execution_count": 2,
   "metadata": {},
   "outputs": [],
   "source": [
    "class TreeNode:\n",
    "    def __init__(self, key):\n",
    "        self.key = key\n",
    "        self.left = None\n",
    "        self.right = None"
   ]
  },
  {
   "cell_type": "code",
   "execution_count": 3,
   "metadata": {},
   "outputs": [],
   "source": [
    "tree_tuple = ((1,3,None), 2, ((None, 3, 4), 5, (6,7,8)))"
   ]
  },
  {
   "cell_type": "code",
   "execution_count": null,
   "metadata": {},
   "outputs": [],
   "source": [
    "def parse_tuple(data):\n",
    "    if isinstance(data, tuple) and len(data) == 3:\n",
    "        node = TreeNode(data[1])\n",
    "        node.left = parse_tuple(data[0])\n",
    "        node.right = parse_tuple(data[2])\n",
    "    elif data is None:\n",
    "        node = None\n",
    "    else:\n",
    "        node = TreeNode(data)\n",
    "    return node"
   ]
  },
  {
   "cell_type": "code",
   "execution_count": null,
   "metadata": {},
   "outputs": [],
   "source": []
  },
  {
   "cell_type": "code",
   "execution_count": 6,
   "metadata": {},
   "outputs": [],
   "source": [
    "tests = [\n",
    "    {'input':[[0,1,2,3,4,5,6,7,8,9], 7], 'output':7},\n",
    "    {'input':[[2,4,6,8,10,12,14], 10], 'output':4},\n",
    "    {'input':[[0,1,2,6,7,8,9], 9], 'output':6},\n",
    "    {'input':[[6,8,10,12,14], 6], 'output':0},\n",
    "    {'input':[[6,8,10,12,14], 60], 'output':-1},\n",
    "    {'input':[[2,4,6,8,10,12,14], 9], 'output':-1}\n",
    "]"
   ]
  },
  {
   "cell_type": "code",
   "execution_count": 4,
   "metadata": {},
   "outputs": [],
   "source": [
    "def brute_search(num_list, num_to_find):\n",
    "    for idx, number in enumerate(num_list):\n",
    "        if number == num_to_find:\n",
    "            return idx\n",
    "    \n",
    "    return -1"
   ]
  },
  {
   "cell_type": "code",
   "execution_count": 7,
   "metadata": {},
   "outputs": [
    {
     "name": "stdout",
     "output_type": "stream",
     "text": [
      "7 True\n",
      "4 True\n",
      "6 True\n",
      "0 True\n",
      "-1 True\n",
      "-1 True\n"
     ]
    }
   ],
   "source": [
    "for test in tests:\n",
    "    print(brute_search(*test['input']), brute_search(*test['input']) == test['output'])"
   ]
  },
  {
   "cell_type": "code",
   "execution_count": 123,
   "metadata": {},
   "outputs": [],
   "source": [
    "def search_num(num_list, num_to_find):\n",
    "    high_band = len(num_list) - 1\n",
    "    low_band = 0\n",
    "    result = high_band // 2\n",
    "    mid = num_list[result]\n",
    "    i = 0\n",
    "\n",
    "    if num_list[high_band] == num_to_find:\n",
    "        result = high_band\n",
    "\n",
    "    while mid != num_to_find and i < 12:\n",
    "        i += 1\n",
    "\n",
    "        if mid > num_to_find:\n",
    "            high_band = result\n",
    "        \n",
    "        elif mid < num_to_find:\n",
    "            low_band = result \n",
    "        \n",
    "        if (high_band - low_band) // 2 == 0:\n",
    "            if num_list[low_band] != num_to_find:\n",
    "                result = -1\n",
    "                break\n",
    "\n",
    "        result = (high_band - low_band) // 2 + low_band\n",
    "        mid = num_list[result]\n",
    "    \n",
    "    return result"
   ]
  },
  {
   "cell_type": "code",
   "execution_count": 124,
   "metadata": {},
   "outputs": [
    {
     "name": "stdout",
     "output_type": "stream",
     "text": [
      "7 True\n",
      "4 True\n",
      "6 True\n",
      "0 True\n",
      "-1 True\n",
      "-1 True\n",
      "5 False\n"
     ]
    }
   ],
   "source": [
    "for test in tests:\n",
    "    print(search_num(*test['input']), search_num(*test['input']) == test['output'])"
   ]
  }
 ],
 "metadata": {
  "kernelspec": {
   "display_name": "base",
   "language": "python",
   "name": "python3"
  },
  "language_info": {
   "codemirror_mode": {
    "name": "ipython",
    "version": 3
   },
   "file_extension": ".py",
   "mimetype": "text/x-python",
   "name": "python",
   "nbconvert_exporter": "python",
   "pygments_lexer": "ipython3",
   "version": "3.11.5"
  }
 },
 "nbformat": 4,
 "nbformat_minor": 2
}
