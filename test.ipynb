{
 "cells": [
  {
   "cell_type": "code",
   "execution_count": 18,
   "metadata": {},
   "outputs": [],
   "source": [
    "import heapq\n",
    "import numpy as np"
   ]
  },
  {
   "cell_type": "code",
   "execution_count": 5,
   "metadata": {},
   "outputs": [],
   "source": [
    "def get_substr(str1, str2):\n",
    "    len1=len(str1)\n",
    "    len2=len(str2)\n",
    "    i=0\n",
    "    j=len2\n",
    "    results=[]\n",
    "\n",
    "    while j<=len1:\n",
    "        if j==len1:\n",
    "            sub_str1=str1[i::]\n",
    "        else:\n",
    "            sub_str1 = str1[i:j]\n",
    "        if is_sub_str(str2, sub_str1)==True:\n",
    "            results.append(i)\n",
    "        i+=1\n",
    "        j+=1\n",
    "    \n",
    "    return results\n",
    "\n",
    "def is_sub_str(str2, sub_str1):\n",
    "    list_str = list(str2)\n",
    "\n",
    "    for letter in sub_str1:\n",
    "        if letter in list_str:\n",
    "            list_str.remove(letter)\n",
    "\n",
    "    return True if len(list_str)==0 else False"
   ]
  },
  {
   "cell_type": "code",
   "execution_count": 8,
   "metadata": {},
   "outputs": [
    {
     "data": {
      "text/plain": [
       "[5, 6, 8]"
      ]
     },
     "execution_count": 8,
     "metadata": {},
     "output_type": "execute_result"
    }
   ],
   "source": [
    "get_substr('abkcdcbacab', 'abc')"
   ]
  },
  {
   "cell_type": "code",
   "execution_count": 2,
   "metadata": {},
   "outputs": [
    {
     "data": {
      "text/plain": [
       "['a', 'b', 'c']"
      ]
     },
     "execution_count": 2,
     "metadata": {},
     "output_type": "execute_result"
    }
   ],
   "source": [
    "a = 'abc'\n",
    "list(a)"
   ]
  },
  {
   "cell_type": "code",
   "execution_count": null,
   "metadata": {},
   "outputs": [],
   "source": []
  },
  {
   "cell_type": "code",
   "execution_count": 29,
   "metadata": {},
   "outputs": [],
   "source": [
    "def del_intervals(intervals):\n",
    "    lenght = len(intervals)\n",
    "    grid = get_grid(intervals)\n",
    "    sums = []\n",
    "    result = 0\n",
    "\n",
    "    for idx in range(lenght):\n",
    "        sums.append(sum(grid[idx]))\n",
    "\n",
    "    while sum(sums) > len(sums):\n",
    "        idx = sums.index(max(sums))\n",
    "        grid.pop(idx)\n",
    "        for i in range(len(grid)):\n",
    "            grid[i].pop(idx)\n",
    "        sums = [sum(n) for n in grid]\n",
    "        result += 1\n",
    "\n",
    "\n",
    "    return result\n",
    "\n",
    "def get_grid(intervals):\n",
    "    lenght = len(intervals)\n",
    "    grid = [[0 for _ in range(lenght)] for _ in range(lenght)]\n",
    "    \n",
    "    for i in range(lenght): #rows\n",
    "        for j in range(lenght): #columns\n",
    "            if ((intervals[i][1]<=intervals[j][0]) or\n",
    "                (intervals[j][1]<=intervals[i][0])):\n",
    "                pass\n",
    "            else:\n",
    "                grid[i][j] = 1\n",
    "\n",
    "    return grid"
   ]
  },
  {
   "cell_type": "code",
   "execution_count": 34,
   "metadata": {},
   "outputs": [],
   "source": [
    "def inter(interval_ist):\n",
    "    if len(interval_ist) == 0:\n",
    "        return 0\n",
    "    intervals = sorted(interval_ist, key=lambda k: (k[0], k[1]))\n",
    "    res, low, count = 0,0,0\n",
    "    for high in range(1, len(intervals)):\n",
    "        if intervals[low][1] > intervals[high][0]:\n",
    "            count+=1\n",
    "        if not intervals[high][0]<intervals[low][1]<intervals[high][1]:\n",
    "            low = high\n",
    "        return count"
   ]
  },
  {
   "cell_type": "code",
   "execution_count": 33,
   "metadata": {},
   "outputs": [
    {
     "data": {
      "text/plain": [
       "3"
      ]
     },
     "execution_count": 33,
     "metadata": {},
     "output_type": "execute_result"
    }
   ],
   "source": [
    "del_intervals([[1,3],[3,5],[2,4],[6,8],[7,9],[1,100]])"
   ]
  },
  {
   "cell_type": "code",
   "execution_count": 18,
   "metadata": {},
   "outputs": [
    {
     "data": {
      "text/plain": [
       "(4, 55, [1, 2, 3, 4])"
      ]
     },
     "execution_count": 18,
     "metadata": {},
     "output_type": "execute_result"
    }
   ],
   "source": [
    "lista = [1,2,3,4,55]\n",
    "lista.index(max(lista)), lista.pop(4), lista"
   ]
  },
  {
   "cell_type": "code",
   "execution_count": 3,
   "metadata": {},
   "outputs": [
    {
     "data": {
      "text/plain": [
       "[[1, 0, 1, 0], [0, 1, 1, 0], [1, 1, 1, 0], [0, 0, 0, 1]]"
      ]
     },
     "execution_count": 3,
     "metadata": {},
     "output_type": "execute_result"
    }
   ],
   "source": [
    "get_grid([[1,3],[3,5],[2,4],[6,8]])"
   ]
  }
 ],
 "metadata": {
  "kernelspec": {
   "display_name": "base",
   "language": "python",
   "name": "python3"
  },
  "language_info": {
   "codemirror_mode": {
    "name": "ipython",
    "version": 3
   },
   "file_extension": ".py",
   "mimetype": "text/x-python",
   "name": "python",
   "nbconvert_exporter": "python",
   "pygments_lexer": "ipython3",
   "version": "3.11.5"
  }
 },
 "nbformat": 4,
 "nbformat_minor": 2
}
