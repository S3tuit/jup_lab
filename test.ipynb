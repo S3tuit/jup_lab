{
 "cells": [
  {
   "cell_type": "code",
   "execution_count": 1,
   "metadata": {},
   "outputs": [],
   "source": [
    "import numpy as np"
   ]
  },
  {
   "cell_type": "code",
   "execution_count": 34,
   "metadata": {},
   "outputs": [],
   "source": [
    "test1 = {'input':[[1,7,4,2,1,3,11,5], 10], 'output':[4,2,1,3]}\n",
    "test2 = {'input':[[10,10,10,5,5], 10], 'output':[10]}\n",
    "test3 = {'input':[[1,2,3,4,5,6], 100], 'output':None}\n",
    "test4 = {'input':[[1,2,4,9,1], 10], 'output':[9,1]}\n",
    "test5 = {'input':[[], 10], 'output':None}"
   ]
  },
  {
   "cell_type": "code",
   "execution_count": 36,
   "metadata": {},
   "outputs": [],
   "source": [
    "def find_subarray(array, total):\n",
    "    idx = -1\n",
    "\n",
    "    for _ in array:\n",
    "        subarray = []\n",
    "        sum = 0\n",
    "        idx += 1\n",
    "\n",
    "        for n in range(idx, len(array)):\n",
    "            sum += array[n]\n",
    "            if sum < total:\n",
    "                subarray.append(array[n])\n",
    "            elif sum == total:\n",
    "                subarray.append(array[n])\n",
    "                return subarray\n",
    "            else:\n",
    "                break\n",
    "    \n",
    "    return None"
   ]
  },
  {
   "cell_type": "code",
   "execution_count": 45,
   "metadata": {},
   "outputs": [],
   "source": [
    "def find_subarray2(array, target):\n",
    "    i, j, total = 0, 0, 0\n",
    "\n",
    "    while i <= len(array) - 1 and j <= len(array):\n",
    "        if sum(array[i:j]) < target:\n",
    "            j += 1\n",
    "        elif sum(array[i:j]) > target:\n",
    "            i += 1\n",
    "        else:\n",
    "            return array[i:j]\n",
    "    \n",
    "    return None"
   ]
  },
  {
   "cell_type": "code",
   "execution_count": 46,
   "metadata": {},
   "outputs": [
    {
     "data": {
      "text/plain": [
       "[9, 1]"
      ]
     },
     "execution_count": 46,
     "metadata": {},
     "output_type": "execute_result"
    }
   ],
   "source": [
    "find_subarray2(*test4['input'])"
   ]
  }
 ],
 "metadata": {
  "kernelspec": {
   "display_name": "base",
   "language": "python",
   "name": "python3"
  },
  "language_info": {
   "codemirror_mode": {
    "name": "ipython",
    "version": 3
   },
   "file_extension": ".py",
   "mimetype": "text/x-python",
   "name": "python",
   "nbconvert_exporter": "python",
   "pygments_lexer": "ipython3",
   "version": "3.11.5"
  }
 },
 "nbformat": 4,
 "nbformat_minor": 2
}
