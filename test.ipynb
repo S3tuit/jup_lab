{
 "cells": [
  {
   "cell_type": "code",
   "execution_count": 1,
   "metadata": {},
   "outputs": [],
   "source": [
    "import numpy as np"
   ]
  },
  {
   "cell_type": "code",
   "execution_count": 17,
   "metadata": {},
   "outputs": [],
   "source": [
    "test1 = {'input':['apple', 'spiled'], 'output':3}\n",
    "test2 = {'input':['apple', 'apples'], 'output':1}\n",
    "test3 = {'input':['app', ''], 'output':3}\n",
    "test4 = {'input':['intention', 'execution'], 'output':5}"
   ]
  },
  {
   "cell_type": "code",
   "execution_count": 12,
   "metadata": {},
   "outputs": [],
   "source": [
    "def long_com_sub(str1, str2):\n",
    "    grid = [[0 for _ in range(len(str1)+1)] for _ in range(len(str2)+1)]\n",
    "\n",
    "    for i in range(1, len(str2)+1):\n",
    "        for j in range(1, len(str1)+1):\n",
    "            if str1[j-1] == str2[i-1]:\n",
    "                grid[i][j] = 1 + grid[i-1][j-1]\n",
    "            else:\n",
    "                grid[i][j] = max(grid[i][j-1], grid[i-1][j])\n",
    "    return grid[len(str2)][len(str1)]\n",
    "\n",
    "def min_steps(str1, str2):\n",
    "    lcs = long_com_sub(str1, str2)\n",
    "\n",
    "    return len(str2) - lcs"
   ]
  },
  {
   "cell_type": "code",
   "execution_count": 13,
   "metadata": {},
   "outputs": [
    {
     "data": {
      "text/plain": [
       "4"
      ]
     },
     "execution_count": 13,
     "metadata": {},
     "output_type": "execute_result"
    }
   ],
   "source": [
    "min_steps(*test4['input'])"
   ]
  },
  {
   "cell_type": "code",
   "execution_count": 14,
   "metadata": {},
   "outputs": [],
   "source": [
    "def min_steps_rec(str1, str2, i=0, j=0):\n",
    "    if i == len(str1):\n",
    "        return len(str2) - j\n",
    "    elif j == len(str2):\n",
    "        return len(str1) - i\n",
    "    elif str1[i] == str2[j]:\n",
    "        return min_steps_rec(str1, str2, i+1, j+1)\n",
    "    else:\n",
    "        return 1 + min(min_steps_rec(str1, str2, i+1, j),\n",
    "                       min_steps_rec(str1, str2, i+1, j+1),\n",
    "                       min_steps_rec(str1, str2, i, j+1))"
   ]
  },
  {
   "cell_type": "code",
   "execution_count": 24,
   "metadata": {},
   "outputs": [
    {
     "data": {
      "text/plain": [
       "5"
      ]
     },
     "execution_count": 24,
     "metadata": {},
     "output_type": "execute_result"
    }
   ],
   "source": [
    "min_steps_rec('intention','execution')"
   ]
  }
 ],
 "metadata": {
  "kernelspec": {
   "display_name": "base",
   "language": "python",
   "name": "python3"
  },
  "language_info": {
   "codemirror_mode": {
    "name": "ipython",
    "version": 3
   },
   "file_extension": ".py",
   "mimetype": "text/x-python",
   "name": "python",
   "nbconvert_exporter": "python",
   "pygments_lexer": "ipython3",
   "version": "3.11.5"
  }
 },
 "nbformat": 4,
 "nbformat_minor": 2
}
