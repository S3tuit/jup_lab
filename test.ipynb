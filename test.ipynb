{
 "cells": [
  {
   "cell_type": "code",
   "execution_count": 23,
   "metadata": {},
   "outputs": [],
   "source": [
    "import numpy as np\n",
    "import matplotlib.pyplot as plt\n",
    "import pandas as pd"
   ]
  },
  {
   "cell_type": "code",
   "execution_count": 36,
   "metadata": {},
   "outputs": [],
   "source": [
    "xs = np.linspace(-1,1,2000)\n",
    "ys_upper = np.sqrt(1 - xs**2)\n",
    "\n",
    "# Define y values for the lower half of the circle\n",
    "ys_lower = -np.sqrt(1 - xs**2)\n",
    "\n",
    "xs = np.concatenate((xs, xs))\n",
    "ys = np.concatenate((ys_upper, ys_lower))\n",
    "\n",
    "circle = pd.DataFrame({'x':xs, 'y':ys})"
   ]
  },
  {
   "cell_type": "code",
   "execution_count": 37,
   "metadata": {},
   "outputs": [],
   "source": [
    "xs = np.concatenate((xs, xs))\n",
    "ys = np.concatenate((ys_upper, ys_lower))"
   ]
  },
  {
   "cell_type": "code",
   "execution_count": 38,
   "metadata": {},
   "outputs": [
    {
     "data": {
      "text/html": [
       "<div>\n",
       "<style scoped>\n",
       "    .dataframe tbody tr th:only-of-type {\n",
       "        vertical-align: middle;\n",
       "    }\n",
       "\n",
       "    .dataframe tbody tr th {\n",
       "        vertical-align: top;\n",
       "    }\n",
       "\n",
       "    .dataframe thead th {\n",
       "        text-align: right;\n",
       "    }\n",
       "</style>\n",
       "<table border=\"1\" class=\"dataframe\">\n",
       "  <thead>\n",
       "    <tr style=\"text-align: right;\">\n",
       "      <th></th>\n",
       "      <th>x</th>\n",
       "      <th>y</th>\n",
       "    </tr>\n",
       "  </thead>\n",
       "  <tbody>\n",
       "    <tr>\n",
       "      <th>3995</th>\n",
       "      <td>0.995998</td>\n",
       "      <td>-0.089376</td>\n",
       "    </tr>\n",
       "    <tr>\n",
       "      <th>3996</th>\n",
       "      <td>0.996998</td>\n",
       "      <td>-0.077421</td>\n",
       "    </tr>\n",
       "    <tr>\n",
       "      <th>3997</th>\n",
       "      <td>0.997999</td>\n",
       "      <td>-0.063230</td>\n",
       "    </tr>\n",
       "    <tr>\n",
       "      <th>3998</th>\n",
       "      <td>0.998999</td>\n",
       "      <td>-0.044721</td>\n",
       "    </tr>\n",
       "    <tr>\n",
       "      <th>3999</th>\n",
       "      <td>1.000000</td>\n",
       "      <td>-0.000000</td>\n",
       "    </tr>\n",
       "  </tbody>\n",
       "</table>\n",
       "</div>"
      ],
      "text/plain": [
       "             x         y\n",
       "3995  0.995998 -0.089376\n",
       "3996  0.996998 -0.077421\n",
       "3997  0.997999 -0.063230\n",
       "3998  0.998999 -0.044721\n",
       "3999  1.000000 -0.000000"
      ]
     },
     "execution_count": 38,
     "metadata": {},
     "output_type": "execute_result"
    }
   ],
   "source": [
    "circle.tail()"
   ]
  },
  {
   "cell_type": "code",
   "execution_count": 39,
   "metadata": {},
   "outputs": [],
   "source": [
    "def onSegment(p, q, r): \n",
    "    if ( (q.x <= max(p.x, r.x)) and (q.x >= min(p.x, r.x)) and \n",
    "           (q.y <= max(p.y, r.y)) and (q.y >= min(p.y, r.y))): \n",
    "        return True\n",
    "    return False\n",
    "  \n",
    "def orientation(p, q, r): \n",
    "    val = (float(q.y - p.y) * (r.x - q.x)) - (float(q.x - p.x) * (r.y - q.y)) \n",
    "    if (val > 0): \n",
    "          \n",
    "        # Clockwise orientation \n",
    "        return 1\n",
    "    elif (val < 0): \n",
    "          \n",
    "        # Counterclockwise orientation \n",
    "        return 2\n",
    "    else: \n",
    "          \n",
    "        # Collinear orientation \n",
    "        return 0\n",
    "  \n",
    "def doIntersect(p1,q1,p2,q2): \n",
    "      \n",
    "    # Find the 4 orientations required for  \n",
    "    # the general and special cases \n",
    "    o1 = orientation(p1, q1, p2) \n",
    "    o2 = orientation(p1, q1, q2) \n",
    "    o3 = orientation(p2, q2, p1) \n",
    "    o4 = orientation(p2, q2, q1) \n",
    "  \n",
    "    # General case \n",
    "    if ((o1 != o2) and (o3 != o4)): \n",
    "        return True\n",
    "  \n",
    "    # Special Cases \n",
    "  \n",
    "    # p1 , q1 and p2 are collinear and p2 lies on segment p1q1 \n",
    "    if ((o1 == 0) and onSegment(p1, p2, q1)): \n",
    "        return True\n",
    "  \n",
    "    # p1 , q1 and q2 are collinear and q2 lies on segment p1q1 \n",
    "    if ((o2 == 0) and onSegment(p1, q2, q1)): \n",
    "        return True\n",
    "  \n",
    "    # p2 , q2 and p1 are collinear and p1 lies on segment p2q2 \n",
    "    if ((o3 == 0) and onSegment(p2, p1, q2)): \n",
    "        return True\n",
    "  \n",
    "    # p2 , q2 and q1 are collinear and q1 lies on segment p2q2 \n",
    "    if ((o4 == 0) and onSegment(p2, q1, q2)): \n",
    "        return True\n",
    "  \n",
    "    # If none of the cases \n",
    "    return False"
   ]
  },
  {
   "cell_type": "code",
   "execution_count": 40,
   "metadata": {},
   "outputs": [
    {
     "name": "stdout",
     "output_type": "stream",
     "text": [
      "3331 6669\n",
      "\n",
      "0.3331\n"
     ]
    }
   ],
   "source": [
    "N = 10_000\n",
    "do_inter = 0\n",
    "not_inter = 0\n",
    "\n",
    "for _ in range(N):\n",
    "    n = np.random.randint(0,1999,4)\n",
    "    r = doIntersect(circle.iloc[n[0]], circle.iloc[n[1]],\n",
    "                circle.iloc[n[2]], circle.iloc[n[3]])\n",
    "    if r:\n",
    "        do_inter += 1\n",
    "    else:\n",
    "        not_inter += 1\n",
    "\n",
    "print(do_inter, not_inter)\n",
    "print()\n",
    "print(do_inter/(do_inter+not_inter))"
   ]
  }
 ],
 "metadata": {
  "kernelspec": {
   "display_name": "base",
   "language": "python",
   "name": "python3"
  },
  "language_info": {
   "codemirror_mode": {
    "name": "ipython",
    "version": 3
   },
   "file_extension": ".py",
   "mimetype": "text/x-python",
   "name": "python",
   "nbconvert_exporter": "python",
   "pygments_lexer": "ipython3",
   "version": "3.11.5"
  }
 },
 "nbformat": 4,
 "nbformat_minor": 2
}
