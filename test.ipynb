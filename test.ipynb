{
 "cells": [
  {
   "cell_type": "code",
   "execution_count": 1,
   "metadata": {},
   "outputs": [
    {
     "data": {
      "text/html": [
       "<div>\n",
       "<style scoped>\n",
       "    .dataframe tbody tr th:only-of-type {\n",
       "        vertical-align: middle;\n",
       "    }\n",
       "\n",
       "    .dataframe tbody tr th {\n",
       "        vertical-align: top;\n",
       "    }\n",
       "\n",
       "    .dataframe thead th {\n",
       "        text-align: right;\n",
       "    }\n",
       "</style>\n",
       "<table border=\"1\" class=\"dataframe\">\n",
       "  <thead>\n",
       "    <tr style=\"text-align: right;\">\n",
       "      <th></th>\n",
       "      <th>app_download</th>\n",
       "      <th>population</th>\n",
       "      <th>city</th>\n",
       "      <th>state</th>\n",
       "      <th>date</th>\n",
       "      <th>post</th>\n",
       "      <th>treated</th>\n",
       "    </tr>\n",
       "  </thead>\n",
       "  <tbody>\n",
       "    <tr>\n",
       "      <th>0</th>\n",
       "      <td>3066.0</td>\n",
       "      <td>12396372</td>\n",
       "      <td>sao_paulo</td>\n",
       "      <td>sao_paulo</td>\n",
       "      <td>2022-03-01</td>\n",
       "      <td>0</td>\n",
       "      <td>1</td>\n",
       "    </tr>\n",
       "    <tr>\n",
       "      <th>1</th>\n",
       "      <td>2701.0</td>\n",
       "      <td>12396372</td>\n",
       "      <td>sao_paulo</td>\n",
       "      <td>sao_paulo</td>\n",
       "      <td>2022-03-02</td>\n",
       "      <td>0</td>\n",
       "      <td>1</td>\n",
       "    </tr>\n",
       "    <tr>\n",
       "      <th>2</th>\n",
       "      <td>1927.0</td>\n",
       "      <td>12396372</td>\n",
       "      <td>sao_paulo</td>\n",
       "      <td>sao_paulo</td>\n",
       "      <td>2022-03-03</td>\n",
       "      <td>0</td>\n",
       "      <td>1</td>\n",
       "    </tr>\n",
       "    <tr>\n",
       "      <th>3</th>\n",
       "      <td>1451.0</td>\n",
       "      <td>12396372</td>\n",
       "      <td>sao_paulo</td>\n",
       "      <td>sao_paulo</td>\n",
       "      <td>2022-03-04</td>\n",
       "      <td>0</td>\n",
       "      <td>1</td>\n",
       "    </tr>\n",
       "    <tr>\n",
       "      <th>4</th>\n",
       "      <td>1248.0</td>\n",
       "      <td>12396372</td>\n",
       "      <td>sao_paulo</td>\n",
       "      <td>sao_paulo</td>\n",
       "      <td>2022-03-05</td>\n",
       "      <td>0</td>\n",
       "      <td>1</td>\n",
       "    </tr>\n",
       "  </tbody>\n",
       "</table>\n",
       "</div>"
      ],
      "text/plain": [
       "   app_download  population       city      state       date  post  treated\n",
       "0        3066.0    12396372  sao_paulo  sao_paulo 2022-03-01     0        1\n",
       "1        2701.0    12396372  sao_paulo  sao_paulo 2022-03-02     0        1\n",
       "2        1927.0    12396372  sao_paulo  sao_paulo 2022-03-03     0        1\n",
       "3        1451.0    12396372  sao_paulo  sao_paulo 2022-03-04     0        1\n",
       "4        1248.0    12396372  sao_paulo  sao_paulo 2022-03-05     0        1"
      ]
     },
     "execution_count": 1,
     "metadata": {},
     "output_type": "execute_result"
    }
   ],
   "source": [
    "import pandas as pd\n",
    "import numpy as np\n",
    "\n",
    "path1 = r'C:\\Users\\matte\\OneDrive\\Desktop\\GitHub\\data\\causal\\online_mkt.csv'\n",
    "\n",
    "df = pd.read_csv(path1).astype({\"date\":\"datetime64[ns]\"})\n",
    "\n",
    "df.head()"
   ]
  },
  {
   "cell_type": "code",
   "execution_count": 2,
   "metadata": {},
   "outputs": [
    {
     "data": {
      "text/plain": [
       "['sao_paulo', 'porto_alegre', 'joao_pessoa']"
      ]
     },
     "execution_count": 2,
     "metadata": {},
     "output_type": "execute_result"
    }
   ],
   "source": [
    "treated = list(df.query(\"treated==1\")[\"city\"].unique())\n",
    "treated"
   ]
  },
  {
   "cell_type": "code",
   "execution_count": 3,
   "metadata": {},
   "outputs": [
    {
     "data": {
      "text/html": [
       "<div>\n",
       "<style scoped>\n",
       "    .dataframe tbody tr th:only-of-type {\n",
       "        vertical-align: middle;\n",
       "    }\n",
       "\n",
       "    .dataframe tbody tr th {\n",
       "        vertical-align: top;\n",
       "    }\n",
       "\n",
       "    .dataframe thead th {\n",
       "        text-align: right;\n",
       "    }\n",
       "</style>\n",
       "<table border=\"1\" class=\"dataframe\">\n",
       "  <thead>\n",
       "    <tr style=\"text-align: right;\">\n",
       "      <th></th>\n",
       "      <th>app_download</th>\n",
       "      <th>population</th>\n",
       "      <th>city</th>\n",
       "      <th>state</th>\n",
       "      <th>date</th>\n",
       "      <th>post</th>\n",
       "      <th>treated</th>\n",
       "      <th>app_download_pct</th>\n",
       "    </tr>\n",
       "  </thead>\n",
       "  <tbody>\n",
       "    <tr>\n",
       "      <th>0</th>\n",
       "      <td>3066.0</td>\n",
       "      <td>12396372</td>\n",
       "      <td>sao_paulo</td>\n",
       "      <td>sao_paulo</td>\n",
       "      <td>2022-03-01</td>\n",
       "      <td>0</td>\n",
       "      <td>1</td>\n",
       "      <td>0.024733</td>\n",
       "    </tr>\n",
       "    <tr>\n",
       "      <th>1</th>\n",
       "      <td>2701.0</td>\n",
       "      <td>12396372</td>\n",
       "      <td>sao_paulo</td>\n",
       "      <td>sao_paulo</td>\n",
       "      <td>2022-03-02</td>\n",
       "      <td>0</td>\n",
       "      <td>1</td>\n",
       "      <td>0.021789</td>\n",
       "    </tr>\n",
       "    <tr>\n",
       "      <th>2</th>\n",
       "      <td>1927.0</td>\n",
       "      <td>12396372</td>\n",
       "      <td>sao_paulo</td>\n",
       "      <td>sao_paulo</td>\n",
       "      <td>2022-03-03</td>\n",
       "      <td>0</td>\n",
       "      <td>1</td>\n",
       "      <td>0.015545</td>\n",
       "    </tr>\n",
       "    <tr>\n",
       "      <th>3</th>\n",
       "      <td>1451.0</td>\n",
       "      <td>12396372</td>\n",
       "      <td>sao_paulo</td>\n",
       "      <td>sao_paulo</td>\n",
       "      <td>2022-03-04</td>\n",
       "      <td>0</td>\n",
       "      <td>1</td>\n",
       "      <td>0.011705</td>\n",
       "    </tr>\n",
       "    <tr>\n",
       "      <th>4</th>\n",
       "      <td>1248.0</td>\n",
       "      <td>12396372</td>\n",
       "      <td>sao_paulo</td>\n",
       "      <td>sao_paulo</td>\n",
       "      <td>2022-03-05</td>\n",
       "      <td>0</td>\n",
       "      <td>1</td>\n",
       "      <td>0.010067</td>\n",
       "    </tr>\n",
       "  </tbody>\n",
       "</table>\n",
       "</div>"
      ],
      "text/plain": [
       "   app_download  population       city      state       date  post  treated  \\\n",
       "0        3066.0    12396372  sao_paulo  sao_paulo 2022-03-01     0        1   \n",
       "1        2701.0    12396372  sao_paulo  sao_paulo 2022-03-02     0        1   \n",
       "2        1927.0    12396372  sao_paulo  sao_paulo 2022-03-03     0        1   \n",
       "3        1451.0    12396372  sao_paulo  sao_paulo 2022-03-04     0        1   \n",
       "4        1248.0    12396372  sao_paulo  sao_paulo 2022-03-05     0        1   \n",
       "\n",
       "   app_download_pct  \n",
       "0          0.024733  \n",
       "1          0.021789  \n",
       "2          0.015545  \n",
       "3          0.011705  \n",
       "4          0.010067  "
      ]
     },
     "execution_count": 3,
     "metadata": {},
     "output_type": "execute_result"
    }
   ],
   "source": [
    "df_norm = df.assign(\n",
    "            app_download_pct = 100*df[\"app_download\"]/df[\"population\"]\n",
    "        )\n",
    "\n",
    "df_norm.head()"
   ]
  },
  {
   "cell_type": "code",
   "execution_count": 4,
   "metadata": {},
   "outputs": [
    {
     "data": {
      "text/plain": [
       "Timestamp('2022-05-01 00:00:00')"
      ]
     },
     "execution_count": 4,
     "metadata": {},
     "output_type": "execute_result"
    }
   ],
   "source": [
    "tr_period = df_norm.query('post==1')['date'].min()\n",
    "tr_period"
   ]
  },
  {
   "cell_type": "code",
   "execution_count": 20,
   "metadata": {},
   "outputs": [],
   "source": [
    "def reshape_sc_data(df: pd.DataFrame,\n",
    "                            geo_col: str, \n",
    "                            time_col: str,\n",
    "                            y_col: str,\n",
    "                            tr_geos: str,\n",
    "                            tr_start: str):\n",
    "    \n",
    "    df_pivot = df.pivot(index=time_col, columns=geo_col, values=y_col)\n",
    "\n",
    "    y_con = df_pivot.drop(columns=tr_geos)\n",
    "    y_tr = df_pivot[tr_geos]\n",
    "\n",
    "    y_pre_co = y_con[df_pivot.index < tr_start]\n",
    "    y_pre_tr = y_tr[df_pivot.index < tr_start]\n",
    "\n",
    "    y_post_co = y_con[df_pivot.index >= tr_start]\n",
    "    y_post_tr = y_tr[df_pivot.index >= tr_start]\n",
    "\n",
    "    return y_pre_co, y_pre_tr, y_post_co, y_post_tr"
   ]
  },
  {
   "cell_type": "code",
   "execution_count": 21,
   "metadata": {},
   "outputs": [
    {
     "data": {
      "text/html": [
       "<div>\n",
       "<style scoped>\n",
       "    .dataframe tbody tr th:only-of-type {\n",
       "        vertical-align: middle;\n",
       "    }\n",
       "\n",
       "    .dataframe tbody tr th {\n",
       "        vertical-align: top;\n",
       "    }\n",
       "\n",
       "    .dataframe thead th {\n",
       "        text-align: right;\n",
       "    }\n",
       "</style>\n",
       "<table border=\"1\" class=\"dataframe\">\n",
       "  <thead>\n",
       "    <tr style=\"text-align: right;\">\n",
       "      <th>city</th>\n",
       "      <th>sao_paulo</th>\n",
       "      <th>porto_alegre</th>\n",
       "      <th>joao_pessoa</th>\n",
       "    </tr>\n",
       "    <tr>\n",
       "      <th>date</th>\n",
       "      <th></th>\n",
       "      <th></th>\n",
       "      <th></th>\n",
       "    </tr>\n",
       "  </thead>\n",
       "  <tbody>\n",
       "    <tr>\n",
       "      <th>2022-03-01</th>\n",
       "      <td>0.024733</td>\n",
       "      <td>0.004288</td>\n",
       "      <td>0.022039</td>\n",
       "    </tr>\n",
       "    <tr>\n",
       "      <th>2022-03-02</th>\n",
       "      <td>0.021789</td>\n",
       "      <td>0.008107</td>\n",
       "      <td>0.020344</td>\n",
       "    </tr>\n",
       "    <tr>\n",
       "      <th>2022-03-03</th>\n",
       "      <td>0.015545</td>\n",
       "      <td>0.004891</td>\n",
       "      <td>0.012352</td>\n",
       "    </tr>\n",
       "    <tr>\n",
       "      <th>2022-03-04</th>\n",
       "      <td>0.011705</td>\n",
       "      <td>0.002948</td>\n",
       "      <td>0.018285</td>\n",
       "    </tr>\n",
       "    <tr>\n",
       "      <th>2022-03-05</th>\n",
       "      <td>0.010067</td>\n",
       "      <td>0.006767</td>\n",
       "      <td>0.000000</td>\n",
       "    </tr>\n",
       "  </tbody>\n",
       "</table>\n",
       "</div>"
      ],
      "text/plain": [
       "city        sao_paulo  porto_alegre  joao_pessoa\n",
       "date                                            \n",
       "2022-03-01   0.024733      0.004288     0.022039\n",
       "2022-03-02   0.021789      0.008107     0.020344\n",
       "2022-03-03   0.015545      0.004891     0.012352\n",
       "2022-03-04   0.011705      0.002948     0.018285\n",
       "2022-03-05   0.010067      0.006767     0.000000"
      ]
     },
     "execution_count": 21,
     "metadata": {},
     "output_type": "execute_result"
    }
   ],
   "source": [
    "y_pre_co, y_pre_tr, y_post_co, y_post_tr = reshape_sc_data(\n",
    "            df_norm,\n",
    "            geo_col=\"city\",\n",
    "            time_col=\"date\",\n",
    "            y_col=\"app_download_pct\",\n",
    "            tr_geos=treated,\n",
    "            tr_start=str(tr_period)\n",
    "        )\n",
    "\n",
    "y_pre_tr.head()"
   ]
  },
  {
   "cell_type": "code",
   "execution_count": 28,
   "metadata": {},
   "outputs": [
    {
     "data": {
      "text/plain": [
       "array([-0.65 , -0.058, -0.239,  0.971,  0.03 , -0.204,  0.007,  0.095,\n",
       "        0.102,  0.106,  0.074,  0.079,  0.032, -0.5  , -0.041, -0.154,\n",
       "       -0.014,  0.132,  0.115,  0.094,  0.151, -0.058, -0.353,  0.049,\n",
       "       -0.476, -0.11 ,  0.158, -0.002,  0.036, -0.129, -0.066,  0.024,\n",
       "       -0.047,  0.089, -0.057,  0.429,  0.23 , -0.086,  0.098,  0.351,\n",
       "       -0.128,  0.128, -0.205,  0.088,  0.147,  0.555,  0.229])"
      ]
     },
     "execution_count": 28,
     "metadata": {},
     "output_type": "execute_result"
    }
   ],
   "source": [
    "from sklearn.linear_model import LinearRegression\n",
    "\n",
    "model = LinearRegression(fit_intercept=False)\n",
    "model.fit(y_pre_co, y_pre_tr.mean(axis=1))\n",
    "\n",
    "#extract the weights\n",
    "weights_lr = model.coef_\n",
    "weights_lr.round(3)"
   ]
  },
  {
   "cell_type": "code",
   "execution_count": 33,
   "metadata": {},
   "outputs": [],
   "source": [
    "y0_tr_hat = model.predict(y_post_co)"
   ]
  },
  {
   "cell_type": "code",
   "execution_count": 35,
   "metadata": {},
   "outputs": [
    {
     "data": {
      "text/plain": [
       "date\n",
       "2022-05-01    0.001646\n",
       "2022-05-02    0.007035\n",
       "2022-05-03    0.006899\n",
       "2022-05-04    0.004678\n",
       "2022-05-05    0.000941\n",
       "                ...   \n",
       "2022-06-26   -0.000733\n",
       "2022-06-27    0.001350\n",
       "2022-06-28    0.000049\n",
       "2022-06-29   -0.005465\n",
       "2022-06-30   -0.004994\n",
       "Length: 61, dtype: float64"
      ]
     },
     "execution_count": 35,
     "metadata": {},
     "output_type": "execute_result"
    }
   ],
   "source": [
    "att = y_post_tr.mean(axis=1) - y0_tr_hat\n",
    "att"
   ]
  },
  {
   "cell_type": "code",
   "execution_count": 36,
   "metadata": {},
   "outputs": [
    {
     "name": "stdout",
     "output_type": "stream",
     "text": [
      "(CVXPY) Mar 13 09:25:03 AM: Encountered unexpected exception importing solver SCS:\n",
      "ImportError('DLL load failed while importing _scs_direct: Impossibile trovare il modulo specificato.')\n",
      "(CVXPY) Mar 13 09:25:03 AM: Encountered unexpected exception importing solver OSQP:\n",
      "ImportError('DLL load failed while importing qdldl: Impossibile trovare il modulo specificato.')\n"
     ]
    }
   ],
   "source": [
    "from sklearn.base import BaseEstimator, RegressorMixin\n",
    "from sklearn.utils.validation import (check_X_y, check_array,\n",
    "                                               check_is_fitted)\n",
    "import cvxpy as cp\n",
    "\n",
    "class SyntheticControl(BaseEstimator, RegressorMixin):\n",
    "\n",
    "    def __init__(self,):\n",
    "        pass\n",
    "\n",
    "    def fit(self, y_pre_co, y_pre_tr):\n",
    "\n",
    "        y_pre_co, y_pre_tr = check_X_y(y_pre_co, y_pre_tr)\n",
    "\n",
    "        w = cp.Variable(y_pre_co.shape[1])\n",
    "\n",
    "        objective = cp.Minimize(cp.sum_squares(y_pre_co@w - y_pre_tr))\n",
    "        constraints = [cp.sum(w) == 1, w >= 0]\n",
    "\n",
    "        problem = cp.Problem(objective, constraints)\n",
    "\n",
    "        self.loss_ = problem.solve(verbose=True)\n",
    "        self.w_ = w.value\n",
    "\n",
    "        self.is_fitted_ = True\n",
    "        return self\n",
    "    \n",
    "    def predict(self, y_co):\n",
    "        check_is_fitted(self)\n",
    "        y_co = check_array(y_co)\n",
    "\n",
    "        return y_co @ self.w_"
   ]
  },
  {
   "cell_type": "code",
   "execution_count": null,
   "metadata": {},
   "outputs": [],
   "source": []
  }
 ],
 "metadata": {
  "kernelspec": {
   "display_name": "py_env",
   "language": "python",
   "name": "python3"
  },
  "language_info": {
   "codemirror_mode": {
    "name": "ipython",
    "version": 3
   },
   "file_extension": ".py",
   "mimetype": "text/x-python",
   "name": "python",
   "nbconvert_exporter": "python",
   "pygments_lexer": "ipython3",
   "version": "3.11.7"
  }
 },
 "nbformat": 4,
 "nbformat_minor": 2
}
