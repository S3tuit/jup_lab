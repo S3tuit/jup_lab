{
 "cells": [
  {
   "cell_type": "code",
   "execution_count": 2,
   "metadata": {},
   "outputs": [],
   "source": [
    "class BSTNode():\n",
    "    \n",
    "    def __init__(self, key, value=None):\n",
    "        self.key = key\n",
    "        self.value = value\n",
    "        self.left = None\n",
    "        self.right = None\n",
    "        self.parent = None"
   ]
  },
  {
   "cell_type": "code",
   "execution_count": 4,
   "metadata": {},
   "outputs": [],
   "source": [
    "tree = BSTNode('jadesh', 204)"
   ]
  },
  {
   "cell_type": "code",
   "execution_count": 9,
   "metadata": {},
   "outputs": [],
   "source": [
    "def insert(node, key, value):\n",
    "    if node is None:\n",
    "        node = BSTNode(key, value)\n",
    "    \n",
    "    elif key > node.key:\n",
    "        node.right = insert(node.right, key, value)\n",
    "        node.right.parent = node\n",
    "\n",
    "    elif key < node.key:\n",
    "        node.left = insert(node.left, key, value)\n",
    "        node.left.parent = node\n",
    "\n",
    "    return node"
   ]
  },
  {
   "cell_type": "code",
   "execution_count": 10,
   "metadata": {},
   "outputs": [],
   "source": [
    "users = [\n",
    "    ('matteo', 83),\n",
    "    ('lorenzo', 84),\n",
    "    ('filippo', 94),\n",
    "    ('andrea', 61),\n",
    "    ('fulvio', 59),\n",
    "    ('peppo', 71),\n",
    "    ('davide', 110)\n",
    "]\n",
    "\n",
    "for user in users:\n",
    "    insert(tree, *user)"
   ]
  },
  {
   "cell_type": "code",
   "execution_count": 16,
   "metadata": {},
   "outputs": [
    {
     "name": "stdout",
     "output_type": "stream",
     "text": [
      "              peppo\n",
      "       matteo\n",
      "              lorenzo\n",
      "jadesh\n",
      "              fulvio\n",
      "       filippo\n",
      "                     davide\n",
      "              andrea\n"
     ]
    }
   ],
   "source": [
    "def display_tree(node, depth=0):\n",
    "    if node is None:\n",
    "        return\n",
    "\n",
    "    # Print the right subtree with increased depth\n",
    "    display_tree(node.right, depth + 1)\n",
    "\n",
    "    # Print the current node\n",
    "    print(\"       \" * depth + str(node.key))\n",
    "\n",
    "    # Print the left subtree with increased depth\n",
    "    display_tree(node.left, depth + 1)\n",
    "\n",
    "display_tree(tree)"
   ]
  },
  {
   "cell_type": "code",
   "execution_count": 31,
   "metadata": {},
   "outputs": [],
   "source": [
    "def find(node, key):\n",
    "\n",
    "    if node is None:\n",
    "        return None\n",
    "    \n",
    "    if key > node.key:\n",
    "        return find(node.right, key)\n",
    "\n",
    "    if key < node.key:\n",
    "        return find(node.left, key)\n",
    "\n",
    "    if key == node.key:\n",
    "        return node"
   ]
  },
  {
   "cell_type": "code",
   "execution_count": 33,
   "metadata": {},
   "outputs": [
    {
     "data": {
      "text/plain": [
       "110"
      ]
     },
     "execution_count": 33,
     "metadata": {},
     "output_type": "execute_result"
    }
   ],
   "source": [
    "find(tree, 'davide').value"
   ]
  },
  {
   "cell_type": "code",
   "execution_count": 39,
   "metadata": {},
   "outputs": [],
   "source": [
    "def update(node, key, new_value):\n",
    "\n",
    "    node_to_update = find(node, key)\n",
    "\n",
    "    if node_to_update is not None:\n",
    "        node_to_update.value = new_value"
   ]
  },
  {
   "cell_type": "code",
   "execution_count": 41,
   "metadata": {},
   "outputs": [
    {
     "data": {
      "text/plain": [
       "83"
      ]
     },
     "execution_count": 41,
     "metadata": {},
     "output_type": "execute_result"
    }
   ],
   "source": [
    "update(tree, 'matteo', 83)\n",
    "find(tree, 'matteo').value"
   ]
  },
  {
   "cell_type": "code",
   "execution_count": 42,
   "metadata": {},
   "outputs": [],
   "source": [
    "def list_all(node):\n",
    "\n",
    "    if node is None:\n",
    "        return []\n",
    "    \n",
    "    return list_all(node.left) + [(node.key, node.value)] + list_all(node.right)"
   ]
  },
  {
   "cell_type": "code",
   "execution_count": 43,
   "metadata": {},
   "outputs": [
    {
     "data": {
      "text/plain": [
       "[('andrea', 61),\n",
       " ('davide', 110),\n",
       " ('filippo', 94),\n",
       " ('fulvio', 59),\n",
       " ('jadesh', 204),\n",
       " ('lorenzo', 84),\n",
       " ('matteo', 83),\n",
       " ('peppo', 71)]"
      ]
     },
     "execution_count": 43,
     "metadata": {},
     "output_type": "execute_result"
    }
   ],
   "source": [
    "list_all(tree)"
   ]
  },
  {
   "cell_type": "code",
   "execution_count": 44,
   "metadata": {},
   "outputs": [],
   "source": [
    "def is_balanced(node):\n",
    "    if node is None:\n",
    "        return True, 0\n",
    "    \n",
    "    balanced_l, height_l = is_balanced(node.left)\n",
    "    balanced_r, height_r = is_balanced(node.right)\n",
    "\n",
    "    balanced = balanced_l and balanced_r and abs(height_l - height_r) <=1\n",
    "    height = 1 + max(height_l, height_l)\n",
    "\n",
    "    return balanced, height"
   ]
  },
  {
   "cell_type": "code",
   "execution_count": 45,
   "metadata": {},
   "outputs": [
    {
     "data": {
      "text/plain": [
       "(True, 3)"
      ]
     },
     "execution_count": 45,
     "metadata": {},
     "output_type": "execute_result"
    }
   ],
   "source": [
    "is_balanced(tree)"
   ]
  },
  {
   "cell_type": "code",
   "execution_count": null,
   "metadata": {},
   "outputs": [],
   "source": []
  }
 ],
 "metadata": {
  "kernelspec": {
   "display_name": "base",
   "language": "python",
   "name": "python3"
  },
  "language_info": {
   "codemirror_mode": {
    "name": "ipython",
    "version": 3
   },
   "file_extension": ".py",
   "mimetype": "text/x-python",
   "name": "python",
   "nbconvert_exporter": "python",
   "pygments_lexer": "ipython3",
   "version": "3.11.5"
  }
 },
 "nbformat": 4,
 "nbformat_minor": 2
}
