{
 "cells": [
  {
   "cell_type": "code",
   "execution_count": 97,
   "metadata": {},
   "outputs": [],
   "source": [
    "import numpy as np"
   ]
  },
  {
   "cell_type": "code",
   "execution_count": 182,
   "metadata": {},
   "outputs": [],
   "source": [
    "list1 = list(np.random.randint(1,100,1004))\n",
    "list2 = list1 + [list1[2]] * 5\n",
    "list3 = list1.copy()\n",
    "list3.append(-3)\n",
    "\n",
    "lists = [list1,list2,list3]"
   ]
  },
  {
   "cell_type": "code",
   "execution_count": 118,
   "metadata": {},
   "outputs": [
    {
     "name": "stdout",
     "output_type": "stream",
     "text": [
      "[8, 12, 95, 67, 40, 90, 41, 56, 67, 7, 62, 83, 28, 39]\n",
      "[8, 12, 95, 67, 40, 90, 41, 56, 67, 7, 62, 83, 28, 39, 95, 95, 95, 95, 95]\n",
      "[8, 12, 95, 67, 40, 90, 41, 56, 67, 7, 62, 83, 28, 39, -3]\n"
     ]
    }
   ],
   "source": [
    "for a_list in lists:\n",
    "    print(a_list)"
   ]
  },
  {
   "cell_type": "code",
   "execution_count": 185,
   "metadata": {},
   "outputs": [],
   "source": [
    "def store_list(long_list):\n",
    "    new_list = []\n",
    "    for element in long_list:\n",
    "        new_list = sort_element(new_list, element)\n",
    "    return new_list\n",
    "\n",
    "def sort_element(mini_list, element, idx=0, how=None):\n",
    "\n",
    "    if idx < 0:\n",
    "        return [element] + mini_list\n",
    "    \n",
    "    elif idx == len(mini_list):\n",
    "        return mini_list + [element]\n",
    "\n",
    "    elif element < mini_list[idx]:\n",
    "        if how == 'high':\n",
    "            return mini_list[:idx] + [element] + mini_list[idx:]\n",
    "\n",
    "        idx -= 1\n",
    "        return sort_element(mini_list, element, idx, how='low')\n",
    "    \n",
    "    elif element == mini_list[idx]:\n",
    "        return mini_list[:idx] + [element] + mini_list[idx:]\n",
    "    \n",
    "    elif element > mini_list[idx]:\n",
    "        if how == 'low':\n",
    "            return mini_list[:idx+1] + [element] + mini_list[idx+1:]\n",
    "\n",
    "        idx += 1\n",
    "        return sort_element(mini_list, element, idx, how='high')\n",
    "\n"
   ]
  },
  {
   "cell_type": "code",
   "execution_count": null,
   "metadata": {},
   "outputs": [],
   "source": []
  }
 ],
 "metadata": {
  "kernelspec": {
   "display_name": "base",
   "language": "python",
   "name": "python3"
  },
  "language_info": {
   "codemirror_mode": {
    "name": "ipython",
    "version": 3
   },
   "file_extension": ".py",
   "mimetype": "text/x-python",
   "name": "python",
   "nbconvert_exporter": "python",
   "pygments_lexer": "ipython3",
   "version": "3.11.5"
  }
 },
 "nbformat": 4,
 "nbformat_minor": 2
}
