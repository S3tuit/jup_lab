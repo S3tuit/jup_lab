{
 "cells": [
  {
   "cell_type": "code",
   "execution_count": 1,
   "metadata": {},
   "outputs": [],
   "source": [
    "import numpy as np"
   ]
  },
  {
   "cell_type": "code",
   "execution_count": 10,
   "metadata": {},
   "outputs": [],
   "source": [
    "def get_intersection(arr1, arr2):\n",
    "    arr1 = set(arr1)\n",
    "    arr2 = set(arr2)\n",
    "\n",
    "    if len(arr1) <= len(arr2):\n",
    "        return [num for num in arr1 if num in arr2]\n",
    "    else:\n",
    "        return [num for num in arr2 if num in arr1]"
   ]
  },
  {
   "cell_type": "code",
   "execution_count": 11,
   "metadata": {},
   "outputs": [
    {
     "data": {
      "text/plain": [
       "[1, 2, 3, 4]"
      ]
     },
     "execution_count": 11,
     "metadata": {},
     "output_type": "execute_result"
    }
   ],
   "source": [
    "get_intersection([1,2,3,4,5], [1,2,3,4,55])"
   ]
  },
  {
   "cell_type": "code",
   "execution_count": 12,
   "metadata": {},
   "outputs": [
    {
     "data": {
      "text/plain": [
       "array([-88,  -1,   2,   3,   4,   7,  56])"
      ]
     },
     "execution_count": 12,
     "metadata": {},
     "output_type": "execute_result"
    }
   ],
   "source": [
    "np.sort([-1,2,3,4,56,7,-88])"
   ]
  },
  {
   "cell_type": "code",
   "execution_count": 16,
   "metadata": {},
   "outputs": [],
   "source": [
    "def get_max_prod(array):\n",
    "    array = np.sort(array)\n",
    "\n",
    "    if array[0] < 0 and array[1] < 0:\n",
    "        if array[0]*array[1] > array[-1]*array[-2] or array[-3]<0:\n",
    "            return array[0]*array[1]*array[-1]\n",
    "        else:\n",
    "            pass\n",
    "    return array[-1]*array[-2]*array[-3]"
   ]
  },
  {
   "cell_type": "code",
   "execution_count": 17,
   "metadata": {},
   "outputs": [
    {
     "data": {
      "text/plain": [
       "40"
      ]
     },
     "execution_count": 17,
     "metadata": {},
     "output_type": "execute_result"
    }
   ],
   "source": [
    "get_max_prod([-2,-4,5,3])"
   ]
  },
  {
   "cell_type": "code",
   "execution_count": null,
   "metadata": {},
   "outputs": [],
   "source": []
  },
  {
   "cell_type": "code",
   "execution_count": 51,
   "metadata": {},
   "outputs": [],
   "source": [
    "class MinHeap:\n",
    "    def __init__(self, capacity):\n",
    "        self.storage = [0] * capacity\n",
    "        self.capacity = capacity\n",
    "        self.size = 0\n",
    "    \n",
    "    def get_parent_idx(self, idx):\n",
    "        return (idx -1)//2\n",
    "    \n",
    "    def get_lc_idx(self, idx):\n",
    "        return 2*idx + 1\n",
    "    \n",
    "    def get_rc_idx(self, idx):\n",
    "        return 2*idx + 2\n",
    "    \n",
    "    def has_parent(self, idx):\n",
    "        return self.get_parent_idx(idx) >= 0\n",
    "    \n",
    "    def has_lc(self, idx):\n",
    "        return self.get_lc_idx(idx) < self.size\n",
    "    \n",
    "    def has_rc(self, idx):\n",
    "        return self.get_rc_idx(idx) < self.size\n",
    "    \n",
    "    def parent(self, idx):\n",
    "        return self.storage[self.get_parent_idx(idx)]\n",
    "    \n",
    "    def lc(self, idx):\n",
    "        return self.storage[self.get_lc_idx(idx)]\n",
    "    \n",
    "    def rc(self, idx):\n",
    "        return self.storage[self.get_rc_idx(idx)]\n",
    "    \n",
    "    def is_full(self):\n",
    "        return self.size == self.capacity\n",
    "    \n",
    "    def swap(self, idx1, idx2):\n",
    "        temp = self.storage[idx1]\n",
    "        self.storage[idx1] = self.storage[idx2]\n",
    "        self.storage[idx2] = temp\n",
    "    \n",
    "    def heapify_up(self):\n",
    "        idx = self.size - 1\n",
    "        while(self.has_parent(idx) and\n",
    "              self.parent(idx)>self.storage[idx]):\n",
    "            parent_idx = self.get_parent_idx(idx)\n",
    "            self.swap(parent_idx, idx)    \n",
    "\n",
    "    def insert(self, data):\n",
    "        if(self.is_full)==True:\n",
    "            return print('Heap is full')\n",
    "        self.storage[self.size] = data\n",
    "        self.size += 1\n",
    "        self.heapify_up()"
   ]
  },
  {
   "cell_type": "code",
   "execution_count": 52,
   "metadata": {},
   "outputs": [],
   "source": [
    "heap = MinHeap(7)"
   ]
  },
  {
   "cell_type": "code",
   "execution_count": 53,
   "metadata": {},
   "outputs": [
    {
     "data": {
      "text/plain": [
       "False"
      ]
     },
     "execution_count": 53,
     "metadata": {},
     "output_type": "execute_result"
    }
   ],
   "source": [
    "heap.is_full()"
   ]
  },
  {
   "cell_type": "code",
   "execution_count": 60,
   "metadata": {},
   "outputs": [],
   "source": [
    "heap.insert(4)"
   ]
  },
  {
   "cell_type": "code",
   "execution_count": 61,
   "metadata": {},
   "outputs": [
    {
     "data": {
      "text/plain": [
       "[1, 4, 6, 7, 0, 0, 0]"
      ]
     },
     "execution_count": 61,
     "metadata": {},
     "output_type": "execute_result"
    }
   ],
   "source": [
    "heap.storage"
   ]
  }
 ],
 "metadata": {
  "kernelspec": {
   "display_name": "base",
   "language": "python",
   "name": "python3"
  },
  "language_info": {
   "codemirror_mode": {
    "name": "ipython",
    "version": 3
   },
   "file_extension": ".py",
   "mimetype": "text/x-python",
   "name": "python",
   "nbconvert_exporter": "python",
   "pygments_lexer": "ipython3",
   "version": "3.11.5"
  }
 },
 "nbformat": 4,
 "nbformat_minor": 2
}
