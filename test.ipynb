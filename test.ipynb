{
 "cells": [
  {
   "cell_type": "code",
   "execution_count": 1,
   "metadata": {},
   "outputs": [],
   "source": [
    "import numpy as np"
   ]
  },
  {
   "cell_type": "code",
   "execution_count": 15,
   "metadata": {},
   "outputs": [],
   "source": [
    "test0 = {\n",
    "    'input': {\n",
    "        'capacity': 165,\n",
    "        'weights': [23, 31, 29, 44, 53, 38, 63, 85, 89, 82],\n",
    "        'profits': [92, 57, 49, 68, 60, 43, 67, 84, 87, 72]\n",
    "    },\n",
    "    'output': 309\n",
    "}\n",
    "\n",
    "test1 = {\n",
    "    'input': {\n",
    "        'capacity': 3,\n",
    "        'weights': [4, 5, 6],\n",
    "        'profits': [1, 2, 3]\n",
    "    },\n",
    "    'output': 0\n",
    "}\n",
    "\n",
    "test2 = {\n",
    "    'input': {\n",
    "        'capacity': 4,\n",
    "        'weights': [4, 5, 1],\n",
    "        'profits': [1, 2, 3]\n",
    "    },\n",
    "    'output': 3\n",
    "}\n",
    "\n",
    "test3 = {\n",
    "    'input': {\n",
    "        'capacity': 170,\n",
    "        'weights': [41, 50, 49, 59, 55, 57, 60],\n",
    "        'profits': [442, 525, 511, 593, 546, 564, 617]\n",
    "    },\n",
    "    'output': 1735\n",
    "}\n",
    "\n",
    "test4 = {\n",
    "    'input': {\n",
    "        'capacity': 15,\n",
    "        'weights': [4, 5, 6],\n",
    "        'profits': [1, 2, 3]\n",
    "    },\n",
    "    'output': 6\n",
    "}\n",
    "\n",
    "test5 = {\n",
    "    'input': {\n",
    "        'capacity': 15,\n",
    "        'weights': [4, 5, 1, 3, 2, 5],\n",
    "        'profits': [2, 3, 1, 5, 4, 7]\n",
    "    },\n",
    "    'output': 19\n",
    "}\n",
    "\n",
    "tests = [test0, test1, test2, test3, test4, test5]"
   ]
  },
  {
   "cell_type": "code",
   "execution_count": 69,
   "metadata": {},
   "outputs": [],
   "source": [
    "def max_profit_memo(weights, profits, capacity, idx=0):\n",
    "    memo={}\n",
    "\n",
    "    def max_profit_inside(weights, profits, capacity, idx=0):\n",
    "        if idx == len(weights):\n",
    "            result = 0\n",
    "            memo[capacity,idx] = result\n",
    "            return result\n",
    "        \n",
    "        elif weights[idx] > capacity:\n",
    "            result = max_profit_inside(weights, profits, capacity, idx+1)\n",
    "            memo[capacity,idx] = result\n",
    "            return result\n",
    "        \n",
    "        else:\n",
    "            opt1 = max_profit_inside(weights, profits, capacity, idx+1)\n",
    "            opt2 = profits[idx] + max_profit_inside(weights, profits,\n",
    "                                                capacity-weights[idx],\n",
    "                                                idx+1)\n",
    "            \n",
    "            result = max(opt1,opt2)\n",
    "            memo[capacity,idx] = result\n",
    "            return result\n",
    "        \n",
    "    return max_profit_inside(weights, profits, capacity)"
   ]
  },
  {
   "cell_type": "code",
   "execution_count": 88,
   "metadata": {},
   "outputs": [],
   "source": [
    "def max_profit_dp(weights, profits, capacity):\n",
    "    rows = len(weights)\n",
    "    grid = [[0 for _ in range(capacity + 1)] for _ in range(rows+1)]\n",
    "\n",
    "    for i in range(rows):\n",
    "        for j in range(1, capacity+1):\n",
    "            if j < weights[i]:\n",
    "                grid[i+1][j] = grid[i][j]\n",
    "            else:\n",
    "                grid[i+1][j] = max(profits[i] + grid[i][j-weights[i]],\n",
    "                                 grid[i][j])\n",
    "    \n",
    "    return grid[-1][-1]"
   ]
  },
  {
   "cell_type": "code",
   "execution_count": 89,
   "metadata": {},
   "outputs": [
    {
     "name": "stdout",
     "output_type": "stream",
     "text": [
      "309 True\n",
      "0 True\n",
      "3 True\n",
      "1735 True\n",
      "6 True\n",
      "19 True\n"
     ]
    }
   ],
   "source": [
    "for test in tests:\n",
    "    result = max_profit_dp(**test['input'])\n",
    "    print(result, result == test['output'])"
   ]
  },
  {
   "cell_type": "code",
   "execution_count": null,
   "metadata": {},
   "outputs": [],
   "source": []
  }
 ],
 "metadata": {
  "kernelspec": {
   "display_name": "base",
   "language": "python",
   "name": "python3"
  },
  "language_info": {
   "codemirror_mode": {
    "name": "ipython",
    "version": 3
   },
   "file_extension": ".py",
   "mimetype": "text/x-python",
   "name": "python",
   "nbconvert_exporter": "python",
   "pygments_lexer": "ipython3",
   "version": "3.11.5"
  }
 },
 "nbformat": 4,
 "nbformat_minor": 2
}
