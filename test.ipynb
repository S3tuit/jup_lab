{
 "cells": [
  {
   "cell_type": "code",
   "execution_count": 2,
   "metadata": {},
   "outputs": [],
   "source": [
    "import numpy as np"
   ]
  },
  {
   "cell_type": "code",
   "execution_count": 3,
   "metadata": {},
   "outputs": [],
   "source": [
    "list1 = list(np.random.randint(1,10000,500))\n",
    "list2 = list1 + [list1[2]] * 5\n",
    "list3 = list1.copy()\n",
    "list3.append(-3)\n",
    "\n",
    "lists = [list1,list2,list3]"
   ]
  },
  {
   "cell_type": "code",
   "execution_count": 124,
   "metadata": {},
   "outputs": [],
   "source": [
    "def sort_list(long_list):\n",
    "    new_list = []\n",
    "    for element in long_list:\n",
    "        new_list = sort_element(new_list, element)\n",
    "    return new_list\n",
    "\n",
    "def sort_element(mini_list, element, idx=0, how=None):\n",
    "\n",
    "    if idx < 0:\n",
    "        return [element] + mini_list\n",
    "    \n",
    "    elif idx == len(mini_list):\n",
    "        return mini_list + [element]\n",
    "\n",
    "    elif element < mini_list[idx]:\n",
    "        if how == 'high':\n",
    "            return mini_list[:idx] + [element] + mini_list[idx:]\n",
    "\n",
    "        idx -= 1\n",
    "        return sort_element(mini_list, element, idx, how='low')\n",
    "    \n",
    "    elif element == mini_list[idx]:\n",
    "        return mini_list[:idx] + [element] + mini_list[idx:]\n",
    "    \n",
    "    elif element > mini_list[idx]:\n",
    "        if how == 'low':\n",
    "            return mini_list[:idx+1] + [element] + mini_list[idx+1:]\n",
    "\n",
    "        idx += 1\n",
    "        return sort_element(mini_list, element, idx, how='high')\n",
    "\n"
   ]
  },
  {
   "cell_type": "code",
   "execution_count": 125,
   "metadata": {},
   "outputs": [],
   "source": [
    "def bubble_sort(nums):\n",
    "    for _ in range(len(nums)-1):\n",
    "        for i in range(len(nums)-1):\n",
    "\n",
    "            if nums[i] > nums[i+1]:\n",
    "                nums[i], nums[i+1] = nums[i+1], nums[i]\n",
    "    \n",
    "    return nums"
   ]
  },
  {
   "cell_type": "code",
   "execution_count": 5,
   "metadata": {},
   "outputs": [],
   "source": [
    "def insertion_sort(nums):\n",
    "    nums = list(nums)\n",
    "    for i in range(len(nums)):\n",
    "        current = nums.pop(i)\n",
    "        j = i -1\n",
    "        while j>=0 and nums[j]>current:\n",
    "            j -= 1\n",
    "        nums.insert(j+1, current)\n",
    "    return nums"
   ]
  },
  {
   "cell_type": "code",
   "execution_count": 4,
   "metadata": {},
   "outputs": [],
   "source": [
    "def merge_sort(nums):\n",
    "    if len(nums) <= 1:\n",
    "        return nums\n",
    "    \n",
    "    mid = len(nums) // 2\n",
    "\n",
    "    left = nums[:mid]\n",
    "    right = nums[mid:]\n",
    "\n",
    "    left_sorted, right_sorted = merge_sort(left), merge_sort(right)\n",
    "\n",
    "    sorted_nums = merge(left_sorted, right_sorted)\n",
    "    return sorted_nums\n",
    "\n",
    "def merge(nums1, nums2):\n",
    "\n",
    "    merged = []\n",
    "    i, j = 0, 0\n",
    "\n",
    "    while i < len(nums1) and j < len(nums2):\n",
    "\n",
    "        if nums1[i] <= nums2[j]:\n",
    "            merged.append(nums1[i])\n",
    "            i += 1\n",
    "        else:\n",
    "            merged.append(nums2[j])\n",
    "            j += 1\n",
    "        \n",
    "    nums1_tail = nums1[i:]\n",
    "    nums2_tail = nums2[j:]\n",
    "\n",
    "    return merged + nums1_tail + nums2_tail"
   ]
  },
  {
   "cell_type": "code",
   "execution_count": 17,
   "metadata": {},
   "outputs": [],
   "source": [
    "def quicksort(nums, start=0, end=None):\n",
    "\n",
    "    if end is None:\n",
    "        nums = list(nums)\n",
    "        end = len(nums) - 1\n",
    "    \n",
    "    if start < end:\n",
    "        pivot = partition(nums, start, end)\n",
    "        quicksort(nums, start, pivot-1)\n",
    "        quicksort(nums, pivot+1, end)\n",
    "\n",
    "    return nums\n",
    "\n",
    "def partition(nums, start=0, end=None):\n",
    "    if end is None:\n",
    "        end = len(nums) - 1\n",
    "\n",
    "    l, r = start, end-1\n",
    "\n",
    "    while r > l:\n",
    "        \n",
    "        if nums[l] <= nums[end]:\n",
    "            l += 1\n",
    "        elif nums[r] > nums[end]:\n",
    "            r -= 1\n",
    "        else:\n",
    "            nums[r], nums[l] = nums[l], nums[r]\n",
    "\n",
    "    if nums[l] > nums[end]:\n",
    "        nums[l], nums[end] = nums[end], nums[l]\n",
    "        return l\n",
    "    else:\n",
    "        return end"
   ]
  },
  {
   "cell_type": "code",
   "execution_count": 18,
   "metadata": {},
   "outputs": [],
   "source": [
    "list1 = list(np.random.randint(1,10000,25000))"
   ]
  },
  {
   "cell_type": "code",
   "execution_count": 19,
   "metadata": {},
   "outputs": [
    {
     "name": "stdout",
     "output_type": "stream",
     "text": [
      "104 ms ± 1.1 ms per loop (mean ± std. dev. of 7 runs, 10 loops each)\n"
     ]
    }
   ],
   "source": [
    "%%timeit\n",
    "\n",
    "quicksort(list1)"
   ]
  },
  {
   "cell_type": "code",
   "execution_count": 20,
   "metadata": {},
   "outputs": [
    {
     "name": "stdout",
     "output_type": "stream",
     "text": [
      "130 ms ± 1.48 ms per loop (mean ± std. dev. of 7 runs, 10 loops each)\n"
     ]
    }
   ],
   "source": [
    "%%timeit\n",
    "\n",
    "merge_sort(list1)"
   ]
  }
 ],
 "metadata": {
  "kernelspec": {
   "display_name": "base",
   "language": "python",
   "name": "python3"
  },
  "language_info": {
   "codemirror_mode": {
    "name": "ipython",
    "version": 3
   },
   "file_extension": ".py",
   "mimetype": "text/x-python",
   "name": "python",
   "nbconvert_exporter": "python",
   "pygments_lexer": "ipython3",
   "version": "3.11.5"
  }
 },
 "nbformat": 4,
 "nbformat_minor": 2
}
