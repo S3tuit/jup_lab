{
 "cells": [
  {
   "cell_type": "code",
   "execution_count": 2,
   "metadata": {},
   "outputs": [],
   "source": [
    "import requests\n",
    "import sqlite3\n",
    "import pandas as pd\n",
    "from bs4 import BeautifulSoup"
   ]
  },
  {
   "cell_type": "code",
   "execution_count": 3,
   "metadata": {},
   "outputs": [],
   "source": [
    "url = r'https://web.archive.org/web/20230902185326/https://en.wikipedia.org/wiki/List_of_countries_by_GDP_%28nominal%29'\n",
    "html_page = requests.get(url).text\n",
    "data = BeautifulSoup(html_page, 'html.parser')"
   ]
  },
  {
   "cell_type": "code",
   "execution_count": 14,
   "metadata": {},
   "outputs": [],
   "source": [
    "table1 = data.select('.wikitable.sortable')[0]"
   ]
  },
  {
   "cell_type": "code",
   "execution_count": 41,
   "metadata": {},
   "outputs": [
    {
     "name": "stdout",
     "output_type": "stream",
     "text": [
      "Unable to scrape row n.0\n",
      "Unable to scrape row n.1\n",
      "Unable to scrape row n.2\n",
      "Unable to scrape row n.44\n",
      "Unable to scrape row n.70\n",
      "Unable to scrape row n.85\n",
      "Unable to scrape row n.119\n",
      "Unable to scrape row n.126\n",
      "Unable to scrape row n.140\n",
      "Unable to scrape row n.142\n",
      "Unable to scrape row n.156\n",
      "Unable to scrape row n.160\n",
      "Unable to scrape row n.161\n",
      "Unable to scrape row n.165\n",
      "Unable to scrape row n.167\n",
      "Unable to scrape row n.168\n",
      "Unable to scrape row n.179\n",
      "Unable to scrape row n.181\n",
      "Unable to scrape row n.193\n",
      "Unable to scrape row n.195\n",
      "Unable to scrape row n.201\n",
      "Unable to scrape row n.203\n",
      "Unable to scrape row n.209\n",
      "Unable to scrape row n.211\n",
      "Unable to scrape row n.214\n"
     ]
    }
   ],
   "source": [
    "df_dict = {'Country':[], 'GDP_USD_billion':[]}\n",
    "\n",
    "for num,row in enumerate(table1.find_all('tr')):\n",
    "    try:\n",
    "        state = row.select('a')[0].get_text(strip=True)\n",
    "        gdp = row.select('td')[2].get_text(strip=True)\n",
    "        gdp = int(gdp.replace(',', ''))\n",
    "\n",
    "        df_dict['Country'].append(state)\n",
    "        df_dict['GDP_USD_billion'].append(gdp)\n",
    "    except:\n",
    "        print(f'Unable to scrape row n.{num}')"
   ]
  }
 ],
 "metadata": {
  "kernelspec": {
   "display_name": "py_env",
   "language": "python",
   "name": "python3"
  },
  "language_info": {
   "codemirror_mode": {
    "name": "ipython",
    "version": 3
   },
   "file_extension": ".py",
   "mimetype": "text/x-python",
   "name": "python",
   "nbconvert_exporter": "python",
   "pygments_lexer": "ipython3",
   "version": "3.11.7"
  }
 },
 "nbformat": 4,
 "nbformat_minor": 2
}
