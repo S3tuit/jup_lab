{
 "cells": [
  {
   "cell_type": "markdown",
   "metadata": {},
   "source": [
    "# Analisi Statistica"
   ]
  },
  {
   "cell_type": "markdown",
   "metadata": {},
   "source": [
    "### List nums --> abs freq"
   ]
  },
  {
   "cell_type": "code",
   "execution_count": 32,
   "metadata": {},
   "outputs": [],
   "source": [
    "def calc_abs_freq(num_list):\n",
    "    nj_dict = {}\n",
    "    for i in num_list:\n",
    "        if i not in nj_dict.keys():\n",
    "            nj_i = num_list.count(i)\n",
    "            nj_dict[i] = nj_i\n",
    "    abs_freq = {key: nj_dict[key] for key in sorted(nj_dict)}\n",
    "    return(abs_freq)"
   ]
  },
  {
   "cell_type": "markdown",
   "metadata": {},
   "source": [
    "### abs freq --> n tot"
   ]
  },
  {
   "cell_type": "code",
   "execution_count": null,
   "metadata": {},
   "outputs": [],
   "source": [
    "def calc_n_tot(abs_freq_copy):\n",
    "    abs_freq = abs_freq_copy.copy()\n",
    "    n_tot = 0\n",
    "    for freq in abs_freq.values():\n",
    "        n_tot += freq\n",
    "    return n_tot"
   ]
  },
  {
   "cell_type": "markdown",
   "metadata": {},
   "source": [
    "### abs freq --> rel freq"
   ]
  },
  {
   "cell_type": "code",
   "execution_count": null,
   "metadata": {},
   "outputs": [],
   "source": [
    "def calc_rel_freq(nj_dict):\n",
    "    fj_dict = {}\n",
    "    N = 0\n",
    "    for v in nj_dict.values():\n",
    "        N += v\n",
    "    for k, v in nj_dict.items():\n",
    "        fj_dict[k] = round((v / N), 3)\n",
    "    return fj_dict"
   ]
  },
  {
   "cell_type": "markdown",
   "metadata": {},
   "source": [
    "### rel freq --> cum freq"
   ]
  },
  {
   "cell_type": "code",
   "execution_count": null,
   "metadata": {},
   "outputs": [],
   "source": [
    "def calc_cum_freq(Fj_dict_copy):\n",
    "    Fj_dict = Fj_dict_copy.copy()\n",
    "    value = 0\n",
    "    for k, v in Fj_dict.items():\n",
    "        value += v\n",
    "        Fj_dict[k] = round(value, 3)\n",
    "    return Fj_dict"
   ]
  },
  {
   "cell_type": "markdown",
   "metadata": {},
   "source": [
    "### list --> quartili"
   ]
  },
  {
   "cell_type": "code",
   "execution_count": 31,
   "metadata": {},
   "outputs": [],
   "source": [
    "def calc_median_list(nums_copy, ):\n",
    "    nums = nums_copy.copy()\n",
    "    length = len(nums)\n",
    "    nums.sort()\n",
    "    if length % 2 == 0:\n",
    "        n1 = nums[length // 2-1]\n",
    "        n2 = nums[length // 2]\n",
    "        median = (n1 + n2) / 2\n",
    "    else:\n",
    "        median = nums[length // 2]\n",
    "    return median\n",
    "\n",
    "def calc_quartili_list(nums_copy):\n",
    "    nums = sorted(nums_copy)\n",
    "    length = len(nums)\n",
    "    quartili = {}\n",
    "    q2 = calc_median_list(nums)\n",
    "    middle = length // 2\n",
    "    if length % 2 ==0:\n",
    "        q1 = calc_median_list(nums[:middle])\n",
    "        q3 = calc_median_list(nums[middle:])\n",
    "    else:\n",
    "        q1 = calc_median_list(nums[:middle])\n",
    "        q3 = calc_median_list(nums[middle+1:])\n",
    "    quartili[\"Q0\"] = nums[0]\n",
    "    quartili[\"Q1\"] = q1\n",
    "    quartili[\"Q2\"] = q2\n",
    "    quartili[\"Q3\"] = q3\n",
    "    quartili[\"Q4\"] = nums[-1]\n",
    "    return quartili"
   ]
  },
  {
   "cell_type": "markdown",
   "metadata": {},
   "source": [
    "### cum freq --> quartili"
   ]
  },
  {
   "cell_type": "code",
   "execution_count": null,
   "metadata": {},
   "outputs": [],
   "source": [
    "def calc_median_dict(nums_copy, q):\n",
    "    nums = nums_copy.copy()\n",
    "    if q == 2:\n",
    "        for value, freq in nums.items():\n",
    "            if freq > 0.5:\n",
    "                median = value\n",
    "                return median\n",
    "    elif q == 1:\n",
    "        for value, freq in nums.items():\n",
    "            if freq > 0.25:\n",
    "                q1 = value\n",
    "                return q1\n",
    "    elif q == 3:\n",
    "        for value, freq in nums.items():\n",
    "            if freq > 0.75:\n",
    "                q3 = value\n",
    "                return q3\n",
    "\n",
    "\n",
    "def calc_quartili_dict(nums_copy):\n",
    "    nums = nums_copy.copy()\n",
    "    length = len(nums)\n",
    "    quartili = {}\n",
    "    key_nums = list(nums.keys())\n",
    "    quartili[\"Q0\"] = key_nums[0]\n",
    "    quartili[\"Q1\"] = calc_median_dict(nums, 1)\n",
    "    quartili[\"Q2\"] = calc_median_dict(nums, 2)\n",
    "    quartili[\"Q3\"] = calc_median_dict(nums, 3)\n",
    "    quartili[\"Q4\"] = key_nums[-1]\n",
    "    return quartili"
   ]
  },
  {
   "cell_type": "markdown",
   "metadata": {},
   "source": [
    "### nums/abs freq --> Avg"
   ]
  },
  {
   "cell_type": "code",
   "execution_count": null,
   "metadata": {},
   "outputs": [],
   "source": [
    "def calc_avg(nums_copy):\n",
    "    if type(nums_copy) == list:\n",
    "        nums = nums_copy.copy()\n",
    "        total_sum = sum(nums)\n",
    "        total_count = len(nums)\n",
    "        avg = total_sum / total_count\n",
    "        return avg\n",
    "    elif type(nums_copy) == dict:\n",
    "        total = sum(value * frequency for value, frequency in nums_copy.items())\n",
    "        length = sum(nums_copy.values())\n",
    "        return total / length"
   ]
  },
  {
   "cell_type": "markdown",
   "metadata": {},
   "source": [
    "### abs freq --> moda"
   ]
  },
  {
   "cell_type": "code",
   "execution_count": null,
   "metadata": {},
   "outputs": [],
   "source": [
    "def calc_moda(nums_copy):\n",
    "    nums = nums_copy.copy()\n",
    "    value_list = [i for i in nums_copy.values()]\n",
    "    max_value = max(value_list)\n",
    "    moda = {key: value for (key, value) in nums.items() if value == max_value}\n",
    "    return moda"
   ]
  },
  {
   "cell_type": "markdown",
   "metadata": {},
   "source": [
    "### abs freq --> CV, varianza, scart."
   ]
  },
  {
   "cell_type": "code",
   "execution_count": null,
   "metadata": {},
   "outputs": [],
   "source": [
    "from math import sqrt\n",
    "\n",
    "def calc_variabilita(nums_copy):\n",
    "    nums = nums_copy.copy()\n",
    "    media = calc_avg(nums)\n",
    "    devianza = 0\n",
    "    lenght = sum(nums.values())\n",
    "    for value, freq in nums.items():\n",
    "        valore = ((value - media) ** 2) * freq\n",
    "        devianza += valore\n",
    "    varianza = devianza / lenght\n",
    "    scarto_q_medio = sqrt(varianza)  \n",
    "    cv = (scarto_q_medio / media) * 100\n",
    "    return cv, varianza, scarto_q_medio"
   ]
  },
  {
   "cell_type": "markdown",
   "metadata": {},
   "source": [
    "### abs freq --> Fisher"
   ]
  },
  {
   "cell_type": "code",
   "execution_count": null,
   "metadata": {},
   "outputs": [],
   "source": [
    "def calc_asimmetria(nums_copy, media, n_tot):\n",
    "    nums = nums_copy.copy()\n",
    "    summ = 0\n",
    "    for value, freq in nums.items():\n",
    "        valore = ((value - media)**3)*freq\n",
    "        summ += valore\n",
    "    indice_asimm = summ / n_tot\n",
    "    result = calc_variabilita(nums_copy)\n",
    "    scarto_q_medio = result[2]\n",
    "    indice_fisher = indice_asimm / (scarto_q_medio**3)\n",
    "    return indice_fisher"
   ]
  },
  {
   "cell_type": "markdown",
   "metadata": {},
   "source": [
    "### abs freq --> scost mediana"
   ]
  },
  {
   "cell_type": "code",
   "execution_count": null,
   "metadata": {},
   "outputs": [],
   "source": [
    "def calc_scost_mediana_perc(nums_copy, mediana, n_tot):\n",
    "    nums = nums_copy.copy()\n",
    "    summ = 0\n",
    "    media = calc_avg(nums)\n",
    "    for value, freq in nums.items():\n",
    "        valore = abs(value - mediana)*freq\n",
    "        summ += valore\n",
    "    scost_mediana = summ / n_tot\n",
    "    scost_mediana_perc = (scost_mediana * 100) / media\n",
    "    return scost_mediana_perc"
   ]
  }
 ],
 "metadata": {
  "kernelspec": {
   "display_name": "base",
   "language": "python",
   "name": "python3"
  },
  "language_info": {
   "codemirror_mode": {
    "name": "ipython",
    "version": 3
   },
   "file_extension": ".py",
   "mimetype": "text/x-python",
   "name": "python",
   "nbconvert_exporter": "python",
   "pygments_lexer": "ipython3",
   "version": "3.11.5"
  }
 },
 "nbformat": 4,
 "nbformat_minor": 2
}
